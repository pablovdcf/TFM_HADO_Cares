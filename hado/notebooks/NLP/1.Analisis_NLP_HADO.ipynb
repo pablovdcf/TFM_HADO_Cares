{
  "cells": [
    {
      "cell_type": "markdown",
      "id": "77431c4f-5619-48a9-b63d-bba3757461e0",
      "metadata": {
        "noteable": {
          "cell_type": "markdown"
        }
      },
      "source": [
        "# Análisis de NLP en Datos Hospitalarios\n",
        "\n",
        "## Introducción\n",
        "Este notebook tiene como objetivo aplicar técnicas de Procesamiento del Lenguaje Natural (NLP) al dataset `hado_final.csv` para extraer insights que puedan ser útiles en el ámbito hospitalario. El análisis se centrará en las columnas que contienen datos de texto, como diagnósticos, motivos de ingreso y alta, entre otros.\n",
        "\n",
        "## Carga y Exploración Inicial de Datos\n",
        "El primer paso es cargar el conjunto de datos y realizar una exploración inicial para entender la estructura y el tipo de datos que contiene."
      ]
    },
    {
      "cell_type": "code",
      "execution_count": null,
      "id": "cefb0f02-a42c-4973-ba59-679f917bee50",
      "metadata": {
        "ExecuteTime": {
          "end_time": "2023-09-06T12:56:19.232981+00:00",
          "start_time": "2023-09-06T12:56:18.910979+00:00"
        },
        "datalink": {
          "56e4b28a-4ca9-438f-995e-b5da635f7e5b": {
            "applied_filters": [],
            "dataframe_info": {
              "default_index_used": true,
              "orig_num_cols": 1,
              "orig_num_rows": 5,
              "orig_size_bytes": 80,
              "truncated_num_cols": 1,
              "truncated_num_rows": 5,
              "truncated_size_bytes": 80,
              "truncated_string_columns": [
                "h_procedencia,hospital_category,s_procedencia,procedencia_category,diagnostico,diagnosis_category,motivo_ing,ingreso_category,motivo_alta,alta_category,fecha_alta,ap,n_estancias,n_visitas,paliativo_onc_noc,paliativo_no_onc_noc,fiebre,disnea,dolor,delirium,sedacion,p_terminal,agonia,ast_anorx,cronico_reag,trato_antibiotico,transfusion,paracentesis,agudo_estable,toracocentesis,fe_iv,ps_ecog,barthel,gds_fast,eva_ing,otros_complicaciones,otros,otros_1,otros_2,otros_category,categorized_combined_otros,tiene_sedacion,morfina,midazolam,buscapina,haloperidol,levomepromazina,medico,ayuntamiento,year"
              ]
            },
            "display_id": "56e4b28a-4ca9-438f-995e-b5da635f7e5b",
            "dx_settings": {
              "ALLOW_NOTEABLE_ATTRS": true,
              "COLUMN_SAMPLING_METHOD": "outer",
              "DB_LOCATION": ":memory:",
              "DEV_MODE": false,
              "DISPLAY_MAX_COLUMNS": 100,
              "DISPLAY_MAX_ROWS": 50000,
              "DISPLAY_MODE": "simple",
              "ENABLE_ASSIGNMENT": true,
              "ENABLE_DATALINK": true,
              "FLATTEN_COLUMN_VALUES": true,
              "FLATTEN_INDEX_VALUES": false,
              "GENERATE_DEX_METADATA": false,
              "HTML_TABLE_SCHEMA": false,
              "LOG_LEVEL": 30,
              "MAX_RENDER_SIZE_BYTES": 104857600,
              "MAX_STRING_LENGTH": 250,
              "NUM_PAST_SAMPLES_TRACKED": 3,
              "RANDOM_STATE": 12648430,
              "RESET_INDEX_VALUES": false,
              "ROW_SAMPLING_METHOD": "random",
              "SAMPLING_FACTOR": 0.1,
              "SAMPLING_METHOD": "random",
              "STRINGIFY_COLUMN_VALUES": true,
              "STRINGIFY_INDEX_VALUES": false
            },
            "sample_history": [],
            "sampling_time": "2023-09-06T08:09:28.444425",
            "user_variable_name": null,
            "variable_name": "unk_dataframe_51f9821e3b3b4dac98f522c337d7eae5"
          },
          "82987f4a-9c5c-4d0e-8472-b90f146244cd": {
            "applied_filters": [],
            "dataframe_info": {
              "default_index_used": true,
              "orig_num_cols": 50,
              "orig_num_rows": 5,
              "orig_size_bytes": 2040,
              "truncated_num_cols": 50,
              "truncated_num_rows": 5,
              "truncated_size_bytes": 2040,
              "truncated_string_columns": []
            },
            "display_id": "82987f4a-9c5c-4d0e-8472-b90f146244cd",
            "dx_settings": {
              "ALLOW_NOTEABLE_ATTRS": true,
              "COLUMN_SAMPLING_METHOD": "outer",
              "DB_LOCATION": ":memory:",
              "DEV_MODE": false,
              "DISPLAY_MAX_COLUMNS": 100,
              "DISPLAY_MAX_ROWS": 50000,
              "DISPLAY_MODE": "simple",
              "ENABLE_ASSIGNMENT": true,
              "ENABLE_DATALINK": true,
              "FLATTEN_COLUMN_VALUES": true,
              "FLATTEN_INDEX_VALUES": false,
              "GENERATE_DEX_METADATA": false,
              "HTML_TABLE_SCHEMA": false,
              "LOG_LEVEL": 30,
              "MAX_RENDER_SIZE_BYTES": 104857600,
              "MAX_STRING_LENGTH": 250,
              "NUM_PAST_SAMPLES_TRACKED": 3,
              "RANDOM_STATE": 12648430,
              "RESET_INDEX_VALUES": false,
              "ROW_SAMPLING_METHOD": "random",
              "SAMPLING_FACTOR": 0.1,
              "SAMPLING_METHOD": "random",
              "STRINGIFY_COLUMN_VALUES": true,
              "STRINGIFY_INDEX_VALUES": false
            },
            "sample_history": [],
            "sampling_time": "2023-09-06T12:56:19.060860",
            "user_variable_name": null,
            "variable_name": "unk_dataframe_ed2c6747f5ae4ac98242327c4799cd31"
          },
          "faccce00-b805-4b72-9471-d9ec8fea933a": {
            "applied_filters": [],
            "dataframe_info": {
              "default_index_used": true,
              "orig_num_cols": 50,
              "orig_num_rows": 5,
              "orig_size_bytes": 2040,
              "truncated_num_cols": 50,
              "truncated_num_rows": 5,
              "truncated_size_bytes": 2040,
              "truncated_string_columns": []
            },
            "display_id": "faccce00-b805-4b72-9471-d9ec8fea933a",
            "dx_settings": {
              "ALLOW_NOTEABLE_ATTRS": true,
              "COLUMN_SAMPLING_METHOD": "outer",
              "DB_LOCATION": ":memory:",
              "DEV_MODE": false,
              "DISPLAY_MAX_COLUMNS": 100,
              "DISPLAY_MAX_ROWS": 50000,
              "DISPLAY_MODE": "simple",
              "ENABLE_ASSIGNMENT": true,
              "ENABLE_DATALINK": true,
              "FLATTEN_COLUMN_VALUES": true,
              "FLATTEN_INDEX_VALUES": false,
              "GENERATE_DEX_METADATA": false,
              "HTML_TABLE_SCHEMA": false,
              "LOG_LEVEL": 30,
              "MAX_RENDER_SIZE_BYTES": 104857600,
              "MAX_STRING_LENGTH": 250,
              "NUM_PAST_SAMPLES_TRACKED": 3,
              "RANDOM_STATE": 12648430,
              "RESET_INDEX_VALUES": false,
              "ROW_SAMPLING_METHOD": "random",
              "SAMPLING_FACTOR": 0.1,
              "SAMPLING_METHOD": "random",
              "STRINGIFY_COLUMN_VALUES": true,
              "STRINGIFY_INDEX_VALUES": false
            },
            "sample_history": [],
            "sampling_time": "2023-09-06T08:09:35.898216",
            "user_variable_name": null,
            "variable_name": "unk_dataframe_b24f2f7b89864347a7880b521237fcd6"
          }
        },
        "noteable": {
          "cell_type": "code",
          "output_collection_id": "f8ef7901-5f5c-4ec9-86c5-7c60dceae015"
        }
      },
      "outputs": [],
      "source": [
        "# Importar las bibliotecas necesarias\n",
        "import pandas as pd\n",
        "import numpy as np\n",
        "\n",
        "# Cargar el conjunto de datos\n",
        "hado_data = pd.read_csv('hado_final.csv', sep=',')\n",
        "\n",
        "# Inspeccionar las primeras filas del conjunto de datos\n",
        "hado_data.head()"
      ]
    },
    {
      "cell_type": "markdown",
      "id": "a28f3792-3bf0-4fb7-86fa-d6f91ebbb69a",
      "metadata": {
        "noteable": {
          "cell_type": "markdown"
        }
      },
      "source": [
        "## Exploración Inicial de Datos\n",
        "\n",
        "Ahora que hemos cargado el conjunto de datos, el siguiente paso es realizar una exploración inicial. Esto nos permitirá identificar qué columnas contienen datos de texto que podrían beneficiarse de técnicas de NLP.\n",
        "\n",
        "Empezaremos por obtener un resumen estadístico del conjunto de datos y examinar los tipos de datos de cada columna."
      ]
    },
    {
      "cell_type": "code",
      "execution_count": null,
      "id": "a7ac11a7-db7d-4336-82f7-de69810dc757",
      "metadata": {
        "ExecuteTime": {
          "end_time": "2023-09-06T12:56:19.524268+00:00",
          "start_time": "2023-09-06T12:56:19.237910+00:00"
        },
        "datalink": {
          "17641d03-d314-4561-9b74-f4074d5ef858": {
            "applied_filters": [],
            "dataframe_info": {
              "default_index_used": false,
              "orig_num_cols": 1,
              "orig_num_rows": 50,
              "orig_size_bytes": 800,
              "truncated_num_cols": 1,
              "truncated_num_rows": 50,
              "truncated_size_bytes": 800,
              "truncated_string_columns": []
            },
            "display_id": "17641d03-d314-4561-9b74-f4074d5ef858",
            "dx_settings": {
              "ALLOW_NOTEABLE_ATTRS": true,
              "COLUMN_SAMPLING_METHOD": "outer",
              "DB_LOCATION": ":memory:",
              "DEV_MODE": false,
              "DISPLAY_MAX_COLUMNS": 100,
              "DISPLAY_MAX_ROWS": 50000,
              "DISPLAY_MODE": "simple",
              "ENABLE_ASSIGNMENT": true,
              "ENABLE_DATALINK": true,
              "FLATTEN_COLUMN_VALUES": true,
              "FLATTEN_INDEX_VALUES": false,
              "GENERATE_DEX_METADATA": false,
              "HTML_TABLE_SCHEMA": false,
              "LOG_LEVEL": 30,
              "MAX_RENDER_SIZE_BYTES": 104857600,
              "MAX_STRING_LENGTH": 250,
              "NUM_PAST_SAMPLES_TRACKED": 3,
              "RANDOM_STATE": 12648430,
              "RESET_INDEX_VALUES": false,
              "ROW_SAMPLING_METHOD": "random",
              "SAMPLING_FACTOR": 0.1,
              "SAMPLING_METHOD": "random",
              "STRINGIFY_COLUMN_VALUES": true,
              "STRINGIFY_INDEX_VALUES": false
            },
            "sample_history": [],
            "sampling_time": "2023-09-06T08:10:57.441096",
            "user_variable_name": null,
            "variable_name": "unk_dataframe_63999c036fcc4a1db03ec12def48d90c"
          },
          "4bc7fe61-2274-4f5d-9ec5-1d715bd93d1f": {
            "applied_filters": [],
            "dataframe_info": {
              "default_index_used": false,
              "orig_num_cols": 11,
              "orig_num_rows": 50,
              "orig_size_bytes": 4800,
              "truncated_num_cols": 11,
              "truncated_num_rows": 50,
              "truncated_size_bytes": 4800,
              "truncated_string_columns": []
            },
            "display_id": "4bc7fe61-2274-4f5d-9ec5-1d715bd93d1f",
            "dx_settings": {
              "ALLOW_NOTEABLE_ATTRS": true,
              "COLUMN_SAMPLING_METHOD": "outer",
              "DB_LOCATION": ":memory:",
              "DEV_MODE": false,
              "DISPLAY_MAX_COLUMNS": 100,
              "DISPLAY_MAX_ROWS": 50000,
              "DISPLAY_MODE": "simple",
              "ENABLE_ASSIGNMENT": true,
              "ENABLE_DATALINK": true,
              "FLATTEN_COLUMN_VALUES": true,
              "FLATTEN_INDEX_VALUES": false,
              "GENERATE_DEX_METADATA": false,
              "HTML_TABLE_SCHEMA": false,
              "LOG_LEVEL": 30,
              "MAX_RENDER_SIZE_BYTES": 104857600,
              "MAX_STRING_LENGTH": 250,
              "NUM_PAST_SAMPLES_TRACKED": 3,
              "RANDOM_STATE": 12648430,
              "RESET_INDEX_VALUES": false,
              "ROW_SAMPLING_METHOD": "random",
              "SAMPLING_FACTOR": 0.1,
              "SAMPLING_METHOD": "random",
              "STRINGIFY_COLUMN_VALUES": true,
              "STRINGIFY_INDEX_VALUES": false
            },
            "sample_history": [],
            "sampling_time": "2023-09-06T08:11:43.624924",
            "user_variable_name": null,
            "variable_name": "unk_dataframe_2cb759c6c5b446a99bae0fe40d53c9c5"
          },
          "71bd50fe-8891-4ef1-a88e-b7938225fbfc": {
            "applied_filters": [],
            "dataframe_info": {
              "default_index_used": false,
              "orig_num_cols": 50,
              "orig_num_rows": 11,
              "orig_size_bytes": 4488,
              "truncated_num_cols": 50,
              "truncated_num_rows": 11,
              "truncated_size_bytes": 4488,
              "truncated_string_columns": []
            },
            "display_id": "71bd50fe-8891-4ef1-a88e-b7938225fbfc",
            "dx_settings": {
              "ALLOW_NOTEABLE_ATTRS": true,
              "COLUMN_SAMPLING_METHOD": "outer",
              "DB_LOCATION": ":memory:",
              "DEV_MODE": false,
              "DISPLAY_MAX_COLUMNS": 100,
              "DISPLAY_MAX_ROWS": 50000,
              "DISPLAY_MODE": "simple",
              "ENABLE_ASSIGNMENT": true,
              "ENABLE_DATALINK": true,
              "FLATTEN_COLUMN_VALUES": true,
              "FLATTEN_INDEX_VALUES": false,
              "GENERATE_DEX_METADATA": false,
              "HTML_TABLE_SCHEMA": false,
              "LOG_LEVEL": 30,
              "MAX_RENDER_SIZE_BYTES": 104857600,
              "MAX_STRING_LENGTH": 250,
              "NUM_PAST_SAMPLES_TRACKED": 3,
              "RANDOM_STATE": 12648430,
              "RESET_INDEX_VALUES": false,
              "ROW_SAMPLING_METHOD": "random",
              "SAMPLING_FACTOR": 0.1,
              "SAMPLING_METHOD": "random",
              "STRINGIFY_COLUMN_VALUES": true,
              "STRINGIFY_INDEX_VALUES": false
            },
            "sample_history": [],
            "sampling_time": "2023-09-06T08:11:31.395231",
            "user_variable_name": null,
            "variable_name": "unk_dataframe_63c71e96172746abbae61b4923683faa"
          },
          "9b5b740f-a4dc-478a-b6cb-6a5618705dc1": {
            "applied_filters": [],
            "dataframe_info": {
              "default_index_used": false,
              "orig_num_cols": 11,
              "orig_num_rows": 50,
              "orig_size_bytes": 4800,
              "truncated_num_cols": 11,
              "truncated_num_rows": 50,
              "truncated_size_bytes": 4800,
              "truncated_string_columns": []
            },
            "display_id": "9b5b740f-a4dc-478a-b6cb-6a5618705dc1",
            "dx_settings": {
              "ALLOW_NOTEABLE_ATTRS": true,
              "COLUMN_SAMPLING_METHOD": "outer",
              "DB_LOCATION": ":memory:",
              "DEV_MODE": false,
              "DISPLAY_MAX_COLUMNS": 100,
              "DISPLAY_MAX_ROWS": 50000,
              "DISPLAY_MODE": "simple",
              "ENABLE_ASSIGNMENT": true,
              "ENABLE_DATALINK": true,
              "FLATTEN_COLUMN_VALUES": true,
              "FLATTEN_INDEX_VALUES": false,
              "GENERATE_DEX_METADATA": false,
              "HTML_TABLE_SCHEMA": false,
              "LOG_LEVEL": 30,
              "MAX_RENDER_SIZE_BYTES": 104857600,
              "MAX_STRING_LENGTH": 250,
              "NUM_PAST_SAMPLES_TRACKED": 3,
              "RANDOM_STATE": 12648430,
              "RESET_INDEX_VALUES": false,
              "ROW_SAMPLING_METHOD": "random",
              "SAMPLING_FACTOR": 0.1,
              "SAMPLING_METHOD": "random",
              "STRINGIFY_COLUMN_VALUES": true,
              "STRINGIFY_INDEX_VALUES": false
            },
            "sample_history": [],
            "sampling_time": "2023-09-06T12:56:19.362544",
            "user_variable_name": null,
            "variable_name": "unk_dataframe_7592461903e64422a0f57617c08bc745"
          }
        },
        "noteable": {
          "cell_type": "code",
          "output_collection_id": "15510c16-d738-4fd4-b635-01587acfeb5c"
        }
      },
      "outputs": [],
      "source": [
        "# Obtener un resumen estadístico del conjunto de datos\n",
        "hado_data.describe(include='all').T"
      ]
    },
    {
      "cell_type": "code",
      "execution_count": null,
      "id": "a2f11172-fc13-4800-af4d-44bdf0b8023d",
      "metadata": {
        "ExecuteTime": {
          "end_time": "2023-09-06T12:56:19.723580+00:00",
          "start_time": "2023-09-06T12:56:19.529405+00:00"
        },
        "datalink": {
          "2f504084-60d5-4391-916a-ae855f2bc5aa": {
            "applied_filters": [],
            "dataframe_info": {
              "default_index_used": false,
              "orig_num_cols": 1,
              "orig_num_rows": 50,
              "orig_size_bytes": 800,
              "truncated_num_cols": 1,
              "truncated_num_rows": 50,
              "truncated_size_bytes": 800,
              "truncated_string_columns": []
            },
            "display_id": "2f504084-60d5-4391-916a-ae855f2bc5aa",
            "dx_settings": {
              "ALLOW_NOTEABLE_ATTRS": true,
              "COLUMN_SAMPLING_METHOD": "outer",
              "DB_LOCATION": ":memory:",
              "DEV_MODE": false,
              "DISPLAY_MAX_COLUMNS": 100,
              "DISPLAY_MAX_ROWS": 50000,
              "DISPLAY_MODE": "simple",
              "ENABLE_ASSIGNMENT": true,
              "ENABLE_DATALINK": true,
              "FLATTEN_COLUMN_VALUES": true,
              "FLATTEN_INDEX_VALUES": false,
              "GENERATE_DEX_METADATA": false,
              "HTML_TABLE_SCHEMA": false,
              "LOG_LEVEL": 30,
              "MAX_RENDER_SIZE_BYTES": 104857600,
              "MAX_STRING_LENGTH": 250,
              "NUM_PAST_SAMPLES_TRACKED": 3,
              "RANDOM_STATE": 12648430,
              "RESET_INDEX_VALUES": false,
              "ROW_SAMPLING_METHOD": "random",
              "SAMPLING_FACTOR": 0.1,
              "SAMPLING_METHOD": "random",
              "STRINGIFY_COLUMN_VALUES": true,
              "STRINGIFY_INDEX_VALUES": false
            },
            "sample_history": [],
            "sampling_time": "2023-09-06T12:56:19.565765",
            "user_variable_name": null,
            "variable_name": "unk_dataframe_69487c43cb2542499ff86dc8a53f4a6c"
          },
          "890fc648-c97b-41a6-b3a2-23b3e4953179": {
            "applied_filters": [],
            "dataframe_info": {
              "default_index_used": false,
              "orig_num_cols": 1,
              "orig_num_rows": 50,
              "orig_size_bytes": 800,
              "truncated_num_cols": 1,
              "truncated_num_rows": 50,
              "truncated_size_bytes": 800,
              "truncated_string_columns": []
            },
            "display_id": "890fc648-c97b-41a6-b3a2-23b3e4953179",
            "dx_settings": {
              "ALLOW_NOTEABLE_ATTRS": true,
              "COLUMN_SAMPLING_METHOD": "outer",
              "DB_LOCATION": ":memory:",
              "DEV_MODE": false,
              "DISPLAY_MAX_COLUMNS": 100,
              "DISPLAY_MAX_ROWS": 50000,
              "DISPLAY_MODE": "simple",
              "ENABLE_ASSIGNMENT": true,
              "ENABLE_DATALINK": true,
              "FLATTEN_COLUMN_VALUES": true,
              "FLATTEN_INDEX_VALUES": false,
              "GENERATE_DEX_METADATA": false,
              "HTML_TABLE_SCHEMA": false,
              "LOG_LEVEL": 30,
              "MAX_RENDER_SIZE_BYTES": 104857600,
              "MAX_STRING_LENGTH": 250,
              "NUM_PAST_SAMPLES_TRACKED": 3,
              "RANDOM_STATE": 12648430,
              "RESET_INDEX_VALUES": false,
              "ROW_SAMPLING_METHOD": "random",
              "SAMPLING_FACTOR": 0.1,
              "SAMPLING_METHOD": "random",
              "STRINGIFY_COLUMN_VALUES": true,
              "STRINGIFY_INDEX_VALUES": false
            },
            "sample_history": [],
            "sampling_time": "2023-09-06T08:11:37.095776",
            "user_variable_name": null,
            "variable_name": "unk_dataframe_ba6a5bbade7347de8be7e1ab5b725ae9"
          }
        },
        "jupyter": {
          "outputs_hidden": false,
          "source_hidden": false
        },
        "noteable": {
          "cell_type": "code",
          "output_collection_id": "a9a3a216-efe3-4552-95eb-fd5d1b412083"
        }
      },
      "outputs": [],
      "source": [
        "# Examinar los tipos de datos de cada columna\n",
        "hado_data.dtypes"
      ]
    },
    {
      "cell_type": "markdown",
      "id": "aa29ce24-09e9-424b-919a-a5fbed362bc1",
      "metadata": {
        "noteable": {
          "cell_type": "markdown"
        }
      },
      "source": [
        "## Selección de Columnas y Preparación de Datos\n",
        "\n",
        "Con la exploración inicial completa, podemos identificar las columnas que contienen datos de texto y que son candidatas para aplicar técnicas de NLP. Estas columnas suelen contener información como diagnósticos, motivos de ingreso y alta, entre otros.\n",
        "\n",
        "El siguiente paso es preparar estos datos para el análisis de NLP. Esto puede incluir tareas como la limpieza de texto, la eliminación de caracteres especiales y la tokenización."
      ]
    },
    {
      "cell_type": "markdown",
      "id": "bce532c9-2615-40de-825f-19d691c7840c",
      "metadata": {
        "noteable": {
          "cell_type": "markdown"
        }
      },
      "source": [
        "## Limpieza y Preprocesamiento de Texto\n",
        "\n",
        "Antes de aplicar cualquier técnica de NLP, es crucial preparar y limpiar los datos de texto. Esto asegura que el modelo pueda entender los datos de manera efectiva. Los pasos comunes en la limpieza de texto incluyen:\n",
        "\n",
        "- Convertir todo el texto a minúsculas.\n",
        "- Eliminar caracteres especiales y números.\n",
        "- Tokenización: dividir el texto en palabras o tokens.\n",
        "\n",
        "Empezaremos por aplicar estos pasos a las columnas seleccionadas."
      ]
    },
    {
      "cell_type": "code",
      "execution_count": null,
      "id": "cc7ac4a7-a159-4935-9f29-9eae72985de5",
      "metadata": {
        "ExecuteTime": {
          "end_time": "2023-09-06T12:57:30.297552+00:00",
          "start_time": "2023-09-06T12:57:24.195308+00:00"
        },
        "datalink": {
          "5b7ded91-0ef0-42ca-a9c0-fa79d2a76791": {
            "applied_filters": [],
            "dataframe_info": {
              "default_index_used": true,
              "orig_num_cols": 3,
              "orig_num_rows": 5,
              "orig_size_bytes": 160,
              "truncated_num_cols": 3,
              "truncated_num_rows": 5,
              "truncated_size_bytes": 160,
              "truncated_string_columns": []
            },
            "display_id": "5b7ded91-0ef0-42ca-a9c0-fa79d2a76791",
            "dx_settings": {
              "ALLOW_NOTEABLE_ATTRS": true,
              "COLUMN_SAMPLING_METHOD": "outer",
              "DB_LOCATION": ":memory:",
              "DEV_MODE": false,
              "DISPLAY_MAX_COLUMNS": 100,
              "DISPLAY_MAX_ROWS": 50000,
              "DISPLAY_MODE": "simple",
              "ENABLE_ASSIGNMENT": true,
              "ENABLE_DATALINK": true,
              "FLATTEN_COLUMN_VALUES": true,
              "FLATTEN_INDEX_VALUES": false,
              "GENERATE_DEX_METADATA": false,
              "HTML_TABLE_SCHEMA": false,
              "LOG_LEVEL": 30,
              "MAX_RENDER_SIZE_BYTES": 104857600,
              "MAX_STRING_LENGTH": 250,
              "NUM_PAST_SAMPLES_TRACKED": 3,
              "RANDOM_STATE": 12648430,
              "RESET_INDEX_VALUES": false,
              "ROW_SAMPLING_METHOD": "random",
              "SAMPLING_FACTOR": 0.1,
              "SAMPLING_METHOD": "random",
              "STRINGIFY_COLUMN_VALUES": true,
              "STRINGIFY_INDEX_VALUES": false
            },
            "sample_history": [],
            "sampling_time": "2023-09-06T12:57:30.138118",
            "user_variable_name": null,
            "variable_name": "unk_dataframe_185f37759c56459e8c1d9a21bdb2cef7"
          },
          "d871ffc6-24ff-48fe-ad2f-31f8b477daff": {
            "applied_filters": [],
            "dataframe_info": {
              "default_index_used": true,
              "orig_num_cols": 3,
              "orig_num_rows": 5,
              "orig_size_bytes": 160,
              "truncated_num_cols": 3,
              "truncated_num_rows": 5,
              "truncated_size_bytes": 160,
              "truncated_string_columns": []
            },
            "display_id": "d871ffc6-24ff-48fe-ad2f-31f8b477daff",
            "dx_settings": {
              "ALLOW_NOTEABLE_ATTRS": true,
              "COLUMN_SAMPLING_METHOD": "outer",
              "DB_LOCATION": ":memory:",
              "DEV_MODE": false,
              "DISPLAY_MAX_COLUMNS": 100,
              "DISPLAY_MAX_ROWS": 50000,
              "DISPLAY_MODE": "simple",
              "ENABLE_ASSIGNMENT": true,
              "ENABLE_DATALINK": true,
              "FLATTEN_COLUMN_VALUES": true,
              "FLATTEN_INDEX_VALUES": false,
              "GENERATE_DEX_METADATA": false,
              "HTML_TABLE_SCHEMA": false,
              "LOG_LEVEL": 30,
              "MAX_RENDER_SIZE_BYTES": 104857600,
              "MAX_STRING_LENGTH": 250,
              "NUM_PAST_SAMPLES_TRACKED": 3,
              "RANDOM_STATE": 12648430,
              "RESET_INDEX_VALUES": false,
              "ROW_SAMPLING_METHOD": "random",
              "SAMPLING_FACTOR": 0.1,
              "SAMPLING_METHOD": "random",
              "STRINGIFY_COLUMN_VALUES": true,
              "STRINGIFY_INDEX_VALUES": false
            },
            "sample_history": [],
            "sampling_time": "2023-09-06T08:20:41.665725",
            "user_variable_name": null,
            "variable_name": "unk_dataframe_87c37bee4ee9480bb7ec15d19da18224"
          },
          "eb307709-cce3-46e4-9c95-e4f7938dfd70": {
            "applied_filters": [],
            "dataframe_info": {
              "default_index_used": true,
              "orig_num_cols": 3,
              "orig_num_rows": 5,
              "orig_size_bytes": 160,
              "truncated_num_cols": 3,
              "truncated_num_rows": 5,
              "truncated_size_bytes": 160,
              "truncated_string_columns": []
            },
            "display_id": "eb307709-cce3-46e4-9c95-e4f7938dfd70",
            "dx_settings": {
              "ALLOW_NOTEABLE_ATTRS": true,
              "COLUMN_SAMPLING_METHOD": "outer",
              "DB_LOCATION": ":memory:",
              "DEV_MODE": false,
              "DISPLAY_MAX_COLUMNS": 100,
              "DISPLAY_MAX_ROWS": 50000,
              "DISPLAY_MODE": "simple",
              "ENABLE_ASSIGNMENT": true,
              "ENABLE_DATALINK": true,
              "FLATTEN_COLUMN_VALUES": true,
              "FLATTEN_INDEX_VALUES": false,
              "GENERATE_DEX_METADATA": false,
              "HTML_TABLE_SCHEMA": false,
              "LOG_LEVEL": 30,
              "MAX_RENDER_SIZE_BYTES": 104857600,
              "MAX_STRING_LENGTH": 250,
              "NUM_PAST_SAMPLES_TRACKED": 3,
              "RANDOM_STATE": 12648430,
              "RESET_INDEX_VALUES": false,
              "ROW_SAMPLING_METHOD": "random",
              "SAMPLING_FACTOR": 0.1,
              "SAMPLING_METHOD": "random",
              "STRINGIFY_COLUMN_VALUES": true,
              "STRINGIFY_INDEX_VALUES": false
            },
            "sample_history": [],
            "sampling_time": "2023-09-06T08:20:20.926942",
            "user_variable_name": null,
            "variable_name": "unk_dataframe_d29d5e06ff854db29bfb0e051594fe91"
          }
        },
        "noteable": {
          "cell_type": "code",
          "output_collection_id": "6e9529f7-61a6-4a4b-8585-586887062714"
        }
      },
      "outputs": [],
      "source": [
        "# Importar las bibliotecas necesarias para el preprocesamiento de texto\n",
        "import re\n",
        "%pip install nltk\n",
        "import nltk\n",
        "nltk.download('punkt')\n",
        "from nltk.corpus import stopwords\n",
        "nltk.download('stopwords')\n",
        "from nltk.tokenize import word_tokenize\n",
        "\n",
        "# Función para limpiar y preprocesar el texto\n",
        "def clean_text(text):\n",
        "    text = text.lower()  # Convertir a minúsculas\n",
        "    text = re.sub(r'[^a-zA-Z]', ' ', text)  # Eliminar caracteres especiales y números\n",
        "    words = word_tokenize(text)  # Tokenización\n",
        "    words = [word for word in words if word not in stopwords.words('spanish')]  # Eliminar stopwords\n",
        "    return ' '.join(words)\n",
        "\n",
        "# Aplicar la limpieza de texto a las columnas seleccionadas (por ejemplo, 'diagnostico', 'motivo_ing', 'motivo_alta')\n",
        "text_columns = ['diagnostico', 'motivo_ing', 'motivo_alta']\n",
        "for col in text_columns:\n",
        "    hado_data[col] = hado_data[col].astype(str).apply(clean_text)\n",
        "\n",
        "# Inspeccionar las primeras filas para verificar la limpieza\n",
        "hado_data[text_columns].head()"
      ]
    },
    {
      "cell_type": "markdown",
      "id": "24c85cac-9676-47ab-8f51-2f6718e8d1fd",
      "metadata": {
        "noteable": {
          "cell_type": "markdown"
        }
      },
      "source": [
        "## Análisis de NLP\n",
        "\n",
        "Con los datos de texto limpios y preprocesados, estamos listos para aplicar técnicas de NLP. En este análisis, exploraremos las siguientes técnicas:\n",
        "\n",
        "- **Análisis de Frecuencia de Palabras**: Identificar las palabras más comunes en cada columna de texto.\n",
        "- **Análisis de Sentimiento**: Aunque este enfoque es más común en reseñas y comentarios, podría ofrecer alguna intuición en el contexto hospitalario.\n",
        "- **Clustering**: Agrupar registros similares basados en el texto.\n",
        "\n",
        "Empezaremos con el Análisis de Frecuencia de Palabras."
      ]
    },
    {
      "cell_type": "code",
      "execution_count": null,
      "id": "bf8f0e5d-4667-4c1c-820f-4bff2027a004",
      "metadata": {
        "ExecuteTime": {
          "end_time": "2023-09-06T12:57:40.277905+00:00",
          "start_time": "2023-09-06T12:57:39.161843+00:00"
        },
        "noteable": {
          "cell_type": "code",
          "output_collection_id": "2fee5599-5dcb-4d65-8edf-d3dda05c0c0e"
        }
      },
      "outputs": [],
      "source": [
        "# Importar las bibliotecas necesarias para el análisis de NLP\n",
        "from collections import Counter\n",
        "import matplotlib.pyplot as plt\n",
        "\n",
        "# Función para realizar el análisis de frecuencia de palabras\n",
        "def word_frequency_analysis(column):\n",
        "    words = ' '.join(column).split()\n",
        "    word_freq = Counter(words)\n",
        "    common_words = word_freq.most_common(10)\n",
        "\n",
        "    # Visualizar las palabras más comunes\n",
        "    words, frequencies = zip(*common_words)\n",
        "    plt.figure(figsize=(10, 5))\n",
        "    plt.barh(words, frequencies, color='skyblue')\n",
        "    plt.xlabel('Frecuencia')\n",
        "    plt.title('Palabras más comunes')\n",
        "    plt.show()\n",
        "\n",
        "# Realizar el análisis de frecuencia de palabras para las columnas seleccionadas\n",
        "for col in text_columns:\n",
        "    print(f'Análisis de frecuencia de palabras para la columna {col}')\n",
        "    word_frequency_analysis(hado_data[col])"
      ]
    },
    {
      "cell_type": "markdown",
      "id": "abcadabc-c830-4cbf-a8b4-d92ad556d335",
      "metadata": {
        "noteable": {
          "cell_type": "markdown"
        }
      },
      "source": [
        "## Clustering de Texto\n",
        "\n",
        "Después de realizar el análisis de frecuencia de palabras, el siguiente paso es agrupar registros similares basados en el texto. Esto se conoce como clustering de texto y es útil para identificar patrones o temas comunes en un conjunto de datos de texto.\n",
        "\n",
        "Para este análisis, utilizaremos el algoritmo K-means. Antes de aplicar el algoritmo, necesitamos convertir el texto en un formato que el modelo pueda entender. Utilizaremos la técnica de Bolsa de Palabras (BoW) para esta conversión."
      ]
    },
    {
      "cell_type": "code",
      "execution_count": null,
      "id": "7fe86726-80d3-484d-97d3-9896d05d957a",
      "metadata": {
        "ExecuteTime": {
          "end_time": "2023-09-06T12:57:41.141626+00:00",
          "start_time": "2023-09-06T12:57:40.465450+00:00"
        },
        "datalink": {
          "77c06c2a-1a6b-4046-b844-d0326556415f": {
            "applied_filters": [],
            "dataframe_info": {
              "default_index_used": true,
              "orig_num_cols": 3,
              "orig_num_rows": 5,
              "orig_size_bytes": 100,
              "truncated_num_cols": 3,
              "truncated_num_rows": 5,
              "truncated_size_bytes": 100,
              "truncated_string_columns": []
            },
            "display_id": "77c06c2a-1a6b-4046-b844-d0326556415f",
            "dx_settings": {
              "ALLOW_NOTEABLE_ATTRS": true,
              "COLUMN_SAMPLING_METHOD": "outer",
              "DB_LOCATION": ":memory:",
              "DEV_MODE": false,
              "DISPLAY_MAX_COLUMNS": 100,
              "DISPLAY_MAX_ROWS": 50000,
              "DISPLAY_MODE": "simple",
              "ENABLE_ASSIGNMENT": true,
              "ENABLE_DATALINK": true,
              "FLATTEN_COLUMN_VALUES": true,
              "FLATTEN_INDEX_VALUES": false,
              "GENERATE_DEX_METADATA": false,
              "HTML_TABLE_SCHEMA": false,
              "LOG_LEVEL": 30,
              "MAX_RENDER_SIZE_BYTES": 104857600,
              "MAX_STRING_LENGTH": 250,
              "NUM_PAST_SAMPLES_TRACKED": 3,
              "RANDOM_STATE": 12648430,
              "RESET_INDEX_VALUES": false,
              "ROW_SAMPLING_METHOD": "random",
              "SAMPLING_FACTOR": 0.1,
              "SAMPLING_METHOD": "random",
              "STRINGIFY_COLUMN_VALUES": true,
              "STRINGIFY_INDEX_VALUES": false
            },
            "sample_history": [],
            "sampling_time": "2023-09-06T08:26:00.208736",
            "user_variable_name": null,
            "variable_name": "unk_dataframe_e441130e2ef54e44bb521e4212836060"
          },
          "e5a5df5e-9cf3-4e06-b72f-c8cce2766657": {
            "applied_filters": [],
            "dataframe_info": {
              "default_index_used": true,
              "orig_num_cols": 3,
              "orig_num_rows": 5,
              "orig_size_bytes": 100,
              "truncated_num_cols": 3,
              "truncated_num_rows": 5,
              "truncated_size_bytes": 100,
              "truncated_string_columns": []
            },
            "display_id": "e5a5df5e-9cf3-4e06-b72f-c8cce2766657",
            "dx_settings": {
              "ALLOW_NOTEABLE_ATTRS": true,
              "COLUMN_SAMPLING_METHOD": "outer",
              "DB_LOCATION": ":memory:",
              "DEV_MODE": false,
              "DISPLAY_MAX_COLUMNS": 100,
              "DISPLAY_MAX_ROWS": 50000,
              "DISPLAY_MODE": "simple",
              "ENABLE_ASSIGNMENT": true,
              "ENABLE_DATALINK": true,
              "FLATTEN_COLUMN_VALUES": true,
              "FLATTEN_INDEX_VALUES": false,
              "GENERATE_DEX_METADATA": false,
              "HTML_TABLE_SCHEMA": false,
              "LOG_LEVEL": 30,
              "MAX_RENDER_SIZE_BYTES": 104857600,
              "MAX_STRING_LENGTH": 250,
              "NUM_PAST_SAMPLES_TRACKED": 3,
              "RANDOM_STATE": 12648430,
              "RESET_INDEX_VALUES": false,
              "ROW_SAMPLING_METHOD": "random",
              "SAMPLING_FACTOR": 0.1,
              "SAMPLING_METHOD": "random",
              "STRINGIFY_COLUMN_VALUES": true,
              "STRINGIFY_INDEX_VALUES": false
            },
            "sample_history": [],
            "sampling_time": "2023-09-06T12:57:40.980703",
            "user_variable_name": null,
            "variable_name": "unk_dataframe_49eaf01bee264073bfe2194fe86c93da"
          }
        },
        "dx": {
          "dashboard": {
            "multiViews": []
          },
          "fieldMetadata": {},
          "updated": 1693988813974,
          "views": [
            {
              "annotationRules": [],
              "chart": {},
              "chartMode": "grid",
              "confoRules": [],
              "decoration": {
                "footer": "",
                "subtitle": "",
                "title": "Table"
              },
              "facets": [],
              "filterSettings": {
                "SHOW_FILTER_PANEL": true,
                "filters": []
              },
              "id": "first-view",
              "isDefault": true,
              "type": "public",
              "userID": ""
            },
            {
              "annotationRules": [],
              "chart": {
                "facets": []
              },
              "chartMode": "grid",
              "confoRules": [],
              "decoration": {
                "footer": "",
                "subtitle": "",
                "title": "Table"
              },
              "facets": [],
              "filterSettings": {
                "SHOW_FILTER_PANEL": true,
                "filters": []
              },
              "id": "first-view",
              "isDefault": true,
              "isTransitory": true,
              "type": "public",
              "userID": ""
            }
          ]
        },
        "noteable": {
          "cell_type": "code",
          "output_collection_id": "594b1bd6-4002-4698-95fc-8530ac03dd93"
        }
      },
      "outputs": [],
      "source": [
        "# Importar las bibliotecas necesarias para el clustering\n",
        "from sklearn.feature_extraction.text import CountVectorizer\n",
        "from sklearn.cluster import KMeans\n",
        "\n",
        "# Función para realizar clustering de texto\n",
        "def text_clustering(column, n_clusters=3):\n",
        "    vectorizer = CountVectorizer()\n",
        "    X = vectorizer.fit_transform(column)\n",
        "\n",
        "    # Aplicar el algoritmo K-means\n",
        "    kmeans = KMeans(n_clusters=n_clusters, random_state=0)\n",
        "    kmeans.fit(X)\n",
        "\n",
        "    # Asignar las etiquetas de cluster al conjunto de datos\n",
        "    labels = kmeans.labels_\n",
        "\n",
        "    return labels\n",
        "\n",
        "# Realizar clustering de texto para las columnas seleccionadas y añadir las etiquetas de cluster al conjunto de datos\n",
        "for col in text_columns:\n",
        "    hado_data[f'{col}_cluster'] = text_clustering(hado_data[col])\n",
        "\n",
        "# Inspeccionar las primeras filas para verificar las etiquetas de cluster\n",
        "hado_data[[f'{col}_cluster' for col in text_columns]].head()"
      ]
    },
    {
      "cell_type": "markdown",
      "id": "86af793c-dc6c-406b-a87b-69835675bf5f",
      "metadata": {
        "noteable": {
          "cell_type": "markdown"
        }
      },
      "source": [
        "## Determinación del Número Óptimo de Clusters\n",
        "\n",
        "Determinar el número óptimo de clusters es un paso crucial antes de aplicar el algoritmo de clustering. Uno de los métodos más comunes para hacer esto es el método del codo. Este método implica ajustar el modelo K-means a un rango de valores de 'k' y luego trazar estos valores contra la suma de las distancias al cuadrado desde cada punto hasta su centro asignado.\n",
        "\n",
        "Vamos a aplicar el método del codo para determinar el número óptimo de clusters."
      ]
    },
    {
      "cell_type": "code",
      "execution_count": null,
      "id": "dafb53cc-73fd-4f86-acf2-82e33d7058c7",
      "metadata": {
        "ExecuteTime": {
          "end_time": "2023-09-06T12:57:42.805837+00:00",
          "start_time": "2023-09-06T12:57:41.149140+00:00"
        },
        "noteable": {
          "cell_type": "code",
          "output_collection_id": "fe3aec94-64c7-4e81-a012-0e0057464e25"
        }
      },
      "outputs": [],
      "source": [
        "# Función para aplicar el método del codo y encontrar el número óptimo de clusters\n",
        "def elbow_method(column):\n",
        "    vectorizer = CountVectorizer()\n",
        "    X = vectorizer.fit_transform(column)\n",
        "\n",
        "    distortions = []\n",
        "    K = range(1, 10)\n",
        "    for k in K:\n",
        "        kmeans = KMeans(n_clusters=k, random_state=0)\n",
        "        kmeans.fit(X)\n",
        "        distortions.append(kmeans.inertia_)\n",
        "\n",
        "    # Visualizar el método del codo\n",
        "    plt.figure(figsize=(10, 5))\n",
        "    plt.plot(K, distortions, 'bx-')\n",
        "    plt.xlabel('k')\n",
        "    plt.ylabel('Distorsión')\n",
        "    plt.title('Método del Codo para la columna ' + column.name)\n",
        "    plt.show()\n",
        "\n",
        "# Aplicar el método del codo para las columnas seleccionadas\n",
        "for col in text_columns:\n",
        "    print(f'Aplicando el método del codo para la columna {col}')\n",
        "    elbow_method(hado_data[col])"
      ]
    },
    {
      "cell_type": "markdown",
      "id": "13810ad3-d3e5-432a-9997-73d6abfad799",
      "metadata": {
        "noteable": {
          "cell_type": "markdown"
        }
      },
      "source": [
        "## Interpretación del Método del Codo\n",
        "\n",
        "Después de aplicar el método del codo, podemos observar los puntos en los que la 'distorsión' comienza a disminuir más lentamente, lo que nos da una idea del número óptimo de clusters.\n",
        "\n",
        "Con el número óptimo de clusters determinado, podemos proceder a aplicar el algoritmo de clustering K-means con ese número específico de clusters."
      ]
    },
    {
      "cell_type": "code",
      "execution_count": null,
      "id": "a522a921-f0f0-4b72-be85-4e4be74265e8",
      "metadata": {
        "ExecuteTime": {
          "end_time": "2023-09-06T12:57:43.243892+00:00",
          "start_time": "2023-09-06T12:57:42.920845+00:00"
        },
        "datalink": {
          "631500e7-dddd-4c2e-a2b5-146fa1aecd3b": {
            "applied_filters": [],
            "dataframe_info": {
              "default_index_used": true,
              "orig_num_cols": 3,
              "orig_num_rows": 5,
              "orig_size_bytes": 100,
              "truncated_num_cols": 3,
              "truncated_num_rows": 5,
              "truncated_size_bytes": 100,
              "truncated_string_columns": []
            },
            "display_id": "631500e7-dddd-4c2e-a2b5-146fa1aecd3b",
            "dx_settings": {
              "ALLOW_NOTEABLE_ATTRS": true,
              "COLUMN_SAMPLING_METHOD": "outer",
              "DB_LOCATION": ":memory:",
              "DEV_MODE": false,
              "DISPLAY_MAX_COLUMNS": 100,
              "DISPLAY_MAX_ROWS": 50000,
              "DISPLAY_MODE": "simple",
              "ENABLE_ASSIGNMENT": true,
              "ENABLE_DATALINK": true,
              "FLATTEN_COLUMN_VALUES": true,
              "FLATTEN_INDEX_VALUES": false,
              "GENERATE_DEX_METADATA": false,
              "HTML_TABLE_SCHEMA": false,
              "LOG_LEVEL": 30,
              "MAX_RENDER_SIZE_BYTES": 104857600,
              "MAX_STRING_LENGTH": 250,
              "NUM_PAST_SAMPLES_TRACKED": 3,
              "RANDOM_STATE": 12648430,
              "RESET_INDEX_VALUES": false,
              "ROW_SAMPLING_METHOD": "random",
              "SAMPLING_FACTOR": 0.1,
              "SAMPLING_METHOD": "random",
              "STRINGIFY_COLUMN_VALUES": true,
              "STRINGIFY_INDEX_VALUES": false
            },
            "sample_history": [],
            "sampling_time": "2023-09-06T08:33:04.945763",
            "user_variable_name": null,
            "variable_name": "unk_dataframe_e8097bbcb817476a9c03188eff115d53"
          },
          "e9d182b7-b7b5-435a-b47b-35f0f43811d1": {
            "applied_filters": [],
            "dataframe_info": {
              "default_index_used": true,
              "orig_num_cols": 3,
              "orig_num_rows": 5,
              "orig_size_bytes": 100,
              "truncated_num_cols": 3,
              "truncated_num_rows": 5,
              "truncated_size_bytes": 100,
              "truncated_string_columns": []
            },
            "display_id": "e9d182b7-b7b5-435a-b47b-35f0f43811d1",
            "dx_settings": {
              "ALLOW_NOTEABLE_ATTRS": true,
              "COLUMN_SAMPLING_METHOD": "outer",
              "DB_LOCATION": ":memory:",
              "DEV_MODE": false,
              "DISPLAY_MAX_COLUMNS": 100,
              "DISPLAY_MAX_ROWS": 50000,
              "DISPLAY_MODE": "simple",
              "ENABLE_ASSIGNMENT": true,
              "ENABLE_DATALINK": true,
              "FLATTEN_COLUMN_VALUES": true,
              "FLATTEN_INDEX_VALUES": false,
              "GENERATE_DEX_METADATA": false,
              "HTML_TABLE_SCHEMA": false,
              "LOG_LEVEL": 30,
              "MAX_RENDER_SIZE_BYTES": 104857600,
              "MAX_STRING_LENGTH": 250,
              "NUM_PAST_SAMPLES_TRACKED": 3,
              "RANDOM_STATE": 12648430,
              "RESET_INDEX_VALUES": false,
              "ROW_SAMPLING_METHOD": "random",
              "SAMPLING_FACTOR": 0.1,
              "SAMPLING_METHOD": "random",
              "STRINGIFY_COLUMN_VALUES": true,
              "STRINGIFY_INDEX_VALUES": false
            },
            "sample_history": [],
            "sampling_time": "2023-09-06T12:57:43.085717",
            "user_variable_name": null,
            "variable_name": "unk_dataframe_3346677820bf4733a9a397ccaafcb04f"
          }
        },
        "noteable": {
          "cell_type": "code",
          "output_collection_id": "31163089-2356-4c99-b996-ac61541d73df"
        }
      },
      "outputs": [],
      "source": [
        "# Función para realizar clustering de texto con el número óptimo de clusters\n",
        "def text_clustering_optimal(column, n_clusters):\n",
        "    vectorizer = CountVectorizer()\n",
        "    X = vectorizer.fit_transform(column)\n",
        "\n",
        "    # Aplicar el algoritmo K-means con el número óptimo de clusters\n",
        "    kmeans = KMeans(n_clusters=n_clusters, random_state=0)\n",
        "    kmeans.fit(X)\n",
        "\n",
        "    # Asignar las etiquetas de cluster al conjunto de datos\n",
        "    labels = kmeans.labels_\n",
        "\n",
        "    return labels\n",
        "\n",
        "# Número óptimo de clusters determinado por el método del codo (esto deberá ser actualizado en base a tus observaciones)\n",
        "optimal_clusters = {'diagnostico': 5, 'motivo_ing': 3, 'motivo_alta': 3}\n",
        "\n",
        "# Realizar clustering de texto para las columnas seleccionadas y añadir las etiquetas de cluster al conjunto de datos\n",
        "for col in text_columns:\n",
        "    hado_data[f'{col}_cluster_optimal'] = text_clustering_optimal(hado_data[col], optimal_clusters[col])\n",
        "\n",
        "# Inspeccionar las primeras filas para verificar las etiquetas de cluster\n",
        "hado_data[[f'{col}_cluster_optimal' for col in text_columns]].head()"
      ]
    },
    {
      "cell_type": "markdown",
      "id": "82ed9997-9599-4a8e-8e93-176ff4d04ba9",
      "metadata": {
        "noteable": {
          "cell_type": "markdown"
        }
      },
      "source": [
        "## Interpretación de Clusters\n",
        "\n",
        "Una vez que hemos aplicado el algoritmo de clustering con el número óptimo de clusters, el siguiente paso es interpretar estos clusters. La interpretación puede incluir la identificación de temas o patrones comunes dentro de cada cluster.\n",
        "\n",
        "Para hacer esto, podemos examinar algunos registros de cada cluster y tratar de identificar cualquier similitud o patrón que pueda existir. También podemos analizar las palabras más frecuentes en cada cluster para obtener una mejor comprensión."
      ]
    },
    {
      "cell_type": "code",
      "execution_count": null,
      "id": "052d4679-d88a-4a47-9c65-a52a00a40b45",
      "metadata": {
        "ExecuteTime": {
          "end_time": "2023-09-06T12:57:43.413883+00:00",
          "start_time": "2023-09-06T12:57:43.249237+00:00"
        },
        "noteable": {
          "cell_type": "code",
          "output_collection_id": "a207c5fb-b2e5-42fc-8fb0-a80b5fb60d47"
        }
      },
      "outputs": [],
      "source": [
        "# Función para analizar e interpretar los clusters\n",
        "def interpret_clusters(column, labels, n_clusters):\n",
        "    cluster_interpretation = {}\n",
        "\n",
        "    for i in range(n_clusters):\n",
        "        cluster_data = column[labels == i]\n",
        "        words = ' '.join(cluster_data).split()\n",
        "        word_freq = Counter(words)\n",
        "        common_words = word_freq.most_common(5)\n",
        "        cluster_interpretation[i] = common_words\n",
        "\n",
        "    return cluster_interpretation\n",
        "\n",
        "# Interpretar los clusters para las columnas seleccionadas\n",
        "cluster_interpretations = {}\n",
        "for col in text_columns:\n",
        "    cluster_interpretations[col] = interpret_clusters(hado_data[col], hado_data[f'{col}_cluster_optimal'], optimal_clusters[col])\n",
        "\n",
        "# Mostrar las interpretaciones de los clusters\n",
        "cluster_interpretations"
      ]
    },
    {
      "cell_type": "markdown",
      "id": "d1fce7ee-3db5-40c7-b737-2217f9d6e792",
      "metadata": {
        "noteable": {
          "cell_type": "markdown"
        }
      },
      "source": [
        "## Resultados de la Interpretación de Clusters\n",
        "\n",
        "Basándonos en las palabras más comunes en cada cluster, podemos intentar darles un nombre o tema a cada uno de ellos para entender mejor los datos. A continuación se presentan algunas interpretaciones posibles basadas en los resultados:\n",
        "\n",
        "### Diagnóstico\n",
        "- **Cluster 0**: Enfermedades Crónicas (insuficiencia, cardiaca, crónica, frágil, demencia)\n",
        "- **Cluster 1**: Cáncer en Etapa Avanzada (IV, estadio, cáncer, pulmón, colon)\n",
        "- **Cluster 2**: Tipos de Cáncer (cáncer, pulmón, colon, páncreas, próstata)\n",
        "- **Cluster 3**: Infecciones (infección, respiratoria, urinaria, insuficiencia, cardiaca)\n",
        "- **Cluster 4**: Infecciones del Tracto Urinario (infección, tracto, urinario, ITU, deterioro)\n",
        "\n",
        "### Motivo de Ingreso\n",
        "- **Cluster 0**: Tratamiento con Antibióticos (antibioterapia, IV, cuidados, valoración, tratamiento)\n",
        "- **Cluster 1**: Control de Síntomas (control, síntomas, evolutivo, curas, tratamiento)\n",
        "- **Cluster 2**: Tratamiento Antibiótico Específico (tratamiento, IV, antibiótico, control, antibioitico)\n",
        "\n",
        "### Motivo de Alta\n",
        "- **Cluster 0**: Fin de Cuidados (cuidados, fin, imposibilidad, domicilio, paciente)\n",
        "- **Cluster 1**: Exitus (exitus, comunicado, familia)\n",
        "- **Cluster 2**: Traslados y Reingresos (traslado, urgencias, UPAL, reingreso, ingreso)\n",
        "\n",
        "Estas interpretaciones nos ofrecen una visión más clara de los datos y pueden ser útiles para diversas aplicaciones clínicas y administrativas."
      ]
    },
    {
      "cell_type": "markdown",
      "id": "fa19412d-7eae-4c6f-bd87-493d1367c863",
      "metadata": {
        "noteable": {
          "cell_type": "markdown"
        }
      },
      "source": [
        "## Comparación con Otros Métodos\n",
        "\n",
        "Hasta ahora, hemos utilizado el algoritmo K-means para el clustering de texto. Sin embargo, existen otros métodos y técnicas en el campo del NLP que podrían ofrecer diferentes perspectivas o resultados. Algunos de estos métodos incluyen:\n",
        "\n",
        "- **LDA (Latent Dirichlet Allocation)**: Utilizado principalmente para el modelado de temas.\n",
        "- **DBSCAN (Density-Based Spatial Clustering of Applications with Noise)**: Útil cuando las densidades de los clusters son diferentes.\n",
        "- **Hierarchical Clustering**: Útil para visualizar estructuras anidadas.\n",
        "\n",
        "En esta sección, vamos a comparar los resultados del clustering K-means con otro método para ver si hay diferencias significativas o si uno ofrece ventajas sobre el otro."
      ]
    },
    {
      "cell_type": "code",
      "execution_count": null,
      "id": "1118ebf2-babd-4aef-a8de-8232f5524832",
      "metadata": {
        "ExecuteTime": {
          "end_time": "2023-09-06T12:57:46.060412+00:00",
          "start_time": "2023-09-06T12:57:43.420601+00:00"
        },
        "datalink": {
          "5308adcb-f0c7-401c-b9d3-938b6a49ef1a": {
            "applied_filters": [],
            "dataframe_info": {
              "default_index_used": true,
              "orig_num_cols": 3,
              "orig_num_rows": 5,
              "orig_size_bytes": 140,
              "truncated_num_cols": 3,
              "truncated_num_rows": 5,
              "truncated_size_bytes": 140,
              "truncated_string_columns": []
            },
            "display_id": "5308adcb-f0c7-401c-b9d3-938b6a49ef1a",
            "dx_settings": {
              "ALLOW_NOTEABLE_ATTRS": true,
              "COLUMN_SAMPLING_METHOD": "outer",
              "DB_LOCATION": ":memory:",
              "DEV_MODE": false,
              "DISPLAY_MAX_COLUMNS": 100,
              "DISPLAY_MAX_ROWS": 50000,
              "DISPLAY_MODE": "simple",
              "ENABLE_ASSIGNMENT": true,
              "ENABLE_DATALINK": true,
              "FLATTEN_COLUMN_VALUES": true,
              "FLATTEN_INDEX_VALUES": false,
              "GENERATE_DEX_METADATA": false,
              "HTML_TABLE_SCHEMA": false,
              "LOG_LEVEL": 30,
              "MAX_RENDER_SIZE_BYTES": 104857600,
              "MAX_STRING_LENGTH": 250,
              "NUM_PAST_SAMPLES_TRACKED": 3,
              "RANDOM_STATE": 12648430,
              "RESET_INDEX_VALUES": false,
              "ROW_SAMPLING_METHOD": "random",
              "SAMPLING_FACTOR": 0.1,
              "SAMPLING_METHOD": "random",
              "STRINGIFY_COLUMN_VALUES": true,
              "STRINGIFY_INDEX_VALUES": false
            },
            "sample_history": [],
            "sampling_time": "2023-09-06T08:57:38.754799",
            "user_variable_name": null,
            "variable_name": "unk_dataframe_827033e61bb74f98bba7798325e404c6"
          },
          "6fdf475a-f590-46a4-9f63-5b7fe469e7d9": {
            "applied_filters": [],
            "dataframe_info": {
              "default_index_used": true,
              "orig_num_cols": 3,
              "orig_num_rows": 5,
              "orig_size_bytes": 140,
              "truncated_num_cols": 3,
              "truncated_num_rows": 5,
              "truncated_size_bytes": 140,
              "truncated_string_columns": []
            },
            "display_id": "6fdf475a-f590-46a4-9f63-5b7fe469e7d9",
            "dx_settings": {
              "ALLOW_NOTEABLE_ATTRS": true,
              "COLUMN_SAMPLING_METHOD": "outer",
              "DB_LOCATION": ":memory:",
              "DEV_MODE": false,
              "DISPLAY_MAX_COLUMNS": 100,
              "DISPLAY_MAX_ROWS": 50000,
              "DISPLAY_MODE": "simple",
              "ENABLE_ASSIGNMENT": true,
              "ENABLE_DATALINK": true,
              "FLATTEN_COLUMN_VALUES": true,
              "FLATTEN_INDEX_VALUES": false,
              "GENERATE_DEX_METADATA": false,
              "HTML_TABLE_SCHEMA": false,
              "LOG_LEVEL": 30,
              "MAX_RENDER_SIZE_BYTES": 104857600,
              "MAX_STRING_LENGTH": 250,
              "NUM_PAST_SAMPLES_TRACKED": 3,
              "RANDOM_STATE": 12648430,
              "RESET_INDEX_VALUES": false,
              "ROW_SAMPLING_METHOD": "random",
              "SAMPLING_FACTOR": 0.1,
              "SAMPLING_METHOD": "random",
              "STRINGIFY_COLUMN_VALUES": true,
              "STRINGIFY_INDEX_VALUES": false
            },
            "sample_history": [],
            "sampling_time": "2023-09-06T12:57:45.899642",
            "user_variable_name": null,
            "variable_name": "unk_dataframe_01123561985c431ab9bce8dcace483b3"
          }
        },
        "noteable": {
          "cell_type": "code",
          "output_collection_id": "600a443f-0eb4-4bdd-8312-5c2759027656"
        }
      },
      "outputs": [],
      "source": [
        "# Importar las bibliotecas necesarias para LDA\n",
        "from sklearn.decomposition import LatentDirichletAllocation as LDA\n",
        "from sklearn.feature_extraction.text import CountVectorizer\n",
        "\n",
        "# Función para realizar clustering de texto con LDA\n",
        "def text_clustering_lda(column, n_topics):\n",
        "    vectorizer = CountVectorizer()\n",
        "    X = vectorizer.fit_transform(column)\n",
        "\n",
        "    # Aplicar LDA\n",
        "    lda = LDA(n_components=n_topics, random_state=0)\n",
        "    lda.fit(X)\n",
        "\n",
        "    # Asignar las etiquetas de topic al conjunto de datos\n",
        "    topic_labels = lda.transform(X).argmax(axis=1)\n",
        "\n",
        "    return topic_labels\n",
        "\n",
        "# Realizar clustering de texto con LDA para la columna 'diagnostico'\n",
        "hado_data['diagnostico_topic'] = text_clustering_lda(hado_data['diagnostico'], optimal_clusters['diagnostico'])\n",
        "\n",
        "# Inspeccionar las primeras filas para verificar las etiquetas de topic\n",
        "hado_data[['diagnostico', 'diagnostico_cluster_optimal', 'diagnostico_topic']].head()"
      ]
    },
    {
      "cell_type": "code",
      "execution_count": null,
      "id": "633d0ba7-38a0-4002-be6b-5c2e8c32623c",
      "metadata": {
        "ExecuteTime": {
          "end_time": "2023-09-06T12:57:46.228538+00:00",
          "start_time": "2023-09-06T12:57:46.065061+00:00"
        },
        "noteable": {
          "cell_type": "code",
          "output_collection_id": "dc3d12e9-ad24-42af-963f-e6a4117caed3"
        }
      },
      "outputs": [],
      "source": [
        "# Función para interpretar los temas (topics) en LDA\n",
        "def interpret_topics(column, topic_labels, n_topics):\n",
        "    topic_interpretation = {}\n",
        "\n",
        "    for i in range(n_topics):\n",
        "        topic_data = column[topic_labels == i]\n",
        "        words = ' '.join(topic_data).split()\n",
        "        word_freq = Counter(words)\n",
        "        common_words = word_freq.most_common(5)\n",
        "        topic_interpretation[i] = common_words\n",
        "\n",
        "    return topic_interpretation\n",
        "\n",
        "# Interpretar los temas para la columna 'diagnostico'\n",
        "lda_topic_interpretations = interpret_topics(hado_data['diagnostico'], hado_data['diagnostico_topic'], optimal_clusters['diagnostico'])\n",
        "\n",
        "# Mostrar las interpretaciones de los temas\n",
        "lda_topic_interpretations"
      ]
    },
    {
      "cell_type": "markdown",
      "id": "844ce693-f4b4-43fa-8582-13cb640b24fa",
      "metadata": {
        "noteable": {
          "cell_type": "markdown"
        }
      },
      "source": [
        "## Interpretación de Temas en LDA\n",
        "\n",
        "Después de aplicar LDA a la columna 'diagnostico', podemos observar las palabras más comunes en cada tema para interpretarlos. A continuación se presentan las interpretaciones basadas en las palabras más comunes:\n",
        "\n",
        "- **Tema 0**: Cáncer de Pulmón Avanzado (cáncer, pulmón, estadio, IV, ELA)\n",
        "- **Tema 1**: Enfermedades Crónicas y Cardiacas (insuficiencia, cardiaca, cáncer, crónica, bronquiectasias)\n",
        "- **Tema 2**: Infecciones del Tracto Urinario y Respiratorio (infección, tracto, urinario, ITU, respiratoria)\n",
        "- **Tema 3**: Cáncer en Etapa Avanzada (cáncer, IV, estadio, colon, neoplasia)\n",
        "- **Tema 4**: Infecciones Urinarias y Condiciones Variadas (infección, urinaria, úlcera, amputación, glioblastoma)\n",
        "\n",
        "Estas interpretaciones nos ofrecen una visión más clara de los datos y pueden ser útiles para diversas aplicaciones clínicas y administrativas. A continuación, compararemos estos resultados con los obtenidos mediante K-means para evaluar las diferencias y similitudes."
      ]
    },
    {
      "cell_type": "markdown",
      "id": "cfb261ca-da6d-4ccb-bdab-50a05a729bb4",
      "metadata": {
        "noteable": {
          "cell_type": "markdown"
        }
      },
      "source": [
        "## Comparación entre K-means y LDA\n",
        "\n",
        "Ahora que tenemos los resultados de ambos métodos de clustering (K-means y LDA), es útil compararlos para entender las diferencias y similitudes. Esto nos ayudará a evaluar qué método podría ser más adecuado para nuestras necesidades específicas.\n",
        "\n",
        "Para hacer esto, podemos comparar las etiquetas de cluster asignadas por ambos métodos y ver si hay una correspondencia cercana entre ellas.\n",
        "\n",
        "El Índice Rand Ajustado es una métrica que mide la similitud entre dos asignaciones de etiquetas de cluster. Esta métrica nos permitirá comparar las etiquetas de cluster asignadas por K-means y LDA para la columna 'diagnostico'.\n",
        "Un valor cercano a 1 indica que las asignaciones de cluster son casi idénticas, mientras que un valor cercano a 0 indica que son aleatorias."
      ]
    },
    {
      "cell_type": "code",
      "execution_count": null,
      "id": "37a95a27-09bc-42d7-bdb0-92c91478d473",
      "metadata": {
        "ExecuteTime": {
          "end_time": "2023-09-06T12:57:46.392960+00:00",
          "start_time": "2023-09-06T12:57:46.232685+00:00"
        },
        "noteable": {
          "cell_type": "code",
          "output_collection_id": "046d0b80-dcfb-4dd0-ba29-e309df20e59d"
        }
      },
      "outputs": [],
      "source": [
        "# Importar la biblioteca necesaria para la comparación\n",
        "from sklearn.metrics import adjusted_rand_score\n",
        "\n",
        "# Calcular el Índice Rand Ajustado para comparar las etiquetas de cluster de K-means y LDA\n",
        "rand_index = adjusted_rand_score(hado_data['diagnostico_cluster_optimal'], hado_data['diagnostico_topic'])\n",
        "\n",
        "# Mostrar el Índice Rand Ajustado\n",
        "rand_index"
      ]
    },
    {
      "cell_type": "markdown",
      "id": "15541d4a-4f64-4832-85ed-a3a0b0c5b711",
      "metadata": {
        "noteable": {
          "cell_type": "markdown"
        }
      },
      "source": [
        "## Análisis del Índice Rand Ajustado\n",
        "\n",
        "El Índice Rand Ajustado obtenido es aproximadamente 0.041, lo que indica una similitud muy baja entre las asignaciones de cluster realizadas por K-means y LDA para la columna 'diagnostico'. Esto sugiere que los dos métodos están capturando diferentes aspectos o patrones en los datos.\n",
        "\n",
        "### Implicaciones:\n",
        "- **K-means**: Este método parece más adecuado para capturar patrones basados en la frecuencia de palabras y su distribución en el conjunto de datos.\n",
        "- **LDA**: Este método, por otro lado, es más adecuado para capturar temas o tópicos subyacentes en los datos, que pueden no ser evidentes solo a través de la frecuencia de palabras.\n",
        "\n",
        "Dado que el objetivo es comprender mejor los diagnósticos y otros aspectos del conjunto de datos para aplicaciones clínicas y administrativas, ambos métodos podrían tener su utilidad dependiendo del contexto específico.\n",
        "\n",
        "Por lo tanto, la elección entre K-means y LDA dependerá de qué aspecto de los datos se considere más importante para el análisis en cuestión."
      ]
    },
    {
      "cell_type": "markdown",
      "id": "5f65af39-7549-414d-bb90-6caab4e99ae5",
      "metadata": {
        "noteable": {
          "cell_type": "markdown"
        }
      },
      "source": [
        "## Análisis Adicional con DBSCAN y Clustering Jerárquico\n",
        "\n",
        "Para obtener una visión más completa de los patrones en los datos, también aplicaremos otros dos métodos de clustering: DBSCAN y Clustering Jerárquico.\n",
        "\n",
        "- **DBSCAN (Density-Based Spatial Clustering of Applications with Noise)**: Este método es especialmente útil cuando las densidades de los clusters son diferentes. No requiere que especifiquemos el número de clusters de antemano.\n",
        "- **Clustering Jerárquico**: Este método es útil para visualizar estructuras anidadas en los datos. Nos permite observar una dendrograma que muestra cómo se forman los clusters.\n",
        "\n",
        "Comenzaremos aplicando DBSCAN a la columna 'diagnostico'.\n",
        "\n",
        "Primero calcularemos la matriz TF-IDF (Term Frequency-Inverse Document Frequency).\n",
        "Es una representación numérica de texto que captura la importancia de las palabras en relación con el conjunto completo de documentos. Esta representación es útil para algoritmos de aprendizaje automático como DBSCAN porque:\n",
        "\n",
        "1. **Dimensionalidad**: Convierte el texto en un formato numérico que puede ser entendido por algoritmos de aprendizaje automático.\n",
        "\n",
        "2. **Ponderación de Palabras**: TF-IDF da más peso a las palabras que son más relevantes para un documento en particular, pero que no aparecen con frecuencia en todo el conjunto de datos. Esto es útil para identificar características únicas en cada cluster.\n",
        "\n",
        "3. **Espacio de Características**: Al aplicar TF-IDF, cada documento se convierte en un vector en un espacio de características de alta dimensión. DBSCAN, al ser un algoritmo basado en densidad, funciona bien en este tipo de espacios.\n",
        "\n",
        "4. **Distancia entre Puntos**: DBSCAN requiere una noción de distancia para formar clusters. La matriz TF-IDF permite calcular distancias entre documentos (puntos en el espacio de características) de una manera que tiene en cuenta la importancia relativa de las palabras.\n",
        "\n",
        "5. **Normalización**: TF-IDF también normaliza los vectores, lo que es beneficioso para algoritmos que son sensibles a la escala de las características.\n",
        "\n",
        "Por estas razones, es común utilizar TF-IDF como paso de preprocesamiento antes de aplicar algoritmos de clustering como DBSCAN cuando se trabaja con datos de texto."
      ]
    },
    {
      "cell_type": "code",
      "execution_count": null,
      "id": "4633f840-c574-4856-bb50-61eec46a3bd2",
      "metadata": {
        "ExecuteTime": {
          "end_time": "2023-09-06T12:59:09.122875+00:00",
          "start_time": "2023-09-06T12:59:08.770121+00:00"
        },
        "datalink": {
          "7658a966-72ec-444f-8a2e-1732ad7397f1": {
            "applied_filters": [],
            "dataframe_info": {
              "default_index_used": true,
              "orig_num_cols": 2,
              "orig_num_rows": 5,
              "orig_size_bytes": 120,
              "truncated_num_cols": 2,
              "truncated_num_rows": 5,
              "truncated_size_bytes": 120,
              "truncated_string_columns": []
            },
            "display_id": "7658a966-72ec-444f-8a2e-1732ad7397f1",
            "dx_settings": {
              "ALLOW_NOTEABLE_ATTRS": true,
              "COLUMN_SAMPLING_METHOD": "outer",
              "DB_LOCATION": ":memory:",
              "DEV_MODE": false,
              "DISPLAY_MAX_COLUMNS": 100,
              "DISPLAY_MAX_ROWS": 50000,
              "DISPLAY_MODE": "simple",
              "ENABLE_ASSIGNMENT": true,
              "ENABLE_DATALINK": true,
              "FLATTEN_COLUMN_VALUES": true,
              "FLATTEN_INDEX_VALUES": false,
              "GENERATE_DEX_METADATA": false,
              "HTML_TABLE_SCHEMA": false,
              "LOG_LEVEL": 30,
              "MAX_RENDER_SIZE_BYTES": 104857600,
              "MAX_STRING_LENGTH": 250,
              "NUM_PAST_SAMPLES_TRACKED": 3,
              "RANDOM_STATE": 12648430,
              "RESET_INDEX_VALUES": false,
              "ROW_SAMPLING_METHOD": "random",
              "SAMPLING_FACTOR": 0.1,
              "SAMPLING_METHOD": "random",
              "STRINGIFY_COLUMN_VALUES": true,
              "STRINGIFY_INDEX_VALUES": false
            },
            "sample_history": [],
            "sampling_time": "2023-09-06T09:12:55.408202",
            "user_variable_name": null,
            "variable_name": "unk_dataframe_41200ca2bbec43d4bd62ab9930abf93b"
          },
          "e2482957-7dec-4959-858e-aad8bcca312d": {
            "applied_filters": [],
            "dataframe_info": {
              "default_index_used": true,
              "orig_num_cols": 2,
              "orig_num_rows": 5,
              "orig_size_bytes": 120,
              "truncated_num_cols": 2,
              "truncated_num_rows": 5,
              "truncated_size_bytes": 120,
              "truncated_string_columns": []
            },
            "display_id": "e2482957-7dec-4959-858e-aad8bcca312d",
            "dx_settings": {
              "ALLOW_NOTEABLE_ATTRS": true,
              "COLUMN_SAMPLING_METHOD": "outer",
              "DB_LOCATION": ":memory:",
              "DEV_MODE": false,
              "DISPLAY_MAX_COLUMNS": 100,
              "DISPLAY_MAX_ROWS": 50000,
              "DISPLAY_MODE": "simple",
              "ENABLE_ASSIGNMENT": true,
              "ENABLE_DATALINK": true,
              "FLATTEN_COLUMN_VALUES": true,
              "FLATTEN_INDEX_VALUES": false,
              "GENERATE_DEX_METADATA": false,
              "HTML_TABLE_SCHEMA": false,
              "LOG_LEVEL": 30,
              "MAX_RENDER_SIZE_BYTES": 104857600,
              "MAX_STRING_LENGTH": 250,
              "NUM_PAST_SAMPLES_TRACKED": 3,
              "RANDOM_STATE": 12648430,
              "RESET_INDEX_VALUES": false,
              "ROW_SAMPLING_METHOD": "random",
              "SAMPLING_FACTOR": 0.1,
              "SAMPLING_METHOD": "random",
              "STRINGIFY_COLUMN_VALUES": true,
              "STRINGIFY_INDEX_VALUES": false
            },
            "sample_history": [],
            "sampling_time": "2023-09-06T12:59:08.964567",
            "user_variable_name": null,
            "variable_name": "unk_dataframe_459b65217a944e44bf0fbe73b10bccb1"
          }
        },
        "noteable": {
          "cell_type": "code",
          "output_collection_id": "7f07d48f-1f3b-415c-9327-3e0c6d076780"
        }
      },
      "outputs": [],
      "source": [
        "# Importar la biblioteca necesaria para TF-IDF\n",
        "from sklearn.feature_extraction.text import TfidfVectorizer\n",
        "from sklearn.cluster import DBSCAN\n",
        "\n",
        "# Crear un objeto TF-IDF Vectorizer\n",
        "tfidf_vectorizer = TfidfVectorizer(max_features=5000)\n",
        "\n",
        "# Ajustar y transformar los datos de la columna 'diagnostico' al formato TF-IDF\n",
        "diagnostico_tfidf = tfidf_vectorizer.fit_transform(hado_data['diagnostico'])\n",
        "\n",
        "# Aplicar DBSCAN al conjunto de datos TF-IDF para la columna 'diagnostico'\n",
        "dbscan = DBSCAN(eps=0.5, min_samples=5)\n",
        "dbscan_labels = dbscan.fit_predict(diagnostico_tfidf)\n",
        "\n",
        "# Añadir las etiquetas de cluster al DataFrame original\n",
        "hado_data['diagnostico_dbscan'] = dbscan_labels\n",
        "\n",
        "# Inspeccionar las primeras filas para verificar las etiquetas\n",
        "hado_data[['diagnostico', 'diagnostico_dbscan']].head()"
      ]
    },
    {
      "cell_type": "markdown",
      "id": "81a3dee1-16ac-40ba-adec-d301d6ea9113",
      "metadata": {
        "noteable": {
          "cell_type": "markdown"
        }
      },
      "source": [
        "## Interpretación de los Clusters DBSCAN\n",
        "\n",
        "Después de aplicar el algoritmo DBSCAN, hemos obtenido etiquetas de cluster para la columna 'diagnostico'. A diferencia de los métodos de clustering basados en centroides como K-means, DBSCAN no asigna todos los puntos a un cluster. En su lugar, identifica regiones de alta densidad y asigna puntos en esas regiones a clusters, mientras que los puntos en regiones de baja densidad se consideran \"ruido\" y no se asignan a ningún cluster.\n",
        "\n",
        "### Siguiente Paso\n",
        "El siguiente paso sería examinar los clusters identificados por DBSCAN para entender qué tipos de diagnósticos se agrupan juntos. Esto podría implicar mirar las palabras más comunes en cada cluster, similar a lo que hicimos con los otros métodos de clustering."
      ]
    },
    {
      "cell_type": "code",
      "execution_count": null,
      "id": "7c08fa8e-54ac-430e-97c2-ae544339c4c0",
      "metadata": {
        "ExecuteTime": {
          "end_time": "2023-09-06T12:59:13.412171+00:00",
          "start_time": "2023-09-06T12:59:13.229436+00:00"
        },
        "jupyter": {
          "outputs_hidden": false,
          "source_hidden": false
        },
        "noteable": {
          "cell_type": "code",
          "output_collection_id": "dc87b0c5-18ad-4bf6-b508-7555ca7546b9"
        }
      },
      "outputs": [],
      "source": [
        "# Código para interpretar los clusters identificados por DBSCAN\n",
        "# Agrupar los datos por las etiquetas de DBSCAN y encontrar las palabras más comunes en cada cluster\n",
        "dbscan_clusters = hado_data.groupby('diagnostico_dbscan')['diagnostico'].apply(' '.join).reset_index()\n",
        "\n",
        "# Realizar el análisis de frecuencia de palabras para cada cluster\n",
        "dbscan_topic_interpretations = {}\n",
        "for index, row in dbscan_clusters.iterrows():\n",
        "    words = row['diagnostico'].split()\n",
        "    word_freq = Counter(words)\n",
        "    common_words = word_freq.most_common(5)\n",
        "    dbscan_topic_interpretations[row['diagnostico_dbscan']] = common_words\n",
        "\n",
        "dbscan_topic_interpretations"
      ]
    },
    {
      "cell_type": "markdown",
      "id": "75a24610-904b-40bc-989a-895d22babdc4",
      "metadata": {
        "noteable": {
          "cell_type": "markdown"
        }
      },
      "source": [
        "### Interpretación de los Clusters Generados por DBSCAN\n",
        "\n",
        "Los clusters generados por DBSCAN son bastante específicos y diversos, lo que podría indicar una alta variabilidad en los diagnósticos. Aquí hay algunas observaciones clave:\n",
        "\n",
        "- El cluster `-1` es el cluster de \"ruido\", que contiene diagnósticos que no se agruparon en ningún otro cluster. Este cluster tiene una mezcla de términos como 'cancer', 'iv', 'estadio', 'infeccion', y 'neoplasia'.\n",
        "\n",
        "- Los clusters `0`, `1`, `2`, etc., son clusters específicos que contienen diagnósticos similares. Por ejemplo, el cluster `1` está relacionado con 'cirrosis hepática', y el cluster `2` está relacionado con 'anemia'.\n",
        "\n",
        "- Algunos clusters son muy específicos en su enfoque. Por ejemplo, el cluster `9` está centrado en 'neumonía'.\n",
        "\n",
        "- Otros clusters parecen ser más generales. Por ejemplo, el cluster `11` incluye tanto 'fallo cardíaco' como 'infección urinaria'.\n",
        "\n",
        "### Comparación con Otros Métodos de Clustering\n",
        "\n",
        "- **K-means**: Generó clusters más generales, como 'infecciones', 'cáncer en estadio IV', etc.\n",
        "\n",
        "- **LDA**: Fue útil para identificar temas generales pero no para capturar la especificidad que DBSCAN y el Clustering Jerárquico pudieron capturar.\n",
        "\n",
        "### Conclusión\n",
        "\n",
        "DBSCAN ha proporcionado una segmentación muy detallada de los diagnósticos, lo que podría ser útil para entender subgrupos muy específicos dentro de los datos. Sin embargo, la gran cantidad de clusters podría hacer que sea difícil tomar medidas prácticas directas sin un análisis adicional."
      ]
    },
    {
      "cell_type": "markdown",
      "id": "e0392096-f118-4b4f-b58c-290f0b6ae08a",
      "metadata": {
        "noteable": {
          "cell_type": "markdown"
        }
      },
      "source": [
        "## Clustering Jerárquico y Dendrograma\n",
        "\n",
        "### ¿Qué es el Clustering Jerárquico?\n",
        "El clustering jerárquico es un método de análisis de agrupamiento que busca construir una jerarquía de clusters. A diferencia del clustering particional (como k-means), donde cada punto pertenece a un solo cluster, en el clustering jerárquico, los clusters pueden tener subclusters.\n",
        "\n",
        "### ¿Cómo funciona?\n",
        "El algoritmo comienza tratando cada punto de datos como un cluster individual y luego fusiona los clusters más cercanos en función de una medida de distancia (como la distancia euclidiana) y un criterio de enlace (como el enlace mínimo, máximo o de Ward).\n",
        "\n",
        "### ¿Qué es un Dendrograma?\n",
        "Un dendrograma es una representación gráfica que muestra la disposición de los clusters producidos por el agrupamiento jerárquico. Los clusters se representan como ramas y cada fusión de clusters se representa como una unión de ramas.\n",
        "\n",
        "### Interpretación del Dendrograma\n",
        "En el dendrograma, la altura del 'árbol' representa la distancia a la que se fusionaron los clusters. Cuanto más arriba en el árbol se unan dos ramas, más diferentes son los clusters. Esto nos ayuda a decidir el número de clusters óptimo para nuestro conjunto de datos.\n",
        "\n",
        "Ahora, vamos a visualizar el dendrograma para la columna 'diagnostico'."
      ]
    },
    {
      "cell_type": "code",
      "execution_count": null,
      "id": "ccbee1cb-15a9-4d61-b479-9fc98c228848",
      "metadata": {
        "ExecuteTime": {
          "end_time": "2023-09-06T12:59:44.023100+00:00",
          "start_time": "2023-09-06T12:59:16.212803+00:00"
        },
        "noteable": {
          "cell_type": "code",
          "output_collection_id": "9c36805b-e78b-405f-bcdf-55c839d65279"
        }
      },
      "outputs": [],
      "source": [
        "# Importar la biblioteca necesaria para el clustering jerárquico\n",
        "from scipy.cluster.hierarchy import dendrogram, linkage\n",
        "\n",
        "# Realizar el clustering jerárquico\n",
        "linked = linkage(diagnostico_tfidf.todense(), 'ward')\n",
        "\n",
        "# Visualizar el dendrograma\n",
        "plt.figure(figsize=(10, 7))\n",
        "dendrogram(linked,\n",
        "            orientation='top',\n",
        "            distance_sort='descending',\n",
        "            show_leaf_counts=True)\n",
        "plt.show()"
      ]
    },
    {
      "cell_type": "code",
      "execution_count": null,
      "id": "6b7fc3ae-28d6-4dc1-bcb0-0e61c51971c5",
      "metadata": {
        "ExecuteTime": {
          "end_time": "2023-09-06T12:59:44.378075+00:00",
          "start_time": "2023-09-06T12:59:44.159562+00:00"
        },
        "datalink": {
          "9fc8f567-d47a-4605-9932-b83f8f745573": {
            "applied_filters": [],
            "dataframe_info": {
              "default_index_used": true,
              "orig_num_cols": 2,
              "orig_num_rows": 5,
              "orig_size_bytes": 100,
              "truncated_num_cols": 2,
              "truncated_num_rows": 5,
              "truncated_size_bytes": 100,
              "truncated_string_columns": []
            },
            "display_id": "9fc8f567-d47a-4605-9932-b83f8f745573",
            "dx_settings": {
              "ALLOW_NOTEABLE_ATTRS": true,
              "COLUMN_SAMPLING_METHOD": "outer",
              "DB_LOCATION": ":memory:",
              "DEV_MODE": false,
              "DISPLAY_MAX_COLUMNS": 100,
              "DISPLAY_MAX_ROWS": 50000,
              "DISPLAY_MODE": "simple",
              "ENABLE_ASSIGNMENT": true,
              "ENABLE_DATALINK": true,
              "FLATTEN_COLUMN_VALUES": true,
              "FLATTEN_INDEX_VALUES": false,
              "GENERATE_DEX_METADATA": false,
              "HTML_TABLE_SCHEMA": false,
              "LOG_LEVEL": 30,
              "MAX_RENDER_SIZE_BYTES": 104857600,
              "MAX_STRING_LENGTH": 250,
              "NUM_PAST_SAMPLES_TRACKED": 3,
              "RANDOM_STATE": 12648430,
              "RESET_INDEX_VALUES": false,
              "ROW_SAMPLING_METHOD": "random",
              "SAMPLING_FACTOR": 0.1,
              "SAMPLING_METHOD": "random",
              "STRINGIFY_COLUMN_VALUES": true,
              "STRINGIFY_INDEX_VALUES": false
            },
            "sample_history": [],
            "sampling_time": "2023-09-06T12:59:44.219740",
            "user_variable_name": null,
            "variable_name": "unk_dataframe_62ae741151444ef599e57bea919aa76e"
          },
          "aafa2ac7-d30a-4d52-948d-aadc205e4817": {
            "applied_filters": [],
            "dataframe_info": {
              "default_index_used": true,
              "orig_num_cols": 2,
              "orig_num_rows": 5,
              "orig_size_bytes": 100,
              "truncated_num_cols": 2,
              "truncated_num_rows": 5,
              "truncated_size_bytes": 100,
              "truncated_string_columns": []
            },
            "display_id": "aafa2ac7-d30a-4d52-948d-aadc205e4817",
            "dx_settings": {
              "ALLOW_NOTEABLE_ATTRS": true,
              "COLUMN_SAMPLING_METHOD": "outer",
              "DB_LOCATION": ":memory:",
              "DEV_MODE": false,
              "DISPLAY_MAX_COLUMNS": 100,
              "DISPLAY_MAX_ROWS": 50000,
              "DISPLAY_MODE": "simple",
              "ENABLE_ASSIGNMENT": true,
              "ENABLE_DATALINK": true,
              "FLATTEN_COLUMN_VALUES": true,
              "FLATTEN_INDEX_VALUES": false,
              "GENERATE_DEX_METADATA": false,
              "HTML_TABLE_SCHEMA": false,
              "LOG_LEVEL": 30,
              "MAX_RENDER_SIZE_BYTES": 104857600,
              "MAX_STRING_LENGTH": 250,
              "NUM_PAST_SAMPLES_TRACKED": 3,
              "RANDOM_STATE": 12648430,
              "RESET_INDEX_VALUES": false,
              "ROW_SAMPLING_METHOD": "random",
              "SAMPLING_FACTOR": 0.1,
              "SAMPLING_METHOD": "random",
              "STRINGIFY_COLUMN_VALUES": true,
              "STRINGIFY_INDEX_VALUES": false
            },
            "sample_history": [],
            "sampling_time": "2023-09-06T09:20:38.941348",
            "user_variable_name": null,
            "variable_name": "unk_dataframe_473ec0b3df8f4baeb65c7fcfd8103726"
          }
        },
        "noteable": {
          "cell_type": "code",
          "output_collection_id": "8a30fd81-6807-4034-80aa-b81b6abee7c2"
        }
      },
      "outputs": [],
      "source": [
        "# Importar la biblioteca necesaria para el clustering jerárquico\n",
        "from scipy.cluster.hierarchy import fcluster\n",
        "\n",
        "# Utilizar el método fcluster para extraer las etiquetas de los clusters\n",
        "labels = fcluster(linked, t=5, criterion='maxclust') #  t=5 para el número de clusters, basándome en la observación del dendrograma y el análisis previo.\n",
        "\n",
        "# Añadir las etiquetas de cluster al DataFrame original\n",
        "hado_data['diagnostico_hierarchical'] = labels # Las etiquetas de los clusters se añadirán al DataFrame original en una nueva columna llamada diagnostico_hierarchical.\n",
        "\n",
        "# Inspeccionar las primeras filas para verificar las etiquetas\n",
        "hado_data[['diagnostico', 'diagnostico_hierarchical']].head()"
      ]
    },
    {
      "cell_type": "markdown",
      "id": "6c8819ec-05d8-4233-957a-5498cc5bd9de",
      "metadata": {
        "noteable": {
          "cell_type": "markdown"
        }
      },
      "source": [
        "## Interpretación de los Clusters Jerárquicos\n",
        "\n",
        "Después de aplicar el clustering jerárquico, hemos añadido una nueva columna al DataFrame llamada `diagnostico_hierarchical` que contiene las etiquetas de los clusters para cada registro.\n",
        "\n",
        "### Siguiente Paso\n",
        "El siguiente paso es interpretar estos clusters. Para hacerlo, podemos examinar las palabras más comunes en cada cluster y tratar de entender qué temas o conceptos agrupan. Esto nos ayudará a entender mejor la naturaleza de los diagnósticos y cómo se relacionan entre sí.\n",
        "\n",
        "Vamos a proceder con esta interpretación."
      ]
    },
    {
      "cell_type": "code",
      "execution_count": null,
      "id": "0f94bcfd-cb57-49d6-998e-6a67f6292fec",
      "metadata": {
        "ExecuteTime": {
          "end_time": "2023-09-06T12:59:44.551762+00:00",
          "start_time": "2023-09-06T12:59:44.383839+00:00"
        },
        "noteable": {
          "cell_type": "code",
          "output_collection_id": "471f5b52-6a1d-4378-a805-34bc94162358"
        }
      },
      "outputs": [],
      "source": [
        "# Agrupar los datos por la etiqueta del cluster jerárquico y obtener las palabras más comunes para cada cluster\n",
        "hierarchical_clusters = hado_data.groupby('diagnostico_hierarchical')['diagnostico'].apply(lambda x: ' '.join(x)).reset_index()\n",
        "\n",
        "# Realizar el análisis de frecuencia de palabras para cada cluster\n",
        "hierarchical_topic_interpretations = {}\n",
        "for i, row in hierarchical_clusters.iterrows():\n",
        "    words = row['diagnostico'].split()\n",
        "    word_freq = Counter(words)\n",
        "    common_words = word_freq.most_common(5)\n",
        "    hierarchical_topic_interpretations[row['diagnostico_hierarchical']] = common_words\n",
        "\n",
        "hierarchical_topic_interpretations"
      ]
    },
    {
      "cell_type": "markdown",
      "id": "ba17b0d2-6ad6-4877-8858-e460ea9f16bf",
      "metadata": {
        "noteable": {
          "cell_type": "markdown"
        }
      },
      "source": [
        "## Interpretación de los Clusters Jerárquicos\n",
        "\n",
        "Después de aplicar el clustering jerárquico, hemos obtenido las siguientes interpretaciones para cada cluster basadas en las palabras más comunes:\n",
        "\n",
        "- **Cluster 1**: Este cluster parece centrarse en casos relacionados con el **cáncer**, especialmente en **estadio IV** y en órganos como el **pulmón** y el **colon**.\n",
        "- **Cluster 2**: Este cluster se centra en casos de **insuficiencia cardiaca crónica**.\n",
        "- **Cluster 3**: Este cluster incluye diagnósticos relacionados con **infecciones**, **fragilidad**, **demencia**, **deterioro** y **cirrosis**.\n",
        "- **Cluster 4**: Este cluster se centra en **infecciones del tracto urinario (ITU)**.\n",
        "- **Cluster 5**: Este cluster incluye casos de **infecciones respiratorias** y **urinarias**."
      ]
    },
    {
      "cell_type": "markdown",
      "id": "8ee5ee2b-7691-4fce-88e9-9e97de5d0f6f",
      "metadata": {
        "noteable": {
          "cell_type": "markdown"
        }
      },
      "source": [
        "### Comparación y Conclusión Final\n",
        "\n",
        "#### K-means\n",
        "- **Generalidad**: K-means proporcionó una visión general de los diagnósticos, agrupando términos similares como 'insuficiencia cardiaca', 'cáncer en estadio IV', etc.\n",
        "- **Número de Clusters**: Predefinido, lo que podría no capturar la estructura natural de los datos.\n",
        "- **Interpretación**: Relativamente fácil de interpretar pero podría no capturar la especificidad en los datos.\n",
        "\n",
        "#### LDA (Análisis de Temas)\n",
        "- **Generalidad**: Similar a K-means en que proporciona temas generales en los diagnósticos.\n",
        "- **Número de Clusters**: Basado en la distribución de temas, lo que podría ser más natural que K-means.\n",
        "- **Interpretación**: Fácil de interpretar pero no captura la especificidad.\n",
        "\n",
        "#### Clustering Jerárquico\n",
        "- **Generalidad**: Proporciona una estructura de árbol que puede capturar relaciones más complejas entre los diagnósticos.\n",
        "- **Número de Clusters**: Determinado por el corte del dendrograma, lo que permite una cierta flexibilidad.\n",
        "- **Interpretación**: Puede ser más difícil de interpretar debido a la estructura anidada.\n",
        "\n",
        "#### DBSCAN\n",
        "- **Generalidad**: Captura clusters muy específicos y también identifica puntos de \"ruido\" que no pertenecen a ningún cluster.\n",
        "- **Número de Clusters**: Determinado por la densidad de los datos, lo que podría ser más natural.\n",
        "- **Interpretación**: Puede ser difícil de interpretar debido al gran número de clusters pequeños y específicos.\n",
        "\n",
        "### Conclusión Final\n",
        "\n",
        "- Si el objetivo es obtener una **visión general** de los diagnósticos, entonces K-means o LDA serían más apropiados.\n",
        "  \n",
        "- Si se necesita una **segmentación más detallada** o se quiere capturar relaciones más complejas entre los diagnósticos, entonces el Clustering Jerárquico o DBSCAN serían más adecuados.\n",
        "\n",
        "- **DBSCAN** parece ser el más adecuado para identificar subgrupos muy específicos, lo cual podría ser útil para investigaciones médicas detalladas o para identificar patrones raros en los diagnósticos.\n",
        "\n",
        "- **Clustering Jerárquico** ofrece un buen equilibrio entre generalidad y especificidad y podría ser útil para una exploración inicial de los datos.\n",
        "\n",
        "En resumen, la elección del método de clustering dependerá del nivel de detalle que se desee y del objetivo final del análisis."
      ]
    },
    {
      "cell_type": "markdown",
      "id": "eedeb711-a86d-42e6-a1cc-af6f5ee63bc5",
      "metadata": {
        "noteable": {
          "cell_type": "markdown"
        }
      },
      "source": [
        "### Siguientes Pasos en el Análisis de Clustering\n",
        "\n",
        "#### Validación de Robustez\n",
        "- **Comparación con Otros Métodos**: Utilizar otros algoritmos de clustering como Spectral Clustering, Agglomerative Clustering o Gaussian Mixture Models para comparar los resultados.\n",
        "- **Validación Cruzada**: Utilizar diferentes subconjuntos de datos para validar la consistencia de los clusters.\n",
        "  \n",
        "#### Visualización y Reducción de Dimensionalidad\n",
        "- **PCA (Principal Component Analysis)**: Reducir la dimensionalidad de los datos para visualizar los clusters en un espacio 2D o 3D.\n",
        "- **t-SNE (t-Distributed Stochastic Neighbor Embedding)**: Otra técnica para visualización de alta dimensionalidad que podría capturar estructuras más complejas en los datos.\n",
        "\n",
        "#### Interpretación y Análisis Adicional\n",
        "- **Análisis de Características**: Investigar las características adicionales que podrían estar asociadas con cada cluster, como la edad del paciente, el género, etc.\n",
        "- **Correlación con Resultados**: Examinar si ciertos clusters tienen una correlación significativa con ciertos resultados de salud, como tasas de mortalidad, tiempo de hospitalización, etc.\n",
        "\n",
        "#### Integración con Datos Adicionales\n",
        "- **Datos Temporales**: Si están disponibles, los datos temporales podrían proporcionar insights sobre cómo los clusters evolucionan con el tiempo.\n",
        "- **Datos Externos**: Integrar con otros conjuntos de datos, como registros médicos electrónicos, para una visión más completa.\n",
        "\n",
        "#### Implementación en la Atención Médica\n",
        "- **Alertas y Monitoreo**: Los clusters identificados podrían usarse para desarrollar sistemas de alerta temprana para condiciones médicas específicas.\n",
        "- **Personalización del Tratamiento**: Los clusters podrían ayudar en la personalización de los planes de tratamiento.\n",
        "\n",
        "Al seguir estos pasos, no solo validaremos la robustez de nuestros resultados actuales, sino que también podremos extraer insights más significativos que podrían ser de gran valor en aplicaciones médicas y de atención de la salud."
      ]
    },
    {
      "cell_type": "markdown",
      "id": "d96c2c24-9fc4-42bc-85b4-158d93971874",
      "metadata": {
        "noteable": {
          "cell_type": "markdown"
        }
      },
      "source": [
        "Para continuar, tenemos varias opciones dependiendo de sus objetivos y recursos disponibles. Aquí hay algunas rutas que podríamos tomar:\n",
        "\n",
        "### 1. Validación de Robustez\n",
        "Podemos implementar otros métodos de clustering como Spectral Clustering o Gaussian Mixture Models y comparar los resultados con los que ya tenemos. Esto nos ayudará a entender qué tan robustos son nuestros clusters.\n",
        "\n",
        "### 2. Visualización\n",
        "Podemos aplicar técnicas de reducción de dimensionalidad como PCA o t-SNE para visualizar los clusters en un espacio bidimensional o tridimensional. Esto podría ofrecer insights adicionales sobre la estructura de los datos.\n",
        "\n",
        "### 3. Análisis Adicional\n",
        "Podemos investigar más a fondo las características de cada cluster, como la edad media de los pacientes, la duración de la estancia en el hospital, etc., para ver si hay patrones interesantes.\n",
        "\n",
        "### 4. Integración con Otros Datos\n",
        "Si tiene acceso a otros conjuntos de datos relacionados, como registros médicos electrónicos, podríamos intentar integrarlos para obtener una visión más completa.\n",
        "\n",
        "### 5. Implementación Práctica\n",
        "Si los resultados son prometedores y robustos, podríamos considerar cómo implementar estos insights en un entorno de atención médica real, quizás desarrollando un sistema de alerta temprana o ayudando en la personalización del tratamiento.\n",
        "\n",
        "Por favor, hágamelo saber cuál de estas rutas le gustaría explorar más a fondo."
      ]
    },
    {
      "cell_type": "code",
      "execution_count": null,
      "id": "543f87bc-d569-4839-866e-a4ee63915969",
      "metadata": {
        "ExecuteTime": {
          "end_time": "2023-09-06T12:59:44.762115+00:00",
          "start_time": "2023-09-06T12:59:44.559622+00:00"
        },
        "datalink": {
          "0e1fa2a2-b16c-4166-8f47-e641d9cf7af2": {
            "applied_filters": [],
            "dataframe_info": {
              "default_index_used": true,
              "orig_num_cols": 59,
              "orig_num_rows": 4013,
              "orig_size_bytes": 1813876,
              "truncated_num_cols": 59,
              "truncated_num_rows": 4013,
              "truncated_size_bytes": 1813876,
              "truncated_string_columns": []
            },
            "display_id": "0e1fa2a2-b16c-4166-8f47-e641d9cf7af2",
            "dx_settings": {
              "ALLOW_NOTEABLE_ATTRS": true,
              "COLUMN_SAMPLING_METHOD": "outer",
              "DB_LOCATION": ":memory:",
              "DEV_MODE": false,
              "DISPLAY_MAX_COLUMNS": 100,
              "DISPLAY_MAX_ROWS": 50000,
              "DISPLAY_MODE": "simple",
              "ENABLE_ASSIGNMENT": true,
              "ENABLE_DATALINK": true,
              "FLATTEN_COLUMN_VALUES": true,
              "FLATTEN_INDEX_VALUES": false,
              "GENERATE_DEX_METADATA": false,
              "HTML_TABLE_SCHEMA": false,
              "LOG_LEVEL": 30,
              "MAX_RENDER_SIZE_BYTES": 104857600,
              "MAX_STRING_LENGTH": 250,
              "NUM_PAST_SAMPLES_TRACKED": 3,
              "RANDOM_STATE": 12648430,
              "RESET_INDEX_VALUES": false,
              "ROW_SAMPLING_METHOD": "random",
              "SAMPLING_FACTOR": 0.1,
              "SAMPLING_METHOD": "random",
              "STRINGIFY_COLUMN_VALUES": true,
              "STRINGIFY_INDEX_VALUES": false
            },
            "sample_history": [],
            "sampling_time": "2023-09-06T09:51:14.759402",
            "user_variable_name": "hado_data",
            "variable_name": "hado_data"
          }
        },
        "noteable": {
          "cell_type": "python",
          "output_collection_id": "35459461-f2bc-4fe4-b274-80d61030514c"
        }
      },
      "outputs": [],
      "source": [
        "hado_data.to_csv(\"hado_data_clustering.csv\", sep=',', index=False)"
      ]
    }
  ],
  "metadata": {
    "kernel_info": {
      "name": "python3"
    },
    "kernelspec": {
      "display_name": "Python 3.9",
      "language": "python",
      "name": "python3"
    },
    "noteable-chatgpt": {
      "create_notebook": {
        "openai_conversation_id": "064209d2-f41c-5e87-8376-9751f75cf659",
        "openai_ephemeral_user_id": "6056224a-3afb-5b23-bf16-ca6334443c6f",
        "openai_subdivision1_iso_code": "ES-GA"
      }
    },
    "selected_hardware_size": "small"
  },
  "nbformat": 4,
  "nbformat_minor": 5
}
