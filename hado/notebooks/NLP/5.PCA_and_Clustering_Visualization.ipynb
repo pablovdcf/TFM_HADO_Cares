{
  "nbformat": 4,
  "nbformat_minor": 5,
  "metadata": {
    "noteable-chatgpt": {
      "create_notebook": {
        "openai_conversation_id": "064209d2-f41c-5e87-8376-9751f75cf659",
        "openai_ephemeral_user_id": "6056224a-3afb-5b23-bf16-ca6334443c6f",
        "openai_subdivision1_iso_code": "ES-GA"
      }
    },
    "kernel_info": {
      "name": "python3"
    },
    "kernelspec": {
      "display_name": "Python 3.9",
      "language": "python",
      "name": "python3"
    },
    "selected_hardware_size": "small"
  },
  "cells": [
    {
      "id": "4f20c484-7f8b-41f3-a95c-4cc695394391",
      "cell_type": "markdown",
      "source": "# PCA and Clustering Visualization\nIn this notebook, we will apply Principal Component Analysis (PCA) to reduce the dimensionality of the dataset. Then, we will visualize the clusters obtained from different clustering methods.",
      "metadata": {
        "noteable": {
          "cell_type": "markdown"
        }
      }
    },
    {
      "id": "ac7797f9-8b53-41c4-ba37-381bc7a3b900",
      "cell_type": "code",
      "metadata": {
        "noteable": {
          "cell_type": "code",
          "output_collection_id": "56cd31ab-acc2-4ef9-9637-95e157204ed5"
        },
        "ExecuteTime": {
          "end_time": "2023-09-06T11:38:02.238942+00:00",
          "start_time": "2023-09-06T11:38:01.587578+00:00"
        }
      },
      "execution_count": null,
      "source": "# Import necessary libraries\nimport pandas as pd\nimport numpy as np\nfrom sklearn.decomposition import PCA\nimport matplotlib.pyplot as plt\nimport seaborn as sns",
      "outputs": []
    },
    {
      "id": "e808126d-f0ca-4196-8626-f97a11b3f4e6",
      "cell_type": "markdown",
      "source": "## Load the Data\nFirst, let's load the data that contains the clustering results.",
      "metadata": {
        "noteable": {
          "cell_type": "markdown"
        }
      }
    },
    {
      "id": "e4132301-a914-49f0-b108-756c5383ed33",
      "cell_type": "code",
      "metadata": {
        "noteable": {
          "cell_type": "code",
          "output_collection_id": "7e869d05-9c3f-4e8f-950b-787400734e3d"
        },
        "ExecuteTime": {
          "end_time": "2023-09-06T11:44:43.189998+00:00",
          "start_time": "2023-09-06T11:44:42.854921+00:00"
        },
        "datalink": {
          "7d3ccbe2-7eeb-41b5-9b61-af4be350edf0": {
            "applied_filters": [],
            "dataframe_info": {
              "default_index_used": true,
              "orig_num_cols": 60,
              "orig_num_rows": 5,
              "orig_size_bytes": 2440,
              "truncated_num_cols": 60,
              "truncated_num_rows": 5,
              "truncated_size_bytes": 2440,
              "truncated_string_columns": []
            },
            "display_id": "7d3ccbe2-7eeb-41b5-9b61-af4be350edf0",
            "dx_settings": {
              "ALLOW_NOTEABLE_ATTRS": true,
              "COLUMN_SAMPLING_METHOD": "outer",
              "DB_LOCATION": ":memory:",
              "DEV_MODE": false,
              "DISPLAY_MAX_COLUMNS": 100,
              "DISPLAY_MAX_ROWS": 50000,
              "DISPLAY_MODE": "simple",
              "ENABLE_ASSIGNMENT": true,
              "ENABLE_DATALINK": true,
              "FLATTEN_COLUMN_VALUES": true,
              "FLATTEN_INDEX_VALUES": false,
              "GENERATE_DEX_METADATA": false,
              "HTML_TABLE_SCHEMA": false,
              "LOG_LEVEL": 30,
              "MAX_RENDER_SIZE_BYTES": 104857600,
              "MAX_STRING_LENGTH": 250,
              "NUM_PAST_SAMPLES_TRACKED": 3,
              "RANDOM_STATE": 12648430,
              "RESET_INDEX_VALUES": false,
              "ROW_SAMPLING_METHOD": "random",
              "SAMPLING_FACTOR": 0.1,
              "SAMPLING_METHOD": "random",
              "STRINGIFY_COLUMN_VALUES": true,
              "STRINGIFY_INDEX_VALUES": false
            },
            "sample_history": [],
            "sampling_time": "2023-09-06T11:38:08.629225",
            "user_variable_name": null,
            "variable_name": "unk_dataframe_ec96491bfecb4309946c5751f12e3b3a"
          },
          "186c049c-e65a-4615-8ded-f1abe83f1eae": {
            "applied_filters": [],
            "dataframe_info": {
              "default_index_used": true,
              "orig_num_cols": 60,
              "orig_num_rows": 5,
              "orig_size_bytes": 2440,
              "truncated_num_cols": 60,
              "truncated_num_rows": 5,
              "truncated_size_bytes": 2440,
              "truncated_string_columns": []
            },
            "display_id": "186c049c-e65a-4615-8ded-f1abe83f1eae",
            "dx_settings": {
              "ALLOW_NOTEABLE_ATTRS": true,
              "COLUMN_SAMPLING_METHOD": "outer",
              "DB_LOCATION": ":memory:",
              "DEV_MODE": false,
              "DISPLAY_MAX_COLUMNS": 100,
              "DISPLAY_MAX_ROWS": 50000,
              "DISPLAY_MODE": "simple",
              "ENABLE_ASSIGNMENT": true,
              "ENABLE_DATALINK": true,
              "FLATTEN_COLUMN_VALUES": true,
              "FLATTEN_INDEX_VALUES": false,
              "GENERATE_DEX_METADATA": false,
              "HTML_TABLE_SCHEMA": false,
              "LOG_LEVEL": 30,
              "MAX_RENDER_SIZE_BYTES": 104857600,
              "MAX_STRING_LENGTH": 250,
              "NUM_PAST_SAMPLES_TRACKED": 3,
              "RANDOM_STATE": 12648430,
              "RESET_INDEX_VALUES": false,
              "ROW_SAMPLING_METHOD": "random",
              "SAMPLING_FACTOR": 0.1,
              "SAMPLING_METHOD": "random",
              "STRINGIFY_COLUMN_VALUES": true,
              "STRINGIFY_INDEX_VALUES": false
            },
            "sample_history": [],
            "sampling_time": "2023-09-06T11:44:43.021713",
            "user_variable_name": null,
            "variable_name": "unk_dataframe_b4bbbf25c6d848c09d01df429f2bd8b0"
          }
        }
      },
      "execution_count": null,
      "source": "# Load the data\nhado_data = pd.read_csv('hado_data_clustering.csv')\n\n# Show the first few rows of the DataFrame\nhado_data.head()",
      "outputs": []
    },
    {
      "id": "c5f68eef-6592-4b76-b8a2-d9d1dd1b22ad",
      "cell_type": "code",
      "metadata": {
        "jupyter": {
          "outputs_hidden": false,
          "source_hidden": false
        },
        "noteable": {
          "cell_type": "code",
          "output_collection_id": "41fece29-9f2c-49d3-a184-e303d49ac290"
        },
        "ExecuteTime": {
          "end_time": "2023-09-06T11:47:06.202809+00:00",
          "start_time": "2023-09-06T11:47:06.047023+00:00"
        }
      },
      "execution_count": null,
      "source": "hado_data = hado_data.rename(columns={'diagnostico_cluster_optimal': 'diagnostico_kmeans',\n                                      'motivo_ing_cluster_optimal': 'motivo_ing_kmeans',\n                                      'motivo_alta_cluster_optimal': 'motivo_alta_kmeans',\n                                      'diagnostico_topic': 'diagnostico_lda'\n                                     }\n                            )",
      "outputs": []
    },
    {
      "id": "10507f65-f36b-43eb-b20f-9f15316f1966",
      "cell_type": "markdown",
      "source": "## Apply PCA\nNow, let's apply Principal Component Analysis (PCA) to reduce the dimensionality of the TF-IDF features. We will reduce it to 2 dimensions for easy visualization.",
      "metadata": {
        "noteable": {
          "cell_type": "markdown"
        }
      }
    },
    {
      "id": "01ed7d33-9d7d-4b53-a23b-09a1f7c145d5",
      "cell_type": "code",
      "metadata": {
        "jupyter": {
          "outputs_hidden": false,
          "source_hidden": false
        },
        "noteable": {
          "cell_type": "code",
          "output_collection_id": "7bfc5e3b-3720-41e7-bdf6-e57fee0e9bfe"
        },
        "ExecuteTime": {
          "end_time": "2023-09-06T11:47:07.338109+00:00",
          "start_time": "2023-09-06T11:47:07.181502+00:00"
        },
        "datalink": {
          "0b671ae3-dbbe-4388-a7fb-dc1359eaa419": {
            "applied_filters": [],
            "dataframe_info": {
              "default_index_used": true,
              "orig_num_cols": 1,
              "orig_num_rows": 4013,
              "orig_size_bytes": 36117,
              "truncated_num_cols": 1,
              "truncated_num_rows": 4013,
              "truncated_size_bytes": 36117,
              "truncated_string_columns": []
            },
            "display_id": "0b671ae3-dbbe-4388-a7fb-dc1359eaa419",
            "dx_settings": {
              "ALLOW_NOTEABLE_ATTRS": true,
              "COLUMN_SAMPLING_METHOD": "outer",
              "DB_LOCATION": ":memory:",
              "DEV_MODE": false,
              "DISPLAY_MAX_COLUMNS": 100,
              "DISPLAY_MAX_ROWS": 50000,
              "DISPLAY_MODE": "simple",
              "ENABLE_ASSIGNMENT": true,
              "ENABLE_DATALINK": true,
              "FLATTEN_COLUMN_VALUES": true,
              "FLATTEN_INDEX_VALUES": false,
              "GENERATE_DEX_METADATA": false,
              "HTML_TABLE_SCHEMA": false,
              "LOG_LEVEL": 30,
              "MAX_RENDER_SIZE_BYTES": 104857600,
              "MAX_STRING_LENGTH": 250,
              "NUM_PAST_SAMPLES_TRACKED": 3,
              "RANDOM_STATE": 12648430,
              "RESET_INDEX_VALUES": false,
              "ROW_SAMPLING_METHOD": "random",
              "SAMPLING_FACTOR": 0.1,
              "SAMPLING_METHOD": "random",
              "STRINGIFY_COLUMN_VALUES": true,
              "STRINGIFY_INDEX_VALUES": false
            },
            "sample_history": [],
            "sampling_time": "2023-09-06T11:39:47.066901",
            "user_variable_name": null,
            "variable_name": "unk_dataframe_ec00b0763866422e9853075bad3a94e3"
          },
          "abd57f83-114d-4000-bb23-396147a8f34b": {
            "applied_filters": [],
            "dataframe_info": {
              "default_index_used": false,
              "orig_num_cols": 1,
              "orig_num_rows": 60,
              "orig_size_bytes": 960,
              "truncated_num_cols": 1,
              "truncated_num_rows": 60,
              "truncated_size_bytes": 960,
              "truncated_string_columns": []
            },
            "display_id": "abd57f83-114d-4000-bb23-396147a8f34b",
            "dx_settings": {
              "ALLOW_NOTEABLE_ATTRS": true,
              "COLUMN_SAMPLING_METHOD": "outer",
              "DB_LOCATION": ":memory:",
              "DEV_MODE": false,
              "DISPLAY_MAX_COLUMNS": 100,
              "DISPLAY_MAX_ROWS": 50000,
              "DISPLAY_MODE": "simple",
              "ENABLE_ASSIGNMENT": true,
              "ENABLE_DATALINK": true,
              "FLATTEN_COLUMN_VALUES": true,
              "FLATTEN_INDEX_VALUES": false,
              "GENERATE_DEX_METADATA": false,
              "HTML_TABLE_SCHEMA": false,
              "LOG_LEVEL": 30,
              "MAX_RENDER_SIZE_BYTES": 104857600,
              "MAX_STRING_LENGTH": 250,
              "NUM_PAST_SAMPLES_TRACKED": 3,
              "RANDOM_STATE": 12648430,
              "RESET_INDEX_VALUES": false,
              "ROW_SAMPLING_METHOD": "random",
              "SAMPLING_FACTOR": 0.1,
              "SAMPLING_METHOD": "random",
              "STRINGIFY_COLUMN_VALUES": true,
              "STRINGIFY_INDEX_VALUES": false
            },
            "sample_history": [],
            "sampling_time": "2023-09-06T11:43:05.852459",
            "user_variable_name": null,
            "variable_name": "unk_dataframe_860f074c66f1455a95e3f958d1a497d3"
          },
          "a6ba9732-41e5-4569-8e8a-ba7292d1330c": {
            "applied_filters": [],
            "dataframe_info": {
              "default_index_used": true,
              "orig_num_cols": 1,
              "orig_num_rows": 4012,
              "orig_size_bytes": 64192,
              "truncated_num_cols": 1,
              "truncated_num_rows": 4012,
              "truncated_size_bytes": 64192,
              "truncated_string_columns": []
            },
            "display_id": "a6ba9732-41e5-4569-8e8a-ba7292d1330c",
            "dx_settings": {
              "ALLOW_NOTEABLE_ATTRS": true,
              "COLUMN_SAMPLING_METHOD": "outer",
              "DB_LOCATION": ":memory:",
              "DEV_MODE": false,
              "DISPLAY_MAX_COLUMNS": 100,
              "DISPLAY_MAX_ROWS": 50000,
              "DISPLAY_MODE": "simple",
              "ENABLE_ASSIGNMENT": true,
              "ENABLE_DATALINK": true,
              "FLATTEN_COLUMN_VALUES": true,
              "FLATTEN_INDEX_VALUES": false,
              "GENERATE_DEX_METADATA": false,
              "HTML_TABLE_SCHEMA": false,
              "LOG_LEVEL": 30,
              "MAX_RENDER_SIZE_BYTES": 104857600,
              "MAX_STRING_LENGTH": 250,
              "NUM_PAST_SAMPLES_TRACKED": 3,
              "RANDOM_STATE": 12648430,
              "RESET_INDEX_VALUES": false,
              "ROW_SAMPLING_METHOD": "random",
              "SAMPLING_FACTOR": 0.1,
              "SAMPLING_METHOD": "random",
              "STRINGIFY_COLUMN_VALUES": true,
              "STRINGIFY_INDEX_VALUES": false
            },
            "sample_history": [],
            "sampling_time": "2023-09-06T11:44:06.511181",
            "user_variable_name": null,
            "variable_name": "unk_dataframe_93335e025ae04f079cfbffda9e3cfc39"
          }
        },
        "dx": {
          "dashboard": {
            "multiViews": []
          },
          "fieldMetadata": {},
          "updated": 1694000390378,
          "views": [
            {
              "annotationRules": [],
              "chart": {},
              "chartMode": "grid",
              "confoRules": [],
              "decoration": {
                "footer": "",
                "subtitle": "",
                "title": "Table"
              },
              "facets": [],
              "filterSettings": {
                "SHOW_FILTER_PANEL": true,
                "filters": []
              },
              "id": "first-view",
              "isDefault": true,
              "type": "public",
              "userID": ""
            },
            {
              "annotationRules": [],
              "chart": {},
              "chartMode": "grid",
              "confoRules": [],
              "decoration": {
                "footer": "",
                "subtitle": "",
                "title": "Table"
              },
              "facets": [],
              "filterSettings": {
                "SHOW_FILTER_PANEL": true,
                "filters": [
                  {
                    "column": "diagnostico",
                    "predicate": "in",
                    "type": "DIMENSION_FILTER",
                    "value": [
                      "true"
                    ]
                  }
                ]
              },
              "id": "first-view",
              "isDefault": true,
              "isTransitory": true,
              "type": "public",
              "userID": ""
            }
          ]
        }
      },
      "execution_count": null,
      "source": "hado_data = hado_data.dropna(subset=['diagnostico'])\nhado_data.reset_index(drop=True, inplace=True)",
      "outputs": []
    },
    {
      "id": "a0fb520d-1566-43e6-aae8-383296b5f3da",
      "cell_type": "code",
      "metadata": {
        "jupyter": {
          "outputs_hidden": false,
          "source_hidden": false
        },
        "noteable": {
          "cell_type": "code",
          "output_collection_id": "1e374378-eab4-4762-8b15-2eb4091ec2a4"
        },
        "ExecuteTime": {
          "end_time": "2023-09-06T11:47:07.635152+00:00",
          "start_time": "2023-09-06T11:47:07.463852+00:00"
        }
      },
      "execution_count": null,
      "source": "# Importar la biblioteca necesaria para TF-IDF\nfrom sklearn.feature_extraction.text import TfidfVectorizer\n\n# Crear un objeto TF-IDF Vectorizer\ntfidf_vectorizer = TfidfVectorizer(max_features=5000)\n\n# Ajustar y transformar los datos de la columna 'diagnostico' al formato TF-IDF\ndiagnostico_tfidf = tfidf_vectorizer.fit_transform(hado_data['diagnostico'])",
      "outputs": []
    },
    {
      "id": "780f0cad-45ea-4cef-a051-09d392ee7cf3",
      "cell_type": "code",
      "metadata": {
        "noteable": {
          "cell_type": "code",
          "output_collection_id": "911478de-9bd8-47d4-9556-6ee8ddae0d55"
        },
        "ExecuteTime": {
          "end_time": "2023-09-06T11:47:17.197971+00:00",
          "start_time": "2023-09-06T11:47:07.702642+00:00"
        },
        "datalink": {
          "e75ff50b-f938-4ecc-ad49-6864d3752e8d": {
            "applied_filters": [],
            "dataframe_info": {
              "default_index_used": true,
              "orig_num_cols": 2,
              "orig_num_rows": 5,
              "orig_size_bytes": 120,
              "truncated_num_cols": 2,
              "truncated_num_rows": 5,
              "truncated_size_bytes": 120,
              "truncated_string_columns": []
            },
            "display_id": "e75ff50b-f938-4ecc-ad49-6864d3752e8d",
            "dx_settings": {
              "ALLOW_NOTEABLE_ATTRS": true,
              "COLUMN_SAMPLING_METHOD": "outer",
              "DB_LOCATION": ":memory:",
              "DEV_MODE": false,
              "DISPLAY_MAX_COLUMNS": 100,
              "DISPLAY_MAX_ROWS": 50000,
              "DISPLAY_MODE": "simple",
              "ENABLE_ASSIGNMENT": true,
              "ENABLE_DATALINK": true,
              "FLATTEN_COLUMN_VALUES": true,
              "FLATTEN_INDEX_VALUES": false,
              "GENERATE_DEX_METADATA": false,
              "HTML_TABLE_SCHEMA": false,
              "LOG_LEVEL": 30,
              "MAX_RENDER_SIZE_BYTES": 104857600,
              "MAX_STRING_LENGTH": 250,
              "NUM_PAST_SAMPLES_TRACKED": 3,
              "RANDOM_STATE": 12648430,
              "RESET_INDEX_VALUES": false,
              "ROW_SAMPLING_METHOD": "random",
              "SAMPLING_FACTOR": 0.1,
              "SAMPLING_METHOD": "random",
              "STRINGIFY_COLUMN_VALUES": true,
              "STRINGIFY_INDEX_VALUES": false
            },
            "sample_history": [],
            "sampling_time": "2023-09-06T11:46:22.670431",
            "user_variable_name": null,
            "variable_name": "unk_dataframe_f48d8476d7624483bc954692da1178f2"
          },
          "89e2997d-1557-4db2-a8d5-7b1eddd8218e": {
            "applied_filters": [],
            "dataframe_info": {
              "default_index_used": true,
              "orig_num_cols": 2,
              "orig_num_rows": 5,
              "orig_size_bytes": 120,
              "truncated_num_cols": 2,
              "truncated_num_rows": 5,
              "truncated_size_bytes": 120,
              "truncated_string_columns": []
            },
            "display_id": "89e2997d-1557-4db2-a8d5-7b1eddd8218e",
            "dx_settings": {
              "ALLOW_NOTEABLE_ATTRS": true,
              "COLUMN_SAMPLING_METHOD": "outer",
              "DB_LOCATION": ":memory:",
              "DEV_MODE": false,
              "DISPLAY_MAX_COLUMNS": 100,
              "DISPLAY_MAX_ROWS": 50000,
              "DISPLAY_MODE": "simple",
              "ENABLE_ASSIGNMENT": true,
              "ENABLE_DATALINK": true,
              "FLATTEN_COLUMN_VALUES": true,
              "FLATTEN_INDEX_VALUES": false,
              "GENERATE_DEX_METADATA": false,
              "HTML_TABLE_SCHEMA": false,
              "LOG_LEVEL": 30,
              "MAX_RENDER_SIZE_BYTES": 104857600,
              "MAX_STRING_LENGTH": 250,
              "NUM_PAST_SAMPLES_TRACKED": 3,
              "RANDOM_STATE": 12648430,
              "RESET_INDEX_VALUES": false,
              "ROW_SAMPLING_METHOD": "random",
              "SAMPLING_FACTOR": 0.1,
              "SAMPLING_METHOD": "random",
              "STRINGIFY_COLUMN_VALUES": true,
              "STRINGIFY_INDEX_VALUES": false
            },
            "sample_history": [],
            "sampling_time": "2023-09-06T11:47:17.039847",
            "user_variable_name": null,
            "variable_name": "unk_dataframe_8d922033cf6e4d9abd219909a8091f88"
          }
        }
      },
      "execution_count": null,
      "source": "# Initialize PCA and the X vector for dimensionality reduction\npca = PCA(n_components=2)\n\n# Assuming that the TF-IDF features are stored in a variable named 'diagnostico_tfidf'\nX = diagnostico_tfidf.toarray()\n\n# Apply PCA\nprincipalComponents = pca.fit_transform(X)\n\n# Create a DataFrame with the principal components\nprincipalDf = pd.DataFrame(data = principalComponents, columns = ['principal component 1', 'principal component 2'])\n\n# Show the first few rows of the DataFrame\nprincipalDf.head()",
      "outputs": []
    },
    {
      "id": "72dbb96e-ea94-4ddd-8fa2-dda989ea28e7",
      "cell_type": "markdown",
      "source": "## Visualize Clusters\nNow that we have reduced the dimensionality of our data, let's visualize the clusters obtained from different clustering methods.",
      "metadata": {
        "noteable": {
          "cell_type": "markdown"
        }
      }
    },
    {
      "id": "cdd6e1af-7b76-435f-84b9-32e77b857c59",
      "cell_type": "code",
      "metadata": {
        "noteable": {
          "cell_type": "code",
          "output_collection_id": "f6f3220c-f482-4617-ae37-fdc8ad1e5195"
        },
        "ExecuteTime": {
          "end_time": "2023-09-06T11:53:15.995435+00:00",
          "start_time": "2023-09-06T11:53:14.592997+00:00"
        },
        "jupyter": {
          "outputs_hidden": false
        }
      },
      "execution_count": null,
      "source": "# Merge the principal components DataFrame with the original DataFrame\nfinalDf = pd.concat([principalDf, hado_data[['diagnostico_kmeans', 'diagnostico_lda', 'diagnostico_hierarchical', 'diagnostico_dbscan']]], axis = 1)\n\n# Plotting the clusters obtained from different methods\nfig, axes = plt.subplots(4, 1, figsize=(8, 20))\n\nfor ax, method in zip(axes, ['diagnostico_kmeans', 'diagnostico_lda', 'diagnostico_hierarchical', 'diagnostico_dbscan']):\n    sns.scatterplot(x='principal component 1', y='principal component 2', hue=method, data=finalDf, ax=ax)\n    ax.set_title(f'Clusters from {method}')\n\nplt.show()",
      "outputs": []
    },
    {
      "id": "d2c2b476-fa6f-4cd6-b96c-09f698b21eeb",
      "cell_type": "markdown",
      "source": "### Interpretación y Conclusiones\n\n#### Observaciones Clave\n1. **PCA**: La reducción de dimensionalidad a través de PCA parece efectiva para visualizar los datos en un espacio bidimensional.\n  \n2. **Visualización de Clusters**: \n    - **K-means**: Los clusters parecen bastante separados, lo que indica una buena agrupación.\n    - **LDA**: Los clusters están menos separados en comparación con K-means.\n    - **Clustering Jerárquico**: Similar a K-means, los clusters parecen bien separados.\n    - **DBSCAN**: Este método parece identificar un cluster muy grande y varios más pequeños, lo que podría indicar la presencia de ruido o outliers.\n\n3. **Métricas de Validación**:\n    - **Validación Interna**: DBSCAN tiene el puntaje de Silhouette más alto, lo que generalmente indica una mejor separación de los clusters. Sin embargo, este método también tiene el puntaje de Davies-Bouldin más bajo, lo que sugiere que los clusters no están tan bien definidos.\n    - **Validación Externa**: El Clustering Jerárquico tiene el índice Rand ajustado más alto y la información mutua normalizada más alta, lo que sugiere que este método es el más preciso en términos de asignación de clusters en comparación con las etiquetas verdaderas.\n\n#### Conclusiones\n- El PCA es efectivo para reducir la dimensionalidad de los datos y facilitar la visualización.\n- K-means y el Clustering Jerárquico parecen ser los métodos más efectivos para este conjunto de datos, según las métricas de validación.\n- DBSCAN podría requerir más ajustes para mejorar la calidad de los clusters.\n- La validación externa sugiere que el Clustering Jerárquico es el más alineado con las etiquetas verdaderas, lo que podría hacerlo más útil para interpretaciones clínicas.\n\n#### Pasos Futuros\n- Podría ser útil probar otros métodos de clustering o ajustar los parámetros de los métodos actuales para mejorar la calidad de los clusters.\n- También sería interesante explorar cómo las diferentes características (como las variables clínicas) se distribuyen entre los clusters para obtener más información clínica.",
      "metadata": {
        "noteable": {
          "cell_type": "markdown"
        }
      }
    }
  ]
}