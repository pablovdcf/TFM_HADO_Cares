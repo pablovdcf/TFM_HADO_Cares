{
  "cells": [
    {
      "cell_type": "markdown",
      "id": "4e1612aa-0ee7-4be4-8489-6e616f1e7326",
      "metadata": {
        "noteable": {
          "cell_type": "markdown"
        }
      },
      "source": [
        "# Comparación Cruzada con Otros Métodos de Clustering\n",
        "\n",
        "El objetivo de esta notebook es comparar los resultados de clustering obtenidos mediante diferentes métodos para validar la robustez de nuestras interpretaciones. Vamos a utilizar los siguientes métodos para la comparación:\n",
        "\n",
        "- K-means\n",
        "- LDA (Análisis Discriminante Lineal)\n",
        "- Clustering Jerárquico\n",
        "- DBSCAN\n",
        "- Spectral Clustering\n",
        "- Agglomerative Clustering"
      ]
    },
    {
      "cell_type": "markdown",
      "id": "3d6bf97f-3528-4f42-97d4-2f807ed44f84",
      "metadata": {
        "noteable": {
          "cell_type": "markdown"
        }
      },
      "source": [
        "## Cargar los Datos\n",
        "\n",
        "Primero, vamos a cargar el conjunto de datos que hemos estado utilizando para los análisis de clustering anteriores."
      ]
    },
    {
      "cell_type": "code",
      "execution_count": null,
      "id": "df88a982-8fe9-454a-ac39-aad38b76d5df",
      "metadata": {
        "ExecuteTime": {
          "end_time": "2023-09-06T13:00:00.786267+00:00",
          "start_time": "2023-09-06T13:00:00.452139+00:00"
        },
        "datalink": {
          "3c557909-d406-4376-982b-c4202babaec3": {
            "applied_filters": [],
            "dataframe_info": {
              "default_index_used": true,
              "orig_num_cols": 59,
              "orig_num_rows": 5,
              "orig_size_bytes": 2400,
              "truncated_num_cols": 59,
              "truncated_num_rows": 5,
              "truncated_size_bytes": 2400,
              "truncated_string_columns": []
            },
            "display_id": "3c557909-d406-4376-982b-c4202babaec3",
            "dx_settings": {
              "ALLOW_NOTEABLE_ATTRS": true,
              "COLUMN_SAMPLING_METHOD": "outer",
              "DB_LOCATION": ":memory:",
              "DEV_MODE": false,
              "DISPLAY_MAX_COLUMNS": 100,
              "DISPLAY_MAX_ROWS": 50000,
              "DISPLAY_MODE": "simple",
              "ENABLE_ASSIGNMENT": true,
              "ENABLE_DATALINK": true,
              "FLATTEN_COLUMN_VALUES": true,
              "FLATTEN_INDEX_VALUES": false,
              "GENERATE_DEX_METADATA": false,
              "HTML_TABLE_SCHEMA": false,
              "LOG_LEVEL": 30,
              "MAX_RENDER_SIZE_BYTES": 104857600,
              "MAX_STRING_LENGTH": 250,
              "NUM_PAST_SAMPLES_TRACKED": 3,
              "RANDOM_STATE": 12648430,
              "RESET_INDEX_VALUES": false,
              "ROW_SAMPLING_METHOD": "random",
              "SAMPLING_FACTOR": 0.1,
              "SAMPLING_METHOD": "random",
              "STRINGIFY_COLUMN_VALUES": true,
              "STRINGIFY_INDEX_VALUES": false
            },
            "sample_history": [],
            "sampling_time": "2023-09-06T13:00:00.615057",
            "user_variable_name": null,
            "variable_name": "unk_dataframe_6840b02c17b54009b3b9de6fec9904a9"
          },
          "5c632467-5cb2-41b1-8ffb-8e27cabc8647": {
            "applied_filters": [],
            "dataframe_info": {
              "default_index_used": true,
              "orig_num_cols": 60,
              "orig_num_rows": 5,
              "orig_size_bytes": 2440,
              "truncated_num_cols": 60,
              "truncated_num_rows": 5,
              "truncated_size_bytes": 2440,
              "truncated_string_columns": []
            },
            "display_id": "5c632467-5cb2-41b1-8ffb-8e27cabc8647",
            "dx_settings": {
              "ALLOW_NOTEABLE_ATTRS": true,
              "COLUMN_SAMPLING_METHOD": "outer",
              "DB_LOCATION": ":memory:",
              "DEV_MODE": false,
              "DISPLAY_MAX_COLUMNS": 100,
              "DISPLAY_MAX_ROWS": 50000,
              "DISPLAY_MODE": "simple",
              "ENABLE_ASSIGNMENT": true,
              "ENABLE_DATALINK": true,
              "FLATTEN_COLUMN_VALUES": true,
              "FLATTEN_INDEX_VALUES": false,
              "GENERATE_DEX_METADATA": false,
              "HTML_TABLE_SCHEMA": false,
              "LOG_LEVEL": 30,
              "MAX_RENDER_SIZE_BYTES": 104857600,
              "MAX_STRING_LENGTH": 250,
              "NUM_PAST_SAMPLES_TRACKED": 3,
              "RANDOM_STATE": 12648430,
              "RESET_INDEX_VALUES": false,
              "ROW_SAMPLING_METHOD": "random",
              "SAMPLING_FACTOR": 0.1,
              "SAMPLING_METHOD": "random",
              "STRINGIFY_COLUMN_VALUES": true,
              "STRINGIFY_INDEX_VALUES": false
            },
            "sample_history": [],
            "sampling_time": "2023-09-06T12:54:24.492345",
            "user_variable_name": null,
            "variable_name": "unk_dataframe_0f04594ada3844a99d2c85504416aec2"
          }
        },
        "noteable": {
          "cell_type": "code",
          "output_collection_id": "2ca38a33-c796-48bf-b6d7-963c19976116"
        }
      },
      "outputs": [],
      "source": [
        "import pandas as pd\n",
        "\n",
        "# Cargar los datos\n",
        "hado_data = pd.read_csv('hado_data_clustering.csv')\n",
        "\n",
        "# Mostrar las primeras filas del DataFrame\n",
        "hado_data.head()"
      ]
    },
    {
      "cell_type": "markdown",
      "id": "b4f8d156-f798-4c25-8f91-00ff402cc849",
      "metadata": {
        "noteable": {
          "cell_type": "markdown"
        }
      },
      "source": [
        "## Preprocesamiento de Datos\n",
        "\n",
        "Antes de aplicar los métodos de clustering, es crucial preparar los datos. Esto incluye la normalización de las características y la codificación de las variables categóricas."
      ]
    },
    {
      "cell_type": "code",
      "execution_count": null,
      "id": "f2888fdd-ec15-4f4d-b2cc-2f9b7c993b9f",
      "metadata": {
        "ExecuteTime": {
          "end_time": "2023-09-06T13:00:27.738429+00:00",
          "start_time": "2023-09-06T13:00:27.139481+00:00"
        },
        "datalink": {
          "d0b56ecb-cf61-40c0-89fc-226498559392": {
            "applied_filters": [],
            "dataframe_info": {
              "default_index_used": true,
              "orig_num_cols": 59,
              "orig_num_rows": 5,
              "orig_size_bytes": 2400,
              "truncated_num_cols": 59,
              "truncated_num_rows": 5,
              "truncated_size_bytes": 2400,
              "truncated_string_columns": []
            },
            "display_id": "d0b56ecb-cf61-40c0-89fc-226498559392",
            "dx_settings": {
              "ALLOW_NOTEABLE_ATTRS": true,
              "COLUMN_SAMPLING_METHOD": "outer",
              "DB_LOCATION": ":memory:",
              "DEV_MODE": false,
              "DISPLAY_MAX_COLUMNS": 100,
              "DISPLAY_MAX_ROWS": 50000,
              "DISPLAY_MODE": "simple",
              "ENABLE_ASSIGNMENT": true,
              "ENABLE_DATALINK": true,
              "FLATTEN_COLUMN_VALUES": true,
              "FLATTEN_INDEX_VALUES": false,
              "GENERATE_DEX_METADATA": false,
              "HTML_TABLE_SCHEMA": false,
              "LOG_LEVEL": 30,
              "MAX_RENDER_SIZE_BYTES": 104857600,
              "MAX_STRING_LENGTH": 250,
              "NUM_PAST_SAMPLES_TRACKED": 3,
              "RANDOM_STATE": 12648430,
              "RESET_INDEX_VALUES": false,
              "ROW_SAMPLING_METHOD": "random",
              "SAMPLING_FACTOR": 0.1,
              "SAMPLING_METHOD": "random",
              "STRINGIFY_COLUMN_VALUES": true,
              "STRINGIFY_INDEX_VALUES": false
            },
            "sample_history": [],
            "sampling_time": "2023-09-06T13:00:27.570402",
            "user_variable_name": null,
            "variable_name": "unk_dataframe_9dce679edc4c4858a01607f3babee1ee"
          }
        },
        "noteable": {
          "cell_type": "code",
          "output_collection_id": "f8f96f31-a201-4da2-bcbd-f757c2f71160"
        }
      },
      "outputs": [],
      "source": [
        "from sklearn.preprocessing import StandardScaler, LabelEncoder\n",
        "\n",
        "# Normalizar las características numéricas\n",
        "scaler = StandardScaler()\n",
        "numerical_features = hado_data.select_dtypes(include=['float64', 'int64']).columns\n",
        "hado_data[numerical_features] = scaler.fit_transform(hado_data[numerical_features])\n",
        "\n",
        "# Codificar las variables categóricas\n",
        "label_encoder = LabelEncoder()\n",
        "categorical_features = hado_data.select_dtypes(include=['object']).columns\n",
        "for feature in categorical_features:\n",
        "    hado_data[feature] = label_encoder.fit_transform(hado_data[feature])\n",
        "\n",
        "# Mostrar las primeras filas del DataFrame procesado\n",
        "hado_data.head()"
      ]
    },
    {
      "cell_type": "markdown",
      "id": "2a21173f-7bae-4d31-a699-1d64ee7515df",
      "metadata": {
        "noteable": {
          "cell_type": "markdown"
        }
      },
      "source": [
        "## Aplicar Métodos de Clustering\n",
        "\n",
        "Ahora que los datos están preparados, vamos a aplicar diferentes métodos de clustering y almacenar los resultados para su posterior comparación."
      ]
    },
    {
      "cell_type": "code",
      "execution_count": null,
      "id": "4f8587ca-0d59-4d57-b854-f9f6f8870a11",
      "metadata": {
        "ExecuteTime": {
          "end_time": "2023-09-06T13:06:29.596752+00:00",
          "start_time": "2023-09-06T13:04:11.341212+00:00"
        },
        "noteable": {
          "cell_type": "code",
          "output_collection_id": "89b2afa8-f1eb-4901-bd51-aa772f2c1dea"
        }
      },
      "outputs": [],
      "source": [
        "from sklearn.cluster import KMeans, SpectralClustering, AgglomerativeClustering, DBSCAN\n",
        "from sklearn.decomposition import LatentDirichletAllocation as LDA\n",
        "from sklearn.metrics import silhouette_score\n",
        "\n",
        "# Lista para almacenar los resultados de los diferentes métodos\n",
        "clustering_results = {}\n",
        "\n",
        "# K-means con k=3\n",
        "kmeans = KMeans(n_clusters=3, random_state=42)\n",
        "kmeans_labels = kmeans.fit_predict(hado_data)\n",
        "clustering_results['K-means'] = kmeans_labels\n",
        "\n",
        "# LDA con n=3\n",
        "# Nota: LDA requiere que todos los valores sean no negativos. Asegurémonos de que este sea el caso.\n",
        "hado_data_non_neg = hado_data.applymap(lambda x: x if x >= 0 else 0)\n",
        "lda = LDA(n_components=3, random_state=42)\n",
        "lda_labels = lda.fit_transform(hado_data_non_neg)\n",
        "clustering_results['LDA'] = lda_labels.argmax(axis=1)\n",
        "\n",
        "# Clustering Jerárquico con enlace promedio\n",
        "agg_clustering = AgglomerativeClustering(n_clusters=3, linkage='average')\n",
        "agg_labels = agg_clustering.fit_predict(hado_data)\n",
        "clustering_results['Agglomerative'] = agg_labels\n",
        "\n",
        "# DBSCAN\n",
        "dbscan = DBSCAN(eps=0.5, min_samples=5)\n",
        "dbscan_labels = dbscan.fit_predict(hado_data)\n",
        "clustering_results['DBSCAN'] = dbscan_labels\n",
        "\n",
        "# Spectral Clustering\n",
        "spectral = SpectralClustering(n_clusters=3, affinity='nearest_neighbors', n_neighbors=10)\n",
        "spectral_labels = spectral.fit_predict(hado_data)\n",
        "clustering_results['Spectral'] = spectral_labels\n",
        "\n",
        "# Mostrar los resultados\n",
        "clustering_results"
      ]
    },
    {
      "cell_type": "markdown",
      "id": "50c9ac97-41f0-4cfd-86ef-e70b7ddf3942",
      "metadata": {
        "noteable": {
          "cell_type": "markdown"
        }
      },
      "source": [
        "## Comparación de Resultados\n",
        "\n",
        "Una vez que tenemos los resultados de los diferentes métodos de clustering, podemos compararlos utilizando métricas como el índice de Rand ajustado y la puntuación de silueta para evaluar la similitud y la calidad de los clusters generados."
      ]
    },
    {
      "cell_type": "code",
      "execution_count": null,
      "id": "df6e54f8-662d-42ef-bdba-59611752ceb3",
      "metadata": {
        "ExecuteTime": {
          "end_time": "2023-09-06T13:07:32.949489+00:00",
          "start_time": "2023-09-06T13:07:32.609518+00:00"
        },
        "datalink": {
          "a8dcb1c7-1832-4c78-b009-a988dac8e1bd": {
            "applied_filters": [],
            "dataframe_info": {
              "default_index_used": true,
              "orig_num_cols": 3,
              "orig_num_rows": 10,
              "orig_size_bytes": 320,
              "truncated_num_cols": 3,
              "truncated_num_rows": 10,
              "truncated_size_bytes": 320,
              "truncated_string_columns": []
            },
            "display_id": "a8dcb1c7-1832-4c78-b009-a988dac8e1bd",
            "dx_settings": {
              "ALLOW_NOTEABLE_ATTRS": true,
              "COLUMN_SAMPLING_METHOD": "outer",
              "DB_LOCATION": ":memory:",
              "DEV_MODE": false,
              "DISPLAY_MAX_COLUMNS": 100,
              "DISPLAY_MAX_ROWS": 50000,
              "DISPLAY_MODE": "simple",
              "ENABLE_ASSIGNMENT": true,
              "ENABLE_DATALINK": true,
              "FLATTEN_COLUMN_VALUES": true,
              "FLATTEN_INDEX_VALUES": false,
              "GENERATE_DEX_METADATA": false,
              "HTML_TABLE_SCHEMA": false,
              "LOG_LEVEL": 30,
              "MAX_RENDER_SIZE_BYTES": 104857600,
              "MAX_STRING_LENGTH": 250,
              "NUM_PAST_SAMPLES_TRACKED": 3,
              "RANDOM_STATE": 12648430,
              "RESET_INDEX_VALUES": false,
              "ROW_SAMPLING_METHOD": "random",
              "SAMPLING_FACTOR": 0.1,
              "SAMPLING_METHOD": "random",
              "STRINGIFY_COLUMN_VALUES": true,
              "STRINGIFY_INDEX_VALUES": false
            },
            "sample_history": [],
            "sampling_time": "2023-09-06T13:07:32.791014",
            "user_variable_name": "comparison_results_df",
            "variable_name": "comparison_results_df"
          }
        },
        "noteable": {
          "cell_type": "code",
          "output_collection_id": "395e2bf6-494c-4548-8c18-9dfa480b3eff"
        }
      },
      "outputs": [],
      "source": [
        "from sklearn.metrics import adjusted_rand_score\n",
        "\n",
        "# Lista para almacenar los resultados de comparación\n",
        "comparison_results = []\n",
        "\n",
        "# Comparar los resultados de los diferentes métodos de clustering\n",
        "methods = list(clustering_results.keys())\n",
        "for i in range(len(methods) - 1):\n",
        "    for j in range(i + 1, len(methods)):\n",
        "        method1 = methods[i]\n",
        "        method2 = methods[j]\n",
        "        ari = adjusted_rand_score(clustering_results[method1], clustering_results[method2])\n",
        "        comparison_results.append({'Method1': method1, 'Method2': method2, 'Adjusted Rand Index': ari})\n",
        "\n",
        "# Convertir a DataFrame para facilitar la visualización\n",
        "comparison_results_df = pd.DataFrame(comparison_results)\n",
        "comparison_results_df"
      ]
    },
    {
      "cell_type": "markdown",
      "id": "e9509462-dce9-4298-9dae-c8a2cd285639",
      "metadata": {
        "noteable": {
          "cell_type": "markdown"
        }
      },
      "source": [
        "Los resultados del índice de Rand ajustado (ARI) entre los diferentes métodos de clustering indican lo siguiente:\n",
        "\n",
        "1. **K-means y LDA**: Un ARI de 0.449 sugiere una moderada similitud entre estos dos métodos.\n",
        "2. **K-means y Aglomerativo**: Un ARI de 0.566 indica una similitud relativamente alta.\n",
        "3. **K-means y DBSCAN**: Un ARI cercano a cero (-0.0005) sugiere que estos métodos son bastante diferentes en sus asignaciones de cluster.\n",
        "4. **K-means y Espectral**: Un ARI de 0.807 es bastante alto, lo que sugiere que estos dos métodos son muy similares en sus asignaciones de cluster.\n",
        "5. **LDA y Aglomerativo**: Un ARI de 0.410 indica una similitud moderada.\n",
        "6. **LDA y DBSCAN**: Un ARI cercano a cero (0.00097) sugiere que estos métodos son bastante diferentes.\n",
        "7. **LDA y Espectral**: Un ARI de 0.428 indica una similitud moderada.\n",
        "8. **Aglomerativo y DBSCAN**: Un ARI cercano a cero (-0.00006) sugiere que estos métodos son bastante diferentes.\n",
        "9. **Aglomerativo y Espectral**: Un ARI de 0.694 es bastante alto, lo que sugiere que estos dos métodos son muy similares.\n",
        "10. **DBSCAN y Espectral**: Un ARI cercano a cero (-0.00028) sugiere que estos métodos son bastante diferentes.\n",
        "\n",
        "### Conclusiones:\n",
        "\n",
        "- **Similitud Alta**: K-means y Espectral, Aglomerativo y Espectral.\n",
        "- **Similitud Moderada**: K-means y LDA, K-means y Aglomerativo, LDA y Aglomerativo, LDA y Espectral.\n",
        "- **Similitud Baja o Nula**: K-means y DBSCAN, LDA y DBSCAN, Aglomerativo y DBSCAN, DBSCAN y Espectral.\n",
        "\n",
        "Estos resultados pueden ayudar a entender qué métodos de clustering tienden a agrupar los datos de manera similar y cuáles no. Esto es útil para validar la robustez de nuestras interpretaciones de los clusters."
      ]
    }
  ],
  "metadata": {
    "kernel_info": {
      "name": "python3"
    },
    "kernelspec": {
      "display_name": "Python 3.9",
      "language": "python",
      "name": "python3"
    },
    "noteable-chatgpt": {
      "create_notebook": {
        "openai_conversation_id": "064209d2-f41c-5e87-8376-9751f75cf659",
        "openai_ephemeral_user_id": "6056224a-3afb-5b23-bf16-ca6334443c6f",
        "openai_subdivision1_iso_code": "ES-GA"
      }
    },
    "selected_hardware_size": "small"
  },
  "nbformat": 4,
  "nbformat_minor": 5
}
