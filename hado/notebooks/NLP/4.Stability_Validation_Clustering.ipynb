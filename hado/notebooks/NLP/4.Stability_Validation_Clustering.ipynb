{
  "cells": [
    {
      "cell_type": "markdown",
      "id": "8751d459-adae-4c3a-8c2c-1184e7fe71bb",
      "metadata": {
        "noteable": {
          "cell_type": "markdown"
        }
      },
      "source": [
        "# Validación de Estabilidad en Clustering\n",
        "\n",
        "La validación de estabilidad evalúa cómo los resultados del clustering cambian cuando se aplica el mismo método a múltiples muestras del conjunto de datos o cuando se cambian los parámetros del algoritmo. Esta es una forma efectiva de medir la robustez de un modelo de clustering.\n",
        "\n",
        "## Objetivos\n",
        "\n",
        "- Evaluar la estabilidad de diferentes métodos de clustering (K-means, LDA, Clustering Jerárquico, DBSCAN) aplicados al conjunto de datos `hado_data_clustering.csv`.\n",
        "\n",
        "- Utilizar métricas como el índice de Rand ajustado para comparar los resultados de diferentes ejecuciones o configuraciones."
      ]
    },
    {
      "cell_type": "markdown",
      "id": "3daa50ac-acaa-41fa-9634-369f0d53f14a",
      "metadata": {
        "noteable": {
          "cell_type": "markdown"
        }
      },
      "source": [
        "## Utilizando LabelEncoder para Convertir Datos Categóricos a Numéricos\n",
        "Si tenemos columnas con datos categóricos o de texto, podemos utilizar `LabelEncoder` de scikit-learn para convertir estas columnas en valores numéricos. Esto es especialmente útil para algoritmos de aprendizaje automático que requieren entradas numéricas."
      ]
    },
    {
      "cell_type": "code",
      "execution_count": null,
      "id": "698e843d-c10e-4a1b-8a4b-b34cb8ea30d9",
      "metadata": {
        "ExecuteTime": {
          "end_time": "2023-09-06T12:39:20.680232+00:00",
          "start_time": "2023-09-06T12:39:20.371826+00:00"
        },
        "datalink": {
          "7ed589e4-b1b1-49c7-9c95-ec76a24133fc": {
            "applied_filters": [],
            "dataframe_info": {
              "default_index_used": true,
              "orig_num_cols": 50,
              "orig_num_rows": 5,
              "orig_size_bytes": 2040,
              "truncated_num_cols": 50,
              "truncated_num_rows": 5,
              "truncated_size_bytes": 2040,
              "truncated_string_columns": []
            },
            "display_id": "7ed589e4-b1b1-49c7-9c95-ec76a24133fc",
            "dx_settings": {
              "ALLOW_NOTEABLE_ATTRS": true,
              "COLUMN_SAMPLING_METHOD": "outer",
              "DB_LOCATION": ":memory:",
              "DEV_MODE": false,
              "DISPLAY_MAX_COLUMNS": 100,
              "DISPLAY_MAX_ROWS": 50000,
              "DISPLAY_MODE": "simple",
              "ENABLE_ASSIGNMENT": true,
              "ENABLE_DATALINK": true,
              "FLATTEN_COLUMN_VALUES": true,
              "FLATTEN_INDEX_VALUES": false,
              "GENERATE_DEX_METADATA": false,
              "HTML_TABLE_SCHEMA": false,
              "LOG_LEVEL": 30,
              "MAX_RENDER_SIZE_BYTES": 104857600,
              "MAX_STRING_LENGTH": 250,
              "NUM_PAST_SAMPLES_TRACKED": 3,
              "RANDOM_STATE": 12648430,
              "RESET_INDEX_VALUES": false,
              "ROW_SAMPLING_METHOD": "random",
              "SAMPLING_FACTOR": 0.1,
              "SAMPLING_METHOD": "random",
              "STRINGIFY_COLUMN_VALUES": true,
              "STRINGIFY_INDEX_VALUES": false
            },
            "sample_history": [],
            "sampling_time": "2023-09-06T12:39:17.568498",
            "user_variable_name": null,
            "variable_name": "unk_dataframe_765ec11c639748ec89935e1c6c560df2"
          },
          "88190478-c859-4155-8a5e-2397f936f897": {
            "applied_filters": [],
            "dataframe_info": {
              "default_index_used": true,
              "orig_num_cols": 50,
              "orig_num_rows": 5,
              "orig_size_bytes": 2040,
              "truncated_num_cols": 50,
              "truncated_num_rows": 5,
              "truncated_size_bytes": 2040,
              "truncated_string_columns": []
            },
            "display_id": "88190478-c859-4155-8a5e-2397f936f897",
            "dx_settings": {
              "ALLOW_NOTEABLE_ATTRS": true,
              "COLUMN_SAMPLING_METHOD": "outer",
              "DB_LOCATION": ":memory:",
              "DEV_MODE": false,
              "DISPLAY_MAX_COLUMNS": 100,
              "DISPLAY_MAX_ROWS": 50000,
              "DISPLAY_MODE": "simple",
              "ENABLE_ASSIGNMENT": true,
              "ENABLE_DATALINK": true,
              "FLATTEN_COLUMN_VALUES": true,
              "FLATTEN_INDEX_VALUES": false,
              "GENERATE_DEX_METADATA": false,
              "HTML_TABLE_SCHEMA": false,
              "LOG_LEVEL": 30,
              "MAX_RENDER_SIZE_BYTES": 104857600,
              "MAX_STRING_LENGTH": 250,
              "NUM_PAST_SAMPLES_TRACKED": 3,
              "RANDOM_STATE": 12648430,
              "RESET_INDEX_VALUES": false,
              "ROW_SAMPLING_METHOD": "random",
              "SAMPLING_FACTOR": 0.1,
              "SAMPLING_METHOD": "random",
              "STRINGIFY_COLUMN_VALUES": true,
              "STRINGIFY_INDEX_VALUES": false
            },
            "sample_history": [],
            "sampling_time": "2023-09-06T12:39:20.508562",
            "user_variable_name": null,
            "variable_name": "unk_dataframe_3609571930694093a834fd86ffc3d63d"
          },
          "ca8a148f-3bf6-43f0-9d4f-76aeaf0e3b2c": {
            "applied_filters": [],
            "dataframe_info": {
              "default_index_used": true,
              "orig_num_cols": 60,
              "orig_num_rows": 5,
              "orig_size_bytes": 2440,
              "truncated_num_cols": 60,
              "truncated_num_rows": 5,
              "truncated_size_bytes": 2440,
              "truncated_string_columns": []
            },
            "display_id": "ca8a148f-3bf6-43f0-9d4f-76aeaf0e3b2c",
            "dx_settings": {
              "ALLOW_NOTEABLE_ATTRS": true,
              "COLUMN_SAMPLING_METHOD": "outer",
              "DB_LOCATION": ":memory:",
              "DEV_MODE": false,
              "DISPLAY_MAX_COLUMNS": 100,
              "DISPLAY_MAX_ROWS": 50000,
              "DISPLAY_MODE": "simple",
              "ENABLE_ASSIGNMENT": true,
              "ENABLE_DATALINK": true,
              "FLATTEN_COLUMN_VALUES": true,
              "FLATTEN_INDEX_VALUES": false,
              "GENERATE_DEX_METADATA": false,
              "HTML_TABLE_SCHEMA": false,
              "LOG_LEVEL": 30,
              "MAX_RENDER_SIZE_BYTES": 104857600,
              "MAX_STRING_LENGTH": 250,
              "NUM_PAST_SAMPLES_TRACKED": 3,
              "RANDOM_STATE": 12648430,
              "RESET_INDEX_VALUES": false,
              "ROW_SAMPLING_METHOD": "random",
              "SAMPLING_FACTOR": 0.1,
              "SAMPLING_METHOD": "random",
              "STRINGIFY_COLUMN_VALUES": true,
              "STRINGIFY_INDEX_VALUES": false
            },
            "sample_history": [],
            "sampling_time": "2023-09-06T12:24:16.005770",
            "user_variable_name": null,
            "variable_name": "unk_dataframe_3e754b79266f4f01a362944486e408b1"
          }
        },
        "jupyter": {
          "outputs_hidden": false,
          "source_hidden": false
        },
        "noteable": {
          "cell_type": "code",
          "output_collection_id": "25842692-466f-4698-af40-cecac102fb26"
        }
      },
      "outputs": [],
      "source": [
        "# Load the data\n",
        "hado_data = pd.read_csv('hado_encoded.csv')\n",
        "\n",
        "# Show the first few rows of the DataFrame\n",
        "hado_data.head()"
      ]
    },
    {
      "cell_type": "code",
      "execution_count": null,
      "id": "95d34cce-fd1e-45d0-896b-e4804f971453",
      "metadata": {
        "ExecuteTime": {
          "end_time": "2023-09-06T12:44:51.914194+00:00",
          "start_time": "2023-09-06T12:44:51.579396+00:00"
        },
        "datalink": {
          "179a2fb0-eba6-485a-91fc-cecd19886515": {
            "applied_filters": [],
            "dataframe_info": {
              "default_index_used": true,
              "orig_num_cols": 63,
              "orig_num_rows": 5,
              "orig_size_bytes": 2560,
              "truncated_num_cols": 63,
              "truncated_num_rows": 5,
              "truncated_size_bytes": 2560,
              "truncated_string_columns": []
            },
            "display_id": "179a2fb0-eba6-485a-91fc-cecd19886515",
            "dx_settings": {
              "ALLOW_NOTEABLE_ATTRS": true,
              "COLUMN_SAMPLING_METHOD": "outer",
              "DB_LOCATION": ":memory:",
              "DEV_MODE": false,
              "DISPLAY_MAX_COLUMNS": 100,
              "DISPLAY_MAX_ROWS": 50000,
              "DISPLAY_MODE": "simple",
              "ENABLE_ASSIGNMENT": true,
              "ENABLE_DATALINK": true,
              "FLATTEN_COLUMN_VALUES": true,
              "FLATTEN_INDEX_VALUES": false,
              "GENERATE_DEX_METADATA": false,
              "HTML_TABLE_SCHEMA": false,
              "LOG_LEVEL": 30,
              "MAX_RENDER_SIZE_BYTES": 104857600,
              "MAX_STRING_LENGTH": 250,
              "NUM_PAST_SAMPLES_TRACKED": 3,
              "RANDOM_STATE": 12648430,
              "RESET_INDEX_VALUES": false,
              "ROW_SAMPLING_METHOD": "random",
              "SAMPLING_FACTOR": 0.1,
              "SAMPLING_METHOD": "random",
              "STRINGIFY_COLUMN_VALUES": true,
              "STRINGIFY_INDEX_VALUES": false
            },
            "sample_history": [],
            "sampling_time": "2023-09-06T12:44:51.743341",
            "user_variable_name": null,
            "variable_name": "unk_dataframe_b9d4c5f5d1014b47a906e62aafa9211f"
          }
        },
        "noteable": {
          "cell_type": "python",
          "output_collection_id": "b819b5a6-3c01-4542-b2c7-b42caea0be70"
        }
      },
      "outputs": [],
      "source": [
        "from sklearn.preprocessing import LabelEncoder\n",
        "\n",
        "# Instanciar el LabelEncoder\n",
        "le = LabelEncoder()\n",
        "\n",
        "# Asumiendo que 'columna_categorica' es la columna que queremos transformar\n",
        "for col in hado_data.select_dtypes(include='object'):\n",
        "    hado_data[f\"´{col}_encoded\"] = le.fit_transform(hado_data[col])\n",
        "\n",
        "# Mostrar las primeras filas para verificar la transformación\n",
        "hado_data.head()"
      ]
    },
    {
      "cell_type": "code",
      "execution_count": null,
      "id": "7132e200-a703-4df5-bf8e-8b50c5121eef",
      "metadata": {
        "ExecuteTime": {
          "end_time": "2023-09-06T12:46:06.507682+00:00",
          "start_time": "2023-09-06T12:46:06.352059+00:00"
        },
        "noteable": {
          "cell_type": "python",
          "output_collection_id": "3bc5e767-0cc3-4208-9bca-39f45f351ef8"
        }
      },
      "outputs": [],
      "source": [
        "hado_encoded = hado_data.select_dtypes(exclude='object')"
      ]
    },
    {
      "cell_type": "markdown",
      "id": "5efbe36f-96ae-4ffd-bb34-4912e09d3395",
      "metadata": {
        "noteable": {
          "cell_type": "markdown"
        }
      },
      "source": [
        "## Métodos de Clustering a Evaluar\n",
        "\n",
        "Vamos a evaluar la estabilidad de los siguientes métodos de clustering:\n",
        "\n",
        "- K-means\n",
        "\n",
        "- LDA (Análisis Discriminante Lineal)\n",
        "\n",
        "- Clustering Jerárquico\n",
        "\n",
        "- DBSCAN\n",
        "\n",
        "Para cada método, realizaremos múltiples ejecuciones con diferentes configuraciones de parámetros o subconjuntos de datos. Luego, compararemos los resultados utilizando el índice de Rand ajustado."
      ]
    },
    {
      "cell_type": "markdown",
      "id": "505c540e-eeb3-445d-8351-9459e83d251c",
      "metadata": {
        "noteable": {
          "cell_type": "markdown"
        }
      },
      "source": [
        "## Evaluación de Estabilidad para K-means\n",
        "\n",
        "Para evaluar la estabilidad de K-means, realizaremos lo siguiente:\n",
        "\n",
        "- Ejecutaremos el algoritmo K-means varias veces con diferentes números de clusters (k).\n",
        "\n",
        "- Compararemos los resultados de cada ejecución utilizando el índice de Rand ajustado."
      ]
    },
    {
      "cell_type": "code",
      "execution_count": null,
      "id": "0cbd9984-ec08-4f44-882b-a124ca0612c4",
      "metadata": {
        "ExecuteTime": {
          "end_time": "2023-09-06T12:47:21.091534+00:00",
          "start_time": "2023-09-06T12:47:12.194488+00:00"
        },
        "noteable": {
          "cell_type": "code",
          "output_collection_id": "48336e27-f9c3-4781-894d-962f1010d376"
        }
      },
      "outputs": [],
      "source": [
        "# Importar las bibliotecas necesarias\n",
        "from sklearn.cluster import KMeans\n",
        "from sklearn.metrics import adjusted_rand_score\n",
        "\n",
        "# Lista para almacenar los resultados de diferentes ejecuciones de K-means\n",
        "kmeans_results = []\n",
        "\n",
        "# Ejecutar K-means con diferentes números de clusters (k=2, k=3, k=4)\n",
        "for k in [2, 3, 4]:\n",
        "    kmeans = KMeans(n_clusters=k, random_state=42)\n",
        "    kmeans_labels = kmeans.fit_predict(hado_encoded)\n",
        "    kmeans_results.append(kmeans_labels)\n",
        "\n",
        "# Calcular el índice de Rand ajustado para comparar los resultados\n",
        "ari_2_3 = adjusted_rand_score(kmeans_results[0], kmeans_results[1])\n",
        "ari_2_4 = adjusted_rand_score(kmeans_results[0], kmeans_results[2])\n",
        "ari_3_4 = adjusted_rand_score(kmeans_results[1], kmeans_results[2])\n",
        "\n",
        "# Mostrar los resultados\n",
        "print(f'Índice de Rand ajustado entre k=2 y k=3: {ari_2_3}')\n",
        "print(f'Índice de Rand ajustado entre k=2 y k=4: {ari_2_4}')\n",
        "print(f'Índice de Rand ajustado entre k=3 y k=4: {ari_3_4}')"
      ]
    },
    {
      "cell_type": "markdown",
      "id": "38b46e02-67bf-4443-89dd-9e58981d42d7",
      "metadata": {
        "noteable": {
          "cell_type": "markdown"
        }
      },
      "source": [
        "## Evaluación de Estabilidad para LDA (Análisis Discriminante Lineal)\n",
        "\n",
        "Para evaluar la estabilidad de LDA, realizaremos lo siguiente:\n",
        "\n",
        "- Ejecutaremos el algoritmo LDA varias veces con diferentes números de tópicos.\n",
        "\n",
        "- Compararemos los resultados de cada ejecución utilizando el índice de Rand ajustado."
      ]
    },
    {
      "cell_type": "code",
      "execution_count": null,
      "id": "ef4c3f54-0f5e-46fa-b3f4-a24cfaa28ef8",
      "metadata": {
        "ExecuteTime": {
          "end_time": "2023-09-06T12:48:15.593845+00:00",
          "start_time": "2023-09-06T12:47:24.799738+00:00"
        },
        "noteable": {
          "cell_type": "code",
          "output_collection_id": "c3c5ec7c-3d2f-46c5-a17c-65970e2e29ad"
        }
      },
      "outputs": [],
      "source": [
        "# Importar las bibliotecas necesarias para LDA\n",
        "from sklearn.decomposition import LatentDirichletAllocation\n",
        "\n",
        "# Lista para almacenar los resultados de diferentes ejecuciones de LDA\n",
        "lda_results = []\n",
        "\n",
        "# Ejecutar LDA con diferentes números de tópicos (n=2, n=3, n=4)\n",
        "for n in [2, 3, 4]:\n",
        "    lda = LatentDirichletAllocation(n_components=n, random_state=42)\n",
        "    lda_labels = lda.fit_transform(hado_encoded)\n",
        "    lda_results.append(lda_labels.argmax(axis=1))\n",
        "\n",
        "# Calcular el índice de Rand ajustado para comparar los resultados\n",
        "ari_lda_2_3 = adjusted_rand_score(lda_results[0], lda_results[1])\n",
        "ari_lda_2_4 = adjusted_rand_score(lda_results[0], lda_results[2])\n",
        "ari_lda_3_4 = adjusted_rand_score(lda_results[1], lda_results[2])\n",
        "\n",
        "# Mostrar los resultados\n",
        "print(f'Índice de Rand ajustado entre n=2 y n=3: {ari_lda_2_3}')\n",
        "print(f'Índice de Rand ajustado entre n=2 y n=4: {ari_lda_2_4}')\n",
        "print(f'Índice de Rand ajustado entre n=3 y n=4: {ari_lda_3_4}')"
      ]
    },
    {
      "cell_type": "markdown",
      "id": "5a3f4b37-8d07-4822-8224-c5528324f2af",
      "metadata": {
        "noteable": {
          "cell_type": "markdown"
        }
      },
      "source": [
        "## Evaluación de Estabilidad para Clustering Jerárquico\n",
        "\n",
        "Para evaluar la estabilidad del Clustering Jerárquico, realizaremos lo siguiente:\n",
        "\n",
        "- Ejecutaremos el algoritmo de Clustering Jerárquico varias veces con diferentes métodos de enlace.\n",
        "\n",
        "- Compararemos los resultados de cada ejecución utilizando el índice de Rand ajustado."
      ]
    },
    {
      "cell_type": "code",
      "execution_count": null,
      "id": "106cfacf-9041-497b-bf35-919511f0ccc0",
      "metadata": {
        "ExecuteTime": {
          "end_time": "2023-09-06T12:48:16.789620+00:00",
          "start_time": "2023-09-06T12:48:15.598978+00:00"
        },
        "noteable": {
          "cell_type": "code",
          "output_collection_id": "827b4fe4-2767-4fad-8091-62d02e054a39"
        }
      },
      "outputs": [],
      "source": [
        "# Importar las bibliotecas necesarias para Clustering Jerárquico\n",
        "from scipy.cluster.hierarchy import linkage, fcluster\n",
        "\n",
        "# Lista para almacenar los resultados de diferentes ejecuciones de Clustering Jerárquico\n",
        "hierarchical_results = []\n",
        "\n",
        "# Ejecutar Clustering Jerárquico con diferentes métodos de enlace ('single', 'complete', 'average')\n",
        "for method in ['single', 'complete', 'average']:\n",
        "    Z = linkage(hado_encoded, method=method)\n",
        "    hierarchical_labels = fcluster(Z, t=3, criterion='maxclust')\n",
        "    hierarchical_results.append(hierarchical_labels)\n",
        "\n",
        "# Calcular el índice de Rand ajustado para comparar los resultados\n",
        "ari_hierarchical_single_complete = adjusted_rand_score(hierarchical_results[0], hierarchical_results[1])\n",
        "ari_hierarchical_single_average = adjusted_rand_score(hierarchical_results[0], hierarchical_results[2])\n",
        "ari_hierarchical_complete_average = adjusted_rand_score(hierarchical_results[1], hierarchical_results[2])\n",
        "\n",
        "# Mostrar los resultados\n",
        "print(f'Índice de Rand ajustado entre enlace simple y enlace completo: {ari_hierarchical_single_complete}')\n",
        "print(f'Índice de Rand ajustado entre enlace simple y enlace promedio: {ari_hierarchical_single_average}')\n",
        "print(f'Índice de Rand ajustado entre enlace completo y enlace promedio: {ari_hierarchical_complete_average}')"
      ]
    },
    {
      "cell_type": "markdown",
      "id": "103fc036-63aa-49e8-ae88-7b2f2627681b",
      "metadata": {
        "noteable": {
          "cell_type": "markdown"
        }
      },
      "source": [
        "## Evaluación de Estabilidad para DBSCAN\n",
        "\n",
        "Para evaluar la estabilidad de DBSCAN, realizaremos lo siguiente:\n",
        "\n",
        "- Ejecutaremos el algoritmo DBSCAN varias veces con diferentes valores de epsilon y minPts.\n",
        "\n",
        "- Compararemos los resultados de cada ejecución utilizando el índice de Rand ajustado."
      ]
    },
    {
      "cell_type": "code",
      "execution_count": null,
      "id": "4b17d59f-586a-4e3a-ae39-625988326d8c",
      "metadata": {
        "ExecuteTime": {
          "end_time": "2023-09-06T12:48:18.927684+00:00",
          "start_time": "2023-09-06T12:48:16.795487+00:00"
        },
        "noteable": {
          "cell_type": "code",
          "output_collection_id": "367593ff-de0a-408f-a108-7308eae1d3c8"
        }
      },
      "outputs": [],
      "source": [
        "# Importar las bibliotecas necesarias para DBSCAN\n",
        "from sklearn.cluster import DBSCAN\n",
        "\n",
        "# Lista para almacenar los resultados de diferentes ejecuciones de DBSCAN\n",
        "dbscan_results = []\n",
        "\n",
        "# Ejecutar DBSCAN con diferentes valores de epsilon y minPts\n",
        "for eps, minPts in [(0.5, 5), (0.6, 6), (0.7, 7)]:\n",
        "    dbscan = DBSCAN(eps=eps, min_samples=minPts)\n",
        "    dbscan_labels = dbscan.fit_predict(hado_encoded)\n",
        "    dbscan_results.append(dbscan_labels)\n",
        "\n",
        "# Calcular el índice de Rand ajustado para comparar los resultados\n",
        "ari_dbscan_1_2 = adjusted_rand_score(dbscan_results[0], dbscan_results[1])\n",
        "ari_dbscan_1_3 = adjusted_rand_score(dbscan_results[0], dbscan_results[2])\n",
        "ari_dbscan_2_3 = adjusted_rand_score(dbscan_results[1], dbscan_results[2])\n",
        "\n",
        "# Mostrar los resultados\n",
        "print(f'Índice de Rand ajustado entre eps=0.5, minPts=5 y eps=0.6, minPts=6: {ari_dbscan_1_2}')\n",
        "print(f'Índice de Rand ajustado entre eps=0.5, minPts=5 y eps=0.7, minPts=7: {ari_dbscan_1_3}')\n",
        "print(f'Índice de Rand ajustado entre eps=0.6, minPts=6 y eps=0.7, minPts=7: {ari_dbscan_2_3}')"
      ]
    },
    {
      "cell_type": "markdown",
      "id": "01ee9764-7445-47e3-b239-4e6ce5358363",
      "metadata": {
        "noteable": {
          "cell_type": "markdown"
        }
      },
      "source": [
        "## Interpretación de Resultados\n",
        "\n",
        "### K-means:\n",
        "- Los resultados entre k=2 y k=3, así como entre k=2 y k=4, tienen un índice de Rand ajustado bajo, lo que indica que los clusters \n",
        "son bastante diferentes entre sí.\n",
        "- Sin embargo, los resultados entre k=3 y k=4 tienen un índice de Rand ajustado más alto, lo que sugiere una mayor estabilidad en la asignación de clusters cuando k varía en ese rango.\n",
        "\n",
        "### LDA:\n",
        "- Los resultados muestran una estabilidad moderada cuando se varía el número de temas (n). Los índices de Rand ajustados son más altos que en K-means pero aún no son muy cercanos a 1.\n",
        "\n",
        "### Clustering Jerárquico:\n",
        "- Los resultados son extremadamente estables entre diferentes tipos de enlace (simple, completo, promedio), con índices de Rand ajustados cercanos a 1.\n",
        "\n",
        "### DBSCAN:\n",
        "- Los resultados son completamente estables cuando se varían los parámetros eps y minPts, con índices de Rand ajustados de 1.\n",
        "\n",
        "## Conclusiones:\n",
        "1. **K-means** muestra la menor estabilidad entre las diferentes configuraciones.\n",
        "2. **LDA** muestra una estabilidad moderada.\n",
        "3. **Clustering Jerárquico** y **DBSCAN** muestran una alta estabilidad, lo que sugiere que son más robustos a las variaciones en sus parámetros.\n",
        "\n",
        "Estos resultados pueden ser útiles para entender qué algoritmo es más adecuado para tu caso de uso específico. Si la estabilidad es una preocupación, podrías considerar usar Clustering Jerárquico o DBSCAN. Sin embargo, si estás más interesado en explorar diferentes estructuras de datos, K-means y LDA podrían ser más apropiados."
      ]
    },
    {
      "cell_type": "markdown",
      "id": "40c8abfe-15f4-46e1-9d98-3a7bed4c3f39",
      "metadata": {
        "noteable": {
          "cell_type": "markdown"
        }
      },
      "source": [
        "## Notas finales\n",
        "\n",
        "En este notebook, hemos evaluado la estabilidad de varios métodos de clustering utilizando el índice de Rand ajustado como métrica de comparación. Los resultados nos ayudan a entender qué tan robustos son estos métodos bajo diferentes configuraciones o subconjuntos de datos.\n",
        "\n",
        "Es crucial tener en cuenta que la estabilidad no es el único factor a considerar al elegir un método de clustering. También es importante considerar la interpretabilidad, la eficiencia computacional y cómo se ajustan los resultados a los objetivos del análisis."
      ]
    }
  ],
  "metadata": {
    "kernel_info": {
      "name": "python3"
    },
    "kernelspec": {
      "display_name": "Python 3.9",
      "language": "python",
      "name": "python3"
    },
    "noteable-chatgpt": {
      "create_notebook": {
        "openai_conversation_id": "064209d2-f41c-5e87-8376-9751f75cf659",
        "openai_ephemeral_user_id": "6056224a-3afb-5b23-bf16-ca6334443c6f",
        "openai_subdivision1_iso_code": "ES-GA"
      }
    },
    "selected_hardware_size": "small"
  },
  "nbformat": 4,
  "nbformat_minor": 5
}
