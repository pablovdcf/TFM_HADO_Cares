{
  "cells": [
    {
      "cell_type": "markdown",
      "id": "6214d2c7-c2c9-4100-8310-e15814fd1c57",
      "metadata": {
        "noteable": {
          "cell_type": "markdown"
        }
      },
      "source": [
        "# Validación Externa de Métodos de Clustering\n",
        "En este cuaderno, realizaremos una validación externa de los métodos de clustering que hemos aplicado previamente. Utilizaremos un conjunto de etiquetas predefinidas basadas en categorías de diagnóstico para evaluar la calidad de los clusters generados."
      ]
    },
    {
      "cell_type": "code",
      "execution_count": 2,
      "id": "e4492b25",
      "metadata": {},
      "outputs": [],
      "source": [
        "import pandas as pd"
      ]
    },
    {
      "cell_type": "code",
      "execution_count": 3,
      "id": "400805c3-fa46-4a64-a7b6-d3408469755c",
      "metadata": {
        "ExecuteTime": {
          "end_time": "2023-09-06T11:27:18.149324+00:00",
          "start_time": "2023-09-06T11:27:17.971411+00:00"
        },
        "jupyter": {
          "outputs_hidden": false,
          "source_hidden": false
        },
        "noteable": {
          "cell_type": "code",
          "output_collection_id": "3952cec0-50d1-47c0-bc76-6b2d6aea1576"
        }
      },
      "outputs": [
        {
          "data": {
            "text/plain": [
              "Index(['h_procedencia', 'hospital_category', 's_procedencia',\n",
              "       'procedencia_category', 'diagnostico', 'diagnosis_category',\n",
              "       'motivo_ing', 'ingreso_category', 'motivo_alta', 'alta_category',\n",
              "       'fecha_alta', 'ap', 'n_estancias', 'n_visitas', 'paliativo_onc_noc',\n",
              "       'paliativo_no_onc_noc', 'fiebre', 'disnea', 'dolor', 'delirium',\n",
              "       'sedacion', 'p_terminal', 'agonia', 'ast_anorx', 'cronico_reag',\n",
              "       'trato_antibiotico', 'transfusion', 'paracentesis', 'agudo_estable',\n",
              "       'toracocentesis', 'fe_iv', 'ps_ecog', 'barthel', 'gds_fast', 'eva_ing',\n",
              "       'otros_complicaciones', 'otros', 'otros_1', 'otros_2', 'otros_category',\n",
              "       'categorized_combined_otros', 'tiene_sedacion', 'morfina', 'midazolam',\n",
              "       'buscapina', 'haloperidol', 'levomepromazina', 'medico', 'ayuntamiento',\n",
              "       'year', 'diagnostico_cluster', 'motivo_ing_cluster',\n",
              "       'motivo_alta_cluster', 'diagnostico_cluster_optimal',\n",
              "       'motivo_ing_cluster_optimal', 'motivo_alta_cluster_optimal',\n",
              "       'diagnostico_topic', 'diagnostico_dbscan', 'diagnostico_hierarchical'],\n",
              "      dtype='object')"
            ]
          },
          "execution_count": 3,
          "metadata": {},
          "output_type": "execute_result"
        }
      ],
      "source": [
        "# Cargar el conjunto de datos\n",
        "hado_data = pd.read_csv('hado_data_clustering.csv', sep=',')\n",
        "hado_data.columns"
      ]
    },
    {
      "cell_type": "markdown",
      "id": "a29f0748-2179-422f-9ef0-b4cb9c6d8369",
      "metadata": {
        "noteable": {
          "cell_type": "markdown"
        }
      },
      "source": [
        "## Crear Etiquetas de Diagnóstico Externas\n",
        "Utilizaremos un diccionario de categorías de diagnóstico para asignar etiquetas externas a cada registro en el conjunto de datos.\n",
        "\n",
        "* Diccionario de categorías de diagnóstico\n",
        "```python\n",
        "diagnosis_categories = {\n",
        "  'Cardiacas': ['cardiaca', 'corazon', 'miocardio', 'arritmia', 'insuficiencia cardiaca', 'endocarditis'],\n",
        "  'Pulmonares y respiratorias': ['pulmon', 'neumonia', 'broncoaspiracion', 'bronquiectasias', 'fibrosis pulmonar', 'insuficiencia respiratoria'],\n",
        "  'Neurologicas': ['demencia', 'ela', 'acv', 'encefalopatia', 'glioblastoma'],\n",
        "  'Hepaticas y pancreaticas': ['cirrosis', 'hepatocarcinoma', 'colangitis', 'colangiocarcinoma', 'pancreas'],\n",
        "  'Renales y urinarias': ['ITU', 'infeccion urinaria', 'pielonefritis', 'prostatitis', 'renal'],\n",
        "  'Canceres y neoplasias': ['cancer', 'tumor', 'glioblastoma', 'linfoma', 'mieloma', 'carcinoma', 'neoplasia', 'hepatocarcinoma', 'colangiocarcinoma'],\n",
        "  'Hematologicas': ['anemia', 'linfoma', 'mieloma', 'leucemia', 'sindrome mielodisplasico'],\n",
        "  'Infecciones': ['infeccion', 'sepsis', 'bacteriemia', 'bronquiectasias infectadas', 'endocarditis', 'pielonefritis', 'prostatitis', 'diverticulitis', 'celulitis'],\n",
        "  'Musculoesqueléticas y de piel': ['amputacion', 'ulcera', 'fractura']\n",
        "}\n",
        "```\n",
        "> Las etiquetas están creadas en la columna `diagnosis_category`"
      ]
    },
    {
      "cell_type": "code",
      "execution_count": 4,
      "id": "15451d10-401a-49c9-bf08-812169807b54",
      "metadata": {
        "ExecuteTime": {
          "end_time": "2023-09-06T11:28:24.146188+00:00",
          "start_time": "2023-09-06T11:28:23.990108+00:00"
        },
        "jupyter": {
          "outputs_hidden": false,
          "source_hidden": false
        },
        "noteable": {
          "cell_type": "code",
          "output_collection_id": "d365873e-5306-416b-be5d-ddf7f13c3c07"
        }
      },
      "outputs": [],
      "source": [
        "hado_data = hado_data.rename(columns={'diagnostico_cluster_optimal': 'diagnostico_kmeans',\n",
        "                                      'motivo_ing_cluster_optimal': 'motivo_ing_kmeans',\n",
        "                                      'motivo_alta_cluster_optimal': 'motivo_alta_kmeans',\n",
        "                                      'diagnostico_topic': 'diagnostico_lda'\n",
        "                                     }\n",
        "                            )"
      ]
    },
    {
      "cell_type": "code",
      "execution_count": 5,
      "id": "07f86efe-74fc-41bc-9512-c283e08966dc",
      "metadata": {
        "ExecuteTime": {
          "end_time": "2023-09-06T11:28:27.517739+00:00",
          "start_time": "2023-09-06T11:28:27.210354+00:00"
        },
        "datalink": {
          "66295e0c-e4db-43c1-8e11-5d83cf2ccdfe": {
            "applied_filters": [],
            "dataframe_info": {
              "default_index_used": true,
              "orig_num_cols": 5,
              "orig_num_rows": 4,
              "orig_size_bytes": 192,
              "truncated_num_cols": 5,
              "truncated_num_rows": 4,
              "truncated_size_bytes": 192,
              "truncated_string_columns": []
            },
            "display_id": "66295e0c-e4db-43c1-8e11-5d83cf2ccdfe",
            "dx_settings": {
              "ALLOW_NOTEABLE_ATTRS": true,
              "COLUMN_SAMPLING_METHOD": "outer",
              "DB_LOCATION": ":memory:",
              "DEV_MODE": false,
              "DISPLAY_MAX_COLUMNS": 100,
              "DISPLAY_MAX_ROWS": 50000,
              "DISPLAY_MODE": "simple",
              "ENABLE_ASSIGNMENT": true,
              "ENABLE_DATALINK": true,
              "FLATTEN_COLUMN_VALUES": true,
              "FLATTEN_INDEX_VALUES": false,
              "GENERATE_DEX_METADATA": false,
              "HTML_TABLE_SCHEMA": false,
              "LOG_LEVEL": 30,
              "MAX_RENDER_SIZE_BYTES": 104857600,
              "MAX_STRING_LENGTH": 250,
              "NUM_PAST_SAMPLES_TRACKED": 3,
              "RANDOM_STATE": 12648430,
              "RESET_INDEX_VALUES": false,
              "ROW_SAMPLING_METHOD": "random",
              "SAMPLING_FACTOR": 0.1,
              "SAMPLING_METHOD": "random",
              "STRINGIFY_COLUMN_VALUES": true,
              "STRINGIFY_INDEX_VALUES": false
            },
            "sample_history": [],
            "sampling_time": "2023-09-06T11:28:27.355205",
            "user_variable_name": "external_validation_metrics_df",
            "variable_name": "external_validation_metrics_df"
          }
        },
        "noteable": {
          "cell_type": "code",
          "output_collection_id": "a99ccdea-8ea3-4d65-94b0-22815c13dbe2"
        }
      },
      "outputs": [
        {
          "data": {
            "text/html": [
              "<div>\n",
              "<style scoped>\n",
              "    .dataframe tbody tr th:only-of-type {\n",
              "        vertical-align: middle;\n",
              "    }\n",
              "\n",
              "    .dataframe tbody tr th {\n",
              "        vertical-align: top;\n",
              "    }\n",
              "\n",
              "    .dataframe thead th {\n",
              "        text-align: right;\n",
              "    }\n",
              "</style>\n",
              "<table border=\"1\" class=\"dataframe\">\n",
              "  <thead>\n",
              "    <tr style=\"text-align: right;\">\n",
              "      <th></th>\n",
              "      <th>Method</th>\n",
              "      <th>Adjusted Rand Index</th>\n",
              "      <th>Normalized Mutual Information</th>\n",
              "      <th>Homogeneity</th>\n",
              "      <th>Completeness</th>\n",
              "    </tr>\n",
              "  </thead>\n",
              "  <tbody>\n",
              "    <tr>\n",
              "      <th>0</th>\n",
              "      <td>K-means</td>\n",
              "      <td>0.120388</td>\n",
              "      <td>0.319291</td>\n",
              "      <td>0.242589</td>\n",
              "      <td>0.466923</td>\n",
              "    </tr>\n",
              "    <tr>\n",
              "      <th>1</th>\n",
              "      <td>LDA</td>\n",
              "      <td>0.138949</td>\n",
              "      <td>0.208401</td>\n",
              "      <td>0.182552</td>\n",
              "      <td>0.242778</td>\n",
              "    </tr>\n",
              "    <tr>\n",
              "      <th>2</th>\n",
              "      <td>Hierarchical</td>\n",
              "      <td>0.163972</td>\n",
              "      <td>0.337813</td>\n",
              "      <td>0.258229</td>\n",
              "      <td>0.488304</td>\n",
              "    </tr>\n",
              "    <tr>\n",
              "      <th>3</th>\n",
              "      <td>DBSCAN</td>\n",
              "      <td>0.268495</td>\n",
              "      <td>0.663769</td>\n",
              "      <td>0.993976</td>\n",
              "      <td>0.498247</td>\n",
              "    </tr>\n",
              "  </tbody>\n",
              "</table>\n",
              "</div>"
            ],
            "text/plain": [
              "         Method  Adjusted Rand Index  Normalized Mutual Information  \\\n",
              "0       K-means             0.120388                       0.319291   \n",
              "1           LDA             0.138949                       0.208401   \n",
              "2  Hierarchical             0.163972                       0.337813   \n",
              "3        DBSCAN             0.268495                       0.663769   \n",
              "\n",
              "   Homogeneity  Completeness  \n",
              "0     0.242589      0.466923  \n",
              "1     0.182552      0.242778  \n",
              "2     0.258229      0.488304  \n",
              "3     0.993976      0.498247  "
            ]
          },
          "execution_count": 5,
          "metadata": {},
          "output_type": "execute_result"
        }
      ],
      "source": [
        "# Importar bibliotecas necesarias para la validación externa\n",
        "from sklearn.metrics import adjusted_rand_score, normalized_mutual_info_score, homogeneity_score, completeness_score\n",
        "\n",
        "# Lista para almacenar los resultados de validación externa\n",
        "external_validation_metrics = []\n",
        "\n",
        "# Calcular métricas de validación externa para cada método de clustering\n",
        "for method, label_column in zip(['K-means', 'LDA', 'Hierarchical', 'DBSCAN'],\n",
        "                                ['diagnostico_kmeans', 'diagnostico_lda', 'diagnostico_hierarchical', 'diagnostico_dbscan']):\n",
        "    # Excluir clusters con etiqueta -1 (ruido en DBSCAN)\n",
        "    valid_data = hado_data[hado_data[label_column] != -1]\n",
        "    labels = valid_data[label_column]\n",
        "    true_labels = valid_data['diagnosis_category']\n",
        "\n",
        "    # Calcular métricas\n",
        "    ari = adjusted_rand_score(true_labels, labels)\n",
        "    nmi = normalized_mutual_info_score(true_labels, labels)\n",
        "    homogeneity = homogeneity_score(true_labels, labels)\n",
        "    completeness = completeness_score(true_labels, labels)\n",
        "\n",
        "    # Almacenar resultados\n",
        "    external_validation_metrics.append({'Method': method,\n",
        "                                       'Adjusted Rand Index': ari,\n",
        "                                       'Normalized Mutual Information': nmi,\n",
        "                                       'Homogeneity': homogeneity,\n",
        "                                       'Completeness': completeness})\n",
        "\n",
        "# Convertir a DataFrame para facilitar la visualización\n",
        "external_validation_metrics_df = pd.DataFrame(external_validation_metrics)\n",
        "external_validation_metrics_df"
      ]
    },
    {
      "cell_type": "markdown",
      "id": "afd4d731-c0e0-4f6d-a289-0ddac92e8534",
      "metadata": {
        "noteable": {
          "cell_type": "markdown"
        }
      },
      "source": [
        "### Resumen de los Resultados\n",
        "\n",
        "#### Validación Interna\n",
        "- **DBSCAN** tuvo el mejor rendimiento en términos de la puntuación de Silhouette y el índice de Calinski-Harabasz, lo que sugiere que los clusters son densos y bien separados.\n",
        "- **K-means y Clustering Jerárquico** tuvieron un rendimiento similar pero inferior al de DBSCAN.\n",
        "- **LDA** tuvo el peor rendimiento en estas métricas.\n",
        "\n",
        "#### Validación Externa\n",
        "- **Clustering Jerárquico** tuvo el mejor rendimiento en términos de índice Rand ajustado y homogeneidad, lo que sugiere que los clusters coinciden bien con las categorías de diagnóstico predefinidas.\n",
        "- **K-means** también tuvo un buen rendimiento en estas métricas.\n",
        "- **DBSCAN** tuvo un buen rendimiento en términos de información mutua normalizada y completitud.\n",
        "- **LDA** tuvo el peor rendimiento en estas métricas.\n",
        "\n",
        "### Conclusión\n",
        "- Si la densidad y la separación de los clusters son más importantes, **DBSCAN** parece ser la mejor opción.\n",
        "- Si la coincidencia con las categorías de diagnóstico predefinidas es más importante, **Clustering Jerárquico** o **K-means** serían más apropiados.\n",
        "- **LDA** parece ser el menos efectivo para este conjunto de datos específico, tanto en términos de métricas internas como externas.\n",
        "\n",
        "### Siguiente Paso\n",
        "Podríamos considerar aplicar técnicas de reducción de dimensionalidad como PCA para visualizar estos clusters en un espacio de menor dimensión o probar otros métodos de clustering para validar aún más la robustez de nuestras interpretaciones."
      ]
    }
  ],
  "metadata": {
    "kernel_info": {
      "name": "python3"
    },
    "kernelspec": {
      "display_name": "Python 3.9",
      "language": "python",
      "name": "python3"
    },
    "language_info": {
      "codemirror_mode": {
        "name": "ipython",
        "version": 3
      },
      "file_extension": ".py",
      "mimetype": "text/x-python",
      "name": "python",
      "nbconvert_exporter": "python",
      "pygments_lexer": "ipython3",
      "version": "3.10.0"
    },
    "noteable-chatgpt": {
      "create_notebook": {
        "openai_conversation_id": "064209d2-f41c-5e87-8376-9751f75cf659",
        "openai_ephemeral_user_id": "6056224a-3afb-5b23-bf16-ca6334443c6f",
        "openai_subdivision1_iso_code": "ES-GA"
      }
    },
    "selected_hardware_size": "small"
  },
  "nbformat": 4,
  "nbformat_minor": 5
}
