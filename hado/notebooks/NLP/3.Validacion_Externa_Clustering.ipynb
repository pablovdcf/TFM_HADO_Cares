{
  "nbformat": 4,
  "nbformat_minor": 5,
  "metadata": {
    "noteable-chatgpt": {
      "create_notebook": {
        "openai_conversation_id": "064209d2-f41c-5e87-8376-9751f75cf659",
        "openai_ephemeral_user_id": "6056224a-3afb-5b23-bf16-ca6334443c6f",
        "openai_subdivision1_iso_code": "ES-GA"
      }
    },
    "kernel_info": {
      "name": "python3"
    },
    "kernelspec": {
      "display_name": "Python 3.9",
      "language": "python",
      "name": "python3"
    },
    "selected_hardware_size": "small"
  },
  "cells": [
    {
      "id": "6214d2c7-c2c9-4100-8310-e15814fd1c57",
      "cell_type": "markdown",
      "source": "# Validación Externa de Métodos de Clustering\nEn este cuaderno, realizaremos una validación externa de los métodos de clustering que hemos aplicado previamente. Utilizaremos un conjunto de etiquetas predefinidas basadas en categorías de diagnóstico para evaluar la calidad de los clusters generados.",
      "metadata": {
        "noteable": {
          "cell_type": "markdown"
        }
      }
    },
    {
      "id": "400805c3-fa46-4a64-a7b6-d3408469755c",
      "cell_type": "code",
      "metadata": {
        "jupyter": {
          "outputs_hidden": false,
          "source_hidden": false
        },
        "noteable": {
          "cell_type": "code",
          "output_collection_id": "3952cec0-50d1-47c0-bc76-6b2d6aea1576"
        },
        "ExecuteTime": {
          "end_time": "2023-09-06T11:27:18.149324+00:00",
          "start_time": "2023-09-06T11:27:17.971411+00:00"
        }
      },
      "execution_count": null,
      "source": "# Cargar el conjunto de datos\nhado_data = pd.read_csv('hado_data_clustering.csv', sep=',')\nhado_data.columns",
      "outputs": []
    },
    {
      "id": "a29f0748-2179-422f-9ef0-b4cb9c6d8369",
      "cell_type": "markdown",
      "source": "## Crear Etiquetas de Diagnóstico Externas\nUtilizaremos un diccionario de categorías de diagnóstico para asignar etiquetas externas a cada registro en el conjunto de datos.\n\n* Diccionario de categorías de diagnóstico\n```python\ndiagnosis_categories = {\n  'Cardiacas': ['cardiaca', 'corazon', 'miocardio', 'arritmia', 'insuficiencia cardiaca', 'endocarditis'],\n  'Pulmonares y respiratorias': ['pulmon', 'neumonia', 'broncoaspiracion', 'bronquiectasias', 'fibrosis pulmonar', 'insuficiencia respiratoria'],\n  'Neurologicas': ['demencia', 'ela', 'acv', 'encefalopatia', 'glioblastoma'],\n  'Hepaticas y pancreaticas': ['cirrosis', 'hepatocarcinoma', 'colangitis', 'colangiocarcinoma', 'pancreas'],\n  'Renales y urinarias': ['ITU', 'infeccion urinaria', 'pielonefritis', 'prostatitis', 'renal'],\n  'Canceres y neoplasias': ['cancer', 'tumor', 'glioblastoma', 'linfoma', 'mieloma', 'carcinoma', 'neoplasia', 'hepatocarcinoma', 'colangiocarcinoma'],\n  'Hematologicas': ['anemia', 'linfoma', 'mieloma', 'leucemia', 'sindrome mielodisplasico'],\n  'Infecciones': ['infeccion', 'sepsis', 'bacteriemia', 'bronquiectasias infectadas', 'endocarditis', 'pielonefritis', 'prostatitis', 'diverticulitis', 'celulitis'],\n  'Musculoesqueléticas y de piel': ['amputacion', 'ulcera', 'fractura']\n}\n```\n> Las etiquetas están creadas en la columna `diagnosis_category`",
      "metadata": {
        "noteable": {
          "cell_type": "markdown"
        }
      }
    },
    {
      "id": "15451d10-401a-49c9-bf08-812169807b54",
      "cell_type": "code",
      "metadata": {
        "jupyter": {
          "outputs_hidden": false,
          "source_hidden": false
        },
        "noteable": {
          "cell_type": "code",
          "output_collection_id": "d365873e-5306-416b-be5d-ddf7f13c3c07"
        },
        "ExecuteTime": {
          "end_time": "2023-09-06T11:28:24.146188+00:00",
          "start_time": "2023-09-06T11:28:23.990108+00:00"
        }
      },
      "execution_count": null,
      "source": "hado_data = hado_data.rename(columns={'diagnostico_cluster_optimal': 'diagnostico_kmeans',\n                                      'motivo_ing_cluster_optimal': 'motivo_ing_kmeans',\n                                      'motivo_alta_cluster_optimal': 'motivo_alta_kmeans',\n                                      'diagnostico_topic': 'diagnostico_lda'\n                                     }\n                            )",
      "outputs": []
    },
    {
      "id": "07f86efe-74fc-41bc-9512-c283e08966dc",
      "cell_type": "code",
      "metadata": {
        "noteable": {
          "cell_type": "code",
          "output_collection_id": "a99ccdea-8ea3-4d65-94b0-22815c13dbe2"
        },
        "ExecuteTime": {
          "end_time": "2023-09-06T11:28:27.517739+00:00",
          "start_time": "2023-09-06T11:28:27.210354+00:00"
        },
        "datalink": {
          "66295e0c-e4db-43c1-8e11-5d83cf2ccdfe": {
            "applied_filters": [],
            "dataframe_info": {
              "default_index_used": true,
              "orig_num_cols": 5,
              "orig_num_rows": 4,
              "orig_size_bytes": 192,
              "truncated_num_cols": 5,
              "truncated_num_rows": 4,
              "truncated_size_bytes": 192,
              "truncated_string_columns": []
            },
            "display_id": "66295e0c-e4db-43c1-8e11-5d83cf2ccdfe",
            "dx_settings": {
              "ALLOW_NOTEABLE_ATTRS": true,
              "COLUMN_SAMPLING_METHOD": "outer",
              "DB_LOCATION": ":memory:",
              "DEV_MODE": false,
              "DISPLAY_MAX_COLUMNS": 100,
              "DISPLAY_MAX_ROWS": 50000,
              "DISPLAY_MODE": "simple",
              "ENABLE_ASSIGNMENT": true,
              "ENABLE_DATALINK": true,
              "FLATTEN_COLUMN_VALUES": true,
              "FLATTEN_INDEX_VALUES": false,
              "GENERATE_DEX_METADATA": false,
              "HTML_TABLE_SCHEMA": false,
              "LOG_LEVEL": 30,
              "MAX_RENDER_SIZE_BYTES": 104857600,
              "MAX_STRING_LENGTH": 250,
              "NUM_PAST_SAMPLES_TRACKED": 3,
              "RANDOM_STATE": 12648430,
              "RESET_INDEX_VALUES": false,
              "ROW_SAMPLING_METHOD": "random",
              "SAMPLING_FACTOR": 0.1,
              "SAMPLING_METHOD": "random",
              "STRINGIFY_COLUMN_VALUES": true,
              "STRINGIFY_INDEX_VALUES": false
            },
            "sample_history": [],
            "sampling_time": "2023-09-06T11:28:27.355205",
            "user_variable_name": "external_validation_metrics_df",
            "variable_name": "external_validation_metrics_df"
          }
        }
      },
      "execution_count": null,
      "source": "# Importar bibliotecas necesarias para la validación externa\nfrom sklearn.metrics import adjusted_rand_score, normalized_mutual_info_score, homogeneity_score, completeness_score\n\n# Lista para almacenar los resultados de validación externa\nexternal_validation_metrics = []\n\n# Calcular métricas de validación externa para cada método de clustering\nfor method, label_column in zip(['K-means', 'LDA', 'Hierarchical', 'DBSCAN'],\n                                ['diagnostico_kmeans', 'diagnostico_lda', 'diagnostico_hierarchical', 'diagnostico_dbscan']):\n    # Excluir clusters con etiqueta -1 (ruido en DBSCAN)\n    valid_data = hado_data[hado_data[label_column] != -1]\n    labels = valid_data[label_column]\n    true_labels = valid_data['diagnosis_category']\n\n    # Calcular métricas\n    ari = adjusted_rand_score(true_labels, labels)\n    nmi = normalized_mutual_info_score(true_labels, labels)\n    homogeneity = homogeneity_score(true_labels, labels)\n    completeness = completeness_score(true_labels, labels)\n\n    # Almacenar resultados\n    external_validation_metrics.append({'Method': method,\n                                       'Adjusted Rand Index': ari,\n                                       'Normalized Mutual Information': nmi,\n                                       'Homogeneity': homogeneity,\n                                       'Completeness': completeness})\n\n# Convertir a DataFrame para facilitar la visualización\nexternal_validation_metrics_df = pd.DataFrame(external_validation_metrics)\nexternal_validation_metrics_df",
      "outputs": []
    },
    {
      "id": "afd4d731-c0e0-4f6d-a289-0ddac92e8534",
      "cell_type": "markdown",
      "source": "### Resumen de los Resultados\n\n#### Validación Interna\n- **DBSCAN** tuvo el mejor rendimiento en términos de la puntuación de Silhouette y el índice de Calinski-Harabasz, lo que sugiere que los clusters son densos y bien separados.\n- **K-means y Clustering Jerárquico** tuvieron un rendimiento similar pero inferior al de DBSCAN.\n- **LDA** tuvo el peor rendimiento en estas métricas.\n\n#### Validación Externa\n- **Clustering Jerárquico** tuvo el mejor rendimiento en términos de índice Rand ajustado y homogeneidad, lo que sugiere que los clusters coinciden bien con las categorías de diagnóstico predefinidas.\n- **K-means** también tuvo un buen rendimiento en estas métricas.\n- **DBSCAN** tuvo un buen rendimiento en términos de información mutua normalizada y completitud.\n- **LDA** tuvo el peor rendimiento en estas métricas.\n\n### Conclusión\n- Si la densidad y la separación de los clusters son más importantes, **DBSCAN** parece ser la mejor opción.\n- Si la coincidencia con las categorías de diagnóstico predefinidas es más importante, **Clustering Jerárquico** o **K-means** serían más apropiados.\n- **LDA** parece ser el menos efectivo para este conjunto de datos específico, tanto en términos de métricas internas como externas.\n\n### Siguiente Paso\nPodríamos considerar aplicar técnicas de reducción de dimensionalidad como PCA para visualizar estos clusters en un espacio de menor dimensión o probar otros métodos de clustering para validar aún más la robustez de nuestras interpretaciones.",
      "metadata": {
        "noteable": {
          "cell_type": "markdown"
        }
      }
    }
  ]
}