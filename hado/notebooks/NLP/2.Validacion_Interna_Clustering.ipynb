{
  "nbformat": 4,
  "nbformat_minor": 5,
  "metadata": {
    "noteable-chatgpt": {
      "create_notebook": {
        "openai_conversation_id": "064209d2-f41c-5e87-8376-9751f75cf659",
        "openai_ephemeral_user_id": "6056224a-3afb-5b23-bf16-ca6334443c6f",
        "openai_subdivision1_iso_code": "ES-GA"
      }
    },
    "kernel_info": {
      "name": "python3"
    },
    "kernelspec": {
      "display_name": "Python 3.9",
      "language": "python",
      "name": "python3"
    },
    "selected_hardware_size": "small"
  },
  "cells": [
    {
      "id": "82993dfd-f284-47c3-9813-171bca5a97ae",
      "cell_type": "code",
      "metadata": {
        "noteable": {
          "cell_type": "code",
          "output_collection_id": "0c722f69-75bd-4da9-9015-f32845cf50e3"
        },
        "ExecuteTime": {
          "end_time": "2023-09-06T10:17:27.497227+00:00",
          "start_time": "2023-09-06T10:17:27.139245+00:00"
        },
        "datalink": {
          "4a9d3fbe-cf80-4e33-b706-a8ff265c1bc3": {
            "applied_filters": [],
            "dataframe_info": {
              "default_index_used": true,
              "orig_num_cols": 60,
              "orig_num_rows": 5,
              "orig_size_bytes": 2440,
              "truncated_num_cols": 60,
              "truncated_num_rows": 5,
              "truncated_size_bytes": 2440,
              "truncated_string_columns": []
            },
            "display_id": "4a9d3fbe-cf80-4e33-b706-a8ff265c1bc3",
            "dx_settings": {
              "ALLOW_NOTEABLE_ATTRS": true,
              "COLUMN_SAMPLING_METHOD": "outer",
              "DB_LOCATION": ":memory:",
              "DEV_MODE": false,
              "DISPLAY_MAX_COLUMNS": 100,
              "DISPLAY_MAX_ROWS": 50000,
              "DISPLAY_MODE": "simple",
              "ENABLE_ASSIGNMENT": true,
              "ENABLE_DATALINK": true,
              "FLATTEN_COLUMN_VALUES": true,
              "FLATTEN_INDEX_VALUES": false,
              "GENERATE_DEX_METADATA": false,
              "HTML_TABLE_SCHEMA": false,
              "LOG_LEVEL": 30,
              "MAX_RENDER_SIZE_BYTES": 104857600,
              "MAX_STRING_LENGTH": 250,
              "NUM_PAST_SAMPLES_TRACKED": 3,
              "RANDOM_STATE": 12648430,
              "RESET_INDEX_VALUES": false,
              "ROW_SAMPLING_METHOD": "random",
              "SAMPLING_FACTOR": 0.1,
              "SAMPLING_METHOD": "random",
              "STRINGIFY_COLUMN_VALUES": true,
              "STRINGIFY_INDEX_VALUES": false
            },
            "sample_history": [],
            "sampling_time": "2023-09-06T10:17:27.321158",
            "user_variable_name": null,
            "variable_name": "unk_dataframe_2b505a56f1e74756b2605db3aa328a5b"
          }
        }
      },
      "execution_count": null,
      "source": "# Importar las bibliotecas necesarias\nimport pandas as pd\nimport numpy as np\nfrom sklearn.metrics import silhouette_score, calinski_harabasz_score, davies_bouldin_score\nimport matplotlib.pyplot as plt\nimport seaborn as sns\n\n# Cargar los datos\nhado_data = pd.read_csv('hado_data_clustering.csv')\n\n# Mostrar las primeras filas del DataFrame\nhado_data.head()",
      "outputs": []
    },
    {
      "id": "0b73582b-6934-4180-a97b-a26bdc2869b7",
      "cell_type": "code",
      "metadata": {
        "jupyter": {
          "outputs_hidden": false,
          "source_hidden": false
        },
        "noteable": {
          "cell_type": "code",
          "output_collection_id": "2b8d2c1a-90cf-4da8-b873-46fce6e943dc"
        },
        "ExecuteTime": {
          "end_time": "2023-09-06T10:17:58.028484+00:00",
          "start_time": "2023-09-06T10:17:57.871970+00:00"
        }
      },
      "execution_count": null,
      "source": "hado_data.columns",
      "outputs": []
    },
    {
      "id": "8a865f7e-9a1b-4c17-90bd-313223838c16",
      "cell_type": "code",
      "metadata": {
        "jupyter": {
          "outputs_hidden": false,
          "source_hidden": false
        },
        "noteable": {
          "cell_type": "code",
          "output_collection_id": "2a6f7f71-05bb-49ed-b21b-8c957ec164cb"
        },
        "ExecuteTime": {
          "end_time": "2023-09-06T10:22:40.993073+00:00",
          "start_time": "2023-09-06T10:22:40.836976+00:00"
        }
      },
      "execution_count": null,
      "source": "hado_data = hado_data.rename(columns={'diagnostico_cluster_optimal': 'diagnostico_kmeans',\n                                      'motivo_ing_cluster_optimal': 'motivo_ing_kmeans',\n                                      'motivo_alta_cluster_optimal': 'motivo_alta_kmeans',\n                                      'diagnostico_topic': 'diagnostico_lda'\n                                     }\n                            )",
      "outputs": []
    },
    {
      "id": "12f3aec5-a1f8-406b-9afa-bff12db25cc5",
      "cell_type": "markdown",
      "source": "Las métricas que utilizaré son:\n\n1. **Índice de Silhouette**: Mide cuán similar es un objeto a su propio cluster en comparación con otros clusters. Los valores varían entre -1 y 1, donde un valor alto indica que el objeto está bien emparejado con su propio cluster y mal emparejado con los clusters vecinos.\n  \n2. **Índice de Calinski-Harabasz**: También conocido como el índice de varianza, es la relación entre la suma de las dispersiones dentro del cluster y la suma de las dispersiones entre los clusters. Los valores más altos indican mejores clusters.\n  \n3. **Índice de Davies-Bouldin**: Es la relación promedio de la similitud entre cada cluster y su cluster más similar. Los valores más bajos indican mejores clusters.\n\nVoy a calcular estas métricas para cada método.",
      "metadata": {
        "noteable": {
          "cell_type": "markdown"
        }
      }
    },
    {
      "id": "70348046-92be-479d-8d85-76949062ad37",
      "cell_type": "code",
      "metadata": {
        "jupyter": {
          "outputs_hidden": false,
          "source_hidden": false
        },
        "noteable": {
          "cell_type": "code",
          "output_collection_id": "90a2e13c-a771-43c6-bc3a-1b04ad9c1980"
        },
        "ExecuteTime": {
          "end_time": "2023-09-06T10:32:34.821930+00:00",
          "start_time": "2023-09-06T10:32:34.664965+00:00"
        },
        "datalink": {
          "b7c79e90-185b-41bd-8769-d22ac96ec60d": {
            "applied_filters": [],
            "dataframe_info": {
              "default_index_used": false,
              "orig_num_cols": 1,
              "orig_num_rows": 60,
              "orig_size_bytes": 960,
              "truncated_num_cols": 1,
              "truncated_num_rows": 60,
              "truncated_size_bytes": 960,
              "truncated_string_columns": []
            },
            "display_id": "b7c79e90-185b-41bd-8769-d22ac96ec60d",
            "dx_settings": {
              "ALLOW_NOTEABLE_ATTRS": true,
              "COLUMN_SAMPLING_METHOD": "outer",
              "DB_LOCATION": ":memory:",
              "DEV_MODE": false,
              "DISPLAY_MAX_COLUMNS": 100,
              "DISPLAY_MAX_ROWS": 50000,
              "DISPLAY_MODE": "simple",
              "ENABLE_ASSIGNMENT": true,
              "ENABLE_DATALINK": true,
              "FLATTEN_COLUMN_VALUES": true,
              "FLATTEN_INDEX_VALUES": false,
              "GENERATE_DEX_METADATA": false,
              "HTML_TABLE_SCHEMA": false,
              "LOG_LEVEL": 30,
              "MAX_RENDER_SIZE_BYTES": 104857600,
              "MAX_STRING_LENGTH": 250,
              "NUM_PAST_SAMPLES_TRACKED": 3,
              "RANDOM_STATE": 12648430,
              "RESET_INDEX_VALUES": false,
              "ROW_SAMPLING_METHOD": "random",
              "SAMPLING_FACTOR": 0.1,
              "SAMPLING_METHOD": "random",
              "STRINGIFY_COLUMN_VALUES": true,
              "STRINGIFY_INDEX_VALUES": false
            },
            "sample_history": [],
            "sampling_time": "2023-09-06T10:30:37.342675",
            "user_variable_name": null,
            "variable_name": "unk_dataframe_1b52765e4f2b4480ac42079aa18bee57"
          }
        }
      },
      "execution_count": null,
      "source": "hado_data = hado_data.dropna(subset=['diagnostico'])\nhado_data.reset_index(drop=True, inplace=True)",
      "outputs": []
    },
    {
      "id": "09cb103a-5dc2-414b-b992-7ce4e82a0e30",
      "cell_type": "code",
      "metadata": {
        "jupyter": {
          "outputs_hidden": false,
          "source_hidden": false
        },
        "noteable": {
          "cell_type": "code",
          "output_collection_id": "1eafb7fd-3a59-4007-aab3-98af485939f7"
        },
        "ExecuteTime": {
          "end_time": "2023-09-06T10:32:38.135495+00:00",
          "start_time": "2023-09-06T10:32:37.968688+00:00"
        }
      },
      "execution_count": null,
      "source": "# Crear un objeto TF-IDF Vectorizer\ntfidf_vectorizer = TfidfVectorizer(max_features=5000)\n\n# Ajustar y transformar los datos de la columna 'diagnostico' al formato TF-IDF\ndiagnostico_tfidf = tfidf_vectorizer.fit_transform(hado_data['diagnostico'])",
      "outputs": []
    },
    {
      "id": "cc7f06a4-385a-43c8-bfff-f598a5765911",
      "cell_type": "code",
      "metadata": {
        "noteable": {
          "cell_type": "code",
          "output_collection_id": "1564fd8e-2161-4c31-a23b-4e0152e0e4ea"
        },
        "ExecuteTime": {
          "end_time": "2023-09-06T10:32:44.113771+00:00",
          "start_time": "2023-09-06T10:32:40.040872+00:00"
        },
        "datalink": {
          "6548a9dc-d0b4-4138-819b-5c76d25919b7": {
            "applied_filters": [],
            "dataframe_info": {
              "default_index_used": true,
              "orig_num_cols": 4,
              "orig_num_rows": 4,
              "orig_size_bytes": 160,
              "truncated_num_cols": 4,
              "truncated_num_rows": 4,
              "truncated_size_bytes": 160,
              "truncated_string_columns": []
            },
            "display_id": "6548a9dc-d0b4-4138-819b-5c76d25919b7",
            "dx_settings": {
              "ALLOW_NOTEABLE_ATTRS": true,
              "COLUMN_SAMPLING_METHOD": "outer",
              "DB_LOCATION": ":memory:",
              "DEV_MODE": false,
              "DISPLAY_MAX_COLUMNS": 100,
              "DISPLAY_MAX_ROWS": 50000,
              "DISPLAY_MODE": "simple",
              "ENABLE_ASSIGNMENT": true,
              "ENABLE_DATALINK": true,
              "FLATTEN_COLUMN_VALUES": true,
              "FLATTEN_INDEX_VALUES": false,
              "GENERATE_DEX_METADATA": false,
              "HTML_TABLE_SCHEMA": false,
              "LOG_LEVEL": 30,
              "MAX_RENDER_SIZE_BYTES": 104857600,
              "MAX_STRING_LENGTH": 250,
              "NUM_PAST_SAMPLES_TRACKED": 3,
              "RANDOM_STATE": 12648430,
              "RESET_INDEX_VALUES": false,
              "ROW_SAMPLING_METHOD": "random",
              "SAMPLING_FACTOR": 0.1,
              "SAMPLING_METHOD": "random",
              "STRINGIFY_COLUMN_VALUES": true,
              "STRINGIFY_INDEX_VALUES": false
            },
            "sample_history": [],
            "sampling_time": "2023-09-06T10:32:43.954867",
            "user_variable_name": "validation_metrics_df",
            "variable_name": "validation_metrics_df"
          }
        }
      },
      "execution_count": null,
      "source": "# Suponiendo que las etiquetas de cluster para cada método se almacenan en las siguientes columnas:\n# - 'diagnostico_kmeans' para K-means\n# - 'diagnostico_lda' para LDA diagnostico_topic\n# - 'diagnostico_hierarchical' para Clustering Jerárquico\n# - 'diagnostico_dbscan' para DBSCAN\n\n# Importar la biblioteca necesaria para TF-IDF\nfrom sklearn.feature_extraction.text import TfidfVectorizer\n\n# Lista para almacenar los resultados\nvalidation_metrics = []\n\n# Calcular métricas de validación interna para cada método\nfor method, label_column in zip(['K-means', 'LDA', 'Hierarchical', 'DBSCAN'],\n                                ['diagnostico_kmeans', 'diagnostico_lda', 'diagnostico_hierarchical', 'diagnostico_dbscan']):\n    # Excluir clusters con etiqueta -1 (ruido en DBSCAN)\n    valid_data = hado_data[hado_data[label_column] != -1]\n    labels = valid_data[label_column]\n    features = diagnostico_tfidf[valid_data.index]\n\n    # Calcular métricas\n    silhouette = silhouette_score(features, labels)\n    calinski_harabasz = calinski_harabasz_score(features.toarray(), labels)\n    davies_bouldin = davies_bouldin_score(features.toarray(), labels)\n\n    # Almacenar resultados\n    validation_metrics.append({'Method': method,\n                               'Silhouette Score': silhouette,\n                               'Calinski-Harabasz Score': calinski_harabasz,\n                               'Davies-Bouldin Score': davies_bouldin})\n\n# Convertir a DataFrame para facilitar la visualización\nvalidation_metrics_df = pd.DataFrame(validation_metrics)\nvalidation_metrics_df",
      "outputs": []
    },
    {
      "id": "5ca5bb83-ec8a-497a-a9ca-c1b17eab8051",
      "cell_type": "markdown",
      "source": "Excelente, has calculado las métricas de validación interna para cada uno de los métodos de agrupamiento. Aquí tienes una breve interpretación de los resultados:\n\n### Métricas de Validación Interna:\n\n1. **Silhouette Score**: Cuanto más cercano esté el valor a 1, mejor es el agrupamiento. Un valor cercano a 0 indica que los clusters se superponen.\n    - **DBSCAN** tiene el valor más alto (0.984), lo que sugiere que los clusters están bien separados.\n    - **LDA** tiene el valor más bajo (0.0499), lo que podría indicar una superposición significativa entre los clusters.\n\n2. **Calinski-Harabasz Score**: Cuanto más alto sea el valor, mejor es el agrupamiento.\n    - **DBSCAN** también lidera aquí con un valor muy alto (5131.17).\n    - **LDA** tiene el valor más bajo (67.37), lo que sugiere que podría no ser el mejor método para este conjunto de datos.\n\n3. **Davies-Bouldin Score**: Cuanto más bajo sea el valor, mejor es el agrupamiento.\n    - **DBSCAN** tiene el valor más bajo (0.241), lo que indica que los clusters están bien separados y tienen baja dispersión.\n    - **LDA** tiene el valor más alto (5.717), lo que sugiere que los clusters podrían no estar bien definidos.\n\n### Conclusión:\n\n- **DBSCAN** parece ser el método más robusto para este conjunto de datos, según las métricas de validación interna.\n- **LDA** parece ser el menos eficaz en términos de calidad del agrupamiento.\n\nEstos resultados pueden ayudarte a decidir qué método de agrupamiento es el más adecuado para tu conjunto de datos y qué áreas podrían necesitar más investigación o ajuste.",
      "metadata": {
        "noteable": {
          "cell_type": "markdown"
        }
      }
    }
  ]
}