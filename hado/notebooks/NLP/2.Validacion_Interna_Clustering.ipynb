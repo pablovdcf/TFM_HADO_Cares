{
  "cells": [
    {
      "cell_type": "code",
      "execution_count": 2,
      "id": "82993dfd-f284-47c3-9813-171bca5a97ae",
      "metadata": {
        "ExecuteTime": {
          "end_time": "2023-09-06T10:17:27.497227+00:00",
          "start_time": "2023-09-06T10:17:27.139245+00:00"
        },
        "datalink": {
          "4a9d3fbe-cf80-4e33-b706-a8ff265c1bc3": {
            "applied_filters": [],
            "dataframe_info": {
              "default_index_used": true,
              "orig_num_cols": 60,
              "orig_num_rows": 5,
              "orig_size_bytes": 2440,
              "truncated_num_cols": 60,
              "truncated_num_rows": 5,
              "truncated_size_bytes": 2440,
              "truncated_string_columns": []
            },
            "display_id": "4a9d3fbe-cf80-4e33-b706-a8ff265c1bc3",
            "dx_settings": {
              "ALLOW_NOTEABLE_ATTRS": true,
              "COLUMN_SAMPLING_METHOD": "outer",
              "DB_LOCATION": ":memory:",
              "DEV_MODE": false,
              "DISPLAY_MAX_COLUMNS": 100,
              "DISPLAY_MAX_ROWS": 50000,
              "DISPLAY_MODE": "simple",
              "ENABLE_ASSIGNMENT": true,
              "ENABLE_DATALINK": true,
              "FLATTEN_COLUMN_VALUES": true,
              "FLATTEN_INDEX_VALUES": false,
              "GENERATE_DEX_METADATA": false,
              "HTML_TABLE_SCHEMA": false,
              "LOG_LEVEL": 30,
              "MAX_RENDER_SIZE_BYTES": 104857600,
              "MAX_STRING_LENGTH": 250,
              "NUM_PAST_SAMPLES_TRACKED": 3,
              "RANDOM_STATE": 12648430,
              "RESET_INDEX_VALUES": false,
              "ROW_SAMPLING_METHOD": "random",
              "SAMPLING_FACTOR": 0.1,
              "SAMPLING_METHOD": "random",
              "STRINGIFY_COLUMN_VALUES": true,
              "STRINGIFY_INDEX_VALUES": false
            },
            "sample_history": [],
            "sampling_time": "2023-09-06T10:17:27.321158",
            "user_variable_name": null,
            "variable_name": "unk_dataframe_2b505a56f1e74756b2605db3aa328a5b"
          }
        },
        "noteable": {
          "cell_type": "code",
          "output_collection_id": "0c722f69-75bd-4da9-9015-f32845cf50e3"
        }
      },
      "outputs": [
        {
          "data": {
            "text/html": [
              "<div>\n",
              "<style scoped>\n",
              "    .dataframe tbody tr th:only-of-type {\n",
              "        vertical-align: middle;\n",
              "    }\n",
              "\n",
              "    .dataframe tbody tr th {\n",
              "        vertical-align: top;\n",
              "    }\n",
              "\n",
              "    .dataframe thead th {\n",
              "        text-align: right;\n",
              "    }\n",
              "</style>\n",
              "<table border=\"1\" class=\"dataframe\">\n",
              "  <thead>\n",
              "    <tr style=\"text-align: right;\">\n",
              "      <th></th>\n",
              "      <th>h_procedencia</th>\n",
              "      <th>hospital_category</th>\n",
              "      <th>s_procedencia</th>\n",
              "      <th>procedencia_category</th>\n",
              "      <th>diagnostico</th>\n",
              "      <th>diagnosis_category</th>\n",
              "      <th>motivo_ing</th>\n",
              "      <th>ingreso_category</th>\n",
              "      <th>motivo_alta</th>\n",
              "      <th>alta_category</th>\n",
              "      <th>...</th>\n",
              "      <th>year</th>\n",
              "      <th>diagnostico_cluster</th>\n",
              "      <th>motivo_ing_cluster</th>\n",
              "      <th>motivo_alta_cluster</th>\n",
              "      <th>diagnostico_cluster_optimal</th>\n",
              "      <th>motivo_ing_cluster_optimal</th>\n",
              "      <th>motivo_alta_cluster_optimal</th>\n",
              "      <th>diagnostico_topic</th>\n",
              "      <th>diagnostico_dbscan</th>\n",
              "      <th>diagnostico_hierarchical</th>\n",
              "    </tr>\n",
              "  </thead>\n",
              "  <tbody>\n",
              "    <tr>\n",
              "      <th>0</th>\n",
              "      <td>gil casares</td>\n",
              "      <td>Santiago</td>\n",
              "      <td>upal</td>\n",
              "      <td>Unidad Paliativos</td>\n",
              "      <td>cancer orl</td>\n",
              "      <td>Canceres y neoplasias</td>\n",
              "      <td>control sintomas</td>\n",
              "      <td>Sintomas</td>\n",
              "      <td>reingreso</td>\n",
              "      <td>Complicaciones</td>\n",
              "      <td>...</td>\n",
              "      <td>2017</td>\n",
              "      <td>0</td>\n",
              "      <td>1</td>\n",
              "      <td>2</td>\n",
              "      <td>0</td>\n",
              "      <td>1</td>\n",
              "      <td>2</td>\n",
              "      <td>2</td>\n",
              "      <td>0</td>\n",
              "      <td>3</td>\n",
              "    </tr>\n",
              "    <tr>\n",
              "      <th>1</th>\n",
              "      <td>clinico</td>\n",
              "      <td>Santiago</td>\n",
              "      <td>oncologia</td>\n",
              "      <td>Oncologia</td>\n",
              "      <td>melanoma vulvar</td>\n",
              "      <td>Neurologicas</td>\n",
              "      <td>mal control dolor</td>\n",
              "      <td>Sintomas</td>\n",
              "      <td>exitus</td>\n",
              "      <td>Exitus</td>\n",
              "      <td>...</td>\n",
              "      <td>2017</td>\n",
              "      <td>1</td>\n",
              "      <td>1</td>\n",
              "      <td>1</td>\n",
              "      <td>1</td>\n",
              "      <td>1</td>\n",
              "      <td>1</td>\n",
              "      <td>3</td>\n",
              "      <td>-1</td>\n",
              "      <td>5</td>\n",
              "    </tr>\n",
              "    <tr>\n",
              "      <th>2</th>\n",
              "      <td>clinico</td>\n",
              "      <td>Santiago</td>\n",
              "      <td>mir</td>\n",
              "      <td>MIR</td>\n",
              "      <td>cancer broncogenico</td>\n",
              "      <td>Canceres y neoplasias</td>\n",
              "      <td>control evolutivo</td>\n",
              "      <td>Evaluaciones</td>\n",
              "      <td>fin cuidados</td>\n",
              "      <td>Otros</td>\n",
              "      <td>...</td>\n",
              "      <td>2017</td>\n",
              "      <td>0</td>\n",
              "      <td>1</td>\n",
              "      <td>0</td>\n",
              "      <td>0</td>\n",
              "      <td>1</td>\n",
              "      <td>0</td>\n",
              "      <td>0</td>\n",
              "      <td>-1</td>\n",
              "      <td>3</td>\n",
              "    </tr>\n",
              "    <tr>\n",
              "      <th>3</th>\n",
              "      <td>clinico</td>\n",
              "      <td>Santiago</td>\n",
              "      <td>digestivo</td>\n",
              "      <td>Digestivo</td>\n",
              "      <td>cirrosis hepatica</td>\n",
              "      <td>Hepaticas y pancreaticas</td>\n",
              "      <td>administracion octreotido</td>\n",
              "      <td>Otros</td>\n",
              "      <td>fin cuidados</td>\n",
              "      <td>Otros</td>\n",
              "      <td>...</td>\n",
              "      <td>2017</td>\n",
              "      <td>1</td>\n",
              "      <td>0</td>\n",
              "      <td>0</td>\n",
              "      <td>1</td>\n",
              "      <td>0</td>\n",
              "      <td>0</td>\n",
              "      <td>3</td>\n",
              "      <td>1</td>\n",
              "      <td>5</td>\n",
              "    </tr>\n",
              "    <tr>\n",
              "      <th>4</th>\n",
              "      <td>clinico</td>\n",
              "      <td>Santiago</td>\n",
              "      <td>urgencias</td>\n",
              "      <td>Urgencias</td>\n",
              "      <td>neoplasia mama estadio iv</td>\n",
              "      <td>Canceres y neoplasias</td>\n",
              "      <td>control sintomas</td>\n",
              "      <td>Sintomas</td>\n",
              "      <td>exitus</td>\n",
              "      <td>Exitus</td>\n",
              "      <td>...</td>\n",
              "      <td>2017</td>\n",
              "      <td>2</td>\n",
              "      <td>1</td>\n",
              "      <td>1</td>\n",
              "      <td>2</td>\n",
              "      <td>1</td>\n",
              "      <td>1</td>\n",
              "      <td>0</td>\n",
              "      <td>2</td>\n",
              "      <td>3</td>\n",
              "    </tr>\n",
              "  </tbody>\n",
              "</table>\n",
              "<p>5 rows × 59 columns</p>\n",
              "</div>"
            ],
            "text/plain": [
              "  h_procedencia hospital_category s_procedencia procedencia_category  \\\n",
              "0   gil casares          Santiago          upal    Unidad Paliativos   \n",
              "1       clinico          Santiago     oncologia            Oncologia   \n",
              "2       clinico          Santiago           mir                  MIR   \n",
              "3       clinico          Santiago     digestivo            Digestivo   \n",
              "4       clinico          Santiago     urgencias            Urgencias   \n",
              "\n",
              "                 diagnostico        diagnosis_category  \\\n",
              "0                 cancer orl     Canceres y neoplasias   \n",
              "1            melanoma vulvar              Neurologicas   \n",
              "2        cancer broncogenico     Canceres y neoplasias   \n",
              "3          cirrosis hepatica  Hepaticas y pancreaticas   \n",
              "4  neoplasia mama estadio iv     Canceres y neoplasias   \n",
              "\n",
              "                  motivo_ing ingreso_category   motivo_alta   alta_category  \\\n",
              "0           control sintomas         Sintomas     reingreso  Complicaciones   \n",
              "1          mal control dolor         Sintomas        exitus          Exitus   \n",
              "2          control evolutivo     Evaluaciones  fin cuidados           Otros   \n",
              "3  administracion octreotido            Otros  fin cuidados           Otros   \n",
              "4           control sintomas         Sintomas        exitus          Exitus   \n",
              "\n",
              "   ...  year diagnostico_cluster  motivo_ing_cluster  motivo_alta_cluster  \\\n",
              "0  ...  2017                   0                   1                    2   \n",
              "1  ...  2017                   1                   1                    1   \n",
              "2  ...  2017                   0                   1                    0   \n",
              "3  ...  2017                   1                   0                    0   \n",
              "4  ...  2017                   2                   1                    1   \n",
              "\n",
              "  diagnostico_cluster_optimal motivo_ing_cluster_optimal  \\\n",
              "0                           0                          1   \n",
              "1                           1                          1   \n",
              "2                           0                          1   \n",
              "3                           1                          0   \n",
              "4                           2                          1   \n",
              "\n",
              "  motivo_alta_cluster_optimal diagnostico_topic diagnostico_dbscan  \\\n",
              "0                           2                 2                  0   \n",
              "1                           1                 3                 -1   \n",
              "2                           0                 0                 -1   \n",
              "3                           0                 3                  1   \n",
              "4                           1                 0                  2   \n",
              "\n",
              "  diagnostico_hierarchical  \n",
              "0                        3  \n",
              "1                        5  \n",
              "2                        3  \n",
              "3                        5  \n",
              "4                        3  \n",
              "\n",
              "[5 rows x 59 columns]"
            ]
          },
          "execution_count": 2,
          "metadata": {},
          "output_type": "execute_result"
        }
      ],
      "source": [
        "# Importar las bibliotecas necesarias\n",
        "import pandas as pd\n",
        "import numpy as np\n",
        "from sklearn.metrics import silhouette_score, calinski_harabasz_score, davies_bouldin_score\n",
        "import matplotlib.pyplot as plt\n",
        "import seaborn as sns\n",
        "\n",
        "# Cargar los datos\n",
        "hado_data = pd.read_csv('hado_data_clustering.csv')\n",
        "\n",
        "# Mostrar las primeras filas del DataFrame\n",
        "hado_data.head()"
      ]
    },
    {
      "cell_type": "code",
      "execution_count": 3,
      "id": "0b73582b-6934-4180-a97b-a26bdc2869b7",
      "metadata": {
        "ExecuteTime": {
          "end_time": "2023-09-06T10:17:58.028484+00:00",
          "start_time": "2023-09-06T10:17:57.871970+00:00"
        },
        "jupyter": {
          "outputs_hidden": false,
          "source_hidden": false
        },
        "noteable": {
          "cell_type": "code",
          "output_collection_id": "2b8d2c1a-90cf-4da8-b873-46fce6e943dc"
        }
      },
      "outputs": [
        {
          "data": {
            "text/plain": [
              "Index(['h_procedencia', 'hospital_category', 's_procedencia',\n",
              "       'procedencia_category', 'diagnostico', 'diagnosis_category',\n",
              "       'motivo_ing', 'ingreso_category', 'motivo_alta', 'alta_category',\n",
              "       'fecha_alta', 'ap', 'n_estancias', 'n_visitas', 'paliativo_onc_noc',\n",
              "       'paliativo_no_onc_noc', 'fiebre', 'disnea', 'dolor', 'delirium',\n",
              "       'sedacion', 'p_terminal', 'agonia', 'ast_anorx', 'cronico_reag',\n",
              "       'trato_antibiotico', 'transfusion', 'paracentesis', 'agudo_estable',\n",
              "       'toracocentesis', 'fe_iv', 'ps_ecog', 'barthel', 'gds_fast', 'eva_ing',\n",
              "       'otros_complicaciones', 'otros', 'otros_1', 'otros_2', 'otros_category',\n",
              "       'categorized_combined_otros', 'tiene_sedacion', 'morfina', 'midazolam',\n",
              "       'buscapina', 'haloperidol', 'levomepromazina', 'medico', 'ayuntamiento',\n",
              "       'year', 'diagnostico_cluster', 'motivo_ing_cluster',\n",
              "       'motivo_alta_cluster', 'diagnostico_cluster_optimal',\n",
              "       'motivo_ing_cluster_optimal', 'motivo_alta_cluster_optimal',\n",
              "       'diagnostico_topic', 'diagnostico_dbscan', 'diagnostico_hierarchical'],\n",
              "      dtype='object')"
            ]
          },
          "execution_count": 3,
          "metadata": {},
          "output_type": "execute_result"
        }
      ],
      "source": [
        "hado_data.columns"
      ]
    },
    {
      "cell_type": "code",
      "execution_count": 4,
      "id": "8a865f7e-9a1b-4c17-90bd-313223838c16",
      "metadata": {
        "ExecuteTime": {
          "end_time": "2023-09-06T10:22:40.993073+00:00",
          "start_time": "2023-09-06T10:22:40.836976+00:00"
        },
        "jupyter": {
          "outputs_hidden": false,
          "source_hidden": false
        },
        "noteable": {
          "cell_type": "code",
          "output_collection_id": "2a6f7f71-05bb-49ed-b21b-8c957ec164cb"
        }
      },
      "outputs": [],
      "source": [
        "hado_data = hado_data.rename(columns={'diagnostico_cluster_optimal': 'diagnostico_kmeans',\n",
        "                                      'motivo_ing_cluster_optimal': 'motivo_ing_kmeans',\n",
        "                                      'motivo_alta_cluster_optimal': 'motivo_alta_kmeans',\n",
        "                                      'diagnostico_topic': 'diagnostico_lda'\n",
        "                                     }\n",
        "                            )"
      ]
    },
    {
      "cell_type": "markdown",
      "id": "12f3aec5-a1f8-406b-9afa-bff12db25cc5",
      "metadata": {
        "noteable": {
          "cell_type": "markdown"
        }
      },
      "source": [
        "Las métricas que utilizaré son:\n",
        "\n",
        "1. **Índice de Silhouette**: Mide cuán similar es un objeto a su propio cluster en comparación con otros clusters. Los valores varían entre -1 y 1, donde un valor alto indica que el objeto está bien emparejado con su propio cluster y mal emparejado con los clusters vecinos.\n",
        "  \n",
        "2. **Índice de Calinski-Harabasz**: También conocido como el índice de varianza, es la relación entre la suma de las dispersiones dentro del cluster y la suma de las dispersiones entre los clusters. Los valores más altos indican mejores clusters.\n",
        "  \n",
        "3. **Índice de Davies-Bouldin**: Es la relación promedio de la similitud entre cada cluster y su cluster más similar. Los valores más bajos indican mejores clusters.\n",
        "\n",
        "Voy a calcular estas métricas para cada método."
      ]
    },
    {
      "cell_type": "code",
      "execution_count": 5,
      "id": "70348046-92be-479d-8d85-76949062ad37",
      "metadata": {
        "ExecuteTime": {
          "end_time": "2023-09-06T10:32:34.821930+00:00",
          "start_time": "2023-09-06T10:32:34.664965+00:00"
        },
        "datalink": {
          "b7c79e90-185b-41bd-8769-d22ac96ec60d": {
            "applied_filters": [],
            "dataframe_info": {
              "default_index_used": false,
              "orig_num_cols": 1,
              "orig_num_rows": 60,
              "orig_size_bytes": 960,
              "truncated_num_cols": 1,
              "truncated_num_rows": 60,
              "truncated_size_bytes": 960,
              "truncated_string_columns": []
            },
            "display_id": "b7c79e90-185b-41bd-8769-d22ac96ec60d",
            "dx_settings": {
              "ALLOW_NOTEABLE_ATTRS": true,
              "COLUMN_SAMPLING_METHOD": "outer",
              "DB_LOCATION": ":memory:",
              "DEV_MODE": false,
              "DISPLAY_MAX_COLUMNS": 100,
              "DISPLAY_MAX_ROWS": 50000,
              "DISPLAY_MODE": "simple",
              "ENABLE_ASSIGNMENT": true,
              "ENABLE_DATALINK": true,
              "FLATTEN_COLUMN_VALUES": true,
              "FLATTEN_INDEX_VALUES": false,
              "GENERATE_DEX_METADATA": false,
              "HTML_TABLE_SCHEMA": false,
              "LOG_LEVEL": 30,
              "MAX_RENDER_SIZE_BYTES": 104857600,
              "MAX_STRING_LENGTH": 250,
              "NUM_PAST_SAMPLES_TRACKED": 3,
              "RANDOM_STATE": 12648430,
              "RESET_INDEX_VALUES": false,
              "ROW_SAMPLING_METHOD": "random",
              "SAMPLING_FACTOR": 0.1,
              "SAMPLING_METHOD": "random",
              "STRINGIFY_COLUMN_VALUES": true,
              "STRINGIFY_INDEX_VALUES": false
            },
            "sample_history": [],
            "sampling_time": "2023-09-06T10:30:37.342675",
            "user_variable_name": null,
            "variable_name": "unk_dataframe_1b52765e4f2b4480ac42079aa18bee57"
          }
        },
        "jupyter": {
          "outputs_hidden": false,
          "source_hidden": false
        },
        "noteable": {
          "cell_type": "code",
          "output_collection_id": "90a2e13c-a771-43c6-bc3a-1b04ad9c1980"
        }
      },
      "outputs": [],
      "source": [
        "hado_data = hado_data.dropna(subset=['diagnostico'])\n",
        "hado_data.reset_index(drop=True, inplace=True)"
      ]
    },
    {
      "cell_type": "code",
      "execution_count": 8,
      "id": "09cb103a-5dc2-414b-b992-7ce4e82a0e30",
      "metadata": {
        "ExecuteTime": {
          "end_time": "2023-09-06T10:32:38.135495+00:00",
          "start_time": "2023-09-06T10:32:37.968688+00:00"
        },
        "jupyter": {
          "outputs_hidden": false,
          "source_hidden": false
        },
        "noteable": {
          "cell_type": "code",
          "output_collection_id": "1eafb7fd-3a59-4007-aab3-98af485939f7"
        }
      },
      "outputs": [],
      "source": [
        "# Importar la biblioteca necesaria para TF-IDF\n",
        "from sklearn.feature_extraction.text import TfidfVectorizer\n",
        "\n",
        "# Crear un objeto TF-IDF Vectorizer\n",
        "tfidf_vectorizer = TfidfVectorizer(max_features=5000)\n",
        "\n",
        "# Ajustar y transformar los datos de la columna 'diagnostico' al formato TF-IDF\n",
        "diagnostico_tfidf = tfidf_vectorizer.fit_transform(hado_data['diagnostico'])"
      ]
    },
    {
      "cell_type": "code",
      "execution_count": 9,
      "id": "cc7f06a4-385a-43c8-bfff-f598a5765911",
      "metadata": {
        "ExecuteTime": {
          "end_time": "2023-09-06T10:32:44.113771+00:00",
          "start_time": "2023-09-06T10:32:40.040872+00:00"
        },
        "datalink": {
          "6548a9dc-d0b4-4138-819b-5c76d25919b7": {
            "applied_filters": [],
            "dataframe_info": {
              "default_index_used": true,
              "orig_num_cols": 4,
              "orig_num_rows": 4,
              "orig_size_bytes": 160,
              "truncated_num_cols": 4,
              "truncated_num_rows": 4,
              "truncated_size_bytes": 160,
              "truncated_string_columns": []
            },
            "display_id": "6548a9dc-d0b4-4138-819b-5c76d25919b7",
            "dx_settings": {
              "ALLOW_NOTEABLE_ATTRS": true,
              "COLUMN_SAMPLING_METHOD": "outer",
              "DB_LOCATION": ":memory:",
              "DEV_MODE": false,
              "DISPLAY_MAX_COLUMNS": 100,
              "DISPLAY_MAX_ROWS": 50000,
              "DISPLAY_MODE": "simple",
              "ENABLE_ASSIGNMENT": true,
              "ENABLE_DATALINK": true,
              "FLATTEN_COLUMN_VALUES": true,
              "FLATTEN_INDEX_VALUES": false,
              "GENERATE_DEX_METADATA": false,
              "HTML_TABLE_SCHEMA": false,
              "LOG_LEVEL": 30,
              "MAX_RENDER_SIZE_BYTES": 104857600,
              "MAX_STRING_LENGTH": 250,
              "NUM_PAST_SAMPLES_TRACKED": 3,
              "RANDOM_STATE": 12648430,
              "RESET_INDEX_VALUES": false,
              "ROW_SAMPLING_METHOD": "random",
              "SAMPLING_FACTOR": 0.1,
              "SAMPLING_METHOD": "random",
              "STRINGIFY_COLUMN_VALUES": true,
              "STRINGIFY_INDEX_VALUES": false
            },
            "sample_history": [],
            "sampling_time": "2023-09-06T10:32:43.954867",
            "user_variable_name": "validation_metrics_df",
            "variable_name": "validation_metrics_df"
          }
        },
        "noteable": {
          "cell_type": "code",
          "output_collection_id": "1564fd8e-2161-4c31-a23b-4e0152e0e4ea"
        }
      },
      "outputs": [
        {
          "data": {
            "text/html": [
              "<div>\n",
              "<style scoped>\n",
              "    .dataframe tbody tr th:only-of-type {\n",
              "        vertical-align: middle;\n",
              "    }\n",
              "\n",
              "    .dataframe tbody tr th {\n",
              "        vertical-align: top;\n",
              "    }\n",
              "\n",
              "    .dataframe thead th {\n",
              "        text-align: right;\n",
              "    }\n",
              "</style>\n",
              "<table border=\"1\" class=\"dataframe\">\n",
              "  <thead>\n",
              "    <tr style=\"text-align: right;\">\n",
              "      <th></th>\n",
              "      <th>Method</th>\n",
              "      <th>Silhouette Score</th>\n",
              "      <th>Calinski-Harabasz Score</th>\n",
              "      <th>Davies-Bouldin Score</th>\n",
              "    </tr>\n",
              "  </thead>\n",
              "  <tbody>\n",
              "    <tr>\n",
              "      <th>0</th>\n",
              "      <td>K-means</td>\n",
              "      <td>0.096704</td>\n",
              "      <td>168.733671</td>\n",
              "      <td>2.634626</td>\n",
              "    </tr>\n",
              "    <tr>\n",
              "      <th>1</th>\n",
              "      <td>LDA</td>\n",
              "      <td>0.062017</td>\n",
              "      <td>77.809156</td>\n",
              "      <td>5.719606</td>\n",
              "    </tr>\n",
              "    <tr>\n",
              "      <th>2</th>\n",
              "      <td>Hierarchical</td>\n",
              "      <td>0.123029</td>\n",
              "      <td>177.067713</td>\n",
              "      <td>2.717680</td>\n",
              "    </tr>\n",
              "    <tr>\n",
              "      <th>3</th>\n",
              "      <td>DBSCAN</td>\n",
              "      <td>0.984203</td>\n",
              "      <td>5110.966007</td>\n",
              "      <td>0.241053</td>\n",
              "    </tr>\n",
              "  </tbody>\n",
              "</table>\n",
              "</div>"
            ],
            "text/plain": [
              "         Method  Silhouette Score  Calinski-Harabasz Score  \\\n",
              "0       K-means          0.096704               168.733671   \n",
              "1           LDA          0.062017                77.809156   \n",
              "2  Hierarchical          0.123029               177.067713   \n",
              "3        DBSCAN          0.984203              5110.966007   \n",
              "\n",
              "   Davies-Bouldin Score  \n",
              "0              2.634626  \n",
              "1              5.719606  \n",
              "2              2.717680  \n",
              "3              0.241053  "
            ]
          },
          "execution_count": 9,
          "metadata": {},
          "output_type": "execute_result"
        }
      ],
      "source": [
        "# Suponiendo que las etiquetas de cluster para cada método se almacenan en las siguientes columnas:\n",
        "# - 'diagnostico_kmeans' para K-means\n",
        "# - 'diagnostico_lda' para LDA diagnostico_topic\n",
        "# - 'diagnostico_hierarchical' para Clustering Jerárquico\n",
        "# - 'diagnostico_dbscan' para DBSCAN\n",
        "\n",
        "# Importar la biblioteca necesaria para TF-IDF\n",
        "from sklearn.feature_extraction.text import TfidfVectorizer\n",
        "\n",
        "# Lista para almacenar los resultados\n",
        "validation_metrics = []\n",
        "\n",
        "# Calcular métricas de validación interna para cada método\n",
        "for method, label_column in zip(['K-means', 'LDA', 'Hierarchical', 'DBSCAN'],\n",
        "                                ['diagnostico_kmeans', 'diagnostico_lda', 'diagnostico_hierarchical', 'diagnostico_dbscan']):\n",
        "    # Excluir clusters con etiqueta -1 (ruido en DBSCAN)\n",
        "    valid_data = hado_data[hado_data[label_column] != -1]\n",
        "    labels = valid_data[label_column]\n",
        "    features = diagnostico_tfidf[valid_data.index]\n",
        "\n",
        "    # Calcular métricas\n",
        "    silhouette = silhouette_score(features, labels)\n",
        "    calinski_harabasz = calinski_harabasz_score(features.toarray(), labels)\n",
        "    davies_bouldin = davies_bouldin_score(features.toarray(), labels)\n",
        "\n",
        "    # Almacenar resultados\n",
        "    validation_metrics.append({'Method': method,\n",
        "                               'Silhouette Score': silhouette,\n",
        "                               'Calinski-Harabasz Score': calinski_harabasz,\n",
        "                               'Davies-Bouldin Score': davies_bouldin})\n",
        "\n",
        "# Convertir a DataFrame para facilitar la visualización\n",
        "validation_metrics_df = pd.DataFrame(validation_metrics)\n",
        "validation_metrics_df"
      ]
    },
    {
      "cell_type": "markdown",
      "id": "5ca5bb83-ec8a-497a-a9ca-c1b17eab8051",
      "metadata": {
        "noteable": {
          "cell_type": "markdown"
        }
      },
      "source": [
        "Excelente, has calculado las métricas de validación interna para cada uno de los métodos de agrupamiento. Aquí tienes una breve interpretación de los resultados:\n",
        "\n",
        "### Métricas de Validación Interna:\n",
        "\n",
        "1. **Silhouette Score**: Cuanto más cercano esté el valor a 1, mejor es el agrupamiento. Un valor cercano a 0 indica que los clusters se superponen.\n",
        "    - **DBSCAN** tiene el valor más alto (0.984), lo que sugiere que los clusters están bien separados.\n",
        "    - **LDA** tiene el valor más bajo (0.0499), lo que podría indicar una superposición significativa entre los clusters.\n",
        "\n",
        "2. **Calinski-Harabasz Score**: Cuanto más alto sea el valor, mejor es el agrupamiento.\n",
        "    - **DBSCAN** también lidera aquí con un valor muy alto (5131.17).\n",
        "    - **LDA** tiene el valor más bajo (67.37), lo que sugiere que podría no ser el mejor método para este conjunto de datos.\n",
        "\n",
        "3. **Davies-Bouldin Score**: Cuanto más bajo sea el valor, mejor es el agrupamiento.\n",
        "    - **DBSCAN** tiene el valor más bajo (0.241), lo que indica que los clusters están bien separados y tienen baja dispersión.\n",
        "    - **LDA** tiene el valor más alto (5.717), lo que sugiere que los clusters podrían no estar bien definidos.\n",
        "\n",
        "### Conclusión:\n",
        "\n",
        "- **DBSCAN** parece ser el método más robusto para este conjunto de datos, según las métricas de validación interna.\n",
        "- **LDA** parece ser el menos eficaz en términos de calidad del agrupamiento.\n",
        "\n",
        "Estos resultados pueden ayudarte a decidir qué método de agrupamiento es el más adecuado para tu conjunto de datos y qué áreas podrían necesitar más investigación o ajuste."
      ]
    },
    {
      "cell_type": "markdown",
      "id": "58dce6e9",
      "metadata": {},
      "source": []
    }
  ],
  "metadata": {
    "kernel_info": {
      "name": "python3"
    },
    "kernelspec": {
      "display_name": "Python 3.9",
      "language": "python",
      "name": "python3"
    },
    "language_info": {
      "codemirror_mode": {
        "name": "ipython",
        "version": 3
      },
      "file_extension": ".py",
      "mimetype": "text/x-python",
      "name": "python",
      "nbconvert_exporter": "python",
      "pygments_lexer": "ipython3",
      "version": "3.10.0"
    },
    "noteable-chatgpt": {
      "create_notebook": {
        "openai_conversation_id": "064209d2-f41c-5e87-8376-9751f75cf659",
        "openai_ephemeral_user_id": "6056224a-3afb-5b23-bf16-ca6334443c6f",
        "openai_subdivision1_iso_code": "ES-GA"
      }
    },
    "selected_hardware_size": "small"
  },
  "nbformat": 4,
  "nbformat_minor": 5
}
