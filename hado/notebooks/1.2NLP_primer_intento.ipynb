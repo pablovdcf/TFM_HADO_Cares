{
 "cells": [
  {
   "cell_type": "markdown",
   "metadata": {},
   "source": [
    "# NLP\n",
    "\n",
    "El Procesamiento de Lenguaje Natural (NLP, por sus siglas en inglés) es una subárea de la inteligencia artificial que se centra en la interacción entre las computadoras y el lenguaje humano. Su aplicación en el contexto médico, especialmente en el diagnóstico con errores gramaticales, puede ofrecer diversos beneficios:\n",
    "\n",
    "1. **Corrección Automática de Errores:** Una de las aplicaciones más directas del NLP es la corrección de errores gramaticales y ortográficos. Herramientas como TextBlob, pueden ayudar a identificar y corregir errores en el texto, aunque no son infalibles y a veces pueden introducir errores.\n",
    "\n",
    "2. **Estandarización de Terminología:** En el ámbito médico, la terminología es crucial. Un término mal empleado o escrito incorrectamente puede cambiar significativamente el significado. El NLP puede ayudar a mapear términos mal escritos o variaciones de un término a una forma estándar.\n",
    "\n",
    "3. **Extracción de Información:** El NLP permite extraer información relevante de textos desestructurados. Por ejemplo, si un médico escribe notas sobre un paciente, el NLP puede extraer detalles como síntomas, medicamentos prescritos y otros datos relevantes.\n",
    "\n",
    "4. **Aumento de la Eficiencia:** Automatizar el proceso de revisión y corrección de diagnósticos mediante NLP puede ahorrar tiempo y reducir la carga de trabajo de los profesionales médicos.\n",
    "\n",
    "5. **Mejora en la Calidad de la Atención Médica:** Un diagnóstico claro y preciso es fundamental para un tratamiento eficaz. Al reducir errores y ambigüedades en el diagnóstico, el NLP puede contribuir a una mejor atención al paciente.\n",
    "\n",
    "6. **Minimizar Riesgos:** Errores en el diagnóstico pueden llevar a tratamientos incorrectos o a malentendidos que pueden ser perjudiciales para el paciente. Al corregir estos errores, se reduce el riesgo de posibles complicaciones.\n",
    "\n",
    "7. **Análisis de Sentimiento y Detección de Urgencia:** El NLP puede ser utilizado para analizar el sentimiento detrás de las palabras o para detectar casos que requieran atención urgente basándose en las palabras utilizadas.\n",
    "\n",
    "8. **Integración con Sistemas de Aprendizaje Automático:** Una vez que los datos estén limpios y estructurados, pueden ser alimentados en sistemas de aprendizaje automático para hacer predicciones o identificar patrones en los diagnósticos.\n",
    "\n",
    "Sin embargo, es importante señalar que, aunque el NLP tiene un potencial considerable, su aplicación en el contexto médico también tiene desafíos. El lenguaje médico es complejo y a menudo requiere una comprensión profunda del contexto. Además, un error en la corrección o interpretación del NLP puede tener consecuencias graves en un entorno médico. Por lo tanto, es crucial que cualquier sistema de NLP implementado en este ámbito sea exhaustivamente probado y validado."
   ]
  },
  {
   "cell_type": "code",
   "execution_count": 3,
   "metadata": {},
   "outputs": [],
   "source": [
    "# Modulos\n",
    "import pandas as pd\n",
    "import numpy as np\n",
    "\n",
    "import collections\n",
    "import time\n",
    "\n",
    "import nltk\n",
    "from nltk.corpus import stopwords\n",
    "from gensim.models import Word2Vec\n",
    "\n",
    "from sklearn.cluster import KMeans\n",
    "from sklearn.preprocessing import StandardScaler\n",
    "\n",
    "from textblob import TextBlob\n",
    "\n",
    "from spellchecker import SpellChecker\n",
    "import spacy\n",
    "from spacy.language import Language\n"
   ]
  },
  {
   "cell_type": "code",
   "execution_count": 2,
   "metadata": {},
   "outputs": [
    {
     "data": {
      "text/html": [
       "<pre style=\"white-space:pre;overflow-x:auto;line-height:normal;font-family:Menlo,'DejaVu Sans Mono',consolas,'Courier New',monospace\"><span style=\"color: #7fbfbf; text-decoration-color: #7fbfbf\">[09/17/23 01:59:31] </span><span style=\"color: #000080; text-decoration-color: #000080\">INFO    </span> Resolved project path as: c:\\Users\\Pablo                               <span style=\"color: #7f7f7f; text-decoration-color: #7f7f7f\">__init__.py:136</span>\n",
       "<span style=\"color: #7fbfbf; text-decoration-color: #7fbfbf\">                    </span>         Villar\\Desktop\\CURSOS\\KSchool\\Máster en Data                           <span style=\"color: #7f7f7f; text-decoration-color: #7f7f7f\">               </span>\n",
       "<span style=\"color: #7fbfbf; text-decoration-color: #7fbfbf\">                    </span>         Science\\TFM\\nuevo_entorno_kedro\\hado.                                  <span style=\"color: #7f7f7f; text-decoration-color: #7f7f7f\">               </span>\n",
       "<span style=\"color: #7fbfbf; text-decoration-color: #7fbfbf\">                    </span>         To set a different path, run <span style=\"color: #008000; text-decoration-color: #008000\">'%reload_kedro &lt;project_root&gt;'</span>            <span style=\"color: #7f7f7f; text-decoration-color: #7f7f7f\">               </span>\n",
       "</pre>\n"
      ],
      "text/plain": [
       "\u001b[2;36m[09/17/23 01:59:31]\u001b[0m\u001b[2;36m \u001b[0m\u001b[34mINFO    \u001b[0m Resolved project path as: c:\\Users\\Pablo                               \u001b[2m__init__.py\u001b[0m\u001b[2m:\u001b[0m\u001b[2m136\u001b[0m\n",
       "\u001b[2;36m                    \u001b[0m         Villar\\Desktop\\CURSOS\\KSchool\\Máster en Data                           \u001b[2m               \u001b[0m\n",
       "\u001b[2;36m                    \u001b[0m         Science\\TFM\\nuevo_entorno_kedro\\hado.                                  \u001b[2m               \u001b[0m\n",
       "\u001b[2;36m                    \u001b[0m         To set a different path, run \u001b[32m'%reload_kedro \u001b[0m\u001b[32m<\u001b[0m\u001b[32mproject_root\u001b[0m\u001b[32m>\u001b[0m\u001b[32m'\u001b[0m            \u001b[2m               \u001b[0m\n"
      ]
     },
     "metadata": {},
     "output_type": "display_data"
    },
    {
     "data": {
      "text/html": [
       "<pre style=\"white-space:pre;overflow-x:auto;line-height:normal;font-family:Menlo,'DejaVu Sans Mono',consolas,'Courier New',monospace\"><span style=\"color: #7fbfbf; text-decoration-color: #7fbfbf\">[09/17/23 01:59:32] </span><span style=\"color: #800000; text-decoration-color: #800000\">WARNING </span> C:\\Users\\Pablo                                                         <span style=\"color: #7f7f7f; text-decoration-color: #7f7f7f\">warnings.py:109</span>\n",
       "<span style=\"color: #7fbfbf; text-decoration-color: #7fbfbf\">                    </span>         Villar\\AppData\\Local\\Programs\\Python\\Python310\\lib\\importlib\\__init__. <span style=\"color: #7f7f7f; text-decoration-color: #7f7f7f\">               </span>\n",
       "<span style=\"color: #7fbfbf; text-decoration-color: #7fbfbf\">                    </span>         py:<span style=\"color: #008080; text-decoration-color: #008080; font-weight: bold\">126</span>: DeprecationWarning: `kedro.extras.datasets` is deprecated and  <span style=\"color: #7f7f7f; text-decoration-color: #7f7f7f\">               </span>\n",
       "<span style=\"color: #7fbfbf; text-decoration-color: #7fbfbf\">                    </span>         will be removed in Kedro <span style=\"color: #008080; text-decoration-color: #008080; font-weight: bold\">0.19</span>, install `kedro-datasets` instead by     <span style=\"color: #7f7f7f; text-decoration-color: #7f7f7f\">               </span>\n",
       "<span style=\"color: #7fbfbf; text-decoration-color: #7fbfbf\">                    </span>         running `pip install kedro-datasets`.                                  <span style=\"color: #7f7f7f; text-decoration-color: #7f7f7f\">               </span>\n",
       "<span style=\"color: #7fbfbf; text-decoration-color: #7fbfbf\">                    </span>           return <span style=\"color: #800080; text-decoration-color: #800080; font-weight: bold\">_bootstrap._gcd_import</span><span style=\"font-weight: bold\">(</span>name<span style=\"font-weight: bold\">[</span>level:<span style=\"font-weight: bold\">]</span>, package, level<span style=\"font-weight: bold\">)</span>          <span style=\"color: #7f7f7f; text-decoration-color: #7f7f7f\">               </span>\n",
       "<span style=\"color: #7fbfbf; text-decoration-color: #7fbfbf\">                    </span>                                                                                <span style=\"color: #7f7f7f; text-decoration-color: #7f7f7f\">               </span>\n",
       "</pre>\n"
      ],
      "text/plain": [
       "\u001b[2;36m[09/17/23 01:59:32]\u001b[0m\u001b[2;36m \u001b[0m\u001b[31mWARNING \u001b[0m C:\\Users\\Pablo                                                         \u001b[2mwarnings.py\u001b[0m\u001b[2m:\u001b[0m\u001b[2m109\u001b[0m\n",
       "\u001b[2;36m                    \u001b[0m         Villar\\AppData\\Local\\Programs\\Python\\Python310\\lib\\importlib\\__init__. \u001b[2m               \u001b[0m\n",
       "\u001b[2;36m                    \u001b[0m         py:\u001b[1;36m126\u001b[0m: DeprecationWarning: `kedro.extras.datasets` is deprecated and  \u001b[2m               \u001b[0m\n",
       "\u001b[2;36m                    \u001b[0m         will be removed in Kedro \u001b[1;36m0.19\u001b[0m, install `kedro-datasets` instead by     \u001b[2m               \u001b[0m\n",
       "\u001b[2;36m                    \u001b[0m         running `pip install kedro-datasets`.                                  \u001b[2m               \u001b[0m\n",
       "\u001b[2;36m                    \u001b[0m           return \u001b[1;35m_bootstrap._gcd_import\u001b[0m\u001b[1m(\u001b[0mname\u001b[1m[\u001b[0mlevel:\u001b[1m]\u001b[0m, package, level\u001b[1m)\u001b[0m          \u001b[2m               \u001b[0m\n",
       "\u001b[2;36m                    \u001b[0m                                                                                \u001b[2m               \u001b[0m\n"
      ]
     },
     "metadata": {},
     "output_type": "display_data"
    },
    {
     "data": {
      "text/html": [
       "<pre style=\"white-space:pre;overflow-x:auto;line-height:normal;font-family:Menlo,'DejaVu Sans Mono',consolas,'Courier New',monospace\"><span style=\"color: #7fbfbf; text-decoration-color: #7fbfbf\">[09/17/23 01:59:34] </span><span style=\"color: #000080; text-decoration-color: #000080\">INFO    </span> Kedro project hado                                                     <span style=\"color: #7f7f7f; text-decoration-color: #7f7f7f\">__init__.py:105</span>\n",
       "</pre>\n"
      ],
      "text/plain": [
       "\u001b[2;36m[09/17/23 01:59:34]\u001b[0m\u001b[2;36m \u001b[0m\u001b[34mINFO    \u001b[0m Kedro project hado                                                     \u001b[2m__init__.py\u001b[0m\u001b[2m:\u001b[0m\u001b[2m105\u001b[0m\n"
      ]
     },
     "metadata": {},
     "output_type": "display_data"
    },
    {
     "data": {
      "text/html": [
       "<pre style=\"white-space:pre;overflow-x:auto;line-height:normal;font-family:Menlo,'DejaVu Sans Mono',consolas,'Courier New',monospace\"><span style=\"color: #7fbfbf; text-decoration-color: #7fbfbf\">                    </span><span style=\"color: #000080; text-decoration-color: #000080\">INFO    </span> Defined global variable <span style=\"color: #008000; text-decoration-color: #008000\">'context'</span>, <span style=\"color: #008000; text-decoration-color: #008000\">'session'</span>, <span style=\"color: #008000; text-decoration-color: #008000\">'catalog'</span> and            <span style=\"color: #7f7f7f; text-decoration-color: #7f7f7f\">__init__.py:106</span>\n",
       "<span style=\"color: #7fbfbf; text-decoration-color: #7fbfbf\">                    </span>         <span style=\"color: #008000; text-decoration-color: #008000\">'pipelines'</span>                                                            <span style=\"color: #7f7f7f; text-decoration-color: #7f7f7f\">               </span>\n",
       "</pre>\n"
      ],
      "text/plain": [
       "\u001b[2;36m                   \u001b[0m\u001b[2;36m \u001b[0m\u001b[34mINFO    \u001b[0m Defined global variable \u001b[32m'context'\u001b[0m, \u001b[32m'session'\u001b[0m, \u001b[32m'catalog'\u001b[0m and            \u001b[2m__init__.py\u001b[0m\u001b[2m:\u001b[0m\u001b[2m106\u001b[0m\n",
       "\u001b[2;36m                    \u001b[0m         \u001b[32m'pipelines'\u001b[0m                                                            \u001b[2m               \u001b[0m\n"
      ]
     },
     "metadata": {},
     "output_type": "display_data"
    },
    {
     "data": {
      "text/html": [
       "<pre style=\"white-space:pre;overflow-x:auto;line-height:normal;font-family:Menlo,'DejaVu Sans Mono',consolas,'Courier New',monospace\"><span style=\"color: #7fbfbf; text-decoration-color: #7fbfbf\">                    </span><span style=\"color: #000080; text-decoration-color: #000080\">INFO    </span> Registered line magic <span style=\"color: #008000; text-decoration-color: #008000\">'run_viz'</span>                                        <span style=\"color: #7f7f7f; text-decoration-color: #7f7f7f\">__init__.py:112</span>\n",
       "</pre>\n"
      ],
      "text/plain": [
       "\u001b[2;36m                   \u001b[0m\u001b[2;36m \u001b[0m\u001b[34mINFO    \u001b[0m Registered line magic \u001b[32m'run_viz'\u001b[0m                                        \u001b[2m__init__.py\u001b[0m\u001b[2m:\u001b[0m\u001b[2m112\u001b[0m\n"
      ]
     },
     "metadata": {},
     "output_type": "display_data"
    }
   ],
   "source": [
    "%load_ext kedro.ipython"
   ]
  },
  {
   "cell_type": "code",
   "execution_count": 21,
   "metadata": {},
   "outputs": [
    {
     "data": {
      "text/html": [
       "<pre style=\"white-space:pre;overflow-x:auto;line-height:normal;font-family:Menlo,'DejaVu Sans Mono',consolas,'Courier New',monospace\"><span style=\"color: #7fbfbf; text-decoration-color: #7fbfbf\">[09/17/23 02:24:41] </span><span style=\"color: #000080; text-decoration-color: #000080\">INFO    </span> Loading data from <span style=\"color: #008000; text-decoration-color: #008000\">'hado_final'</span> <span style=\"font-weight: bold\">(</span>CSVDataSet<span style=\"font-weight: bold\">)</span><span style=\"color: #808000; text-decoration-color: #808000\">...</span>                     <span style=\"color: #7f7f7f; text-decoration-color: #7f7f7f\">data_catalog.py:345</span>\n",
       "</pre>\n"
      ],
      "text/plain": [
       "\u001b[2;36m[09/17/23 02:24:41]\u001b[0m\u001b[2;36m \u001b[0m\u001b[34mINFO    \u001b[0m Loading data from \u001b[32m'hado_final'\u001b[0m \u001b[1m(\u001b[0mCSVDataSet\u001b[1m)\u001b[0m\u001b[33m...\u001b[0m                     \u001b[2mdata_catalog.py\u001b[0m\u001b[2m:\u001b[0m\u001b[2m345\u001b[0m\n"
      ]
     },
     "metadata": {},
     "output_type": "display_data"
    }
   ],
   "source": [
    "df = catalog.load(\"hado_final\")"
   ]
  },
  {
   "cell_type": "markdown",
   "metadata": {},
   "source": [
    "Una vez realizada la limpieza y preprocesamiento\n",
    "## Hacemos la vectorización de texto\n",
    "\n",
    "La vectorización de texto es el proceso de convertir palabras en vectores numéricos que pueden ser entendidos y procesados por un algoritmo de machine learning. Existen diferentes técnicas para hacer esto, entre las que se incluyen Bag of Words, TF-IDF, y Word2Vec.\n",
    "\n",
    ">Word2Vec es un método que utiliza redes neuronales para aprender representaciones vectoriales de palabras a partir de un corpus de texto. Este método tiene la ventaja de que puede capturar el significado semántico de las palabras.\n",
    "\n",
    "Tenemos que convertir los diagnosticos en una lista de listas haciendo un split de la variable \n",
    "```python\n",
    "diagnosticos = df['diagnosticos'].unique()`\n",
    "```"
   ]
  },
  {
   "cell_type": "code",
   "execution_count": 42,
   "metadata": {},
   "outputs": [
    {
     "name": "stderr",
     "output_type": "stream",
     "text": [
      "[nltk_data] Downloading package stopwords to C:\\Users\\Pablo\n",
      "[nltk_data]     Villar\\AppData\\Roaming\\nltk_data...\n",
      "[nltk_data]   Package stopwords is already up-to-date!\n"
     ]
    }
   ],
   "source": [
    "# Cargamos las stopwords\n",
    "\n",
    "# import nltk\n",
    "# from nltk.corpus import stopwords\n",
    "\n",
    "# Descargar las stopwords de NLTK\n",
    "nltk.download('stopwords')\n",
    "\n",
    "# Obtener las stopwords en español\n",
    "stopwords_es = stopwords.words('spanish')\n",
    "\n",
    "# Aplicar la eliminación de stopwords a tu columna de texto\n",
    "df['diagnostico'] = df['diagnostico'].apply(lambda x: ' '.join([word for word in x.split()\\\n",
    "                                                                if word not in (stopwords_es)]))\n"
   ]
  },
  {
   "cell_type": "code",
   "execution_count": 43,
   "metadata": {},
   "outputs": [],
   "source": [
    "diagnosticos = df['diagnostico'].unique()\n",
    "diagnosticos_split = [diagnostico.split() for diagnostico in diagnosticos]"
   ]
  },
  {
   "cell_type": "code",
   "execution_count": 44,
   "metadata": {},
   "outputs": [
    {
     "data": {
      "text/plain": [
       "[['cancer', 'orl'],\n",
       " ['melanoma', 'vulvar'],\n",
       " ['cancer', 'broncogenico'],\n",
       " ['cirrosis', 'hepatica'],\n",
       " ['neoplasia', 'mama', 'estadio', 'IV'],\n",
       " ['anemia'],\n",
       " ['adenoma', 'pulmon'],\n",
       " ['leucemia', 'linfatica', 'cronica'],\n",
       " ['fx', 'meseta', 'tibial'],\n",
       " ['cancer', 'mama']]"
      ]
     },
     "execution_count": 44,
     "metadata": {},
     "output_type": "execute_result"
    }
   ],
   "source": [
    "diagnosticos_split[:10]"
   ]
  },
  {
   "cell_type": "code",
   "execution_count": 45,
   "metadata": {},
   "outputs": [],
   "source": [
    "from gensim.models import Word2Vec\n",
    "\n",
    "# Asumiendo que tus diagnósticos ya están preprocesados y almacenados en una lista de listas,\n",
    "# donde cada lista interna contiene las palabras de un diagnóstico.\n",
    "# Por ejemplo: [[\"neoplasia\", \"pancreas\"], [\"adenocarcinoma\", \"de\", \"pulmón\"], ...]\n",
    "\n",
    "# Entrenamos el modelo Word2Vec\n",
    "model = Word2Vec(diagnosticos_split, min_count=1, vector_size=50)\n",
    "\n",
    "# Ahora podemos obtener el vector de una palabra en particular\n",
    "vector = model.wv['cancer']\n",
    "\n",
    "# O incluso obtener la palabra más similar a 'cancer'\n",
    "similar = model.wv.most_similar('cancer')\n"
   ]
  },
  {
   "cell_type": "code",
   "execution_count": 46,
   "metadata": {},
   "outputs": [
    {
     "data": {
      "text/plain": [
       "array([-0.00206307, -0.00134983,  0.01014814,  0.01863859, -0.02026581,\n",
       "       -0.01824549,  0.01603529,  0.02281343, -0.01487547, -0.00801561,\n",
       "        0.01485418, -0.00788157, -0.00617845,  0.01374094, -0.01113503,\n",
       "       -0.00174002,  0.00827018,  0.00190461, -0.02161521, -0.02260242,\n",
       "        0.01620434,  0.01315533,  0.01823759, -0.00120759,  0.01599858,\n",
       "       -0.00570859, -0.00510819,  0.01146678, -0.01847552, -0.00714802,\n",
       "       -0.01240762, -0.00207771,  0.01616402, -0.01300409, -0.00878509,\n",
       "       -0.00353266,  0.01858204, -0.0101256 ,  0.00163351, -0.01220511,\n",
       "       -0.01589034,  0.00937978, -0.01804782, -0.00937661,  0.00864735,\n",
       "        0.00038583, -0.0168338 ,  0.01493173,  0.01281624,  0.0198029 ],\n",
       "      dtype=float32)"
      ]
     },
     "execution_count": 46,
     "metadata": {},
     "output_type": "execute_result"
    }
   ],
   "source": [
    "vector"
   ]
  },
  {
   "cell_type": "code",
   "execution_count": 47,
   "metadata": {},
   "outputs": [
    {
     "data": {
      "text/plain": [
       "[('septico', 0.5110003352165222),\n",
       " ('fracturas', 0.4618563950061798),\n",
       " ('isquemicaareumatoide', 0.4074855446815491),\n",
       " ('adenocarcino', 0.39057669043540955),\n",
       " ('denencia', 0.37653809785842896),\n",
       " ('trigono', 0.37424391508102417),\n",
       " ('global', 0.3738190531730652),\n",
       " ('fragil', 0.3601739704608917),\n",
       " ('reumatoide', 0.35848185420036316),\n",
       " ('broncoaspiraciondeterioro', 0.357061505317688)]"
      ]
     },
     "execution_count": 47,
     "metadata": {},
     "output_type": "execute_result"
    }
   ],
   "source": [
    "similar"
   ]
  },
  {
   "cell_type": "markdown",
   "metadata": {},
   "source": [
    "### En el código anterior, min_count es el número mínimo de veces que una palabra debe aparecer en el corpus para ser incluida en el modelo, y vector_size es la dimensión de los vectores de palabra."
   ]
  },
  {
   "cell_type": "markdown",
   "metadata": {},
   "source": [
    "Word2Vec(diagnosticos_split, min_count=1, vector_size=50): Estás entrenando un modelo Word2Vec con tus diagnósticos. La opción min_count=1 significa que las palabras que aparecen al menos una vez en tus diagnósticos serán consideradas por el modelo, y vector_size=50 define la dimensionalidad de los vectores de palabras generados por el modelo.\n",
    "\n",
    "model.wv['cancer']: Esto te devuelve el vector de la palabra 'cancer'. Este vector es un arreglo de 50 números (porque has definido vector_size=50) que representa el significado de 'cancer' según lo aprendido por el modelo de tus diagnósticos.\n",
    "\n",
    "model.wv.most_similar('cancer'): Esto te devuelve las palabras más similares a 'cancer' según lo aprendido por el modelo de tus diagnósticos. La similitud se mide en términos de la similitud del coseno entre los vectores de palabras.\n",
    "\n",
    "Por favor, ten en cuenta que el modelo Word2Vec necesita una gran cantidad de datos para aprender representaciones de palabras significativas. Si solo tienes un pequeño número de diagnósticos, los vectores de palabras generados por el modelo podrían no ser muy significativos. En este caso, puedes considerar el uso de vectores de palabras pre-entrenados, como los disponibles en bibliotecas como spaCy o gensim."
   ]
  },
  {
   "cell_type": "code",
   "execution_count": 48,
   "metadata": {},
   "outputs": [],
   "source": [
    "# Filtramos los diagnósticos vacíos\n",
    "diagnosticos_split = [diagnostico for diagnostico in diagnosticos_split if diagnostico]\n",
    "\n",
    "# Luego, volvemos a calcular los vectores de diagnósticos\n",
    "diagnosticos_vec = [np.mean([model.wv[word] for word in diagnostico if word in model.wv.key_to_index], axis=0) for diagnostico in diagnosticos_split]"
   ]
  },
  {
   "cell_type": "code",
   "execution_count": 49,
   "metadata": {},
   "outputs": [
    {
     "data": {
      "text/html": [
       "<pre style=\"white-space:pre;overflow-x:auto;line-height:normal;font-family:Menlo,'DejaVu Sans Mono',consolas,'Courier New',monospace\"><span style=\"color: #7fbfbf; text-decoration-color: #7fbfbf\">[09/16/23 21:14:11] </span><span style=\"color: #800000; text-decoration-color: #800000\">WARNING </span> c:\\Users\\Pablo Villar\\Desktop\\CURSOS\\KSchool\\Máster en Data            <span style=\"color: #7f7f7f; text-decoration-color: #7f7f7f\">warnings.py:109</span>\n",
       "<span style=\"color: #7fbfbf; text-decoration-color: #7fbfbf\">                    </span>         Science\\TFM\\nuevo_entorno_kedro\\lib\\site-packages\\sklearn\\cluster\\_kme <span style=\"color: #7f7f7f; text-decoration-color: #7f7f7f\">               </span>\n",
       "<span style=\"color: #7fbfbf; text-decoration-color: #7fbfbf\">                    </span>         ans.py:<span style=\"color: #008080; text-decoration-color: #008080; font-weight: bold\">870</span>: FutureWarning: The default value of `n_init` will change   <span style=\"color: #7f7f7f; text-decoration-color: #7f7f7f\">               </span>\n",
       "<span style=\"color: #7fbfbf; text-decoration-color: #7fbfbf\">                    </span>         from <span style=\"color: #008080; text-decoration-color: #008080; font-weight: bold\">10</span> to <span style=\"color: #008000; text-decoration-color: #008000\">'auto'</span> in <span style=\"color: #008080; text-decoration-color: #008080; font-weight: bold\">1.4</span>. Set the value of `n_init` explicitly to      <span style=\"color: #7f7f7f; text-decoration-color: #7f7f7f\">               </span>\n",
       "<span style=\"color: #7fbfbf; text-decoration-color: #7fbfbf\">                    </span>         suppress the warning                                                   <span style=\"color: #7f7f7f; text-decoration-color: #7f7f7f\">               </span>\n",
       "<span style=\"color: #7fbfbf; text-decoration-color: #7fbfbf\">                    </span>           <span style=\"color: #800080; text-decoration-color: #800080; font-weight: bold\">warnings.warn</span><span style=\"font-weight: bold\">(</span>                                                       <span style=\"color: #7f7f7f; text-decoration-color: #7f7f7f\">               </span>\n",
       "<span style=\"color: #7fbfbf; text-decoration-color: #7fbfbf\">                    </span>                                                                                <span style=\"color: #7f7f7f; text-decoration-color: #7f7f7f\">               </span>\n",
       "</pre>\n"
      ],
      "text/plain": [
       "\u001b[2;36m[09/16/23 21:14:11]\u001b[0m\u001b[2;36m \u001b[0m\u001b[31mWARNING \u001b[0m c:\\Users\\Pablo Villar\\Desktop\\CURSOS\\KSchool\\Máster en Data            \u001b[2mwarnings.py\u001b[0m\u001b[2m:\u001b[0m\u001b[2m109\u001b[0m\n",
       "\u001b[2;36m                    \u001b[0m         Science\\TFM\\nuevo_entorno_kedro\\lib\\site-packages\\sklearn\\cluster\\_kme \u001b[2m               \u001b[0m\n",
       "\u001b[2;36m                    \u001b[0m         ans.py:\u001b[1;36m870\u001b[0m: FutureWarning: The default value of `n_init` will change   \u001b[2m               \u001b[0m\n",
       "\u001b[2;36m                    \u001b[0m         from \u001b[1;36m10\u001b[0m to \u001b[32m'auto'\u001b[0m in \u001b[1;36m1.4\u001b[0m. Set the value of `n_init` explicitly to      \u001b[2m               \u001b[0m\n",
       "\u001b[2;36m                    \u001b[0m         suppress the warning                                                   \u001b[2m               \u001b[0m\n",
       "\u001b[2;36m                    \u001b[0m           \u001b[1;35mwarnings.warn\u001b[0m\u001b[1m(\u001b[0m                                                       \u001b[2m               \u001b[0m\n",
       "\u001b[2;36m                    \u001b[0m                                                                                \u001b[2m               \u001b[0m\n"
      ]
     },
     "metadata": {},
     "output_type": "display_data"
    }
   ],
   "source": [
    "from sklearn.cluster import KMeans\n",
    "\n",
    "# Primero, necesitamos convertir nuestros diagnósticos a vectores.\n",
    "# Podemos hacer esto promediando los vectores de todas las palabras en cada diagnóstico.\n",
    "diagnosticos_vec = [np.mean([model.wv[word] for word in diagnostico], axis=0) for diagnostico in diagnosticos_split]\n",
    "\n",
    "# Entonces podemos entrenar un modelo KMeans en estos vectores.\n",
    "kmeans = KMeans(n_clusters=5)  # Ajusta este número a la cantidad de grupos que creas adecuada\n",
    "kmeans.fit(diagnosticos_vec)\n",
    "\n",
    "# Ahora podemos obtener las etiquetas de los grupos para cada diagnóstico\n",
    "labels = kmeans.labels_"
   ]
  },
  {
   "cell_type": "code",
   "execution_count": 50,
   "metadata": {},
   "outputs": [
    {
     "data": {
      "text/plain": [
       "array([0, 1, 0, ..., 2, 4, 1])"
      ]
     },
     "execution_count": 50,
     "metadata": {},
     "output_type": "execute_result"
    }
   ],
   "source": [
    "labels"
   ]
  },
  {
   "cell_type": "code",
   "execution_count": 51,
   "metadata": {},
   "outputs": [
    {
     "name": "stdout",
     "output_type": "stream",
     "text": [
      "Cluster 0:\n",
      "  cancer orl\n",
      "  cancer broncogenico\n",
      "  cancer mama\n",
      "  cancer prostata\n",
      "  cancer colon\n",
      "  cancer pancreas\n",
      "  cancer timo\n",
      "  cancer parotida\n",
      "  cancer endometrio\n",
      "  cancer suprarrenal\n",
      "Cluster 1:\n",
      "  melanoma vulvar\n",
      "  cirrosis hepatica\n",
      "  adenoma pulmon\n",
      "  tumor cerebral\n",
      "  sarcoidosis\n",
      "  bocio intratoracico\n",
      "  intolerancia oral\n",
      "  esclerosis multiple\n",
      "  demencia fallo multiorganico\n",
      "  fallo cardiaco\n",
      "Cluster 2:\n",
      "  neumonia\n",
      "  niemannpick\n",
      "  infeccion urinaria fallo cardiaco\n",
      "  infeccion respiratoria\n",
      "  sepsis respiratoria\n",
      "  infeccion urinaria\n",
      "  ITU\n",
      "  smd\n",
      "  amputacion\n",
      "  acv\n",
      "Cluster 3:\n",
      "  neoplasia mama estadio IV\n",
      "  adenoma colon IV\n",
      "  cancer colon estadio IV\n",
      "  miocardiopatia hipertrofica\n",
      "  tratamiento antibiotico IV\n",
      "  cancer lengua estadio IV\n",
      "  cancer pulmon estadio IV\n",
      "  adenocarcino colon estadio IV\n",
      "  neo colon\n",
      "  adenocarcinoma ovario estadio IV\n",
      "Cluster 4:\n",
      "  anemia\n",
      "  leucemia linfatica cronica\n",
      "  fx meseta tibial\n",
      "  deterioro general\n",
      "  melanoma fosa nasal\n",
      "  sdown\n",
      "  ulceras mmii\n",
      "  fractura cadera\n",
      "  fractura vertebral\n",
      "  ulceras vasculares\n"
     ]
    }
   ],
   "source": [
    "# Crea un diccionario donde las llaves son las etiquetas del cluster y los valores son listas de diagnósticos pertenecientes a ese cluster\n",
    "clusters = {i: [] for i in range(5)}  # Asegúrate de cambiar el rango para que coincida con el número de clusters que estás usando\n",
    "\n",
    "for diagnostico, label in zip(diagnosticos_split, labels):\n",
    "    clusters[label].append(' '.join(diagnostico))\n",
    "\n",
    "# Ahora puedes imprimir los diagnósticos en cada cluster\n",
    "for label, diagnosticos in clusters.items():\n",
    "    print(f'Cluster {label}:')\n",
    "    for diagnostico in diagnosticos[:10]:\n",
    "        print(f'  {diagnostico}')\n"
   ]
  },
  {
   "cell_type": "code",
   "execution_count": 52,
   "metadata": {},
   "outputs": [],
   "source": [
    "for diagnostico, label in zip(diagnosticos_split, labels):\n",
    "    clusters[label].append(' '.join(diagnostico))\n",
    "    \n",
    "    '''Está iterando sobre los diagnósticos y sus etiquetas de cluster correspondientes. \n",
    "    Para cada diagnóstico, transforma la lista de palabras en una cadena de texto (usando ' '.join(diagnostico)) \n",
    "    y la añade a la lista correspondiente en el diccionario clusters.\n",
    "    \n",
    "    Por ejemplo, si hay un diagnóstico que es [\"neoplasia\", \"pancreas\"] y su etiqueta de cluster es 2,\n",
    "    este diagnóstico se transformaría en la cadena de texto \"neoplasia pancreas\" y se añadiría a la lista de diagnósticos\n",
    "    del cluster 2 en el diccionario clusters. Así, al final, se crea un diccionario donde para cada cluster, \n",
    "    existe una lista de todos los diagnósticos (como cadenas de texto) que pertenecen a ese cluster'''"
   ]
  },
  {
   "cell_type": "markdown",
   "metadata": {},
   "source": [
    "También puedes querer investigar las palabras más representativas de cada cluster. Esto puede darte una idea de las características que el modelo está utilizando para distinguir entre los diferentes clusters.\n",
    "* Código de ejemplo para hacer eso:"
   ]
  },
  {
   "cell_type": "code",
   "execution_count": 53,
   "metadata": {},
   "outputs": [
    {
     "name": "stdout",
     "output_type": "stream",
     "text": [
      "Cluster 0:\n",
      "  cancer: 266\n",
      "  epidermoide: 28\n",
      "  colon: 26\n",
      "  pulmon: 20\n",
      "  gastrico: 18\n",
      "  prostata: 14\n",
      "  vejiga: 10\n",
      "  esofago: 8\n",
      "  urotelial: 8\n",
      "  hepaticas: 8\n",
      "Cluster 1:\n",
      "  neoplasia: 74\n",
      "  carcinoma: 50\n",
      "  cirrosis: 28\n",
      "  colon: 26\n",
      "  adenocarcinoma: 26\n",
      "  absceso: 24\n",
      "  pulmon: 20\n",
      "  demencia: 20\n",
      "  epoc: 20\n",
      "  origen: 20\n",
      "Cluster 2:\n",
      "  infeccion: 160\n",
      "  respiratoria: 50\n",
      "  ITU: 46\n",
      "  urinaria: 36\n",
      "  sindrome: 26\n",
      "  neumonia: 22\n",
      "  celulitis: 22\n",
      "  recto: 18\n",
      "  cancer: 16\n",
      "  herida: 14\n",
      "Cluster 3:\n",
      "  IV: 274\n",
      "  estadio: 260\n",
      "  cancer: 100\n",
      "  neoplasia: 42\n",
      "  colon: 38\n",
      "  pulmon: 34\n",
      "  neo: 34\n",
      "  adenocarcinoma: 28\n",
      "  prostata: 18\n",
      "  recto: 18\n",
      "Cluster 4:\n",
      "  insuficiencia: 142\n",
      "  cardiaca: 104\n",
      "  cronica: 92\n",
      "  cognitivo: 78\n",
      "  deterioro: 76\n",
      "  ulcera: 62\n",
      "  ulceras: 60\n",
      "  fragil: 48\n",
      "  aguda: 40\n",
      "  demencia: 38\n"
     ]
    }
   ],
   "source": [
    "import collections\n",
    "# Para cada cluster, encuentra las 10 palabras más comunes\n",
    "for label, diagnosticos in clusters.items():\n",
    "    # Juntamos todos los diagnósticos en una sola lista de palabras\n",
    "    palabras = [palabra for diagnostico in diagnosticos for palabra in diagnostico.split()]\n",
    "    \n",
    "    # Contamos las ocurrencias de cada palabra\n",
    "    conteo_palabras = collections.Counter(palabras)\n",
    "    \n",
    "    print(f'Cluster {label}:')\n",
    "    for palabra, conteo in conteo_palabras.most_common(10):\n",
    "        print(f'  {palabra}: {conteo}')\n"
   ]
  },
  {
   "cell_type": "markdown",
   "metadata": {},
   "source": [
    ">Estos clusters pueden ser útiles para entender qué tipos de diagnósticos se agrupan juntos y podrían ayudar en tareas como el análisis de datos, la recomendación de tratamientos, o la identificación de patrones en los diagnósticos.\n",
    "\n",
    "- Es importante recordar que estos clusters se basan en la similitud de las palabras en los diagnósticos, que no necesariamente reflejan la similitud en las condiciones médicas que representan. Por lo tanto, cualquier interpretación o aplicación de estos clusters debe hacerse con cuidado y, preferiblemente, con la validación de un experto médico."
   ]
  },
  {
   "cell_type": "markdown",
   "metadata": {},
   "source": [
    "<hr>\n",
    "\n",
    "# Otros\n",
    "\n",
    "## Transformación diagnosticos\n",
    "\n",
    "### 1.Corrección ortográfica: \n",
    "Usar bibliotecas como pyspellchecker para la corrección ortográfica. Sin embargo, este proceso puede ser computacionalmente costoso y no siempre proporciona resultados perfectos, ya que la corrección ortográfica puede ser un problema muy complejo. \n",
    "\n",
    "Otro enfoque podría ser construir un diccionario de correcciones comunes específicas para el conjunto de datos y aplicar estas correcciones de forma manual.\n",
    "\n",
    "### 2.Procesamiento en lotes: \n",
    "En lugar de procesar el texto de cada fila de forma individual, puedes utilizar nlp.pipe(), que es una función de SpaCy que permite procesar textos en lotes. Esto puede ser mucho más eficiente que procesar cada texto de forma individual. \n",
    "> Pero queda descartado porque haré las correcciones de forma manual\n",
    "\n",
    "### 3.Paralelización: \n",
    "Si estás utilizando una máquina con varios núcleos de CPU, puedes paralelizar el procesamiento para hacer un uso más eficiente de tus recursos computacionales. SpaCy tiene soporte para procesamiento paralelo a través de la función nlp.pipe(), simplemente estableciendo el argumento n_process a un número mayor que 1.\n",
    "\n",
    "### 4.Clasificación de texto: \n",
    "Una vez corregidos los errores ortográficos. Se pasa a usar técnicas de aprendizaje automático para clasificar los diagnósticos en categorías. SpaCy tiene un componente de clasificación de texto con el que puedes entrenar los datos. Alternativamente, podrían usarse otras bibliotecas de aprendizaje automático, como scikit-learn, para construir un modelo de clasificación de texto.\n",
    "> Utilizaré scikit-learn\n",
    "\n",
    "### 5.Reducción de dimensionalidad: \n",
    "Algunas técnicas, como TF-IDF o word embeddings (por ejemplo, Word2Vec, FastText o las incrustaciones de palabras de SpaCy), pueden ayudarte a reducir la dimensionalidad de los datos de texto y a extraer características útiles para la clasificación.\n",
    "\n",
    "### 6.Entrenamiento incremental: \n",
    "Si los datos están creciendo con el tiempo, puede considerarse el uso de un modelo que permita el entrenamiento incremental, es decir, un modelo que pueda ser actualizado con nuevos datos sin tener que ser reentrenado desde cero. Algunos modelos de SpaCy admiten esto, al igual que algunos modelos en bibliotecas como scikit-learn."
   ]
  },
  {
   "cell_type": "code",
   "execution_count": 54,
   "metadata": {},
   "outputs": [],
   "source": [
    "# Hacemos un sample\n",
    "df_sample = df.sample(300)"
   ]
  },
  {
   "cell_type": "code",
   "execution_count": 55,
   "metadata": {},
   "outputs": [
    {
     "data": {
      "text/plain": [
       "(300, 50)"
      ]
     },
     "execution_count": 55,
     "metadata": {},
     "output_type": "execute_result"
    }
   ],
   "source": [
    "df_sample.shape"
   ]
  },
  {
   "cell_type": "code",
   "execution_count": 56,
   "metadata": {},
   "outputs": [
    {
     "data": {
      "text/html": [
       "<div>\n",
       "<style scoped>\n",
       "    .dataframe tbody tr th:only-of-type {\n",
       "        vertical-align: middle;\n",
       "    }\n",
       "\n",
       "    .dataframe tbody tr th {\n",
       "        vertical-align: top;\n",
       "    }\n",
       "\n",
       "    .dataframe thead th {\n",
       "        text-align: right;\n",
       "    }\n",
       "</style>\n",
       "<table border=\"1\" class=\"dataframe\">\n",
       "  <thead>\n",
       "    <tr style=\"text-align: right;\">\n",
       "      <th></th>\n",
       "      <th>h_procedencia</th>\n",
       "      <th>hospital_category</th>\n",
       "      <th>s_procedencia</th>\n",
       "      <th>procedencia_category</th>\n",
       "      <th>diagnostico</th>\n",
       "      <th>diagnosis_category</th>\n",
       "      <th>motivo_ing</th>\n",
       "      <th>ingreso_category</th>\n",
       "      <th>motivo_alta</th>\n",
       "      <th>alta_category</th>\n",
       "      <th>...</th>\n",
       "      <th>categorized_combined_otros</th>\n",
       "      <th>tiene_sedacion</th>\n",
       "      <th>morfina</th>\n",
       "      <th>midazolam</th>\n",
       "      <th>buscapina</th>\n",
       "      <th>haloperidol</th>\n",
       "      <th>levomepromazina</th>\n",
       "      <th>medico</th>\n",
       "      <th>ayuntamiento</th>\n",
       "      <th>year</th>\n",
       "    </tr>\n",
       "  </thead>\n",
       "  <tbody>\n",
       "    <tr>\n",
       "      <th>117</th>\n",
       "      <td>clinico</td>\n",
       "      <td>Santiago</td>\n",
       "      <td>oncologia</td>\n",
       "      <td>Oncologia</td>\n",
       "      <td>cancer colon</td>\n",
       "      <td>Canceres y neoplasias</td>\n",
       "      <td>control sintomas</td>\n",
       "      <td>Sintomas</td>\n",
       "      <td>exitus</td>\n",
       "      <td>Exitus</td>\n",
       "      <td>...</td>\n",
       "      <td>Sintomas generales</td>\n",
       "      <td>0</td>\n",
       "      <td>0</td>\n",
       "      <td>0</td>\n",
       "      <td>0</td>\n",
       "      <td>0</td>\n",
       "      <td>0</td>\n",
       "      <td>suarez</td>\n",
       "      <td>desconocido</td>\n",
       "      <td>2017</td>\n",
       "    </tr>\n",
       "    <tr>\n",
       "      <th>2768</th>\n",
       "      <td>conxo</td>\n",
       "      <td>Santiago</td>\n",
       "      <td>upal</td>\n",
       "      <td>Unidad Paliativos</td>\n",
       "      <td>cancer colon</td>\n",
       "      <td>Canceres y neoplasias</td>\n",
       "      <td>control sintomas</td>\n",
       "      <td>Sintomas</td>\n",
       "      <td>exitus</td>\n",
       "      <td>Exitus</td>\n",
       "      <td>...</td>\n",
       "      <td>Desconocido/No especificado</td>\n",
       "      <td>1</td>\n",
       "      <td>0</td>\n",
       "      <td>0</td>\n",
       "      <td>0</td>\n",
       "      <td>0</td>\n",
       "      <td>0</td>\n",
       "      <td>villar del castillo</td>\n",
       "      <td>santiago</td>\n",
       "      <td>2021</td>\n",
       "    </tr>\n",
       "    <tr>\n",
       "      <th>374</th>\n",
       "      <td>no</td>\n",
       "      <td>no</td>\n",
       "      <td>no</td>\n",
       "      <td>Otros</td>\n",
       "      <td>tumor malar</td>\n",
       "      <td>Canceres y neoplasias</td>\n",
       "      <td>control sintomas</td>\n",
       "      <td>Sintomas</td>\n",
       "      <td>exitus</td>\n",
       "      <td>Exitus</td>\n",
       "      <td>...</td>\n",
       "      <td>Desconocido/No especificado</td>\n",
       "      <td>1</td>\n",
       "      <td>1</td>\n",
       "      <td>1</td>\n",
       "      <td>1</td>\n",
       "      <td>0</td>\n",
       "      <td>0</td>\n",
       "      <td>villar del castillo</td>\n",
       "      <td>desconocido</td>\n",
       "      <td>2017</td>\n",
       "    </tr>\n",
       "    <tr>\n",
       "      <th>2376</th>\n",
       "      <td>conxo</td>\n",
       "      <td>Santiago</td>\n",
       "      <td>cirugia maxilofacial</td>\n",
       "      <td>Otros</td>\n",
       "      <td>cancer lengua estadio IV</td>\n",
       "      <td>Canceres y neoplasias</td>\n",
       "      <td>control lesion mandibula</td>\n",
       "      <td>Evaluaciones</td>\n",
       "      <td>fin cuidados</td>\n",
       "      <td>Otros</td>\n",
       "      <td>...</td>\n",
       "      <td>Desconocido/No especificado</td>\n",
       "      <td>0</td>\n",
       "      <td>0</td>\n",
       "      <td>0</td>\n",
       "      <td>0</td>\n",
       "      <td>0</td>\n",
       "      <td>0</td>\n",
       "      <td>lopez renedo</td>\n",
       "      <td>oroso</td>\n",
       "      <td>2021</td>\n",
       "    </tr>\n",
       "    <tr>\n",
       "      <th>552</th>\n",
       "      <td>gil casares</td>\n",
       "      <td>Santiago</td>\n",
       "      <td>upal</td>\n",
       "      <td>Unidad Paliativos</td>\n",
       "      <td>cancer pulmon</td>\n",
       "      <td>Pulmonares y respiratorias</td>\n",
       "      <td>control dolor</td>\n",
       "      <td>Sintomas</td>\n",
       "      <td>exitus</td>\n",
       "      <td>Exitus</td>\n",
       "      <td>...</td>\n",
       "      <td>Complicaciones</td>\n",
       "      <td>1</td>\n",
       "      <td>1</td>\n",
       "      <td>1</td>\n",
       "      <td>1</td>\n",
       "      <td>0</td>\n",
       "      <td>1</td>\n",
       "      <td>ibanez alonso</td>\n",
       "      <td>desconocido</td>\n",
       "      <td>2017</td>\n",
       "    </tr>\n",
       "  </tbody>\n",
       "</table>\n",
       "<p>5 rows × 50 columns</p>\n",
       "</div>"
      ],
      "text/plain": [
       "     h_procedencia hospital_category         s_procedencia  \\\n",
       "117        clinico          Santiago             oncologia   \n",
       "2768         conxo          Santiago                  upal   \n",
       "374             no                no                    no   \n",
       "2376         conxo          Santiago  cirugia maxilofacial   \n",
       "552    gil casares          Santiago                  upal   \n",
       "\n",
       "     procedencia_category               diagnostico  \\\n",
       "117             Oncologia              cancer colon   \n",
       "2768    Unidad Paliativos              cancer colon   \n",
       "374                 Otros               tumor malar   \n",
       "2376                Otros  cancer lengua estadio IV   \n",
       "552     Unidad Paliativos             cancer pulmon   \n",
       "\n",
       "              diagnosis_category                motivo_ing ingreso_category  \\\n",
       "117        Canceres y neoplasias          control sintomas         Sintomas   \n",
       "2768       Canceres y neoplasias          control sintomas         Sintomas   \n",
       "374        Canceres y neoplasias          control sintomas         Sintomas   \n",
       "2376       Canceres y neoplasias  control lesion mandibula     Evaluaciones   \n",
       "552   Pulmonares y respiratorias             control dolor         Sintomas   \n",
       "\n",
       "       motivo_alta alta_category  ...   categorized_combined_otros  \\\n",
       "117         exitus        Exitus  ...           Sintomas generales   \n",
       "2768        exitus        Exitus  ...  Desconocido/No especificado   \n",
       "374         exitus        Exitus  ...  Desconocido/No especificado   \n",
       "2376  fin cuidados         Otros  ...  Desconocido/No especificado   \n",
       "552         exitus        Exitus  ...               Complicaciones   \n",
       "\n",
       "     tiene_sedacion  morfina  midazolam buscapina haloperidol levomepromazina  \\\n",
       "117               0        0          0         0           0               0   \n",
       "2768              1        0          0         0           0               0   \n",
       "374               1        1          1         1           0               0   \n",
       "2376              0        0          0         0           0               0   \n",
       "552               1        1          1         1           0               1   \n",
       "\n",
       "                   medico ayuntamiento  year  \n",
       "117                suarez  desconocido  2017  \n",
       "2768  villar del castillo     santiago  2021  \n",
       "374   villar del castillo  desconocido  2017  \n",
       "2376         lopez renedo        oroso  2021  \n",
       "552         ibanez alonso  desconocido  2017  \n",
       "\n",
       "[5 rows x 50 columns]"
      ]
     },
     "execution_count": 56,
     "metadata": {},
     "output_type": "execute_result"
    }
   ],
   "source": [
    "df_sample.head()"
   ]
  },
  {
   "cell_type": "markdown",
   "metadata": {},
   "source": [
    "# TextBlob\n",
    "\n",
    "* Corregir errores ortográficos (usando la biblioteca TextBlob para corrección automática):\n",
    "\n",
    ">OJO no puede tener valores NA o de otro tipo que no sea object"
   ]
  },
  {
   "cell_type": "code",
   "execution_count": 57,
   "metadata": {},
   "outputs": [
    {
     "name": "stdout",
     "output_type": "stream",
     "text": [
      "Diagnóstico original: cancer colon\n",
      "Diagnóstico corregido: cancer colon\n",
      "=========================\n",
      "Diagnóstico original: cancer colon\n",
      "Diagnóstico corregido: cancer colon\n",
      "=========================\n",
      "Diagnóstico original: tumor malar\n",
      "Diagnóstico corregido: tumor makar\n",
      "=========================\n",
      "Diagnóstico original: cancer lengua estadio IV\n",
      "Diagnóstico corregido: cancer length studio of\n",
      "=========================\n",
      "Diagnóstico original: cancer pulmon\n",
      "Diagnóstico corregido: cancer summon\n",
      "=========================\n",
      "Diagnóstico original: cancer ovarico estadio IV\n",
      "Diagnóstico corregido: cancer ovarian studio of\n",
      "=========================\n",
      "Diagnóstico original: demencaparkinson\n",
      "Diagnóstico corregido: demencaparkinson\n",
      "=========================\n",
      "Diagnóstico original: ulcera pierna\n",
      "Diagnóstico corregido: ulcer pierre\n",
      "=========================\n",
      "Diagnóstico original: anciana fragil\n",
      "Diagnóstico corregido: ancient frail\n",
      "=========================\n",
      "Diagnóstico original: infeccion respiratoria\n",
      "Diagnóstico corregido: infection respiratory\n",
      "=========================\n",
      "Tiempo de ejecución: 1.2249009609222412 segundos\n"
     ]
    }
   ],
   "source": [
    "from textblob import TextBlob\n",
    "import time\n",
    "\n",
    "l = df_sample['diagnostico']\n",
    "\n",
    "start_time = time.time()\n",
    "\n",
    "for x in l[:10]:\n",
    "    print(f\"Diagnóstico original: {x}\")\n",
    "    print(f\"Diagnóstico corregido: {TextBlob(x).correct()}\")\n",
    "    print(\"=\"*25)\n",
    "\n",
    "end_time = time.time()\n",
    "execution_time = end_time - start_time\n",
    "print(f\"Tiempo de ejecución: {execution_time} segundos\")\n",
    "    "
   ]
  },
  {
   "cell_type": "code",
   "execution_count": 62,
   "metadata": {},
   "outputs": [],
   "source": [
    "def correct_spelling_col(df, column):\n",
    "    if df[column].dtype == 'object':  # comprueba si la columna es de tipo 'object'\n",
    "        df[column] = df[column].apply(lambda x: str(TextBlob(x).correct()))"
   ]
  },
  {
   "cell_type": "code",
   "execution_count": 63,
   "metadata": {},
   "outputs": [
    {
     "name": "stdout",
     "output_type": "stream",
     "text": [
      "CPU times: total: 22.3 s\n",
      "Wall time: 57.2 s\n"
     ]
    }
   ],
   "source": [
    "%%time \n",
    "\n",
    "correct_spelling_col(df_sample, 'diagnostico')"
   ]
  },
  {
   "cell_type": "code",
   "execution_count": 34,
   "metadata": {},
   "outputs": [
    {
     "data": {
      "text/plain": [
       "2203                              cancer varix\n",
       "1903             ITU (infection tract urinary)\n",
       "3245                            diverticulitis\n",
       "2621                         ulcers isquemicas\n",
       "2714    leucaemia myeloid agudaiccfractura did\n",
       "                         ...                  \n",
       "1601                                 pneumonia\n",
       "3219                      iccinfec respiratory\n",
       "1370                     sarcoidosis silicosis\n",
       "899                               polimiositis\n",
       "3004             insuficiencia cardiac chronic\n",
       "Name: diagnostico, Length: 300, dtype: object"
      ]
     },
     "execution_count": 34,
     "metadata": {},
     "output_type": "execute_result"
    }
   ],
   "source": [
    "df_sample['diagnostico']"
   ]
  },
  {
   "cell_type": "code",
   "execution_count": 60,
   "metadata": {},
   "outputs": [
    {
     "data": {
      "text/plain": [
       "Series([], Name: diagnostico, dtype: int64)"
      ]
     },
     "execution_count": 60,
     "metadata": {},
     "output_type": "execute_result"
    }
   ],
   "source": [
    "# Anteriormente teniamos el valor de ITU seguido de (infeccion del tracto urinario), para evitar paréntesis y más información simplificamos a ITU en los parámetros de \"data_processing\" para la columna diagnóstico\n",
    "mask = df_sample['diagnostico'].str.contains(r'\\(.*\\)',regex=True)\n",
    "filtered_values = df_sample[mask]\n",
    "\n",
    "counts = filtered_values['diagnostico'].value_counts()\n",
    "counts"
   ]
  },
  {
   "cell_type": "code",
   "execution_count": 26,
   "metadata": {},
   "outputs": [],
   "source": [
    "# TextBlob no es la panacea, devuelve muchos errores y traduce al inglés además de comerse palabras\n",
    "from textblob import TextBlob\n",
    "\n",
    "def correct_spelling(df):\n",
    "    for column in df:\n",
    "        if df[column].dtype == 'object':  # comprueba si la columna es de tipo 'object'\n",
    "            df[column] = df[column].apply(lambda x: str(TextBlob(x).correct()))"
   ]
  },
  {
   "cell_type": "code",
   "execution_count": 64,
   "metadata": {},
   "outputs": [
    {
     "name": "stdout",
     "output_type": "stream",
     "text": [
      "CPU times: total: 4min 42s\n",
      "Wall time: 15min 10s\n"
     ]
    }
   ],
   "source": [
    "%%time\n",
    "\n",
    "correct_spelling(df_sample)"
   ]
  },
  {
   "cell_type": "code",
   "execution_count": 65,
   "metadata": {},
   "outputs": [
    {
     "data": {
      "text/html": [
       "<div>\n",
       "<style scoped>\n",
       "    .dataframe tbody tr th:only-of-type {\n",
       "        vertical-align: middle;\n",
       "    }\n",
       "\n",
       "    .dataframe tbody tr th {\n",
       "        vertical-align: top;\n",
       "    }\n",
       "\n",
       "    .dataframe thead th {\n",
       "        text-align: right;\n",
       "    }\n",
       "</style>\n",
       "<table border=\"1\" class=\"dataframe\">\n",
       "  <thead>\n",
       "    <tr style=\"text-align: right;\">\n",
       "      <th></th>\n",
       "      <th>h_procedencia</th>\n",
       "      <th>hospital_category</th>\n",
       "      <th>s_procedencia</th>\n",
       "      <th>procedencia_category</th>\n",
       "      <th>diagnostico</th>\n",
       "      <th>diagnosis_category</th>\n",
       "      <th>motivo_ing</th>\n",
       "      <th>ingreso_category</th>\n",
       "      <th>motivo_alta</th>\n",
       "      <th>alta_category</th>\n",
       "      <th>...</th>\n",
       "      <th>categorized_combined_otros</th>\n",
       "      <th>tiene_sedacion</th>\n",
       "      <th>morfina</th>\n",
       "      <th>midazolam</th>\n",
       "      <th>buscapina</th>\n",
       "      <th>haloperidol</th>\n",
       "      <th>levomepromazina</th>\n",
       "      <th>medico</th>\n",
       "      <th>ayuntamiento</th>\n",
       "      <th>year</th>\n",
       "    </tr>\n",
       "  </thead>\n",
       "  <tbody>\n",
       "    <tr>\n",
       "      <th>117</th>\n",
       "      <td>clinics</td>\n",
       "      <td>Santiago</td>\n",
       "      <td>oncologia</td>\n",
       "      <td>Oncologia</td>\n",
       "      <td>cancer colon</td>\n",
       "      <td>Cancers y neoplasms</td>\n",
       "      <td>control sintomas</td>\n",
       "      <td>Sintomas</td>\n",
       "      <td>exist</td>\n",
       "      <td>Titus</td>\n",
       "      <td>...</td>\n",
       "      <td>Sintomas generals</td>\n",
       "      <td>0</td>\n",
       "      <td>0</td>\n",
       "      <td>0</td>\n",
       "      <td>0</td>\n",
       "      <td>0</td>\n",
       "      <td>0</td>\n",
       "      <td>sure</td>\n",
       "      <td>desconocido</td>\n",
       "      <td>2017</td>\n",
       "    </tr>\n",
       "    <tr>\n",
       "      <th>2768</th>\n",
       "      <td>onto</td>\n",
       "      <td>Santiago</td>\n",
       "      <td>pal</td>\n",
       "      <td>Unidad Paliativos</td>\n",
       "      <td>cancer colon</td>\n",
       "      <td>Cancers y neoplasms</td>\n",
       "      <td>control sintomas</td>\n",
       "      <td>Sintomas</td>\n",
       "      <td>exist</td>\n",
       "      <td>Titus</td>\n",
       "      <td>...</td>\n",
       "      <td>Desconocido/To especificado</td>\n",
       "      <td>1</td>\n",
       "      <td>0</td>\n",
       "      <td>0</td>\n",
       "      <td>0</td>\n",
       "      <td>0</td>\n",
       "      <td>0</td>\n",
       "      <td>villa del bastille</td>\n",
       "      <td>santiago</td>\n",
       "      <td>2021</td>\n",
       "    </tr>\n",
       "    <tr>\n",
       "      <th>374</th>\n",
       "      <td>no</td>\n",
       "      <td>no</td>\n",
       "      <td>no</td>\n",
       "      <td>Trot</td>\n",
       "      <td>tumor makar</td>\n",
       "      <td>Cancers y neoplasms</td>\n",
       "      <td>control sintomas</td>\n",
       "      <td>Sintomas</td>\n",
       "      <td>exist</td>\n",
       "      <td>Titus</td>\n",
       "      <td>...</td>\n",
       "      <td>Desconocido/To especificado</td>\n",
       "      <td>1</td>\n",
       "      <td>1</td>\n",
       "      <td>1</td>\n",
       "      <td>1</td>\n",
       "      <td>0</td>\n",
       "      <td>0</td>\n",
       "      <td>villa del bastille</td>\n",
       "      <td>desconocido</td>\n",
       "      <td>2017</td>\n",
       "    </tr>\n",
       "    <tr>\n",
       "      <th>2376</th>\n",
       "      <td>onto</td>\n",
       "      <td>Santiago</td>\n",
       "      <td>cirugia maxilofacial</td>\n",
       "      <td>Trot</td>\n",
       "      <td>cancer length studio of</td>\n",
       "      <td>Cancers y neoplasms</td>\n",
       "      <td>control lesion mandibular</td>\n",
       "      <td>Evaluaciones</td>\n",
       "      <td>in cuidados</td>\n",
       "      <td>Trot</td>\n",
       "      <td>...</td>\n",
       "      <td>Desconocido/To especificado</td>\n",
       "      <td>0</td>\n",
       "      <td>0</td>\n",
       "      <td>0</td>\n",
       "      <td>0</td>\n",
       "      <td>0</td>\n",
       "      <td>0</td>\n",
       "      <td>lope render</td>\n",
       "      <td>rose</td>\n",
       "      <td>2021</td>\n",
       "    </tr>\n",
       "    <tr>\n",
       "      <th>552</th>\n",
       "      <td>girl castres</td>\n",
       "      <td>Santiago</td>\n",
       "      <td>pal</td>\n",
       "      <td>Unidad Paliativos</td>\n",
       "      <td>cancer summon</td>\n",
       "      <td>Pulmonares y respiratorias</td>\n",
       "      <td>control door</td>\n",
       "      <td>Sintomas</td>\n",
       "      <td>exist</td>\n",
       "      <td>Titus</td>\n",
       "      <td>...</td>\n",
       "      <td>Complicaciones</td>\n",
       "      <td>1</td>\n",
       "      <td>1</td>\n",
       "      <td>1</td>\n",
       "      <td>1</td>\n",
       "      <td>0</td>\n",
       "      <td>1</td>\n",
       "      <td>bane also</td>\n",
       "      <td>desconocido</td>\n",
       "      <td>2017</td>\n",
       "    </tr>\n",
       "  </tbody>\n",
       "</table>\n",
       "<p>5 rows × 50 columns</p>\n",
       "</div>"
      ],
      "text/plain": [
       "     h_procedencia hospital_category         s_procedencia  \\\n",
       "117        clinics          Santiago             oncologia   \n",
       "2768          onto          Santiago                   pal   \n",
       "374             no                no                    no   \n",
       "2376          onto          Santiago  cirugia maxilofacial   \n",
       "552   girl castres          Santiago                   pal   \n",
       "\n",
       "     procedencia_category              diagnostico  \\\n",
       "117             Oncologia             cancer colon   \n",
       "2768    Unidad Paliativos             cancer colon   \n",
       "374                  Trot              tumor makar   \n",
       "2376                 Trot  cancer length studio of   \n",
       "552     Unidad Paliativos            cancer summon   \n",
       "\n",
       "              diagnosis_category                 motivo_ing ingreso_category  \\\n",
       "117          Cancers y neoplasms           control sintomas         Sintomas   \n",
       "2768         Cancers y neoplasms           control sintomas         Sintomas   \n",
       "374          Cancers y neoplasms           control sintomas         Sintomas   \n",
       "2376         Cancers y neoplasms  control lesion mandibular     Evaluaciones   \n",
       "552   Pulmonares y respiratorias               control door         Sintomas   \n",
       "\n",
       "      motivo_alta alta_category  ...   categorized_combined_otros  \\\n",
       "117         exist         Titus  ...            Sintomas generals   \n",
       "2768        exist         Titus  ...  Desconocido/To especificado   \n",
       "374         exist         Titus  ...  Desconocido/To especificado   \n",
       "2376  in cuidados          Trot  ...  Desconocido/To especificado   \n",
       "552         exist         Titus  ...               Complicaciones   \n",
       "\n",
       "     tiene_sedacion  morfina  midazolam buscapina haloperidol levomepromazina  \\\n",
       "117               0        0          0         0           0               0   \n",
       "2768              1        0          0         0           0               0   \n",
       "374               1        1          1         1           0               0   \n",
       "2376              0        0          0         0           0               0   \n",
       "552               1        1          1         1           0               1   \n",
       "\n",
       "                  medico ayuntamiento  year  \n",
       "117                 sure  desconocido  2017  \n",
       "2768  villa del bastille     santiago  2021  \n",
       "374   villa del bastille  desconocido  2017  \n",
       "2376         lope render         rose  2021  \n",
       "552            bane also  desconocido  2017  \n",
       "\n",
       "[5 rows x 50 columns]"
      ]
     },
     "execution_count": 65,
     "metadata": {},
     "output_type": "execute_result"
    }
   ],
   "source": [
    "df_sample.head()"
   ]
  },
  {
   "cell_type": "markdown",
   "metadata": {},
   "source": [
    "## Conclusiones TextBlob\n",
    "\n",
    "Text Blob solo para palabras en inglés.\n",
    "No nos valdría para corregir ortografía en español..."
   ]
  },
  {
   "cell_type": "markdown",
   "metadata": {},
   "source": [
    "# Spacy\n",
    "* Textos con spacy"
   ]
  },
  {
   "cell_type": "code",
   "execution_count": 71,
   "metadata": {},
   "outputs": [],
   "source": [
    "df_sample_2 = df.sample(300)"
   ]
  },
  {
   "cell_type": "code",
   "execution_count": 6,
   "metadata": {},
   "outputs": [
    {
     "name": "stdout",
     "output_type": "stream",
     "text": [
      "Tus texto con errores \n"
     ]
    }
   ],
   "source": [
    "from spellchecker import SpellChecker\n",
    "import spacy\n",
    "from spacy.language import Language\n",
    "\n",
    "spell = SpellChecker(language='es')  # especifica el idioma\n",
    "\n",
    "@Language.component(\"spell_check\")\n",
    "def correct_spellings(doc):\n",
    "    corrected_text = [spell.correction(word.text) if spell.correction(word.text) is not None else word.text for word in doc]\n",
    "    return spacy.tokens.Doc(doc.vocab, words=corrected_text)\n",
    "\n",
    "nlp = spacy.load('es_core_news_sm')  # carga el modelo de Spacy en español\n",
    "\n",
    "nlp.add_pipe('spell_check', after='ner')\n",
    "\n",
    "text = \"Tus texto con errres\"\n",
    "doc = nlp(text)\n",
    "\n",
    "print(doc.text)\n",
    "\n",
    "def correct_text(text):\n",
    "    doc = nlp(text)\n",
    "    corrected_doc = correct_spellings(doc)\n",
    "    return corrected_doc.text\n"
   ]
  },
  {
   "cell_type": "code",
   "execution_count": 72,
   "metadata": {},
   "outputs": [
    {
     "name": "stdout",
     "output_type": "stream",
     "text": [
      "CPU times: total: 40 s\n",
      "Wall time: 1min 52s\n"
     ]
    }
   ],
   "source": [
    "%%time\n",
    "df_sample_2['diagnostico_corregido'] = df_sample_2['diagnostico'].apply(correct_text)"
   ]
  },
  {
   "cell_type": "code",
   "execution_count": null,
   "metadata": {},
   "outputs": [
    {
     "data": {
      "text/html": [
       "<div>\n",
       "<style scoped>\n",
       "    .dataframe tbody tr th:only-of-type {\n",
       "        vertical-align: middle;\n",
       "    }\n",
       "\n",
       "    .dataframe tbody tr th {\n",
       "        vertical-align: top;\n",
       "    }\n",
       "\n",
       "    .dataframe thead th {\n",
       "        text-align: right;\n",
       "    }\n",
       "</style>\n",
       "<table border=\"1\" class=\"dataframe\">\n",
       "  <thead>\n",
       "    <tr style=\"text-align: right;\">\n",
       "      <th></th>\n",
       "      <th>diagnostico</th>\n",
       "      <th>diagnostico_corregido</th>\n",
       "    </tr>\n",
       "  </thead>\n",
       "  <tbody>\n",
       "    <tr>\n",
       "      <th>2106</th>\n",
       "      <td>cancer colon</td>\n",
       "      <td>cancer colon</td>\n",
       "    </tr>\n",
       "    <tr>\n",
       "      <th>2674</th>\n",
       "      <td>cancer colon</td>\n",
       "      <td>cancer colon</td>\n",
       "    </tr>\n",
       "    <tr>\n",
       "      <th>3698</th>\n",
       "      <td>ileostomia</td>\n",
       "      <td>ileostomia</td>\n",
       "    </tr>\n",
       "    <tr>\n",
       "      <th>2570</th>\n",
       "      <td>anciano fragil</td>\n",
       "      <td>anciano fragil</td>\n",
       "    </tr>\n",
       "    <tr>\n",
       "      <th>540</th>\n",
       "      <td>cancer pulmon estadio IV</td>\n",
       "      <td>cancer pulmon estadio IV</td>\n",
       "    </tr>\n",
       "    <tr>\n",
       "      <th>2557</th>\n",
       "      <td>neumonia</td>\n",
       "      <td>neumonia</td>\n",
       "    </tr>\n",
       "    <tr>\n",
       "      <th>3587</th>\n",
       "      <td>fistula aortoenterica</td>\n",
       "      <td>fístula aortoenterica</td>\n",
       "    </tr>\n",
       "    <tr>\n",
       "      <th>3975</th>\n",
       "      <td>upp sacra</td>\n",
       "      <td>up sacra</td>\n",
       "    </tr>\n",
       "    <tr>\n",
       "      <th>1431</th>\n",
       "      <td>bronquiectasias</td>\n",
       "      <td>bronquiectasias</td>\n",
       "    </tr>\n",
       "    <tr>\n",
       "      <th>2185</th>\n",
       "      <td>infeccion urinaria</td>\n",
       "      <td>infección urinaria</td>\n",
       "    </tr>\n",
       "    <tr>\n",
       "      <th>231</th>\n",
       "      <td>cancer pancreas</td>\n",
       "      <td>cancer pancreas</td>\n",
       "    </tr>\n",
       "    <tr>\n",
       "      <th>1757</th>\n",
       "      <td>neumonia cancer colon</td>\n",
       "      <td>neumonia cancer colon</td>\n",
       "    </tr>\n",
       "    <tr>\n",
       "      <th>1465</th>\n",
       "      <td>bronquiectasia infectadas</td>\n",
       "      <td>bronquiectasia infectadas</td>\n",
       "    </tr>\n",
       "    <tr>\n",
       "      <th>3346</th>\n",
       "      <td>bacteriemia</td>\n",
       "      <td>bacteriemia</td>\n",
       "    </tr>\n",
       "    <tr>\n",
       "      <th>746</th>\n",
       "      <td>cancer pulmon estadio IV</td>\n",
       "      <td>cancer pulmon estadio IV</td>\n",
       "    </tr>\n",
       "    <tr>\n",
       "      <th>465</th>\n",
       "      <td>cancer parotida</td>\n",
       "      <td>cancer partida</td>\n",
       "    </tr>\n",
       "    <tr>\n",
       "      <th>2355</th>\n",
       "      <td>neoplasia colon estadio IV</td>\n",
       "      <td>neoplasia colon estadio IV</td>\n",
       "    </tr>\n",
       "    <tr>\n",
       "      <th>1688</th>\n",
       "      <td>cancer recto estadio IV</td>\n",
       "      <td>cancer recto estadio IV</td>\n",
       "    </tr>\n",
       "    <tr>\n",
       "      <th>310</th>\n",
       "      <td>adenocaercinoma colon estadio IV</td>\n",
       "      <td>adenocarcinoma colon estadio IV</td>\n",
       "    </tr>\n",
       "    <tr>\n",
       "      <th>2626</th>\n",
       "      <td>trombosis arterial</td>\n",
       "      <td>trombosis arterial</td>\n",
       "    </tr>\n",
       "    <tr>\n",
       "      <th>32</th>\n",
       "      <td>infeccion respiratoria</td>\n",
       "      <td>infección respiratoria</td>\n",
       "    </tr>\n",
       "    <tr>\n",
       "      <th>1483</th>\n",
       "      <td>adenocarcinoma hepatobilniar</td>\n",
       "      <td>adenocarcinoma hepatobilniar</td>\n",
       "    </tr>\n",
       "    <tr>\n",
       "      <th>847</th>\n",
       "      <td>diverticulitis</td>\n",
       "      <td>diverticulitis</td>\n",
       "    </tr>\n",
       "    <tr>\n",
       "      <th>3351</th>\n",
       "      <td>let</td>\n",
       "      <td>let</td>\n",
       "    </tr>\n",
       "    <tr>\n",
       "      <th>1203</th>\n",
       "      <td>cancer pulmon</td>\n",
       "      <td>cancer pulmon</td>\n",
       "    </tr>\n",
       "    <tr>\n",
       "      <th>2676</th>\n",
       "      <td>colangitis aguda insuficiencia cardiaca</td>\n",
       "      <td>colangitis aguda insuficiencia cardiaca</td>\n",
       "    </tr>\n",
       "    <tr>\n",
       "      <th>1205</th>\n",
       "      <td>cancer pancreas</td>\n",
       "      <td>cancer pancreas</td>\n",
       "    </tr>\n",
       "    <tr>\n",
       "      <th>262</th>\n",
       "      <td>sindrome mielodisplasico</td>\n",
       "      <td>sindrome mielodisplasico</td>\n",
       "    </tr>\n",
       "    <tr>\n",
       "      <th>982</th>\n",
       "      <td>insuficiencia cardiaca refractaria</td>\n",
       "      <td>insuficiencia cardiaca refractario</td>\n",
       "    </tr>\n",
       "    <tr>\n",
       "      <th>748</th>\n",
       "      <td>infeccion respiratoria</td>\n",
       "      <td>infección respiratoria</td>\n",
       "    </tr>\n",
       "  </tbody>\n",
       "</table>\n",
       "</div>"
      ],
      "text/plain": [
       "                                  diagnostico  \\\n",
       "2106                             cancer colon   \n",
       "2674                             cancer colon   \n",
       "3698                               ileostomia   \n",
       "2570                           anciano fragil   \n",
       "540                  cancer pulmon estadio IV   \n",
       "2557                                 neumonia   \n",
       "3587                    fistula aortoenterica   \n",
       "3975                                upp sacra   \n",
       "1431                          bronquiectasias   \n",
       "2185                       infeccion urinaria   \n",
       "231                           cancer pancreas   \n",
       "1757                    neumonia cancer colon   \n",
       "1465                bronquiectasia infectadas   \n",
       "3346                              bacteriemia   \n",
       "746                  cancer pulmon estadio IV   \n",
       "465                           cancer parotida   \n",
       "2355               neoplasia colon estadio IV   \n",
       "1688                  cancer recto estadio IV   \n",
       "310          adenocaercinoma colon estadio IV   \n",
       "2626                       trombosis arterial   \n",
       "32                     infeccion respiratoria   \n",
       "1483             adenocarcinoma hepatobilniar   \n",
       "847                            diverticulitis   \n",
       "3351                                      let   \n",
       "1203                            cancer pulmon   \n",
       "2676  colangitis aguda insuficiencia cardiaca   \n",
       "1205                          cancer pancreas   \n",
       "262                  sindrome mielodisplasico   \n",
       "982        insuficiencia cardiaca refractaria   \n",
       "748                    infeccion respiratoria   \n",
       "\n",
       "                         diagnostico_corregido  \n",
       "2106                             cancer colon   \n",
       "2674                             cancer colon   \n",
       "3698                               ileostomia   \n",
       "2570                           anciano fragil   \n",
       "540                  cancer pulmon estadio IV   \n",
       "2557                                 neumonia   \n",
       "3587                    fístula aortoenterica   \n",
       "3975                                 up sacra   \n",
       "1431                          bronquiectasias   \n",
       "2185                       infección urinaria   \n",
       "231                           cancer pancreas   \n",
       "1757                    neumonia cancer colon   \n",
       "1465                bronquiectasia infectadas   \n",
       "3346                              bacteriemia   \n",
       "746                  cancer pulmon estadio IV   \n",
       "465                            cancer partida   \n",
       "2355               neoplasia colon estadio IV   \n",
       "1688                  cancer recto estadio IV   \n",
       "310           adenocarcinoma colon estadio IV   \n",
       "2626                       trombosis arterial   \n",
       "32                     infección respiratoria   \n",
       "1483             adenocarcinoma hepatobilniar   \n",
       "847                            diverticulitis   \n",
       "3351                                      let   \n",
       "1203                            cancer pulmon   \n",
       "2676  colangitis aguda insuficiencia cardiaca   \n",
       "1205                          cancer pancreas   \n",
       "262                  sindrome mielodisplasico   \n",
       "982        insuficiencia cardiaca refractario   \n",
       "748                    infección respiratoria   "
      ]
     },
     "execution_count": 78,
     "metadata": {},
     "output_type": "execute_result"
    }
   ],
   "source": [
    "df_sample_2[['diagnostico','diagnostico_corregido']][:10]"
   ]
  },
  {
   "cell_type": "code",
   "execution_count": 79,
   "metadata": {},
   "outputs": [
    {
     "data": {
      "text/plain": [
       "['hado_22',\n",
       " 'hado_21',\n",
       " 'hado_20',\n",
       " 'hado_19',\n",
       " 'hado_18',\n",
       " 'hado_17',\n",
       " 'strip_lower_hado_17',\n",
       " 'strip_lower_hado_18',\n",
       " 'strip_lower_hado_19',\n",
       " 'strip_lower_hado_20',\n",
       " 'strip_lower_hado_21',\n",
       " 'strip_lower_hado_22',\n",
       " 'hado_concat',\n",
       " 'hado_clean',\n",
       " 'hado_clean_na',\n",
       " 'hado_replaced_words',\n",
       " 'hado_cleaned',\n",
       " 'hado_cleaned_sedation',\n",
       " 'hado_cleaned_medication',\n",
       " 'hado_categorized',\n",
       " 'hado_final',\n",
       " 'hado_encoded']"
      ]
     },
     "execution_count": 79,
     "metadata": {},
     "output_type": "execute_result"
    }
   ],
   "source": [
    "catalog.list(\"hado\")"
   ]
  },
  {
   "cell_type": "code",
   "execution_count": 4,
   "metadata": {},
   "outputs": [
    {
     "data": {
      "text/html": [
       "<pre style=\"white-space:pre;overflow-x:auto;line-height:normal;font-family:Menlo,'DejaVu Sans Mono',consolas,'Courier New',monospace\"><span style=\"color: #7fbfbf; text-decoration-color: #7fbfbf\">[09/17/23 01:59:43] </span><span style=\"color: #000080; text-decoration-color: #000080\">INFO    </span> Loading data from <span style=\"color: #008000; text-decoration-color: #008000\">'hado_clean_na'</span> <span style=\"font-weight: bold\">(</span>CSVDataSet<span style=\"font-weight: bold\">)</span><span style=\"color: #808000; text-decoration-color: #808000\">...</span>                  <span style=\"color: #7f7f7f; text-decoration-color: #7f7f7f\">data_catalog.py:345</span>\n",
       "</pre>\n"
      ],
      "text/plain": [
       "\u001b[2;36m[09/17/23 01:59:43]\u001b[0m\u001b[2;36m \u001b[0m\u001b[34mINFO    \u001b[0m Loading data from \u001b[32m'hado_clean_na'\u001b[0m \u001b[1m(\u001b[0mCSVDataSet\u001b[1m)\u001b[0m\u001b[33m...\u001b[0m                  \u001b[2mdata_catalog.py\u001b[0m\u001b[2m:\u001b[0m\u001b[2m345\u001b[0m\n"
      ]
     },
     "metadata": {},
     "output_type": "display_data"
    }
   ],
   "source": [
    "# Hemos probando con los datos en los que se ha realizado toda la limpieza\n",
    "# Probaré con los datos sin los replaces pero sin NAs 'hado_clean'\n",
    "\n",
    "df_clean = catalog.load('hado_clean_na')"
   ]
  },
  {
   "cell_type": "code",
   "execution_count": 8,
   "metadata": {},
   "outputs": [],
   "source": [
    "df_clean['diagnostico_corregido'] = df_clean['diagnostico'].apply(correct_text)"
   ]
  },
  {
   "cell_type": "code",
   "execution_count": 9,
   "metadata": {},
   "outputs": [
    {
     "data": {
      "text/html": [
       "<div>\n",
       "<style scoped>\n",
       "    .dataframe tbody tr th:only-of-type {\n",
       "        vertical-align: middle;\n",
       "    }\n",
       "\n",
       "    .dataframe tbody tr th {\n",
       "        vertical-align: top;\n",
       "    }\n",
       "\n",
       "    .dataframe thead th {\n",
       "        text-align: right;\n",
       "    }\n",
       "</style>\n",
       "<table border=\"1\" class=\"dataframe\">\n",
       "  <thead>\n",
       "    <tr style=\"text-align: right;\">\n",
       "      <th></th>\n",
       "      <th>diagnostico</th>\n",
       "      <th>diagnostico_corregido</th>\n",
       "    </tr>\n",
       "  </thead>\n",
       "  <tbody>\n",
       "    <tr>\n",
       "      <th>0</th>\n",
       "      <td>ca orl</td>\n",
       "      <td>ca oro</td>\n",
       "    </tr>\n",
       "    <tr>\n",
       "      <th>1</th>\n",
       "      <td>melanoma vulvar</td>\n",
       "      <td>melanoma vulgar</td>\n",
       "    </tr>\n",
       "    <tr>\n",
       "      <th>2</th>\n",
       "      <td>ca broncogenico</td>\n",
       "      <td>ca broncogenico</td>\n",
       "    </tr>\n",
       "    <tr>\n",
       "      <th>3</th>\n",
       "      <td>cirrosis hepatica</td>\n",
       "      <td>cirrosis hepática</td>\n",
       "    </tr>\n",
       "    <tr>\n",
       "      <th>4</th>\n",
       "      <td>neplasia de mama estadio iv</td>\n",
       "      <td>neplasia de mama estadio iv</td>\n",
       "    </tr>\n",
       "    <tr>\n",
       "      <th>5</th>\n",
       "      <td>anemia</td>\n",
       "      <td>anemia</td>\n",
       "    </tr>\n",
       "    <tr>\n",
       "      <th>6</th>\n",
       "      <td>adenoca de pulmon</td>\n",
       "      <td>adenoma de pulmon</td>\n",
       "    </tr>\n",
       "    <tr>\n",
       "      <th>7</th>\n",
       "      <td>leucemia linfatica cronica</td>\n",
       "      <td>leucemia linfática cronica</td>\n",
       "    </tr>\n",
       "    <tr>\n",
       "      <th>8</th>\n",
       "      <td>fx meseta tibial</td>\n",
       "      <td>fe meseta tibial</td>\n",
       "    </tr>\n",
       "    <tr>\n",
       "      <th>9</th>\n",
       "      <td>cancer de mama</td>\n",
       "      <td>cancer de mama</td>\n",
       "    </tr>\n",
       "  </tbody>\n",
       "</table>\n",
       "</div>"
      ],
      "text/plain": [
       "                   diagnostico         diagnostico_corregido\n",
       "0                       ca orl                       ca oro \n",
       "1              melanoma vulvar              melanoma vulgar \n",
       "2              ca broncogenico              ca broncogenico \n",
       "3            cirrosis hepatica            cirrosis hepática \n",
       "4  neplasia de mama estadio iv  neplasia de mama estadio iv \n",
       "5                       anemia                       anemia \n",
       "6            adenoca de pulmon            adenoma de pulmon \n",
       "7   leucemia linfatica cronica   leucemia linfática cronica \n",
       "8             fx meseta tibial             fe meseta tibial \n",
       "9               cancer de mama               cancer de mama "
      ]
     },
     "execution_count": 9,
     "metadata": {},
     "output_type": "execute_result"
    }
   ],
   "source": [
    "df_clean[['diagnostico','diagnostico_corregido']][:10]"
   ]
  },
  {
   "cell_type": "markdown",
   "metadata": {},
   "source": [
    "## Conclusiones Spacy\n",
    "\n",
    "No nos vale para corregir ortografía en español tampoco pero es mejor que TextBlob en resultados.\n",
    "\n"
   ]
  },
  {
   "cell_type": "markdown",
   "metadata": {},
   "source": [
    "# Diccionarios\n",
    "\n",
    "Para corregir los diagnosticos asi como otras columnas, optaremos por crear listas y diccionarios con las correcciones"
   ]
  },
  {
   "cell_type": "code",
   "execution_count": 10,
   "metadata": {},
   "outputs": [],
   "source": [
    "corrections = {\n",
    "    'iccbacteriemia': 'insuficiencia cardiaca cronica bacteriemia',\n",
    "    'icc': 'insuficiencia cardiaca cronica',\n",
    "    'ic': 'insuficiencia cardiaca',\n",
    "    'insf ': 'insuficiencia',\n",
    "    'i cardiaca': 'insuficiencia cardiaca',\n",
    "    'icardiaca': 'insuficiencia cardiaca',\n",
    "    'insufcardiaca': 'insuficiencia cardiaca',\n",
    "    'insuficienciacardiaca': 'insuficiencia cardiaca',\n",
    "    '1tu': 'ITU',\n",
    "    'itu': 'ITU',\n",
    "    'ituinfeccion': 'infeccion',\n",
    "    'inf': 'infeccion',\n",
    "    'infecc': 'infeccion',\n",
    "    'infecion': 'infeccion',\n",
    "    'infec': 'infeccion',\n",
    "    'capulmon': 'cancer pulmon',\n",
    "    'canc': 'cancer',\n",
    "    'ca': 'cancer',\n",
    "    'insuf': 'insuficiencia',\n",
    "    'est': 'estadio',\n",
    "    'e': 'estadio',\n",
    "    'fr': 'fractura',\n",
    "    'deteriorocognitivo': 'deterioro cognitivo',\n",
    "    'iv': 'IV',\n",
    "    'resp': 'respiratoria',\n",
    "    '0steomielitis': 'osteomielitis',\n",
    "    'neplasia': 'neoplasia',\n",
    "    'adenoca': 'adenoma',\n",
    "    'sepsisi': 'sepsis',\n",
    "    'caepidermoide': 'carcinoma epidermoide',\n",
    "    'ucera': 'ulcera',\n",
    "    'alzheimertromboembolismo': 'alzheimer trombo embolismo',\n",
    "    'deteriioro': 'deterioro',\n",
    "    'miasteniabronquiectasias': 'miastenia bronquiectasia',\n",
    "    'brnquiectasias': 'bronquiectasia',\n",
    "    'quirurgicaarteriopatia': 'quirurgica arteriopatia',\n",
    "    'respiratoriasuboclusion': 'respiratoria suboclusion',\n",
    "    'respiratoriainsuf': 'respiratoria insuficiencia',\n",
    "    'sistemicodeterioro': 'sistemico deterioro',\n",
    "    'ituca': 'itu cancer',\n",
    "    'ituincont': 'itu incontinencia',\n",
    "    'ituinfec': 'itu infeccion',\n",
    "    'piwe': 'pie',\n",
    "    'pulm': 'pulmon',\n",
    "    'urinarui': 'urinaria',\n",
    "    'trtraparesia': 'tetraparesia',\n",
    "    'colangiocarcinima': 'colangiocarcinoma',\n",
    "    'bacteriemiadeterioro': 'bacteriemia deterioro',\n",
    "    'wpidermoide': 'epidermoide',\n",
    "    '(infeccion del tracto urinario)': 'ITU'\n",
    "}\n",
    "\n",
    "    # Añade tantas correcciones como necesites\n"
   ]
  },
  {
   "cell_type": "code",
   "execution_count": 13,
   "metadata": {},
   "outputs": [
    {
     "data": {
      "text/plain": [
       "cancer de colon                  68\n",
       "cancer de pulmon                 65\n",
       "cancer de pancreas               26\n",
       "cancer de prostata               18\n",
       "cancer de mama                   17\n",
       "                                 ..\n",
       "cancer intestinal                 1\n",
       "cancer de gastrico estadio iv     1\n",
       "cancer de cardias                 1\n",
       "cancer cavidad oral               1\n",
       "cancer de recto fournier          1\n",
       "Name: diagnostico, Length: 69, dtype: int64"
      ]
     },
     "execution_count": 13,
     "metadata": {},
     "output_type": "execute_result"
    }
   ],
   "source": [
    "# Busco todas las filas que contienen 'cancer' y las cuento\n",
    "df_clean['diagnostico'][df_clean['diagnostico'].str.contains('cancer',case=False)].value_counts()"
   ]
  },
  {
   "cell_type": "code",
   "execution_count": 18,
   "metadata": {},
   "outputs": [
    {
     "data": {
      "text/plain": [
       "ca pancreas                     24\n",
       "ca pulmon est iv                21\n",
       "ca colon estadio iv             18\n",
       "ca colon                        18\n",
       "ca mama est iv                  16\n",
       "                                ..\n",
       "ca de pancreas                   1\n",
       "ca de recto estiv                1\n",
       "ca prostata ee iv                1\n",
       "ca epidermoide suelo de boca     1\n",
       "ca celulas de merkel             1\n",
       "Name: diagnostico, Length: 198, dtype: int64"
      ]
     },
     "execution_count": 18,
     "metadata": {},
     "output_type": "execute_result"
    }
   ],
   "source": [
    "# Solo palabras completas 'ca'\n",
    "#\\b es una aserción de límite de palabra en una expresión regular,\n",
    "# lo que significa que 'ca' solo se encontrará si está rodeada de límites de palabra \n",
    "# (como espacios, signos de puntuación, el inicio del texto o el final del texto).\n",
    "\n",
    "\n",
    "# Reemplaza los valores NaN con una cadena vacía\n",
    "df_clean['diagnostico'] = df_clean['diagnostico'].fillna('')\n",
    "\n",
    "df_clean['diagnostico'][df_clean['diagnostico'].str.contains(r'\\bca\\b', case=False, regex=True)].reset_index(drop=True).value_counts()"
   ]
  },
  {
   "cell_type": "code",
   "execution_count": 11,
   "metadata": {},
   "outputs": [],
   "source": [
    "def correct_text(text):\n",
    "    words = text.split()\n",
    "    corrected_words = [corrections.get(word, word) for word in words]\n",
    "    corrected_text = ' '.join(corrected_words)\n",
    "    return corrected_text"
   ]
  },
  {
   "cell_type": "code",
   "execution_count": 28,
   "metadata": {},
   "outputs": [
    {
     "data": {
      "text/plain": [
       "'cancer pulmon estadio IV'"
      ]
     },
     "execution_count": 28,
     "metadata": {},
     "output_type": "execute_result"
    }
   ],
   "source": [
    "correct_text('ca pulmon est iv')"
   ]
  },
  {
   "cell_type": "code",
   "execution_count": 22,
   "metadata": {},
   "outputs": [
    {
     "data": {
      "text/plain": [
       "ca pancreas                      24\n",
       "ca pulmon est iv                 21\n",
       "ca colon estadio iv              18\n",
       "ca colon                         18\n",
       "ca mama estadio iv               17\n",
       "                                 ..\n",
       "ca de recto esti                  1\n",
       "ca prostata ee iv                 1\n",
       "ca epidermoide suelo de boca      1\n",
       "ca colon e iv                     1\n",
       "ca celulas de merced              1\n",
       "Name: diagnostico_corregido, Length: 195, dtype: int64"
      ]
     },
     "execution_count": 22,
     "metadata": {},
     "output_type": "execute_result"
    }
   ],
   "source": [
    "df_clean['diagnostico_corregido'][df_clean['diagnostico_corregido'].str.contains(r'\\bca\\b', case=False, regex=True)].reset_index(drop=True).value_counts()"
   ]
  },
  {
   "cell_type": "code",
   "execution_count": 24,
   "metadata": {},
   "outputs": [
    {
     "data": {
      "text/plain": [
       "Series([], Name: diagnostico, dtype: int64)"
      ]
     },
     "execution_count": 24,
     "metadata": {},
     "output_type": "execute_result"
    }
   ],
   "source": [
    "\n",
    "df['diagnostico'][df['diagnostico'].str.contains(r'\\bca\\b', case=False, regex=True)].reset_index(drop=True).value_counts()"
   ]
  },
  {
   "cell_type": "code",
   "execution_count": 34,
   "metadata": {},
   "outputs": [],
   "source": [
    "# Solo palabras completas 'ca'\n",
    "df_cancer = df[df['diagnostico'].str.contains(r'\\bcancer\\b', case=False, regex=True)]"
   ]
  },
  {
   "cell_type": "code",
   "execution_count": 35,
   "metadata": {},
   "outputs": [
    {
     "data": {
      "text/plain": [
       "(806, 50)"
      ]
     },
     "execution_count": 35,
     "metadata": {},
     "output_type": "execute_result"
    }
   ],
   "source": [
    "df_cancer.shape"
   ]
  },
  {
   "cell_type": "code",
   "execution_count": 36,
   "metadata": {},
   "outputs": [
    {
     "data": {
      "text/plain": [
       "cancer de pulmon            70\n",
       "cancer de colon             70\n",
       "cancer pulmon estadio IV    34\n",
       "cancer mama estadio IV      33\n",
       "cancer pancreas             30\n",
       "                            ..\n",
       "cancer de cardias            1\n",
       "cancer vias biliar           1\n",
       "cancer de orofarnge          1\n",
       "cancer de tiroides           1\n",
       "cancer celulas de merkel     1\n",
       "Name: diagnostico, Length: 223, dtype: int64"
      ]
     },
     "execution_count": 36,
     "metadata": {},
     "output_type": "execute_result"
    }
   ],
   "source": [
    "df_cancer['diagnostico'].value_counts()"
   ]
  },
  {
   "cell_type": "markdown",
   "metadata": {},
   "source": [
    "<hr>\n",
    "\n",
    "# Convertir los datos categóricos a un formato numérico:\n",
    "Para convertir las variables categóricas en numéricas, puedes utilizar la función get_dummies() de pandas para realizar la codificación one-hot o la función LabelEncoder de la biblioteca scikit-learn para la codificación ordinal. Aquí tienes un ejemplo de cómo hacer la codificación one-hot:"
   ]
  },
  {
   "cell_type": "code",
   "execution_count": 39,
   "metadata": {},
   "outputs": [
    {
     "data": {
      "text/plain": [
       "Index(['h_procedencia', 'hospital_category', 's_procedencia',\n",
       "       'procedencia_category', 'diagnostico', 'diagnosis_category',\n",
       "       'motivo_ing', 'ingreso_category', 'motivo_alta', 'alta_category',\n",
       "       'fecha_alta', 'ap', 'n_estancias', 'n_visitas', 'paliativo_onc_noc',\n",
       "       'paliativo_no_onc_noc', 'fiebre', 'disnea', 'dolor', 'delirium',\n",
       "       'sedacion', 'p_terminal', 'agonia', 'ast_anorx', 'cronico_reag',\n",
       "       'trato_antibiotico', 'transfusion', 'paracentesis', 'agudo_estable',\n",
       "       'toracocentesis', 'fe_iv', 'ps_ecog', 'barthel', 'gds_fast', 'eva_ing',\n",
       "       'otros_complicaciones', 'otros', 'otros_1', 'otros_2', 'otros_category',\n",
       "       'categorized_combined_otros', 'tiene_sedacion', 'morfina', 'midazolam',\n",
       "       'buscapina', 'haloperidol', 'levomepromazina', 'medico', 'ayuntamiento',\n",
       "       'year'],\n",
       "      dtype='object')"
      ]
     },
     "execution_count": 39,
     "metadata": {},
     "output_type": "execute_result"
    }
   ],
   "source": [
    "df_cancer.columns"
   ]
  },
  {
   "cell_type": "code",
   "execution_count": 41,
   "metadata": {},
   "outputs": [],
   "source": [
    "df_encoded = pd.get_dummies(df_cancer, columns=['diagnostico'])"
   ]
  },
  {
   "cell_type": "code",
   "execution_count": 42,
   "metadata": {},
   "outputs": [
    {
     "data": {
      "text/html": [
       "<div>\n",
       "<style scoped>\n",
       "    .dataframe tbody tr th:only-of-type {\n",
       "        vertical-align: middle;\n",
       "    }\n",
       "\n",
       "    .dataframe tbody tr th {\n",
       "        vertical-align: top;\n",
       "    }\n",
       "\n",
       "    .dataframe thead th {\n",
       "        text-align: right;\n",
       "    }\n",
       "</style>\n",
       "<table border=\"1\" class=\"dataframe\">\n",
       "  <thead>\n",
       "    <tr style=\"text-align: right;\">\n",
       "      <th></th>\n",
       "      <th>h_procedencia</th>\n",
       "      <th>hospital_category</th>\n",
       "      <th>s_procedencia</th>\n",
       "      <th>procedencia_category</th>\n",
       "      <th>diagnosis_category</th>\n",
       "      <th>motivo_ing</th>\n",
       "      <th>ingreso_category</th>\n",
       "      <th>motivo_alta</th>\n",
       "      <th>alta_category</th>\n",
       "      <th>fecha_alta</th>\n",
       "      <th>...</th>\n",
       "      <th>diagnostico_infeccion urinaria cancer rinon</th>\n",
       "      <th>diagnostico_irc cancer colon estadio IV</th>\n",
       "      <th>diagnostico_itu cancer prostata hepatopatia cronica</th>\n",
       "      <th>diagnostico_itu incontinencia urinaria cancer cuello uterino</th>\n",
       "      <th>diagnostico_mediastinitis cancer pulmon</th>\n",
       "      <th>diagnostico_neumonia cancer colon</th>\n",
       "      <th>diagnostico_recidiva cancer esofago</th>\n",
       "      <th>diagnostico_sospecha cancer tiroides</th>\n",
       "      <th>diagnostico_sospecha de cancer rectosigmoideo</th>\n",
       "      <th>diagnostico_vomitos y diarrea cancer colon estadio IV</th>\n",
       "    </tr>\n",
       "  </thead>\n",
       "  <tbody>\n",
       "    <tr>\n",
       "      <th>0</th>\n",
       "      <td>gil casares</td>\n",
       "      <td>Santiago</td>\n",
       "      <td>upal</td>\n",
       "      <td>Unidad Paliativos</td>\n",
       "      <td>Canceres y neoplasias</td>\n",
       "      <td>control sintomas</td>\n",
       "      <td>Sintomas</td>\n",
       "      <td>reingreso</td>\n",
       "      <td>Complicaciones</td>\n",
       "      <td>unknown</td>\n",
       "      <td>...</td>\n",
       "      <td>0</td>\n",
       "      <td>0</td>\n",
       "      <td>0</td>\n",
       "      <td>0</td>\n",
       "      <td>0</td>\n",
       "      <td>0</td>\n",
       "      <td>0</td>\n",
       "      <td>0</td>\n",
       "      <td>0</td>\n",
       "      <td>0</td>\n",
       "    </tr>\n",
       "    <tr>\n",
       "      <th>2</th>\n",
       "      <td>clinico</td>\n",
       "      <td>Santiago</td>\n",
       "      <td>mir</td>\n",
       "      <td>MIR</td>\n",
       "      <td>Canceres y neoplasias</td>\n",
       "      <td>control evolutivo</td>\n",
       "      <td>Evaluaciones</td>\n",
       "      <td>fin cuidados</td>\n",
       "      <td>Otros</td>\n",
       "      <td>unknown</td>\n",
       "      <td>...</td>\n",
       "      <td>0</td>\n",
       "      <td>0</td>\n",
       "      <td>0</td>\n",
       "      <td>0</td>\n",
       "      <td>0</td>\n",
       "      <td>0</td>\n",
       "      <td>0</td>\n",
       "      <td>0</td>\n",
       "      <td>0</td>\n",
       "      <td>0</td>\n",
       "    </tr>\n",
       "    <tr>\n",
       "      <th>9</th>\n",
       "      <td>clinico</td>\n",
       "      <td>Santiago</td>\n",
       "      <td>urgencias</td>\n",
       "      <td>Urgencias</td>\n",
       "      <td>Canceres y neoplasias</td>\n",
       "      <td>control sintomas</td>\n",
       "      <td>Sintomas</td>\n",
       "      <td>exitus</td>\n",
       "      <td>Exitus</td>\n",
       "      <td>unknown</td>\n",
       "      <td>...</td>\n",
       "      <td>0</td>\n",
       "      <td>0</td>\n",
       "      <td>0</td>\n",
       "      <td>0</td>\n",
       "      <td>0</td>\n",
       "      <td>0</td>\n",
       "      <td>0</td>\n",
       "      <td>0</td>\n",
       "      <td>0</td>\n",
       "      <td>0</td>\n",
       "    </tr>\n",
       "    <tr>\n",
       "      <th>10</th>\n",
       "      <td>clinico</td>\n",
       "      <td>Santiago</td>\n",
       "      <td>oncologia</td>\n",
       "      <td>Oncologia</td>\n",
       "      <td>Canceres y neoplasias</td>\n",
       "      <td>dolor</td>\n",
       "      <td>Sintomas</td>\n",
       "      <td>fin cuidados</td>\n",
       "      <td>Otros</td>\n",
       "      <td>unknown</td>\n",
       "      <td>...</td>\n",
       "      <td>0</td>\n",
       "      <td>0</td>\n",
       "      <td>0</td>\n",
       "      <td>0</td>\n",
       "      <td>0</td>\n",
       "      <td>0</td>\n",
       "      <td>0</td>\n",
       "      <td>0</td>\n",
       "      <td>0</td>\n",
       "      <td>0</td>\n",
       "    </tr>\n",
       "    <tr>\n",
       "      <th>11</th>\n",
       "      <td>clinico</td>\n",
       "      <td>Santiago</td>\n",
       "      <td>oncologia</td>\n",
       "      <td>Oncologia</td>\n",
       "      <td>Canceres y neoplasias</td>\n",
       "      <td>dolor</td>\n",
       "      <td>Sintomas</td>\n",
       "      <td>fin cuidados</td>\n",
       "      <td>Otros</td>\n",
       "      <td>unknown</td>\n",
       "      <td>...</td>\n",
       "      <td>0</td>\n",
       "      <td>0</td>\n",
       "      <td>0</td>\n",
       "      <td>0</td>\n",
       "      <td>0</td>\n",
       "      <td>0</td>\n",
       "      <td>0</td>\n",
       "      <td>0</td>\n",
       "      <td>0</td>\n",
       "      <td>0</td>\n",
       "    </tr>\n",
       "  </tbody>\n",
       "</table>\n",
       "<p>5 rows × 272 columns</p>\n",
       "</div>"
      ],
      "text/plain": [
       "   h_procedencia hospital_category s_procedencia procedencia_category  \\\n",
       "0    gil casares          Santiago          upal    Unidad Paliativos   \n",
       "2        clinico          Santiago           mir                  MIR   \n",
       "9        clinico          Santiago     urgencias            Urgencias   \n",
       "10       clinico          Santiago     oncologia            Oncologia   \n",
       "11       clinico          Santiago     oncologia            Oncologia   \n",
       "\n",
       "       diagnosis_category         motivo_ing ingreso_category   motivo_alta  \\\n",
       "0   Canceres y neoplasias   control sintomas         Sintomas     reingreso   \n",
       "2   Canceres y neoplasias  control evolutivo     Evaluaciones  fin cuidados   \n",
       "9   Canceres y neoplasias   control sintomas         Sintomas        exitus   \n",
       "10  Canceres y neoplasias              dolor         Sintomas  fin cuidados   \n",
       "11  Canceres y neoplasias              dolor         Sintomas  fin cuidados   \n",
       "\n",
       "     alta_category fecha_alta  ...  \\\n",
       "0   Complicaciones    unknown  ...   \n",
       "2            Otros    unknown  ...   \n",
       "9           Exitus    unknown  ...   \n",
       "10           Otros    unknown  ...   \n",
       "11           Otros    unknown  ...   \n",
       "\n",
       "   diagnostico_infeccion urinaria cancer rinon  \\\n",
       "0                                            0   \n",
       "2                                            0   \n",
       "9                                            0   \n",
       "10                                           0   \n",
       "11                                           0   \n",
       "\n",
       "    diagnostico_irc cancer colon estadio IV  \\\n",
       "0                                         0   \n",
       "2                                         0   \n",
       "9                                         0   \n",
       "10                                        0   \n",
       "11                                        0   \n",
       "\n",
       "    diagnostico_itu cancer prostata hepatopatia cronica  \\\n",
       "0                                                   0     \n",
       "2                                                   0     \n",
       "9                                                   0     \n",
       "10                                                  0     \n",
       "11                                                  0     \n",
       "\n",
       "   diagnostico_itu incontinencia urinaria cancer cuello uterino  \\\n",
       "0                                                   0             \n",
       "2                                                   0             \n",
       "9                                                   0             \n",
       "10                                                  0             \n",
       "11                                                  0             \n",
       "\n",
       "   diagnostico_mediastinitis cancer pulmon diagnostico_neumonia cancer colon  \\\n",
       "0                                        0                                 0   \n",
       "2                                        0                                 0   \n",
       "9                                        0                                 0   \n",
       "10                                       0                                 0   \n",
       "11                                       0                                 0   \n",
       "\n",
       "   diagnostico_recidiva cancer esofago diagnostico_sospecha cancer tiroides  \\\n",
       "0                                    0                                    0   \n",
       "2                                    0                                    0   \n",
       "9                                    0                                    0   \n",
       "10                                   0                                    0   \n",
       "11                                   0                                    0   \n",
       "\n",
       "   diagnostico_sospecha de cancer rectosigmoideo  \\\n",
       "0                                              0   \n",
       "2                                              0   \n",
       "9                                              0   \n",
       "10                                             0   \n",
       "11                                             0   \n",
       "\n",
       "   diagnostico_vomitos y diarrea cancer colon estadio IV  \n",
       "0                                                   0     \n",
       "2                                                   0     \n",
       "9                                                   0     \n",
       "10                                                  0     \n",
       "11                                                  0     \n",
       "\n",
       "[5 rows x 272 columns]"
      ]
     },
     "execution_count": 42,
     "metadata": {},
     "output_type": "execute_result"
    }
   ],
   "source": [
    "df_encoded.head()"
   ]
  },
  {
   "cell_type": "markdown",
   "metadata": {},
   "source": [
    "<hr>\n",
    "\n",
    "#  Normalizar o estandarizar las variables numéricas:\n",
    "Para normalizar o estandarizar las variables numéricas, puedes utilizar las funciones MinMaxScaler o StandardScaler de scikit-learn. Aquí tienes un ejemplo de cómo estandarizar una columna numérica:"
   ]
  },
  {
   "cell_type": "code",
   "execution_count": 46,
   "metadata": {},
   "outputs": [],
   "source": [
    "from sklearn.preprocessing import StandardScaler\n",
    "\n",
    "df_cancer_num = df_cancer.select_dtypes(exclude='object')\n",
    "\n",
    "scaler = StandardScaler()\n",
    "for col in df_cancer_num:\n",
    "    df_cancer_num[col] = scaler.fit_transform(df_cancer_num[[col]])"
   ]
  },
  {
   "cell_type": "code",
   "execution_count": 48,
   "metadata": {},
   "outputs": [
    {
     "data": {
      "text/html": [
       "<div>\n",
       "<style scoped>\n",
       "    .dataframe tbody tr th:only-of-type {\n",
       "        vertical-align: middle;\n",
       "    }\n",
       "\n",
       "    .dataframe tbody tr th {\n",
       "        vertical-align: top;\n",
       "    }\n",
       "\n",
       "    .dataframe thead th {\n",
       "        text-align: right;\n",
       "    }\n",
       "</style>\n",
       "<table border=\"1\" class=\"dataframe\">\n",
       "  <thead>\n",
       "    <tr style=\"text-align: right;\">\n",
       "      <th></th>\n",
       "      <th>count</th>\n",
       "      <th>mean</th>\n",
       "      <th>std</th>\n",
       "      <th>min</th>\n",
       "      <th>25%</th>\n",
       "      <th>50%</th>\n",
       "      <th>75%</th>\n",
       "      <th>max</th>\n",
       "    </tr>\n",
       "  </thead>\n",
       "  <tbody>\n",
       "    <tr>\n",
       "      <th>n_estancias</th>\n",
       "      <td>806.0</td>\n",
       "      <td>-2.644700e-17</td>\n",
       "      <td>1.000621</td>\n",
       "      <td>-0.873505</td>\n",
       "      <td>-0.622973</td>\n",
       "      <td>-0.347388</td>\n",
       "      <td>0.228836</td>\n",
       "      <td>6.842884</td>\n",
       "    </tr>\n",
       "    <tr>\n",
       "      <th>n_visitas</th>\n",
       "      <td>806.0</td>\n",
       "      <td>-1.763133e-17</td>\n",
       "      <td>1.000621</td>\n",
       "      <td>-0.934868</td>\n",
       "      <td>-0.567066</td>\n",
       "      <td>-0.321865</td>\n",
       "      <td>0.168538</td>\n",
       "      <td>7.769775</td>\n",
       "    </tr>\n",
       "    <tr>\n",
       "      <th>ps_ecog</th>\n",
       "      <td>806.0</td>\n",
       "      <td>2.027603e-16</td>\n",
       "      <td>1.000621</td>\n",
       "      <td>-2.057558</td>\n",
       "      <td>-0.231471</td>\n",
       "      <td>0.377225</td>\n",
       "      <td>0.377225</td>\n",
       "      <td>22.898971</td>\n",
       "    </tr>\n",
       "    <tr>\n",
       "      <th>barthel</th>\n",
       "      <td>806.0</td>\n",
       "      <td>-3.526267e-17</td>\n",
       "      <td>1.000621</td>\n",
       "      <td>-0.460188</td>\n",
       "      <td>-0.446008</td>\n",
       "      <td>-0.431829</td>\n",
       "      <td>0.106998</td>\n",
       "      <td>6.714717</td>\n",
       "    </tr>\n",
       "    <tr>\n",
       "      <th>gds_fast</th>\n",
       "      <td>806.0</td>\n",
       "      <td>-1.763133e-17</td>\n",
       "      <td>1.000621</td>\n",
       "      <td>-0.181376</td>\n",
       "      <td>-0.181376</td>\n",
       "      <td>-0.181376</td>\n",
       "      <td>-0.181376</td>\n",
       "      <td>7.946671</td>\n",
       "    </tr>\n",
       "    <tr>\n",
       "      <th>eva_ing</th>\n",
       "      <td>806.0</td>\n",
       "      <td>0.000000e+00</td>\n",
       "      <td>1.000621</td>\n",
       "      <td>-0.320407</td>\n",
       "      <td>-0.320407</td>\n",
       "      <td>-0.320407</td>\n",
       "      <td>-0.320407</td>\n",
       "      <td>4.598606</td>\n",
       "    </tr>\n",
       "    <tr>\n",
       "      <th>tiene_sedacion</th>\n",
       "      <td>806.0</td>\n",
       "      <td>-4.407833e-18</td>\n",
       "      <td>1.000621</td>\n",
       "      <td>-0.668609</td>\n",
       "      <td>-0.668609</td>\n",
       "      <td>-0.668609</td>\n",
       "      <td>1.495643</td>\n",
       "      <td>1.495643</td>\n",
       "    </tr>\n",
       "    <tr>\n",
       "      <th>morfina</th>\n",
       "      <td>806.0</td>\n",
       "      <td>-7.052533e-17</td>\n",
       "      <td>1.000621</td>\n",
       "      <td>-0.222439</td>\n",
       "      <td>-0.222439</td>\n",
       "      <td>-0.222439</td>\n",
       "      <td>-0.222439</td>\n",
       "      <td>4.495612</td>\n",
       "    </tr>\n",
       "    <tr>\n",
       "      <th>midazolam</th>\n",
       "      <td>806.0</td>\n",
       "      <td>-7.052533e-17</td>\n",
       "      <td>1.000621</td>\n",
       "      <td>-0.222439</td>\n",
       "      <td>-0.222439</td>\n",
       "      <td>-0.222439</td>\n",
       "      <td>-0.222439</td>\n",
       "      <td>4.495612</td>\n",
       "    </tr>\n",
       "    <tr>\n",
       "      <th>buscapina</th>\n",
       "      <td>806.0</td>\n",
       "      <td>-3.526267e-17</td>\n",
       "      <td>1.000621</td>\n",
       "      <td>-0.213062</td>\n",
       "      <td>-0.213062</td>\n",
       "      <td>-0.213062</td>\n",
       "      <td>-0.213062</td>\n",
       "      <td>4.693460</td>\n",
       "    </tr>\n",
       "    <tr>\n",
       "      <th>haloperidol</th>\n",
       "      <td>806.0</td>\n",
       "      <td>-4.407833e-17</td>\n",
       "      <td>1.000621</td>\n",
       "      <td>-0.112084</td>\n",
       "      <td>-0.112084</td>\n",
       "      <td>-0.112084</td>\n",
       "      <td>-0.112084</td>\n",
       "      <td>8.921883</td>\n",
       "    </tr>\n",
       "    <tr>\n",
       "      <th>levomepromazina</th>\n",
       "      <td>806.0</td>\n",
       "      <td>1.763133e-17</td>\n",
       "      <td>1.000621</td>\n",
       "      <td>-0.070622</td>\n",
       "      <td>-0.070622</td>\n",
       "      <td>-0.070622</td>\n",
       "      <td>-0.070622</td>\n",
       "      <td>14.159802</td>\n",
       "    </tr>\n",
       "    <tr>\n",
       "      <th>year</th>\n",
       "      <td>806.0</td>\n",
       "      <td>6.100441e-14</td>\n",
       "      <td>1.000621</td>\n",
       "      <td>-1.421852</td>\n",
       "      <td>-0.849132</td>\n",
       "      <td>0.296308</td>\n",
       "      <td>0.869028</td>\n",
       "      <td>1.441748</td>\n",
       "    </tr>\n",
       "  </tbody>\n",
       "</table>\n",
       "</div>"
      ],
      "text/plain": [
       "                 count          mean       std       min       25%       50%  \\\n",
       "n_estancias      806.0 -2.644700e-17  1.000621 -0.873505 -0.622973 -0.347388   \n",
       "n_visitas        806.0 -1.763133e-17  1.000621 -0.934868 -0.567066 -0.321865   \n",
       "ps_ecog          806.0  2.027603e-16  1.000621 -2.057558 -0.231471  0.377225   \n",
       "barthel          806.0 -3.526267e-17  1.000621 -0.460188 -0.446008 -0.431829   \n",
       "gds_fast         806.0 -1.763133e-17  1.000621 -0.181376 -0.181376 -0.181376   \n",
       "eva_ing          806.0  0.000000e+00  1.000621 -0.320407 -0.320407 -0.320407   \n",
       "tiene_sedacion   806.0 -4.407833e-18  1.000621 -0.668609 -0.668609 -0.668609   \n",
       "morfina          806.0 -7.052533e-17  1.000621 -0.222439 -0.222439 -0.222439   \n",
       "midazolam        806.0 -7.052533e-17  1.000621 -0.222439 -0.222439 -0.222439   \n",
       "buscapina        806.0 -3.526267e-17  1.000621 -0.213062 -0.213062 -0.213062   \n",
       "haloperidol      806.0 -4.407833e-17  1.000621 -0.112084 -0.112084 -0.112084   \n",
       "levomepromazina  806.0  1.763133e-17  1.000621 -0.070622 -0.070622 -0.070622   \n",
       "year             806.0  6.100441e-14  1.000621 -1.421852 -0.849132  0.296308   \n",
       "\n",
       "                      75%        max  \n",
       "n_estancias      0.228836   6.842884  \n",
       "n_visitas        0.168538   7.769775  \n",
       "ps_ecog          0.377225  22.898971  \n",
       "barthel          0.106998   6.714717  \n",
       "gds_fast        -0.181376   7.946671  \n",
       "eva_ing         -0.320407   4.598606  \n",
       "tiene_sedacion   1.495643   1.495643  \n",
       "morfina         -0.222439   4.495612  \n",
       "midazolam       -0.222439   4.495612  \n",
       "buscapina       -0.213062   4.693460  \n",
       "haloperidol     -0.112084   8.921883  \n",
       "levomepromazina -0.070622  14.159802  \n",
       "year             0.869028   1.441748  "
      ]
     },
     "execution_count": 48,
     "metadata": {},
     "output_type": "execute_result"
    }
   ],
   "source": [
    "df_cancer_num.describe().T"
   ]
  },
  {
   "cell_type": "markdown",
   "metadata": {},
   "source": [
    "<hr>\n",
    "\n",
    "# Verificar si hay errores en los datos y corregirlos:\n",
    "Durante el análisis exploratorio de datos (EDA), presta atención a las distribuciones y valores atípicos. Si encuentras errores, corrige los datos según sea necesario."
   ]
  },
  {
   "cell_type": "code",
   "execution_count": null,
   "metadata": {},
   "outputs": [],
   "source": []
  },
  {
   "cell_type": "markdown",
   "metadata": {},
   "source": [
    "<hr>\n",
    "\n",
    "# Comprobar si hay duplicados y decidir cómo tratarlos:\n",
    "Puedes utilizar la función duplicated() de pandas para encontrar registros duplicados y la función drop_duplicates() para eliminarlos. Aquí tienes un ejemplo de cómo eliminar duplicados:"
   ]
  },
  {
   "cell_type": "code",
   "execution_count": 54,
   "metadata": {},
   "outputs": [],
   "source": [
    "df.drop_duplicates(inplace=True)"
   ]
  }
 ],
 "metadata": {
  "kernelspec": {
   "display_name": "nuevo_entorno_kedro",
   "language": "python",
   "name": "python3"
  },
  "language_info": {
   "codemirror_mode": {
    "name": "ipython",
    "version": 3
   },
   "file_extension": ".py",
   "mimetype": "text/x-python",
   "name": "python",
   "nbconvert_exporter": "python",
   "pygments_lexer": "ipython3",
   "version": "3.10.0"
  },
  "orig_nbformat": 4
 },
 "nbformat": 4,
 "nbformat_minor": 2
}
