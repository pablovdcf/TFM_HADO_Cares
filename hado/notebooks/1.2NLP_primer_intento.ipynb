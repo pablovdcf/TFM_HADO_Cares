{
 "cells": [
  {
   "cell_type": "markdown",
   "metadata": {},
   "source": [
    "Notebook 1.2\n",
    "\n",
    "# NLP\n",
    "\n",
    "El Procesamiento de Lenguaje Natural (NLP, por sus siglas en inglés) es una subárea de la inteligencia artificial que se centra en la interacción entre las computadoras y el lenguaje humano. Su aplicación en el contexto médico, especialmente en el diagnóstico con errores gramaticales, puede ofrecer diversos beneficios:\n",
    "\n",
    "1. **Corrección Automática de Errores:** Una de las aplicaciones más directas del NLP es la corrección de errores gramaticales y ortográficos. Herramientas como TextBlob, pueden ayudar a identificar y corregir errores en el texto, aunque no son infalibles y a veces pueden introducir errores.\n",
    "\n",
    "2. **Estandarización de Terminología:** En el ámbito médico, la terminología es crucial. Un término mal empleado o escrito incorrectamente puede cambiar significativamente el significado. El NLP puede ayudar a mapear términos mal escritos o variaciones de un término a una forma estándar.\n",
    "\n",
    "3. **Extracción de Información:** El NLP permite extraer información relevante de textos desestructurados. Por ejemplo, si un médico escribe notas sobre un paciente, el NLP puede extraer detalles como síntomas, medicamentos prescritos y otros datos relevantes.\n",
    "\n",
    "4. **Aumento de la Eficiencia:** Automatizar el proceso de revisión y corrección de diagnósticos mediante NLP puede ahorrar tiempo y reducir la carga de trabajo de los profesionales médicos.\n",
    "\n",
    "5. **Mejora en la Calidad de la Atención Médica:** Un diagnóstico claro y preciso es fundamental para un tratamiento eficaz. Al reducir errores y ambigüedades en el diagnóstico, el NLP puede contribuir a una mejor atención al paciente.\n",
    "\n",
    "6. **Minimizar Riesgos:** Errores en el diagnóstico pueden llevar a tratamientos incorrectos o a malentendidos que pueden ser perjudiciales para el paciente. Al corregir estos errores, se reduce el riesgo de posibles complicaciones.\n",
    "\n",
    "7. **Análisis de Sentimiento y Detección de Urgencia:** El NLP puede ser utilizado para analizar el sentimiento detrás de las palabras o para detectar casos que requieran atención urgente basándose en las palabras utilizadas.\n",
    "\n",
    "8. **Integración con Sistemas de Aprendizaje Automático:** Una vez que los datos estén limpios y estructurados, pueden ser alimentados en sistemas de aprendizaje automático para hacer predicciones o identificar patrones en los diagnósticos.\n",
    "\n",
    "Sin embargo, es importante señalar que, aunque el NLP tiene un potencial considerable, su aplicación en el contexto médico también tiene desafíos. El lenguaje médico es complejo y a menudo requiere una comprensión profunda del contexto. Además, un error en la corrección o interpretación del NLP puede tener consecuencias graves en un entorno médico. Por lo tanto, es crucial que cualquier sistema de NLP implementado en este ámbito sea exhaustivamente probado y validado."
   ]
  },
  {
   "cell_type": "code",
   "execution_count": 1,
   "metadata": {},
   "outputs": [],
   "source": [
    "# Modulos\n",
    "import pandas as pd\n",
    "import numpy as np\n",
    "\n",
    "import collections\n",
    "import time\n",
    "import nltk\n",
    "from nltk.corpus import stopwords\n",
    "from gensim.models import Word2Vec\n",
    "\n",
    "from sklearn.cluster import KMeans\n",
    "from sklearn.preprocessing import StandardScaler\n",
    "\n",
    "from textblob import TextBlob\n",
    "from spellchecker import SpellChecker\n",
    "import spacy\n",
    "from spacy.language import Language\n",
    "!python -m spacy download es_core_news_sm\n"
   ]
  },
  {
   "cell_type": "code",
   "execution_count": 2,
   "metadata": {},
   "outputs": [
    {
     "data": {
      "text/html": [
       "<pre style=\"white-space:pre;overflow-x:auto;line-height:normal;font-family:Menlo,'DejaVu Sans Mono',consolas,'Courier New',monospace\"><span style=\"color: #7fbfbf; text-decoration-color: #7fbfbf\">[10/23/23 15:19:12] </span><span style=\"color: #000080; text-decoration-color: #000080\">INFO    </span> Resolved project path as: c:\\Users\\Pablo                               <span style=\"color: #7f7f7f; text-decoration-color: #7f7f7f\">__init__.py:139</span>\n",
       "<span style=\"color: #7fbfbf; text-decoration-color: #7fbfbf\">                    </span>         Villar\\Desktop\\CURSOS\\KSchool\\Máster en Data                           <span style=\"color: #7f7f7f; text-decoration-color: #7f7f7f\">               </span>\n",
       "<span style=\"color: #7fbfbf; text-decoration-color: #7fbfbf\">                    </span>         Science\\TFM\\nuevo_entorno_kedro\\TFM_HADO_Cares\\hado.                   <span style=\"color: #7f7f7f; text-decoration-color: #7f7f7f\">               </span>\n",
       "<span style=\"color: #7fbfbf; text-decoration-color: #7fbfbf\">                    </span>         To set a different path, run <span style=\"color: #008000; text-decoration-color: #008000\">'%reload_kedro &lt;project_root&gt;'</span>            <span style=\"color: #7f7f7f; text-decoration-color: #7f7f7f\">               </span>\n",
       "</pre>\n"
      ],
      "text/plain": [
       "\u001b[2;36m[10/23/23 15:19:12]\u001b[0m\u001b[2;36m \u001b[0m\u001b[34mINFO    \u001b[0m Resolved project path as: c:\\Users\\Pablo                               \u001b[2m__init__.py\u001b[0m\u001b[2m:\u001b[0m\u001b[2m139\u001b[0m\n",
       "\u001b[2;36m                    \u001b[0m         Villar\\Desktop\\CURSOS\\KSchool\\Máster en Data                           \u001b[2m               \u001b[0m\n",
       "\u001b[2;36m                    \u001b[0m         Science\\TFM\\nuevo_entorno_kedro\\TFM_HADO_Cares\\hado.                   \u001b[2m               \u001b[0m\n",
       "\u001b[2;36m                    \u001b[0m         To set a different path, run \u001b[32m'%reload_kedro \u001b[0m\u001b[32m<\u001b[0m\u001b[32mproject_root\u001b[0m\u001b[32m>\u001b[0m\u001b[32m'\u001b[0m            \u001b[2m               \u001b[0m\n"
      ]
     },
     "metadata": {},
     "output_type": "display_data"
    },
    {
     "data": {
      "text/html": [
       "<pre style=\"white-space:pre;overflow-x:auto;line-height:normal;font-family:Menlo,'DejaVu Sans Mono',consolas,'Courier New',monospace\"><span style=\"color: #7fbfbf; text-decoration-color: #7fbfbf\">[10/23/23 15:19:13] </span><span style=\"color: #800000; text-decoration-color: #800000\">WARNING </span> c:\\Users\\Pablo Villar\\Desktop\\CURSOS\\KSchool\\Máster en Data            <span style=\"color: #7f7f7f; text-decoration-color: #7f7f7f\">warnings.py:109</span>\n",
       "<span style=\"color: #7fbfbf; text-decoration-color: #7fbfbf\">                    </span>         Science\\TFM\\nuevo_entorno_kedro\\TFM_HADO_Cares\\.venv\\lib\\site-packages <span style=\"color: #7f7f7f; text-decoration-color: #7f7f7f\">               </span>\n",
       "<span style=\"color: #7fbfbf; text-decoration-color: #7fbfbf\">                    </span>         \\kedro\\framework\\session\\session.py:<span style=\"color: #008080; text-decoration-color: #008080; font-weight: bold\">266</span>: FutureWarning: ConfigLoader   <span style=\"color: #7f7f7f; text-decoration-color: #7f7f7f\">               </span>\n",
       "<span style=\"color: #7fbfbf; text-decoration-color: #7fbfbf\">                    </span>         will be deprecated in Kedro <span style=\"color: #008080; text-decoration-color: #008080; font-weight: bold\">0.19</span>. Please use the OmegaConfigLoader     <span style=\"color: #7f7f7f; text-decoration-color: #7f7f7f\">               </span>\n",
       "<span style=\"color: #7fbfbf; text-decoration-color: #7fbfbf\">                    </span>         instead. To consult the documentation for OmegaConfigLoader, see here: <span style=\"color: #7f7f7f; text-decoration-color: #7f7f7f\">               </span>\n",
       "<span style=\"color: #7fbfbf; text-decoration-color: #7fbfbf\">                    </span>         <span style=\"color: #0000ff; text-decoration-color: #0000ff; text-decoration: underline\">https://docs.kedro.org/en/stable/configuration/advanced_configuration.</span> <span style=\"color: #7f7f7f; text-decoration-color: #7f7f7f\">               </span>\n",
       "<span style=\"color: #7fbfbf; text-decoration-color: #7fbfbf\">                    </span>         <span style=\"color: #0000ff; text-decoration-color: #0000ff; text-decoration: underline\">html#omegaconfigloader</span>                                                 <span style=\"color: #7f7f7f; text-decoration-color: #7f7f7f\">               </span>\n",
       "<span style=\"color: #7fbfbf; text-decoration-color: #7fbfbf\">                    </span>           <span style=\"color: #800080; text-decoration-color: #800080; font-weight: bold\">warnings.warn</span><span style=\"font-weight: bold\">(</span>                                                       <span style=\"color: #7f7f7f; text-decoration-color: #7f7f7f\">               </span>\n",
       "<span style=\"color: #7fbfbf; text-decoration-color: #7fbfbf\">                    </span>                                                                                <span style=\"color: #7f7f7f; text-decoration-color: #7f7f7f\">               </span>\n",
       "</pre>\n"
      ],
      "text/plain": [
       "\u001b[2;36m[10/23/23 15:19:13]\u001b[0m\u001b[2;36m \u001b[0m\u001b[31mWARNING \u001b[0m c:\\Users\\Pablo Villar\\Desktop\\CURSOS\\KSchool\\Máster en Data            \u001b[2mwarnings.py\u001b[0m\u001b[2m:\u001b[0m\u001b[2m109\u001b[0m\n",
       "\u001b[2;36m                    \u001b[0m         Science\\TFM\\nuevo_entorno_kedro\\TFM_HADO_Cares\\.venv\\lib\\site-packages \u001b[2m               \u001b[0m\n",
       "\u001b[2;36m                    \u001b[0m         \\kedro\\framework\\session\\session.py:\u001b[1;36m266\u001b[0m: FutureWarning: ConfigLoader   \u001b[2m               \u001b[0m\n",
       "\u001b[2;36m                    \u001b[0m         will be deprecated in Kedro \u001b[1;36m0.19\u001b[0m. Please use the OmegaConfigLoader     \u001b[2m               \u001b[0m\n",
       "\u001b[2;36m                    \u001b[0m         instead. To consult the documentation for OmegaConfigLoader, see here: \u001b[2m               \u001b[0m\n",
       "\u001b[2;36m                    \u001b[0m         \u001b[4;94mhttps://docs.kedro.org/en/stable/configuration/advanced_configuration.\u001b[0m \u001b[2m               \u001b[0m\n",
       "\u001b[2;36m                    \u001b[0m         \u001b[4;94mhtml#omegaconfigloader\u001b[0m                                                 \u001b[2m               \u001b[0m\n",
       "\u001b[2;36m                    \u001b[0m           \u001b[1;35mwarnings.warn\u001b[0m\u001b[1m(\u001b[0m                                                       \u001b[2m               \u001b[0m\n",
       "\u001b[2;36m                    \u001b[0m                                                                                \u001b[2m               \u001b[0m\n"
      ]
     },
     "metadata": {},
     "output_type": "display_data"
    },
    {
     "data": {
      "text/html": [
       "<pre style=\"white-space:pre;overflow-x:auto;line-height:normal;font-family:Menlo,'DejaVu Sans Mono',consolas,'Courier New',monospace\"><span style=\"color: #7fbfbf; text-decoration-color: #7fbfbf\">                    </span><span style=\"color: #800000; text-decoration-color: #800000\">WARNING </span> c:\\Users\\Pablo Villar\\Desktop\\CURSOS\\KSchool\\Máster en Data            <span style=\"color: #7f7f7f; text-decoration-color: #7f7f7f\">warnings.py:109</span>\n",
       "<span style=\"color: #7fbfbf; text-decoration-color: #7fbfbf\">                    </span>         Science\\TFM\\nuevo_entorno_kedro\\TFM_HADO_Cares\\.venv\\lib\\site-packages <span style=\"color: #7f7f7f; text-decoration-color: #7f7f7f\">               </span>\n",
       "<span style=\"color: #7fbfbf; text-decoration-color: #7fbfbf\">                    </span>         \\kedro\\io\\data_catalog.py:<span style=\"color: #008080; text-decoration-color: #008080; font-weight: bold\">300</span>: FutureWarning: Defining the <span style=\"color: #008000; text-decoration-color: #008000\">'layer'</span>     <span style=\"color: #7f7f7f; text-decoration-color: #7f7f7f\">               </span>\n",
       "<span style=\"color: #7fbfbf; text-decoration-color: #7fbfbf\">                    </span>         attribute at the top level is deprecated and will be removed in Kedro  <span style=\"color: #7f7f7f; text-decoration-color: #7f7f7f\">               </span>\n",
       "<span style=\"color: #7fbfbf; text-decoration-color: #7fbfbf\">                    </span>         <span style=\"color: #008080; text-decoration-color: #008080; font-weight: bold\">0.19</span>.<span style=\"color: #008080; text-decoration-color: #008080; font-weight: bold\">0</span>. Please move <span style=\"color: #008000; text-decoration-color: #008000\">'layer'</span> inside the <span style=\"color: #008000; text-decoration-color: #008000\">'metadata'</span> -&gt; <span style=\"color: #008000; text-decoration-color: #008000\">'kedro-viz'</span>       <span style=\"color: #7f7f7f; text-decoration-color: #7f7f7f\">               </span>\n",
       "<span style=\"color: #7fbfbf; text-decoration-color: #7fbfbf\">                    </span>         attributes. See                                                        <span style=\"color: #7f7f7f; text-decoration-color: #7f7f7f\">               </span>\n",
       "<span style=\"color: #7fbfbf; text-decoration-color: #7fbfbf\">                    </span>         <span style=\"color: #0000ff; text-decoration-color: #0000ff; text-decoration: underline\">https://docs.kedro.org/en/latest/visualisation/kedro-viz_visualisation</span> <span style=\"color: #7f7f7f; text-decoration-color: #7f7f7f\">               </span>\n",
       "<span style=\"color: #7fbfbf; text-decoration-color: #7fbfbf\">                    </span>         <span style=\"color: #0000ff; text-decoration-color: #0000ff; text-decoration: underline\">.html#visualise-layers</span> for more information.                           <span style=\"color: #7f7f7f; text-decoration-color: #7f7f7f\">               </span>\n",
       "<span style=\"color: #7fbfbf; text-decoration-color: #7fbfbf\">                    </span>           <span style=\"color: #800080; text-decoration-color: #800080; font-weight: bold\">warnings.warn</span><span style=\"font-weight: bold\">(</span>                                                       <span style=\"color: #7f7f7f; text-decoration-color: #7f7f7f\">               </span>\n",
       "<span style=\"color: #7fbfbf; text-decoration-color: #7fbfbf\">                    </span>                                                                                <span style=\"color: #7f7f7f; text-decoration-color: #7f7f7f\">               </span>\n",
       "</pre>\n"
      ],
      "text/plain": [
       "\u001b[2;36m                   \u001b[0m\u001b[2;36m \u001b[0m\u001b[31mWARNING \u001b[0m c:\\Users\\Pablo Villar\\Desktop\\CURSOS\\KSchool\\Máster en Data            \u001b[2mwarnings.py\u001b[0m\u001b[2m:\u001b[0m\u001b[2m109\u001b[0m\n",
       "\u001b[2;36m                    \u001b[0m         Science\\TFM\\nuevo_entorno_kedro\\TFM_HADO_Cares\\.venv\\lib\\site-packages \u001b[2m               \u001b[0m\n",
       "\u001b[2;36m                    \u001b[0m         \\kedro\\io\\data_catalog.py:\u001b[1;36m300\u001b[0m: FutureWarning: Defining the \u001b[32m'layer'\u001b[0m     \u001b[2m               \u001b[0m\n",
       "\u001b[2;36m                    \u001b[0m         attribute at the top level is deprecated and will be removed in Kedro  \u001b[2m               \u001b[0m\n",
       "\u001b[2;36m                    \u001b[0m         \u001b[1;36m0.19\u001b[0m.\u001b[1;36m0\u001b[0m. Please move \u001b[32m'layer'\u001b[0m inside the \u001b[32m'metadata'\u001b[0m -> \u001b[32m'kedro-viz'\u001b[0m       \u001b[2m               \u001b[0m\n",
       "\u001b[2;36m                    \u001b[0m         attributes. See                                                        \u001b[2m               \u001b[0m\n",
       "\u001b[2;36m                    \u001b[0m         \u001b[4;94mhttps://docs.kedro.org/en/latest/visualisation/kedro-viz_visualisation\u001b[0m \u001b[2m               \u001b[0m\n",
       "\u001b[2;36m                    \u001b[0m         \u001b[4;94m.html#visualise-layers\u001b[0m for more information.                           \u001b[2m               \u001b[0m\n",
       "\u001b[2;36m                    \u001b[0m           \u001b[1;35mwarnings.warn\u001b[0m\u001b[1m(\u001b[0m                                                       \u001b[2m               \u001b[0m\n",
       "\u001b[2;36m                    \u001b[0m                                                                                \u001b[2m               \u001b[0m\n"
      ]
     },
     "metadata": {},
     "output_type": "display_data"
    },
    {
     "data": {
      "text/html": [
       "<pre style=\"white-space:pre;overflow-x:auto;line-height:normal;font-family:Menlo,'DejaVu Sans Mono',consolas,'Courier New',monospace\"><span style=\"color: #7fbfbf; text-decoration-color: #7fbfbf\">                    </span><span style=\"color: #000080; text-decoration-color: #000080\">INFO    </span> Kedro project hado                                                     <span style=\"color: #7f7f7f; text-decoration-color: #7f7f7f\">__init__.py:108</span>\n",
       "</pre>\n"
      ],
      "text/plain": [
       "\u001b[2;36m                   \u001b[0m\u001b[2;36m \u001b[0m\u001b[34mINFO    \u001b[0m Kedro project hado                                                     \u001b[2m__init__.py\u001b[0m\u001b[2m:\u001b[0m\u001b[2m108\u001b[0m\n"
      ]
     },
     "metadata": {},
     "output_type": "display_data"
    },
    {
     "data": {
      "text/html": [
       "<pre style=\"white-space:pre;overflow-x:auto;line-height:normal;font-family:Menlo,'DejaVu Sans Mono',consolas,'Courier New',monospace\"><span style=\"color: #7fbfbf; text-decoration-color: #7fbfbf\">                    </span><span style=\"color: #000080; text-decoration-color: #000080\">INFO    </span> Defined global variable <span style=\"color: #008000; text-decoration-color: #008000\">'context'</span>, <span style=\"color: #008000; text-decoration-color: #008000\">'session'</span>, <span style=\"color: #008000; text-decoration-color: #008000\">'catalog'</span> and            <span style=\"color: #7f7f7f; text-decoration-color: #7f7f7f\">__init__.py:109</span>\n",
       "<span style=\"color: #7fbfbf; text-decoration-color: #7fbfbf\">                    </span>         <span style=\"color: #008000; text-decoration-color: #008000\">'pipelines'</span>                                                            <span style=\"color: #7f7f7f; text-decoration-color: #7f7f7f\">               </span>\n",
       "</pre>\n"
      ],
      "text/plain": [
       "\u001b[2;36m                   \u001b[0m\u001b[2;36m \u001b[0m\u001b[34mINFO    \u001b[0m Defined global variable \u001b[32m'context'\u001b[0m, \u001b[32m'session'\u001b[0m, \u001b[32m'catalog'\u001b[0m and            \u001b[2m__init__.py\u001b[0m\u001b[2m:\u001b[0m\u001b[2m109\u001b[0m\n",
       "\u001b[2;36m                    \u001b[0m         \u001b[32m'pipelines'\u001b[0m                                                            \u001b[2m               \u001b[0m\n"
      ]
     },
     "metadata": {},
     "output_type": "display_data"
    },
    {
     "data": {
      "text/html": [
       "<pre style=\"white-space:pre;overflow-x:auto;line-height:normal;font-family:Menlo,'DejaVu Sans Mono',consolas,'Courier New',monospace\"><span style=\"color: #7fbfbf; text-decoration-color: #7fbfbf\">[10/23/23 15:19:14] </span><span style=\"color: #000080; text-decoration-color: #000080\">INFO    </span> Registered line magic <span style=\"color: #008000; text-decoration-color: #008000\">'run_viz'</span>                                        <span style=\"color: #7f7f7f; text-decoration-color: #7f7f7f\">__init__.py:115</span>\n",
       "</pre>\n"
      ],
      "text/plain": [
       "\u001b[2;36m[10/23/23 15:19:14]\u001b[0m\u001b[2;36m \u001b[0m\u001b[34mINFO    \u001b[0m Registered line magic \u001b[32m'run_viz'\u001b[0m                                        \u001b[2m__init__.py\u001b[0m\u001b[2m:\u001b[0m\u001b[2m115\u001b[0m\n"
      ]
     },
     "metadata": {},
     "output_type": "display_data"
    }
   ],
   "source": [
    "%load_ext kedro.ipython"
   ]
  },
  {
   "cell_type": "code",
   "execution_count": 3,
   "metadata": {},
   "outputs": [
    {
     "data": {
      "text/html": [
       "<pre style=\"white-space:pre;overflow-x:auto;line-height:normal;font-family:Menlo,'DejaVu Sans Mono',consolas,'Courier New',monospace\"><span style=\"color: #7fbfbf; text-decoration-color: #7fbfbf\">[10/23/23 15:19:16] </span><span style=\"color: #000080; text-decoration-color: #000080\">INFO    </span> Loading data from <span style=\"color: #008000; text-decoration-color: #008000\">'hado_final'</span> <span style=\"font-weight: bold\">(</span>CSVDataSet<span style=\"font-weight: bold\">)</span><span style=\"color: #808000; text-decoration-color: #808000\">...</span>                     <span style=\"color: #7f7f7f; text-decoration-color: #7f7f7f\">data_catalog.py:492</span>\n",
       "</pre>\n"
      ],
      "text/plain": [
       "\u001b[2;36m[10/23/23 15:19:16]\u001b[0m\u001b[2;36m \u001b[0m\u001b[34mINFO    \u001b[0m Loading data from \u001b[32m'hado_final'\u001b[0m \u001b[1m(\u001b[0mCSVDataSet\u001b[1m)\u001b[0m\u001b[33m...\u001b[0m                     \u001b[2mdata_catalog.py\u001b[0m\u001b[2m:\u001b[0m\u001b[2m492\u001b[0m\n"
      ]
     },
     "metadata": {},
     "output_type": "display_data"
    }
   ],
   "source": [
    "df = catalog.load(\"hado_final\")"
   ]
  },
  {
   "cell_type": "markdown",
   "metadata": {},
   "source": [
    "Una vez realizada la limpieza y preprocesamiento\n",
    "## Hacemos la vectorización de texto\n",
    "\n",
    "La vectorización de texto es el proceso de convertir palabras en vectores numéricos que pueden ser entendidos y procesados por un algoritmo de machine learning. Existen diferentes técnicas para hacer esto, entre las que se incluyen Bag of Words, TF-IDF, y Word2Vec.\n",
    "\n",
    ">Word2Vec es un método que utiliza redes neuronales para aprender representaciones vectoriales de palabras a partir de un corpus de texto. Este método tiene la ventaja de que puede capturar el significado semántico de las palabras.\n",
    "\n",
    "Tenemos que convertir los diagnosticos en una lista de listas haciendo un split de la variable \n",
    "```python\n",
    "diagnosticos = df['diagnosticos'].unique()`\n",
    "```"
   ]
  },
  {
   "cell_type": "code",
   "execution_count": 4,
   "metadata": {},
   "outputs": [
    {
     "name": "stderr",
     "output_type": "stream",
     "text": [
      "[nltk_data] Downloading package stopwords to C:\\Users\\Pablo\n",
      "[nltk_data]     Villar\\AppData\\Roaming\\nltk_data...\n",
      "[nltk_data]   Package stopwords is already up-to-date!\n"
     ]
    }
   ],
   "source": [
    "# Cargamos las stopwords\n",
    "\n",
    "# import nltk\n",
    "# from nltk.corpus import stopwords\n",
    "\n",
    "# Descargar las stopwords de NLTK\n",
    "nltk.download('stopwords')\n",
    "\n",
    "# Obtener las stopwords en español\n",
    "stopwords_es = stopwords.words('spanish')\n",
    "\n",
    "# Aplicar la eliminación de stopwords a tu columna de texto\n",
    "df['diagnostico'] = df['diagnostico'].apply(lambda x: ' '.join([word for word in x.split()\\\n",
    "                                                                if word not in (stopwords_es)]))\n"
   ]
  },
  {
   "cell_type": "code",
   "execution_count": 5,
   "metadata": {},
   "outputs": [],
   "source": [
    "diagnosticos = df['diagnostico'].unique()\n",
    "diagnosticos_split = [diagnostico.split() for diagnostico in diagnosticos]"
   ]
  },
  {
   "cell_type": "code",
   "execution_count": 6,
   "metadata": {},
   "outputs": [
    {
     "data": {
      "text/html": [
       "<pre style=\"white-space:pre;overflow-x:auto;line-height:normal;font-family:Menlo,'DejaVu Sans Mono',consolas,'Courier New',monospace\"></pre>\n"
      ],
      "text/plain": []
     },
     "metadata": {},
     "output_type": "display_data"
    },
    {
     "data": {
      "text/plain": [
       "\n",
       "\u001b[1m[\u001b[0m\n",
       "    \u001b[1m[\u001b[0m\u001b[32m'cancer'\u001b[0m, \u001b[32m'orl'\u001b[0m\u001b[1m]\u001b[0m,\n",
       "    \u001b[1m[\u001b[0m\u001b[32m'melanoma'\u001b[0m, \u001b[32m'vulvar'\u001b[0m\u001b[1m]\u001b[0m,\n",
       "    \u001b[1m[\u001b[0m\u001b[32m'cancer'\u001b[0m, \u001b[32m'broncogenico'\u001b[0m\u001b[1m]\u001b[0m,\n",
       "    \u001b[1m[\u001b[0m\u001b[32m'cirrosis'\u001b[0m, \u001b[32m'hepatica'\u001b[0m\u001b[1m]\u001b[0m,\n",
       "    \u001b[1m[\u001b[0m\u001b[32m'neoplasia'\u001b[0m, \u001b[32m'mama'\u001b[0m, \u001b[32m'estadio'\u001b[0m, \u001b[32m'IV'\u001b[0m\u001b[1m]\u001b[0m,\n",
       "    \u001b[1m[\u001b[0m\u001b[32m'anemia'\u001b[0m\u001b[1m]\u001b[0m,\n",
       "    \u001b[1m[\u001b[0m\u001b[32m'adenoma'\u001b[0m, \u001b[32m'pulmon'\u001b[0m\u001b[1m]\u001b[0m,\n",
       "    \u001b[1m[\u001b[0m\u001b[32m'leucemia'\u001b[0m, \u001b[32m'linfatica'\u001b[0m, \u001b[32m'cronica'\u001b[0m\u001b[1m]\u001b[0m,\n",
       "    \u001b[1m[\u001b[0m\u001b[32m'fx'\u001b[0m, \u001b[32m'meseta'\u001b[0m, \u001b[32m'tibial'\u001b[0m\u001b[1m]\u001b[0m,\n",
       "    \u001b[1m[\u001b[0m\u001b[32m'cancer'\u001b[0m, \u001b[32m'mama'\u001b[0m\u001b[1m]\u001b[0m\n",
       "\u001b[1m]\u001b[0m"
      ]
     },
     "execution_count": 6,
     "metadata": {},
     "output_type": "execute_result"
    }
   ],
   "source": [
    "diagnosticos_split[:10]"
   ]
  },
  {
   "cell_type": "code",
   "execution_count": 7,
   "metadata": {},
   "outputs": [],
   "source": [
    "from gensim.models import Word2Vec\n",
    "\n",
    "# Asumiendo que tus diagnósticos ya están preprocesados y almacenados en una lista de listas,\n",
    "# donde cada lista interna contiene las palabras de un diagnóstico.\n",
    "# Por ejemplo: [[\"neoplasia\", \"pancreas\"], [\"adenocarcinoma\", \"de\", \"pulmón\"], ...]\n",
    "\n",
    "# Entrenamos el modelo Word2Vec\n",
    "model = Word2Vec(diagnosticos_split, min_count=1, vector_size=50)\n",
    "\n",
    "# Ahora podemos obtener el vector de una palabra en particular\n",
    "vector = model.wv['cancer']\n",
    "\n",
    "# O incluso obtener la palabra más similar a 'cancer'\n",
    "similar = model.wv.most_similar('cancer')\n"
   ]
  },
  {
   "cell_type": "code",
   "execution_count": 8,
   "metadata": {},
   "outputs": [
    {
     "data": {
      "text/html": [
       "<pre style=\"white-space:pre;overflow-x:auto;line-height:normal;font-family:Menlo,'DejaVu Sans Mono',consolas,'Courier New',monospace\"></pre>\n"
      ],
      "text/plain": []
     },
     "metadata": {},
     "output_type": "display_data"
    },
    {
     "data": {
      "text/plain": [
       "\n",
       "\u001b[1;35marray\u001b[0m\u001b[1m(\u001b[0m\u001b[1m[\u001b[0m \u001b[1;36m0.00053881\u001b[0m, \u001b[1;36m-0.00031167\u001b[0m,  \u001b[1;36m0.01060988\u001b[0m,  \u001b[1;36m0.01891075\u001b[0m, \u001b[1;36m-0.02099425\u001b[0m,\n",
       "       \u001b[1;36m-0.01649244\u001b[0m,  \u001b[1;36m0.01638055\u001b[0m,  \u001b[1;36m0.02387845\u001b[0m, \u001b[1;36m-0.01506312\u001b[0m, \u001b[1;36m-0.00725305\u001b[0m,\n",
       "        \u001b[1;36m0.01432752\u001b[0m, \u001b[1;36m-0.00611988\u001b[0m, \u001b[1;36m-0.01004254\u001b[0m,  \u001b[1;36m0.01518422\u001b[0m, \u001b[1;36m-0.01241652\u001b[0m,\n",
       "        \u001b[1;36m0.00026281\u001b[0m,  \u001b[1;36m0.00694646\u001b[0m,  \u001b[1;36m0.0032353\u001b[0m , \u001b[1;36m-0.02167222\u001b[0m, \u001b[1;36m-0.02291157\u001b[0m,\n",
       "        \u001b[1;36m0.01683411\u001b[0m,  \u001b[1;36m0.01296221\u001b[0m,  \u001b[1;36m0.01991697\u001b[0m, \u001b[1;36m-0.00152752\u001b[0m,  \u001b[1;36m0.01537758\u001b[0m,\n",
       "       \u001b[1;36m-0.00623267\u001b[0m, \u001b[1;36m-0.00449258\u001b[0m,  \u001b[1;36m0.01096287\u001b[0m, \u001b[1;36m-0.01761723\u001b[0m, \u001b[1;36m-0.00521478\u001b[0m,\n",
       "       \u001b[1;36m-0.01417956\u001b[0m, \u001b[1;36m-0.00176219\u001b[0m,  \u001b[1;36m0.02029117\u001b[0m, \u001b[1;36m-0.0151447\u001b[0m , \u001b[1;36m-0.00802659\u001b[0m,\n",
       "       \u001b[1;36m-0.00140341\u001b[0m,  \u001b[1;36m0.01823761\u001b[0m, \u001b[1;36m-0.01312482\u001b[0m,  \u001b[1;36m0.00069714\u001b[0m, \u001b[1;36m-0.01454415\u001b[0m,\n",
       "       \u001b[1;36m-0.0165098\u001b[0m ,  \u001b[1;36m0.00914041\u001b[0m, \u001b[1;36m-0.01813373\u001b[0m, \u001b[1;36m-0.00923981\u001b[0m,  \u001b[1;36m0.00649857\u001b[0m,\n",
       "        \u001b[1;36m0.00011728\u001b[0m, \u001b[1;36m-0.01785925\u001b[0m,  \u001b[1;36m0.01602187\u001b[0m,  \u001b[1;36m0.0130616\u001b[0m ,  \u001b[1;36m0.02090717\u001b[0m\u001b[1m]\u001b[0m,\n",
       "      \u001b[33mdtype\u001b[0m=\u001b[35mfloat32\u001b[0m\u001b[1m)\u001b[0m"
      ]
     },
     "execution_count": 8,
     "metadata": {},
     "output_type": "execute_result"
    }
   ],
   "source": [
    "vector"
   ]
  },
  {
   "cell_type": "code",
   "execution_count": 9,
   "metadata": {},
   "outputs": [
    {
     "data": {
      "text/html": [
       "<pre style=\"white-space:pre;overflow-x:auto;line-height:normal;font-family:Menlo,'DejaVu Sans Mono',consolas,'Courier New',monospace\"></pre>\n"
      ],
      "text/plain": []
     },
     "metadata": {},
     "output_type": "display_data"
    },
    {
     "data": {
      "text/plain": [
       "\n",
       "\u001b[1m[\u001b[0m\n",
       "    \u001b[1m(\u001b[0m\u001b[32m'extremidades'\u001b[0m, \u001b[1;36m0.512345552444458\u001b[0m\u001b[1m)\u001b[0m,\n",
       "    \u001b[1m(\u001b[0m\u001b[32m'dilatadaicccirrosis'\u001b[0m, \u001b[1;36m0.4648784399032593\u001b[0m\u001b[1m)\u001b[0m,\n",
       "    \u001b[1m(\u001b[0m\u001b[32m'f'\u001b[0m, \u001b[1;36m0.40824922919273376\u001b[0m\u001b[1m)\u001b[0m,\n",
       "    \u001b[1m(\u001b[0m\u001b[32m'abdominaldemencia'\u001b[0m, \u001b[1;36m0.4011690616607666\u001b[0m\u001b[1m)\u001b[0m,\n",
       "    \u001b[1m(\u001b[0m\u001b[32m'hidrocefalia'\u001b[0m, \u001b[1;36m0.383207231760025\u001b[0m\u001b[1m)\u001b[0m,\n",
       "    \u001b[1m(\u001b[0m\u001b[32m'colangitiscirrosis'\u001b[0m, \u001b[1;36m0.38253164291381836\u001b[0m\u001b[1m)\u001b[0m,\n",
       "    \u001b[1m(\u001b[0m\u001b[32m'bronquialveolar'\u001b[0m, \u001b[1;36m0.36386537551879883\u001b[0m\u001b[1m)\u001b[0m,\n",
       "    \u001b[1m(\u001b[0m\u001b[32m'cv'\u001b[0m, \u001b[1;36m0.3560919761657715\u001b[0m\u001b[1m)\u001b[0m,\n",
       "    \u001b[1m(\u001b[0m\u001b[32m'secundario'\u001b[0m, \u001b[1;36m0.35554829239845276\u001b[0m\u001b[1m)\u001b[0m,\n",
       "    \u001b[1m(\u001b[0m\u001b[32m'complicacada'\u001b[0m, \u001b[1;36m0.35340601205825806\u001b[0m\u001b[1m)\u001b[0m\n",
       "\u001b[1m]\u001b[0m"
      ]
     },
     "execution_count": 9,
     "metadata": {},
     "output_type": "execute_result"
    }
   ],
   "source": [
    "similar"
   ]
  },
  {
   "cell_type": "markdown",
   "metadata": {},
   "source": [
    "### En el código anterior, min_count es el número mínimo de veces que una palabra debe aparecer en el corpus para ser incluida en el modelo, y vector_size es la dimensión de los vectores de palabra."
   ]
  },
  {
   "cell_type": "markdown",
   "metadata": {},
   "source": [
    "Word2Vec(diagnosticos_split, min_count=1, vector_size=50): Estás entrenando un modelo Word2Vec con tus diagnósticos. La opción min_count=1 significa que las palabras que aparecen al menos una vez en tus diagnósticos serán consideradas por el modelo, y vector_size=50 define la dimensionalidad de los vectores de palabras generados por el modelo.\n",
    "\n",
    "model.wv['cancer']: Esto te devuelve el vector de la palabra 'cancer'. Este vector es un arreglo de 50 números (porque has definido vector_size=50) que representa el significado de 'cancer' según lo aprendido por el modelo de tus diagnósticos.\n",
    "\n",
    "model.wv.most_similar('cancer'): Esto te devuelve las palabras más similares a 'cancer' según lo aprendido por el modelo de tus diagnósticos. La similitud se mide en términos de la similitud del coseno entre los vectores de palabras.\n",
    "\n",
    "Por favor, ten en cuenta que el modelo Word2Vec necesita una gran cantidad de datos para aprender representaciones de palabras significativas. Si solo tienes un pequeño número de diagnósticos, los vectores de palabras generados por el modelo podrían no ser muy significativos. En este caso, puedes considerar el uso de vectores de palabras pre-entrenados, como los disponibles en bibliotecas como spaCy o gensim."
   ]
  },
  {
   "cell_type": "code",
   "execution_count": 10,
   "metadata": {},
   "outputs": [],
   "source": [
    "# Filtramos los diagnósticos vacíos\n",
    "diagnosticos_split = [diagnostico for diagnostico in diagnosticos_split if diagnostico]\n",
    "\n",
    "# Luego, volvemos a calcular los vectores de diagnósticos\n",
    "diagnosticos_vec = [np.mean([model.wv[word] for word in diagnostico if word in model.wv.key_to_index], axis=0) for diagnostico in diagnosticos_split]"
   ]
  },
  {
   "cell_type": "code",
   "execution_count": 11,
   "metadata": {},
   "outputs": [
    {
     "data": {
      "text/html": [
       "<pre style=\"white-space:pre;overflow-x:auto;line-height:normal;font-family:Menlo,'DejaVu Sans Mono',consolas,'Courier New',monospace\"><span style=\"color: #7fbfbf; text-decoration-color: #7fbfbf\">[10/23/23 15:19:31] </span><span style=\"color: #800000; text-decoration-color: #800000\">WARNING </span> c:\\Users\\Pablo Villar\\Desktop\\CURSOS\\KSchool\\Máster en Data            <span style=\"color: #7f7f7f; text-decoration-color: #7f7f7f\">warnings.py:109</span>\n",
       "<span style=\"color: #7fbfbf; text-decoration-color: #7fbfbf\">                    </span>         Science\\TFM\\nuevo_entorno_kedro\\TFM_HADO_Cares\\.venv\\lib\\site-packages <span style=\"color: #7f7f7f; text-decoration-color: #7f7f7f\">               </span>\n",
       "<span style=\"color: #7fbfbf; text-decoration-color: #7fbfbf\">                    </span>         \\sklearn\\cluster\\_kmeans.py:<span style=\"color: #008080; text-decoration-color: #008080; font-weight: bold\">870</span>: FutureWarning: The default value of   <span style=\"color: #7f7f7f; text-decoration-color: #7f7f7f\">               </span>\n",
       "<span style=\"color: #7fbfbf; text-decoration-color: #7fbfbf\">                    </span>         `n_init` will change from <span style=\"color: #008080; text-decoration-color: #008080; font-weight: bold\">10</span> to <span style=\"color: #008000; text-decoration-color: #008000\">'auto'</span> in <span style=\"color: #008080; text-decoration-color: #008080; font-weight: bold\">1.4</span>. Set the value of        <span style=\"color: #7f7f7f; text-decoration-color: #7f7f7f\">               </span>\n",
       "<span style=\"color: #7fbfbf; text-decoration-color: #7fbfbf\">                    </span>         `n_init` explicitly to suppress the warning                            <span style=\"color: #7f7f7f; text-decoration-color: #7f7f7f\">               </span>\n",
       "<span style=\"color: #7fbfbf; text-decoration-color: #7fbfbf\">                    </span>           <span style=\"color: #800080; text-decoration-color: #800080; font-weight: bold\">warnings.warn</span><span style=\"font-weight: bold\">(</span>                                                       <span style=\"color: #7f7f7f; text-decoration-color: #7f7f7f\">               </span>\n",
       "<span style=\"color: #7fbfbf; text-decoration-color: #7fbfbf\">                    </span>                                                                                <span style=\"color: #7f7f7f; text-decoration-color: #7f7f7f\">               </span>\n",
       "</pre>\n"
      ],
      "text/plain": [
       "\u001b[2;36m[10/23/23 15:19:31]\u001b[0m\u001b[2;36m \u001b[0m\u001b[31mWARNING \u001b[0m c:\\Users\\Pablo Villar\\Desktop\\CURSOS\\KSchool\\Máster en Data            \u001b[2mwarnings.py\u001b[0m\u001b[2m:\u001b[0m\u001b[2m109\u001b[0m\n",
       "\u001b[2;36m                    \u001b[0m         Science\\TFM\\nuevo_entorno_kedro\\TFM_HADO_Cares\\.venv\\lib\\site-packages \u001b[2m               \u001b[0m\n",
       "\u001b[2;36m                    \u001b[0m         \\sklearn\\cluster\\_kmeans.py:\u001b[1;36m870\u001b[0m: FutureWarning: The default value of   \u001b[2m               \u001b[0m\n",
       "\u001b[2;36m                    \u001b[0m         `n_init` will change from \u001b[1;36m10\u001b[0m to \u001b[32m'auto'\u001b[0m in \u001b[1;36m1.4\u001b[0m. Set the value of        \u001b[2m               \u001b[0m\n",
       "\u001b[2;36m                    \u001b[0m         `n_init` explicitly to suppress the warning                            \u001b[2m               \u001b[0m\n",
       "\u001b[2;36m                    \u001b[0m           \u001b[1;35mwarnings.warn\u001b[0m\u001b[1m(\u001b[0m                                                       \u001b[2m               \u001b[0m\n",
       "\u001b[2;36m                    \u001b[0m                                                                                \u001b[2m               \u001b[0m\n"
      ]
     },
     "metadata": {},
     "output_type": "display_data"
    }
   ],
   "source": [
    "from sklearn.cluster import KMeans\n",
    "\n",
    "# Primero, necesitamos convertir nuestros diagnósticos a vectores.\n",
    "# Podemos hacer esto promediando los vectores de todas las palabras en cada diagnóstico.\n",
    "diagnosticos_vec = [np.mean([model.wv[word] for word in diagnostico], axis=0) for diagnostico in diagnosticos_split]\n",
    "\n",
    "# Entonces podemos entrenar un modelo KMeans en estos vectores.\n",
    "kmeans = KMeans(n_clusters=5)  # Ajusta este número a la cantidad de grupos que creas adecuada\n",
    "kmeans.fit(diagnosticos_vec)\n",
    "\n",
    "# Ahora podemos obtener las etiquetas de los grupos para cada diagnóstico\n",
    "labels = kmeans.labels_"
   ]
  },
  {
   "cell_type": "code",
   "execution_count": 12,
   "metadata": {},
   "outputs": [
    {
     "data": {
      "text/html": [
       "<pre style=\"white-space:pre;overflow-x:auto;line-height:normal;font-family:Menlo,'DejaVu Sans Mono',consolas,'Courier New',monospace\"></pre>\n"
      ],
      "text/plain": []
     },
     "metadata": {},
     "output_type": "display_data"
    },
    {
     "data": {
      "text/plain": [
       "\u001b[1;35marray\u001b[0m\u001b[1m(\u001b[0m\u001b[1m[\u001b[0m\u001b[1;36m4\u001b[0m, \u001b[1;36m3\u001b[0m, \u001b[1;36m4\u001b[0m, \u001b[33m...\u001b[0m, \u001b[1;36m3\u001b[0m, \u001b[1;36m0\u001b[0m, \u001b[1;36m3\u001b[0m\u001b[1m]\u001b[0m\u001b[1m)\u001b[0m"
      ]
     },
     "execution_count": 12,
     "metadata": {},
     "output_type": "execute_result"
    }
   ],
   "source": [
    "labels"
   ]
  },
  {
   "cell_type": "code",
   "execution_count": 13,
   "metadata": {},
   "outputs": [
    {
     "name": "stdout",
     "output_type": "stream",
     "text": [
      "Cluster 0:\n",
      "  anemia\n",
      "  neumonia\n",
      "  infeccion urinaria fallo cardiaco\n",
      "  infeccion respiratoria\n",
      "  sepsis respiratoria\n",
      "  infeccion urinaria\n",
      "  ITU\n",
      "  fractura vertebral\n",
      "  epoc estadio infeccion respiratoria\n",
      "  infeccion herida quirurgica\n",
      "Cluster 1:\n",
      "  cirrosis hepatica\n",
      "  neoplasia mama estadio IV\n",
      "  adenoma colon IV\n",
      "  cancer colon estadio IV\n",
      "  cancer lengua estadio IV\n",
      "  carcinoma sigma\n",
      "  cancer pulmon estadio IV\n",
      "  adenocarcino colon estadio IV\n",
      "  neo colon\n",
      "  adenocarcinoma ovario estadio IV\n",
      "Cluster 2:\n",
      "  leucemia linfatica cronica\n",
      "  deterioro general\n",
      "  intolerancia oral\n",
      "  esclerosis multiple\n",
      "  smd\n",
      "  deterioro cognitivo\n",
      "  miocardiopatia hipertrofica\n",
      "  hepatopatia cronica\n",
      "  ictus\n",
      "  fa valvulopatia aortica insuficiencia cardiaca\n",
      "Cluster 3:\n",
      "  melanoma vulvar\n",
      "  adenoma pulmon\n",
      "  fx meseta tibial\n",
      "  tumor cerebral\n",
      "  sarcoidosis\n",
      "  melanoma fosa nasal\n",
      "  sdown\n",
      "  bocio intratoracico\n",
      "  demencia fallo multiorganico\n",
      "  ulceras mmii\n",
      "Cluster 4:\n",
      "  cancer orl\n",
      "  cancer broncogenico\n",
      "  cancer mama\n",
      "  cancer prostata\n",
      "  cancer colon\n",
      "  niemannpick\n",
      "  cancer pancreas\n",
      "  cancer timo\n",
      "  cancer parotida\n",
      "  cancer endometrio\n"
     ]
    }
   ],
   "source": [
    "# Crea un diccionario donde las llaves son las etiquetas del cluster y los valores son listas de diagnósticos pertenecientes a ese cluster\n",
    "clusters = {i: [] for i in range(5)}  # Asegúrate de cambiar el rango para que coincida con el número de clusters que estás usando\n",
    "\n",
    "for diagnostico, label in zip(diagnosticos_split, labels):\n",
    "    clusters[label].append(' '.join(diagnostico))\n",
    "\n",
    "# Ahora puedes imprimir los diagnósticos en cada cluster\n",
    "for label, diagnosticos in clusters.items():\n",
    "    print(f'Cluster {label}:')\n",
    "    for diagnostico in diagnosticos[:10]:\n",
    "        print(f'  {diagnostico}')\n"
   ]
  },
  {
   "cell_type": "code",
   "execution_count": 14,
   "metadata": {},
   "outputs": [],
   "source": [
    "for diagnostico, label in zip(diagnosticos_split, labels):\n",
    "    clusters[label].append(' '.join(diagnostico))\n",
    "    \n",
    "    '''Está iterando sobre los diagnósticos y sus etiquetas de cluster correspondientes. \n",
    "    Para cada diagnóstico, transforma la lista de palabras en una cadena de texto (usando ' '.join(diagnostico)) \n",
    "    y la añade a la lista correspondiente en el diccionario clusters.\n",
    "    \n",
    "    Por ejemplo, si hay un diagnóstico que es [\"neoplasia\", \"pancreas\"] y su etiqueta de cluster es 2,\n",
    "    este diagnóstico se transformaría en la cadena de texto \"neoplasia pancreas\" y se añadiría a la lista de diagnósticos\n",
    "    del cluster 2 en el diccionario clusters. Así, al final, se crea un diccionario donde para cada cluster, \n",
    "    existe una lista de todos los diagnósticos (como cadenas de texto) que pertenecen a ese cluster'''"
   ]
  },
  {
   "cell_type": "markdown",
   "metadata": {},
   "source": [
    "También puedes querer investigar las palabras más representativas de cada cluster. Esto puede darte una idea de las características que el modelo está utilizando para distinguir entre los diferentes clusters.\n",
    "* Código de ejemplo para hacer eso:"
   ]
  },
  {
   "cell_type": "code",
   "execution_count": 15,
   "metadata": {},
   "outputs": [
    {
     "name": "stdout",
     "output_type": "stream",
     "text": [
      "Cluster 0:\n",
      "  infeccion: 192\n",
      "  respiratoria: 62\n",
      "  urinaria: 36\n",
      "  epoc: 28\n",
      "  ITU: 24\n",
      "  linfoma: 22\n",
      "  insuficiencia: 16\n",
      "  cardiaca: 14\n",
      "  cognitivo: 14\n",
      "  severo: 14\n",
      "Cluster 1:\n",
      "  IV: 262\n",
      "  estadio: 258\n",
      "  cancer: 100\n",
      "  pulmon: 38\n",
      "  neoplasia: 36\n",
      "  colon: 36\n",
      "  neo: 30\n",
      "  carcinoma: 28\n",
      "  adenocarcinoma: 28\n",
      "  pancreas: 24\n",
      "Cluster 2:\n",
      "  insuficiencia: 126\n",
      "  cronica: 92\n",
      "  cardiaca: 90\n",
      "  neoplasia: 84\n",
      "  ulcera: 68\n",
      "  cognitivo: 64\n",
      "  deterioro: 60\n",
      "  ITU: 48\n",
      "  fragil: 32\n",
      "  aguda: 30\n",
      "Cluster 3:\n",
      "  ulceras: 58\n",
      "  demencia: 42\n",
      "  sindrome: 36\n",
      "  adenocarcinoma: 26\n",
      "  adenoma: 24\n",
      "  abdominal: 22\n",
      "  intestinal: 22\n",
      "  tumor: 20\n",
      "  amputacion: 20\n",
      "  endocarditis: 20\n",
      "Cluster 4:\n",
      "  cancer: 266\n",
      "  epidermoide: 30\n",
      "  colon: 24\n",
      "  pulmon: 22\n",
      "  prostata: 14\n",
      "  gastrico: 14\n",
      "  IV: 10\n",
      "  vejiga: 8\n",
      "  esofago: 8\n",
      "  recto: 8\n"
     ]
    }
   ],
   "source": [
    "import collections\n",
    "# Para cada cluster, encuentra las 10 palabras más comunes\n",
    "for label, diagnosticos in clusters.items():\n",
    "    # Juntamos todos los diagnósticos en una sola lista de palabras\n",
    "    palabras = [palabra for diagnostico in diagnosticos for palabra in diagnostico.split()]\n",
    "    \n",
    "    # Contamos las ocurrencias de cada palabra\n",
    "    conteo_palabras = collections.Counter(palabras)\n",
    "    \n",
    "    print(f'Cluster {label}:')\n",
    "    for palabra, conteo in conteo_palabras.most_common(10):\n",
    "        print(f'  {palabra}: {conteo}')\n"
   ]
  },
  {
   "cell_type": "markdown",
   "metadata": {},
   "source": [
    ">Estos clusters pueden ser útiles para entender qué tipos de diagnósticos se agrupan juntos y podrían ayudar en tareas como el análisis de datos, la recomendación de tratamientos, o la identificación de patrones en los diagnósticos.\n",
    "\n",
    "- Es importante recordar que estos clusters se basan en la similitud de las palabras en los diagnósticos, que no necesariamente reflejan la similitud en las condiciones médicas que representan. Por lo tanto, cualquier interpretación o aplicación de estos clusters debe hacerse con cuidado y, preferiblemente, con la validación de un experto médico."
   ]
  },
  {
   "cell_type": "markdown",
   "metadata": {},
   "source": [
    "<hr>\n",
    "\n",
    "# Otros\n",
    "\n",
    "## Transformación diagnosticos\n",
    "\n",
    "### 1.Corrección ortográfica: \n",
    "Usar bibliotecas como pyspellchecker para la corrección ortográfica. Sin embargo, este proceso puede ser computacionalmente costoso y no siempre proporciona resultados perfectos, ya que la corrección ortográfica puede ser un problema muy complejo. \n",
    "\n",
    "Otro enfoque podría ser construir un diccionario de correcciones comunes específicas para el conjunto de datos y aplicar estas correcciones de forma manual.\n",
    "\n",
    "### 2.Procesamiento en lotes: \n",
    "En lugar de procesar el texto de cada fila de forma individual, puedes utilizar nlp.pipe(), que es una función de SpaCy que permite procesar textos en lotes. Esto puede ser mucho más eficiente que procesar cada texto de forma individual. \n",
    "> Pero queda descartado porque haré las correcciones de forma manual\n",
    "\n",
    "### 3.Paralelización: \n",
    "Si estás utilizando una máquina con varios núcleos de CPU, puedes paralelizar el procesamiento para hacer un uso más eficiente de tus recursos computacionales. SpaCy tiene soporte para procesamiento paralelo a través de la función nlp.pipe(), simplemente estableciendo el argumento n_process a un número mayor que 1.\n",
    "\n",
    "### 4.Clasificación de texto: \n",
    "Una vez corregidos los errores ortográficos. Se pasa a usar técnicas de aprendizaje automático para clasificar los diagnósticos en categorías. SpaCy tiene un componente de clasificación de texto con el que puedes entrenar los datos. Alternativamente, podrían usarse otras bibliotecas de aprendizaje automático, como scikit-learn, para construir un modelo de clasificación de texto.\n",
    "> Utilizaré scikit-learn\n",
    "\n",
    "### 5.Reducción de dimensionalidad: \n",
    "Algunas técnicas, como TF-IDF o word embeddings (por ejemplo, Word2Vec, FastText o las incrustaciones de palabras de SpaCy), pueden ayudarte a reducir la dimensionalidad de los datos de texto y a extraer características útiles para la clasificación.\n",
    "\n",
    "### 6.Entrenamiento incremental: \n",
    "Si los datos están creciendo con el tiempo, puede considerarse el uso de un modelo que permita el entrenamiento incremental, es decir, un modelo que pueda ser actualizado con nuevos datos sin tener que ser reentrenado desde cero. Algunos modelos de SpaCy admiten esto, al igual que algunos modelos en bibliotecas como scikit-learn."
   ]
  },
  {
   "cell_type": "code",
   "execution_count": 16,
   "metadata": {},
   "outputs": [],
   "source": [
    "# Hacemos un sample\n",
    "df_sample = df.sample(300)"
   ]
  },
  {
   "cell_type": "code",
   "execution_count": 17,
   "metadata": {},
   "outputs": [
    {
     "data": {
      "text/html": [
       "<pre style=\"white-space:pre;overflow-x:auto;line-height:normal;font-family:Menlo,'DejaVu Sans Mono',consolas,'Courier New',monospace\"></pre>\n"
      ],
      "text/plain": []
     },
     "metadata": {},
     "output_type": "display_data"
    },
    {
     "data": {
      "text/plain": [
       "\u001b[1m(\u001b[0m\u001b[1;36m300\u001b[0m, \u001b[1;36m55\u001b[0m\u001b[1m)\u001b[0m"
      ]
     },
     "execution_count": 17,
     "metadata": {},
     "output_type": "execute_result"
    }
   ],
   "source": [
    "df_sample.shape"
   ]
  },
  {
   "cell_type": "code",
   "execution_count": 18,
   "metadata": {},
   "outputs": [
    {
     "data": {
      "text/html": [
       "<pre style=\"white-space:pre;overflow-x:auto;line-height:normal;font-family:Menlo,'DejaVu Sans Mono',consolas,'Courier New',monospace\"></pre>\n"
      ],
      "text/plain": []
     },
     "metadata": {},
     "output_type": "display_data"
    },
    {
     "data": {
      "text/html": [
       "<div>\n",
       "<style scoped>\n",
       "    .dataframe tbody tr th:only-of-type {\n",
       "        vertical-align: middle;\n",
       "    }\n",
       "\n",
       "    .dataframe tbody tr th {\n",
       "        vertical-align: top;\n",
       "    }\n",
       "\n",
       "    .dataframe thead th {\n",
       "        text-align: right;\n",
       "    }\n",
       "</style>\n",
       "<table border=\"1\" class=\"dataframe\">\n",
       "  <thead>\n",
       "    <tr style=\"text-align: right;\">\n",
       "      <th></th>\n",
       "      <th>h_procedencia</th>\n",
       "      <th>hospital_category</th>\n",
       "      <th>s_procedencia</th>\n",
       "      <th>procedencia_category</th>\n",
       "      <th>diagnostico</th>\n",
       "      <th>diagnosis_category</th>\n",
       "      <th>motivo_ing</th>\n",
       "      <th>ingreso_category</th>\n",
       "      <th>motivo_alta</th>\n",
       "      <th>alta_category</th>\n",
       "      <th>...</th>\n",
       "      <th>morfina</th>\n",
       "      <th>midazolam</th>\n",
       "      <th>buscapina</th>\n",
       "      <th>haloperidol</th>\n",
       "      <th>levomepromazina</th>\n",
       "      <th>medico</th>\n",
       "      <th>ayuntamiento</th>\n",
       "      <th>year</th>\n",
       "      <th>latitude</th>\n",
       "      <th>longitude</th>\n",
       "    </tr>\n",
       "  </thead>\n",
       "  <tbody>\n",
       "    <tr>\n",
       "      <th>780</th>\n",
       "      <td>clinico</td>\n",
       "      <td>Santiago</td>\n",
       "      <td>orl</td>\n",
       "      <td>Otros</td>\n",
       "      <td>cancer orl pulmon</td>\n",
       "      <td>Pulmonares y respiratorias</td>\n",
       "      <td>control sintomas</td>\n",
       "      <td>Sintomas</td>\n",
       "      <td>sin condiciones para seguimiento hado</td>\n",
       "      <td>Otros</td>\n",
       "      <td>...</td>\n",
       "      <td>0</td>\n",
       "      <td>0</td>\n",
       "      <td>0</td>\n",
       "      <td>0</td>\n",
       "      <td>0</td>\n",
       "      <td>valdes</td>\n",
       "      <td>desconocido</td>\n",
       "      <td>2018</td>\n",
       "      <td>desconocido</td>\n",
       "      <td>desconocido</td>\n",
       "    </tr>\n",
       "    <tr>\n",
       "      <th>3024</th>\n",
       "      <td>clinico</td>\n",
       "      <td>Santiago</td>\n",
       "      <td>mir</td>\n",
       "      <td>MIR</td>\n",
       "      <td>ITU</td>\n",
       "      <td>Otros</td>\n",
       "      <td>tratamiento antibiotico IV</td>\n",
       "      <td>Tratamientos</td>\n",
       "      <td>fin cuidados</td>\n",
       "      <td>Otros</td>\n",
       "      <td>...</td>\n",
       "      <td>0</td>\n",
       "      <td>0</td>\n",
       "      <td>0</td>\n",
       "      <td>0</td>\n",
       "      <td>0</td>\n",
       "      <td>fernandez benito</td>\n",
       "      <td>Noia</td>\n",
       "      <td>2022</td>\n",
       "      <td>42.7841408</td>\n",
       "      <td>-8.8991033</td>\n",
       "    </tr>\n",
       "    <tr>\n",
       "      <th>3886</th>\n",
       "      <td>no</td>\n",
       "      <td>no</td>\n",
       "      <td>no</td>\n",
       "      <td>Otros</td>\n",
       "      <td>ITU</td>\n",
       "      <td>Otros</td>\n",
       "      <td>antibioterapia IV</td>\n",
       "      <td>Tratamientos</td>\n",
       "      <td>fin cuidados</td>\n",
       "      <td>Otros</td>\n",
       "      <td>...</td>\n",
       "      <td>0</td>\n",
       "      <td>0</td>\n",
       "      <td>0</td>\n",
       "      <td>0</td>\n",
       "      <td>0</td>\n",
       "      <td>gomez buela</td>\n",
       "      <td>Santiago de Compostela</td>\n",
       "      <td>2022</td>\n",
       "      <td>42.8802346</td>\n",
       "      <td>-8.5653691</td>\n",
       "    </tr>\n",
       "    <tr>\n",
       "      <th>1207</th>\n",
       "      <td>clinico</td>\n",
       "      <td>Santiago</td>\n",
       "      <td>mir</td>\n",
       "      <td>MIR</td>\n",
       "      <td>infeccion herida quirurgica</td>\n",
       "      <td>Infecciones</td>\n",
       "      <td>tratamiento antibiotico IV</td>\n",
       "      <td>Tratamientos</td>\n",
       "      <td>fin cuidados</td>\n",
       "      <td>Otros</td>\n",
       "      <td>...</td>\n",
       "      <td>0</td>\n",
       "      <td>0</td>\n",
       "      <td>0</td>\n",
       "      <td>0</td>\n",
       "      <td>0</td>\n",
       "      <td>valdes</td>\n",
       "      <td>desconocido</td>\n",
       "      <td>2019</td>\n",
       "      <td>desconocido</td>\n",
       "      <td>desconocido</td>\n",
       "    </tr>\n",
       "    <tr>\n",
       "      <th>3312</th>\n",
       "      <td>clinico</td>\n",
       "      <td>Santiago</td>\n",
       "      <td>mir</td>\n",
       "      <td>MIR</td>\n",
       "      <td>ITU</td>\n",
       "      <td>Otros</td>\n",
       "      <td>tratamiento antibiotico IV</td>\n",
       "      <td>Tratamientos</td>\n",
       "      <td>fin cuidados</td>\n",
       "      <td>Otros</td>\n",
       "      <td>...</td>\n",
       "      <td>0</td>\n",
       "      <td>0</td>\n",
       "      <td>0</td>\n",
       "      <td>0</td>\n",
       "      <td>0</td>\n",
       "      <td>gomez buela</td>\n",
       "      <td>Santiago de Compostela</td>\n",
       "      <td>2022</td>\n",
       "      <td>42.8802346</td>\n",
       "      <td>-8.5653691</td>\n",
       "    </tr>\n",
       "  </tbody>\n",
       "</table>\n",
       "<p>5 rows × 55 columns</p>\n",
       "</div>"
      ],
      "text/plain": [
       "\n",
       "     h_procedencia hospital_category s_procedencia procedencia_category  \\\n",
       "\u001b[1;36m780\u001b[0m        clinico          Santiago           orl                Otros   \n",
       "\u001b[1;36m3024\u001b[0m       clinico          Santiago           mir                  MIR   \n",
       "\u001b[1;36m3886\u001b[0m            no                no            no                Otros   \n",
       "\u001b[1;36m1207\u001b[0m       clinico          Santiago           mir                  MIR   \n",
       "\u001b[1;36m3312\u001b[0m       clinico          Santiago           mir                  MIR   \n",
       "\n",
       "                      diagnostico          diagnosis_category  \\\n",
       "\u001b[1;36m780\u001b[0m             cancer orl pulmon  Pulmonares y respiratorias   \n",
       "\u001b[1;36m3024\u001b[0m                          ITU                       Otros   \n",
       "\u001b[1;36m3886\u001b[0m                          ITU                       Otros   \n",
       "\u001b[1;36m1207\u001b[0m  infeccion herida quirurgica                 Infecciones   \n",
       "\u001b[1;36m3312\u001b[0m                          ITU                       Otros   \n",
       "\n",
       "                      motivo_ing ingreso_category  \\\n",
       "\u001b[1;36m780\u001b[0m             control sintomas         Sintomas   \n",
       "\u001b[1;36m3024\u001b[0m  tratamiento antibiotico IV     Tratamientos   \n",
       "\u001b[1;36m3886\u001b[0m           antibioterapia IV     Tratamientos   \n",
       "\u001b[1;36m1207\u001b[0m  tratamiento antibiotico IV     Tratamientos   \n",
       "\u001b[1;36m3312\u001b[0m  tratamiento antibiotico IV     Tratamientos   \n",
       "\n",
       "                                motivo_alta alta_category  \u001b[33m...\u001b[0m morfina  \\\n",
       "\u001b[1;36m780\u001b[0m   sin condiciones para seguimiento hado         Otros  \u001b[33m...\u001b[0m       \u001b[1;36m0\u001b[0m   \n",
       "\u001b[1;36m3024\u001b[0m                           fin cuidados         Otros  \u001b[33m...\u001b[0m       \u001b[1;36m0\u001b[0m   \n",
       "\u001b[1;36m3886\u001b[0m                           fin cuidados         Otros  \u001b[33m...\u001b[0m       \u001b[1;36m0\u001b[0m   \n",
       "\u001b[1;36m1207\u001b[0m                           fin cuidados         Otros  \u001b[33m...\u001b[0m       \u001b[1;36m0\u001b[0m   \n",
       "\u001b[1;36m3312\u001b[0m                           fin cuidados         Otros  \u001b[33m...\u001b[0m       \u001b[1;36m0\u001b[0m   \n",
       "\n",
       "     midazolam  buscapina  haloperidol levomepromazina            medico  \\\n",
       "\u001b[1;36m780\u001b[0m          \u001b[1;36m0\u001b[0m          \u001b[1;36m0\u001b[0m            \u001b[1;36m0\u001b[0m               \u001b[1;36m0\u001b[0m            valdes   \n",
       "\u001b[1;36m3024\u001b[0m         \u001b[1;36m0\u001b[0m          \u001b[1;36m0\u001b[0m            \u001b[1;36m0\u001b[0m               \u001b[1;36m0\u001b[0m  fernandez benito   \n",
       "\u001b[1;36m3886\u001b[0m         \u001b[1;36m0\u001b[0m          \u001b[1;36m0\u001b[0m            \u001b[1;36m0\u001b[0m               \u001b[1;36m0\u001b[0m       gomez buela   \n",
       "\u001b[1;36m1207\u001b[0m         \u001b[1;36m0\u001b[0m          \u001b[1;36m0\u001b[0m            \u001b[1;36m0\u001b[0m               \u001b[1;36m0\u001b[0m            valdes   \n",
       "\u001b[1;36m3312\u001b[0m         \u001b[1;36m0\u001b[0m          \u001b[1;36m0\u001b[0m            \u001b[1;36m0\u001b[0m               \u001b[1;36m0\u001b[0m       gomez buela   \n",
       "\n",
       "                ayuntamiento  year     latitude    longitude  \n",
       "\u001b[1;36m780\u001b[0m              desconocido  \u001b[1;36m2018\u001b[0m  desconocido  desconocido  \n",
       "\u001b[1;36m3024\u001b[0m                    Noia  \u001b[1;36m2022\u001b[0m   \u001b[1;36m42.7841408\u001b[0m   \u001b[1;36m-8.8991033\u001b[0m  \n",
       "\u001b[1;36m3886\u001b[0m  Santiago de Compostela  \u001b[1;36m2022\u001b[0m   \u001b[1;36m42.8802346\u001b[0m   \u001b[1;36m-8.5653691\u001b[0m  \n",
       "\u001b[1;36m1207\u001b[0m             desconocido  \u001b[1;36m2019\u001b[0m  desconocido  desconocido  \n",
       "\u001b[1;36m3312\u001b[0m  Santiago de Compostela  \u001b[1;36m2022\u001b[0m   \u001b[1;36m42.8802346\u001b[0m   \u001b[1;36m-8.5653691\u001b[0m  \n",
       "\n",
       "\u001b[1m[\u001b[0m\u001b[1;36m5\u001b[0m rows x \u001b[1;36m55\u001b[0m columns\u001b[1m]\u001b[0m"
      ]
     },
     "execution_count": 18,
     "metadata": {},
     "output_type": "execute_result"
    }
   ],
   "source": [
    "df_sample.head()"
   ]
  },
  {
   "cell_type": "markdown",
   "metadata": {},
   "source": [
    "# TextBlob\n",
    "\n",
    "* Corregir errores ortográficos (usando la biblioteca TextBlob para corrección automática):\n",
    "\n",
    ">OJO no puede tener valores NA o de otro tipo que no sea object"
   ]
  },
  {
   "cell_type": "code",
   "execution_count": 19,
   "metadata": {},
   "outputs": [
    {
     "name": "stdout",
     "output_type": "stream",
     "text": [
      "Diagnóstico original: cancer orl pulmon\n",
      "Diagnóstico corregido: cancer or summon\n",
      "=========================\n",
      "Diagnóstico original: ITU\n",
      "Diagnóstico corregido: ITU\n",
      "=========================\n",
      "Diagnóstico original: ITU\n",
      "Diagnóstico corregido: ITU\n",
      "=========================\n",
      "Diagnóstico original: infeccion herida quirurgica\n",
      "Diagnóstico corregido: infection herd quirurgica\n",
      "=========================\n",
      "Diagnóstico original: ITU\n",
      "Diagnóstico corregido: ITU\n",
      "=========================\n",
      "Diagnóstico original: infeccion urinaria\n",
      "Diagnóstico corregido: infection urinary\n",
      "=========================\n",
      "Diagnóstico original: cancer colon\n",
      "Diagnóstico corregido: cancer colon\n",
      "=========================\n",
      "Diagnóstico original: adenoma pulmon estadio IV\n",
      "Diagnóstico corregido: adenoma summon studio of\n",
      "=========================\n",
      "Diagnóstico original: neoplasia cervix\n",
      "Diagnóstico corregido: neoplasm croix\n",
      "=========================\n",
      "Diagnóstico original: sindrome mielodisplasico\n",
      "Diagnóstico corregido: syndrome mielodisplasico\n",
      "=========================\n",
      "Tiempo de ejecución: 1.19004225730896 segundos\n"
     ]
    }
   ],
   "source": [
    "from textblob import TextBlob\n",
    "import time\n",
    "\n",
    "l = df_sample['diagnostico']\n",
    "\n",
    "start_time = time.time()\n",
    "\n",
    "for x in l[:10]:\n",
    "    print(f\"Diagnóstico original: {x}\")\n",
    "    print(f\"Diagnóstico corregido: {TextBlob(x).correct()}\")\n",
    "    print(\"=\"*25)\n",
    "\n",
    "end_time = time.time()\n",
    "execution_time = end_time - start_time\n",
    "print(f\"Tiempo de ejecución: {execution_time} segundos\")\n",
    "    "
   ]
  },
  {
   "cell_type": "code",
   "execution_count": 20,
   "metadata": {},
   "outputs": [],
   "source": [
    "def correct_spelling_col(df, column):\n",
    "    if df[column].dtype == 'object':  # comprueba si la columna es de tipo 'object'\n",
    "        df[column] = df[column].apply(lambda x: str(TextBlob(x).correct()))"
   ]
  },
  {
   "cell_type": "code",
   "execution_count": 21,
   "metadata": {},
   "outputs": [
    {
     "name": "stdout",
     "output_type": "stream",
     "text": [
      "CPU times: total: 15.4 s\n",
      "Wall time: 48.1 s\n"
     ]
    }
   ],
   "source": [
    "%%time \n",
    "\n",
    "correct_spelling_col(df_sample, 'diagnostico')"
   ]
  },
  {
   "cell_type": "code",
   "execution_count": 22,
   "metadata": {},
   "outputs": [
    {
     "data": {
      "text/html": [
       "<pre style=\"white-space:pre;overflow-x:auto;line-height:normal;font-family:Menlo,'DejaVu Sans Mono',consolas,'Courier New',monospace\"></pre>\n"
      ],
      "text/plain": []
     },
     "metadata": {},
     "output_type": "display_data"
    },
    {
     "data": {
      "text/plain": [
       "\n",
       "\u001b[1;36m780\u001b[0m                                  cancer or summon\n",
       "\u001b[1;36m3024\u001b[0m                                              ITU\n",
       "\u001b[1;36m3886\u001b[0m                                              ITU\n",
       "\u001b[1;36m1207\u001b[0m                        infection herd quirurgica\n",
       "\u001b[1;36m3312\u001b[0m                                              ITU\n",
       "                            \u001b[33m...\u001b[0m                      \n",
       "\u001b[1;36m3367\u001b[0m                                infection urinary\n",
       "\u001b[1;36m844\u001b[0m     it incontinencia urinary cancer cells uterine\n",
       "\u001b[1;36m3780\u001b[0m                                              ITU\n",
       "\u001b[1;36m744\u001b[0m                                      cancer varix\n",
       "\u001b[1;36m2206\u001b[0m                                        cirrhosis\n",
       "Name: diagnostico, Length: \u001b[1;36m300\u001b[0m, dtype: object"
      ]
     },
     "execution_count": 22,
     "metadata": {},
     "output_type": "execute_result"
    }
   ],
   "source": [
    "df_sample['diagnostico']"
   ]
  },
  {
   "cell_type": "code",
   "execution_count": 23,
   "metadata": {},
   "outputs": [
    {
     "data": {
      "text/html": [
       "<pre style=\"white-space:pre;overflow-x:auto;line-height:normal;font-family:Menlo,'DejaVu Sans Mono',consolas,'Courier New',monospace\"></pre>\n"
      ],
      "text/plain": []
     },
     "metadata": {},
     "output_type": "display_data"
    },
    {
     "data": {
      "text/plain": [
       "\u001b[1;35mSeries\u001b[0m\u001b[1m(\u001b[0m\u001b[1m[\u001b[0m\u001b[1m]\u001b[0m, Name: diagnostico, dtype: int64\u001b[1m)\u001b[0m"
      ]
     },
     "execution_count": 23,
     "metadata": {},
     "output_type": "execute_result"
    }
   ],
   "source": [
    "# Anteriormente teniamos el valor de ITU seguido de (infeccion del tracto urinario), para evitar paréntesis y más información simplificamos a ITU en los parámetros de \"data_processing\" para la columna diagnóstico\n",
    "mask = df_sample['diagnostico'].str.contains(r'\\(.*\\)',regex=True)\n",
    "filtered_values = df_sample[mask]\n",
    "\n",
    "counts = filtered_values['diagnostico'].value_counts()\n",
    "counts"
   ]
  },
  {
   "cell_type": "code",
   "execution_count": 24,
   "metadata": {},
   "outputs": [],
   "source": [
    "# TextBlob no es la panacea, devuelve muchos errores y traduce al inglés además de comerse palabras\n",
    "from textblob import TextBlob\n",
    "\n",
    "def correct_spelling(df):\n",
    "    for column in df:\n",
    "        if df[column].dtype == 'object':  # comprueba si la columna es de tipo 'object'\n",
    "            df[column] = df[column].apply(lambda x: str(TextBlob(x).correct()))"
   ]
  },
  {
   "cell_type": "code",
   "execution_count": 25,
   "metadata": {},
   "outputs": [
    {
     "name": "stdout",
     "output_type": "stream",
     "text": [
      "CPU times: total: 5min 38s\n",
      "Wall time: 18min 20s\n"
     ]
    }
   ],
   "source": [
    "%%time\n",
    "\n",
    "correct_spelling(df_sample)"
   ]
  },
  {
   "cell_type": "code",
   "execution_count": 26,
   "metadata": {},
   "outputs": [
    {
     "data": {
      "text/html": [
       "<pre style=\"white-space:pre;overflow-x:auto;line-height:normal;font-family:Menlo,'DejaVu Sans Mono',consolas,'Courier New',monospace\"></pre>\n"
      ],
      "text/plain": []
     },
     "metadata": {},
     "output_type": "display_data"
    },
    {
     "data": {
      "text/html": [
       "<div>\n",
       "<style scoped>\n",
       "    .dataframe tbody tr th:only-of-type {\n",
       "        vertical-align: middle;\n",
       "    }\n",
       "\n",
       "    .dataframe tbody tr th {\n",
       "        vertical-align: top;\n",
       "    }\n",
       "\n",
       "    .dataframe thead th {\n",
       "        text-align: right;\n",
       "    }\n",
       "</style>\n",
       "<table border=\"1\" class=\"dataframe\">\n",
       "  <thead>\n",
       "    <tr style=\"text-align: right;\">\n",
       "      <th></th>\n",
       "      <th>h_procedencia</th>\n",
       "      <th>hospital_category</th>\n",
       "      <th>s_procedencia</th>\n",
       "      <th>procedencia_category</th>\n",
       "      <th>diagnostico</th>\n",
       "      <th>diagnosis_category</th>\n",
       "      <th>motivo_ing</th>\n",
       "      <th>ingreso_category</th>\n",
       "      <th>motivo_alta</th>\n",
       "      <th>alta_category</th>\n",
       "      <th>...</th>\n",
       "      <th>morfina</th>\n",
       "      <th>midazolam</th>\n",
       "      <th>buscapina</th>\n",
       "      <th>haloperidol</th>\n",
       "      <th>levomepromazina</th>\n",
       "      <th>medico</th>\n",
       "      <th>ayuntamiento</th>\n",
       "      <th>year</th>\n",
       "      <th>latitude</th>\n",
       "      <th>longitude</th>\n",
       "    </tr>\n",
       "  </thead>\n",
       "  <tbody>\n",
       "    <tr>\n",
       "      <th>780</th>\n",
       "      <td>clinics</td>\n",
       "      <td>Santiago</td>\n",
       "      <td>or</td>\n",
       "      <td>Trot</td>\n",
       "      <td>cancer or summon</td>\n",
       "      <td>Pulmonares y respiratorias</td>\n",
       "      <td>control sintomas</td>\n",
       "      <td>Sintomas</td>\n",
       "      <td>sin conditions para seguimiento had</td>\n",
       "      <td>Trot</td>\n",
       "      <td>...</td>\n",
       "      <td>0</td>\n",
       "      <td>0</td>\n",
       "      <td>0</td>\n",
       "      <td>0</td>\n",
       "      <td>0</td>\n",
       "      <td>valves</td>\n",
       "      <td>desconocido</td>\n",
       "      <td>2018</td>\n",
       "      <td>desconocido</td>\n",
       "      <td>desconocido</td>\n",
       "    </tr>\n",
       "    <tr>\n",
       "      <th>3024</th>\n",
       "      <td>clinics</td>\n",
       "      <td>Santiago</td>\n",
       "      <td>mr</td>\n",
       "      <td>MIR</td>\n",
       "      <td>ITU</td>\n",
       "      <td>Trot</td>\n",
       "      <td>tratamiento antibiotico of</td>\n",
       "      <td>Tratamientos</td>\n",
       "      <td>in cuidados</td>\n",
       "      <td>Trot</td>\n",
       "      <td>...</td>\n",
       "      <td>0</td>\n",
       "      <td>0</td>\n",
       "      <td>0</td>\n",
       "      <td>0</td>\n",
       "      <td>0</td>\n",
       "      <td>fernandez genito</td>\n",
       "      <td>Soil</td>\n",
       "      <td>2022</td>\n",
       "      <td>42.7841408</td>\n",
       "      <td>-8.8991033</td>\n",
       "    </tr>\n",
       "    <tr>\n",
       "      <th>3886</th>\n",
       "      <td>no</td>\n",
       "      <td>no</td>\n",
       "      <td>no</td>\n",
       "      <td>Trot</td>\n",
       "      <td>ITU</td>\n",
       "      <td>Trot</td>\n",
       "      <td>antibioterapia of</td>\n",
       "      <td>Tratamientos</td>\n",
       "      <td>in cuidados</td>\n",
       "      <td>Trot</td>\n",
       "      <td>...</td>\n",
       "      <td>0</td>\n",
       "      <td>0</td>\n",
       "      <td>0</td>\n",
       "      <td>0</td>\n",
       "      <td>0</td>\n",
       "      <td>gomez buena</td>\n",
       "      <td>Santiago de Compostela</td>\n",
       "      <td>2022</td>\n",
       "      <td>42.8802346</td>\n",
       "      <td>-8.5653691</td>\n",
       "    </tr>\n",
       "    <tr>\n",
       "      <th>1207</th>\n",
       "      <td>clinics</td>\n",
       "      <td>Santiago</td>\n",
       "      <td>mr</td>\n",
       "      <td>MIR</td>\n",
       "      <td>infection herd quirurgica</td>\n",
       "      <td>Infecciones</td>\n",
       "      <td>tratamiento antibiotico of</td>\n",
       "      <td>Tratamientos</td>\n",
       "      <td>in cuidados</td>\n",
       "      <td>Trot</td>\n",
       "      <td>...</td>\n",
       "      <td>0</td>\n",
       "      <td>0</td>\n",
       "      <td>0</td>\n",
       "      <td>0</td>\n",
       "      <td>0</td>\n",
       "      <td>valves</td>\n",
       "      <td>desconocido</td>\n",
       "      <td>2019</td>\n",
       "      <td>desconocido</td>\n",
       "      <td>desconocido</td>\n",
       "    </tr>\n",
       "    <tr>\n",
       "      <th>3312</th>\n",
       "      <td>clinics</td>\n",
       "      <td>Santiago</td>\n",
       "      <td>mr</td>\n",
       "      <td>MIR</td>\n",
       "      <td>ITU</td>\n",
       "      <td>Trot</td>\n",
       "      <td>tratamiento antibiotico of</td>\n",
       "      <td>Tratamientos</td>\n",
       "      <td>in cuidados</td>\n",
       "      <td>Trot</td>\n",
       "      <td>...</td>\n",
       "      <td>0</td>\n",
       "      <td>0</td>\n",
       "      <td>0</td>\n",
       "      <td>0</td>\n",
       "      <td>0</td>\n",
       "      <td>gomez buena</td>\n",
       "      <td>Santiago de Compostela</td>\n",
       "      <td>2022</td>\n",
       "      <td>42.8802346</td>\n",
       "      <td>-8.5653691</td>\n",
       "    </tr>\n",
       "  </tbody>\n",
       "</table>\n",
       "<p>5 rows × 55 columns</p>\n",
       "</div>"
      ],
      "text/plain": [
       "\n",
       "     h_procedencia hospital_category s_procedencia procedencia_category  \\\n",
       "\u001b[1;36m780\u001b[0m        clinics          Santiago            or                 Trot   \n",
       "\u001b[1;36m3024\u001b[0m       clinics          Santiago            mr                  MIR   \n",
       "\u001b[1;36m3886\u001b[0m            no                no            no                 Trot   \n",
       "\u001b[1;36m1207\u001b[0m       clinics          Santiago            mr                  MIR   \n",
       "\u001b[1;36m3312\u001b[0m       clinics          Santiago            mr                  MIR   \n",
       "\n",
       "                    diagnostico          diagnosis_category  \\\n",
       "\u001b[1;36m780\u001b[0m            cancer or summon  Pulmonares y respiratorias   \n",
       "\u001b[1;36m3024\u001b[0m                        ITU                        Trot   \n",
       "\u001b[1;36m3886\u001b[0m                        ITU                        Trot   \n",
       "\u001b[1;36m1207\u001b[0m  infection herd quirurgica                 Infecciones   \n",
       "\u001b[1;36m3312\u001b[0m                        ITU                        Trot   \n",
       "\n",
       "                      motivo_ing ingreso_category  \\\n",
       "\u001b[1;36m780\u001b[0m             control sintomas         Sintomas   \n",
       "\u001b[1;36m3024\u001b[0m  tratamiento antibiotico of     Tratamientos   \n",
       "\u001b[1;36m3886\u001b[0m           antibioterapia of     Tratamientos   \n",
       "\u001b[1;36m1207\u001b[0m  tratamiento antibiotico of     Tratamientos   \n",
       "\u001b[1;36m3312\u001b[0m  tratamiento antibiotico of     Tratamientos   \n",
       "\n",
       "                              motivo_alta alta_category  \u001b[33m...\u001b[0m morfina  \\\n",
       "\u001b[1;36m780\u001b[0m   sin conditions para seguimiento had          Trot  \u001b[33m...\u001b[0m       \u001b[1;36m0\u001b[0m   \n",
       "\u001b[1;36m3024\u001b[0m                          in cuidados          Trot  \u001b[33m...\u001b[0m       \u001b[1;36m0\u001b[0m   \n",
       "\u001b[1;36m3886\u001b[0m                          in cuidados          Trot  \u001b[33m...\u001b[0m       \u001b[1;36m0\u001b[0m   \n",
       "\u001b[1;36m1207\u001b[0m                          in cuidados          Trot  \u001b[33m...\u001b[0m       \u001b[1;36m0\u001b[0m   \n",
       "\u001b[1;36m3312\u001b[0m                          in cuidados          Trot  \u001b[33m...\u001b[0m       \u001b[1;36m0\u001b[0m   \n",
       "\n",
       "     midazolam  buscapina  haloperidol levomepromazina            medico  \\\n",
       "\u001b[1;36m780\u001b[0m          \u001b[1;36m0\u001b[0m          \u001b[1;36m0\u001b[0m            \u001b[1;36m0\u001b[0m               \u001b[1;36m0\u001b[0m            valves   \n",
       "\u001b[1;36m3024\u001b[0m         \u001b[1;36m0\u001b[0m          \u001b[1;36m0\u001b[0m            \u001b[1;36m0\u001b[0m               \u001b[1;36m0\u001b[0m  fernandez genito   \n",
       "\u001b[1;36m3886\u001b[0m         \u001b[1;36m0\u001b[0m          \u001b[1;36m0\u001b[0m            \u001b[1;36m0\u001b[0m               \u001b[1;36m0\u001b[0m       gomez buena   \n",
       "\u001b[1;36m1207\u001b[0m         \u001b[1;36m0\u001b[0m          \u001b[1;36m0\u001b[0m            \u001b[1;36m0\u001b[0m               \u001b[1;36m0\u001b[0m            valves   \n",
       "\u001b[1;36m3312\u001b[0m         \u001b[1;36m0\u001b[0m          \u001b[1;36m0\u001b[0m            \u001b[1;36m0\u001b[0m               \u001b[1;36m0\u001b[0m       gomez buena   \n",
       "\n",
       "                ayuntamiento  year     latitude    longitude  \n",
       "\u001b[1;36m780\u001b[0m              desconocido  \u001b[1;36m2018\u001b[0m  desconocido  desconocido  \n",
       "\u001b[1;36m3024\u001b[0m                    Soil  \u001b[1;36m2022\u001b[0m   \u001b[1;36m42.7841408\u001b[0m   \u001b[1;36m-8.8991033\u001b[0m  \n",
       "\u001b[1;36m3886\u001b[0m  Santiago de Compostela  \u001b[1;36m2022\u001b[0m   \u001b[1;36m42.8802346\u001b[0m   \u001b[1;36m-8.5653691\u001b[0m  \n",
       "\u001b[1;36m1207\u001b[0m             desconocido  \u001b[1;36m2019\u001b[0m  desconocido  desconocido  \n",
       "\u001b[1;36m3312\u001b[0m  Santiago de Compostela  \u001b[1;36m2022\u001b[0m   \u001b[1;36m42.8802346\u001b[0m   \u001b[1;36m-8.5653691\u001b[0m  \n",
       "\n",
       "\u001b[1m[\u001b[0m\u001b[1;36m5\u001b[0m rows x \u001b[1;36m55\u001b[0m columns\u001b[1m]\u001b[0m"
      ]
     },
     "execution_count": 26,
     "metadata": {},
     "output_type": "execute_result"
    }
   ],
   "source": [
    "df_sample.head()"
   ]
  },
  {
   "cell_type": "markdown",
   "metadata": {},
   "source": [
    "## Conclusiones TextBlob\n",
    "\n",
    "Text Blob solo para palabras en inglés.\n",
    "No nos valdría para corregir ortografía en español..."
   ]
  },
  {
   "cell_type": "markdown",
   "metadata": {},
   "source": [
    "# Spacy\n",
    "* Textos con spacy"
   ]
  },
  {
   "cell_type": "code",
   "execution_count": 27,
   "metadata": {},
   "outputs": [],
   "source": [
    "df_sample_2 = df.sample(300)"
   ]
  },
  {
   "cell_type": "code",
   "execution_count": 30,
   "metadata": {},
   "outputs": [
    {
     "name": "stdout",
     "output_type": "stream",
     "text": [
      "Collecting es-core-news-sm==3.7.0\n",
      "  Using cached https://github.com/explosion/spacy-models/releases/download/es_core_news_sm-3.7.0/es_core_news_sm-3.7.0-py3-none-any.whl (12.9 MB)\n",
      "Requirement already satisfied: spacy<3.8.0,>=3.7.0 in c:\\users\\pablo villar\\desktop\\cursos\\kschool\\máster en data science\\tfm\\nuevo_entorno_kedro\\tfm_hado_cares\\.venv\\lib\\site-packages (from es-core-news-sm==3.7.0) (3.7.2)\n",
      "Requirement already satisfied: spacy-legacy<3.1.0,>=3.0.11 in c:\\users\\pablo villar\\desktop\\cursos\\kschool\\máster en data science\\tfm\\nuevo_entorno_kedro\\tfm_hado_cares\\.venv\\lib\\site-packages (from spacy<3.8.0,>=3.7.0->es-core-news-sm==3.7.0) (3.0.12)\n",
      "Requirement already satisfied: spacy-loggers<2.0.0,>=1.0.0 in c:\\users\\pablo villar\\desktop\\cursos\\kschool\\máster en data science\\tfm\\nuevo_entorno_kedro\\tfm_hado_cares\\.venv\\lib\\site-packages (from spacy<3.8.0,>=3.7.0->es-core-news-sm==3.7.0) (1.0.5)\n",
      "Requirement already satisfied: murmurhash<1.1.0,>=0.28.0 in c:\\users\\pablo villar\\desktop\\cursos\\kschool\\máster en data science\\tfm\\nuevo_entorno_kedro\\tfm_hado_cares\\.venv\\lib\\site-packages (from spacy<3.8.0,>=3.7.0->es-core-news-sm==3.7.0) (1.0.10)\n",
      "Requirement already satisfied: cymem<2.1.0,>=2.0.2 in c:\\users\\pablo villar\\desktop\\cursos\\kschool\\máster en data science\\tfm\\nuevo_entorno_kedro\\tfm_hado_cares\\.venv\\lib\\site-packages (from spacy<3.8.0,>=3.7.0->es-core-news-sm==3.7.0) (2.0.8)\n",
      "Requirement already satisfied: preshed<3.1.0,>=3.0.2 in c:\\users\\pablo villar\\desktop\\cursos\\kschool\\máster en data science\\tfm\\nuevo_entorno_kedro\\tfm_hado_cares\\.venv\\lib\\site-packages (from spacy<3.8.0,>=3.7.0->es-core-news-sm==3.7.0) (3.0.9)\n",
      "Requirement already satisfied: thinc<8.3.0,>=8.1.8 in c:\\users\\pablo villar\\desktop\\cursos\\kschool\\máster en data science\\tfm\\nuevo_entorno_kedro\\tfm_hado_cares\\.venv\\lib\\site-packages (from spacy<3.8.0,>=3.7.0->es-core-news-sm==3.7.0) (8.2.1)\n",
      "Requirement already satisfied: wasabi<1.2.0,>=0.9.1 in c:\\users\\pablo villar\\desktop\\cursos\\kschool\\máster en data science\\tfm\\nuevo_entorno_kedro\\tfm_hado_cares\\.venv\\lib\\site-packages (from spacy<3.8.0,>=3.7.0->es-core-news-sm==3.7.0) (1.1.2)\n",
      "Requirement already satisfied: srsly<3.0.0,>=2.4.3 in c:\\users\\pablo villar\\desktop\\cursos\\kschool\\máster en data science\\tfm\\nuevo_entorno_kedro\\tfm_hado_cares\\.venv\\lib\\site-packages (from spacy<3.8.0,>=3.7.0->es-core-news-sm==3.7.0) (2.4.8)\n",
      "Requirement already satisfied: catalogue<2.1.0,>=2.0.6 in c:\\users\\pablo villar\\desktop\\cursos\\kschool\\máster en data science\\tfm\\nuevo_entorno_kedro\\tfm_hado_cares\\.venv\\lib\\site-packages (from spacy<3.8.0,>=3.7.0->es-core-news-sm==3.7.0) (2.0.10)\n",
      "Requirement already satisfied: weasel<0.4.0,>=0.1.0 in c:\\users\\pablo villar\\desktop\\cursos\\kschool\\máster en data science\\tfm\\nuevo_entorno_kedro\\tfm_hado_cares\\.venv\\lib\\site-packages (from spacy<3.8.0,>=3.7.0->es-core-news-sm==3.7.0) (0.3.3)\n",
      "Requirement already satisfied: typer<0.10.0,>=0.3.0 in c:\\users\\pablo villar\\desktop\\cursos\\kschool\\máster en data science\\tfm\\nuevo_entorno_kedro\\tfm_hado_cares\\.venv\\lib\\site-packages (from spacy<3.8.0,>=3.7.0->es-core-news-sm==3.7.0) (0.9.0)\n",
      "Requirement already satisfied: smart-open<7.0.0,>=5.2.1 in c:\\users\\pablo villar\\desktop\\cursos\\kschool\\máster en data science\\tfm\\nuevo_entorno_kedro\\tfm_hado_cares\\.venv\\lib\\site-packages (from spacy<3.8.0,>=3.7.0->es-core-news-sm==3.7.0) (6.4.0)\n",
      "Requirement already satisfied: tqdm<5.0.0,>=4.38.0 in c:\\users\\pablo villar\\desktop\\cursos\\kschool\\máster en data science\\tfm\\nuevo_entorno_kedro\\tfm_hado_cares\\.venv\\lib\\site-packages (from spacy<3.8.0,>=3.7.0->es-core-news-sm==3.7.0) (4.66.1)\n",
      "Requirement already satisfied: requests<3.0.0,>=2.13.0 in c:\\users\\pablo villar\\desktop\\cursos\\kschool\\máster en data science\\tfm\\nuevo_entorno_kedro\\tfm_hado_cares\\.venv\\lib\\site-packages (from spacy<3.8.0,>=3.7.0->es-core-news-sm==3.7.0) (2.31.0)\n",
      "Requirement already satisfied: pydantic!=1.8,!=1.8.1,<3.0.0,>=1.7.4 in c:\\users\\pablo villar\\desktop\\cursos\\kschool\\máster en data science\\tfm\\nuevo_entorno_kedro\\tfm_hado_cares\\.venv\\lib\\site-packages (from spacy<3.8.0,>=3.7.0->es-core-news-sm==3.7.0) (1.10.13)\n",
      "Requirement already satisfied: jinja2 in c:\\users\\pablo villar\\desktop\\cursos\\kschool\\máster en data science\\tfm\\nuevo_entorno_kedro\\tfm_hado_cares\\.venv\\lib\\site-packages (from spacy<3.8.0,>=3.7.0->es-core-news-sm==3.7.0) (3.1.2)\n",
      "Requirement already satisfied: setuptools in c:\\users\\pablo villar\\desktop\\cursos\\kschool\\máster en data science\\tfm\\nuevo_entorno_kedro\\tfm_hado_cares\\.venv\\lib\\site-packages (from spacy<3.8.0,>=3.7.0->es-core-news-sm==3.7.0) (68.2.2)\n",
      "Requirement already satisfied: packaging>=20.0 in c:\\users\\pablo villar\\desktop\\cursos\\kschool\\máster en data science\\tfm\\nuevo_entorno_kedro\\tfm_hado_cares\\.venv\\lib\\site-packages (from spacy<3.8.0,>=3.7.0->es-core-news-sm==3.7.0) (23.2)\n",
      "Requirement already satisfied: langcodes<4.0.0,>=3.2.0 in c:\\users\\pablo villar\\desktop\\cursos\\kschool\\máster en data science\\tfm\\nuevo_entorno_kedro\\tfm_hado_cares\\.venv\\lib\\site-packages (from spacy<3.8.0,>=3.7.0->es-core-news-sm==3.7.0) (3.3.0)\n",
      "Requirement already satisfied: numpy>=1.19.0 in c:\\users\\pablo villar\\desktop\\cursos\\kschool\\máster en data science\\tfm\\nuevo_entorno_kedro\\tfm_hado_cares\\.venv\\lib\\site-packages (from spacy<3.8.0,>=3.7.0->es-core-news-sm==3.7.0) (1.25.2)\n",
      "Requirement already satisfied: typing-extensions>=4.2.0 in c:\\users\\pablo villar\\desktop\\cursos\\kschool\\máster en data science\\tfm\\nuevo_entorno_kedro\\tfm_hado_cares\\.venv\\lib\\site-packages (from pydantic!=1.8,!=1.8.1,<3.0.0,>=1.7.4->spacy<3.8.0,>=3.7.0->es-core-news-sm==3.7.0) (4.8.0)\n",
      "Requirement already satisfied: charset-normalizer<4,>=2 in c:\\users\\pablo villar\\desktop\\cursos\\kschool\\máster en data science\\tfm\\nuevo_entorno_kedro\\tfm_hado_cares\\.venv\\lib\\site-packages (from requests<3.0.0,>=2.13.0->spacy<3.8.0,>=3.7.0->es-core-news-sm==3.7.0) (3.3.1)\n",
      "Requirement already satisfied: idna<4,>=2.5 in c:\\users\\pablo villar\\desktop\\cursos\\kschool\\máster en data science\\tfm\\nuevo_entorno_kedro\\tfm_hado_cares\\.venv\\lib\\site-packages (from requests<3.0.0,>=2.13.0->spacy<3.8.0,>=3.7.0->es-core-news-sm==3.7.0) (3.4)\n",
      "Requirement already satisfied: urllib3<3,>=1.21.1 in c:\\users\\pablo villar\\desktop\\cursos\\kschool\\máster en data science\\tfm\\nuevo_entorno_kedro\\tfm_hado_cares\\.venv\\lib\\site-packages (from requests<3.0.0,>=2.13.0->spacy<3.8.0,>=3.7.0->es-core-news-sm==3.7.0) (2.0.7)\n",
      "Requirement already satisfied: certifi>=2017.4.17 in c:\\users\\pablo villar\\desktop\\cursos\\kschool\\máster en data science\\tfm\\nuevo_entorno_kedro\\tfm_hado_cares\\.venv\\lib\\site-packages (from requests<3.0.0,>=2.13.0->spacy<3.8.0,>=3.7.0->es-core-news-sm==3.7.0) (2023.7.22)\n",
      "Requirement already satisfied: blis<0.8.0,>=0.7.8 in c:\\users\\pablo villar\\desktop\\cursos\\kschool\\máster en data science\\tfm\\nuevo_entorno_kedro\\tfm_hado_cares\\.venv\\lib\\site-packages (from thinc<8.3.0,>=8.1.8->spacy<3.8.0,>=3.7.0->es-core-news-sm==3.7.0) (0.7.11)\n",
      "Requirement already satisfied: confection<1.0.0,>=0.0.1 in c:\\users\\pablo villar\\desktop\\cursos\\kschool\\máster en data science\\tfm\\nuevo_entorno_kedro\\tfm_hado_cares\\.venv\\lib\\site-packages (from thinc<8.3.0,>=8.1.8->spacy<3.8.0,>=3.7.0->es-core-news-sm==3.7.0) (0.1.3)\n",
      "Requirement already satisfied: colorama in c:\\users\\pablo villar\\desktop\\cursos\\kschool\\máster en data science\\tfm\\nuevo_entorno_kedro\\tfm_hado_cares\\.venv\\lib\\site-packages (from tqdm<5.0.0,>=4.38.0->spacy<3.8.0,>=3.7.0->es-core-news-sm==3.7.0) (0.4.6)\n",
      "Requirement already satisfied: click<9.0.0,>=7.1.1 in c:\\users\\pablo villar\\desktop\\cursos\\kschool\\máster en data science\\tfm\\nuevo_entorno_kedro\\tfm_hado_cares\\.venv\\lib\\site-packages (from typer<0.10.0,>=0.3.0->spacy<3.8.0,>=3.7.0->es-core-news-sm==3.7.0) (8.1.7)\n",
      "Requirement already satisfied: cloudpathlib<0.17.0,>=0.7.0 in c:\\users\\pablo villar\\desktop\\cursos\\kschool\\máster en data science\\tfm\\nuevo_entorno_kedro\\tfm_hado_cares\\.venv\\lib\\site-packages (from weasel<0.4.0,>=0.1.0->spacy<3.8.0,>=3.7.0->es-core-news-sm==3.7.0) (0.16.0)\n",
      "Requirement already satisfied: MarkupSafe>=2.0 in c:\\users\\pablo villar\\desktop\\cursos\\kschool\\máster en data science\\tfm\\nuevo_entorno_kedro\\tfm_hado_cares\\.venv\\lib\\site-packages (from jinja2->spacy<3.8.0,>=3.7.0->es-core-news-sm==3.7.0) (2.1.3)\n",
      "Installing collected packages: es-core-news-sm\n",
      "Successfully installed es-core-news-sm-3.7.0\n",
      "\u001b[38;5;2m✔ Download and installation successful\u001b[0m\n",
      "You can now load the package via spacy.load('es_core_news_sm')\n"
     ]
    }
   ],
   "source": [
    "!python -m spacy download es_core_news_sm"
   ]
  },
  {
   "cell_type": "code",
   "execution_count": 31,
   "metadata": {},
   "outputs": [
    {
     "name": "stdout",
     "output_type": "stream",
     "text": [
      "Tus texto con errores \n"
     ]
    }
   ],
   "source": [
    "spell = SpellChecker(language='es')  # especifica el idioma\n",
    "\n",
    "@Language.component(\"spell_check\")\n",
    "def correct_spellings(doc):\n",
    "    corrected_text = [spell.correction(word.text) if spell.correction(word.text) is not None else word.text for word in doc]\n",
    "    return spacy.tokens.Doc(doc.vocab, words=corrected_text)\n",
    "\n",
    "nlp = spacy.load('es_core_news_sm')  # carga el modelo de Spacy en español\n",
    "\n",
    "nlp.add_pipe('spell_check', after='ner')\n",
    "\n",
    "text = \"Tus texto con errres\"\n",
    "doc = nlp(text)\n",
    "\n",
    "print(doc.text)\n",
    "\n",
    "def correct_text(text):\n",
    "    doc = nlp(text)\n",
    "    corrected_doc = correct_spellings(doc)\n",
    "    return corrected_doc.text\n"
   ]
  },
  {
   "cell_type": "code",
   "execution_count": 32,
   "metadata": {},
   "outputs": [
    {
     "name": "stdout",
     "output_type": "stream",
     "text": [
      "CPU times: total: 24 s\n",
      "Wall time: 1min 29s\n"
     ]
    }
   ],
   "source": [
    "%%time\n",
    "df_sample_2['diagnostico_corregido'] = df_sample_2['diagnostico'].apply(correct_text)"
   ]
  },
  {
   "cell_type": "code",
   "execution_count": 33,
   "metadata": {},
   "outputs": [
    {
     "data": {
      "text/html": [
       "<pre style=\"white-space:pre;overflow-x:auto;line-height:normal;font-family:Menlo,'DejaVu Sans Mono',consolas,'Courier New',monospace\"></pre>\n"
      ],
      "text/plain": []
     },
     "metadata": {},
     "output_type": "display_data"
    },
    {
     "data": {
      "text/html": [
       "<div>\n",
       "<style scoped>\n",
       "    .dataframe tbody tr th:only-of-type {\n",
       "        vertical-align: middle;\n",
       "    }\n",
       "\n",
       "    .dataframe tbody tr th {\n",
       "        vertical-align: top;\n",
       "    }\n",
       "\n",
       "    .dataframe thead th {\n",
       "        text-align: right;\n",
       "    }\n",
       "</style>\n",
       "<table border=\"1\" class=\"dataframe\">\n",
       "  <thead>\n",
       "    <tr style=\"text-align: right;\">\n",
       "      <th></th>\n",
       "      <th>diagnostico</th>\n",
       "      <th>diagnostico_corregido</th>\n",
       "    </tr>\n",
       "  </thead>\n",
       "  <tbody>\n",
       "    <tr>\n",
       "      <th>3896</th>\n",
       "      <td>meningioma ulcera necrotica</td>\n",
       "      <td>meningioma ulcera necrótica</td>\n",
       "    </tr>\n",
       "    <tr>\n",
       "      <th>372</th>\n",
       "      <td>leucemialinfatica aguda</td>\n",
       "      <td>leucemialinfatica aguda</td>\n",
       "    </tr>\n",
       "    <tr>\n",
       "      <th>1554</th>\n",
       "      <td>insuficiencia cardiaca</td>\n",
       "      <td>insuficiencia cardiaca</td>\n",
       "    </tr>\n",
       "    <tr>\n",
       "      <th>3883</th>\n",
       "      <td>insuficiencia cardiaca cronica</td>\n",
       "      <td>insuficiencia cardiaca cronica</td>\n",
       "    </tr>\n",
       "    <tr>\n",
       "      <th>519</th>\n",
       "      <td>deterioro cognitivo</td>\n",
       "      <td>deterioro cognitivo</td>\n",
       "    </tr>\n",
       "    <tr>\n",
       "      <th>4000</th>\n",
       "      <td>bacteriemia</td>\n",
       "      <td>bacteriemia</td>\n",
       "    </tr>\n",
       "    <tr>\n",
       "      <th>141</th>\n",
       "      <td>cirrosis hepatica</td>\n",
       "      <td>cirrosis hepática</td>\n",
       "    </tr>\n",
       "    <tr>\n",
       "      <th>1005</th>\n",
       "      <td>demencia alt comportamiento perdida via oral</td>\n",
       "      <td>demencia alt comportamiento perdida via oral</td>\n",
       "    </tr>\n",
       "    <tr>\n",
       "      <th>2999</th>\n",
       "      <td>infeccion respiratoria</td>\n",
       "      <td>infección respiratoria</td>\n",
       "    </tr>\n",
       "    <tr>\n",
       "      <th>2619</th>\n",
       "      <td>cancer mama estadio IV</td>\n",
       "      <td>cancer mama estadio IV</td>\n",
       "    </tr>\n",
       "  </tbody>\n",
       "</table>\n",
       "</div>"
      ],
      "text/plain": [
       "\n",
       "                                       diagnostico  \\\n",
       "\u001b[1;36m3896\u001b[0m                   meningioma ulcera necrotica   \n",
       "\u001b[1;36m372\u001b[0m                        leucemialinfatica aguda   \n",
       "\u001b[1;36m1554\u001b[0m                        insuficiencia cardiaca   \n",
       "\u001b[1;36m3883\u001b[0m                insuficiencia cardiaca cronica   \n",
       "\u001b[1;36m519\u001b[0m                            deterioro cognitivo   \n",
       "\u001b[1;36m4000\u001b[0m                                   bacteriemia   \n",
       "\u001b[1;36m141\u001b[0m                              cirrosis hepatica   \n",
       "\u001b[1;36m1005\u001b[0m  demencia alt comportamiento perdida via oral   \n",
       "\u001b[1;36m2999\u001b[0m                        infeccion respiratoria   \n",
       "\u001b[1;36m2619\u001b[0m                        cancer mama estadio IV   \n",
       "\n",
       "                              diagnostico_corregido  \n",
       "\u001b[1;36m3896\u001b[0m                   meningioma ulcera necrótica   \n",
       "\u001b[1;36m372\u001b[0m                        leucemialinfatica aguda   \n",
       "\u001b[1;36m1554\u001b[0m                        insuficiencia cardiaca   \n",
       "\u001b[1;36m3883\u001b[0m                insuficiencia cardiaca cronica   \n",
       "\u001b[1;36m519\u001b[0m                            deterioro cognitivo   \n",
       "\u001b[1;36m4000\u001b[0m                                   bacteriemia   \n",
       "\u001b[1;36m141\u001b[0m                              cirrosis hepática   \n",
       "\u001b[1;36m1005\u001b[0m  demencia alt comportamiento perdida via oral   \n",
       "\u001b[1;36m2999\u001b[0m                        infección respiratoria   \n",
       "\u001b[1;36m2619\u001b[0m                        cancer mama estadio IV   "
      ]
     },
     "execution_count": 33,
     "metadata": {},
     "output_type": "execute_result"
    }
   ],
   "source": [
    "df_sample_2[['diagnostico','diagnostico_corregido']][:10]"
   ]
  },
  {
   "cell_type": "code",
   "execution_count": 34,
   "metadata": {},
   "outputs": [
    {
     "data": {
      "text/html": [
       "<pre style=\"white-space:pre;overflow-x:auto;line-height:normal;font-family:Menlo,'DejaVu Sans Mono',consolas,'Courier New',monospace\"></pre>\n"
      ],
      "text/plain": []
     },
     "metadata": {},
     "output_type": "display_data"
    },
    {
     "data": {
      "text/plain": [
       "\n",
       "\u001b[1m[\u001b[0m\n",
       "    \u001b[32m'hado_22'\u001b[0m,\n",
       "    \u001b[32m'hado_21'\u001b[0m,\n",
       "    \u001b[32m'hado_20'\u001b[0m,\n",
       "    \u001b[32m'hado_19'\u001b[0m,\n",
       "    \u001b[32m'hado_18'\u001b[0m,\n",
       "    \u001b[32m'hado_17'\u001b[0m,\n",
       "    \u001b[32m'strip_lower_hado_17'\u001b[0m,\n",
       "    \u001b[32m'strip_lower_hado_18'\u001b[0m,\n",
       "    \u001b[32m'strip_lower_hado_19'\u001b[0m,\n",
       "    \u001b[32m'strip_lower_hado_20'\u001b[0m,\n",
       "    \u001b[32m'strip_lower_hado_21'\u001b[0m,\n",
       "    \u001b[32m'strip_lower_hado_22'\u001b[0m,\n",
       "    \u001b[32m'hado_concat'\u001b[0m,\n",
       "    \u001b[32m'hado_clean'\u001b[0m,\n",
       "    \u001b[32m'hado_clean_na'\u001b[0m,\n",
       "    \u001b[32m'hado_barthel_cleaned'\u001b[0m,\n",
       "    \u001b[32m'hado_ps_ecog_cleaned'\u001b[0m,\n",
       "    \u001b[32m'hado_gds_fast_cleaned'\u001b[0m,\n",
       "    \u001b[32m'hado_replaced_words'\u001b[0m,\n",
       "    \u001b[32m'hado_lat_lon'\u001b[0m,\n",
       "    \u001b[32m'hado_cleaned'\u001b[0m,\n",
       "    \u001b[32m'hado_cleaned_sedation'\u001b[0m,\n",
       "    \u001b[32m'hado_cleaned_medication'\u001b[0m,\n",
       "    \u001b[32m'hado_categorized'\u001b[0m,\n",
       "    \u001b[32m'hado_final'\u001b[0m,\n",
       "    \u001b[32m'hado_encoded'\u001b[0m\n",
       "\u001b[1m]\u001b[0m"
      ]
     },
     "execution_count": 34,
     "metadata": {},
     "output_type": "execute_result"
    }
   ],
   "source": [
    "catalog.list(\"hado\")"
   ]
  },
  {
   "cell_type": "code",
   "execution_count": 35,
   "metadata": {},
   "outputs": [
    {
     "data": {
      "text/html": [
       "<pre style=\"white-space:pre;overflow-x:auto;line-height:normal;font-family:Menlo,'DejaVu Sans Mono',consolas,'Courier New',monospace\"><span style=\"color: #7fbfbf; text-decoration-color: #7fbfbf\">[10/23/23 15:47:15] </span><span style=\"color: #000080; text-decoration-color: #000080\">INFO    </span> Loading data from <span style=\"color: #008000; text-decoration-color: #008000\">'hado_clean_na'</span> <span style=\"font-weight: bold\">(</span>CSVDataSet<span style=\"font-weight: bold\">)</span><span style=\"color: #808000; text-decoration-color: #808000\">...</span>                  <span style=\"color: #7f7f7f; text-decoration-color: #7f7f7f\">data_catalog.py:492</span>\n",
       "</pre>\n"
      ],
      "text/plain": [
       "\u001b[2;36m[10/23/23 15:47:15]\u001b[0m\u001b[2;36m \u001b[0m\u001b[34mINFO    \u001b[0m Loading data from \u001b[32m'hado_clean_na'\u001b[0m \u001b[1m(\u001b[0mCSVDataSet\u001b[1m)\u001b[0m\u001b[33m...\u001b[0m                  \u001b[2mdata_catalog.py\u001b[0m\u001b[2m:\u001b[0m\u001b[2m492\u001b[0m\n"
      ]
     },
     "metadata": {},
     "output_type": "display_data"
    }
   ],
   "source": [
    "# Hemos probado con los datos en los que se ha realizado toda la limpieza\n",
    "# Probaré con los datos sin los replaces pero sin NAs 'hado_clean'\n",
    "\n",
    "df_clean = catalog.load('hado_clean_na')"
   ]
  },
  {
   "cell_type": "code",
   "execution_count": 36,
   "metadata": {},
   "outputs": [],
   "source": [
    "df_clean['diagnostico_corregido'] = df_clean['diagnostico'].apply(correct_text)"
   ]
  },
  {
   "cell_type": "code",
   "execution_count": 37,
   "metadata": {},
   "outputs": [
    {
     "data": {
      "text/html": [
       "<pre style=\"white-space:pre;overflow-x:auto;line-height:normal;font-family:Menlo,'DejaVu Sans Mono',consolas,'Courier New',monospace\"></pre>\n"
      ],
      "text/plain": []
     },
     "metadata": {},
     "output_type": "display_data"
    },
    {
     "data": {
      "text/html": [
       "<div>\n",
       "<style scoped>\n",
       "    .dataframe tbody tr th:only-of-type {\n",
       "        vertical-align: middle;\n",
       "    }\n",
       "\n",
       "    .dataframe tbody tr th {\n",
       "        vertical-align: top;\n",
       "    }\n",
       "\n",
       "    .dataframe thead th {\n",
       "        text-align: right;\n",
       "    }\n",
       "</style>\n",
       "<table border=\"1\" class=\"dataframe\">\n",
       "  <thead>\n",
       "    <tr style=\"text-align: right;\">\n",
       "      <th></th>\n",
       "      <th>diagnostico</th>\n",
       "      <th>diagnostico_corregido</th>\n",
       "    </tr>\n",
       "  </thead>\n",
       "  <tbody>\n",
       "    <tr>\n",
       "      <th>0</th>\n",
       "      <td>ca orl</td>\n",
       "      <td>ca oro</td>\n",
       "    </tr>\n",
       "    <tr>\n",
       "      <th>1</th>\n",
       "      <td>melanoma vulvar</td>\n",
       "      <td>melanoma vulgar</td>\n",
       "    </tr>\n",
       "    <tr>\n",
       "      <th>2</th>\n",
       "      <td>ca broncogenico</td>\n",
       "      <td>ca broncogenico</td>\n",
       "    </tr>\n",
       "    <tr>\n",
       "      <th>3</th>\n",
       "      <td>cirrosis hepatica</td>\n",
       "      <td>cirrosis hepática</td>\n",
       "    </tr>\n",
       "    <tr>\n",
       "      <th>4</th>\n",
       "      <td>neplasia de mama estadio iv</td>\n",
       "      <td>neplasia de mama estadio iv</td>\n",
       "    </tr>\n",
       "    <tr>\n",
       "      <th>5</th>\n",
       "      <td>anemia</td>\n",
       "      <td>anemia</td>\n",
       "    </tr>\n",
       "    <tr>\n",
       "      <th>6</th>\n",
       "      <td>adenoca de pulmon</td>\n",
       "      <td>adenoma de pulmon</td>\n",
       "    </tr>\n",
       "    <tr>\n",
       "      <th>7</th>\n",
       "      <td>leucemia linfatica cronica</td>\n",
       "      <td>leucemia linfática cronica</td>\n",
       "    </tr>\n",
       "    <tr>\n",
       "      <th>8</th>\n",
       "      <td>fx meseta tibial</td>\n",
       "      <td>fe meseta tibial</td>\n",
       "    </tr>\n",
       "    <tr>\n",
       "      <th>9</th>\n",
       "      <td>cancer de mama</td>\n",
       "      <td>cancer de mama</td>\n",
       "    </tr>\n",
       "  </tbody>\n",
       "</table>\n",
       "</div>"
      ],
      "text/plain": [
       "\n",
       "                   diagnostico         diagnostico_corregido\n",
       "\u001b[1;36m0\u001b[0m                       ca orl                       ca oro \n",
       "\u001b[1;36m1\u001b[0m              melanoma vulvar              melanoma vulgar \n",
       "\u001b[1;36m2\u001b[0m              ca broncogenico              ca broncogenico \n",
       "\u001b[1;36m3\u001b[0m            cirrosis hepatica            cirrosis hepática \n",
       "\u001b[1;36m4\u001b[0m  neplasia de mama estadio iv  neplasia de mama estadio iv \n",
       "\u001b[1;36m5\u001b[0m                       anemia                       anemia \n",
       "\u001b[1;36m6\u001b[0m            adenoca de pulmon            adenoma de pulmon \n",
       "\u001b[1;36m7\u001b[0m   leucemia linfatica cronica   leucemia linfática cronica \n",
       "\u001b[1;36m8\u001b[0m             fx meseta tibial             fe meseta tibial \n",
       "\u001b[1;36m9\u001b[0m               cancer de mama               cancer de mama "
      ]
     },
     "execution_count": 37,
     "metadata": {},
     "output_type": "execute_result"
    }
   ],
   "source": [
    "df_clean[['diagnostico','diagnostico_corregido']][:10]"
   ]
  },
  {
   "cell_type": "markdown",
   "metadata": {},
   "source": [
    "## Conclusiones Spacy\n",
    "\n",
    "No nos vale para corregir ortografía en español tampoco pero es mejor que TextBlob en resultados.\n",
    "\n"
   ]
  },
  {
   "cell_type": "markdown",
   "metadata": {},
   "source": [
    "# Diccionarios\n",
    "\n",
    "Para corregir los diagnosticos asi como otras columnas, optaremos por crear listas y diccionarios con las correcciones"
   ]
  },
  {
   "cell_type": "code",
   "execution_count": 38,
   "metadata": {},
   "outputs": [],
   "source": [
    "corrections = {\n",
    "    'iccbacteriemia': 'insuficiencia cardiaca cronica bacteriemia',\n",
    "    'icc': 'insuficiencia cardiaca cronica',\n",
    "    'ic': 'insuficiencia cardiaca',\n",
    "    'insf ': 'insuficiencia',\n",
    "    'i cardiaca': 'insuficiencia cardiaca',\n",
    "    'icardiaca': 'insuficiencia cardiaca',\n",
    "    'insufcardiaca': 'insuficiencia cardiaca',\n",
    "    'insuficienciacardiaca': 'insuficiencia cardiaca',\n",
    "    '1tu': 'ITU',\n",
    "    'itu': 'ITU',\n",
    "    'ituinfeccion': 'infeccion',\n",
    "    'inf': 'infeccion',\n",
    "    'infecc': 'infeccion',\n",
    "    'infecion': 'infeccion',\n",
    "    'infec': 'infeccion',\n",
    "    'capulmon': 'cancer pulmon',\n",
    "    'canc': 'cancer',\n",
    "    'ca': 'cancer',\n",
    "    'insuf': 'insuficiencia',\n",
    "    'est': 'estadio',\n",
    "    'e': 'estadio',\n",
    "    'fr': 'fractura',\n",
    "    'deteriorocognitivo': 'deterioro cognitivo',\n",
    "    'iv': 'IV',\n",
    "    'resp': 'respiratoria',\n",
    "    '0steomielitis': 'osteomielitis',\n",
    "    'neplasia': 'neoplasia',\n",
    "    'adenoca': 'adenoma',\n",
    "    'sepsisi': 'sepsis',\n",
    "    'caepidermoide': 'carcinoma epidermoide',\n",
    "    'ucera': 'ulcera',\n",
    "    'alzheimertromboembolismo': 'alzheimer trombo embolismo',\n",
    "    'deteriioro': 'deterioro',\n",
    "    'miasteniabronquiectasias': 'miastenia bronquiectasia',\n",
    "    'brnquiectasias': 'bronquiectasia',\n",
    "    'quirurgicaarteriopatia': 'quirurgica arteriopatia',\n",
    "    'respiratoriasuboclusion': 'respiratoria suboclusion',\n",
    "    'respiratoriainsuf': 'respiratoria insuficiencia',\n",
    "    'sistemicodeterioro': 'sistemico deterioro',\n",
    "    'ituca': 'itu cancer',\n",
    "    'ituincont': 'itu incontinencia',\n",
    "    'ituinfec': 'itu infeccion',\n",
    "    'piwe': 'pie',\n",
    "    'pulm': 'pulmon',\n",
    "    'urinarui': 'urinaria',\n",
    "    'trtraparesia': 'tetraparesia',\n",
    "    'colangiocarcinima': 'colangiocarcinoma',\n",
    "    'bacteriemiadeterioro': 'bacteriemia deterioro',\n",
    "    'wpidermoide': 'epidermoide',\n",
    "    '(infeccion del tracto urinario)': 'ITU'\n",
    "}\n",
    "\n",
    "    # Añade tantas correcciones como necesites\n"
   ]
  },
  {
   "cell_type": "code",
   "execution_count": 39,
   "metadata": {},
   "outputs": [
    {
     "data": {
      "text/html": [
       "<pre style=\"white-space:pre;overflow-x:auto;line-height:normal;font-family:Menlo,'DejaVu Sans Mono',consolas,'Courier New',monospace\"></pre>\n"
      ],
      "text/plain": []
     },
     "metadata": {},
     "output_type": "display_data"
    },
    {
     "data": {
      "text/plain": [
       "\n",
       "cancer de colon                  \u001b[1;36m68\u001b[0m\n",
       "cancer de pulmon                 \u001b[1;36m65\u001b[0m\n",
       "cancer de pancreas               \u001b[1;36m26\u001b[0m\n",
       "cancer de prostata               \u001b[1;36m18\u001b[0m\n",
       "cancer de mama                   \u001b[1;36m17\u001b[0m\n",
       "                                 ..\n",
       "cancer intestinal                 \u001b[1;36m1\u001b[0m\n",
       "cancer de gastrico estadio iv     \u001b[1;36m1\u001b[0m\n",
       "cancer de cardias                 \u001b[1;36m1\u001b[0m\n",
       "cancer cavidad oral               \u001b[1;36m1\u001b[0m\n",
       "cancer de recto fournier          \u001b[1;36m1\u001b[0m\n",
       "Name: diagnostico, Length: \u001b[1;36m69\u001b[0m, dtype: int64"
      ]
     },
     "execution_count": 39,
     "metadata": {},
     "output_type": "execute_result"
    }
   ],
   "source": [
    "# Busco todas las filas que contienen 'cancer' y las cuento\n",
    "df_clean['diagnostico'][df_clean['diagnostico'].str.contains('cancer',case=False)].value_counts()"
   ]
  },
  {
   "cell_type": "code",
   "execution_count": 40,
   "metadata": {},
   "outputs": [
    {
     "data": {
      "text/html": [
       "<pre style=\"white-space:pre;overflow-x:auto;line-height:normal;font-family:Menlo,'DejaVu Sans Mono',consolas,'Courier New',monospace\"></pre>\n"
      ],
      "text/plain": []
     },
     "metadata": {},
     "output_type": "display_data"
    },
    {
     "data": {
      "text/plain": [
       "\n",
       "ca pancreas                     \u001b[1;36m24\u001b[0m\n",
       "ca pulmon est iv                \u001b[1;36m21\u001b[0m\n",
       "ca colon estadio iv             \u001b[1;36m18\u001b[0m\n",
       "ca colon                        \u001b[1;36m18\u001b[0m\n",
       "ca mama est iv                  \u001b[1;36m16\u001b[0m\n",
       "                                ..\n",
       "ca de pancreas                   \u001b[1;36m1\u001b[0m\n",
       "ca de recto estiv                \u001b[1;36m1\u001b[0m\n",
       "ca prostata ee iv                \u001b[1;36m1\u001b[0m\n",
       "ca epidermoide suelo de boca     \u001b[1;36m1\u001b[0m\n",
       "ca celulas de merkel             \u001b[1;36m1\u001b[0m\n",
       "Name: diagnostico, Length: \u001b[1;36m198\u001b[0m, dtype: int64"
      ]
     },
     "execution_count": 40,
     "metadata": {},
     "output_type": "execute_result"
    }
   ],
   "source": [
    "# Solo palabras completas 'ca'\n",
    "#\\b es una aserción de límite de palabra en una expresión regular,\n",
    "# lo que significa que 'ca' solo se encontrará si está rodeada de límites de palabra \n",
    "# (como espacios, signos de puntuación, el inicio del texto o el final del texto).\n",
    "\n",
    "\n",
    "# Reemplaza los valores NaN con una cadena vacía\n",
    "df_clean['diagnostico'] = df_clean['diagnostico'].fillna('')\n",
    "\n",
    "df_clean['diagnostico'][df_clean['diagnostico'].str.contains(r'\\bca\\b', case=False, regex=True)].reset_index(drop=True).value_counts()"
   ]
  },
  {
   "cell_type": "code",
   "execution_count": 41,
   "metadata": {},
   "outputs": [],
   "source": [
    "def correct_text(text):\n",
    "    words = text.split()\n",
    "    corrected_words = [corrections.get(word, word) for word in words]\n",
    "    corrected_text = ' '.join(corrected_words)\n",
    "    return corrected_text"
   ]
  },
  {
   "cell_type": "code",
   "execution_count": 42,
   "metadata": {},
   "outputs": [
    {
     "data": {
      "text/html": [
       "<pre style=\"white-space:pre;overflow-x:auto;line-height:normal;font-family:Menlo,'DejaVu Sans Mono',consolas,'Courier New',monospace\"></pre>\n"
      ],
      "text/plain": []
     },
     "metadata": {},
     "output_type": "display_data"
    },
    {
     "data": {
      "text/plain": [
       "\u001b[32m'cancer pulmon estadio IV'\u001b[0m"
      ]
     },
     "execution_count": 42,
     "metadata": {},
     "output_type": "execute_result"
    }
   ],
   "source": [
    "correct_text('ca pulmon est iv')"
   ]
  },
  {
   "cell_type": "code",
   "execution_count": 43,
   "metadata": {},
   "outputs": [
    {
     "data": {
      "text/html": [
       "<pre style=\"white-space:pre;overflow-x:auto;line-height:normal;font-family:Menlo,'DejaVu Sans Mono',consolas,'Courier New',monospace\"></pre>\n"
      ],
      "text/plain": []
     },
     "metadata": {},
     "output_type": "display_data"
    },
    {
     "data": {
      "text/plain": [
       "\n",
       "ca pancreas                      \u001b[1;36m24\u001b[0m\n",
       "ca pulmon est iv                 \u001b[1;36m21\u001b[0m\n",
       "ca colon estadio iv              \u001b[1;36m18\u001b[0m\n",
       "ca colon                         \u001b[1;36m18\u001b[0m\n",
       "ca mama estadio iv               \u001b[1;36m17\u001b[0m\n",
       "                                 ..\n",
       "ca de recto esti                  \u001b[1;36m1\u001b[0m\n",
       "ca prostata ee iv                 \u001b[1;36m1\u001b[0m\n",
       "ca epidermoide suelo de boca      \u001b[1;36m1\u001b[0m\n",
       "ca colon e iv                     \u001b[1;36m1\u001b[0m\n",
       "ca celulas de merced              \u001b[1;36m1\u001b[0m\n",
       "Name: diagnostico_corregido, Length: \u001b[1;36m195\u001b[0m, dtype: int64"
      ]
     },
     "execution_count": 43,
     "metadata": {},
     "output_type": "execute_result"
    }
   ],
   "source": [
    "df_clean['diagnostico_corregido'][df_clean['diagnostico_corregido'].str.contains(r'\\bca\\b', case=False, regex=True)].reset_index(drop=True).value_counts()"
   ]
  },
  {
   "cell_type": "code",
   "execution_count": 44,
   "metadata": {},
   "outputs": [
    {
     "data": {
      "text/html": [
       "<pre style=\"white-space:pre;overflow-x:auto;line-height:normal;font-family:Menlo,'DejaVu Sans Mono',consolas,'Courier New',monospace\"></pre>\n"
      ],
      "text/plain": []
     },
     "metadata": {},
     "output_type": "display_data"
    },
    {
     "data": {
      "text/plain": [
       "\u001b[1;35mSeries\u001b[0m\u001b[1m(\u001b[0m\u001b[1m[\u001b[0m\u001b[1m]\u001b[0m, Name: diagnostico, dtype: int64\u001b[1m)\u001b[0m"
      ]
     },
     "execution_count": 44,
     "metadata": {},
     "output_type": "execute_result"
    }
   ],
   "source": [
    "\n",
    "df['diagnostico'][df['diagnostico'].str.contains(r'\\bca\\b', case=False, regex=True)].reset_index(drop=True).value_counts()"
   ]
  },
  {
   "cell_type": "code",
   "execution_count": 45,
   "metadata": {},
   "outputs": [],
   "source": [
    "# Solo palabras completas 'cancer'\n",
    "df_cancer = df[df['diagnostico'].str.contains(r'\\bcancer\\b', case=False, regex=True)]"
   ]
  },
  {
   "cell_type": "code",
   "execution_count": 46,
   "metadata": {},
   "outputs": [
    {
     "data": {
      "text/html": [
       "<pre style=\"white-space:pre;overflow-x:auto;line-height:normal;font-family:Menlo,'DejaVu Sans Mono',consolas,'Courier New',monospace\"></pre>\n"
      ],
      "text/plain": []
     },
     "metadata": {},
     "output_type": "display_data"
    },
    {
     "data": {
      "text/plain": [
       "\u001b[1m(\u001b[0m\u001b[1;36m806\u001b[0m, \u001b[1;36m55\u001b[0m\u001b[1m)\u001b[0m"
      ]
     },
     "execution_count": 46,
     "metadata": {},
     "output_type": "execute_result"
    }
   ],
   "source": [
    "df_cancer.shape"
   ]
  },
  {
   "cell_type": "code",
   "execution_count": 47,
   "metadata": {},
   "outputs": [
    {
     "data": {
      "text/html": [
       "<pre style=\"white-space:pre;overflow-x:auto;line-height:normal;font-family:Menlo,'DejaVu Sans Mono',consolas,'Courier New',monospace\"></pre>\n"
      ],
      "text/plain": []
     },
     "metadata": {},
     "output_type": "display_data"
    },
    {
     "data": {
      "text/plain": [
       "\n",
       "cancer pulmon                     \u001b[1;36m94\u001b[0m\n",
       "cancer colon                      \u001b[1;36m93\u001b[0m\n",
       "cancer pancreas                   \u001b[1;36m57\u001b[0m\n",
       "cancer pulmon estadio IV          \u001b[1;36m39\u001b[0m\n",
       "cancer mama estadio IV            \u001b[1;36m33\u001b[0m\n",
       "                                  ..\n",
       "cancer pulmonmieloma multiple      \u001b[1;36m1\u001b[0m\n",
       "cancer prostata broncopatia cr     \u001b[1;36m1\u001b[0m\n",
       "cancer cardias                     \u001b[1;36m1\u001b[0m\n",
       "cancer vias biliar                 \u001b[1;36m1\u001b[0m\n",
       "cancer celulas merkel              \u001b[1;36m1\u001b[0m\n",
       "Name: diagnostico, Length: \u001b[1;36m195\u001b[0m, dtype: int64"
      ]
     },
     "execution_count": 47,
     "metadata": {},
     "output_type": "execute_result"
    }
   ],
   "source": [
    "df_cancer['diagnostico'].value_counts()"
   ]
  },
  {
   "cell_type": "markdown",
   "metadata": {},
   "source": [
    "<hr>\n",
    "\n",
    "# Convertir los datos categóricos a un formato numérico:\n",
    "Para convertir las variables categóricas en numéricas, puedes utilizar la función get_dummies() de pandas para realizar la codificación one-hot o la función LabelEncoder de la biblioteca scikit-learn para la codificación ordinal. Aquí tienes un ejemplo de cómo hacer la codificación one-hot:"
   ]
  },
  {
   "cell_type": "code",
   "execution_count": 48,
   "metadata": {},
   "outputs": [
    {
     "data": {
      "text/html": [
       "<pre style=\"white-space:pre;overflow-x:auto;line-height:normal;font-family:Menlo,'DejaVu Sans Mono',consolas,'Courier New',monospace\"></pre>\n"
      ],
      "text/plain": []
     },
     "metadata": {},
     "output_type": "display_data"
    },
    {
     "data": {
      "text/plain": [
       "\n",
       "\u001b[1;35mIndex\u001b[0m\u001b[1m(\u001b[0m\u001b[1m[\u001b[0m\u001b[32m'h_procedencia'\u001b[0m, \u001b[32m'hospital_category'\u001b[0m, \u001b[32m's_procedencia'\u001b[0m,\n",
       "       \u001b[32m'procedencia_category'\u001b[0m, \u001b[32m'diagnostico'\u001b[0m, \u001b[32m'diagnosis_category'\u001b[0m,\n",
       "       \u001b[32m'motivo_ing'\u001b[0m, \u001b[32m'ingreso_category'\u001b[0m, \u001b[32m'motivo_alta'\u001b[0m, \u001b[32m'alta_category'\u001b[0m,\n",
       "       \u001b[32m'fecha_alta'\u001b[0m, \u001b[32m'ap'\u001b[0m, \u001b[32m'n_estancias'\u001b[0m, \u001b[32m'n_visitas'\u001b[0m, \u001b[32m'paliativo_onc_noc'\u001b[0m,\n",
       "       \u001b[32m'paliativo_no_onc_noc'\u001b[0m, \u001b[32m'fiebre'\u001b[0m, \u001b[32m'disnea'\u001b[0m, \u001b[32m'dolor'\u001b[0m, \u001b[32m'delirium'\u001b[0m,\n",
       "       \u001b[32m'sedacion'\u001b[0m, \u001b[32m'p_terminal'\u001b[0m, \u001b[32m'agonia'\u001b[0m, \u001b[32m'ast_anorx'\u001b[0m, \u001b[32m'cronico_reag'\u001b[0m,\n",
       "       \u001b[32m'trato_antibiotico'\u001b[0m, \u001b[32m'transfusion'\u001b[0m, \u001b[32m'paracentesis'\u001b[0m, \u001b[32m'agudo_estable'\u001b[0m,\n",
       "       \u001b[32m'toracocentesis'\u001b[0m, \u001b[32m'fe_iv'\u001b[0m, \u001b[32m'ps_ecog'\u001b[0m, \u001b[32m'ps_ecog_classification'\u001b[0m,\n",
       "       \u001b[32m'barthel'\u001b[0m, \u001b[32m'barthel_classification'\u001b[0m, \u001b[32m'gds_fast'\u001b[0m,\n",
       "       \u001b[32m'gds_fast_classification'\u001b[0m, \u001b[32m'eva_ing'\u001b[0m, \u001b[32m'otros_complicaciones'\u001b[0m, \u001b[32m'otros'\u001b[0m,\n",
       "       \u001b[32m'otros_1'\u001b[0m, \u001b[32m'otros_2'\u001b[0m, \u001b[32m'otros_category'\u001b[0m, \u001b[32m'categorized_combined_otros'\u001b[0m,\n",
       "       \u001b[32m'tiene_sedacion'\u001b[0m, \u001b[32m'morfina'\u001b[0m, \u001b[32m'midazolam'\u001b[0m, \u001b[32m'buscapina'\u001b[0m, \u001b[32m'haloperidol'\u001b[0m,\n",
       "       \u001b[32m'levomepromazina'\u001b[0m, \u001b[32m'medico'\u001b[0m, \u001b[32m'ayuntamiento'\u001b[0m, \u001b[32m'year'\u001b[0m, \u001b[32m'latitude'\u001b[0m,\n",
       "       \u001b[32m'longitude'\u001b[0m\u001b[1m]\u001b[0m,\n",
       "      \u001b[33mdtype\u001b[0m=\u001b[32m'object'\u001b[0m\u001b[1m)\u001b[0m"
      ]
     },
     "execution_count": 48,
     "metadata": {},
     "output_type": "execute_result"
    }
   ],
   "source": [
    "df_cancer.columns"
   ]
  },
  {
   "cell_type": "code",
   "execution_count": 49,
   "metadata": {},
   "outputs": [],
   "source": [
    "df_encoded = pd.get_dummies(df_cancer, columns=['diagnostico'])"
   ]
  },
  {
   "cell_type": "code",
   "execution_count": 52,
   "metadata": {},
   "outputs": [
    {
     "data": {
      "text/html": [
       "<pre style=\"white-space:pre;overflow-x:auto;line-height:normal;font-family:Menlo,'DejaVu Sans Mono',consolas,'Courier New',monospace\"></pre>\n"
      ],
      "text/plain": []
     },
     "metadata": {},
     "output_type": "display_data"
    },
    {
     "data": {
      "text/html": [
       "<div>\n",
       "<style scoped>\n",
       "    .dataframe tbody tr th:only-of-type {\n",
       "        vertical-align: middle;\n",
       "    }\n",
       "\n",
       "    .dataframe tbody tr th {\n",
       "        vertical-align: top;\n",
       "    }\n",
       "\n",
       "    .dataframe thead th {\n",
       "        text-align: right;\n",
       "    }\n",
       "</style>\n",
       "<table border=\"1\" class=\"dataframe\">\n",
       "  <thead>\n",
       "    <tr style=\"text-align: right;\">\n",
       "      <th></th>\n",
       "      <th>h_procedencia</th>\n",
       "      <th>hospital_category</th>\n",
       "      <th>s_procedencia</th>\n",
       "      <th>procedencia_category</th>\n",
       "      <th>diagnosis_category</th>\n",
       "      <th>motivo_ing</th>\n",
       "      <th>ingreso_category</th>\n",
       "      <th>motivo_alta</th>\n",
       "      <th>alta_category</th>\n",
       "      <th>fecha_alta</th>\n",
       "      <th>...</th>\n",
       "      <th>diagnostico_infeccion urinaria cancer rinon</th>\n",
       "      <th>diagnostico_irc cancer colon estadio IV</th>\n",
       "      <th>diagnostico_itu cancer prostata hepatopatia cronica</th>\n",
       "      <th>diagnostico_itu incontinencia urinaria cancer cuello uterino</th>\n",
       "      <th>diagnostico_mediastinitis cancer pulmon</th>\n",
       "      <th>diagnostico_neumonia cancer colon</th>\n",
       "      <th>diagnostico_recidiva cancer esofago</th>\n",
       "      <th>diagnostico_sospecha cancer rectosigmoideo</th>\n",
       "      <th>diagnostico_sospecha cancer tiroides</th>\n",
       "      <th>diagnostico_vomitos diarrea cancer colon estadio IV</th>\n",
       "    </tr>\n",
       "  </thead>\n",
       "  <tbody>\n",
       "    <tr>\n",
       "      <th>0</th>\n",
       "      <td>gil casares</td>\n",
       "      <td>Santiago</td>\n",
       "      <td>upal</td>\n",
       "      <td>Unidad Paliativos</td>\n",
       "      <td>Canceres y neoplasias</td>\n",
       "      <td>control sintomas</td>\n",
       "      <td>Sintomas</td>\n",
       "      <td>reingreso</td>\n",
       "      <td>Complicaciones</td>\n",
       "      <td>unknown</td>\n",
       "      <td>...</td>\n",
       "      <td>0</td>\n",
       "      <td>0</td>\n",
       "      <td>0</td>\n",
       "      <td>0</td>\n",
       "      <td>0</td>\n",
       "      <td>0</td>\n",
       "      <td>0</td>\n",
       "      <td>0</td>\n",
       "      <td>0</td>\n",
       "      <td>0</td>\n",
       "    </tr>\n",
       "    <tr>\n",
       "      <th>2</th>\n",
       "      <td>clinico</td>\n",
       "      <td>Santiago</td>\n",
       "      <td>mir</td>\n",
       "      <td>MIR</td>\n",
       "      <td>Canceres y neoplasias</td>\n",
       "      <td>control evolutivo</td>\n",
       "      <td>Evaluaciones</td>\n",
       "      <td>fin cuidados</td>\n",
       "      <td>Otros</td>\n",
       "      <td>unknown</td>\n",
       "      <td>...</td>\n",
       "      <td>0</td>\n",
       "      <td>0</td>\n",
       "      <td>0</td>\n",
       "      <td>0</td>\n",
       "      <td>0</td>\n",
       "      <td>0</td>\n",
       "      <td>0</td>\n",
       "      <td>0</td>\n",
       "      <td>0</td>\n",
       "      <td>0</td>\n",
       "    </tr>\n",
       "    <tr>\n",
       "      <th>9</th>\n",
       "      <td>clinico</td>\n",
       "      <td>Santiago</td>\n",
       "      <td>urgencias</td>\n",
       "      <td>Urgencias</td>\n",
       "      <td>Canceres y neoplasias</td>\n",
       "      <td>control sintomas</td>\n",
       "      <td>Sintomas</td>\n",
       "      <td>exitus</td>\n",
       "      <td>Exitus</td>\n",
       "      <td>unknown</td>\n",
       "      <td>...</td>\n",
       "      <td>0</td>\n",
       "      <td>0</td>\n",
       "      <td>0</td>\n",
       "      <td>0</td>\n",
       "      <td>0</td>\n",
       "      <td>0</td>\n",
       "      <td>0</td>\n",
       "      <td>0</td>\n",
       "      <td>0</td>\n",
       "      <td>0</td>\n",
       "    </tr>\n",
       "    <tr>\n",
       "      <th>10</th>\n",
       "      <td>clinico</td>\n",
       "      <td>Santiago</td>\n",
       "      <td>oncologia</td>\n",
       "      <td>Oncologia</td>\n",
       "      <td>Canceres y neoplasias</td>\n",
       "      <td>dolor</td>\n",
       "      <td>Sintomas</td>\n",
       "      <td>fin cuidados</td>\n",
       "      <td>Otros</td>\n",
       "      <td>unknown</td>\n",
       "      <td>...</td>\n",
       "      <td>0</td>\n",
       "      <td>0</td>\n",
       "      <td>0</td>\n",
       "      <td>0</td>\n",
       "      <td>0</td>\n",
       "      <td>0</td>\n",
       "      <td>0</td>\n",
       "      <td>0</td>\n",
       "      <td>0</td>\n",
       "      <td>0</td>\n",
       "    </tr>\n",
       "    <tr>\n",
       "      <th>11</th>\n",
       "      <td>clinico</td>\n",
       "      <td>Santiago</td>\n",
       "      <td>oncologia</td>\n",
       "      <td>Oncologia</td>\n",
       "      <td>Canceres y neoplasias</td>\n",
       "      <td>dolor</td>\n",
       "      <td>Sintomas</td>\n",
       "      <td>fin cuidados</td>\n",
       "      <td>Otros</td>\n",
       "      <td>unknown</td>\n",
       "      <td>...</td>\n",
       "      <td>0</td>\n",
       "      <td>0</td>\n",
       "      <td>0</td>\n",
       "      <td>0</td>\n",
       "      <td>0</td>\n",
       "      <td>0</td>\n",
       "      <td>0</td>\n",
       "      <td>0</td>\n",
       "      <td>0</td>\n",
       "      <td>0</td>\n",
       "    </tr>\n",
       "  </tbody>\n",
       "</table>\n",
       "<p>5 rows × 249 columns</p>\n",
       "</div>"
      ],
      "text/plain": [
       "\n",
       "   h_procedencia hospital_category s_procedencia procedencia_category  \\\n",
       "\u001b[1;36m0\u001b[0m    gil casares          Santiago          upal    Unidad Paliativos   \n",
       "\u001b[1;36m2\u001b[0m        clinico          Santiago           mir                  MIR   \n",
       "\u001b[1;36m9\u001b[0m        clinico          Santiago     urgencias            Urgencias   \n",
       "\u001b[1;36m10\u001b[0m       clinico          Santiago     oncologia            Oncologia   \n",
       "\u001b[1;36m11\u001b[0m       clinico          Santiago     oncologia            Oncologia   \n",
       "\n",
       "       diagnosis_category         motivo_ing ingreso_category   motivo_alta  \\\n",
       "\u001b[1;36m0\u001b[0m   Canceres y neoplasias   control sintomas         Sintomas     reingreso   \n",
       "\u001b[1;36m2\u001b[0m   Canceres y neoplasias  control evolutivo     Evaluaciones  fin cuidados   \n",
       "\u001b[1;36m9\u001b[0m   Canceres y neoplasias   control sintomas         Sintomas        exitus   \n",
       "\u001b[1;36m10\u001b[0m  Canceres y neoplasias              dolor         Sintomas  fin cuidados   \n",
       "\u001b[1;36m11\u001b[0m  Canceres y neoplasias              dolor         Sintomas  fin cuidados   \n",
       "\n",
       "     alta_category fecha_alta  \u001b[33m...\u001b[0m  \\\n",
       "\u001b[1;36m0\u001b[0m   Complicaciones    unknown  \u001b[33m...\u001b[0m   \n",
       "\u001b[1;36m2\u001b[0m            Otros    unknown  \u001b[33m...\u001b[0m   \n",
       "\u001b[1;36m9\u001b[0m           Exitus    unknown  \u001b[33m...\u001b[0m   \n",
       "\u001b[1;36m10\u001b[0m           Otros    unknown  \u001b[33m...\u001b[0m   \n",
       "\u001b[1;36m11\u001b[0m           Otros    unknown  \u001b[33m...\u001b[0m   \n",
       "\n",
       "   diagnostico_infeccion urinaria cancer rinon  \\\n",
       "\u001b[1;36m0\u001b[0m                                            \u001b[1;36m0\u001b[0m   \n",
       "\u001b[1;36m2\u001b[0m                                            \u001b[1;36m0\u001b[0m   \n",
       "\u001b[1;36m9\u001b[0m                                            \u001b[1;36m0\u001b[0m   \n",
       "\u001b[1;36m10\u001b[0m                                           \u001b[1;36m0\u001b[0m   \n",
       "\u001b[1;36m11\u001b[0m                                           \u001b[1;36m0\u001b[0m   \n",
       "\n",
       "    diagnostico_irc cancer colon estadio IV  \\\n",
       "\u001b[1;36m0\u001b[0m                                         \u001b[1;36m0\u001b[0m   \n",
       "\u001b[1;36m2\u001b[0m                                         \u001b[1;36m0\u001b[0m   \n",
       "\u001b[1;36m9\u001b[0m                                         \u001b[1;36m0\u001b[0m   \n",
       "\u001b[1;36m10\u001b[0m                                        \u001b[1;36m0\u001b[0m   \n",
       "\u001b[1;36m11\u001b[0m                                        \u001b[1;36m0\u001b[0m   \n",
       "\n",
       "    diagnostico_itu cancer prostata hepatopatia cronica  \\\n",
       "\u001b[1;36m0\u001b[0m                                                   \u001b[1;36m0\u001b[0m     \n",
       "\u001b[1;36m2\u001b[0m                                                   \u001b[1;36m0\u001b[0m     \n",
       "\u001b[1;36m9\u001b[0m                                                   \u001b[1;36m0\u001b[0m     \n",
       "\u001b[1;36m10\u001b[0m                                                  \u001b[1;36m0\u001b[0m     \n",
       "\u001b[1;36m11\u001b[0m                                                  \u001b[1;36m0\u001b[0m     \n",
       "\n",
       "   diagnostico_itu incontinencia urinaria cancer cuello uterino  \\\n",
       "\u001b[1;36m0\u001b[0m                                                   \u001b[1;36m0\u001b[0m             \n",
       "\u001b[1;36m2\u001b[0m                                                   \u001b[1;36m0\u001b[0m             \n",
       "\u001b[1;36m9\u001b[0m                                                   \u001b[1;36m0\u001b[0m             \n",
       "\u001b[1;36m10\u001b[0m                                                  \u001b[1;36m0\u001b[0m             \n",
       "\u001b[1;36m11\u001b[0m                                                  \u001b[1;36m0\u001b[0m             \n",
       "\n",
       "   diagnostico_mediastinitis cancer pulmon diagnostico_neumonia cancer colon  \\\n",
       "\u001b[1;36m0\u001b[0m                                        \u001b[1;36m0\u001b[0m                                 \u001b[1;36m0\u001b[0m   \n",
       "\u001b[1;36m2\u001b[0m                                        \u001b[1;36m0\u001b[0m                                 \u001b[1;36m0\u001b[0m   \n",
       "\u001b[1;36m9\u001b[0m                                        \u001b[1;36m0\u001b[0m                                 \u001b[1;36m0\u001b[0m   \n",
       "\u001b[1;36m10\u001b[0m                                       \u001b[1;36m0\u001b[0m                                 \u001b[1;36m0\u001b[0m   \n",
       "\u001b[1;36m11\u001b[0m                                       \u001b[1;36m0\u001b[0m                                 \u001b[1;36m0\u001b[0m   \n",
       "\n",
       "   diagnostico_recidiva cancer esofago  \\\n",
       "\u001b[1;36m0\u001b[0m                                    \u001b[1;36m0\u001b[0m   \n",
       "\u001b[1;36m2\u001b[0m                                    \u001b[1;36m0\u001b[0m   \n",
       "\u001b[1;36m9\u001b[0m                                    \u001b[1;36m0\u001b[0m   \n",
       "\u001b[1;36m10\u001b[0m                                   \u001b[1;36m0\u001b[0m   \n",
       "\u001b[1;36m11\u001b[0m                                   \u001b[1;36m0\u001b[0m   \n",
       "\n",
       "   diagnostico_sospecha cancer rectosigmoideo  \\\n",
       "\u001b[1;36m0\u001b[0m                                           \u001b[1;36m0\u001b[0m   \n",
       "\u001b[1;36m2\u001b[0m                                           \u001b[1;36m0\u001b[0m   \n",
       "\u001b[1;36m9\u001b[0m                                           \u001b[1;36m0\u001b[0m   \n",
       "\u001b[1;36m10\u001b[0m                                          \u001b[1;36m0\u001b[0m   \n",
       "\u001b[1;36m11\u001b[0m                                          \u001b[1;36m0\u001b[0m   \n",
       "\n",
       "   diagnostico_sospecha cancer tiroides  \\\n",
       "\u001b[1;36m0\u001b[0m                                     \u001b[1;36m0\u001b[0m   \n",
       "\u001b[1;36m2\u001b[0m                                     \u001b[1;36m0\u001b[0m   \n",
       "\u001b[1;36m9\u001b[0m                                     \u001b[1;36m0\u001b[0m   \n",
       "\u001b[1;36m10\u001b[0m                                    \u001b[1;36m0\u001b[0m   \n",
       "\u001b[1;36m11\u001b[0m                                    \u001b[1;36m0\u001b[0m   \n",
       "\n",
       "   diagnostico_vomitos diarrea cancer colon estadio IV  \n",
       "\u001b[1;36m0\u001b[0m                                                   \u001b[1;36m0\u001b[0m   \n",
       "\u001b[1;36m2\u001b[0m                                                   \u001b[1;36m0\u001b[0m   \n",
       "\u001b[1;36m9\u001b[0m                                                   \u001b[1;36m0\u001b[0m   \n",
       "\u001b[1;36m10\u001b[0m                                                  \u001b[1;36m0\u001b[0m   \n",
       "\u001b[1;36m11\u001b[0m                                                  \u001b[1;36m0\u001b[0m   \n",
       "\n",
       "\u001b[1m[\u001b[0m\u001b[1;36m5\u001b[0m rows x \u001b[1;36m249\u001b[0m columns\u001b[1m]\u001b[0m"
      ]
     },
     "execution_count": 52,
     "metadata": {},
     "output_type": "execute_result"
    }
   ],
   "source": [
    "df_encoded.head()"
   ]
  },
  {
   "cell_type": "markdown",
   "metadata": {},
   "source": [
    "<hr>\n",
    "\n",
    "#  Normalizar o estandarizar las variables numéricas:\n",
    "Para normalizar o estandarizar las variables numéricas, puedes utilizar las funciones MinMaxScaler o StandardScaler de scikit-learn. Aquí tienes un ejemplo de cómo estandarizar una columna numérica:"
   ]
  },
  {
   "cell_type": "code",
   "execution_count": 53,
   "metadata": {},
   "outputs": [],
   "source": [
    "df_cancer_num = df_cancer.select_dtypes(exclude='object')\n",
    "\n",
    "scaler = StandardScaler()\n",
    "for col in df_cancer_num:\n",
    "    df_cancer_num[col] = scaler.fit_transform(df_cancer_num[[col]])"
   ]
  },
  {
   "cell_type": "code",
   "execution_count": 54,
   "metadata": {},
   "outputs": [
    {
     "data": {
      "text/html": [
       "<pre style=\"white-space:pre;overflow-x:auto;line-height:normal;font-family:Menlo,'DejaVu Sans Mono',consolas,'Courier New',monospace\"></pre>\n"
      ],
      "text/plain": []
     },
     "metadata": {},
     "output_type": "display_data"
    },
    {
     "data": {
      "text/html": [
       "<div>\n",
       "<style scoped>\n",
       "    .dataframe tbody tr th:only-of-type {\n",
       "        vertical-align: middle;\n",
       "    }\n",
       "\n",
       "    .dataframe tbody tr th {\n",
       "        vertical-align: top;\n",
       "    }\n",
       "\n",
       "    .dataframe thead th {\n",
       "        text-align: right;\n",
       "    }\n",
       "</style>\n",
       "<table border=\"1\" class=\"dataframe\">\n",
       "  <thead>\n",
       "    <tr style=\"text-align: right;\">\n",
       "      <th></th>\n",
       "      <th>count</th>\n",
       "      <th>mean</th>\n",
       "      <th>std</th>\n",
       "      <th>min</th>\n",
       "      <th>25%</th>\n",
       "      <th>50%</th>\n",
       "      <th>75%</th>\n",
       "      <th>max</th>\n",
       "    </tr>\n",
       "  </thead>\n",
       "  <tbody>\n",
       "    <tr>\n",
       "      <th>n_estancias</th>\n",
       "      <td>806.0</td>\n",
       "      <td>-2.644700e-17</td>\n",
       "      <td>1.000621</td>\n",
       "      <td>-0.873505</td>\n",
       "      <td>-0.622973</td>\n",
       "      <td>-0.347388</td>\n",
       "      <td>0.228836</td>\n",
       "      <td>6.842884</td>\n",
       "    </tr>\n",
       "    <tr>\n",
       "      <th>n_visitas</th>\n",
       "      <td>806.0</td>\n",
       "      <td>-1.763133e-17</td>\n",
       "      <td>1.000621</td>\n",
       "      <td>-0.934868</td>\n",
       "      <td>-0.567066</td>\n",
       "      <td>-0.321865</td>\n",
       "      <td>0.168538</td>\n",
       "      <td>7.769775</td>\n",
       "    </tr>\n",
       "    <tr>\n",
       "      <th>ps_ecog</th>\n",
       "      <td>806.0</td>\n",
       "      <td>-3.195679e-17</td>\n",
       "      <td>1.000621</td>\n",
       "      <td>-4.740700</td>\n",
       "      <td>-0.806928</td>\n",
       "      <td>0.504330</td>\n",
       "      <td>0.504330</td>\n",
       "      <td>0.504330</td>\n",
       "    </tr>\n",
       "    <tr>\n",
       "      <th>barthel</th>\n",
       "      <td>806.0</td>\n",
       "      <td>-4.407833e-17</td>\n",
       "      <td>1.000621</td>\n",
       "      <td>-1.166557</td>\n",
       "      <td>-0.794625</td>\n",
       "      <td>-0.422692</td>\n",
       "      <td>0.693105</td>\n",
       "      <td>2.552767</td>\n",
       "    </tr>\n",
       "    <tr>\n",
       "      <th>gds_fast</th>\n",
       "      <td>806.0</td>\n",
       "      <td>-2.644700e-17</td>\n",
       "      <td>1.000621</td>\n",
       "      <td>-0.199175</td>\n",
       "      <td>-0.199175</td>\n",
       "      <td>-0.199175</td>\n",
       "      <td>-0.199175</td>\n",
       "      <td>6.570370</td>\n",
       "    </tr>\n",
       "    <tr>\n",
       "      <th>eva_ing</th>\n",
       "      <td>806.0</td>\n",
       "      <td>0.000000e+00</td>\n",
       "      <td>1.000621</td>\n",
       "      <td>-0.320407</td>\n",
       "      <td>-0.320407</td>\n",
       "      <td>-0.320407</td>\n",
       "      <td>-0.320407</td>\n",
       "      <td>4.598606</td>\n",
       "    </tr>\n",
       "    <tr>\n",
       "      <th>tiene_sedacion</th>\n",
       "      <td>806.0</td>\n",
       "      <td>-4.407833e-18</td>\n",
       "      <td>1.000621</td>\n",
       "      <td>-0.668609</td>\n",
       "      <td>-0.668609</td>\n",
       "      <td>-0.668609</td>\n",
       "      <td>1.495643</td>\n",
       "      <td>1.495643</td>\n",
       "    </tr>\n",
       "    <tr>\n",
       "      <th>morfina</th>\n",
       "      <td>806.0</td>\n",
       "      <td>-7.052533e-17</td>\n",
       "      <td>1.000621</td>\n",
       "      <td>-0.222439</td>\n",
       "      <td>-0.222439</td>\n",
       "      <td>-0.222439</td>\n",
       "      <td>-0.222439</td>\n",
       "      <td>4.495612</td>\n",
       "    </tr>\n",
       "    <tr>\n",
       "      <th>midazolam</th>\n",
       "      <td>806.0</td>\n",
       "      <td>-7.052533e-17</td>\n",
       "      <td>1.000621</td>\n",
       "      <td>-0.222439</td>\n",
       "      <td>-0.222439</td>\n",
       "      <td>-0.222439</td>\n",
       "      <td>-0.222439</td>\n",
       "      <td>4.495612</td>\n",
       "    </tr>\n",
       "    <tr>\n",
       "      <th>buscapina</th>\n",
       "      <td>806.0</td>\n",
       "      <td>-3.526267e-17</td>\n",
       "      <td>1.000621</td>\n",
       "      <td>-0.213062</td>\n",
       "      <td>-0.213062</td>\n",
       "      <td>-0.213062</td>\n",
       "      <td>-0.213062</td>\n",
       "      <td>4.693460</td>\n",
       "    </tr>\n",
       "    <tr>\n",
       "      <th>haloperidol</th>\n",
       "      <td>806.0</td>\n",
       "      <td>-4.407833e-17</td>\n",
       "      <td>1.000621</td>\n",
       "      <td>-0.112084</td>\n",
       "      <td>-0.112084</td>\n",
       "      <td>-0.112084</td>\n",
       "      <td>-0.112084</td>\n",
       "      <td>8.921883</td>\n",
       "    </tr>\n",
       "    <tr>\n",
       "      <th>levomepromazina</th>\n",
       "      <td>806.0</td>\n",
       "      <td>1.763133e-17</td>\n",
       "      <td>1.000621</td>\n",
       "      <td>-0.070622</td>\n",
       "      <td>-0.070622</td>\n",
       "      <td>-0.070622</td>\n",
       "      <td>-0.070622</td>\n",
       "      <td>14.159802</td>\n",
       "    </tr>\n",
       "    <tr>\n",
       "      <th>year</th>\n",
       "      <td>806.0</td>\n",
       "      <td>6.100441e-14</td>\n",
       "      <td>1.000621</td>\n",
       "      <td>-1.421852</td>\n",
       "      <td>-0.849132</td>\n",
       "      <td>0.296308</td>\n",
       "      <td>0.869028</td>\n",
       "      <td>1.441748</td>\n",
       "    </tr>\n",
       "  </tbody>\n",
       "</table>\n",
       "</div>"
      ],
      "text/plain": [
       "\n",
       "                 count          mean       std       min       \u001b[1;36m25\u001b[0m%       \u001b[1;36m50\u001b[0m%  \\\n",
       "n_estancias      \u001b[1;36m806.0\u001b[0m \u001b[1;36m-2.644700e-17\u001b[0m  \u001b[1;36m1.000621\u001b[0m \u001b[1;36m-0.873505\u001b[0m \u001b[1;36m-0.622973\u001b[0m \u001b[1;36m-0.347388\u001b[0m   \n",
       "n_visitas        \u001b[1;36m806.0\u001b[0m \u001b[1;36m-1.763133e-17\u001b[0m  \u001b[1;36m1.000621\u001b[0m \u001b[1;36m-0.934868\u001b[0m \u001b[1;36m-0.567066\u001b[0m \u001b[1;36m-0.321865\u001b[0m   \n",
       "ps_ecog          \u001b[1;36m806.0\u001b[0m \u001b[1;36m-3.195679e-17\u001b[0m  \u001b[1;36m1.000621\u001b[0m \u001b[1;36m-4.740700\u001b[0m \u001b[1;36m-0.806928\u001b[0m  \u001b[1;36m0.504330\u001b[0m   \n",
       "barthel          \u001b[1;36m806.0\u001b[0m \u001b[1;36m-4.407833e-17\u001b[0m  \u001b[1;36m1.000621\u001b[0m \u001b[1;36m-1.166557\u001b[0m \u001b[1;36m-0.794625\u001b[0m \u001b[1;36m-0.422692\u001b[0m   \n",
       "gds_fast         \u001b[1;36m806.0\u001b[0m \u001b[1;36m-2.644700e-17\u001b[0m  \u001b[1;36m1.000621\u001b[0m \u001b[1;36m-0.199175\u001b[0m \u001b[1;36m-0.199175\u001b[0m \u001b[1;36m-0.199175\u001b[0m   \n",
       "eva_ing          \u001b[1;36m806.0\u001b[0m  \u001b[1;36m0.000000e+00\u001b[0m  \u001b[1;36m1.000621\u001b[0m \u001b[1;36m-0.320407\u001b[0m \u001b[1;36m-0.320407\u001b[0m \u001b[1;36m-0.320407\u001b[0m   \n",
       "tiene_sedacion   \u001b[1;36m806.0\u001b[0m \u001b[1;36m-4.407833e-18\u001b[0m  \u001b[1;36m1.000621\u001b[0m \u001b[1;36m-0.668609\u001b[0m \u001b[1;36m-0.668609\u001b[0m \u001b[1;36m-0.668609\u001b[0m   \n",
       "morfina          \u001b[1;36m806.0\u001b[0m \u001b[1;36m-7.052533e-17\u001b[0m  \u001b[1;36m1.000621\u001b[0m \u001b[1;36m-0.222439\u001b[0m \u001b[1;36m-0.222439\u001b[0m \u001b[1;36m-0.222439\u001b[0m   \n",
       "midazolam        \u001b[1;36m806.0\u001b[0m \u001b[1;36m-7.052533e-17\u001b[0m  \u001b[1;36m1.000621\u001b[0m \u001b[1;36m-0.222439\u001b[0m \u001b[1;36m-0.222439\u001b[0m \u001b[1;36m-0.222439\u001b[0m   \n",
       "buscapina        \u001b[1;36m806.0\u001b[0m \u001b[1;36m-3.526267e-17\u001b[0m  \u001b[1;36m1.000621\u001b[0m \u001b[1;36m-0.213062\u001b[0m \u001b[1;36m-0.213062\u001b[0m \u001b[1;36m-0.213062\u001b[0m   \n",
       "haloperidol      \u001b[1;36m806.0\u001b[0m \u001b[1;36m-4.407833e-17\u001b[0m  \u001b[1;36m1.000621\u001b[0m \u001b[1;36m-0.112084\u001b[0m \u001b[1;36m-0.112084\u001b[0m \u001b[1;36m-0.112084\u001b[0m   \n",
       "levomepromazina  \u001b[1;36m806.0\u001b[0m  \u001b[1;36m1.763133e-17\u001b[0m  \u001b[1;36m1.000621\u001b[0m \u001b[1;36m-0.070622\u001b[0m \u001b[1;36m-0.070622\u001b[0m \u001b[1;36m-0.070622\u001b[0m   \n",
       "year             \u001b[1;36m806.0\u001b[0m  \u001b[1;36m6.100441e-14\u001b[0m  \u001b[1;36m1.000621\u001b[0m \u001b[1;36m-1.421852\u001b[0m \u001b[1;36m-0.849132\u001b[0m  \u001b[1;36m0.296308\u001b[0m   \n",
       "\n",
       "                      \u001b[1;36m75\u001b[0m%        max  \n",
       "n_estancias      \u001b[1;36m0.228836\u001b[0m   \u001b[1;36m6.842884\u001b[0m  \n",
       "n_visitas        \u001b[1;36m0.168538\u001b[0m   \u001b[1;36m7.769775\u001b[0m  \n",
       "ps_ecog          \u001b[1;36m0.504330\u001b[0m   \u001b[1;36m0.504330\u001b[0m  \n",
       "barthel          \u001b[1;36m0.693105\u001b[0m   \u001b[1;36m2.552767\u001b[0m  \n",
       "gds_fast        \u001b[1;36m-0.199175\u001b[0m   \u001b[1;36m6.570370\u001b[0m  \n",
       "eva_ing         \u001b[1;36m-0.320407\u001b[0m   \u001b[1;36m4.598606\u001b[0m  \n",
       "tiene_sedacion   \u001b[1;36m1.495643\u001b[0m   \u001b[1;36m1.495643\u001b[0m  \n",
       "morfina         \u001b[1;36m-0.222439\u001b[0m   \u001b[1;36m4.495612\u001b[0m  \n",
       "midazolam       \u001b[1;36m-0.222439\u001b[0m   \u001b[1;36m4.495612\u001b[0m  \n",
       "buscapina       \u001b[1;36m-0.213062\u001b[0m   \u001b[1;36m4.693460\u001b[0m  \n",
       "haloperidol     \u001b[1;36m-0.112084\u001b[0m   \u001b[1;36m8.921883\u001b[0m  \n",
       "levomepromazina \u001b[1;36m-0.070622\u001b[0m  \u001b[1;36m14.159802\u001b[0m  \n",
       "year             \u001b[1;36m0.869028\u001b[0m   \u001b[1;36m1.441748\u001b[0m  "
      ]
     },
     "execution_count": 54,
     "metadata": {},
     "output_type": "execute_result"
    }
   ],
   "source": [
    "df_cancer_num.describe().T"
   ]
  },
  {
   "cell_type": "markdown",
   "metadata": {},
   "source": [
    "<hr>\n",
    "\n",
    "# Verificar si hay errores en los datos y corregirlos:\n",
    "Durante el análisis exploratorio de datos (EDA), presta atención a las distribuciones y valores atípicos. Si encuentras errores, corrige los datos según sea necesario."
   ]
  },
  {
   "cell_type": "code",
   "execution_count": null,
   "metadata": {},
   "outputs": [],
   "source": []
  },
  {
   "cell_type": "markdown",
   "metadata": {},
   "source": [
    "<hr>\n",
    "\n",
    "# Comprobar si hay duplicados y decidir cómo tratarlos:\n",
    "Puedes utilizar la función duplicated() de pandas para encontrar registros duplicados y la función drop_duplicates() para eliminarlos. Aquí tienes un ejemplo de cómo eliminar duplicados:"
   ]
  },
  {
   "cell_type": "code",
   "execution_count": 55,
   "metadata": {},
   "outputs": [],
   "source": [
    "df.drop_duplicates(inplace=True)"
   ]
  },
  {
   "cell_type": "code",
   "execution_count": null,
   "metadata": {},
   "outputs": [],
   "source": []
  }
 ],
 "metadata": {
  "kernelspec": {
   "display_name": "nuevo_entorno_kedro",
   "language": "python",
   "name": "python3"
  },
  "language_info": {
   "codemirror_mode": {
    "name": "ipython",
    "version": 3
   },
   "file_extension": ".py",
   "mimetype": "text/x-python",
   "name": "python",
   "nbconvert_exporter": "python",
   "pygments_lexer": "ipython3",
   "version": "3.10.0"
  },
  "orig_nbformat": 4
 },
 "nbformat": 4,
 "nbformat_minor": 2
}
