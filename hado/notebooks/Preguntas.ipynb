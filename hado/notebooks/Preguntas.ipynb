{
 "cells": [
  {
   "cell_type": "markdown",
   "metadata": {},
   "source": [
    "# Preguntas\n",
    "\n",
    "## 0.¿Qué os gustaría tener como herramienta para HADO desde la perspectiva de Data Science?\n",
    "\n",
    "Quiero saber que herramienta necesitais o como queréis trabajar los datos que he recibido\n",
    "\n",
    "## 1.¿Que diagnosticos y otras columnas nos interesa agrupar?\n",
    "- Cancer > words ['ca', 'cancer', 'cnaer' ...]\n",
    "- Ictus\n",
    "- Infección > word ['infec', 'infeccion', 'inf' ...]\n",
    "- icc??\n",
    "\n",
    ">He realizado clustering con diferentes resultados para diagnóstico\n",
    "\n",
    "Actualmente dispongo de diccionarios para categorias:\n",
    "```python\n",
    "hospital_categories:\n",
    "  Santiago: ['gil casares', 'clinico', 'provincial', 'conxo', 'rosaleda', 'residencia', 'ap']\n",
    "  'no': ['no']\n",
    "  Otros: ['si', 'hula', 'salnes', 'chuac', 'rosaleda', 'pontevedra', 'lucus augusti', 'quiron la coruna','san rafael la coruna']\n",
    "\n",
    "diagnosis_categories:\n",
    "  Cardiacas: [\"cardiaca\", \"corazon\", \"miocardio\", \"arritmia\", \"insuficiencia cardiaca\", \"endocarditis\"]\n",
    "  Pulmonares y respiratorias: [\"pulmon\", \"neumonia\", \"broncoaspiracion\", \"bronquiectasias\", \"fibrosis pulmonar\", \"insuficiencia respiratoria\"]\n",
    "  Neurologicas: [\"demencia\", \"ela\", \"acv\", \"encefalopatia\", \"glioblastoma\"]\n",
    "  Hepaticas y pancreaticas: [\"cirrosis\", \"hepatocarcinoma\", \"colangitis\", \"colangiocarcinoma\", \"pancreas\"]\n",
    "  Renales y urinarias: [\"ITU\", \"infeccion urinaria\", \"pielonefritis\", \"prostatitis\", \"renal\"]\n",
    "  Canceres y neoplasias: [\"cancer\", \"tumor\", \"glioblastoma\", \"linfoma\", \"mieloma\", \"carcinoma\", \"neoplasia\", \"hepatocarcinoma\", \"colangiocarcinoma\"]\n",
    "  Hematologicas: [\"anemia\", \"linfoma\", \"mieloma\", \"leucemia\", \"sindrome mielodisplasico\"]\n",
    "  Infecciones: [\"infeccion\", \"sepsis\", \"bacteriemia\", \"bronquiectasias infectadas\", \"endocarditis\", \"pielonefritis\", \"prostatitis\", \"diverticulitis\", \"celulitis\"]\n",
    "  Musculoesqueléticas y de piel: [\"amputacion\", \"ulcera\", \"fractura\"]\n",
    "\n",
    "\n",
    "ingreso_categories:\n",
    "  Sintomas: [\"sintoma\", \"dolor\", \"disnea\", \"nauseas\", \"fiebre\", \"malestar\"]\n",
    "  Tratamientos: [\"tratamiento\", \"antibiotico\", \"quimioterapia\", \"radioterapia\", \"terapia\", \"medicacion\"]\n",
    "  Evaluaciones: [\"evaluacion\", \"valoracion\", \"control\", \"revision\", \"seguimiento\"]\n",
    "\n",
    "alta_categories:\n",
    "  Recuperacion: [\"mejoria\", \"recuperado\", \"alta voluntaria\", \"traslado\"]\n",
    "  Tratamiento completado: [\"tratamiento finalizado\", \"medicación completada\"]\n",
    "  Complicaciones: [\"complicaciones\", \"reingreso\"]\n",
    "  Exitus: [\"exitus\", \"fallecido\", \"muerte\"]\n",
    "\n",
    "procedencia_categories:\n",
    "  Oncologia: [\"oncologia\"]\n",
    "  Urgencias: [\"urgencias\"]\n",
    "  MIR: [\"mir\"]\n",
    "  Unidad Paliativos: [\"upal\"]\n",
    "  Neumologia: [\"neumologia\"]\n",
    "  Digestivo: [\"digestivo\"]\n",
    "  Hematologia: [\"hematologia\"]\n",
    "  Cardiologia: [\"cgd\", \"cardiologia\"]\n",
    "  Neurologia: [\"neurologia\"]\n",
    "# ¿Qué es ACV?\n",
    "\n",
    "otros_categories:\n",
    "  Especialidades Medicas: [\"nefrologia\", \"oncologia\", \"cardiologia\", \"neumologia\", \"urologia\", \"digestivo\", \"vascular\"]\n",
    "  No especificado: [\"no\", \"ncr\"]\n",
    "\n",
    "# categorize_and_group_combined_otros parameters\n",
    "\n",
    "combined_otros_categories:\n",
    "  Sintomas generales: [\"nauseas\", \"vomitos\", \"agitacion\", \"insomnio\", \"diarrea\", \"ansiedad\", \"dolor\", \"fiebre\"]\n",
    "  Complicaciones: [\"infeccion respiratoria\", \"insuficiencia respiratoria\", \"retencion urinaria\", \"hematuria\", \"broncoaspiracion\", \"sepsis\", \"acv\"]\n",
    "  Condiciones relacionadas con la familia o el entorno: [\"claudicacion familiar\", \"residencia\"]\n",
    "  Desconocido/No especificado: [\"no\", \"ncr\", \"desconocido\"]\n",
    "    \n",
    "combined_otros_columns:\n",
    "  - otros\n",
    "  - otros_1\n",
    "  - otros_2\n",
    "  - otros_complicaciones\n",
    "  ```\n",
    "\n",
    "## 2. Valores NA\n",
    "\n",
    "¿Cómo deberíamos tratar estos valores?\n",
    "```python\n",
    "replacement_dict_na:\n",
    "  \n",
    "  desconocido: ['diagnostico', 'motivo_ing', 'motivo_alta', 'medico', 'sedacion', 'ayuntamiento', 'otros_2']\n",
    "  'no': ['h_procedencia', 'otros', 'otros_1', 'otros_complicaciones']\n",
    "\n",
    "  vacio: ['fe_iv', 'toracocentesis', 'paracentesis', 'transfusion', 'trato_antibiotico', 'cronico_reag', 'agudo_estable', 'ast_anorx', 'agonia', 'p_terminal', 'delirium', 'dolor', 'disnea', 'fiebre', 'paliativo_no_onc_noc', 'paliativo_onc_noc', 'ap', 'fecha_alta']\n",
    "  \n",
    "  '0': ['gds_fast', 'eva_ing', 'barthel', 'ps_ecog']\n",
    "```\n",
    "\n",
    "## 3. Gestión de la alta cardinalidad:\n",
    "Actualmente me baso en las categorias para no coger las columnas con muchos valores diferentes y aplico un map\n",
    "```python\n",
    "# For the maps and encoding\n",
    "hospital_category_map:\n",
    "  \"no\": 0\n",
    "  Santiago: 1\n",
    "  Otros: 2\n",
    "\n",
    "diagnosis_category_map:\n",
    "  Canceres: 0\n",
    "  Enfermedades Cardiacas: 1\n",
    "  Infecciones: 2\n",
    "  Otros: 3\n",
    "\n",
    "ingreso_category_map:\n",
    "  Tratamientos: 0\n",
    "  Evaluaciones: 1\n",
    "  Sintomas: 2\n",
    "  Otros: 3\n",
    "\n",
    "alta_category_map:\n",
    "  Exitus: 0\n",
    "  Recuperacion: 1\n",
    "  Complicaciones: 2\n",
    "  Otros: 3\n",
    "\n",
    "procedencia_category_map:\n",
    "  Urgencias: 0\n",
    "  Oncologia: 1\n",
    "  MIR: 2\n",
    "  Otros: 3\n",
    "\n",
    "otros_category_map:\n",
    "  Especialidades Medicas: 0\n",
    "  No especificado: 1\n",
    "  Otros: 2\n",
    "\n",
    "categorized_combined_otros_map:\n",
    "  Condiciones relacionadas con la familia o el entorno: 0\n",
    "  Sintomas generales: 1\n",
    "  Desconocido/No especificado: 2\n",
    "  Complicaciones: 3\n",
    "  Otros: 4\n",
    "```\n",
    "    - One-hot encoding, ordinal encoding, binarty encoding, labelEncoder...\n",
    "\n",
    "## 4. Correlación entre las variables:\n",
    "\n",
    "¿Qué variables deberíamos poner el foco?\n",
    "\n",
    "Mis análisis de correlación y modelado contemplan:\n",
    "\n",
    "> La multicolinealidad puede ser un problema para algunos algoritmos de aprendizaje automático, ya que pueden sobreajustar a las variables correlacionadas. Considerar el análisis de componentes principales (PCA) para reducir la dimensionalidad, o simplemente eliminar algunas de las características correlacionadas.\n",
    "\n",
    "## 5.Manejo de desequilibrio de clases: \n",
    "    - Muchas de las variables son muy desequilibradas. Para las variables de destino, esto puede ser un problema porque puede sesgar el modelo hacia la clase mayoritaria. Pueden considerarse técnicas de submuestreo, sobremuestreo, o la combinación de ambas (SMOTE) para tratar con este problema.\n",
    "\n",
    "## 6.¿Existencia de duplicados?\n",
    "\n",
    "Por lo que veo hay 4 duplicados en base a los datos ¿Esto podrían ser pacientes repetidos?"
   ]
  },
  {
   "cell_type": "code",
   "execution_count": 1,
   "metadata": {},
   "outputs": [
    {
     "data": {
      "text/html": [
       "<pre style=\"white-space:pre;overflow-x:auto;line-height:normal;font-family:Menlo,'DejaVu Sans Mono',consolas,'Courier New',monospace\"><span style=\"color: #7fbfbf; text-decoration-color: #7fbfbf\">[09/07/23 02:01:12] </span><span style=\"color: #000080; text-decoration-color: #000080\">INFO    </span> Resolved project path as: c:\\Users\\Pablo                               <span style=\"color: #7f7f7f; text-decoration-color: #7f7f7f\">__init__.py:136</span>\n",
       "<span style=\"color: #7fbfbf; text-decoration-color: #7fbfbf\">                    </span>         Villar\\Desktop\\CURSOS\\KSchool\\Máster en Data                           <span style=\"color: #7f7f7f; text-decoration-color: #7f7f7f\">               </span>\n",
       "<span style=\"color: #7fbfbf; text-decoration-color: #7fbfbf\">                    </span>         Science\\TFM\\nuevo_entorno_kedro\\hado.                                  <span style=\"color: #7f7f7f; text-decoration-color: #7f7f7f\">               </span>\n",
       "<span style=\"color: #7fbfbf; text-decoration-color: #7fbfbf\">                    </span>         To set a different path, run <span style=\"color: #008000; text-decoration-color: #008000\">'%reload_kedro &lt;project_root&gt;'</span>            <span style=\"color: #7f7f7f; text-decoration-color: #7f7f7f\">               </span>\n",
       "</pre>\n"
      ],
      "text/plain": [
       "\u001b[2;36m[09/07/23 02:01:12]\u001b[0m\u001b[2;36m \u001b[0m\u001b[34mINFO    \u001b[0m Resolved project path as: c:\\Users\\Pablo                               \u001b[2m__init__.py\u001b[0m\u001b[2m:\u001b[0m\u001b[2m136\u001b[0m\n",
       "\u001b[2;36m                    \u001b[0m         Villar\\Desktop\\CURSOS\\KSchool\\Máster en Data                           \u001b[2m               \u001b[0m\n",
       "\u001b[2;36m                    \u001b[0m         Science\\TFM\\nuevo_entorno_kedro\\hado.                                  \u001b[2m               \u001b[0m\n",
       "\u001b[2;36m                    \u001b[0m         To set a different path, run \u001b[32m'%reload_kedro \u001b[0m\u001b[32m<\u001b[0m\u001b[32mproject_root\u001b[0m\u001b[32m>\u001b[0m\u001b[32m'\u001b[0m            \u001b[2m               \u001b[0m\n"
      ]
     },
     "metadata": {},
     "output_type": "display_data"
    },
    {
     "data": {
      "text/html": [
       "<pre style=\"white-space:pre;overflow-x:auto;line-height:normal;font-family:Menlo,'DejaVu Sans Mono',consolas,'Courier New',monospace\"><span style=\"color: #7fbfbf; text-decoration-color: #7fbfbf\">[09/07/23 02:01:13] </span><span style=\"color: #800000; text-decoration-color: #800000\">WARNING </span> C:\\Users\\Pablo                                                         <span style=\"color: #7f7f7f; text-decoration-color: #7f7f7f\">warnings.py:109</span>\n",
       "<span style=\"color: #7fbfbf; text-decoration-color: #7fbfbf\">                    </span>         Villar\\AppData\\Local\\Programs\\Python\\Python310\\lib\\importlib\\__init__. <span style=\"color: #7f7f7f; text-decoration-color: #7f7f7f\">               </span>\n",
       "<span style=\"color: #7fbfbf; text-decoration-color: #7fbfbf\">                    </span>         py:<span style=\"color: #008080; text-decoration-color: #008080; font-weight: bold\">126</span>: DeprecationWarning: `kedro.extras.datasets` is deprecated and  <span style=\"color: #7f7f7f; text-decoration-color: #7f7f7f\">               </span>\n",
       "<span style=\"color: #7fbfbf; text-decoration-color: #7fbfbf\">                    </span>         will be removed in Kedro <span style=\"color: #008080; text-decoration-color: #008080; font-weight: bold\">0.19</span>, install `kedro-datasets` instead by     <span style=\"color: #7f7f7f; text-decoration-color: #7f7f7f\">               </span>\n",
       "<span style=\"color: #7fbfbf; text-decoration-color: #7fbfbf\">                    </span>         running `pip install kedro-datasets`.                                  <span style=\"color: #7f7f7f; text-decoration-color: #7f7f7f\">               </span>\n",
       "<span style=\"color: #7fbfbf; text-decoration-color: #7fbfbf\">                    </span>           return <span style=\"color: #800080; text-decoration-color: #800080; font-weight: bold\">_bootstrap._gcd_import</span><span style=\"font-weight: bold\">(</span>name<span style=\"font-weight: bold\">[</span>level:<span style=\"font-weight: bold\">]</span>, package, level<span style=\"font-weight: bold\">)</span>          <span style=\"color: #7f7f7f; text-decoration-color: #7f7f7f\">               </span>\n",
       "<span style=\"color: #7fbfbf; text-decoration-color: #7fbfbf\">                    </span>                                                                                <span style=\"color: #7f7f7f; text-decoration-color: #7f7f7f\">               </span>\n",
       "</pre>\n"
      ],
      "text/plain": [
       "\u001b[2;36m[09/07/23 02:01:13]\u001b[0m\u001b[2;36m \u001b[0m\u001b[31mWARNING \u001b[0m C:\\Users\\Pablo                                                         \u001b[2mwarnings.py\u001b[0m\u001b[2m:\u001b[0m\u001b[2m109\u001b[0m\n",
       "\u001b[2;36m                    \u001b[0m         Villar\\AppData\\Local\\Programs\\Python\\Python310\\lib\\importlib\\__init__. \u001b[2m               \u001b[0m\n",
       "\u001b[2;36m                    \u001b[0m         py:\u001b[1;36m126\u001b[0m: DeprecationWarning: `kedro.extras.datasets` is deprecated and  \u001b[2m               \u001b[0m\n",
       "\u001b[2;36m                    \u001b[0m         will be removed in Kedro \u001b[1;36m0.19\u001b[0m, install `kedro-datasets` instead by     \u001b[2m               \u001b[0m\n",
       "\u001b[2;36m                    \u001b[0m         running `pip install kedro-datasets`.                                  \u001b[2m               \u001b[0m\n",
       "\u001b[2;36m                    \u001b[0m           return \u001b[1;35m_bootstrap._gcd_import\u001b[0m\u001b[1m(\u001b[0mname\u001b[1m[\u001b[0mlevel:\u001b[1m]\u001b[0m, package, level\u001b[1m)\u001b[0m          \u001b[2m               \u001b[0m\n",
       "\u001b[2;36m                    \u001b[0m                                                                                \u001b[2m               \u001b[0m\n"
      ]
     },
     "metadata": {},
     "output_type": "display_data"
    },
    {
     "data": {
      "text/html": [
       "<pre style=\"white-space:pre;overflow-x:auto;line-height:normal;font-family:Menlo,'DejaVu Sans Mono',consolas,'Courier New',monospace\"><span style=\"color: #7fbfbf; text-decoration-color: #7fbfbf\">[09/07/23 02:01:14] </span><span style=\"color: #800000; text-decoration-color: #800000\">WARNING </span> Failed to send data to Heap. Exception of type <span style=\"color: #008000; text-decoration-color: #008000\">'ConnectionError'</span> was     <span style=\"color: #7f7f7f; text-decoration-color: #7f7f7f\">plugin.py:219</span>\n",
       "<span style=\"color: #7fbfbf; text-decoration-color: #7fbfbf\">                    </span>         raised.                                                                  <span style=\"color: #7f7f7f; text-decoration-color: #7f7f7f\">             </span>\n",
       "</pre>\n"
      ],
      "text/plain": [
       "\u001b[2;36m[09/07/23 02:01:14]\u001b[0m\u001b[2;36m \u001b[0m\u001b[31mWARNING \u001b[0m Failed to send data to Heap. Exception of type \u001b[32m'ConnectionError'\u001b[0m was     \u001b[2mplugin.py\u001b[0m\u001b[2m:\u001b[0m\u001b[2m219\u001b[0m\n",
       "\u001b[2;36m                    \u001b[0m         raised.                                                                  \u001b[2m             \u001b[0m\n"
      ]
     },
     "metadata": {},
     "output_type": "display_data"
    },
    {
     "data": {
      "text/html": [
       "<pre style=\"white-space:pre;overflow-x:auto;line-height:normal;font-family:Menlo,'DejaVu Sans Mono',consolas,'Courier New',monospace\"><span style=\"color: #7fbfbf; text-decoration-color: #7fbfbf\">                    </span><span style=\"color: #000080; text-decoration-color: #000080\">INFO    </span> Kedro project hado                                                     <span style=\"color: #7f7f7f; text-decoration-color: #7f7f7f\">__init__.py:105</span>\n",
       "</pre>\n"
      ],
      "text/plain": [
       "\u001b[2;36m                   \u001b[0m\u001b[2;36m \u001b[0m\u001b[34mINFO    \u001b[0m Kedro project hado                                                     \u001b[2m__init__.py\u001b[0m\u001b[2m:\u001b[0m\u001b[2m105\u001b[0m\n"
      ]
     },
     "metadata": {},
     "output_type": "display_data"
    },
    {
     "data": {
      "text/html": [
       "<pre style=\"white-space:pre;overflow-x:auto;line-height:normal;font-family:Menlo,'DejaVu Sans Mono',consolas,'Courier New',monospace\"><span style=\"color: #7fbfbf; text-decoration-color: #7fbfbf\">                    </span><span style=\"color: #000080; text-decoration-color: #000080\">INFO    </span> Defined global variable <span style=\"color: #008000; text-decoration-color: #008000\">'context'</span>, <span style=\"color: #008000; text-decoration-color: #008000\">'session'</span>, <span style=\"color: #008000; text-decoration-color: #008000\">'catalog'</span> and            <span style=\"color: #7f7f7f; text-decoration-color: #7f7f7f\">__init__.py:106</span>\n",
       "<span style=\"color: #7fbfbf; text-decoration-color: #7fbfbf\">                    </span>         <span style=\"color: #008000; text-decoration-color: #008000\">'pipelines'</span>                                                            <span style=\"color: #7f7f7f; text-decoration-color: #7f7f7f\">               </span>\n",
       "</pre>\n"
      ],
      "text/plain": [
       "\u001b[2;36m                   \u001b[0m\u001b[2;36m \u001b[0m\u001b[34mINFO    \u001b[0m Defined global variable \u001b[32m'context'\u001b[0m, \u001b[32m'session'\u001b[0m, \u001b[32m'catalog'\u001b[0m and            \u001b[2m__init__.py\u001b[0m\u001b[2m:\u001b[0m\u001b[2m106\u001b[0m\n",
       "\u001b[2;36m                    \u001b[0m         \u001b[32m'pipelines'\u001b[0m                                                            \u001b[2m               \u001b[0m\n"
      ]
     },
     "metadata": {},
     "output_type": "display_data"
    },
    {
     "data": {
      "text/html": [
       "<pre style=\"white-space:pre;overflow-x:auto;line-height:normal;font-family:Menlo,'DejaVu Sans Mono',consolas,'Courier New',monospace\"><span style=\"color: #7fbfbf; text-decoration-color: #7fbfbf\">[09/07/23 02:01:15] </span><span style=\"color: #000080; text-decoration-color: #000080\">INFO    </span> Registered line magic <span style=\"color: #008000; text-decoration-color: #008000\">'run_viz'</span>                                        <span style=\"color: #7f7f7f; text-decoration-color: #7f7f7f\">__init__.py:112</span>\n",
       "</pre>\n"
      ],
      "text/plain": [
       "\u001b[2;36m[09/07/23 02:01:15]\u001b[0m\u001b[2;36m \u001b[0m\u001b[34mINFO    \u001b[0m Registered line magic \u001b[32m'run_viz'\u001b[0m                                        \u001b[2m__init__.py\u001b[0m\u001b[2m:\u001b[0m\u001b[2m112\u001b[0m\n"
      ]
     },
     "metadata": {},
     "output_type": "display_data"
    }
   ],
   "source": [
    "%load_ext kedro.ipython"
   ]
  },
  {
   "cell_type": "code",
   "execution_count": 3,
   "metadata": {},
   "outputs": [
    {
     "data": {
      "text/html": [
       "<pre style=\"white-space:pre;overflow-x:auto;line-height:normal;font-family:Menlo,'DejaVu Sans Mono',consolas,'Courier New',monospace\"><span style=\"color: #7fbfbf; text-decoration-color: #7fbfbf\">[09/07/23 02:01:56] </span><span style=\"color: #000080; text-decoration-color: #000080\">INFO    </span> Loading data from <span style=\"color: #008000; text-decoration-color: #008000\">'hado_final'</span> <span style=\"font-weight: bold\">(</span>CSVDataSet<span style=\"font-weight: bold\">)</span><span style=\"color: #808000; text-decoration-color: #808000\">...</span>                     <span style=\"color: #7f7f7f; text-decoration-color: #7f7f7f\">data_catalog.py:345</span>\n",
       "</pre>\n"
      ],
      "text/plain": [
       "\u001b[2;36m[09/07/23 02:01:56]\u001b[0m\u001b[2;36m \u001b[0m\u001b[34mINFO    \u001b[0m Loading data from \u001b[32m'hado_final'\u001b[0m \u001b[1m(\u001b[0mCSVDataSet\u001b[1m)\u001b[0m\u001b[33m...\u001b[0m                     \u001b[2mdata_catalog.py\u001b[0m\u001b[2m:\u001b[0m\u001b[2m345\u001b[0m\n"
      ]
     },
     "metadata": {},
     "output_type": "display_data"
    },
    {
     "data": {
      "text/plain": [
       "100"
      ]
     },
     "execution_count": 3,
     "metadata": {},
     "output_type": "execute_result"
    }
   ],
   "source": [
    "df = catalog.load('hado_final')\n",
    "df[\"s_procedencia\"].nunique()"
   ]
  },
  {
   "cell_type": "code",
   "execution_count": 10,
   "metadata": {},
   "outputs": [
    {
     "data": {
      "text/plain": [
       "no                1225\n",
       "oncologia          538\n",
       "mir                483\n",
       "urgencias          415\n",
       "upal               208\n",
       "neumologia         176\n",
       "digestivo          143\n",
       "acv                114\n",
       "hematologia         98\n",
       "cgd                 53\n",
       "cardiologia         41\n",
       "neurologia          39\n",
       "mir provincial      38\n",
       "ncr                 34\n",
       "umap                30\n",
       "nefrologia          29\n",
       "Name: s_procedencia, dtype: int64"
      ]
     },
     "execution_count": 10,
     "metadata": {},
     "output_type": "execute_result"
    }
   ],
   "source": [
    "serv = df[\"s_procedencia\"].value_counts()\n",
    "serv.head(16)"
   ]
  },
  {
   "cell_type": "code",
   "execution_count": 7,
   "metadata": {},
   "outputs": [
    {
     "data": {
      "text/plain": [
       "['acv',\n",
       " 'angiologia',\n",
       " 'anr',\n",
       " 'ap',\n",
       " 'cardiologia',\n",
       " 'cgd',\n",
       " 'cgdurg',\n",
       " 'cirugia cardiaca',\n",
       " 'cirugia cardiologia',\n",
       " 'cirugia general',\n",
       " 'cirugia maxilofacial',\n",
       " 'cirugia plastica',\n",
       " 'cirugia toracica',\n",
       " 'cirugia vascular',\n",
       " 'clp',\n",
       " 'consulta ela multidisciplinar',\n",
       " 'consulta hipertension',\n",
       " 'consulta mir',\n",
       " 'consultas externas cirugia plastica',\n",
       " 'consultas externas digestivo',\n",
       " 'consultas externas mir',\n",
       " 'consultas externas neumologia',\n",
       " 'consultas externas oncologia',\n",
       " 'consultas oncologia',\n",
       " 'cot',\n",
       " 'cpr',\n",
       " 'crg',\n",
       " 'der',\n",
       " 'diagestivo',\n",
       " 'digestivo',\n",
       " 'eif',\n",
       " 'eif  mir',\n",
       " 'eif mir',\n",
       " 'endocrinologia',\n",
       " 'enfermedad infecciosas',\n",
       " 'ginecologia',\n",
       " 'hado',\n",
       " 'hdd neumologia',\n",
       " 'hematologia',\n",
       " 'hematologia urgencias',\n",
       " 'hepatologia',\n",
       " 'hospital de dia',\n",
       " 'infecciosas',\n",
       " 'maxilofacial',\n",
       " 'medicina interna',\n",
       " 'mir',\n",
       " 'mir conxo',\n",
       " 'mir gil',\n",
       " 'mir gil casares no',\n",
       " 'mir infecciosas',\n",
       " 'mir p',\n",
       " 'mir p consultas externas',\n",
       " 'mir provincial',\n",
       " 'mirap protocolo hierro en domicilio',\n",
       " 'mirc',\n",
       " 'mireif',\n",
       " 'mirg',\n",
       " 'mirhp',\n",
       " 'mirlugo',\n",
       " 'ncr',\n",
       " 'nefrologia',\n",
       " 'neumologia',\n",
       " 'neumologia consultas externas',\n",
       " 'neumologia urgencias',\n",
       " 'neurocirugia',\n",
       " 'neurologia',\n",
       " 'neurologia  consultas externas',\n",
       " 'no',\n",
       " 'nol',\n",
       " 'nutricion',\n",
       " 'oncologia',\n",
       " 'oncologia consultas externas',\n",
       " 'oncologia urgencias',\n",
       " 'orl',\n",
       " 'plastica',\n",
       " 'psqg',\n",
       " 'radioterapia',\n",
       " 'rehabilitacion',\n",
       " 'respiratorio',\n",
       " 'reumatologia',\n",
       " 'si',\n",
       " 'traumatologia',\n",
       " 'u dolor',\n",
       " 'umap',\n",
       " 'umapmir',\n",
       " 'ume',\n",
       " 'unidad ela',\n",
       " 'upal',\n",
       " 'upia',\n",
       " 'urgencias',\n",
       " 'urgencias acv',\n",
       " 'urgencias cirugia',\n",
       " 'urgencias hematologia',\n",
       " 'urgencias neurología',\n",
       " 'urgencias oncologia',\n",
       " 'urgencias traumatologia',\n",
       " 'urologia',\n",
       " 'utab',\n",
       " 'utr',\n",
       " 'vascular']"
      ]
     },
     "execution_count": 7,
     "metadata": {},
     "output_type": "execute_result"
    }
   ],
   "source": [
    "servicios_procedencia = df[\"s_procedencia\"].unique()\n",
    "sorted(servicios_procedencia)"
   ]
  },
  {
   "cell_type": "code",
   "execution_count": null,
   "metadata": {},
   "outputs": [],
   "source": []
  }
 ],
 "metadata": {
  "kernelspec": {
   "display_name": "nuevo_entorno_kedro",
   "language": "python",
   "name": "python3"
  },
  "language_info": {
   "codemirror_mode": {
    "name": "ipython",
    "version": 3
   },
   "file_extension": ".py",
   "mimetype": "text/x-python",
   "name": "python",
   "nbconvert_exporter": "python",
   "pygments_lexer": "ipython3",
   "version": "3.10.0"
  },
  "orig_nbformat": 4
 },
 "nbformat": 4,
 "nbformat_minor": 2
}
