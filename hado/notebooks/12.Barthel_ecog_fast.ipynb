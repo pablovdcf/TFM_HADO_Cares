{
 "cells": [
  {
   "cell_type": "markdown",
   "metadata": {},
   "source": [
    "Notebook 12\n",
    "\n",
    "# Analisys and classification of Barthel, PS_ECOG and GDS_FAST"
   ]
  },
  {
   "cell_type": "code",
   "execution_count": 1,
   "metadata": {},
   "outputs": [],
   "source": [
    "import pandas as pd ; pd.options.display.max_columns = None\n",
    "import numpy as np\n",
    "\n",
    "import matplotlib.pyplot as plt\n",
    "import seaborn as sns"
   ]
  },
  {
   "cell_type": "markdown",
   "metadata": {},
   "source": [
    "# 1.Barthel\n",
    "\n",
    "El índice de Barthel es un instrumento que se utiliza para evaluar el grado de independencia o dependencia de una persona para realizar las actividades básicas de la vida diaria, como comer, vestirse, asearse, usar el retrete, etc. El índice de Barthel mide la capacidad de una persona para realizar 10 actividades básicas, y asigna un puntaje entre 0 y 10 (o 15 en algunos casos) según el nivel de ayuda que necesita el paciente para cada actividad. El puntaje máximo es de 100 puntos (o 90 si usa silla de ruedas), lo que indica una independencia total. El puntaje mínimo es de 0 puntos, lo que indica una dependencia total. Según el puntaje obtenido, se puede clasificar al paciente en diferentes categorías de dependencia, que son las siguientes¹:\n",
    "\n",
    "- Menos de 20 puntos: Dependencia total. El paciente necesita ayuda constante y supervisión para todas las actividades.\n",
    "- Entre 20 y 40 puntos: Dependencia severa. El paciente necesita ayuda importante para la mayoría de las actividades, y solo puede hacer algunas cosas por sí mismo.\n",
    "- Entre 40 y 60 puntos: Dependencia moderada. El paciente necesita ayuda moderada o parcial para algunas actividades, pero puede hacer otras por sí mismo.\n",
    "- Entre 60 y 90 puntos: Dependencia leve o mínima. El paciente necesita ayuda ocasional o puntual para algunas actividades, pero puede hacer la mayor parte por sí mismo.\n",
    "- Entre 90 y 100 puntos: Independencia. El paciente puede hacer todas las actividades por sí mismo, sin necesidad de ayuda.\n",
    "\n",
    "El índice de Barthel es una herramienta útil para valorar la funcionalidad de un paciente, su evolución y su pronóstico, así como para planificar su atención y sus necesidades. También permite comparar el estado funcional de diferentes pacientes con patologías similares o distintas\n",
    "\n",
    "# 2.PS_ECOG\n",
    "\n",
    "Los valores para PS ECOG y su clasificación son los siguientes:\n",
    "\n",
    "- ECOG 0: El paciente se encuentra totalmente asintomático y es capaz de realizar un trabajo y actividades normales de la vida diaria.\n",
    "- ECOG 1: El paciente presenta síntomas que le impiden realizar trabajos arduos, aunque se desempeña normalmente en sus actividades cotidianas y en trabajos ligeros. El paciente sólo permanece en la cama durante las horas de sueño nocturno.\n",
    "- ECOG 2: El paciente no es capaz de desempeñar ningún trabajo, se encuentra con síntomas que le obligan a permanecer en la cama durante varias horas al día, además de las de la noche, pero que no superan el 50% del día. El individuo satisface la mayoría de sus necesidades personales solo.\n",
    "- ECOG 3: El paciente necesita estar encamado más de la mitad del día por la presencia de síntomas. Necesita ayuda para la mayoría de las actividades de la vida diaria como por ejemplo el vestirse.\n",
    "- ECOG 4: El paciente permanece encamado el 100% del día y necesita ayuda para todas las actividades de la vida diaria, como por ejemplo la higiene corporal, la movilización en la cama e incluso la alimentación.\n",
    "- ECOG 5: Fallecido.\n",
    "\n",
    "La escala ECOG es una forma práctica de medir la calidad de vida de un paciente exclusivamente con cáncer u oncológico, cuyas expectativas de vida cambian en el transcurso de meses, semanas e incluso días. Fue diseñada por el Eastern Cooperative Oncology Group (ECOG) de Estados Unidos y validada por la Organización Mundial de la Salud (OMS). Se publicó en 1982 por Oken et al¹. La principal función de esta escala es la de objetivar la calidad de vida del paciente o \"performance status\". La escala ECOG valora la evolución de las capacidades del paciente en su vida diaria manteniendo al máximo su autonomía. Este dato es muy importante cuando se plantea un tratamiento, ya que de esta escala dependerá el protocolo terapéutico y el pronóstico de la enfermedad².\n",
    "\n",
    "# 3.GDS FAST\n",
    "\n",
    "La escala de GDS-FAST es una forma de medir el grado de deterioro cognitivo y funcional de las personas con demencia, especialmente la enfermedad de Alzheimer. La escala de GDS-FAST combina dos escalas: la escala de deterioro global (GDS) y la escala de evaluación funcional (FAST). La escala GDS consta de 7 fases que van desde la normalidad (GDS 1) hasta el deterioro severo (GDS 7). La escala FAST divide las fases 6 y 7 de la GDS en subfases que reflejan la pérdida progresiva de las actividades básicas de la vida diaria. La escala GDS-FAST se basa en la teoría de la retrogénesis, que propone que el deterioro cognitivo y funcional sigue un orden inverso al del desarrollo normal. La escala GDS-FAST tiene como utilidad evaluar la evolución y el pronóstico de los pacientes con demencia, así como decidir el tratamiento y los cuidados más adecuados según su estado. A continuación se muestra la clasificación y los valores de la escala GDS-FAST:\n",
    "\n",
    "| Estadio | Fase clínica | Características FAST | Comentarios |\n",
    "| --- | --- | --- | --- |\n",
    "| GDS 1 | Ausencia de déficit cognitivo | Normal | MEC: 30-35. Ausencia de déficit funcionales objetivos o subjetivos. No hay deterioro cognitivo subjetivo ni objetivo. |\n",
    "| GDS 2 | Déficit cognitivo muy leve | Normal para su edad. Olvido | MEC: 25-30. Déficit funcional subjetivo. Quejas de pérdida de memoria en ubicación de objetos, nombres de personas, citas, etc. No se objetiva déficit en el examen clínico ni en su medio laboral o situaciones sociales. Hay pleno conocimiento y valoración de la sintomatología. |\n",
    "| GDS 3 | Déficit cognitivo leve | Deterioro límite | MEC: 20-27. Déficit en tareas ocupacionales y sociales complejas y que generalmente lo observan familiares y amigos. Primeros defectos claros. Manifestación en una o más de estas áreas: haberse perdido en un lugar no familiar, evidencia de rendimiento laboral pobre, dificultad para recordar palabras y nombres, tras la lectura retiene escaso material, olvida la ubicación, pierde o coloca erróneamente objetos de valor, escasa capacidad para recordar a personas nuevas que ha conocido. El déficit de concentración es evidente para el clínico en una entrevista exhaustiva. La negación como mecanismo de defensa, o el desconocimiento de los defectos, empieza a manifestarse. Los síntomas se acompañan de ansiedad leve moderada. |\n",
    "| GDS 4 | Déficit cognitivo moderado | Enfermedad de Alzheimer leve | MEC: 16-23. Déficits observables en tareas complejas como el control de los aspectos económicos personales o planificación de comidas cuando hay invitados. Defectos manifiestos en: olvido de hechos cotidianos o recientes, déficit en el recuerdo de su historia personal, dificultad de concentración evidente en operaciones de resta de 7 en 7, incapacidad para planificar viajes, finanzas o actividades complejas. Frecuentemente no hay defectos en: orientación en tiempo y persona, reconocimiento de caras y personas familiares, capacidad de viajar a lugares conocidos. Labilidad afectiva. Mecanismo de negación domina el cuadro. |\n",
    "| GDS 5 | Déficit cognitivo moderadamente grave | Enfermedad de Alzheimer moderada | MEC: 10-19. Decremento de la habilidad en escoger la ropa adecuada en cada estación del año o según las ocasiones. Necesita asistencia en determinadas tareas, no en el aseo ni en la comida, pero sí para elegir su ropa. Es incapaz de recordar aspectos importantes de su vida cotidiana (dirección, teléfono, nombres   de familiares). Es frecuente cierta desorientación en tiempo o en lugar. Dificultad para contar en orden inverso desde 40 de 4 en 4, o desde 20 de 2 en 2. Sabe su nombre y generalmente el de su esposa e hijos. |\n",
    "| GDS 6 | Déficit cognitivo grave | Enfermedad de Alzheimer grave | MEC: 0-9. Necesita asistencia en todas las actividades de la vida diaria. Se divide en subfases: 6a) incapacidad para recordar el nombre de su esposa o hijos; 6b) incapacidad para recordar el nombre de su colegio o trabajo; 6c) incapacidad para vestirse sin ayuda; 6d) incapacidad para asearse sin ayuda; 6e) incontinencia urinaria; 6f) incontinencia fecal. |\n",
    "| GDS 7 | Déficit cognitivo muy grave | Enfermedad de Alzheimer terminal | MEC: 0. Pérdida de la capacidad de hablar, caminar y sonreír. Se divide en subfases: 7a) incapacidad para hablar más de seis palabras al día; 7b) incapacidad para hablar más de una palabra al día; 7c) incapacidad para caminar sin ayuda; 7d) incapacidad para sentarse sin ayuda; 7e) incapacidad para sonreír; 7f) incapacidad para mantener la cabeza erguida. |\n"
   ]
  },
  {
   "cell_type": "code",
   "execution_count": 2,
   "metadata": {},
   "outputs": [
    {
     "data": {
      "text/html": [
       "<pre style=\"white-space:pre;overflow-x:auto;line-height:normal;font-family:Menlo,'DejaVu Sans Mono',consolas,'Courier New',monospace\"><span style=\"color: #7fbfbf; text-decoration-color: #7fbfbf\">[10/23/23 23:35:26] </span><span style=\"color: #000080; text-decoration-color: #000080\">INFO    </span> Resolved project path as: c:\\Users\\Pablo                               <span style=\"color: #7f7f7f; text-decoration-color: #7f7f7f\">__init__.py:139</span>\n",
       "<span style=\"color: #7fbfbf; text-decoration-color: #7fbfbf\">                    </span>         Villar\\Desktop\\CURSOS\\KSchool\\Máster en Data                           <span style=\"color: #7f7f7f; text-decoration-color: #7f7f7f\">               </span>\n",
       "<span style=\"color: #7fbfbf; text-decoration-color: #7fbfbf\">                    </span>         Science\\TFM\\nuevo_entorno_kedro\\TFM_HADO_Cares\\hado.                   <span style=\"color: #7f7f7f; text-decoration-color: #7f7f7f\">               </span>\n",
       "<span style=\"color: #7fbfbf; text-decoration-color: #7fbfbf\">                    </span>         To set a different path, run <span style=\"color: #008000; text-decoration-color: #008000\">'%reload_kedro &lt;project_root&gt;'</span>            <span style=\"color: #7f7f7f; text-decoration-color: #7f7f7f\">               </span>\n",
       "</pre>\n"
      ],
      "text/plain": [
       "\u001b[2;36m[10/23/23 23:35:26]\u001b[0m\u001b[2;36m \u001b[0m\u001b[34mINFO    \u001b[0m Resolved project path as: c:\\Users\\Pablo                               \u001b[2m__init__.py\u001b[0m\u001b[2m:\u001b[0m\u001b[2m139\u001b[0m\n",
       "\u001b[2;36m                    \u001b[0m         Villar\\Desktop\\CURSOS\\KSchool\\Máster en Data                           \u001b[2m               \u001b[0m\n",
       "\u001b[2;36m                    \u001b[0m         Science\\TFM\\nuevo_entorno_kedro\\TFM_HADO_Cares\\hado.                   \u001b[2m               \u001b[0m\n",
       "\u001b[2;36m                    \u001b[0m         To set a different path, run \u001b[32m'%reload_kedro \u001b[0m\u001b[32m<\u001b[0m\u001b[32mproject_root\u001b[0m\u001b[32m>\u001b[0m\u001b[32m'\u001b[0m            \u001b[2m               \u001b[0m\n"
      ]
     },
     "metadata": {},
     "output_type": "display_data"
    },
    {
     "data": {
      "text/html": [
       "<pre style=\"white-space:pre;overflow-x:auto;line-height:normal;font-family:Menlo,'DejaVu Sans Mono',consolas,'Courier New',monospace\"><span style=\"color: #7fbfbf; text-decoration-color: #7fbfbf\">[10/23/23 23:35:28] </span><span style=\"color: #800000; text-decoration-color: #800000\">WARNING </span> c:\\Users\\Pablo Villar\\Desktop\\CURSOS\\KSchool\\Máster en Data            <span style=\"color: #7f7f7f; text-decoration-color: #7f7f7f\">warnings.py:109</span>\n",
       "<span style=\"color: #7fbfbf; text-decoration-color: #7fbfbf\">                    </span>         Science\\TFM\\nuevo_entorno_kedro\\TFM_HADO_Cares\\.venv\\lib\\site-packages <span style=\"color: #7f7f7f; text-decoration-color: #7f7f7f\">               </span>\n",
       "<span style=\"color: #7fbfbf; text-decoration-color: #7fbfbf\">                    </span>         \\kedro\\framework\\session\\session.py:<span style=\"color: #008080; text-decoration-color: #008080; font-weight: bold\">266</span>: FutureWarning: ConfigLoader   <span style=\"color: #7f7f7f; text-decoration-color: #7f7f7f\">               </span>\n",
       "<span style=\"color: #7fbfbf; text-decoration-color: #7fbfbf\">                    </span>         will be deprecated in Kedro <span style=\"color: #008080; text-decoration-color: #008080; font-weight: bold\">0.19</span>. Please use the OmegaConfigLoader     <span style=\"color: #7f7f7f; text-decoration-color: #7f7f7f\">               </span>\n",
       "<span style=\"color: #7fbfbf; text-decoration-color: #7fbfbf\">                    </span>         instead. To consult the documentation for OmegaConfigLoader, see here: <span style=\"color: #7f7f7f; text-decoration-color: #7f7f7f\">               </span>\n",
       "<span style=\"color: #7fbfbf; text-decoration-color: #7fbfbf\">                    </span>         <span style=\"color: #0000ff; text-decoration-color: #0000ff; text-decoration: underline\">https://docs.kedro.org/en/stable/configuration/advanced_configuration.</span> <span style=\"color: #7f7f7f; text-decoration-color: #7f7f7f\">               </span>\n",
       "<span style=\"color: #7fbfbf; text-decoration-color: #7fbfbf\">                    </span>         <span style=\"color: #0000ff; text-decoration-color: #0000ff; text-decoration: underline\">html#omegaconfigloader</span>                                                 <span style=\"color: #7f7f7f; text-decoration-color: #7f7f7f\">               </span>\n",
       "<span style=\"color: #7fbfbf; text-decoration-color: #7fbfbf\">                    </span>           <span style=\"color: #800080; text-decoration-color: #800080; font-weight: bold\">warnings.warn</span><span style=\"font-weight: bold\">(</span>                                                       <span style=\"color: #7f7f7f; text-decoration-color: #7f7f7f\">               </span>\n",
       "<span style=\"color: #7fbfbf; text-decoration-color: #7fbfbf\">                    </span>                                                                                <span style=\"color: #7f7f7f; text-decoration-color: #7f7f7f\">               </span>\n",
       "</pre>\n"
      ],
      "text/plain": [
       "\u001b[2;36m[10/23/23 23:35:28]\u001b[0m\u001b[2;36m \u001b[0m\u001b[31mWARNING \u001b[0m c:\\Users\\Pablo Villar\\Desktop\\CURSOS\\KSchool\\Máster en Data            \u001b[2mwarnings.py\u001b[0m\u001b[2m:\u001b[0m\u001b[2m109\u001b[0m\n",
       "\u001b[2;36m                    \u001b[0m         Science\\TFM\\nuevo_entorno_kedro\\TFM_HADO_Cares\\.venv\\lib\\site-packages \u001b[2m               \u001b[0m\n",
       "\u001b[2;36m                    \u001b[0m         \\kedro\\framework\\session\\session.py:\u001b[1;36m266\u001b[0m: FutureWarning: ConfigLoader   \u001b[2m               \u001b[0m\n",
       "\u001b[2;36m                    \u001b[0m         will be deprecated in Kedro \u001b[1;36m0.19\u001b[0m. Please use the OmegaConfigLoader     \u001b[2m               \u001b[0m\n",
       "\u001b[2;36m                    \u001b[0m         instead. To consult the documentation for OmegaConfigLoader, see here: \u001b[2m               \u001b[0m\n",
       "\u001b[2;36m                    \u001b[0m         \u001b[4;94mhttps://docs.kedro.org/en/stable/configuration/advanced_configuration.\u001b[0m \u001b[2m               \u001b[0m\n",
       "\u001b[2;36m                    \u001b[0m         \u001b[4;94mhtml#omegaconfigloader\u001b[0m                                                 \u001b[2m               \u001b[0m\n",
       "\u001b[2;36m                    \u001b[0m           \u001b[1;35mwarnings.warn\u001b[0m\u001b[1m(\u001b[0m                                                       \u001b[2m               \u001b[0m\n",
       "\u001b[2;36m                    \u001b[0m                                                                                \u001b[2m               \u001b[0m\n"
      ]
     },
     "metadata": {},
     "output_type": "display_data"
    },
    {
     "data": {
      "text/html": [
       "<pre style=\"white-space:pre;overflow-x:auto;line-height:normal;font-family:Menlo,'DejaVu Sans Mono',consolas,'Courier New',monospace\"><span style=\"color: #7fbfbf; text-decoration-color: #7fbfbf\">                    </span><span style=\"color: #800000; text-decoration-color: #800000\">WARNING </span> c:\\Users\\Pablo Villar\\Desktop\\CURSOS\\KSchool\\Máster en Data            <span style=\"color: #7f7f7f; text-decoration-color: #7f7f7f\">warnings.py:109</span>\n",
       "<span style=\"color: #7fbfbf; text-decoration-color: #7fbfbf\">                    </span>         Science\\TFM\\nuevo_entorno_kedro\\TFM_HADO_Cares\\.venv\\lib\\site-packages <span style=\"color: #7f7f7f; text-decoration-color: #7f7f7f\">               </span>\n",
       "<span style=\"color: #7fbfbf; text-decoration-color: #7fbfbf\">                    </span>         \\kedro\\io\\data_catalog.py:<span style=\"color: #008080; text-decoration-color: #008080; font-weight: bold\">300</span>: FutureWarning: Defining the <span style=\"color: #008000; text-decoration-color: #008000\">'layer'</span>     <span style=\"color: #7f7f7f; text-decoration-color: #7f7f7f\">               </span>\n",
       "<span style=\"color: #7fbfbf; text-decoration-color: #7fbfbf\">                    </span>         attribute at the top level is deprecated and will be removed in Kedro  <span style=\"color: #7f7f7f; text-decoration-color: #7f7f7f\">               </span>\n",
       "<span style=\"color: #7fbfbf; text-decoration-color: #7fbfbf\">                    </span>         <span style=\"color: #008080; text-decoration-color: #008080; font-weight: bold\">0.19</span>.<span style=\"color: #008080; text-decoration-color: #008080; font-weight: bold\">0</span>. Please move <span style=\"color: #008000; text-decoration-color: #008000\">'layer'</span> inside the <span style=\"color: #008000; text-decoration-color: #008000\">'metadata'</span> -&gt; <span style=\"color: #008000; text-decoration-color: #008000\">'kedro-viz'</span>       <span style=\"color: #7f7f7f; text-decoration-color: #7f7f7f\">               </span>\n",
       "<span style=\"color: #7fbfbf; text-decoration-color: #7fbfbf\">                    </span>         attributes. See                                                        <span style=\"color: #7f7f7f; text-decoration-color: #7f7f7f\">               </span>\n",
       "<span style=\"color: #7fbfbf; text-decoration-color: #7fbfbf\">                    </span>         <span style=\"color: #0000ff; text-decoration-color: #0000ff; text-decoration: underline\">https://docs.kedro.org/en/latest/visualisation/kedro-viz_visualisation</span> <span style=\"color: #7f7f7f; text-decoration-color: #7f7f7f\">               </span>\n",
       "<span style=\"color: #7fbfbf; text-decoration-color: #7fbfbf\">                    </span>         <span style=\"color: #0000ff; text-decoration-color: #0000ff; text-decoration: underline\">.html#visualise-layers</span> for more information.                           <span style=\"color: #7f7f7f; text-decoration-color: #7f7f7f\">               </span>\n",
       "<span style=\"color: #7fbfbf; text-decoration-color: #7fbfbf\">                    </span>           <span style=\"color: #800080; text-decoration-color: #800080; font-weight: bold\">warnings.warn</span><span style=\"font-weight: bold\">(</span>                                                       <span style=\"color: #7f7f7f; text-decoration-color: #7f7f7f\">               </span>\n",
       "<span style=\"color: #7fbfbf; text-decoration-color: #7fbfbf\">                    </span>                                                                                <span style=\"color: #7f7f7f; text-decoration-color: #7f7f7f\">               </span>\n",
       "</pre>\n"
      ],
      "text/plain": [
       "\u001b[2;36m                   \u001b[0m\u001b[2;36m \u001b[0m\u001b[31mWARNING \u001b[0m c:\\Users\\Pablo Villar\\Desktop\\CURSOS\\KSchool\\Máster en Data            \u001b[2mwarnings.py\u001b[0m\u001b[2m:\u001b[0m\u001b[2m109\u001b[0m\n",
       "\u001b[2;36m                    \u001b[0m         Science\\TFM\\nuevo_entorno_kedro\\TFM_HADO_Cares\\.venv\\lib\\site-packages \u001b[2m               \u001b[0m\n",
       "\u001b[2;36m                    \u001b[0m         \\kedro\\io\\data_catalog.py:\u001b[1;36m300\u001b[0m: FutureWarning: Defining the \u001b[32m'layer'\u001b[0m     \u001b[2m               \u001b[0m\n",
       "\u001b[2;36m                    \u001b[0m         attribute at the top level is deprecated and will be removed in Kedro  \u001b[2m               \u001b[0m\n",
       "\u001b[2;36m                    \u001b[0m         \u001b[1;36m0.19\u001b[0m.\u001b[1;36m0\u001b[0m. Please move \u001b[32m'layer'\u001b[0m inside the \u001b[32m'metadata'\u001b[0m -> \u001b[32m'kedro-viz'\u001b[0m       \u001b[2m               \u001b[0m\n",
       "\u001b[2;36m                    \u001b[0m         attributes. See                                                        \u001b[2m               \u001b[0m\n",
       "\u001b[2;36m                    \u001b[0m         \u001b[4;94mhttps://docs.kedro.org/en/latest/visualisation/kedro-viz_visualisation\u001b[0m \u001b[2m               \u001b[0m\n",
       "\u001b[2;36m                    \u001b[0m         \u001b[4;94m.html#visualise-layers\u001b[0m for more information.                           \u001b[2m               \u001b[0m\n",
       "\u001b[2;36m                    \u001b[0m           \u001b[1;35mwarnings.warn\u001b[0m\u001b[1m(\u001b[0m                                                       \u001b[2m               \u001b[0m\n",
       "\u001b[2;36m                    \u001b[0m                                                                                \u001b[2m               \u001b[0m\n"
      ]
     },
     "metadata": {},
     "output_type": "display_data"
    },
    {
     "data": {
      "text/html": [
       "<pre style=\"white-space:pre;overflow-x:auto;line-height:normal;font-family:Menlo,'DejaVu Sans Mono',consolas,'Courier New',monospace\"><span style=\"color: #7fbfbf; text-decoration-color: #7fbfbf\">                    </span><span style=\"color: #000080; text-decoration-color: #000080\">INFO    </span> Kedro project hado                                                     <span style=\"color: #7f7f7f; text-decoration-color: #7f7f7f\">__init__.py:108</span>\n",
       "</pre>\n"
      ],
      "text/plain": [
       "\u001b[2;36m                   \u001b[0m\u001b[2;36m \u001b[0m\u001b[34mINFO    \u001b[0m Kedro project hado                                                     \u001b[2m__init__.py\u001b[0m\u001b[2m:\u001b[0m\u001b[2m108\u001b[0m\n"
      ]
     },
     "metadata": {},
     "output_type": "display_data"
    },
    {
     "data": {
      "text/html": [
       "<pre style=\"white-space:pre;overflow-x:auto;line-height:normal;font-family:Menlo,'DejaVu Sans Mono',consolas,'Courier New',monospace\"><span style=\"color: #7fbfbf; text-decoration-color: #7fbfbf\">                    </span><span style=\"color: #000080; text-decoration-color: #000080\">INFO    </span> Defined global variable <span style=\"color: #008000; text-decoration-color: #008000\">'context'</span>, <span style=\"color: #008000; text-decoration-color: #008000\">'session'</span>, <span style=\"color: #008000; text-decoration-color: #008000\">'catalog'</span> and            <span style=\"color: #7f7f7f; text-decoration-color: #7f7f7f\">__init__.py:109</span>\n",
       "<span style=\"color: #7fbfbf; text-decoration-color: #7fbfbf\">                    </span>         <span style=\"color: #008000; text-decoration-color: #008000\">'pipelines'</span>                                                            <span style=\"color: #7f7f7f; text-decoration-color: #7f7f7f\">               </span>\n",
       "</pre>\n"
      ],
      "text/plain": [
       "\u001b[2;36m                   \u001b[0m\u001b[2;36m \u001b[0m\u001b[34mINFO    \u001b[0m Defined global variable \u001b[32m'context'\u001b[0m, \u001b[32m'session'\u001b[0m, \u001b[32m'catalog'\u001b[0m and            \u001b[2m__init__.py\u001b[0m\u001b[2m:\u001b[0m\u001b[2m109\u001b[0m\n",
       "\u001b[2;36m                    \u001b[0m         \u001b[32m'pipelines'\u001b[0m                                                            \u001b[2m               \u001b[0m\n"
      ]
     },
     "metadata": {},
     "output_type": "display_data"
    },
    {
     "data": {
      "text/html": [
       "<pre style=\"white-space:pre;overflow-x:auto;line-height:normal;font-family:Menlo,'DejaVu Sans Mono',consolas,'Courier New',monospace\"><span style=\"color: #7fbfbf; text-decoration-color: #7fbfbf\">[10/23/23 23:35:29] </span><span style=\"color: #000080; text-decoration-color: #000080\">INFO    </span> Registered line magic <span style=\"color: #008000; text-decoration-color: #008000\">'run_viz'</span>                                        <span style=\"color: #7f7f7f; text-decoration-color: #7f7f7f\">__init__.py:115</span>\n",
       "</pre>\n"
      ],
      "text/plain": [
       "\u001b[2;36m[10/23/23 23:35:29]\u001b[0m\u001b[2;36m \u001b[0m\u001b[34mINFO    \u001b[0m Registered line magic \u001b[32m'run_viz'\u001b[0m                                        \u001b[2m__init__.py\u001b[0m\u001b[2m:\u001b[0m\u001b[2m115\u001b[0m\n"
      ]
     },
     "metadata": {},
     "output_type": "display_data"
    }
   ],
   "source": [
    "%load_ext kedro.ipython"
   ]
  },
  {
   "cell_type": "code",
   "execution_count": 3,
   "metadata": {},
   "outputs": [
    {
     "data": {
      "text/html": [
       "<pre style=\"white-space:pre;overflow-x:auto;line-height:normal;font-family:Menlo,'DejaVu Sans Mono',consolas,'Courier New',monospace\"><span style=\"color: #7fbfbf; text-decoration-color: #7fbfbf\">                    </span><span style=\"color: #000080; text-decoration-color: #000080\">INFO    </span> Loading data from <span style=\"color: #008000; text-decoration-color: #008000\">'hado_clean_na'</span> <span style=\"font-weight: bold\">(</span>CSVDataSet<span style=\"font-weight: bold\">)</span><span style=\"color: #808000; text-decoration-color: #808000\">...</span>                  <span style=\"color: #7f7f7f; text-decoration-color: #7f7f7f\">data_catalog.py:492</span>\n",
       "</pre>\n"
      ],
      "text/plain": [
       "\u001b[2;36m                   \u001b[0m\u001b[2;36m \u001b[0m\u001b[34mINFO    \u001b[0m Loading data from \u001b[32m'hado_clean_na'\u001b[0m \u001b[1m(\u001b[0mCSVDataSet\u001b[1m)\u001b[0m\u001b[33m...\u001b[0m                  \u001b[2mdata_catalog.py\u001b[0m\u001b[2m:\u001b[0m\u001b[2m492\u001b[0m\n"
      ]
     },
     "metadata": {},
     "output_type": "display_data"
    }
   ],
   "source": [
    "df = catalog.load(\"hado_clean_na\")"
   ]
  },
  {
   "cell_type": "code",
   "execution_count": 4,
   "metadata": {},
   "outputs": [
    {
     "name": "stdout",
     "output_type": "stream",
     "text": [
      "['no' '70' '60' '50' '7c' '40' '67' '30' '20' '45' '34' '10' 'n0' 'si'\n",
      " '56' '7a' 'o' 'n5' 'si 5' 'si 4' 'si4' 'si6' 'si7' 'b']\n",
      "['no' '70' '80' '60' '30' '90' '100' '50' '40' '78' '20' '00' '0' '23']\n",
      "['300' 'no' '400' '900' '500' '600' '60' '800' '10' '20' '700' '990'\n",
      " '1000' '40' '50' '30' '200' '70' '80' '4050' '950' '95' 'n20' 'n80'\n",
      " '3040' '90' '5060' '100' '0' '650' '99' '120' '00' '45' 'z30' '35' '980'\n",
      " '450' '250' '850' '350']\n",
      "['40' '34' '10' 'no' '12' '20' '30' '00' '23' 'si' 'nk' '0' '70' 'np'\n",
      " '1000' '410' 'o' 'n23' 'nop']\n"
     ]
    }
   ],
   "source": [
    "columns = [\"gds_fast\", \"eva_ing\", \"barthel\",\"ps_ecog\"]\n",
    "\n",
    "for col in df[columns]:\n",
    "    print(df[col].unique())"
   ]
  },
  {
   "cell_type": "markdown",
   "metadata": {},
   "source": [
    "# 1.Barthel valores\n",
    "\n",
    "Valores como \"1000\", \"800\", \"400\", etc., junto con otros que combinan múltiples números (como \"4050\" o \"3040\"), son claramente inválidos para la escala de Barthel que va de 0 a 100. También hay valores como \"no\", \"00\", \"n20\", y \"z30\" que parecen ser errores de entrada.\n",
    "\n",
    "Para corregir esto, primero necesitamos inspeccionar algunas de estas filas atípicas para entender mejor el contexto y ver si hay alguna pista que nos ayude a corregir estos valores. Vamos a empezar con los valores \"1000\"."
   ]
  },
  {
   "cell_type": "code",
   "execution_count": 5,
   "metadata": {},
   "outputs": [
    {
     "data": {
      "text/html": [
       "<pre style=\"white-space:pre;overflow-x:auto;line-height:normal;font-family:Menlo,'DejaVu Sans Mono',consolas,'Courier New',monospace\"></pre>\n"
      ],
      "text/plain": []
     },
     "metadata": {},
     "output_type": "display_data"
    },
    {
     "data": {
      "text/plain": [
       "\n",
       "\u001b[1;36m20\u001b[0m      \u001b[1;36m1008\u001b[0m\n",
       "no       \u001b[1;36m394\u001b[0m\n",
       "\u001b[1;36m10\u001b[0m       \u001b[1;36m339\u001b[0m\n",
       "\u001b[1;36m1000\u001b[0m     \u001b[1;36m330\u001b[0m\n",
       "\u001b[1;36m40\u001b[0m       \u001b[1;36m195\u001b[0m\n",
       "\u001b[1;36m800\u001b[0m      \u001b[1;36m190\u001b[0m\n",
       "\u001b[1;36m400\u001b[0m      \u001b[1;36m189\u001b[0m\n",
       "\u001b[1;36m600\u001b[0m      \u001b[1;36m184\u001b[0m\n",
       "\u001b[1;36m900\u001b[0m      \u001b[1;36m178\u001b[0m\n",
       "\u001b[1;36m30\u001b[0m       \u001b[1;36m157\u001b[0m\n",
       "\u001b[1;36m300\u001b[0m      \u001b[1;36m147\u001b[0m\n",
       "\u001b[1;36m60\u001b[0m       \u001b[1;36m135\u001b[0m\n",
       "\u001b[1;36m700\u001b[0m       \u001b[1;36m88\u001b[0m\n",
       "\u001b[1;36m500\u001b[0m       \u001b[1;36m74\u001b[0m\n",
       "\u001b[1;36m50\u001b[0m        \u001b[1;36m60\u001b[0m\n",
       "\u001b[1;36m200\u001b[0m       \u001b[1;36m57\u001b[0m\n",
       "\u001b[1;36m00\u001b[0m        \u001b[1;36m49\u001b[0m\n",
       "\u001b[1;36m990\u001b[0m       \u001b[1;36m41\u001b[0m\n",
       "\u001b[1;36m80\u001b[0m        \u001b[1;36m38\u001b[0m\n",
       "\u001b[1;36m4050\u001b[0m      \u001b[1;36m30\u001b[0m\n",
       "\u001b[1;36m70\u001b[0m        \u001b[1;36m29\u001b[0m\n",
       "\u001b[1;36m3040\u001b[0m      \u001b[1;36m27\u001b[0m\n",
       "\u001b[1;36m100\u001b[0m       \u001b[1;36m17\u001b[0m\n",
       "\u001b[1;36m5060\u001b[0m      \u001b[1;36m10\u001b[0m\n",
       "\u001b[1;36m90\u001b[0m         \u001b[1;36m8\u001b[0m\n",
       "\u001b[1;36m650\u001b[0m        \u001b[1;36m7\u001b[0m\n",
       "\u001b[1;36m450\u001b[0m        \u001b[1;36m6\u001b[0m\n",
       "\u001b[1;36m350\u001b[0m        \u001b[1;36m5\u001b[0m\n",
       "\u001b[1;36m0\u001b[0m          \u001b[1;36m3\u001b[0m\n",
       "n20        \u001b[1;36m3\u001b[0m\n",
       "\u001b[1;36m99\u001b[0m         \u001b[1;36m2\u001b[0m\n",
       "\u001b[1;36m120\u001b[0m        \u001b[1;36m2\u001b[0m\n",
       "\u001b[1;36m95\u001b[0m         \u001b[1;36m2\u001b[0m\n",
       "\u001b[1;36m850\u001b[0m        \u001b[1;36m2\u001b[0m\n",
       "n80        \u001b[1;36m1\u001b[0m\n",
       "\u001b[1;36m45\u001b[0m         \u001b[1;36m1\u001b[0m\n",
       "z30        \u001b[1;36m1\u001b[0m\n",
       "\u001b[1;36m35\u001b[0m         \u001b[1;36m1\u001b[0m\n",
       "\u001b[1;36m980\u001b[0m        \u001b[1;36m1\u001b[0m\n",
       "\u001b[1;36m250\u001b[0m        \u001b[1;36m1\u001b[0m\n",
       "\u001b[1;36m950\u001b[0m        \u001b[1;36m1\u001b[0m\n",
       "Name: barthel, dtype: int64"
      ]
     },
     "execution_count": 5,
     "metadata": {},
     "output_type": "execute_result"
    }
   ],
   "source": [
    "df.barthel.value_counts()"
   ]
  },
  {
   "cell_type": "code",
   "execution_count": 6,
   "metadata": {},
   "outputs": [
    {
     "data": {
      "text/html": [
       "<pre style=\"white-space:pre;overflow-x:auto;line-height:normal;font-family:Menlo,'DejaVu Sans Mono',consolas,'Courier New',monospace\"></pre>\n"
      ],
      "text/plain": []
     },
     "metadata": {},
     "output_type": "display_data"
    },
    {
     "data": {
      "text/html": [
       "<div>\n",
       "<style scoped>\n",
       "    .dataframe tbody tr th:only-of-type {\n",
       "        vertical-align: middle;\n",
       "    }\n",
       "\n",
       "    .dataframe tbody tr th {\n",
       "        vertical-align: top;\n",
       "    }\n",
       "\n",
       "    .dataframe thead th {\n",
       "        text-align: right;\n",
       "    }\n",
       "</style>\n",
       "<table border=\"1\" class=\"dataframe\">\n",
       "  <thead>\n",
       "    <tr style=\"text-align: right;\">\n",
       "      <th></th>\n",
       "      <th>h_procedencia</th>\n",
       "      <th>s_procedencia</th>\n",
       "      <th>ap</th>\n",
       "      <th>otros</th>\n",
       "      <th>diagnostico</th>\n",
       "      <th>motivo_ing</th>\n",
       "      <th>paliativo_onc_noc</th>\n",
       "      <th>paliativo_no_onc_noc</th>\n",
       "      <th>fiebre</th>\n",
       "      <th>disnea</th>\n",
       "      <th>dolor</th>\n",
       "      <th>delirium</th>\n",
       "      <th>otros_1</th>\n",
       "      <th>p_terminal</th>\n",
       "      <th>agonia</th>\n",
       "      <th>ps_ecog</th>\n",
       "      <th>barthel</th>\n",
       "      <th>gds_fast</th>\n",
       "      <th>eva_ing</th>\n",
       "      <th>otros_2</th>\n",
       "      <th>otros_complicaciones</th>\n",
       "      <th>n_estancias</th>\n",
       "      <th>n_visitas</th>\n",
       "      <th>sedacion</th>\n",
       "      <th>motivo_alta</th>\n",
       "      <th>medico</th>\n",
       "      <th>year</th>\n",
       "      <th>ast_anorx</th>\n",
       "      <th>agudo_estable</th>\n",
       "      <th>cronico_reag</th>\n",
       "      <th>trato_antibiotico</th>\n",
       "      <th>transfusion</th>\n",
       "      <th>paracentesis</th>\n",
       "      <th>toracocentesis</th>\n",
       "      <th>ayuntamiento</th>\n",
       "      <th>fecha_alta</th>\n",
       "      <th>fe_iv</th>\n",
       "    </tr>\n",
       "  </thead>\n",
       "  <tbody>\n",
       "    <tr>\n",
       "      <th>31</th>\n",
       "      <td>clinico</td>\n",
       "      <td>onc</td>\n",
       "      <td>no</td>\n",
       "      <td>no</td>\n",
       "      <td>ca prostata</td>\n",
       "      <td>dolor</td>\n",
       "      <td>si</td>\n",
       "      <td>no</td>\n",
       "      <td>no</td>\n",
       "      <td>no</td>\n",
       "      <td>si</td>\n",
       "      <td>no</td>\n",
       "      <td>no</td>\n",
       "      <td>si</td>\n",
       "      <td>no</td>\n",
       "      <td>12</td>\n",
       "      <td>1000</td>\n",
       "      <td>no</td>\n",
       "      <td>no</td>\n",
       "      <td>no</td>\n",
       "      <td>no</td>\n",
       "      <td>1</td>\n",
       "      <td>1</td>\n",
       "      <td>no</td>\n",
       "      <td>fin de cuidados</td>\n",
       "      <td>suarez</td>\n",
       "      <td>2017</td>\n",
       "      <td>no</td>\n",
       "      <td>desconocido</td>\n",
       "      <td>desconocido</td>\n",
       "      <td>desconocido</td>\n",
       "      <td>desconocido</td>\n",
       "      <td>desconocido</td>\n",
       "      <td>desconocido</td>\n",
       "      <td>desconocido</td>\n",
       "      <td>desconocido</td>\n",
       "      <td>desconocido</td>\n",
       "    </tr>\n",
       "    <tr>\n",
       "      <th>37</th>\n",
       "      <td>no</td>\n",
       "      <td>no</td>\n",
       "      <td>no</td>\n",
       "      <td>no</td>\n",
       "      <td>cirrosis hepatica</td>\n",
       "      <td>inyeccion octreotrido</td>\n",
       "      <td>no</td>\n",
       "      <td>no</td>\n",
       "      <td>no</td>\n",
       "      <td>no</td>\n",
       "      <td>si</td>\n",
       "      <td>no</td>\n",
       "      <td>no</td>\n",
       "      <td>no</td>\n",
       "      <td>no</td>\n",
       "      <td>no</td>\n",
       "      <td>1000</td>\n",
       "      <td>no</td>\n",
       "      <td>no</td>\n",
       "      <td>child a</td>\n",
       "      <td>si disuria</td>\n",
       "      <td>2</td>\n",
       "      <td>1</td>\n",
       "      <td>no</td>\n",
       "      <td>fin de cuidados</td>\n",
       "      <td>ibanez alonso</td>\n",
       "      <td>2017</td>\n",
       "      <td>no</td>\n",
       "      <td>desconocido</td>\n",
       "      <td>desconocido</td>\n",
       "      <td>desconocido</td>\n",
       "      <td>desconocido</td>\n",
       "      <td>desconocido</td>\n",
       "      <td>desconocido</td>\n",
       "      <td>desconocido</td>\n",
       "      <td>desconocido</td>\n",
       "      <td>desconocido</td>\n",
       "    </tr>\n",
       "    <tr>\n",
       "      <th>56</th>\n",
       "      <td>clinico</td>\n",
       "      <td>urg</td>\n",
       "      <td>no</td>\n",
       "      <td>nefro</td>\n",
       "      <td>itu</td>\n",
       "      <td>tratamiento</td>\n",
       "      <td>no</td>\n",
       "      <td>no</td>\n",
       "      <td>no</td>\n",
       "      <td>no</td>\n",
       "      <td>no</td>\n",
       "      <td>no</td>\n",
       "      <td>no</td>\n",
       "      <td>no</td>\n",
       "      <td>no</td>\n",
       "      <td>no</td>\n",
       "      <td>1000</td>\n",
       "      <td>no</td>\n",
       "      <td>no</td>\n",
       "      <td>no</td>\n",
       "      <td>no</td>\n",
       "      <td>18</td>\n",
       "      <td>2</td>\n",
       "      <td>no</td>\n",
       "      <td>fin de cuidados</td>\n",
       "      <td>suarez</td>\n",
       "      <td>2017</td>\n",
       "      <td>no</td>\n",
       "      <td>desconocido</td>\n",
       "      <td>desconocido</td>\n",
       "      <td>desconocido</td>\n",
       "      <td>desconocido</td>\n",
       "      <td>desconocido</td>\n",
       "      <td>desconocido</td>\n",
       "      <td>desconocido</td>\n",
       "      <td>desconocido</td>\n",
       "      <td>desconocido</td>\n",
       "    </tr>\n",
       "    <tr>\n",
       "      <th>57</th>\n",
       "      <td>provincial</td>\n",
       "      <td>nmlp</td>\n",
       "      <td>no</td>\n",
       "      <td>no</td>\n",
       "      <td>infec resp</td>\n",
       "      <td>tratamiento</td>\n",
       "      <td>no</td>\n",
       "      <td>no</td>\n",
       "      <td>no</td>\n",
       "      <td>si</td>\n",
       "      <td>no</td>\n",
       "      <td>no</td>\n",
       "      <td>nauseas y vomitos</td>\n",
       "      <td>no</td>\n",
       "      <td>no</td>\n",
       "      <td>no</td>\n",
       "      <td>1000</td>\n",
       "      <td>no</td>\n",
       "      <td>no</td>\n",
       "      <td>no</td>\n",
       "      <td>no</td>\n",
       "      <td>21</td>\n",
       "      <td>8</td>\n",
       "      <td>no</td>\n",
       "      <td>fin de cuidados</td>\n",
       "      <td>suarez</td>\n",
       "      <td>2017</td>\n",
       "      <td>no</td>\n",
       "      <td>desconocido</td>\n",
       "      <td>desconocido</td>\n",
       "      <td>desconocido</td>\n",
       "      <td>desconocido</td>\n",
       "      <td>desconocido</td>\n",
       "      <td>desconocido</td>\n",
       "      <td>desconocido</td>\n",
       "      <td>desconocido</td>\n",
       "      <td>desconocido</td>\n",
       "    </tr>\n",
       "    <tr>\n",
       "      <th>62</th>\n",
       "      <td>clinico</td>\n",
       "      <td>onc</td>\n",
       "      <td>no</td>\n",
       "      <td>no</td>\n",
       "      <td>ca prostata</td>\n",
       "      <td>control dolor</td>\n",
       "      <td>si</td>\n",
       "      <td>no</td>\n",
       "      <td>no</td>\n",
       "      <td>no</td>\n",
       "      <td>si</td>\n",
       "      <td>no</td>\n",
       "      <td>nauseas y vomitos</td>\n",
       "      <td>si</td>\n",
       "      <td>no</td>\n",
       "      <td>20</td>\n",
       "      <td>1000</td>\n",
       "      <td>no</td>\n",
       "      <td>no</td>\n",
       "      <td>no</td>\n",
       "      <td>no</td>\n",
       "      <td>6</td>\n",
       "      <td>2</td>\n",
       "      <td>no</td>\n",
       "      <td>fin de cuidados</td>\n",
       "      <td>suarez</td>\n",
       "      <td>2017</td>\n",
       "      <td>no</td>\n",
       "      <td>desconocido</td>\n",
       "      <td>desconocido</td>\n",
       "      <td>desconocido</td>\n",
       "      <td>desconocido</td>\n",
       "      <td>desconocido</td>\n",
       "      <td>desconocido</td>\n",
       "      <td>desconocido</td>\n",
       "      <td>desconocido</td>\n",
       "      <td>desconocido</td>\n",
       "    </tr>\n",
       "  </tbody>\n",
       "</table>\n",
       "</div>"
      ],
      "text/plain": [
       "\n",
       "   h_procedencia s_procedencia  ap  otros        diagnostico  \\\n",
       "\u001b[1;36m31\u001b[0m       clinico           onc  no     no        ca prostata   \n",
       "\u001b[1;36m37\u001b[0m            no            no  no     no  cirrosis hepatica   \n",
       "\u001b[1;36m56\u001b[0m       clinico           urg  no  nefro                itu   \n",
       "\u001b[1;36m57\u001b[0m    provincial          nmlp  no     no         infec resp   \n",
       "\u001b[1;36m62\u001b[0m       clinico           onc  no     no        ca prostata   \n",
       "\n",
       "               motivo_ing paliativo_onc_noc paliativo_no_onc_noc fiebre  \\\n",
       "\u001b[1;36m31\u001b[0m                  dolor                si                   no     no   \n",
       "\u001b[1;36m37\u001b[0m  inyeccion octreotrido                no                   no     no   \n",
       "\u001b[1;36m56\u001b[0m            tratamiento                no                   no     no   \n",
       "\u001b[1;36m57\u001b[0m            tratamiento                no                   no     no   \n",
       "\u001b[1;36m62\u001b[0m          control dolor                si                   no     no   \n",
       "\n",
       "   disnea dolor delirium            otros_1 p_terminal agonia ps_ecog barthel  \\\n",
       "\u001b[1;36m31\u001b[0m     no    si       no                 no         si     no      \u001b[1;36m12\u001b[0m    \u001b[1;36m1000\u001b[0m   \n",
       "\u001b[1;36m37\u001b[0m     no    si       no                 no         no     no      no    \u001b[1;36m1000\u001b[0m   \n",
       "\u001b[1;36m56\u001b[0m     no    no       no                 no         no     no      no    \u001b[1;36m1000\u001b[0m   \n",
       "\u001b[1;36m57\u001b[0m     si    no       no  nauseas y vomitos         no     no      no    \u001b[1;36m1000\u001b[0m   \n",
       "\u001b[1;36m62\u001b[0m     no    si       no  nauseas y vomitos         si     no      \u001b[1;36m20\u001b[0m    \u001b[1;36m1000\u001b[0m   \n",
       "\n",
       "   gds_fast eva_ing  otros_2 otros_complicaciones  n_estancias  n_visitas  \\\n",
       "\u001b[1;36m31\u001b[0m       no      no       no                   no            \u001b[1;36m1\u001b[0m          \u001b[1;36m1\u001b[0m   \n",
       "\u001b[1;36m37\u001b[0m       no      no  child a           si disuria            \u001b[1;36m2\u001b[0m          \u001b[1;36m1\u001b[0m   \n",
       "\u001b[1;36m56\u001b[0m       no      no       no                   no           \u001b[1;36m18\u001b[0m          \u001b[1;36m2\u001b[0m   \n",
       "\u001b[1;36m57\u001b[0m       no      no       no                   no           \u001b[1;36m21\u001b[0m          \u001b[1;36m8\u001b[0m   \n",
       "\u001b[1;36m62\u001b[0m       no      no       no                   no            \u001b[1;36m6\u001b[0m          \u001b[1;36m2\u001b[0m   \n",
       "\n",
       "   sedacion      motivo_alta         medico  year ast_anorx agudo_estable  \\\n",
       "\u001b[1;36m31\u001b[0m       no  fin de cuidados         suarez  \u001b[1;36m2017\u001b[0m        no   desconocido   \n",
       "\u001b[1;36m37\u001b[0m       no  fin de cuidados  ibanez alonso  \u001b[1;36m2017\u001b[0m        no   desconocido   \n",
       "\u001b[1;36m56\u001b[0m       no  fin de cuidados         suarez  \u001b[1;36m2017\u001b[0m        no   desconocido   \n",
       "\u001b[1;36m57\u001b[0m       no  fin de cuidados         suarez  \u001b[1;36m2017\u001b[0m        no   desconocido   \n",
       "\u001b[1;36m62\u001b[0m       no  fin de cuidados         suarez  \u001b[1;36m2017\u001b[0m        no   desconocido   \n",
       "\n",
       "   cronico_reag trato_antibiotico  transfusion paracentesis toracocentesis  \\\n",
       "\u001b[1;36m31\u001b[0m  desconocido       desconocido  desconocido  desconocido    desconocido   \n",
       "\u001b[1;36m37\u001b[0m  desconocido       desconocido  desconocido  desconocido    desconocido   \n",
       "\u001b[1;36m56\u001b[0m  desconocido       desconocido  desconocido  desconocido    desconocido   \n",
       "\u001b[1;36m57\u001b[0m  desconocido       desconocido  desconocido  desconocido    desconocido   \n",
       "\u001b[1;36m62\u001b[0m  desconocido       desconocido  desconocido  desconocido    desconocido   \n",
       "\n",
       "   ayuntamiento   fecha_alta        fe_iv  \n",
       "\u001b[1;36m31\u001b[0m  desconocido  desconocido  desconocido  \n",
       "\u001b[1;36m37\u001b[0m  desconocido  desconocido  desconocido  \n",
       "\u001b[1;36m56\u001b[0m  desconocido  desconocido  desconocido  \n",
       "\u001b[1;36m57\u001b[0m  desconocido  desconocido  desconocido  \n",
       "\u001b[1;36m62\u001b[0m  desconocido  desconocido  desconocido  "
      ]
     },
     "execution_count": 6,
     "metadata": {},
     "output_type": "execute_result"
    }
   ],
   "source": [
    "# Filtrar y mostrar las primeras filas donde barthel es 1000 para inspeccionarlas\n",
    "df_barthel_1000 = df[df.barthel == \"1000\"]\n",
    "df_barthel_1000.head()"
   ]
  },
  {
   "cell_type": "markdown",
   "metadata": {},
   "source": [
    "Aquí están las primeras filas del DataFrame donde la columna 'barthel' tiene el valor '1000'. A simple vista, no parece haber un patrón obvio que explique este valor incorrecto basándonos solo en estas filas. Es posible que '1000' sea un error de codificación y debería ser '100' en su lugar, pero es solo una suposición."
   ]
  },
  {
   "cell_type": "code",
   "execution_count": 7,
   "metadata": {},
   "outputs": [],
   "source": [
    "# Reemplazar valores '1000' por '100' en la columna 'barthel'\n",
    "df['barthel'] = df['barthel'].replace(\"1000\", \"100\")"
   ]
  },
  {
   "cell_type": "code",
   "execution_count": 8,
   "metadata": {},
   "outputs": [
    {
     "data": {
      "text/html": [
       "<pre style=\"white-space:pre;overflow-x:auto;line-height:normal;font-family:Menlo,'DejaVu Sans Mono',consolas,'Courier New',monospace\"></pre>\n"
      ],
      "text/plain": []
     },
     "metadata": {},
     "output_type": "display_data"
    },
    {
     "data": {
      "text/plain": [
       "\n",
       "\u001b[1;36m20\u001b[0m      \u001b[1;36m1008\u001b[0m\n",
       "no       \u001b[1;36m394\u001b[0m\n",
       "\u001b[1;36m100\u001b[0m      \u001b[1;36m347\u001b[0m\n",
       "\u001b[1;36m10\u001b[0m       \u001b[1;36m339\u001b[0m\n",
       "\u001b[1;36m40\u001b[0m       \u001b[1;36m195\u001b[0m\n",
       "\u001b[1;36m800\u001b[0m      \u001b[1;36m190\u001b[0m\n",
       "\u001b[1;36m400\u001b[0m      \u001b[1;36m189\u001b[0m\n",
       "\u001b[1;36m600\u001b[0m      \u001b[1;36m184\u001b[0m\n",
       "\u001b[1;36m900\u001b[0m      \u001b[1;36m178\u001b[0m\n",
       "\u001b[1;36m30\u001b[0m       \u001b[1;36m157\u001b[0m\n",
       "\u001b[1;36m300\u001b[0m      \u001b[1;36m147\u001b[0m\n",
       "\u001b[1;36m60\u001b[0m       \u001b[1;36m135\u001b[0m\n",
       "\u001b[1;36m700\u001b[0m       \u001b[1;36m88\u001b[0m\n",
       "\u001b[1;36m500\u001b[0m       \u001b[1;36m74\u001b[0m\n",
       "\u001b[1;36m50\u001b[0m        \u001b[1;36m60\u001b[0m\n",
       "\u001b[1;36m200\u001b[0m       \u001b[1;36m57\u001b[0m\n",
       "\u001b[1;36m00\u001b[0m        \u001b[1;36m49\u001b[0m\n",
       "\u001b[1;36m990\u001b[0m       \u001b[1;36m41\u001b[0m\n",
       "\u001b[1;36m80\u001b[0m        \u001b[1;36m38\u001b[0m\n",
       "\u001b[1;36m4050\u001b[0m      \u001b[1;36m30\u001b[0m\n",
       "\u001b[1;36m70\u001b[0m        \u001b[1;36m29\u001b[0m\n",
       "\u001b[1;36m3040\u001b[0m      \u001b[1;36m27\u001b[0m\n",
       "\u001b[1;36m5060\u001b[0m      \u001b[1;36m10\u001b[0m\n",
       "\u001b[1;36m90\u001b[0m         \u001b[1;36m8\u001b[0m\n",
       "\u001b[1;36m650\u001b[0m        \u001b[1;36m7\u001b[0m\n",
       "\u001b[1;36m450\u001b[0m        \u001b[1;36m6\u001b[0m\n",
       "\u001b[1;36m350\u001b[0m        \u001b[1;36m5\u001b[0m\n",
       "\u001b[1;36m0\u001b[0m          \u001b[1;36m3\u001b[0m\n",
       "n20        \u001b[1;36m3\u001b[0m\n",
       "\u001b[1;36m99\u001b[0m         \u001b[1;36m2\u001b[0m\n",
       "\u001b[1;36m120\u001b[0m        \u001b[1;36m2\u001b[0m\n",
       "\u001b[1;36m95\u001b[0m         \u001b[1;36m2\u001b[0m\n",
       "\u001b[1;36m850\u001b[0m        \u001b[1;36m2\u001b[0m\n",
       "n80        \u001b[1;36m1\u001b[0m\n",
       "\u001b[1;36m45\u001b[0m         \u001b[1;36m1\u001b[0m\n",
       "z30        \u001b[1;36m1\u001b[0m\n",
       "\u001b[1;36m35\u001b[0m         \u001b[1;36m1\u001b[0m\n",
       "\u001b[1;36m980\u001b[0m        \u001b[1;36m1\u001b[0m\n",
       "\u001b[1;36m250\u001b[0m        \u001b[1;36m1\u001b[0m\n",
       "\u001b[1;36m950\u001b[0m        \u001b[1;36m1\u001b[0m\n",
       "Name: barthel, dtype: int64"
      ]
     },
     "execution_count": 8,
     "metadata": {},
     "output_type": "execute_result"
    }
   ],
   "source": [
    "df.barthel.value_counts()"
   ]
  },
  {
   "cell_type": "code",
   "execution_count": 9,
   "metadata": {},
   "outputs": [
    {
     "data": {
      "text/html": [
       "<pre style=\"white-space:pre;overflow-x:auto;line-height:normal;font-family:Menlo,'DejaVu Sans Mono',consolas,'Courier New',monospace\"></pre>\n"
      ],
      "text/plain": []
     },
     "metadata": {},
     "output_type": "display_data"
    },
    {
     "data": {
      "text/plain": [
       "\u001b[1;35marray\u001b[0m\u001b[1m(\u001b[0m\u001b[1m[\u001b[0m\u001b[32m'no'\u001b[0m, \u001b[32m'n20'\u001b[0m, \u001b[32m'n80'\u001b[0m, \u001b[32m'z30'\u001b[0m\u001b[1m]\u001b[0m, \u001b[33mdtype\u001b[0m=\u001b[35mobject\u001b[0m\u001b[1m)\u001b[0m"
      ]
     },
     "execution_count": 9,
     "metadata": {},
     "output_type": "execute_result"
    }
   ],
   "source": [
    "# Identificar los valores que no se pueden convertir a int en la columna 'barthel'\n",
    "non_int_values = df['barthel'].apply(lambda x: isinstance(x, str) and not x.isdigit())\n",
    "\n",
    "# Mostrar estos valores únicos\n",
    "non_convertible_values = df[non_int_values]['barthel'].unique()\n",
    "non_convertible_values\n"
   ]
  },
  {
   "cell_type": "markdown",
   "metadata": {},
   "source": [
    "Los valores que no se pueden convertir directamente a números enteros en la columna 'barthel' son: 'no', 'n20', 'n80' y 'z30'.\n",
    "\n",
    "Es probable que 'n20' signifique '20', 'n80' signifique '80', y 'z30' signifique '30'. Sin embargo, para el valor 'no', necesitamos tomar una decisión sobre cómo manejarlo."
   ]
  },
  {
   "cell_type": "code",
   "execution_count": 10,
   "metadata": {},
   "outputs": [
    {
     "data": {
      "text/html": [
       "<pre style=\"white-space:pre;overflow-x:auto;line-height:normal;font-family:Menlo,'DejaVu Sans Mono',consolas,'Courier New',monospace\"></pre>\n"
      ],
      "text/plain": []
     },
     "metadata": {},
     "output_type": "display_data"
    },
    {
     "data": {
      "text/plain": [
       "\n",
       "\u001b[1;35marray\u001b[0m\u001b[1m(\u001b[0m\u001b[1m[\u001b[0m\u001b[32m'300'\u001b[0m, \u001b[32m'400'\u001b[0m, \u001b[32m'900'\u001b[0m, \u001b[32m'500'\u001b[0m, \u001b[32m'600'\u001b[0m, \u001b[32m'800'\u001b[0m, \u001b[32m'700'\u001b[0m, \u001b[32m'990'\u001b[0m, \u001b[32m'200'\u001b[0m,\n",
       "       \u001b[32m'4050'\u001b[0m, \u001b[32m'950'\u001b[0m, \u001b[32m'3040'\u001b[0m, \u001b[32m'5060'\u001b[0m, \u001b[32m'650'\u001b[0m, \u001b[32m'120'\u001b[0m, \u001b[32m'980'\u001b[0m, \u001b[32m'450'\u001b[0m, \u001b[32m'250'\u001b[0m,\n",
       "       \u001b[32m'850'\u001b[0m, \u001b[32m'350'\u001b[0m\u001b[1m]\u001b[0m, \u001b[33mdtype\u001b[0m=\u001b[35mobject\u001b[0m\u001b[1m)\u001b[0m"
      ]
     },
     "execution_count": 10,
     "metadata": {},
     "output_type": "execute_result"
    }
   ],
   "source": [
    "# Reemplazar 'no' con '0' y otros valores con su probable interpretación correcta\n",
    "df['barthel'] = df['barthel'].replace({\n",
    "    'no': '0',\n",
    "    'n20': '20',\n",
    "    'n80': '80',\n",
    "    'z30': '30'\n",
    "})\n",
    "\n",
    "# Filtrar los valores superiores a 100 en la columna 'barthel'\n",
    "values_above_100 = df[df['barthel'].astype(int) > 100]['barthel'].unique()\n",
    "values_above_100"
   ]
  },
  {
   "cell_type": "markdown",
   "metadata": {},
   "source": [
    "Ahora tenemos una lista de valores que son definitivamente atípicos para la escala de Barthel. Estos valores son:\n",
    "\n",
    "'300', '400', '900', '500', '600', '800', '700', '990', '200', '4050', '950', '3040', '5060', '650', '120', '980', '450', '250', '850', '350'\n",
    "\n",
    "Algunos valores, como '4050', '3040', y '5060', parecen ser combinaciones de dos valores válidos de Barthel. Otros, como '990', podrían ser errores tipográficos para '90'.\n",
    "\n",
    "1. '4050', '3040', y '5060' podrían dividirse en dos filas con valores de Barthel separados, aunque esto duplicaría las filas. Por lo que nos quedaremos con el valor superior de la combinación.\n",
    "2. Valores como '990' podrían convertirse en '90'.\n",
    "3. Para otros valores que son múltiplos de 100, podríamos suponer que se agregó un cero extra por error y dividirlos por 10."
   ]
  },
  {
   "cell_type": "code",
   "execution_count": 11,
   "metadata": {},
   "outputs": [
    {
     "data": {
      "text/html": [
       "<pre style=\"white-space:pre;overflow-x:auto;line-height:normal;font-family:Menlo,'DejaVu Sans Mono',consolas,'Courier New',monospace\"></pre>\n"
      ],
      "text/plain": []
     },
     "metadata": {},
     "output_type": "display_data"
    },
    {
     "data": {
      "text/plain": [
       "\n",
       "\u001b[1;36m650\u001b[0m    \u001b[1;36m7\u001b[0m\n",
       "Name: barthel, dtype: int64"
      ]
     },
     "execution_count": 11,
     "metadata": {},
     "output_type": "execute_result"
    }
   ],
   "source": [
    "# Realizar las correcciones en la columna 'barthel' OJO que son type object de momento\n",
    "df['barthel'] = df['barthel'].replace({\n",
    "    '4050': '50',\n",
    "    '3040': '40',\n",
    "    '5060': '60',\n",
    "    '990': '90'\n",
    "})\n",
    "\n",
    "# Dividir por 10 los valores que son múltiplos de 100\n",
    "def correct_barthel_values(value):\n",
    "    if int(value) in [200, 300, 400, 500, 600, 700, 800, 900, 950, 980, 120, 450, 250, 850, 350]:\n",
    "        return str(int(value) // 10)\n",
    "    return value\n",
    "\n",
    "df['barthel'] = df['barthel'].apply(correct_barthel_values)\n",
    "\n",
    "# Verificar nuevamente los valores únicos y sus conteos para la columna 'barthel' que son superiores a 100\n",
    "barthel_counts_corrected = df[df['barthel'].astype(int) > 100]['barthel'].value_counts()\n",
    "barthel_counts_corrected"
   ]
  },
  {
   "cell_type": "markdown",
   "metadata": {},
   "source": [
    "Hemos corregido la mayoría de los valores atípicos. Sin embargo, todavía hay un valor, '650', que es atípico y no se ajusta a nuestra escala de Barthel de 0 a 100.\n",
    "\n",
    "* Suponer que '650' es un error tipográfico y debería ser '65'.\n",
    "  "
   ]
  },
  {
   "cell_type": "code",
   "execution_count": 12,
   "metadata": {},
   "outputs": [
    {
     "data": {
      "text/html": [
       "<pre style=\"white-space:pre;overflow-x:auto;line-height:normal;font-family:Menlo,'DejaVu Sans Mono',consolas,'Courier New',monospace\"></pre>\n"
      ],
      "text/plain": []
     },
     "metadata": {},
     "output_type": "display_data"
    },
    {
     "data": {
      "text/plain": [
       "\u001b[1;35mSeries\u001b[0m\u001b[1m(\u001b[0m\u001b[1m[\u001b[0m\u001b[1m]\u001b[0m, Name: barthel, dtype: int64\u001b[1m)\u001b[0m"
      ]
     },
     "execution_count": 12,
     "metadata": {},
     "output_type": "execute_result"
    }
   ],
   "source": [
    "# Reemplazar '650' con '65' en la columna 'barthel'\n",
    "df['barthel'] = df['barthel'].replace('650', '65')\n",
    "\n",
    "# Verificar nuevamente los valores únicos y sus conteos para la columna 'barthel' que son superiores a 100\n",
    "barthel_counts_final = df[df['barthel'].astype(int) > 100]['barthel'].value_counts()\n",
    "barthel_counts_final"
   ]
  },
  {
   "cell_type": "code",
   "execution_count": 13,
   "metadata": {},
   "outputs": [
    {
     "data": {
      "text/html": [
       "<pre style=\"white-space:pre;overflow-x:auto;line-height:normal;font-family:Menlo,'DejaVu Sans Mono',consolas,'Courier New',monospace\"></pre>\n"
      ],
      "text/plain": []
     },
     "metadata": {},
     "output_type": "display_data"
    },
    {
     "data": {
      "text/plain": [
       "\n",
       "\u001b[1;36m20\u001b[0m     \u001b[1;36m1068\u001b[0m\n",
       "\u001b[1;36m40\u001b[0m      \u001b[1;36m411\u001b[0m\n",
       "\u001b[1;36m0\u001b[0m       \u001b[1;36m397\u001b[0m\n",
       "\u001b[1;36m100\u001b[0m     \u001b[1;36m347\u001b[0m\n",
       "\u001b[1;36m10\u001b[0m      \u001b[1;36m339\u001b[0m\n",
       "\u001b[1;36m60\u001b[0m      \u001b[1;36m329\u001b[0m\n",
       "\u001b[1;36m30\u001b[0m      \u001b[1;36m305\u001b[0m\n",
       "\u001b[1;36m80\u001b[0m      \u001b[1;36m229\u001b[0m\n",
       "\u001b[1;36m90\u001b[0m      \u001b[1;36m227\u001b[0m\n",
       "\u001b[1;36m50\u001b[0m      \u001b[1;36m164\u001b[0m\n",
       "\u001b[1;36m70\u001b[0m      \u001b[1;36m117\u001b[0m\n",
       "\u001b[1;36m00\u001b[0m       \u001b[1;36m49\u001b[0m\n",
       "\u001b[1;36m65\u001b[0m        \u001b[1;36m7\u001b[0m\n",
       "\u001b[1;36m45\u001b[0m        \u001b[1;36m7\u001b[0m\n",
       "\u001b[1;36m35\u001b[0m        \u001b[1;36m6\u001b[0m\n",
       "\u001b[1;36m95\u001b[0m        \u001b[1;36m3\u001b[0m\n",
       "\u001b[1;36m99\u001b[0m        \u001b[1;36m2\u001b[0m\n",
       "\u001b[1;36m12\u001b[0m        \u001b[1;36m2\u001b[0m\n",
       "\u001b[1;36m85\u001b[0m        \u001b[1;36m2\u001b[0m\n",
       "\u001b[1;36m98\u001b[0m        \u001b[1;36m1\u001b[0m\n",
       "\u001b[1;36m25\u001b[0m        \u001b[1;36m1\u001b[0m\n",
       "Name: barthel, dtype: int64"
      ]
     },
     "execution_count": 13,
     "metadata": {},
     "output_type": "execute_result"
    }
   ],
   "source": [
    "df.barthel.value_counts()"
   ]
  },
  {
   "cell_type": "code",
   "execution_count": 14,
   "metadata": {},
   "outputs": [
    {
     "data": {
      "text/html": [
       "<pre style=\"white-space:pre;overflow-x:auto;line-height:normal;font-family:Menlo,'DejaVu Sans Mono',consolas,'Courier New',monospace\"></pre>\n"
      ],
      "text/plain": []
     },
     "metadata": {},
     "output_type": "display_data"
    },
    {
     "data": {
      "text/html": [
       "<div>\n",
       "<style scoped>\n",
       "    .dataframe tbody tr th:only-of-type {\n",
       "        vertical-align: middle;\n",
       "    }\n",
       "\n",
       "    .dataframe tbody tr th {\n",
       "        vertical-align: top;\n",
       "    }\n",
       "\n",
       "    .dataframe thead th {\n",
       "        text-align: right;\n",
       "    }\n",
       "</style>\n",
       "<table border=\"1\" class=\"dataframe\">\n",
       "  <thead>\n",
       "    <tr style=\"text-align: right;\">\n",
       "      <th></th>\n",
       "      <th>barthel</th>\n",
       "      <th>barthel_classification</th>\n",
       "    </tr>\n",
       "  </thead>\n",
       "  <tbody>\n",
       "    <tr>\n",
       "      <th>0</th>\n",
       "      <td>30</td>\n",
       "      <td>Dependencia severa</td>\n",
       "    </tr>\n",
       "    <tr>\n",
       "      <th>1</th>\n",
       "      <td>0</td>\n",
       "      <td>Dependencia total</td>\n",
       "    </tr>\n",
       "    <tr>\n",
       "      <th>2</th>\n",
       "      <td>40</td>\n",
       "      <td>Dependencia moderada</td>\n",
       "    </tr>\n",
       "    <tr>\n",
       "      <th>3</th>\n",
       "      <td>90</td>\n",
       "      <td>Independencia</td>\n",
       "    </tr>\n",
       "    <tr>\n",
       "      <th>4</th>\n",
       "      <td>30</td>\n",
       "      <td>Dependencia severa</td>\n",
       "    </tr>\n",
       "  </tbody>\n",
       "</table>\n",
       "</div>"
      ],
      "text/plain": [
       "\n",
       "   barthel barthel_classification\n",
       "\u001b[1;36m0\u001b[0m       \u001b[1;36m30\u001b[0m     Dependencia severa\n",
       "\u001b[1;36m1\u001b[0m        \u001b[1;36m0\u001b[0m      Dependencia total\n",
       "\u001b[1;36m2\u001b[0m       \u001b[1;36m40\u001b[0m   Dependencia moderada\n",
       "\u001b[1;36m3\u001b[0m       \u001b[1;36m90\u001b[0m          Independencia\n",
       "\u001b[1;36m4\u001b[0m       \u001b[1;36m30\u001b[0m     Dependencia severa"
      ]
     },
     "execution_count": 14,
     "metadata": {},
     "output_type": "execute_result"
    }
   ],
   "source": [
    "# Clasificar los valores de la columna \"barthel\" según las reglas especificadas\n",
    "def classify_barthel(score: int) -> str:\n",
    "    if score < 20:\n",
    "        return \"Dependencia total\"\n",
    "    elif 20 <= score < 40:\n",
    "        return \"Dependencia severa\"\n",
    "    elif 40 <= score < 60:\n",
    "        return \"Dependencia moderada\"\n",
    "    elif 60 <= score < 90:\n",
    "        return \"Dependencia leve o mínima\"\n",
    "    else:\n",
    "        return \"Independencia\"\n",
    "\n",
    "# Convertir la columna 'barthel' a tipo entero\n",
    "df['barthel'] = df['barthel'].astype(int)\n",
    "\n",
    "# Aplicar la función classify_barthel\n",
    "df['barthel_classification'] = df['barthel'].apply(classify_barthel)\n",
    "\n",
    "# Mostrar las primeras filas para verificar los cambios\n",
    "df[['barthel', 'barthel_classification']].head()"
   ]
  },
  {
   "cell_type": "code",
   "execution_count": 15,
   "metadata": {},
   "outputs": [
    {
     "data": {
      "text/html": [
       "<pre style=\"white-space:pre;overflow-x:auto;line-height:normal;font-family:Menlo,'DejaVu Sans Mono',consolas,'Courier New',monospace\"></pre>\n"
      ],
      "text/plain": []
     },
     "metadata": {},
     "output_type": "display_data"
    },
    {
     "data": {
      "text/html": [
       "<div>\n",
       "<style scoped>\n",
       "    .dataframe tbody tr th:only-of-type {\n",
       "        vertical-align: middle;\n",
       "    }\n",
       "\n",
       "    .dataframe tbody tr th {\n",
       "        vertical-align: top;\n",
       "    }\n",
       "\n",
       "    .dataframe thead th {\n",
       "        text-align: right;\n",
       "    }\n",
       "</style>\n",
       "<table border=\"1\" class=\"dataframe\">\n",
       "  <thead>\n",
       "    <tr style=\"text-align: right;\">\n",
       "      <th></th>\n",
       "      <th>barthel</th>\n",
       "      <th>barthel_classification</th>\n",
       "    </tr>\n",
       "  </thead>\n",
       "  <tbody>\n",
       "    <tr>\n",
       "      <th>0</th>\n",
       "      <td>30</td>\n",
       "      <td>Dependencia severa</td>\n",
       "    </tr>\n",
       "    <tr>\n",
       "      <th>1</th>\n",
       "      <td>0</td>\n",
       "      <td>Dependencia total</td>\n",
       "    </tr>\n",
       "    <tr>\n",
       "      <th>2</th>\n",
       "      <td>40</td>\n",
       "      <td>Dependencia severa</td>\n",
       "    </tr>\n",
       "    <tr>\n",
       "      <th>3</th>\n",
       "      <td>90</td>\n",
       "      <td>Dependencia leve o mínima</td>\n",
       "    </tr>\n",
       "    <tr>\n",
       "      <th>4</th>\n",
       "      <td>30</td>\n",
       "      <td>Dependencia severa</td>\n",
       "    </tr>\n",
       "  </tbody>\n",
       "</table>\n",
       "</div>"
      ],
      "text/plain": [
       "\n",
       "   barthel     barthel_classification\n",
       "\u001b[1;36m0\u001b[0m       \u001b[1;36m30\u001b[0m         Dependencia severa\n",
       "\u001b[1;36m1\u001b[0m        \u001b[1;36m0\u001b[0m          Dependencia total\n",
       "\u001b[1;36m2\u001b[0m       \u001b[1;36m40\u001b[0m         Dependencia severa\n",
       "\u001b[1;36m3\u001b[0m       \u001b[1;36m90\u001b[0m  Dependencia leve o mínima\n",
       "\u001b[1;36m4\u001b[0m       \u001b[1;36m30\u001b[0m         Dependencia severa"
      ]
     },
     "execution_count": 15,
     "metadata": {},
     "output_type": "execute_result"
    }
   ],
   "source": [
    "def clean_and_classify_barthel(df: pd.DataFrame) -> pd.DataFrame:\n",
    "    \"\"\"\n",
    "    Clean and classify the 'barthel' column of a DataFrame.\n",
    "\n",
    "    Args:\n",
    "        df (pd.DataFrame): Original DataFrame with 'barthel' column to be cleaned.\n",
    "\n",
    "    Returns:\n",
    "        pd.DataFrame: DataFrame with cleaned and classified 'barthel' column.\n",
    "    \"\"\"\n",
    "    \n",
    "    # Cleaning\n",
    "    df['barthel'] = df['barthel'].replace({\n",
    "        '1000': 100,\n",
    "        'no': 0,\n",
    "        'n20': 20,\n",
    "        'n80': 80,\n",
    "        'z30': 30,\n",
    "        '4050': 50,\n",
    "        '3040': 40,\n",
    "        '5060': 60,\n",
    "        '990': 90,\n",
    "        '650': 65\n",
    "    })\n",
    "    # Convertir la columna 'barthel' a tipo entero\n",
    "    df['barthel'] = df['barthel'].astype(int)\n",
    "    \n",
    "    def correct_barthel_values(value):\n",
    "        if int(value) in [200, 300, 400, 500, 600, 700, 800, 900, 950, 980, 120, 450, 250, 850, 350]:\n",
    "            return str(int(value) // 10)\n",
    "        return value\n",
    "\n",
    "    df['barthel'] = df['barthel'].apply(correct_barthel_values)\n",
    "    \n",
    "    # Classification\n",
    "    df['barthel_classification'] = pd.cut(df['barthel'].astype(int), \n",
    "                                          bins=[-1, 20, 40, 60, 90, 100], \n",
    "                                          labels=[\n",
    "                                              'Dependencia total',\n",
    "                                              'Dependencia severa',\n",
    "                                              'Dependencia moderada',\n",
    "                                              'Dependencia leve o mínima',\n",
    "                                              'Independencia'\n",
    "                                          ])\n",
    "    \n",
    "    return df\n",
    "\n",
    "# Apply the function to the DataFrame\n",
    "df_cleaned = clean_and_classify_barthel(df)\n",
    "df_cleaned[['barthel', 'barthel_classification']].head()"
   ]
  },
  {
   "cell_type": "code",
   "execution_count": 16,
   "metadata": {},
   "outputs": [
    {
     "data": {
      "text/html": [
       "<pre style=\"white-space:pre;overflow-x:auto;line-height:normal;font-family:Menlo,'DejaVu Sans Mono',consolas,'Courier New',monospace\"></pre>\n"
      ],
      "text/plain": []
     },
     "metadata": {},
     "output_type": "display_data"
    },
    {
     "data": {
      "text/html": [
       "<div>\n",
       "<style scoped>\n",
       "    .dataframe tbody tr th:only-of-type {\n",
       "        vertical-align: middle;\n",
       "    }\n",
       "\n",
       "    .dataframe tbody tr th {\n",
       "        vertical-align: top;\n",
       "    }\n",
       "\n",
       "    .dataframe thead th {\n",
       "        text-align: right;\n",
       "    }\n",
       "</style>\n",
       "<table border=\"1\" class=\"dataframe\">\n",
       "  <thead>\n",
       "    <tr style=\"text-align: right;\">\n",
       "      <th>barthel</th>\n",
       "      <th>0</th>\n",
       "      <th>10</th>\n",
       "      <th>12</th>\n",
       "      <th>20</th>\n",
       "      <th>25</th>\n",
       "      <th>30</th>\n",
       "      <th>35</th>\n",
       "      <th>40</th>\n",
       "      <th>45</th>\n",
       "      <th>50</th>\n",
       "      <th>60</th>\n",
       "      <th>65</th>\n",
       "      <th>70</th>\n",
       "      <th>80</th>\n",
       "      <th>85</th>\n",
       "      <th>90</th>\n",
       "      <th>95</th>\n",
       "      <th>98</th>\n",
       "      <th>99</th>\n",
       "      <th>100</th>\n",
       "    </tr>\n",
       "    <tr>\n",
       "      <th>barthel_classification</th>\n",
       "      <th></th>\n",
       "      <th></th>\n",
       "      <th></th>\n",
       "      <th></th>\n",
       "      <th></th>\n",
       "      <th></th>\n",
       "      <th></th>\n",
       "      <th></th>\n",
       "      <th></th>\n",
       "      <th></th>\n",
       "      <th></th>\n",
       "      <th></th>\n",
       "      <th></th>\n",
       "      <th></th>\n",
       "      <th></th>\n",
       "      <th></th>\n",
       "      <th></th>\n",
       "      <th></th>\n",
       "      <th></th>\n",
       "      <th></th>\n",
       "    </tr>\n",
       "  </thead>\n",
       "  <tbody>\n",
       "    <tr>\n",
       "      <th>Dependencia total</th>\n",
       "      <td>446.0</td>\n",
       "      <td>339.0</td>\n",
       "      <td>2.0</td>\n",
       "      <td>1068.0</td>\n",
       "      <td>0.0</td>\n",
       "      <td>0.0</td>\n",
       "      <td>0.0</td>\n",
       "      <td>0.0</td>\n",
       "      <td>0.0</td>\n",
       "      <td>0.0</td>\n",
       "      <td>0.0</td>\n",
       "      <td>0.0</td>\n",
       "      <td>0.0</td>\n",
       "      <td>0.0</td>\n",
       "      <td>0.0</td>\n",
       "      <td>0.0</td>\n",
       "      <td>0.0</td>\n",
       "      <td>0.0</td>\n",
       "      <td>0.0</td>\n",
       "      <td>0.0</td>\n",
       "    </tr>\n",
       "    <tr>\n",
       "      <th>Dependencia severa</th>\n",
       "      <td>0.0</td>\n",
       "      <td>0.0</td>\n",
       "      <td>0.0</td>\n",
       "      <td>0.0</td>\n",
       "      <td>1.0</td>\n",
       "      <td>305.0</td>\n",
       "      <td>6.0</td>\n",
       "      <td>411.0</td>\n",
       "      <td>0.0</td>\n",
       "      <td>0.0</td>\n",
       "      <td>0.0</td>\n",
       "      <td>0.0</td>\n",
       "      <td>0.0</td>\n",
       "      <td>0.0</td>\n",
       "      <td>0.0</td>\n",
       "      <td>0.0</td>\n",
       "      <td>0.0</td>\n",
       "      <td>0.0</td>\n",
       "      <td>0.0</td>\n",
       "      <td>0.0</td>\n",
       "    </tr>\n",
       "    <tr>\n",
       "      <th>Dependencia moderada</th>\n",
       "      <td>0.0</td>\n",
       "      <td>0.0</td>\n",
       "      <td>0.0</td>\n",
       "      <td>0.0</td>\n",
       "      <td>0.0</td>\n",
       "      <td>0.0</td>\n",
       "      <td>0.0</td>\n",
       "      <td>0.0</td>\n",
       "      <td>7.0</td>\n",
       "      <td>164.0</td>\n",
       "      <td>329.0</td>\n",
       "      <td>0.0</td>\n",
       "      <td>0.0</td>\n",
       "      <td>0.0</td>\n",
       "      <td>0.0</td>\n",
       "      <td>0.0</td>\n",
       "      <td>0.0</td>\n",
       "      <td>0.0</td>\n",
       "      <td>0.0</td>\n",
       "      <td>0.0</td>\n",
       "    </tr>\n",
       "    <tr>\n",
       "      <th>Dependencia leve o mínima</th>\n",
       "      <td>0.0</td>\n",
       "      <td>0.0</td>\n",
       "      <td>0.0</td>\n",
       "      <td>0.0</td>\n",
       "      <td>0.0</td>\n",
       "      <td>0.0</td>\n",
       "      <td>0.0</td>\n",
       "      <td>0.0</td>\n",
       "      <td>0.0</td>\n",
       "      <td>0.0</td>\n",
       "      <td>0.0</td>\n",
       "      <td>7.0</td>\n",
       "      <td>117.0</td>\n",
       "      <td>229.0</td>\n",
       "      <td>2.0</td>\n",
       "      <td>227.0</td>\n",
       "      <td>0.0</td>\n",
       "      <td>0.0</td>\n",
       "      <td>0.0</td>\n",
       "      <td>0.0</td>\n",
       "    </tr>\n",
       "    <tr>\n",
       "      <th>Independencia</th>\n",
       "      <td>0.0</td>\n",
       "      <td>0.0</td>\n",
       "      <td>0.0</td>\n",
       "      <td>0.0</td>\n",
       "      <td>0.0</td>\n",
       "      <td>0.0</td>\n",
       "      <td>0.0</td>\n",
       "      <td>0.0</td>\n",
       "      <td>0.0</td>\n",
       "      <td>0.0</td>\n",
       "      <td>0.0</td>\n",
       "      <td>0.0</td>\n",
       "      <td>0.0</td>\n",
       "      <td>0.0</td>\n",
       "      <td>0.0</td>\n",
       "      <td>0.0</td>\n",
       "      <td>3.0</td>\n",
       "      <td>1.0</td>\n",
       "      <td>2.0</td>\n",
       "      <td>347.0</td>\n",
       "    </tr>\n",
       "  </tbody>\n",
       "</table>\n",
       "</div>"
      ],
      "text/plain": [
       "\n",
       "barthel                      \u001b[1;36m0\u001b[0m      \u001b[1;36m10\u001b[0m   \u001b[1;36m12\u001b[0m      \u001b[1;36m20\u001b[0m   \u001b[1;36m25\u001b[0m     \u001b[1;36m30\u001b[0m   \u001b[1;36m35\u001b[0m     \u001b[1;36m40\u001b[0m   \\\n",
       "barthel_classification                                                         \n",
       "Dependencia total          \u001b[1;36m446.0\u001b[0m  \u001b[1;36m339.0\u001b[0m  \u001b[1;36m2.0\u001b[0m  \u001b[1;36m1068.0\u001b[0m  \u001b[1;36m0.0\u001b[0m    \u001b[1;36m0.0\u001b[0m  \u001b[1;36m0.0\u001b[0m    \u001b[1;36m0.0\u001b[0m   \n",
       "Dependencia severa           \u001b[1;36m0.0\u001b[0m    \u001b[1;36m0.0\u001b[0m  \u001b[1;36m0.0\u001b[0m     \u001b[1;36m0.0\u001b[0m  \u001b[1;36m1.0\u001b[0m  \u001b[1;36m305.0\u001b[0m  \u001b[1;36m6.0\u001b[0m  \u001b[1;36m411.0\u001b[0m   \n",
       "Dependencia moderada         \u001b[1;36m0.0\u001b[0m    \u001b[1;36m0.0\u001b[0m  \u001b[1;36m0.0\u001b[0m     \u001b[1;36m0.0\u001b[0m  \u001b[1;36m0.0\u001b[0m    \u001b[1;36m0.0\u001b[0m  \u001b[1;36m0.0\u001b[0m    \u001b[1;36m0.0\u001b[0m   \n",
       "Dependencia leve o mínima    \u001b[1;36m0.0\u001b[0m    \u001b[1;36m0.0\u001b[0m  \u001b[1;36m0.0\u001b[0m     \u001b[1;36m0.0\u001b[0m  \u001b[1;36m0.0\u001b[0m    \u001b[1;36m0.0\u001b[0m  \u001b[1;36m0.0\u001b[0m    \u001b[1;36m0.0\u001b[0m   \n",
       "Independencia                \u001b[1;36m0.0\u001b[0m    \u001b[1;36m0.0\u001b[0m  \u001b[1;36m0.0\u001b[0m     \u001b[1;36m0.0\u001b[0m  \u001b[1;36m0.0\u001b[0m    \u001b[1;36m0.0\u001b[0m  \u001b[1;36m0.0\u001b[0m    \u001b[1;36m0.0\u001b[0m   \n",
       "\n",
       "barthel                    \u001b[1;36m45\u001b[0m     \u001b[1;36m50\u001b[0m     \u001b[1;36m60\u001b[0m   \u001b[1;36m65\u001b[0m     \u001b[1;36m70\u001b[0m     \u001b[1;36m80\u001b[0m   \u001b[1;36m85\u001b[0m     \u001b[1;36m90\u001b[0m   \\\n",
       "barthel_classification                                                        \n",
       "Dependencia total          \u001b[1;36m0.0\u001b[0m    \u001b[1;36m0.0\u001b[0m    \u001b[1;36m0.0\u001b[0m  \u001b[1;36m0.0\u001b[0m    \u001b[1;36m0.0\u001b[0m    \u001b[1;36m0.0\u001b[0m  \u001b[1;36m0.0\u001b[0m    \u001b[1;36m0.0\u001b[0m   \n",
       "Dependencia severa         \u001b[1;36m0.0\u001b[0m    \u001b[1;36m0.0\u001b[0m    \u001b[1;36m0.0\u001b[0m  \u001b[1;36m0.0\u001b[0m    \u001b[1;36m0.0\u001b[0m    \u001b[1;36m0.0\u001b[0m  \u001b[1;36m0.0\u001b[0m    \u001b[1;36m0.0\u001b[0m   \n",
       "Dependencia moderada       \u001b[1;36m7.0\u001b[0m  \u001b[1;36m164.0\u001b[0m  \u001b[1;36m329.0\u001b[0m  \u001b[1;36m0.0\u001b[0m    \u001b[1;36m0.0\u001b[0m    \u001b[1;36m0.0\u001b[0m  \u001b[1;36m0.0\u001b[0m    \u001b[1;36m0.0\u001b[0m   \n",
       "Dependencia leve o mínima  \u001b[1;36m0.0\u001b[0m    \u001b[1;36m0.0\u001b[0m    \u001b[1;36m0.0\u001b[0m  \u001b[1;36m7.0\u001b[0m  \u001b[1;36m117.0\u001b[0m  \u001b[1;36m229.0\u001b[0m  \u001b[1;36m2.0\u001b[0m  \u001b[1;36m227.0\u001b[0m   \n",
       "Independencia              \u001b[1;36m0.0\u001b[0m    \u001b[1;36m0.0\u001b[0m    \u001b[1;36m0.0\u001b[0m  \u001b[1;36m0.0\u001b[0m    \u001b[1;36m0.0\u001b[0m    \u001b[1;36m0.0\u001b[0m  \u001b[1;36m0.0\u001b[0m    \u001b[1;36m0.0\u001b[0m   \n",
       "\n",
       "barthel                    \u001b[1;36m95\u001b[0m   \u001b[1;36m98\u001b[0m   \u001b[1;36m99\u001b[0m     \u001b[1;36m100\u001b[0m  \n",
       "barthel_classification                           \n",
       "Dependencia total          \u001b[1;36m0.0\u001b[0m  \u001b[1;36m0.0\u001b[0m  \u001b[1;36m0.0\u001b[0m    \u001b[1;36m0.0\u001b[0m  \n",
       "Dependencia severa         \u001b[1;36m0.0\u001b[0m  \u001b[1;36m0.0\u001b[0m  \u001b[1;36m0.0\u001b[0m    \u001b[1;36m0.0\u001b[0m  \n",
       "Dependencia moderada       \u001b[1;36m0.0\u001b[0m  \u001b[1;36m0.0\u001b[0m  \u001b[1;36m0.0\u001b[0m    \u001b[1;36m0.0\u001b[0m  \n",
       "Dependencia leve o mínima  \u001b[1;36m0.0\u001b[0m  \u001b[1;36m0.0\u001b[0m  \u001b[1;36m0.0\u001b[0m    \u001b[1;36m0.0\u001b[0m  \n",
       "Independencia              \u001b[1;36m3.0\u001b[0m  \u001b[1;36m1.0\u001b[0m  \u001b[1;36m2.0\u001b[0m  \u001b[1;36m347.0\u001b[0m  "
      ]
     },
     "execution_count": 16,
     "metadata": {},
     "output_type": "execute_result"
    }
   ],
   "source": [
    "# Agrupar por 'barthel_classification' y contar los valores únicos de 'barthel'\n",
    "classification_group = df_cleaned.groupby('barthel_classification')['barthel'].value_counts().unstack().fillna(0)\n",
    "classification_group_sorted = classification_group[sorted(classification_group.columns, key=int)]\n",
    "classification_group_sorted"
   ]
  },
  {
   "cell_type": "code",
   "execution_count": 17,
   "metadata": {},
   "outputs": [
    {
     "data": {
      "text/html": [
       "<pre style=\"white-space:pre;overflow-x:auto;line-height:normal;font-family:Menlo,'DejaVu Sans Mono',consolas,'Courier New',monospace\"></pre>\n"
      ],
      "text/plain": []
     },
     "metadata": {},
     "output_type": "display_data"
    },
    {
     "data": {
      "image/png": "[encoded data removed]",
      "text/plain": [
       "\u001b[1m<\u001b[0m\u001b[1;95mFigure\u001b[0m\u001b[39m size 150\u001b[0m\u001b[1;36m0x1000\u001b[0m\u001b[39m with \u001b[0m\u001b[1;36m2\u001b[0m\u001b[39m Axes\u001b[0m\u001b[1m>\u001b[0m"
      ]
     },
     "metadata": {},
     "output_type": "display_data"
    }
   ],
   "source": [
    "# Visualización de la clasificación de Barthel usando un heatmap\n",
    "plt.figure(figsize=(15, 10))\n",
    "sns.heatmap(classification_group_sorted, annot=True, cmap=\"YlGnBu\", fmt=\".0f\", cbar_kws={'label': 'Count'})\n",
    "\n",
    "plt.title('Classification of Barthel Scores', fontsize=20)\n",
    "plt.xlabel('Barthel Score', fontsize=15)\n",
    "plt.ylabel('Classification', fontsize=15)\n",
    "plt.xticks(fontsize=12)\n",
    "plt.yticks(fontsize=12, rotation=0)\n",
    "plt.show()\n"
   ]
  },
  {
   "cell_type": "markdown",
   "metadata": {},
   "source": [
    "# 2.PS_ECOG valores\n",
    "\n",
    "1. **Valores \"no\", \"nk\", \"si\", \"np\", \"o\", \"nop\"**: Estos valores parecen ser entradas inválidas o desconocidas. Podríamos reemplazar estos valores por `NaN` o asignarles un valor específico según el contexto del conjunto de datos (por ejemplo, un valor promedio o un valor por defecto).\n",
    "   \n",
    "2. **Valores como \"34\", \"23\", \"12\", \"30\", \"10\", \"20\", \"00\", \"410\", \"n23\", \"70\"**: Parecen ser errores tipográficos o entradas confusas. Podríamos tratar de deducir el valor correcto en función del valor más frecuente entre los dígitos o el dígito más alto (ya que un estado ECOG más alto indica una condición más grave).\n",
    "   \n",
    "3. **Valores como \"40\", \"1000\", \"0\"**: Parecen ser errores en el ingreso de datos. \"40\" parece ser un error para ECOG 4, \"1000\" podría ser un error para ECOG 1, y \"0\" parece ser un error tipográfico para ECOG 0.\n",
    "\n",
    "Dado esto, la estrategia será la siguiente:\n",
    "\n",
    "- Reemplazar \"no\", \"nk\", \"si\", \"np\", \"o\", \"nop\", '7', 'n23' con inferencia.\n",
    "```python\n",
    "  # Función para inferir el valor ps_ecog basado en la clasificación de barthel\n",
    "def infer_ps_ecog(row):\n",
    "    if row['ps_ecog'] in [ 'no', 'nk', 'si', 'np', 'o', 'nop', '7', 'n23']:\n",
    "        if row['barthel_classification'] == 'Dependencia total':\n",
    "            return '4'\n",
    "        elif row['barthel_classification'] == 'Dependencia severa':\n",
    "            return '3'\n",
    "        elif row['barthel_classification'] == 'Dependencia moderada':\n",
    "            return '2'\n",
    "        elif row['barthel_classification'] == 'Dependencia leve o mínima':\n",
    "            return '1'\n",
    "        elif row['barthel_classification'] == 'Independencia':\n",
    "            return '1'\n",
    "    return row['ps_ecog']\n",
    "```\n",
    "\n",
    "- Transformar valores como \"34\", \"23\", etc. tomando el valor más alto del conjunto de dígitos.\n",
    "  \n",
    "- Corregir valores como \"40\", \"1000\", y \"0\".\n",
    "\n",
    "Después de estas transformaciones, podemos crear una nueva columna con la clasificación textual basada en el valor ECOG.\n",
    "\n",
    "Vamos a realizar estas transformaciones."
   ]
  },
  {
   "cell_type": "code",
   "execution_count": 18,
   "metadata": {},
   "outputs": [
    {
     "data": {
      "text/html": [
       "<pre style=\"white-space:pre;overflow-x:auto;line-height:normal;font-family:Menlo,'DejaVu Sans Mono',consolas,'Courier New',monospace\"></pre>\n"
      ],
      "text/plain": []
     },
     "metadata": {},
     "output_type": "display_data"
    },
    {
     "data": {
      "text/plain": [
       "\n",
       "no      \u001b[1;36m2008\u001b[0m\n",
       "\u001b[1;36m40\u001b[0m       \u001b[1;36m963\u001b[0m\n",
       "\u001b[1;36m34\u001b[0m       \u001b[1;36m408\u001b[0m\n",
       "\u001b[1;36m23\u001b[0m       \u001b[1;36m211\u001b[0m\n",
       "\u001b[1;36m12\u001b[0m       \u001b[1;36m162\u001b[0m\n",
       "\u001b[1;36m30\u001b[0m        \u001b[1;36m93\u001b[0m\n",
       "\u001b[1;36m10\u001b[0m        \u001b[1;36m69\u001b[0m\n",
       "\u001b[1;36m20\u001b[0m        \u001b[1;36m54\u001b[0m\n",
       "nk        \u001b[1;36m21\u001b[0m\n",
       "\u001b[1;36m00\u001b[0m         \u001b[1;36m9\u001b[0m\n",
       "\u001b[1;36m410\u001b[0m        \u001b[1;36m4\u001b[0m\n",
       "n23        \u001b[1;36m2\u001b[0m\n",
       "si         \u001b[1;36m2\u001b[0m\n",
       "\u001b[1;36m70\u001b[0m         \u001b[1;36m2\u001b[0m\n",
       "np         \u001b[1;36m1\u001b[0m\n",
       "\u001b[1;36m1000\u001b[0m       \u001b[1;36m1\u001b[0m\n",
       "o          \u001b[1;36m1\u001b[0m\n",
       "\u001b[1;36m0\u001b[0m          \u001b[1;36m1\u001b[0m\n",
       "nop        \u001b[1;36m1\u001b[0m\n",
       "Name: ps_ecog, dtype: int64"
      ]
     },
     "execution_count": 18,
     "metadata": {},
     "output_type": "execute_result"
    }
   ],
   "source": [
    "df.ps_ecog.value_counts()"
   ]
  },
  {
   "cell_type": "code",
   "execution_count": 19,
   "metadata": {},
   "outputs": [
    {
     "data": {
      "text/html": [
       "<pre style=\"white-space:pre;overflow-x:auto;line-height:normal;font-family:Menlo,'DejaVu Sans Mono',consolas,'Courier New',monospace\"></pre>\n"
      ],
      "text/plain": []
     },
     "metadata": {},
     "output_type": "display_data"
    },
    {
     "data": {
      "text/plain": [
       "\n",
       "\u001b[1m(\u001b[0m\n",
       "    no     \u001b[1;36m2008\u001b[0m\n",
       "\u001b[1;36m4\u001b[0m      \u001b[1;36m1375\u001b[0m\n",
       "\u001b[1;36m3\u001b[0m       \u001b[1;36m304\u001b[0m\n",
       "\u001b[1;36m2\u001b[0m       \u001b[1;36m216\u001b[0m\n",
       "\u001b[1;36m1\u001b[0m        \u001b[1;36m70\u001b[0m\n",
       "nk       \u001b[1;36m21\u001b[0m\n",
       "\u001b[1;36m0\u001b[0m        \u001b[1;36m10\u001b[0m\n",
       "si        \u001b[1;36m2\u001b[0m\n",
       "\u001b[1;36m7\u001b[0m         \u001b[1;36m2\u001b[0m\n",
       "n23       \u001b[1;36m2\u001b[0m\n",
       "np        \u001b[1;36m1\u001b[0m\n",
       "o         \u001b[1;36m1\u001b[0m\n",
       "nop       \u001b[1;36m1\u001b[0m\n",
       "Name: ps_ecog_corrected, dtype: int64,\n",
       "    Encamado el \u001b[1;36m100\u001b[0m%                                 \u001b[1;36m1375\u001b[0m\n",
       "Necesita ayuda para la mayoria de actividades     \u001b[1;36m304\u001b[0m\n",
       "Sintomas moderados                                \u001b[1;36m216\u001b[0m\n",
       "Sintomas leves                                     \u001b[1;36m70\u001b[0m\n",
       "Totalmente asintomatico                            \u001b[1;36m10\u001b[0m\n",
       "Name: ps_ecog_classification, dtype: int64\n",
       "\u001b[1m)\u001b[0m"
      ]
     },
     "execution_count": 19,
     "metadata": {},
     "output_type": "execute_result"
    }
   ],
   "source": [
    "# Función para corregir valores basados en dígitos\n",
    "def correct_ps_ecog(value):\n",
    "    if isinstance(value, str) and value.isdigit():\n",
    "        # Tomar el valor más alto del conjunto de dígitos\n",
    "        return str(max([int(digit) for digit in value]))\n",
    "    return value\n",
    "\n",
    "df['ps_ecog_corrected'] = df['ps_ecog'].apply(correct_ps_ecog)\n",
    "\n",
    "# Corregir valores obvios\n",
    "df['ps_ecog_corrected'].replace({'1000': '1', '00': '0'}, inplace=True)\n",
    "\n",
    "# Crear una columna con la clasificación textual basada en el valor ECOG\n",
    "ecog_classification = {\n",
    "    '0': 'Totalmente asintomatico',\n",
    "    '1': 'Sintomas leves',\n",
    "    '2': 'Sintomas moderados',\n",
    "    '3': 'Necesita ayuda para la mayoria de actividades',\n",
    "    '4': 'Encamado el 100%',\n",
    "    '5': 'Fallecido'\n",
    "}\n",
    "\n",
    "df['ps_ecog_classification'] = df['ps_ecog_corrected'].map(ecog_classification)\n",
    "\n",
    "# Verificar las transformaciones\n",
    "df['ps_ecog_corrected'].value_counts(), df['ps_ecog_classification'].value_counts()\n"
   ]
  },
  {
   "cell_type": "markdown",
   "metadata": {},
   "source": [
    ">Hay registros con valores \"no\", \"nk\", \"si\", \"np\", \"o\", \"nop\", \"7\" y \"n23\", que aún deben ser tratados. El valor \"7\" no tiene sentido en el contexto del ECOG, y \"n23\" parece ser un valor confuso o un error. Estos valores deben ser investigados más a fondo para determinar el tratamiento adecuado."
   ]
  },
  {
   "cell_type": "code",
   "execution_count": 20,
   "metadata": {},
   "outputs": [
    {
     "data": {
      "text/html": [
       "<pre style=\"white-space:pre;overflow-x:auto;line-height:normal;font-family:Menlo,'DejaVu Sans Mono',consolas,'Courier New',monospace\"></pre>\n"
      ],
      "text/plain": []
     },
     "metadata": {},
     "output_type": "display_data"
    },
    {
     "data": {
      "text/html": [
       "<div>\n",
       "<style scoped>\n",
       "    .dataframe tbody tr th:only-of-type {\n",
       "        vertical-align: middle;\n",
       "    }\n",
       "\n",
       "    .dataframe tbody tr th {\n",
       "        vertical-align: top;\n",
       "    }\n",
       "\n",
       "    .dataframe thead th {\n",
       "        text-align: right;\n",
       "    }\n",
       "</style>\n",
       "<table border=\"1\" class=\"dataframe\">\n",
       "  <thead>\n",
       "    <tr style=\"text-align: right;\">\n",
       "      <th></th>\n",
       "      <th>h_procedencia</th>\n",
       "      <th>s_procedencia</th>\n",
       "      <th>ap</th>\n",
       "      <th>otros</th>\n",
       "      <th>diagnostico</th>\n",
       "      <th>motivo_ing</th>\n",
       "      <th>paliativo_onc_noc</th>\n",
       "      <th>paliativo_no_onc_noc</th>\n",
       "      <th>fiebre</th>\n",
       "      <th>disnea</th>\n",
       "      <th>dolor</th>\n",
       "      <th>delirium</th>\n",
       "      <th>otros_1</th>\n",
       "      <th>p_terminal</th>\n",
       "      <th>agonia</th>\n",
       "      <th>ps_ecog</th>\n",
       "      <th>barthel</th>\n",
       "      <th>gds_fast</th>\n",
       "      <th>eva_ing</th>\n",
       "      <th>otros_2</th>\n",
       "      <th>otros_complicaciones</th>\n",
       "      <th>n_estancias</th>\n",
       "      <th>n_visitas</th>\n",
       "      <th>sedacion</th>\n",
       "      <th>motivo_alta</th>\n",
       "      <th>medico</th>\n",
       "      <th>year</th>\n",
       "      <th>ast_anorx</th>\n",
       "      <th>agudo_estable</th>\n",
       "      <th>cronico_reag</th>\n",
       "      <th>trato_antibiotico</th>\n",
       "      <th>transfusion</th>\n",
       "      <th>paracentesis</th>\n",
       "      <th>toracocentesis</th>\n",
       "      <th>ayuntamiento</th>\n",
       "      <th>fecha_alta</th>\n",
       "      <th>fe_iv</th>\n",
       "      <th>barthel_classification</th>\n",
       "      <th>ps_ecog_corrected</th>\n",
       "      <th>ps_ecog_classification</th>\n",
       "    </tr>\n",
       "  </thead>\n",
       "  <tbody>\n",
       "    <tr>\n",
       "      <th>5</th>\n",
       "      <td>no</td>\n",
       "      <td>no</td>\n",
       "      <td>si</td>\n",
       "      <td>no</td>\n",
       "      <td>anemia</td>\n",
       "      <td>transfusion</td>\n",
       "      <td>no</td>\n",
       "      <td>no</td>\n",
       "      <td>no</td>\n",
       "      <td>no</td>\n",
       "      <td>no</td>\n",
       "      <td>no</td>\n",
       "      <td>no</td>\n",
       "      <td>no</td>\n",
       "      <td>no</td>\n",
       "      <td>no</td>\n",
       "      <td>50</td>\n",
       "      <td>no</td>\n",
       "      <td>no</td>\n",
       "      <td>no</td>\n",
       "      <td>no</td>\n",
       "      <td>2</td>\n",
       "      <td>2</td>\n",
       "      <td>no</td>\n",
       "      <td>fin de cuidados</td>\n",
       "      <td>villar del castillo</td>\n",
       "      <td>2017</td>\n",
       "      <td>no</td>\n",
       "      <td>desconocido</td>\n",
       "      <td>desconocido</td>\n",
       "      <td>desconocido</td>\n",
       "      <td>desconocido</td>\n",
       "      <td>desconocido</td>\n",
       "      <td>desconocido</td>\n",
       "      <td>desconocido</td>\n",
       "      <td>desconocido</td>\n",
       "      <td>desconocido</td>\n",
       "      <td>Dependencia moderada</td>\n",
       "      <td>no</td>\n",
       "      <td>NaN</td>\n",
       "    </tr>\n",
       "    <tr>\n",
       "      <th>12</th>\n",
       "      <td>no</td>\n",
       "      <td>no</td>\n",
       "      <td>si</td>\n",
       "      <td>no</td>\n",
       "      <td>anemia</td>\n",
       "      <td>transfusion</td>\n",
       "      <td>no</td>\n",
       "      <td>no</td>\n",
       "      <td>no</td>\n",
       "      <td>no</td>\n",
       "      <td>no</td>\n",
       "      <td>no</td>\n",
       "      <td>no</td>\n",
       "      <td>no</td>\n",
       "      <td>no</td>\n",
       "      <td>no</td>\n",
       "      <td>30</td>\n",
       "      <td>no</td>\n",
       "      <td>no</td>\n",
       "      <td>no</td>\n",
       "      <td>no</td>\n",
       "      <td>2</td>\n",
       "      <td>2</td>\n",
       "      <td>no</td>\n",
       "      <td>fin de cuidados</td>\n",
       "      <td>villar del castillo</td>\n",
       "      <td>2017</td>\n",
       "      <td>no</td>\n",
       "      <td>desconocido</td>\n",
       "      <td>desconocido</td>\n",
       "      <td>desconocido</td>\n",
       "      <td>desconocido</td>\n",
       "      <td>desconocido</td>\n",
       "      <td>desconocido</td>\n",
       "      <td>desconocido</td>\n",
       "      <td>desconocido</td>\n",
       "      <td>desconocido</td>\n",
       "      <td>Dependencia severa</td>\n",
       "      <td>no</td>\n",
       "      <td>NaN</td>\n",
       "    </tr>\n",
       "    <tr>\n",
       "      <th>20</th>\n",
       "      <td>no</td>\n",
       "      <td>no</td>\n",
       "      <td>si</td>\n",
       "      <td>no</td>\n",
       "      <td>neumonia</td>\n",
       "      <td>valoracion</td>\n",
       "      <td>no</td>\n",
       "      <td>no</td>\n",
       "      <td>no</td>\n",
       "      <td>no</td>\n",
       "      <td>no</td>\n",
       "      <td>no</td>\n",
       "      <td>no</td>\n",
       "      <td>no</td>\n",
       "      <td>no</td>\n",
       "      <td>no</td>\n",
       "      <td>20</td>\n",
       "      <td>no</td>\n",
       "      <td>no</td>\n",
       "      <td>no</td>\n",
       "      <td>no</td>\n",
       "      <td>3</td>\n",
       "      <td>2</td>\n",
       "      <td>no</td>\n",
       "      <td>fin de cuidados</td>\n",
       "      <td>suarez</td>\n",
       "      <td>2017</td>\n",
       "      <td>si</td>\n",
       "      <td>desconocido</td>\n",
       "      <td>desconocido</td>\n",
       "      <td>desconocido</td>\n",
       "      <td>desconocido</td>\n",
       "      <td>desconocido</td>\n",
       "      <td>desconocido</td>\n",
       "      <td>desconocido</td>\n",
       "      <td>desconocido</td>\n",
       "      <td>desconocido</td>\n",
       "      <td>Dependencia total</td>\n",
       "      <td>no</td>\n",
       "      <td>NaN</td>\n",
       "    </tr>\n",
       "    <tr>\n",
       "      <th>21</th>\n",
       "      <td>clinico</td>\n",
       "      <td>mir</td>\n",
       "      <td>no</td>\n",
       "      <td>no</td>\n",
       "      <td>niemannpick</td>\n",
       "      <td>neumonia</td>\n",
       "      <td>si</td>\n",
       "      <td>si</td>\n",
       "      <td>si</td>\n",
       "      <td>no</td>\n",
       "      <td>no</td>\n",
       "      <td>no</td>\n",
       "      <td>no</td>\n",
       "      <td>no</td>\n",
       "      <td>no</td>\n",
       "      <td>no</td>\n",
       "      <td>20</td>\n",
       "      <td>no</td>\n",
       "      <td>no</td>\n",
       "      <td>no</td>\n",
       "      <td>no</td>\n",
       "      <td>103</td>\n",
       "      <td>21</td>\n",
       "      <td>no</td>\n",
       "      <td>fin de cuidados</td>\n",
       "      <td>suarez</td>\n",
       "      <td>2017</td>\n",
       "      <td>si</td>\n",
       "      <td>desconocido</td>\n",
       "      <td>desconocido</td>\n",
       "      <td>desconocido</td>\n",
       "      <td>desconocido</td>\n",
       "      <td>desconocido</td>\n",
       "      <td>desconocido</td>\n",
       "      <td>desconocido</td>\n",
       "      <td>desconocido</td>\n",
       "      <td>desconocido</td>\n",
       "      <td>Dependencia total</td>\n",
       "      <td>no</td>\n",
       "      <td>NaN</td>\n",
       "    </tr>\n",
       "    <tr>\n",
       "      <th>22</th>\n",
       "      <td>clinico</td>\n",
       "      <td>nml</td>\n",
       "      <td>no</td>\n",
       "      <td>no</td>\n",
       "      <td>sarcoidosis</td>\n",
       "      <td>control sintomas</td>\n",
       "      <td>no</td>\n",
       "      <td>si</td>\n",
       "      <td>no</td>\n",
       "      <td>si</td>\n",
       "      <td>no</td>\n",
       "      <td>si</td>\n",
       "      <td>no</td>\n",
       "      <td>no</td>\n",
       "      <td>si</td>\n",
       "      <td>no</td>\n",
       "      <td>20</td>\n",
       "      <td>no</td>\n",
       "      <td>no</td>\n",
       "      <td>no</td>\n",
       "      <td>no</td>\n",
       "      <td>1</td>\n",
       "      <td>2</td>\n",
       "      <td>si midazolam morfina buscapina</td>\n",
       "      <td>exitus</td>\n",
       "      <td>ibanez alonso</td>\n",
       "      <td>2017</td>\n",
       "      <td>si</td>\n",
       "      <td>desconocido</td>\n",
       "      <td>desconocido</td>\n",
       "      <td>desconocido</td>\n",
       "      <td>desconocido</td>\n",
       "      <td>desconocido</td>\n",
       "      <td>desconocido</td>\n",
       "      <td>desconocido</td>\n",
       "      <td>desconocido</td>\n",
       "      <td>desconocido</td>\n",
       "      <td>Dependencia total</td>\n",
       "      <td>no</td>\n",
       "      <td>NaN</td>\n",
       "    </tr>\n",
       "    <tr>\n",
       "      <th>...</th>\n",
       "      <td>...</td>\n",
       "      <td>...</td>\n",
       "      <td>...</td>\n",
       "      <td>...</td>\n",
       "      <td>...</td>\n",
       "      <td>...</td>\n",
       "      <td>...</td>\n",
       "      <td>...</td>\n",
       "      <td>...</td>\n",
       "      <td>...</td>\n",
       "      <td>...</td>\n",
       "      <td>...</td>\n",
       "      <td>...</td>\n",
       "      <td>...</td>\n",
       "      <td>...</td>\n",
       "      <td>...</td>\n",
       "      <td>...</td>\n",
       "      <td>...</td>\n",
       "      <td>...</td>\n",
       "      <td>...</td>\n",
       "      <td>...</td>\n",
       "      <td>...</td>\n",
       "      <td>...</td>\n",
       "      <td>...</td>\n",
       "      <td>...</td>\n",
       "      <td>...</td>\n",
       "      <td>...</td>\n",
       "      <td>...</td>\n",
       "      <td>...</td>\n",
       "      <td>...</td>\n",
       "      <td>...</td>\n",
       "      <td>...</td>\n",
       "      <td>...</td>\n",
       "      <td>...</td>\n",
       "      <td>...</td>\n",
       "      <td>...</td>\n",
       "      <td>...</td>\n",
       "      <td>...</td>\n",
       "      <td>...</td>\n",
       "      <td>...</td>\n",
       "    </tr>\n",
       "    <tr>\n",
       "      <th>4002</th>\n",
       "      <td>no</td>\n",
       "      <td>no</td>\n",
       "      <td>si</td>\n",
       "      <td>desconocido</td>\n",
       "      <td>itu</td>\n",
       "      <td>valoracion</td>\n",
       "      <td>no</td>\n",
       "      <td>no</td>\n",
       "      <td>no</td>\n",
       "      <td>no</td>\n",
       "      <td>no</td>\n",
       "      <td>no</td>\n",
       "      <td>desconocido</td>\n",
       "      <td>desconocido</td>\n",
       "      <td>desconocido</td>\n",
       "      <td>no</td>\n",
       "      <td>0</td>\n",
       "      <td>no</td>\n",
       "      <td>0</td>\n",
       "      <td>desconocido</td>\n",
       "      <td>desconocido</td>\n",
       "      <td>7</td>\n",
       "      <td>2</td>\n",
       "      <td>no</td>\n",
       "      <td>fin cuidados</td>\n",
       "      <td>gomez buela</td>\n",
       "      <td>2022</td>\n",
       "      <td>no</td>\n",
       "      <td>si</td>\n",
       "      <td>no</td>\n",
       "      <td>no</td>\n",
       "      <td>no</td>\n",
       "      <td>no</td>\n",
       "      <td>no</td>\n",
       "      <td>santiago</td>\n",
       "      <td>20221226t000000</td>\n",
       "      <td>no</td>\n",
       "      <td>Dependencia total</td>\n",
       "      <td>no</td>\n",
       "      <td>NaN</td>\n",
       "    </tr>\n",
       "    <tr>\n",
       "      <th>4004</th>\n",
       "      <td>clinico</td>\n",
       "      <td>mir</td>\n",
       "      <td>no</td>\n",
       "      <td>desconocido</td>\n",
       "      <td>icc</td>\n",
       "      <td>seguimiento</td>\n",
       "      <td>no</td>\n",
       "      <td>no</td>\n",
       "      <td>no</td>\n",
       "      <td>no</td>\n",
       "      <td>no</td>\n",
       "      <td>no</td>\n",
       "      <td>desconocido</td>\n",
       "      <td>desconocido</td>\n",
       "      <td>desconocido</td>\n",
       "      <td>no</td>\n",
       "      <td>40</td>\n",
       "      <td>no</td>\n",
       "      <td>0</td>\n",
       "      <td>desconocido</td>\n",
       "      <td>desconocido</td>\n",
       "      <td>8</td>\n",
       "      <td>3</td>\n",
       "      <td>no</td>\n",
       "      <td>fin cuidados</td>\n",
       "      <td>gomez buela</td>\n",
       "      <td>2022</td>\n",
       "      <td>no</td>\n",
       "      <td>si</td>\n",
       "      <td>no</td>\n",
       "      <td>no</td>\n",
       "      <td>no</td>\n",
       "      <td>no</td>\n",
       "      <td>no</td>\n",
       "      <td>santiago</td>\n",
       "      <td>20221230t000000</td>\n",
       "      <td>no</td>\n",
       "      <td>Dependencia severa</td>\n",
       "      <td>no</td>\n",
       "      <td>NaN</td>\n",
       "    </tr>\n",
       "    <tr>\n",
       "      <th>4005</th>\n",
       "      <td>clinico</td>\n",
       "      <td>cgd</td>\n",
       "      <td>no</td>\n",
       "      <td>desconocido</td>\n",
       "      <td>diverticulitis</td>\n",
       "      <td>antibioterapia iv</td>\n",
       "      <td>no</td>\n",
       "      <td>no</td>\n",
       "      <td>no</td>\n",
       "      <td>no</td>\n",
       "      <td>no</td>\n",
       "      <td>no</td>\n",
       "      <td>desconocido</td>\n",
       "      <td>desconocido</td>\n",
       "      <td>desconocido</td>\n",
       "      <td>no</td>\n",
       "      <td>0</td>\n",
       "      <td>no</td>\n",
       "      <td>0</td>\n",
       "      <td>desconocido</td>\n",
       "      <td>desconocido</td>\n",
       "      <td>6</td>\n",
       "      <td>2</td>\n",
       "      <td>no</td>\n",
       "      <td>fin cuidados</td>\n",
       "      <td>gomez buela</td>\n",
       "      <td>2022</td>\n",
       "      <td>no</td>\n",
       "      <td>si</td>\n",
       "      <td>no</td>\n",
       "      <td>si</td>\n",
       "      <td>no</td>\n",
       "      <td>no</td>\n",
       "      <td>no</td>\n",
       "      <td>santiago</td>\n",
       "      <td>20221228t000000</td>\n",
       "      <td>no</td>\n",
       "      <td>Dependencia total</td>\n",
       "      <td>no</td>\n",
       "      <td>NaN</td>\n",
       "    </tr>\n",
       "    <tr>\n",
       "      <th>4009</th>\n",
       "      <td>clinico</td>\n",
       "      <td>mir</td>\n",
       "      <td>no</td>\n",
       "      <td>desconocido</td>\n",
       "      <td>anciano fragil</td>\n",
       "      <td>seguimiento</td>\n",
       "      <td>no</td>\n",
       "      <td>si</td>\n",
       "      <td>no</td>\n",
       "      <td>si</td>\n",
       "      <td>no</td>\n",
       "      <td>no</td>\n",
       "      <td>desconocido</td>\n",
       "      <td>desconocido</td>\n",
       "      <td>desconocido</td>\n",
       "      <td>no</td>\n",
       "      <td>30</td>\n",
       "      <td>40</td>\n",
       "      <td>0</td>\n",
       "      <td>desconocido</td>\n",
       "      <td>desconocido</td>\n",
       "      <td>6</td>\n",
       "      <td>4</td>\n",
       "      <td>no</td>\n",
       "      <td>exitus</td>\n",
       "      <td>villar del castillo</td>\n",
       "      <td>2022</td>\n",
       "      <td>no</td>\n",
       "      <td>no</td>\n",
       "      <td>si</td>\n",
       "      <td>no</td>\n",
       "      <td>no</td>\n",
       "      <td>no</td>\n",
       "      <td>no</td>\n",
       "      <td>silleda</td>\n",
       "      <td>20221231t000000</td>\n",
       "      <td>no</td>\n",
       "      <td>Dependencia severa</td>\n",
       "      <td>no</td>\n",
       "      <td>NaN</td>\n",
       "    </tr>\n",
       "    <tr>\n",
       "      <th>4011</th>\n",
       "      <td>clinico</td>\n",
       "      <td>urg</td>\n",
       "      <td>no</td>\n",
       "      <td>desconocido</td>\n",
       "      <td>itu</td>\n",
       "      <td>antibioterapia iv</td>\n",
       "      <td>no</td>\n",
       "      <td>si</td>\n",
       "      <td>si</td>\n",
       "      <td>no</td>\n",
       "      <td>no</td>\n",
       "      <td>si</td>\n",
       "      <td>desconocido</td>\n",
       "      <td>desconocido</td>\n",
       "      <td>desconocido</td>\n",
       "      <td>no</td>\n",
       "      <td>20</td>\n",
       "      <td>7c</td>\n",
       "      <td>0</td>\n",
       "      <td>desconocido</td>\n",
       "      <td>desconocido</td>\n",
       "      <td>11</td>\n",
       "      <td>3</td>\n",
       "      <td>si</td>\n",
       "      <td>exitus</td>\n",
       "      <td>fernandez benito</td>\n",
       "      <td>2022</td>\n",
       "      <td>no</td>\n",
       "      <td>no</td>\n",
       "      <td>si</td>\n",
       "      <td>si</td>\n",
       "      <td>no</td>\n",
       "      <td>no</td>\n",
       "      <td>no</td>\n",
       "      <td>noya</td>\n",
       "      <td>20221230t000000</td>\n",
       "      <td>no</td>\n",
       "      <td>Dependencia total</td>\n",
       "      <td>no</td>\n",
       "      <td>NaN</td>\n",
       "    </tr>\n",
       "  </tbody>\n",
       "</table>\n",
       "<p>2038 rows × 40 columns</p>\n",
       "</div>"
      ],
      "text/plain": [
       "\n",
       "     h_procedencia s_procedencia  ap        otros     diagnostico  \\\n",
       "\u001b[1;36m5\u001b[0m               no            no  si           no          anemia   \n",
       "\u001b[1;36m12\u001b[0m              no            no  si           no          anemia   \n",
       "\u001b[1;36m20\u001b[0m              no            no  si           no        neumonia   \n",
       "\u001b[1;36m21\u001b[0m         clinico           mir  no           no     niemannpick   \n",
       "\u001b[1;36m22\u001b[0m         clinico           nml  no           no     sarcoidosis   \n",
       "\u001b[33m...\u001b[0m            \u001b[33m...\u001b[0m           \u001b[33m...\u001b[0m  ..          \u001b[33m...\u001b[0m             \u001b[33m...\u001b[0m   \n",
       "\u001b[1;36m4002\u001b[0m            no            no  si  desconocido             itu   \n",
       "\u001b[1;36m4004\u001b[0m       clinico           mir  no  desconocido             icc   \n",
       "\u001b[1;36m4005\u001b[0m       clinico           cgd  no  desconocido  diverticulitis   \n",
       "\u001b[1;36m4009\u001b[0m       clinico           mir  no  desconocido  anciano fragil   \n",
       "\u001b[1;36m4011\u001b[0m       clinico           urg  no  desconocido             itu   \n",
       "\n",
       "             motivo_ing paliativo_onc_noc paliativo_no_onc_noc fiebre disnea  \\\n",
       "\u001b[1;36m5\u001b[0m           transfusion                no                   no     no     no   \n",
       "\u001b[1;36m12\u001b[0m          transfusion                no                   no     no     no   \n",
       "\u001b[1;36m20\u001b[0m           valoracion                no                   no     no     no   \n",
       "\u001b[1;36m21\u001b[0m             neumonia                si                   si     si     no   \n",
       "\u001b[1;36m22\u001b[0m     control sintomas                no                   si     no     si   \n",
       "\u001b[33m...\u001b[0m                 \u001b[33m...\u001b[0m               \u001b[33m...\u001b[0m                  \u001b[33m...\u001b[0m    \u001b[33m...\u001b[0m    \u001b[33m...\u001b[0m   \n",
       "\u001b[1;36m4002\u001b[0m         valoracion                no                   no     no     no   \n",
       "\u001b[1;36m4004\u001b[0m        seguimiento                no                   no     no     no   \n",
       "\u001b[1;36m4005\u001b[0m  antibioterapia iv                no                   no     no     no   \n",
       "\u001b[1;36m4009\u001b[0m        seguimiento                no                   si     no     si   \n",
       "\u001b[1;36m4011\u001b[0m  antibioterapia iv                no                   si     si     no   \n",
       "\n",
       "     dolor delirium      otros_1   p_terminal       agonia ps_ecog  barthel  \\\n",
       "\u001b[1;36m5\u001b[0m       no       no           no           no           no      no       \u001b[1;36m50\u001b[0m   \n",
       "\u001b[1;36m12\u001b[0m      no       no           no           no           no      no       \u001b[1;36m30\u001b[0m   \n",
       "\u001b[1;36m20\u001b[0m      no       no           no           no           no      no       \u001b[1;36m20\u001b[0m   \n",
       "\u001b[1;36m21\u001b[0m      no       no           no           no           no      no       \u001b[1;36m20\u001b[0m   \n",
       "\u001b[1;36m22\u001b[0m      no       si           no           no           si      no       \u001b[1;36m20\u001b[0m   \n",
       "\u001b[33m...\u001b[0m    \u001b[33m...\u001b[0m      \u001b[33m...\u001b[0m          \u001b[33m...\u001b[0m          \u001b[33m...\u001b[0m          \u001b[33m...\u001b[0m     \u001b[33m...\u001b[0m      \u001b[33m...\u001b[0m   \n",
       "\u001b[1;36m4002\u001b[0m    no       no  desconocido  desconocido  desconocido      no        \u001b[1;36m0\u001b[0m   \n",
       "\u001b[1;36m4004\u001b[0m    no       no  desconocido  desconocido  desconocido      no       \u001b[1;36m40\u001b[0m   \n",
       "\u001b[1;36m4005\u001b[0m    no       no  desconocido  desconocido  desconocido      no        \u001b[1;36m0\u001b[0m   \n",
       "\u001b[1;36m4009\u001b[0m    no       no  desconocido  desconocido  desconocido      no       \u001b[1;36m30\u001b[0m   \n",
       "\u001b[1;36m4011\u001b[0m    no       si  desconocido  desconocido  desconocido      no       \u001b[1;36m20\u001b[0m   \n",
       "\n",
       "     gds_fast eva_ing      otros_2 otros_complicaciones  n_estancias  \\\n",
       "\u001b[1;36m5\u001b[0m          no      no           no                   no            \u001b[1;36m2\u001b[0m   \n",
       "\u001b[1;36m12\u001b[0m         no      no           no                   no            \u001b[1;36m2\u001b[0m   \n",
       "\u001b[1;36m20\u001b[0m         no      no           no                   no            \u001b[1;36m3\u001b[0m   \n",
       "\u001b[1;36m21\u001b[0m         no      no           no                   no          \u001b[1;36m103\u001b[0m   \n",
       "\u001b[1;36m22\u001b[0m         no      no           no                   no            \u001b[1;36m1\u001b[0m   \n",
       "\u001b[33m...\u001b[0m       \u001b[33m...\u001b[0m     \u001b[33m...\u001b[0m          \u001b[33m...\u001b[0m                  \u001b[33m...\u001b[0m          \u001b[33m...\u001b[0m   \n",
       "\u001b[1;36m4002\u001b[0m       no       \u001b[1;36m0\u001b[0m  desconocido          desconocido            \u001b[1;36m7\u001b[0m   \n",
       "\u001b[1;36m4004\u001b[0m       no       \u001b[1;36m0\u001b[0m  desconocido          desconocido            \u001b[1;36m8\u001b[0m   \n",
       "\u001b[1;36m4005\u001b[0m       no       \u001b[1;36m0\u001b[0m  desconocido          desconocido            \u001b[1;36m6\u001b[0m   \n",
       "\u001b[1;36m4009\u001b[0m       \u001b[1;36m40\u001b[0m       \u001b[1;36m0\u001b[0m  desconocido          desconocido            \u001b[1;36m6\u001b[0m   \n",
       "\u001b[1;36m4011\u001b[0m       7c       \u001b[1;36m0\u001b[0m  desconocido          desconocido           \u001b[1;36m11\u001b[0m   \n",
       "\n",
       "      n_visitas                        sedacion      motivo_alta  \\\n",
       "\u001b[1;36m5\u001b[0m             \u001b[1;36m2\u001b[0m                              no  fin de cuidados   \n",
       "\u001b[1;36m12\u001b[0m            \u001b[1;36m2\u001b[0m                              no  fin de cuidados   \n",
       "\u001b[1;36m20\u001b[0m            \u001b[1;36m2\u001b[0m                              no  fin de cuidados   \n",
       "\u001b[1;36m21\u001b[0m           \u001b[1;36m21\u001b[0m                              no  fin de cuidados   \n",
       "\u001b[1;36m22\u001b[0m            \u001b[1;36m2\u001b[0m  si midazolam morfina buscapina           exitus   \n",
       "\u001b[33m...\u001b[0m         \u001b[33m...\u001b[0m                             \u001b[33m...\u001b[0m              \u001b[33m...\u001b[0m   \n",
       "\u001b[1;36m4002\u001b[0m          \u001b[1;36m2\u001b[0m                              no     fin cuidados   \n",
       "\u001b[1;36m4004\u001b[0m          \u001b[1;36m3\u001b[0m                              no     fin cuidados   \n",
       "\u001b[1;36m4005\u001b[0m          \u001b[1;36m2\u001b[0m                              no     fin cuidados   \n",
       "\u001b[1;36m4009\u001b[0m          \u001b[1;36m4\u001b[0m                              no           exitus   \n",
       "\u001b[1;36m4011\u001b[0m          \u001b[1;36m3\u001b[0m                              si           exitus   \n",
       "\n",
       "                   medico  year ast_anorx agudo_estable cronico_reag  \\\n",
       "\u001b[1;36m5\u001b[0m     villar del castillo  \u001b[1;36m2017\u001b[0m        no   desconocido  desconocido   \n",
       "\u001b[1;36m12\u001b[0m    villar del castillo  \u001b[1;36m2017\u001b[0m        no   desconocido  desconocido   \n",
       "\u001b[1;36m20\u001b[0m                 suarez  \u001b[1;36m2017\u001b[0m        si   desconocido  desconocido   \n",
       "\u001b[1;36m21\u001b[0m                 suarez  \u001b[1;36m2017\u001b[0m        si   desconocido  desconocido   \n",
       "\u001b[1;36m22\u001b[0m          ibanez alonso  \u001b[1;36m2017\u001b[0m        si   desconocido  desconocido   \n",
       "\u001b[33m...\u001b[0m                   \u001b[33m...\u001b[0m   \u001b[33m...\u001b[0m       \u001b[33m...\u001b[0m           \u001b[33m...\u001b[0m          \u001b[33m...\u001b[0m   \n",
       "\u001b[1;36m4002\u001b[0m          gomez buela  \u001b[1;36m2022\u001b[0m        no            si           no   \n",
       "\u001b[1;36m4004\u001b[0m          gomez buela  \u001b[1;36m2022\u001b[0m        no            si           no   \n",
       "\u001b[1;36m4005\u001b[0m          gomez buela  \u001b[1;36m2022\u001b[0m        no            si           no   \n",
       "\u001b[1;36m4009\u001b[0m  villar del castillo  \u001b[1;36m2022\u001b[0m        no            no           si   \n",
       "\u001b[1;36m4011\u001b[0m     fernandez benito  \u001b[1;36m2022\u001b[0m        no            no           si   \n",
       "\n",
       "     trato_antibiotico  transfusion paracentesis toracocentesis ayuntamiento  \\\n",
       "\u001b[1;36m5\u001b[0m          desconocido  desconocido  desconocido    desconocido  desconocido   \n",
       "\u001b[1;36m12\u001b[0m         desconocido  desconocido  desconocido    desconocido  desconocido   \n",
       "\u001b[1;36m20\u001b[0m         desconocido  desconocido  desconocido    desconocido  desconocido   \n",
       "\u001b[1;36m21\u001b[0m         desconocido  desconocido  desconocido    desconocido  desconocido   \n",
       "\u001b[1;36m22\u001b[0m         desconocido  desconocido  desconocido    desconocido  desconocido   \n",
       "\u001b[33m...\u001b[0m                \u001b[33m...\u001b[0m          \u001b[33m...\u001b[0m          \u001b[33m...\u001b[0m            \u001b[33m...\u001b[0m          \u001b[33m...\u001b[0m   \n",
       "\u001b[1;36m4002\u001b[0m                no           no           no             no     santiago   \n",
       "\u001b[1;36m4004\u001b[0m                no           no           no             no     santiago   \n",
       "\u001b[1;36m4005\u001b[0m                si           no           no             no     santiago   \n",
       "\u001b[1;36m4009\u001b[0m                no           no           no             no      silleda   \n",
       "\u001b[1;36m4011\u001b[0m                si           no           no             no         noya   \n",
       "\n",
       "           fecha_alta        fe_iv barthel_classification ps_ecog_corrected  \\\n",
       "\u001b[1;36m5\u001b[0m         desconocido  desconocido   Dependencia moderada                no   \n",
       "\u001b[1;36m12\u001b[0m        desconocido  desconocido     Dependencia severa                no   \n",
       "\u001b[1;36m20\u001b[0m        desconocido  desconocido      Dependencia total                no   \n",
       "\u001b[1;36m21\u001b[0m        desconocido  desconocido      Dependencia total                no   \n",
       "\u001b[1;36m22\u001b[0m        desconocido  desconocido      Dependencia total                no   \n",
       "\u001b[33m...\u001b[0m               \u001b[33m...\u001b[0m          \u001b[33m...\u001b[0m                    \u001b[33m...\u001b[0m               \u001b[33m...\u001b[0m   \n",
       "\u001b[1;36m4002\u001b[0m  20221226t000000           no      Dependencia total                no   \n",
       "\u001b[1;36m4004\u001b[0m  20221230t000000           no     Dependencia severa                no   \n",
       "\u001b[1;36m4005\u001b[0m  20221228t000000           no      Dependencia total                no   \n",
       "\u001b[1;36m4009\u001b[0m  20221231t000000           no     Dependencia severa                no   \n",
       "\u001b[1;36m4011\u001b[0m  20221230t000000           no      Dependencia total                no   \n",
       "\n",
       "     ps_ecog_classification  \n",
       "\u001b[1;36m5\u001b[0m                       NaN  \n",
       "\u001b[1;36m12\u001b[0m                      NaN  \n",
       "\u001b[1;36m20\u001b[0m                      NaN  \n",
       "\u001b[1;36m21\u001b[0m                      NaN  \n",
       "\u001b[1;36m22\u001b[0m                      NaN  \n",
       "\u001b[33m...\u001b[0m                     \u001b[33m...\u001b[0m  \n",
       "\u001b[1;36m4002\u001b[0m                    NaN  \n",
       "\u001b[1;36m4004\u001b[0m                    NaN  \n",
       "\u001b[1;36m4005\u001b[0m                    NaN  \n",
       "\u001b[1;36m4009\u001b[0m                    NaN  \n",
       "\u001b[1;36m4011\u001b[0m                    NaN  \n",
       "\n",
       "\u001b[1m[\u001b[0m\u001b[1;36m2038\u001b[0m rows x \u001b[1;36m40\u001b[0m columns\u001b[1m]\u001b[0m"
      ]
     },
     "execution_count": 20,
     "metadata": {},
     "output_type": "execute_result"
    }
   ],
   "source": [
    "# Filtrar y mostrar las filas donde ps_ecog es ['no', 'nk', 'si', 'np', 'o', 'nop', '7','n23']\n",
    "df[df['ps_ecog_corrected'].isin([ 'no', 'nk', 'si', 'np', 'o', 'nop', '7','n23'])]"
   ]
  },
  {
   "cell_type": "code",
   "execution_count": 21,
   "metadata": {},
   "outputs": [
    {
     "data": {
      "text/html": [
       "<pre style=\"white-space:pre;overflow-x:auto;line-height:normal;font-family:Menlo,'DejaVu Sans Mono',consolas,'Courier New',monospace\"><span style=\"color: #7fbfbf; text-decoration-color: #7fbfbf\">[10/23/23 23:35:43] </span><span style=\"color: #800000; text-decoration-color: #800000\">WARNING </span> C:\\Users\\Pablo                                                         <span style=\"color: #7f7f7f; text-decoration-color: #7f7f7f\">warnings.py:109</span>\n",
       "<span style=\"color: #7fbfbf; text-decoration-color: #7fbfbf\">                    </span>         Villar\\AppData\\Local\\Temp\\ipykernel_26084\\<span style=\"color: #008080; text-decoration-color: #008080; font-weight: bold\">492484131.</span>py:<span style=\"color: #008080; text-decoration-color: #008080; font-weight: bold\">14</span>:             <span style=\"color: #7f7f7f; text-decoration-color: #7f7f7f\">               </span>\n",
       "<span style=\"color: #7fbfbf; text-decoration-color: #7fbfbf\">                    </span>         FutureWarning: The default value of numeric_only in DataFrame.corr is  <span style=\"color: #7f7f7f; text-decoration-color: #7f7f7f\">               </span>\n",
       "<span style=\"color: #7fbfbf; text-decoration-color: #7fbfbf\">                    </span>         deprecated. In a future version, it will default to <span style=\"color: #ff0000; text-decoration-color: #ff0000; font-style: italic\">False</span>. Select only <span style=\"color: #7f7f7f; text-decoration-color: #7f7f7f\">               </span>\n",
       "<span style=\"color: #7fbfbf; text-decoration-color: #7fbfbf\">                    </span>         valid columns or specify the value of numeric_only to silence this     <span style=\"color: #7f7f7f; text-decoration-color: #7f7f7f\">               </span>\n",
       "<span style=\"color: #7fbfbf; text-decoration-color: #7fbfbf\">                    </span>         warning.                                                               <span style=\"color: #7f7f7f; text-decoration-color: #7f7f7f\">               </span>\n",
       "<span style=\"color: #7fbfbf; text-decoration-color: #7fbfbf\">                    </span>           <span style=\"color: #800080; text-decoration-color: #800080; font-weight: bold\">sns.heatmap</span><span style=\"font-weight: bold\">(</span><span style=\"color: #800080; text-decoration-color: #800080; font-weight: bold\">df_corr_clean.corr</span><span style=\"font-weight: bold\">()</span>, <span style=\"color: #808000; text-decoration-color: #808000\">annot</span>=<span style=\"color: #00ff00; text-decoration-color: #00ff00; font-style: italic\">True</span>, <span style=\"color: #808000; text-decoration-color: #808000\">cmap</span>=<span style=\"color: #008000; text-decoration-color: #008000\">'coolwarm'</span>,       <span style=\"color: #7f7f7f; text-decoration-color: #7f7f7f\">               </span>\n",
       "<span style=\"color: #7fbfbf; text-decoration-color: #7fbfbf\">                    </span>         <span style=\"color: #808000; text-decoration-color: #808000\">center</span>=<span style=\"color: #008080; text-decoration-color: #008080; font-weight: bold\">0</span><span style=\"font-weight: bold\">)</span>                                                              <span style=\"color: #7f7f7f; text-decoration-color: #7f7f7f\">               </span>\n",
       "<span style=\"color: #7fbfbf; text-decoration-color: #7fbfbf\">                    </span>                                                                                <span style=\"color: #7f7f7f; text-decoration-color: #7f7f7f\">               </span>\n",
       "</pre>\n"
      ],
      "text/plain": [
       "\u001b[2;36m[10/23/23 23:35:43]\u001b[0m\u001b[2;36m \u001b[0m\u001b[31mWARNING \u001b[0m C:\\Users\\Pablo                                                         \u001b[2mwarnings.py\u001b[0m\u001b[2m:\u001b[0m\u001b[2m109\u001b[0m\n",
       "\u001b[2;36m                    \u001b[0m         Villar\\AppData\\Local\\Temp\\ipykernel_26084\\\u001b[1;36m492484131.\u001b[0mpy:\u001b[1;36m14\u001b[0m:             \u001b[2m               \u001b[0m\n",
       "\u001b[2;36m                    \u001b[0m         FutureWarning: The default value of numeric_only in DataFrame.corr is  \u001b[2m               \u001b[0m\n",
       "\u001b[2;36m                    \u001b[0m         deprecated. In a future version, it will default to \u001b[3;91mFalse\u001b[0m. Select only \u001b[2m               \u001b[0m\n",
       "\u001b[2;36m                    \u001b[0m         valid columns or specify the value of numeric_only to silence this     \u001b[2m               \u001b[0m\n",
       "\u001b[2;36m                    \u001b[0m         warning.                                                               \u001b[2m               \u001b[0m\n",
       "\u001b[2;36m                    \u001b[0m           \u001b[1;35msns.heatmap\u001b[0m\u001b[1m(\u001b[0m\u001b[1;35mdf_corr_clean.corr\u001b[0m\u001b[1m(\u001b[0m\u001b[1m)\u001b[0m, \u001b[33mannot\u001b[0m=\u001b[3;92mTrue\u001b[0m, \u001b[33mcmap\u001b[0m=\u001b[32m'coolwarm'\u001b[0m,       \u001b[2m               \u001b[0m\n",
       "\u001b[2;36m                    \u001b[0m         \u001b[33mcenter\u001b[0m=\u001b[1;36m0\u001b[0m\u001b[1m)\u001b[0m                                                              \u001b[2m               \u001b[0m\n",
       "\u001b[2;36m                    \u001b[0m                                                                                \u001b[2m               \u001b[0m\n"
      ]
     },
     "metadata": {},
     "output_type": "display_data"
    },
    {
     "data": {
      "text/html": [
       "<pre style=\"white-space:pre;overflow-x:auto;line-height:normal;font-family:Menlo,'DejaVu Sans Mono',consolas,'Courier New',monospace\"></pre>\n"
      ],
      "text/plain": []
     },
     "metadata": {},
     "output_type": "display_data"
    },
    {
     "data": {
      "image/png": "[encoded data removed]",
      "text/plain": [
       "\u001b[1m<\u001b[0m\u001b[1;95mFigure\u001b[0m\u001b[39m size 100\u001b[0m\u001b[1;36m0x600\u001b[0m\u001b[39m with \u001b[0m\u001b[1;36m2\u001b[0m\u001b[39m Axes\u001b[0m\u001b[1m>\u001b[0m"
      ]
     },
     "metadata": {},
     "output_type": "display_data"
    }
   ],
   "source": [
    "# Crear un dataframe para correlación\n",
    "df_corr = df.copy()\n",
    "\n",
    "# Convertir las columnas especificadas a numérico\n",
    "cols_to_convert = ['gds_fast', 'eva_ing', 'barthel', 'ps_ecog_corrected', 'ps_ecog']\n",
    "for col in cols_to_convert:\n",
    "    df_corr[col] = pd.to_numeric(df_corr[col], errors='coerce')\n",
    "\n",
    "# Eliminar las filas con NaN en la columna 'ps_ecog' en df_corr\n",
    "df_corr_clean = df_corr.dropna(subset=['ps_ecog'])\n",
    "\n",
    "# Verificar y visualizar la correlación\n",
    "plt.figure(figsize=(10, 6))\n",
    "sns.heatmap(df_corr_clean.corr(), annot=True, cmap='coolwarm', center=0)\n",
    "plt.title(\"Correlación entre las variables\")\n",
    "plt.show()"
   ]
  },
  {
   "cell_type": "markdown",
   "metadata": {},
   "source": [
    "Podemos utilizar los valores de `barthel` para inferir una posible clasificación `ps_ecog` para estos registros. La lógica es que los niveles de dependencia (según la clasificación Barthel) deberían correlacionarse con la capacidad funcional (según ECOG). \n",
    "\n",
    "Por ejemplo, si un paciente tiene \"Dependencia total\" en la clasificación Barthel, es probable que tenga un valor ECOG más alto, lo que indica una mayor incapacidad.\n",
    "\n",
    "Dado esto, podemos proponer la siguiente correlación aproximada entre los valores de `barthel` y `ps_ecog`:\n",
    "\n",
    "- **Dependencia total (0-20 puntos Barthel)**: ECOG 3-4\n",
    "- **Dependencia severa (20-40 puntos Barthel)**: ECOG 3\n",
    "- **Dependencia moderada (40-60 puntos Barthel)**: ECOG 2\n",
    "- **Dependencia leve o mínima (60-90 puntos Barthel)**: ECOG 1\n",
    "- **Independencia (90-100 puntos Barthel)**: ECOG 0-1\n",
    "\n",
    "Utilizando esta correlación, podemos intentar inferir los valores para `ps_ecog` basados en la clasificación de `barthel`."
   ]
  },
  {
   "cell_type": "markdown",
   "metadata": {},
   "source": [
    "Relacion entre `barthel` y `ps_ecog`. Esta correlación negativa es esperada y tiene sentido en el contexto: a medida que el valor de barthel aumenta (lo que indica mayor independencia), el valor de ps_ecog disminuye (lo que indica mejor estado funcional)."
   ]
  },
  {
   "cell_type": "code",
   "execution_count": 22,
   "metadata": {},
   "outputs": [
    {
     "data": {
      "text/html": [
       "<pre style=\"white-space:pre;overflow-x:auto;line-height:normal;font-family:Menlo,'DejaVu Sans Mono',consolas,'Courier New',monospace\"></pre>\n"
      ],
      "text/plain": []
     },
     "metadata": {},
     "output_type": "display_data"
    },
    {
     "data": {
      "text/plain": [
       "\n",
       "\u001b[1m(\u001b[0m\n",
       "    Empty DataFrame\n",
       "Columns: \u001b[1m[\u001b[0mh_procedencia, s_procedencia, ap, otros, diagnostico, motivo_ing, paliativo_onc_noc, paliativo_no_onc_noc, fiebre, disnea, dolor, delirium, otros_1, p_terminal, agonia, ps_ecog, barthel, gds_fast, eva_ing, otros_2, otros_complicaciones, n_estancias, n_visitas, sedacion, motivo_alta, medico, year, ast_anorx, agudo_estable, cronico_reag, trato_antibiotico, transfusion, paracentesis, toracocentesis, ayuntamiento, fecha_alta, fe_iv, barthel_classification, ps_ecog_corrected, ps_ecog_classification\u001b[1m]\u001b[0m\n",
       "Index: \u001b[1m[\u001b[0m\u001b[1m]\u001b[0m,\n",
       "    \u001b[1;36m4\u001b[0m    \u001b[1;36m2220\u001b[0m\n",
       "\u001b[1;36m3\u001b[0m     \u001b[1;36m620\u001b[0m\n",
       "\u001b[1;36m2\u001b[0m     \u001b[1;36m452\u001b[0m\n",
       "\u001b[1;36m1\u001b[0m     \u001b[1;36m417\u001b[0m\n",
       "\u001b[1;36m0\u001b[0m     \u001b[1;36m304\u001b[0m\n",
       "Name: ps_ecog, dtype: int64\n",
       "\u001b[1m)\u001b[0m"
      ]
     },
     "execution_count": 22,
     "metadata": {},
     "output_type": "execute_result"
    }
   ],
   "source": [
    "# Función para corregir valores basados en dígitos\n",
    "def correct_ps_ecog(value):\n",
    "    if isinstance(value, str) and value.isdigit():\n",
    "        # Tomar el valor más alto del conjunto de dígitos\n",
    "        return str(max([int(digit) for digit in value]))\n",
    "    return value\n",
    "\n",
    "df['ps_ecog'] = df['ps_ecog'].apply(correct_ps_ecog)\n",
    "\n",
    "# Corregir valores obvios\n",
    "df['ps_ecog'].replace({'1000': '1', '00': '0'}, inplace=True)\n",
    "\n",
    "# Crear una columna con la clasificación textual basada en el valor ECOG\n",
    "ecog_classification = {\n",
    "    '0': 'Totalmente asintomatico',\n",
    "    '1': 'Sintomas leves',\n",
    "    '2': 'Sintomas moderados',\n",
    "    '3': 'Necesita ayuda para la mayoria de actividades',\n",
    "    '4': 'Encamado el 100%',\n",
    "    '5': 'Fallecido'\n",
    "}\n",
    "\n",
    "df['ps_ecog_classification'] = df['ps_ecog'].map(ecog_classification)\n",
    "\n",
    "# Verificar las transformaciones\n",
    "# df['ps_ecog'].value_counts(), df['ps_ecog_classification'].value_counts()\n",
    "\n",
    "# Función para inferir el valor ps_ecog basado en la clasificación de barthel\n",
    "def infer_ps_ecog(row):\n",
    "    if row['ps_ecog'] in ['no', 'nk', 'si', 'np', 'o', 'nop', '7', 'n23']:\n",
    "        if row['barthel_classification'] == 'Dependencia total':\n",
    "            return '4'\n",
    "        elif row['barthel_classification'] == 'Dependencia severa':\n",
    "            return '3'\n",
    "        elif row['barthel_classification'] == 'Dependencia moderada':\n",
    "            return '2'\n",
    "        elif row['barthel_classification'] == 'Dependencia leve o mínima':\n",
    "            return '1'\n",
    "        elif row['barthel_classification'] == 'Independencia':\n",
    "            return '0'\n",
    "    return row['ps_ecog']\n",
    "\n",
    "# Aplicar la función de inferir los valores de ps_ecog\n",
    "df['ps_ecog'] = df.apply(infer_ps_ecog, axis=1)\n",
    "\n",
    "# Verificar la corrección\n",
    "df[df['ps_ecog'].isin(['7', 'n23'])], df['ps_ecog'].value_counts()"
   ]
  },
  {
   "cell_type": "code",
   "execution_count": 23,
   "metadata": {},
   "outputs": [
    {
     "data": {
      "text/html": [
       "<pre style=\"white-space:pre;overflow-x:auto;line-height:normal;font-family:Menlo,'DejaVu Sans Mono',consolas,'Courier New',monospace\"></pre>\n"
      ],
      "text/plain": []
     },
     "metadata": {},
     "output_type": "display_data"
    },
    {
     "data": {
      "text/html": [
       "<div>\n",
       "<style scoped>\n",
       "    .dataframe tbody tr th:only-of-type {\n",
       "        vertical-align: middle;\n",
       "    }\n",
       "\n",
       "    .dataframe tbody tr th {\n",
       "        vertical-align: top;\n",
       "    }\n",
       "\n",
       "    .dataframe thead th {\n",
       "        text-align: right;\n",
       "    }\n",
       "</style>\n",
       "<table border=\"1\" class=\"dataframe\">\n",
       "  <thead>\n",
       "    <tr style=\"text-align: right;\">\n",
       "      <th></th>\n",
       "      <th>h_procedencia</th>\n",
       "      <th>s_procedencia</th>\n",
       "      <th>ap</th>\n",
       "      <th>otros</th>\n",
       "      <th>diagnostico</th>\n",
       "      <th>motivo_ing</th>\n",
       "      <th>paliativo_onc_noc</th>\n",
       "      <th>paliativo_no_onc_noc</th>\n",
       "      <th>fiebre</th>\n",
       "      <th>disnea</th>\n",
       "      <th>dolor</th>\n",
       "      <th>delirium</th>\n",
       "      <th>otros_1</th>\n",
       "      <th>p_terminal</th>\n",
       "      <th>agonia</th>\n",
       "      <th>ps_ecog</th>\n",
       "      <th>barthel</th>\n",
       "      <th>gds_fast</th>\n",
       "      <th>eva_ing</th>\n",
       "      <th>otros_2</th>\n",
       "      <th>otros_complicaciones</th>\n",
       "      <th>n_estancias</th>\n",
       "      <th>n_visitas</th>\n",
       "      <th>sedacion</th>\n",
       "      <th>motivo_alta</th>\n",
       "      <th>medico</th>\n",
       "      <th>year</th>\n",
       "      <th>ast_anorx</th>\n",
       "      <th>agudo_estable</th>\n",
       "      <th>cronico_reag</th>\n",
       "      <th>trato_antibiotico</th>\n",
       "      <th>transfusion</th>\n",
       "      <th>paracentesis</th>\n",
       "      <th>toracocentesis</th>\n",
       "      <th>ayuntamiento</th>\n",
       "      <th>fecha_alta</th>\n",
       "      <th>fe_iv</th>\n",
       "      <th>barthel_classification</th>\n",
       "      <th>ps_ecog_corrected</th>\n",
       "      <th>ps_ecog_classification</th>\n",
       "    </tr>\n",
       "  </thead>\n",
       "  <tbody>\n",
       "    <tr>\n",
       "      <th>0</th>\n",
       "      <td>gil casares</td>\n",
       "      <td>upal</td>\n",
       "      <td>no</td>\n",
       "      <td>no</td>\n",
       "      <td>ca orl</td>\n",
       "      <td>contro d sintomas</td>\n",
       "      <td>si</td>\n",
       "      <td>si</td>\n",
       "      <td>no</td>\n",
       "      <td>no</td>\n",
       "      <td>si</td>\n",
       "      <td>no</td>\n",
       "      <td>no</td>\n",
       "      <td>si</td>\n",
       "      <td>no</td>\n",
       "      <td>4</td>\n",
       "      <td>30</td>\n",
       "      <td>no</td>\n",
       "      <td>no</td>\n",
       "      <td>no</td>\n",
       "      <td>reingreso en urgencias</td>\n",
       "      <td>21</td>\n",
       "      <td>10</td>\n",
       "      <td>no</td>\n",
       "      <td>reingreso</td>\n",
       "      <td>valdes</td>\n",
       "      <td>2017</td>\n",
       "      <td>si</td>\n",
       "      <td>desconocido</td>\n",
       "      <td>desconocido</td>\n",
       "      <td>desconocido</td>\n",
       "      <td>desconocido</td>\n",
       "      <td>desconocido</td>\n",
       "      <td>desconocido</td>\n",
       "      <td>desconocido</td>\n",
       "      <td>desconocido</td>\n",
       "      <td>desconocido</td>\n",
       "      <td>Dependencia severa</td>\n",
       "      <td>4</td>\n",
       "      <td>Encamado el 100%</td>\n",
       "    </tr>\n",
       "    <tr>\n",
       "      <th>1</th>\n",
       "      <td>clinico</td>\n",
       "      <td>onc</td>\n",
       "      <td>no</td>\n",
       "      <td>no</td>\n",
       "      <td>melanoma vulvar</td>\n",
       "      <td>mal control dolor</td>\n",
       "      <td>si</td>\n",
       "      <td>no</td>\n",
       "      <td>no</td>\n",
       "      <td>no</td>\n",
       "      <td>si</td>\n",
       "      <td>no</td>\n",
       "      <td>no</td>\n",
       "      <td>si</td>\n",
       "      <td>no</td>\n",
       "      <td>4</td>\n",
       "      <td>0</td>\n",
       "      <td>no</td>\n",
       "      <td>no</td>\n",
       "      <td>no</td>\n",
       "      <td>met pulmonares y digest</td>\n",
       "      <td>24</td>\n",
       "      <td>8</td>\n",
       "      <td>no</td>\n",
       "      <td>exitus</td>\n",
       "      <td>galego feal</td>\n",
       "      <td>2017</td>\n",
       "      <td>si</td>\n",
       "      <td>desconocido</td>\n",
       "      <td>desconocido</td>\n",
       "      <td>desconocido</td>\n",
       "      <td>desconocido</td>\n",
       "      <td>desconocido</td>\n",
       "      <td>desconocido</td>\n",
       "      <td>desconocido</td>\n",
       "      <td>desconocido</td>\n",
       "      <td>desconocido</td>\n",
       "      <td>Dependencia total</td>\n",
       "      <td>4</td>\n",
       "      <td>Encamado el 100%</td>\n",
       "    </tr>\n",
       "    <tr>\n",
       "      <th>2</th>\n",
       "      <td>clinico</td>\n",
       "      <td>mir</td>\n",
       "      <td>no</td>\n",
       "      <td>no</td>\n",
       "      <td>ca broncogenico</td>\n",
       "      <td>control evolutivo</td>\n",
       "      <td>si</td>\n",
       "      <td>si</td>\n",
       "      <td>no</td>\n",
       "      <td>si</td>\n",
       "      <td>no</td>\n",
       "      <td>no</td>\n",
       "      <td>no</td>\n",
       "      <td>no</td>\n",
       "      <td>no</td>\n",
       "      <td>4</td>\n",
       "      <td>40</td>\n",
       "      <td>no</td>\n",
       "      <td>no</td>\n",
       "      <td>no</td>\n",
       "      <td>no</td>\n",
       "      <td>14</td>\n",
       "      <td>6</td>\n",
       "      <td>no</td>\n",
       "      <td>fin de cuidados</td>\n",
       "      <td>lopez renedo</td>\n",
       "      <td>2017</td>\n",
       "      <td>no</td>\n",
       "      <td>desconocido</td>\n",
       "      <td>desconocido</td>\n",
       "      <td>desconocido</td>\n",
       "      <td>desconocido</td>\n",
       "      <td>desconocido</td>\n",
       "      <td>desconocido</td>\n",
       "      <td>desconocido</td>\n",
       "      <td>desconocido</td>\n",
       "      <td>desconocido</td>\n",
       "      <td>Dependencia severa</td>\n",
       "      <td>4</td>\n",
       "      <td>Encamado el 100%</td>\n",
       "    </tr>\n",
       "    <tr>\n",
       "      <th>3</th>\n",
       "      <td>clinico</td>\n",
       "      <td>dig</td>\n",
       "      <td>no</td>\n",
       "      <td>no</td>\n",
       "      <td>cirrosis hepatica</td>\n",
       "      <td>admininistacion octreotido</td>\n",
       "      <td>no</td>\n",
       "      <td>no</td>\n",
       "      <td>no</td>\n",
       "      <td>no</td>\n",
       "      <td>no</td>\n",
       "      <td>no</td>\n",
       "      <td>no</td>\n",
       "      <td>no</td>\n",
       "      <td>no</td>\n",
       "      <td>1</td>\n",
       "      <td>90</td>\n",
       "      <td>no</td>\n",
       "      <td>no</td>\n",
       "      <td>no</td>\n",
       "      <td>no</td>\n",
       "      <td>1</td>\n",
       "      <td>1</td>\n",
       "      <td>no</td>\n",
       "      <td>fin de cuidados</td>\n",
       "      <td>lopez renedo</td>\n",
       "      <td>2017</td>\n",
       "      <td>no</td>\n",
       "      <td>desconocido</td>\n",
       "      <td>desconocido</td>\n",
       "      <td>desconocido</td>\n",
       "      <td>desconocido</td>\n",
       "      <td>desconocido</td>\n",
       "      <td>desconocido</td>\n",
       "      <td>desconocido</td>\n",
       "      <td>desconocido</td>\n",
       "      <td>desconocido</td>\n",
       "      <td>Dependencia leve o mínima</td>\n",
       "      <td>1</td>\n",
       "      <td>Sintomas leves</td>\n",
       "    </tr>\n",
       "    <tr>\n",
       "      <th>4</th>\n",
       "      <td>clinico</td>\n",
       "      <td>urg</td>\n",
       "      <td>no</td>\n",
       "      <td>no</td>\n",
       "      <td>neplasia de mama estadio iv</td>\n",
       "      <td>control de sintomas</td>\n",
       "      <td>si</td>\n",
       "      <td>no</td>\n",
       "      <td>no</td>\n",
       "      <td>si</td>\n",
       "      <td>si</td>\n",
       "      <td>no</td>\n",
       "      <td>no</td>\n",
       "      <td>si</td>\n",
       "      <td>no</td>\n",
       "      <td>4</td>\n",
       "      <td>30</td>\n",
       "      <td>no</td>\n",
       "      <td>70</td>\n",
       "      <td>no</td>\n",
       "      <td>no</td>\n",
       "      <td>2</td>\n",
       "      <td>1</td>\n",
       "      <td>no</td>\n",
       "      <td>exitus</td>\n",
       "      <td>lopez renedo</td>\n",
       "      <td>2017</td>\n",
       "      <td>no</td>\n",
       "      <td>desconocido</td>\n",
       "      <td>desconocido</td>\n",
       "      <td>desconocido</td>\n",
       "      <td>desconocido</td>\n",
       "      <td>desconocido</td>\n",
       "      <td>desconocido</td>\n",
       "      <td>desconocido</td>\n",
       "      <td>desconocido</td>\n",
       "      <td>desconocido</td>\n",
       "      <td>Dependencia severa</td>\n",
       "      <td>4</td>\n",
       "      <td>Encamado el 100%</td>\n",
       "    </tr>\n",
       "    <tr>\n",
       "      <th>...</th>\n",
       "      <td>...</td>\n",
       "      <td>...</td>\n",
       "      <td>...</td>\n",
       "      <td>...</td>\n",
       "      <td>...</td>\n",
       "      <td>...</td>\n",
       "      <td>...</td>\n",
       "      <td>...</td>\n",
       "      <td>...</td>\n",
       "      <td>...</td>\n",
       "      <td>...</td>\n",
       "      <td>...</td>\n",
       "      <td>...</td>\n",
       "      <td>...</td>\n",
       "      <td>...</td>\n",
       "      <td>...</td>\n",
       "      <td>...</td>\n",
       "      <td>...</td>\n",
       "      <td>...</td>\n",
       "      <td>...</td>\n",
       "      <td>...</td>\n",
       "      <td>...</td>\n",
       "      <td>...</td>\n",
       "      <td>...</td>\n",
       "      <td>...</td>\n",
       "      <td>...</td>\n",
       "      <td>...</td>\n",
       "      <td>...</td>\n",
       "      <td>...</td>\n",
       "      <td>...</td>\n",
       "      <td>...</td>\n",
       "      <td>...</td>\n",
       "      <td>...</td>\n",
       "      <td>...</td>\n",
       "      <td>...</td>\n",
       "      <td>...</td>\n",
       "      <td>...</td>\n",
       "      <td>...</td>\n",
       "      <td>...</td>\n",
       "      <td>...</td>\n",
       "    </tr>\n",
       "    <tr>\n",
       "      <th>4008</th>\n",
       "      <td>clinico</td>\n",
       "      <td>onc</td>\n",
       "      <td>no</td>\n",
       "      <td>desconocido</td>\n",
       "      <td>ca mama estadio iv</td>\n",
       "      <td>control de sintomas</td>\n",
       "      <td>si</td>\n",
       "      <td>no</td>\n",
       "      <td>no</td>\n",
       "      <td>no</td>\n",
       "      <td>si</td>\n",
       "      <td>no</td>\n",
       "      <td>desconocido</td>\n",
       "      <td>desconocido</td>\n",
       "      <td>desconocido</td>\n",
       "      <td>4</td>\n",
       "      <td>40</td>\n",
       "      <td>no</td>\n",
       "      <td>0</td>\n",
       "      <td>desconocido</td>\n",
       "      <td>desconocido</td>\n",
       "      <td>15</td>\n",
       "      <td>7</td>\n",
       "      <td>si</td>\n",
       "      <td>exitus</td>\n",
       "      <td>beceiro</td>\n",
       "      <td>2022</td>\n",
       "      <td>no</td>\n",
       "      <td>no</td>\n",
       "      <td>no</td>\n",
       "      <td>no</td>\n",
       "      <td>no</td>\n",
       "      <td>no</td>\n",
       "      <td>no</td>\n",
       "      <td>pontecesures</td>\n",
       "      <td>20221230t000000</td>\n",
       "      <td>no</td>\n",
       "      <td>Dependencia severa</td>\n",
       "      <td>4</td>\n",
       "      <td>Encamado el 100%</td>\n",
       "    </tr>\n",
       "    <tr>\n",
       "      <th>4009</th>\n",
       "      <td>clinico</td>\n",
       "      <td>mir</td>\n",
       "      <td>no</td>\n",
       "      <td>desconocido</td>\n",
       "      <td>anciano fragil</td>\n",
       "      <td>seguimiento</td>\n",
       "      <td>no</td>\n",
       "      <td>si</td>\n",
       "      <td>no</td>\n",
       "      <td>si</td>\n",
       "      <td>no</td>\n",
       "      <td>no</td>\n",
       "      <td>desconocido</td>\n",
       "      <td>desconocido</td>\n",
       "      <td>desconocido</td>\n",
       "      <td>3</td>\n",
       "      <td>30</td>\n",
       "      <td>40</td>\n",
       "      <td>0</td>\n",
       "      <td>desconocido</td>\n",
       "      <td>desconocido</td>\n",
       "      <td>6</td>\n",
       "      <td>4</td>\n",
       "      <td>no</td>\n",
       "      <td>exitus</td>\n",
       "      <td>villar del castillo</td>\n",
       "      <td>2022</td>\n",
       "      <td>no</td>\n",
       "      <td>no</td>\n",
       "      <td>si</td>\n",
       "      <td>no</td>\n",
       "      <td>no</td>\n",
       "      <td>no</td>\n",
       "      <td>no</td>\n",
       "      <td>silleda</td>\n",
       "      <td>20221231t000000</td>\n",
       "      <td>no</td>\n",
       "      <td>Dependencia severa</td>\n",
       "      <td>no</td>\n",
       "      <td>Necesita ayuda para la mayoria de actividades</td>\n",
       "    </tr>\n",
       "    <tr>\n",
       "      <th>4010</th>\n",
       "      <td>clinico</td>\n",
       "      <td>mir</td>\n",
       "      <td>no</td>\n",
       "      <td>desconocido</td>\n",
       "      <td>oclusion intestinal</td>\n",
       "      <td>cuidados paliativos avanzados</td>\n",
       "      <td>si</td>\n",
       "      <td>si</td>\n",
       "      <td>no</td>\n",
       "      <td>si</td>\n",
       "      <td>si</td>\n",
       "      <td>no</td>\n",
       "      <td>desconocido</td>\n",
       "      <td>desconocido</td>\n",
       "      <td>desconocido</td>\n",
       "      <td>4</td>\n",
       "      <td>20</td>\n",
       "      <td>no</td>\n",
       "      <td>0</td>\n",
       "      <td>desconocido</td>\n",
       "      <td>desconocido</td>\n",
       "      <td>21</td>\n",
       "      <td>7</td>\n",
       "      <td>no</td>\n",
       "      <td>paso a urgencias</td>\n",
       "      <td>fernandez benito</td>\n",
       "      <td>2022</td>\n",
       "      <td>si</td>\n",
       "      <td>no</td>\n",
       "      <td>si</td>\n",
       "      <td>no</td>\n",
       "      <td>no</td>\n",
       "      <td>no</td>\n",
       "      <td>no</td>\n",
       "      <td>rianxo</td>\n",
       "      <td>20221227t000000</td>\n",
       "      <td>no</td>\n",
       "      <td>Dependencia total</td>\n",
       "      <td>4</td>\n",
       "      <td>Encamado el 100%</td>\n",
       "    </tr>\n",
       "    <tr>\n",
       "      <th>4011</th>\n",
       "      <td>clinico</td>\n",
       "      <td>urg</td>\n",
       "      <td>no</td>\n",
       "      <td>desconocido</td>\n",
       "      <td>itu</td>\n",
       "      <td>antibioterapia iv</td>\n",
       "      <td>no</td>\n",
       "      <td>si</td>\n",
       "      <td>si</td>\n",
       "      <td>no</td>\n",
       "      <td>no</td>\n",
       "      <td>si</td>\n",
       "      <td>desconocido</td>\n",
       "      <td>desconocido</td>\n",
       "      <td>desconocido</td>\n",
       "      <td>4</td>\n",
       "      <td>20</td>\n",
       "      <td>7c</td>\n",
       "      <td>0</td>\n",
       "      <td>desconocido</td>\n",
       "      <td>desconocido</td>\n",
       "      <td>11</td>\n",
       "      <td>3</td>\n",
       "      <td>si</td>\n",
       "      <td>exitus</td>\n",
       "      <td>fernandez benito</td>\n",
       "      <td>2022</td>\n",
       "      <td>no</td>\n",
       "      <td>no</td>\n",
       "      <td>si</td>\n",
       "      <td>si</td>\n",
       "      <td>no</td>\n",
       "      <td>no</td>\n",
       "      <td>no</td>\n",
       "      <td>noya</td>\n",
       "      <td>20221230t000000</td>\n",
       "      <td>no</td>\n",
       "      <td>Dependencia total</td>\n",
       "      <td>no</td>\n",
       "      <td>Encamado el 100%</td>\n",
       "    </tr>\n",
       "    <tr>\n",
       "      <th>4012</th>\n",
       "      <td>clinico</td>\n",
       "      <td>onc</td>\n",
       "      <td>no</td>\n",
       "      <td>desconocido</td>\n",
       "      <td>glioblastoma</td>\n",
       "      <td>control de sintomas</td>\n",
       "      <td>si</td>\n",
       "      <td>no</td>\n",
       "      <td>no</td>\n",
       "      <td>no</td>\n",
       "      <td>si</td>\n",
       "      <td>si</td>\n",
       "      <td>desconocido</td>\n",
       "      <td>desconocido</td>\n",
       "      <td>desconocido</td>\n",
       "      <td>4</td>\n",
       "      <td>0</td>\n",
       "      <td>no</td>\n",
       "      <td>0</td>\n",
       "      <td>desconocido</td>\n",
       "      <td>desconocido</td>\n",
       "      <td>11</td>\n",
       "      <td>6</td>\n",
       "      <td>si</td>\n",
       "      <td>exitus</td>\n",
       "      <td>novo</td>\n",
       "      <td>2022</td>\n",
       "      <td>no</td>\n",
       "      <td>no</td>\n",
       "      <td>no</td>\n",
       "      <td>no</td>\n",
       "      <td>no</td>\n",
       "      <td>no</td>\n",
       "      <td>no</td>\n",
       "      <td>santiago</td>\n",
       "      <td>20221230t000000</td>\n",
       "      <td>no</td>\n",
       "      <td>Dependencia total</td>\n",
       "      <td>4</td>\n",
       "      <td>Encamado el 100%</td>\n",
       "    </tr>\n",
       "  </tbody>\n",
       "</table>\n",
       "<p>4013 rows × 40 columns</p>\n",
       "</div>"
      ],
      "text/plain": [
       "\n",
       "     h_procedencia s_procedencia  ap        otros  \\\n",
       "\u001b[1;36m0\u001b[0m      gil casares          upal  no           no   \n",
       "\u001b[1;36m1\u001b[0m          clinico           onc  no           no   \n",
       "\u001b[1;36m2\u001b[0m          clinico           mir  no           no   \n",
       "\u001b[1;36m3\u001b[0m          clinico           dig  no           no   \n",
       "\u001b[1;36m4\u001b[0m          clinico           urg  no           no   \n",
       "\u001b[33m...\u001b[0m            \u001b[33m...\u001b[0m           \u001b[33m...\u001b[0m  ..          \u001b[33m...\u001b[0m   \n",
       "\u001b[1;36m4008\u001b[0m       clinico           onc  no  desconocido   \n",
       "\u001b[1;36m4009\u001b[0m       clinico           mir  no  desconocido   \n",
       "\u001b[1;36m4010\u001b[0m       clinico           mir  no  desconocido   \n",
       "\u001b[1;36m4011\u001b[0m       clinico           urg  no  desconocido   \n",
       "\u001b[1;36m4012\u001b[0m       clinico           onc  no  desconocido   \n",
       "\n",
       "                      diagnostico                     motivo_ing  \\\n",
       "\u001b[1;36m0\u001b[0m                          ca orl              contro d sintomas   \n",
       "\u001b[1;36m1\u001b[0m                 melanoma vulvar              mal control dolor   \n",
       "\u001b[1;36m2\u001b[0m                 ca broncogenico              control evolutivo   \n",
       "\u001b[1;36m3\u001b[0m               cirrosis hepatica     admininistacion octreotido   \n",
       "\u001b[1;36m4\u001b[0m     neplasia de mama estadio iv            control de sintomas   \n",
       "\u001b[33m...\u001b[0m                           \u001b[33m...\u001b[0m                            \u001b[33m...\u001b[0m   \n",
       "\u001b[1;36m4008\u001b[0m           ca mama estadio iv            control de sintomas   \n",
       "\u001b[1;36m4009\u001b[0m               anciano fragil                    seguimiento   \n",
       "\u001b[1;36m4010\u001b[0m          oclusion intestinal  cuidados paliativos avanzados   \n",
       "\u001b[1;36m4011\u001b[0m                          itu              antibioterapia iv   \n",
       "\u001b[1;36m4012\u001b[0m                 glioblastoma            control de sintomas   \n",
       "\n",
       "     paliativo_onc_noc paliativo_no_onc_noc fiebre disnea dolor delirium  \\\n",
       "\u001b[1;36m0\u001b[0m                   si                   si     no     no    si       no   \n",
       "\u001b[1;36m1\u001b[0m                   si                   no     no     no    si       no   \n",
       "\u001b[1;36m2\u001b[0m                   si                   si     no     si    no       no   \n",
       "\u001b[1;36m3\u001b[0m                   no                   no     no     no    no       no   \n",
       "\u001b[1;36m4\u001b[0m                   si                   no     no     si    si       no   \n",
       "\u001b[33m...\u001b[0m                \u001b[33m...\u001b[0m                  \u001b[33m...\u001b[0m    \u001b[33m...\u001b[0m    \u001b[33m...\u001b[0m   \u001b[33m...\u001b[0m      \u001b[33m...\u001b[0m   \n",
       "\u001b[1;36m4008\u001b[0m                si                   no     no     no    si       no   \n",
       "\u001b[1;36m4009\u001b[0m                no                   si     no     si    no       no   \n",
       "\u001b[1;36m4010\u001b[0m                si                   si     no     si    si       no   \n",
       "\u001b[1;36m4011\u001b[0m                no                   si     si     no    no       si   \n",
       "\u001b[1;36m4012\u001b[0m                si                   no     no     no    si       si   \n",
       "\n",
       "          otros_1   p_terminal       agonia ps_ecog  barthel gds_fast eva_ing  \\\n",
       "\u001b[1;36m0\u001b[0m              no           si           no       \u001b[1;36m4\u001b[0m       \u001b[1;36m30\u001b[0m       no      no   \n",
       "\u001b[1;36m1\u001b[0m              no           si           no       \u001b[1;36m4\u001b[0m        \u001b[1;36m0\u001b[0m       no      no   \n",
       "\u001b[1;36m2\u001b[0m              no           no           no       \u001b[1;36m4\u001b[0m       \u001b[1;36m40\u001b[0m       no      no   \n",
       "\u001b[1;36m3\u001b[0m              no           no           no       \u001b[1;36m1\u001b[0m       \u001b[1;36m90\u001b[0m       no      no   \n",
       "\u001b[1;36m4\u001b[0m              no           si           no       \u001b[1;36m4\u001b[0m       \u001b[1;36m30\u001b[0m       no      \u001b[1;36m70\u001b[0m   \n",
       "\u001b[33m...\u001b[0m           \u001b[33m...\u001b[0m          \u001b[33m...\u001b[0m          \u001b[33m...\u001b[0m     \u001b[33m...\u001b[0m      \u001b[33m...\u001b[0m      \u001b[33m...\u001b[0m     \u001b[33m...\u001b[0m   \n",
       "\u001b[1;36m4008\u001b[0m  desconocido  desconocido  desconocido       \u001b[1;36m4\u001b[0m       \u001b[1;36m40\u001b[0m       no       \u001b[1;36m0\u001b[0m   \n",
       "\u001b[1;36m4009\u001b[0m  desconocido  desconocido  desconocido       \u001b[1;36m3\u001b[0m       \u001b[1;36m30\u001b[0m       \u001b[1;36m40\u001b[0m       \u001b[1;36m0\u001b[0m   \n",
       "\u001b[1;36m4010\u001b[0m  desconocido  desconocido  desconocido       \u001b[1;36m4\u001b[0m       \u001b[1;36m20\u001b[0m       no       \u001b[1;36m0\u001b[0m   \n",
       "\u001b[1;36m4011\u001b[0m  desconocido  desconocido  desconocido       \u001b[1;36m4\u001b[0m       \u001b[1;36m20\u001b[0m       7c       \u001b[1;36m0\u001b[0m   \n",
       "\u001b[1;36m4012\u001b[0m  desconocido  desconocido  desconocido       \u001b[1;36m4\u001b[0m        \u001b[1;36m0\u001b[0m       no       \u001b[1;36m0\u001b[0m   \n",
       "\n",
       "          otros_2     otros_complicaciones  n_estancias  n_visitas sedacion  \\\n",
       "\u001b[1;36m0\u001b[0m              no   reingreso en urgencias           \u001b[1;36m21\u001b[0m         \u001b[1;36m10\u001b[0m       no   \n",
       "\u001b[1;36m1\u001b[0m              no  met pulmonares y digest           \u001b[1;36m24\u001b[0m          \u001b[1;36m8\u001b[0m       no   \n",
       "\u001b[1;36m2\u001b[0m              no                       no           \u001b[1;36m14\u001b[0m          \u001b[1;36m6\u001b[0m       no   \n",
       "\u001b[1;36m3\u001b[0m              no                       no            \u001b[1;36m1\u001b[0m          \u001b[1;36m1\u001b[0m       no   \n",
       "\u001b[1;36m4\u001b[0m              no                       no            \u001b[1;36m2\u001b[0m          \u001b[1;36m1\u001b[0m       no   \n",
       "\u001b[33m...\u001b[0m           \u001b[33m...\u001b[0m                      \u001b[33m...\u001b[0m          \u001b[33m...\u001b[0m        \u001b[33m...\u001b[0m      \u001b[33m...\u001b[0m   \n",
       "\u001b[1;36m4008\u001b[0m  desconocido              desconocido           \u001b[1;36m15\u001b[0m          \u001b[1;36m7\u001b[0m       si   \n",
       "\u001b[1;36m4009\u001b[0m  desconocido              desconocido            \u001b[1;36m6\u001b[0m          \u001b[1;36m4\u001b[0m       no   \n",
       "\u001b[1;36m4010\u001b[0m  desconocido              desconocido           \u001b[1;36m21\u001b[0m          \u001b[1;36m7\u001b[0m       no   \n",
       "\u001b[1;36m4011\u001b[0m  desconocido              desconocido           \u001b[1;36m11\u001b[0m          \u001b[1;36m3\u001b[0m       si   \n",
       "\u001b[1;36m4012\u001b[0m  desconocido              desconocido           \u001b[1;36m11\u001b[0m          \u001b[1;36m6\u001b[0m       si   \n",
       "\n",
       "           motivo_alta               medico  year ast_anorx agudo_estable  \\\n",
       "\u001b[1;36m0\u001b[0m            reingreso               valdes  \u001b[1;36m2017\u001b[0m        si   desconocido   \n",
       "\u001b[1;36m1\u001b[0m               exitus          galego feal  \u001b[1;36m2017\u001b[0m        si   desconocido   \n",
       "\u001b[1;36m2\u001b[0m      fin de cuidados         lopez renedo  \u001b[1;36m2017\u001b[0m        no   desconocido   \n",
       "\u001b[1;36m3\u001b[0m      fin de cuidados         lopez renedo  \u001b[1;36m2017\u001b[0m        no   desconocido   \n",
       "\u001b[1;36m4\u001b[0m               exitus         lopez renedo  \u001b[1;36m2017\u001b[0m        no   desconocido   \n",
       "\u001b[33m...\u001b[0m                \u001b[33m...\u001b[0m                  \u001b[33m...\u001b[0m   \u001b[33m...\u001b[0m       \u001b[33m...\u001b[0m           \u001b[33m...\u001b[0m   \n",
       "\u001b[1;36m4008\u001b[0m            exitus              beceiro  \u001b[1;36m2022\u001b[0m        no            no   \n",
       "\u001b[1;36m4009\u001b[0m            exitus  villar del castillo  \u001b[1;36m2022\u001b[0m        no            no   \n",
       "\u001b[1;36m4010\u001b[0m  paso a urgencias     fernandez benito  \u001b[1;36m2022\u001b[0m        si            no   \n",
       "\u001b[1;36m4011\u001b[0m            exitus     fernandez benito  \u001b[1;36m2022\u001b[0m        no            no   \n",
       "\u001b[1;36m4012\u001b[0m            exitus                 novo  \u001b[1;36m2022\u001b[0m        no            no   \n",
       "\n",
       "     cronico_reag trato_antibiotico  transfusion paracentesis toracocentesis  \\\n",
       "\u001b[1;36m0\u001b[0m     desconocido       desconocido  desconocido  desconocido    desconocido   \n",
       "\u001b[1;36m1\u001b[0m     desconocido       desconocido  desconocido  desconocido    desconocido   \n",
       "\u001b[1;36m2\u001b[0m     desconocido       desconocido  desconocido  desconocido    desconocido   \n",
       "\u001b[1;36m3\u001b[0m     desconocido       desconocido  desconocido  desconocido    desconocido   \n",
       "\u001b[1;36m4\u001b[0m     desconocido       desconocido  desconocido  desconocido    desconocido   \n",
       "\u001b[33m...\u001b[0m           \u001b[33m...\u001b[0m               \u001b[33m...\u001b[0m          \u001b[33m...\u001b[0m          \u001b[33m...\u001b[0m            \u001b[33m...\u001b[0m   \n",
       "\u001b[1;36m4008\u001b[0m           no                no           no           no             no   \n",
       "\u001b[1;36m4009\u001b[0m           si                no           no           no             no   \n",
       "\u001b[1;36m4010\u001b[0m           si                no           no           no             no   \n",
       "\u001b[1;36m4011\u001b[0m           si                si           no           no             no   \n",
       "\u001b[1;36m4012\u001b[0m           no                no           no           no             no   \n",
       "\n",
       "      ayuntamiento       fecha_alta        fe_iv     barthel_classification  \\\n",
       "\u001b[1;36m0\u001b[0m      desconocido      desconocido  desconocido         Dependencia severa   \n",
       "\u001b[1;36m1\u001b[0m      desconocido      desconocido  desconocido          Dependencia total   \n",
       "\u001b[1;36m2\u001b[0m      desconocido      desconocido  desconocido         Dependencia severa   \n",
       "\u001b[1;36m3\u001b[0m      desconocido      desconocido  desconocido  Dependencia leve o mínima   \n",
       "\u001b[1;36m4\u001b[0m      desconocido      desconocido  desconocido         Dependencia severa   \n",
       "\u001b[33m...\u001b[0m            \u001b[33m...\u001b[0m              \u001b[33m...\u001b[0m          \u001b[33m...\u001b[0m                        \u001b[33m...\u001b[0m   \n",
       "\u001b[1;36m4008\u001b[0m  pontecesures  20221230t000000           no         Dependencia severa   \n",
       "\u001b[1;36m4009\u001b[0m       silleda  20221231t000000           no         Dependencia severa   \n",
       "\u001b[1;36m4010\u001b[0m        rianxo  20221227t000000           no          Dependencia total   \n",
       "\u001b[1;36m4011\u001b[0m          noya  20221230t000000           no          Dependencia total   \n",
       "\u001b[1;36m4012\u001b[0m      santiago  20221230t000000           no          Dependencia total   \n",
       "\n",
       "     ps_ecog_corrected                         ps_ecog_classification  \n",
       "\u001b[1;36m0\u001b[0m                    \u001b[1;36m4\u001b[0m                               Encamado el \u001b[1;36m100\u001b[0m%  \n",
       "\u001b[1;36m1\u001b[0m                    \u001b[1;36m4\u001b[0m                               Encamado el \u001b[1;36m100\u001b[0m%  \n",
       "\u001b[1;36m2\u001b[0m                    \u001b[1;36m4\u001b[0m                               Encamado el \u001b[1;36m100\u001b[0m%  \n",
       "\u001b[1;36m3\u001b[0m                    \u001b[1;36m1\u001b[0m                                 Sintomas leves  \n",
       "\u001b[1;36m4\u001b[0m                    \u001b[1;36m4\u001b[0m                               Encamado el \u001b[1;36m100\u001b[0m%  \n",
       "\u001b[33m...\u001b[0m                \u001b[33m...\u001b[0m                                            \u001b[33m...\u001b[0m  \n",
       "\u001b[1;36m4008\u001b[0m                 \u001b[1;36m4\u001b[0m                               Encamado el \u001b[1;36m100\u001b[0m%  \n",
       "\u001b[1;36m4009\u001b[0m                no  Necesita ayuda para la mayoria de actividades  \n",
       "\u001b[1;36m4010\u001b[0m                 \u001b[1;36m4\u001b[0m                               Encamado el \u001b[1;36m100\u001b[0m%  \n",
       "\u001b[1;36m4011\u001b[0m                no                               Encamado el \u001b[1;36m100\u001b[0m%  \n",
       "\u001b[1;36m4012\u001b[0m                 \u001b[1;36m4\u001b[0m                               Encamado el \u001b[1;36m100\u001b[0m%  \n",
       "\n",
       "\u001b[1m[\u001b[0m\u001b[1;36m4013\u001b[0m rows x \u001b[1;36m40\u001b[0m columns\u001b[1m]\u001b[0m"
      ]
     },
     "execution_count": 23,
     "metadata": {},
     "output_type": "execute_result"
    }
   ],
   "source": [
    "def clean_ps_ecog(df: pd.DataFrame, barthel_col: str = 'barthel_classification') -> pd.DataFrame:\n",
    "    \"\"\"\n",
    "    Función para limpiar y corregir los valores en la columna 'ps_ecog' del DataFrame. \n",
    "    También clasifica los valores basándose en definiciones preestablecidas.\n",
    "    \n",
    "    Args:\n",
    "    - df (pd.DataFrame): DataFrame original que contiene la columna 'ps_ecog'.\n",
    "    - barthel_col (str): Nombre de la columna que contiene la clasificación de barthel. Por defecto es 'barthel_classification'.\n",
    "    \n",
    "    Returns:\n",
    "    - pd.DataFrame: DataFrame con la columna 'ps_ecog' limpiada y una nueva columna 'ps_ecog_classification'.\n",
    "    \"\"\"\n",
    "    \n",
    "    # Función auxiliar para corregir valores basados en dígitos\n",
    "    def correct_values(value: str) -> str:\n",
    "        if value.isdigit():\n",
    "            # Tomar el valor más alto del conjunto de dígitos\n",
    "            return str(max([int(digit) for digit in value]))\n",
    "        return value\n",
    "\n",
    "    # Función auxiliar para inferir el valor ps_ecog basado en la clasificación de barthel\n",
    "    def infer_values(row) -> str:\n",
    "        if row['ps_ecog'] in ['no', 'nk', 'si', 'np', 'o', 'nop', '7', 'n23']:\n",
    "            barthel_classification = row[barthel_col]\n",
    "            classification_map = {\n",
    "                'Dependencia total': '4',\n",
    "                'Dependencia severa': '3',\n",
    "                'Dependencia moderada': '2',\n",
    "                'Dependencia leve o mínima': '1',\n",
    "                'Independencia': '1'\n",
    "            }\n",
    "            return classification_map.get(barthel_classification, row['ps_ecog'])\n",
    "        return row['ps_ecog']\n",
    "\n",
    "    # Corregir valores en ps_ecog basados en dígitos y reemplazar valores obvios\n",
    "    df['ps_ecog'] = df['ps_ecog'].apply(correct_values)\n",
    "    df['ps_ecog'].replace({'1000': '1', '00': '0'}, inplace=True)\n",
    "    \n",
    "    # Inferir valores de ps_ecog basados en barthel_classification\n",
    "    df['ps_ecog'] = df.apply(infer_values, axis=1)\n",
    "    \n",
    "    # Clasificación textual basada en el valor ECOG\n",
    "    ecog_classification = {\n",
    "        '0': 'Totalmente asintomatico',\n",
    "        '1': 'Sintomas leves',\n",
    "        '2': 'Sintomas moderados',\n",
    "        '3': 'Necesita ayuda para la mayoria de actividades',\n",
    "        '4': 'Encamado el 100%',\n",
    "        '5': 'Fallecido'\n",
    "    }\n",
    "    df['ps_ecog_classification'] = df['ps_ecog'].map(ecog_classification)\n",
    "    \n",
    "    return df\n",
    "\n",
    "# Uso de la función\n",
    "clean_ps_ecog(df)\n"
   ]
  },
  {
   "cell_type": "code",
   "execution_count": 24,
   "metadata": {},
   "outputs": [
    {
     "data": {
      "text/html": [
       "<pre style=\"white-space:pre;overflow-x:auto;line-height:normal;font-family:Menlo,'DejaVu Sans Mono',consolas,'Courier New',monospace\"></pre>\n"
      ],
      "text/plain": []
     },
     "metadata": {},
     "output_type": "display_data"
    },
    {
     "data": {
      "text/plain": [
       "\n",
       "\u001b[1;36m4\u001b[0m    \u001b[1;36m2220\u001b[0m\n",
       "\u001b[1;36m3\u001b[0m     \u001b[1;36m620\u001b[0m\n",
       "\u001b[1;36m2\u001b[0m     \u001b[1;36m452\u001b[0m\n",
       "\u001b[1;36m1\u001b[0m     \u001b[1;36m417\u001b[0m\n",
       "\u001b[1;36m0\u001b[0m     \u001b[1;36m304\u001b[0m\n",
       "Name: ps_ecog, dtype: int64"
      ]
     },
     "execution_count": 24,
     "metadata": {},
     "output_type": "execute_result"
    }
   ],
   "source": [
    "df.ps_ecog.value_counts()"
   ]
  },
  {
   "cell_type": "markdown",
   "metadata": {},
   "source": [
    "# 3.GDS_FAST valores\n",
    "\n",
    "Existen varias entradas que no corresponden directamente a un valor numérico o una etapa de la escala GDS FAST. Algunos de estos valores, como \"si4\" o \"si7\", parecen indicar que el paciente tiene un nivel 4, mientras que otros, como \"no\", \"o\", \"si\", \"n0\", \"b\", son más ambiguos.\n",
    "\n",
    "Necesitamos decidir cómo manejar estos valores ambiguos. Por ejemplo, podríamos:\n",
    "\n",
    "1. Eliminar las filas que contienen estos valores.\n",
    "   \n",
    "2. Reemplazar estos valores por NaN y luego tratar de inferirlos a partir de otras columnas del DataFrame.\n",
    "   \n",
    "3. Reemplazar estos valores directamente por un valor específico, basándonos en alguna lógica o conocimiento previo.\n",
    "\n",
    "Para los valores que parecen indicar una etapa, como \"si4\" y \"si 4\", podemos simplemente extraer el número y utilizarlo como el valor de `gds_fast`."
   ]
  },
  {
   "cell_type": "code",
   "execution_count": 25,
   "metadata": {},
   "outputs": [
    {
     "data": {
      "text/html": [
       "<pre style=\"white-space:pre;overflow-x:auto;line-height:normal;font-family:Menlo,'DejaVu Sans Mono',consolas,'Courier New',monospace\"></pre>\n"
      ],
      "text/plain": []
     },
     "metadata": {},
     "output_type": "display_data"
    },
    {
     "data": {
      "text/plain": [
       "\n",
       "no      \u001b[1;36m3166\u001b[0m\n",
       "7c       \u001b[1;36m242\u001b[0m\n",
       "\u001b[1;36m70\u001b[0m       \u001b[1;36m148\u001b[0m\n",
       "\u001b[1;36m60\u001b[0m        \u001b[1;36m94\u001b[0m\n",
       "\u001b[1;36m50\u001b[0m        \u001b[1;36m85\u001b[0m\n",
       "\u001b[1;36m40\u001b[0m        \u001b[1;36m63\u001b[0m\n",
       "\u001b[1;36m30\u001b[0m        \u001b[1;36m63\u001b[0m\n",
       "\u001b[1;36m20\u001b[0m        \u001b[1;36m39\u001b[0m\n",
       "\u001b[1;36m45\u001b[0m        \u001b[1;36m38\u001b[0m\n",
       "\u001b[1;36m67\u001b[0m        \u001b[1;36m31\u001b[0m\n",
       "7a        \u001b[1;36m14\u001b[0m\n",
       "\u001b[1;36m10\u001b[0m         \u001b[1;36m6\u001b[0m\n",
       "\u001b[1;36m34\u001b[0m         \u001b[1;36m5\u001b[0m\n",
       "n5         \u001b[1;36m4\u001b[0m\n",
       "\u001b[1;36m56\u001b[0m         \u001b[1;36m3\u001b[0m\n",
       "o          \u001b[1;36m3\u001b[0m\n",
       "si         \u001b[1;36m2\u001b[0m\n",
       "si4        \u001b[1;36m1\u001b[0m\n",
       "si7        \u001b[1;36m1\u001b[0m\n",
       "si6        \u001b[1;36m1\u001b[0m\n",
       "n0         \u001b[1;36m1\u001b[0m\n",
       "si \u001b[1;36m4\u001b[0m       \u001b[1;36m1\u001b[0m\n",
       "si \u001b[1;36m5\u001b[0m       \u001b[1;36m1\u001b[0m\n",
       "b          \u001b[1;36m1\u001b[0m\n",
       "Name: gds_fast, dtype: int64"
      ]
     },
     "execution_count": 25,
     "metadata": {},
     "output_type": "execute_result"
    }
   ],
   "source": [
    "df.gds_fast.value_counts()"
   ]
  },
  {
   "cell_type": "code",
   "execution_count": 26,
   "metadata": {},
   "outputs": [
    {
     "data": {
      "text/html": [
       "<pre style=\"white-space:pre;overflow-x:auto;line-height:normal;font-family:Menlo,'DejaVu Sans Mono',consolas,'Courier New',monospace\"></pre>\n"
      ],
      "text/plain": []
     },
     "metadata": {},
     "output_type": "display_data"
    },
    {
     "data": {
      "text/plain": [
       "\n",
       "\u001b[1;35marray\u001b[0m\u001b[1m(\u001b[0m\u001b[1m[\u001b[0m\u001b[32m'no'\u001b[0m, \u001b[32m'70'\u001b[0m, \u001b[32m'60'\u001b[0m, \u001b[32m'50'\u001b[0m, \u001b[32m'7c'\u001b[0m, \u001b[32m'40'\u001b[0m, \u001b[32m'67'\u001b[0m, \u001b[32m'30'\u001b[0m, \u001b[32m'20'\u001b[0m, \u001b[32m'45'\u001b[0m, \u001b[32m'34'\u001b[0m,\n",
       "       \u001b[32m'10'\u001b[0m, \u001b[32m'n0'\u001b[0m, \u001b[32m'si'\u001b[0m, \u001b[32m'56'\u001b[0m, \u001b[32m'7a'\u001b[0m, \u001b[32m'o'\u001b[0m, \u001b[32m'n5'\u001b[0m, \u001b[32m'si 5'\u001b[0m, \u001b[32m'si 4'\u001b[0m, \u001b[32m'si4'\u001b[0m,\n",
       "       \u001b[32m'si6'\u001b[0m, \u001b[32m'si7'\u001b[0m, \u001b[32m'b'\u001b[0m\u001b[1m]\u001b[0m, \u001b[33mdtype\u001b[0m=\u001b[35mobject\u001b[0m\u001b[1m)\u001b[0m"
      ]
     },
     "execution_count": 26,
     "metadata": {},
     "output_type": "execute_result"
    }
   ],
   "source": [
    "df.gds_fast.unique()"
   ]
  },
  {
   "cell_type": "code",
   "execution_count": 27,
   "metadata": {},
   "outputs": [
    {
     "data": {
      "text/html": [
       "<pre style=\"white-space:pre;overflow-x:auto;line-height:normal;font-family:Menlo,'DejaVu Sans Mono',consolas,'Courier New',monospace\"></pre>\n"
      ],
      "text/plain": []
     },
     "metadata": {},
     "output_type": "display_data"
    },
    {
     "data": {
      "text/plain": [
       "\n",
       "\u001b[1;36m0\u001b[0m       \u001b[1;36m3171\u001b[0m\n",
       "7c       \u001b[1;36m242\u001b[0m\n",
       "\u001b[1;36m70\u001b[0m       \u001b[1;36m148\u001b[0m\n",
       "\u001b[1;36m60\u001b[0m        \u001b[1;36m94\u001b[0m\n",
       "\u001b[1;36m50\u001b[0m        \u001b[1;36m85\u001b[0m\n",
       "\u001b[1;36m40\u001b[0m        \u001b[1;36m63\u001b[0m\n",
       "\u001b[1;36m30\u001b[0m        \u001b[1;36m63\u001b[0m\n",
       "\u001b[1;36m20\u001b[0m        \u001b[1;36m39\u001b[0m\n",
       "\u001b[1;36m45\u001b[0m        \u001b[1;36m38\u001b[0m\n",
       "\u001b[1;36m67\u001b[0m        \u001b[1;36m31\u001b[0m\n",
       "7a        \u001b[1;36m14\u001b[0m\n",
       "\u001b[1;36m10\u001b[0m         \u001b[1;36m6\u001b[0m\n",
       "\u001b[1;36m34\u001b[0m         \u001b[1;36m5\u001b[0m\n",
       "n5         \u001b[1;36m4\u001b[0m\n",
       "\u001b[1;36m56\u001b[0m         \u001b[1;36m3\u001b[0m\n",
       "si         \u001b[1;36m2\u001b[0m\n",
       "si \u001b[1;36m5\u001b[0m       \u001b[1;36m1\u001b[0m\n",
       "si \u001b[1;36m4\u001b[0m       \u001b[1;36m1\u001b[0m\n",
       "si4        \u001b[1;36m1\u001b[0m\n",
       "si6        \u001b[1;36m1\u001b[0m\n",
       "si7        \u001b[1;36m1\u001b[0m\n",
       "Name: gds_fast, dtype: int64"
      ]
     },
     "execution_count": 27,
     "metadata": {},
     "output_type": "execute_result"
    }
   ],
   "source": [
    "# 1. Reemplazar valores ambiguos por 0\n",
    "ambiguous_values = [\"no\", \"o\", \"n0\", \"b\"]\n",
    "df['gds_fast'].replace(ambiguous_values, \"0\", inplace=True)\n",
    "df['gds_fast'].value_counts()"
   ]
  },
  {
   "cell_type": "code",
   "execution_count": 28,
   "metadata": {},
   "outputs": [
    {
     "data": {
      "text/html": [
       "<pre style=\"white-space:pre;overflow-x:auto;line-height:normal;font-family:Menlo,'DejaVu Sans Mono',consolas,'Courier New',monospace\"></pre>\n"
      ],
      "text/plain": []
     },
     "metadata": {},
     "output_type": "display_data"
    },
    {
     "data": {
      "text/html": [
       "<div>\n",
       "<style scoped>\n",
       "    .dataframe tbody tr th:only-of-type {\n",
       "        vertical-align: middle;\n",
       "    }\n",
       "\n",
       "    .dataframe tbody tr th {\n",
       "        vertical-align: top;\n",
       "    }\n",
       "\n",
       "    .dataframe thead th {\n",
       "        text-align: right;\n",
       "    }\n",
       "</style>\n",
       "<table border=\"1\" class=\"dataframe\">\n",
       "  <thead>\n",
       "    <tr style=\"text-align: right;\">\n",
       "      <th></th>\n",
       "      <th>h_procedencia</th>\n",
       "      <th>s_procedencia</th>\n",
       "      <th>ap</th>\n",
       "      <th>otros</th>\n",
       "      <th>diagnostico</th>\n",
       "      <th>motivo_ing</th>\n",
       "      <th>paliativo_onc_noc</th>\n",
       "      <th>paliativo_no_onc_noc</th>\n",
       "      <th>fiebre</th>\n",
       "      <th>disnea</th>\n",
       "      <th>dolor</th>\n",
       "      <th>delirium</th>\n",
       "      <th>otros_1</th>\n",
       "      <th>p_terminal</th>\n",
       "      <th>agonia</th>\n",
       "      <th>ps_ecog</th>\n",
       "      <th>barthel</th>\n",
       "      <th>gds_fast</th>\n",
       "      <th>eva_ing</th>\n",
       "      <th>otros_2</th>\n",
       "      <th>otros_complicaciones</th>\n",
       "      <th>n_estancias</th>\n",
       "      <th>n_visitas</th>\n",
       "      <th>sedacion</th>\n",
       "      <th>motivo_alta</th>\n",
       "      <th>medico</th>\n",
       "      <th>year</th>\n",
       "      <th>ast_anorx</th>\n",
       "      <th>agudo_estable</th>\n",
       "      <th>cronico_reag</th>\n",
       "      <th>trato_antibiotico</th>\n",
       "      <th>transfusion</th>\n",
       "      <th>paracentesis</th>\n",
       "      <th>toracocentesis</th>\n",
       "      <th>ayuntamiento</th>\n",
       "      <th>fecha_alta</th>\n",
       "      <th>fe_iv</th>\n",
       "      <th>barthel_classification</th>\n",
       "      <th>ps_ecog_corrected</th>\n",
       "      <th>ps_ecog_classification</th>\n",
       "    </tr>\n",
       "  </thead>\n",
       "  <tbody>\n",
       "    <tr>\n",
       "      <th>687</th>\n",
       "      <td>no</td>\n",
       "      <td>no</td>\n",
       "      <td>si</td>\n",
       "      <td>no</td>\n",
       "      <td>demencia fast7</td>\n",
       "      <td>recambio peg</td>\n",
       "      <td>no</td>\n",
       "      <td>si</td>\n",
       "      <td>no</td>\n",
       "      <td>no</td>\n",
       "      <td>no</td>\n",
       "      <td>no</td>\n",
       "      <td>no</td>\n",
       "      <td>no</td>\n",
       "      <td>no</td>\n",
       "      <td>4</td>\n",
       "      <td>20</td>\n",
       "      <td>si</td>\n",
       "      <td>no</td>\n",
       "      <td>no</td>\n",
       "      <td>no</td>\n",
       "      <td>2</td>\n",
       "      <td>1</td>\n",
       "      <td>no</td>\n",
       "      <td>fin cuidados</td>\n",
       "      <td>fernandez benito</td>\n",
       "      <td>2018</td>\n",
       "      <td>no</td>\n",
       "      <td>desconocido</td>\n",
       "      <td>desconocido</td>\n",
       "      <td>desconocido</td>\n",
       "      <td>desconocido</td>\n",
       "      <td>desconocido</td>\n",
       "      <td>desconocido</td>\n",
       "      <td>desconocido</td>\n",
       "      <td>desconocido</td>\n",
       "      <td>desconocido</td>\n",
       "      <td>Dependencia total</td>\n",
       "      <td>nk</td>\n",
       "      <td>Encamado el 100%</td>\n",
       "    </tr>\n",
       "    <tr>\n",
       "      <th>3099</th>\n",
       "      <td>clinico</td>\n",
       "      <td>urg</td>\n",
       "      <td>no</td>\n",
       "      <td>desconocido</td>\n",
       "      <td>iitu</td>\n",
       "      <td>tratamiento antibiotico iv</td>\n",
       "      <td>no</td>\n",
       "      <td>si</td>\n",
       "      <td>si</td>\n",
       "      <td>no</td>\n",
       "      <td>no</td>\n",
       "      <td>si</td>\n",
       "      <td>desconocido</td>\n",
       "      <td>desconocido</td>\n",
       "      <td>desconocido</td>\n",
       "      <td>3</td>\n",
       "      <td>30</td>\n",
       "      <td>si</td>\n",
       "      <td>0</td>\n",
       "      <td>desconocido</td>\n",
       "      <td>desconocido</td>\n",
       "      <td>7</td>\n",
       "      <td>3</td>\n",
       "      <td>no</td>\n",
       "      <td>fin cuidados</td>\n",
       "      <td>fernandez benito</td>\n",
       "      <td>2022</td>\n",
       "      <td>no</td>\n",
       "      <td>no</td>\n",
       "      <td>si</td>\n",
       "      <td>si</td>\n",
       "      <td>no</td>\n",
       "      <td>no</td>\n",
       "      <td>no</td>\n",
       "      <td>noya</td>\n",
       "      <td>20220721t000000</td>\n",
       "      <td>no</td>\n",
       "      <td>Dependencia severa</td>\n",
       "      <td>no</td>\n",
       "      <td>Necesita ayuda para la mayoria de actividades</td>\n",
       "    </tr>\n",
       "  </tbody>\n",
       "</table>\n",
       "</div>"
      ],
      "text/plain": [
       "\n",
       "     h_procedencia s_procedencia  ap        otros     diagnostico  \\\n",
       "\u001b[1;36m687\u001b[0m             no            no  si           no  demencia fast7   \n",
       "\u001b[1;36m3099\u001b[0m       clinico           urg  no  desconocido            iitu   \n",
       "\n",
       "                      motivo_ing paliativo_onc_noc paliativo_no_onc_noc  \\\n",
       "\u001b[1;36m687\u001b[0m                 recambio peg                no                   si   \n",
       "\u001b[1;36m3099\u001b[0m  tratamiento antibiotico iv                no                   si   \n",
       "\n",
       "     fiebre disnea dolor delirium      otros_1   p_terminal       agonia  \\\n",
       "\u001b[1;36m687\u001b[0m      no     no    no       no           no           no           no   \n",
       "\u001b[1;36m3099\u001b[0m     si     no    no       si  desconocido  desconocido  desconocido   \n",
       "\n",
       "     ps_ecog  barthel gds_fast eva_ing      otros_2 otros_complicaciones  \\\n",
       "\u001b[1;36m687\u001b[0m        \u001b[1;36m4\u001b[0m       \u001b[1;36m20\u001b[0m       si      no           no                   no   \n",
       "\u001b[1;36m3099\u001b[0m       \u001b[1;36m3\u001b[0m       \u001b[1;36m30\u001b[0m       si       \u001b[1;36m0\u001b[0m  desconocido          desconocido   \n",
       "\n",
       "      n_estancias  n_visitas sedacion   motivo_alta            medico  year  \\\n",
       "\u001b[1;36m687\u001b[0m             \u001b[1;36m2\u001b[0m          \u001b[1;36m1\u001b[0m       no  fin cuidados  fernandez benito  \u001b[1;36m2018\u001b[0m   \n",
       "\u001b[1;36m3099\u001b[0m            \u001b[1;36m7\u001b[0m          \u001b[1;36m3\u001b[0m       no  fin cuidados  fernandez benito  \u001b[1;36m2022\u001b[0m   \n",
       "\n",
       "     ast_anorx agudo_estable cronico_reag trato_antibiotico  transfusion  \\\n",
       "\u001b[1;36m687\u001b[0m         no   desconocido  desconocido       desconocido  desconocido   \n",
       "\u001b[1;36m3099\u001b[0m        no            no           si                si           no   \n",
       "\n",
       "     paracentesis toracocentesis ayuntamiento       fecha_alta        fe_iv  \\\n",
       "\u001b[1;36m687\u001b[0m   desconocido    desconocido  desconocido      desconocido  desconocido   \n",
       "\u001b[1;36m3099\u001b[0m           no             no         noya  20220721t000000           no   \n",
       "\n",
       "     barthel_classification ps_ecog_corrected  \\\n",
       "\u001b[1;36m687\u001b[0m       Dependencia total                nk   \n",
       "\u001b[1;36m3099\u001b[0m     Dependencia severa                no   \n",
       "\n",
       "                             ps_ecog_classification  \n",
       "\u001b[1;36m687\u001b[0m                                Encamado el \u001b[1;36m100\u001b[0m%  \n",
       "\u001b[1;36m3099\u001b[0m  Necesita ayuda para la mayoria de actividades  "
      ]
     },
     "execution_count": 28,
     "metadata": {},
     "output_type": "execute_result"
    }
   ],
   "source": [
    "df[df['gds_fast'] == 'si']"
   ]
  },
  {
   "cell_type": "markdown",
   "metadata": {},
   "source": [
    "1. Para el primer registro, `barthel_classification` es \"Dependencia total\" y `ps_ecog_classification` es \"Encamado el 100%\". Esto sugiere que el paciente tiene una severa pérdida de función y probablemente esté en una etapa avanzada de demencia. Esto podría traducirse en un valor de `gds_fast` cercano a 7.\n",
    "  \n",
    "2. Para el segundo registro, `barthel_classification` es \"Dependencia severa\" y `ps_ecog_classification` es \"Necesita ayuda para la mayoría de actividades\". Esto sugiere que el paciente tiene un deterioro significativo pero no total. Esto podría traducirse en un valor de `gds_fast` entre 5 y 6.\n",
    "\n",
    "Basándonos en esta información, podríamos inferir que el valor de `gds_fast` para el primer registro sea 7 y para el segundo registro sea 5. "
   ]
  },
  {
   "cell_type": "code",
   "execution_count": 29,
   "metadata": {},
   "outputs": [
    {
     "data": {
      "text/html": [
       "<pre style=\"white-space:pre;overflow-x:auto;line-height:normal;font-family:Menlo,'DejaVu Sans Mono',consolas,'Courier New',monospace\"></pre>\n"
      ],
      "text/plain": []
     },
     "metadata": {},
     "output_type": "display_data"
    },
    {
     "data": {
      "text/plain": [
       "\n",
       "\u001b[1;36m7\u001b[0m    \u001b[1;36m1\u001b[0m\n",
       "\u001b[1;36m5\u001b[0m    \u001b[1;36m1\u001b[0m\n",
       "Name: gds_fast, dtype: int64"
      ]
     },
     "execution_count": 29,
     "metadata": {},
     "output_type": "execute_result"
    }
   ],
   "source": [
    "# Imputar valores para 'gds_fast' basados en la inferencia\n",
    "df.loc[(df['gds_fast'] == 'si') & (df['barthel_classification'] == 'Dependencia total'), 'gds_fast'] = '7'\n",
    "df.loc[(df['gds_fast'] == 'si') & (df['barthel_classification'] == 'Dependencia severa'), 'gds_fast'] = '5'\n",
    "\n",
    "# Verificar las transformaciones\n",
    "df[df['gds_fast'].isin(['si', '5', '7'])]['gds_fast'].value_counts()"
   ]
  },
  {
   "cell_type": "code",
   "execution_count": 30,
   "metadata": {},
   "outputs": [
    {
     "data": {
      "text/html": [
       "<pre style=\"white-space:pre;overflow-x:auto;line-height:normal;font-family:Menlo,'DejaVu Sans Mono',consolas,'Courier New',monospace\"></pre>\n"
      ],
      "text/plain": []
     },
     "metadata": {},
     "output_type": "display_data"
    },
    {
     "data": {
      "text/plain": [
       "\n",
       "\u001b[1;36m0\u001b[0m       \u001b[1;36m3171\u001b[0m\n",
       "7c       \u001b[1;36m242\u001b[0m\n",
       "\u001b[1;36m70\u001b[0m       \u001b[1;36m148\u001b[0m\n",
       "\u001b[1;36m60\u001b[0m        \u001b[1;36m94\u001b[0m\n",
       "\u001b[1;36m50\u001b[0m        \u001b[1;36m85\u001b[0m\n",
       "\u001b[1;36m40\u001b[0m        \u001b[1;36m63\u001b[0m\n",
       "\u001b[1;36m30\u001b[0m        \u001b[1;36m63\u001b[0m\n",
       "\u001b[1;36m20\u001b[0m        \u001b[1;36m39\u001b[0m\n",
       "\u001b[1;36m45\u001b[0m        \u001b[1;36m38\u001b[0m\n",
       "\u001b[1;36m67\u001b[0m        \u001b[1;36m31\u001b[0m\n",
       "7a        \u001b[1;36m14\u001b[0m\n",
       "\u001b[1;36m10\u001b[0m         \u001b[1;36m6\u001b[0m\n",
       "\u001b[1;36m34\u001b[0m         \u001b[1;36m5\u001b[0m\n",
       "n5         \u001b[1;36m4\u001b[0m\n",
       "\u001b[1;36m56\u001b[0m         \u001b[1;36m3\u001b[0m\n",
       "\u001b[1;36m7\u001b[0m          \u001b[1;36m1\u001b[0m\n",
       "si \u001b[1;36m5\u001b[0m       \u001b[1;36m1\u001b[0m\n",
       "si \u001b[1;36m4\u001b[0m       \u001b[1;36m1\u001b[0m\n",
       "si4        \u001b[1;36m1\u001b[0m\n",
       "si6        \u001b[1;36m1\u001b[0m\n",
       "si7        \u001b[1;36m1\u001b[0m\n",
       "\u001b[1;36m5\u001b[0m          \u001b[1;36m1\u001b[0m\n",
       "Name: gds_fast, dtype: int64"
      ]
     },
     "execution_count": 30,
     "metadata": {},
     "output_type": "execute_result"
    }
   ],
   "source": [
    "df.gds_fast.value_counts()"
   ]
  },
  {
   "cell_type": "code",
   "execution_count": 31,
   "metadata": {},
   "outputs": [],
   "source": [
    "# 1. Extraer números de valores que indican una etapa o subetapa\n",
    "df['gds_fast'] = df['gds_fast'].str.extract(r'(\\d+)')[0]"
   ]
  },
  {
   "cell_type": "code",
   "execution_count": 32,
   "metadata": {},
   "outputs": [
    {
     "data": {
      "text/html": [
       "<pre style=\"white-space:pre;overflow-x:auto;line-height:normal;font-family:Menlo,'DejaVu Sans Mono',consolas,'Courier New',monospace\"></pre>\n"
      ],
      "text/plain": []
     },
     "metadata": {},
     "output_type": "display_data"
    },
    {
     "data": {
      "text/plain": [
       "\n",
       "\u001b[1;36m0\u001b[0m    \u001b[1;36m3171\u001b[0m\n",
       "\u001b[1;36m7\u001b[0m     \u001b[1;36m437\u001b[0m\n",
       "\u001b[1;36m5\u001b[0m     \u001b[1;36m129\u001b[0m\n",
       "\u001b[1;36m6\u001b[0m      \u001b[1;36m98\u001b[0m\n",
       "\u001b[1;36m4\u001b[0m      \u001b[1;36m70\u001b[0m\n",
       "\u001b[1;36m3\u001b[0m      \u001b[1;36m63\u001b[0m\n",
       "\u001b[1;36m2\u001b[0m      \u001b[1;36m39\u001b[0m\n",
       "\u001b[1;36m1\u001b[0m       \u001b[1;36m6\u001b[0m\n",
       "Name: gds_fast, dtype: int64"
      ]
     },
     "execution_count": 32,
     "metadata": {},
     "output_type": "execute_result"
    }
   ],
   "source": [
    "def get_highest_digit(value):\n",
    "    if isinstance(value, str) and value.isdigit():\n",
    "        return str(max([int(digit) for digit in value]))\n",
    "    return value\n",
    "\n",
    "df['gds_fast'] = df['gds_fast'].astype(str).apply(get_highest_digit)\n",
    "df['gds_fast'] = df['gds_fast'].astype(int)\n",
    "\n",
    "# Verificar los cambios\n",
    "df['gds_fast'].value_counts()\n"
   ]
  },
  {
   "cell_type": "code",
   "execution_count": 33,
   "metadata": {},
   "outputs": [
    {
     "data": {
      "text/html": [
       "<pre style=\"white-space:pre;overflow-x:auto;line-height:normal;font-family:Menlo,'DejaVu Sans Mono',consolas,'Courier New',monospace\"></pre>\n"
      ],
      "text/plain": []
     },
     "metadata": {},
     "output_type": "display_data"
    },
    {
     "data": {
      "text/plain": [
       "\n",
       "No realizado o desconocido               \u001b[1;36m3171\u001b[0m\n",
       "Deficit cognitivo muy grave               \u001b[1;36m437\u001b[0m\n",
       "Deficit cognitivo moderadamente grave     \u001b[1;36m129\u001b[0m\n",
       "Deficit cognitivo grave                    \u001b[1;36m98\u001b[0m\n",
       "Deficit cognitivo moderado                 \u001b[1;36m70\u001b[0m\n",
       "Deficit cognitivo leve                     \u001b[1;36m63\u001b[0m\n",
       "Deficit cognitivo muy leve                 \u001b[1;36m39\u001b[0m\n",
       "Ausencia de deficit cognitivo               \u001b[1;36m6\u001b[0m\n",
       "Name: gds_fast_classification, dtype: int64"
      ]
     },
     "execution_count": 33,
     "metadata": {},
     "output_type": "execute_result"
    }
   ],
   "source": [
    "# Clasificación para la escala gds_fast\n",
    "gds_fast_classification = {\n",
    "    1: \"Ausencia de deficit cognitivo\",\n",
    "    2: \"Deficit cognitivo muy leve\",\n",
    "    3: \"Deficit cognitivo leve\",\n",
    "    4: \"Deficit cognitivo moderado\",\n",
    "    5: \"Deficit cognitivo moderadamente grave\",\n",
    "    6: \"Deficit cognitivo grave\",\n",
    "    7: \"Deficit cognitivo muy grave\",\n",
    "    0: \"No realizado o desconocido\"\n",
    "}\n",
    "\n",
    "# Aplicar la clasificación\n",
    "df['gds_fast_classification'] = df['gds_fast'].map(gds_fast_classification)\n",
    "\n",
    "# Verificar la clasificación\n",
    "df['gds_fast_classification'].value_counts()"
   ]
  },
  {
   "cell_type": "code",
   "execution_count": 34,
   "metadata": {},
   "outputs": [
    {
     "data": {
      "text/html": [
       "<pre style=\"white-space:pre;overflow-x:auto;line-height:normal;font-family:Menlo,'DejaVu Sans Mono',consolas,'Courier New',monospace\"></pre>\n"
      ],
      "text/plain": []
     },
     "metadata": {},
     "output_type": "display_data"
    },
    {
     "data": {
      "text/html": [
       "<div>\n",
       "<style scoped>\n",
       "    .dataframe tbody tr th:only-of-type {\n",
       "        vertical-align: middle;\n",
       "    }\n",
       "\n",
       "    .dataframe tbody tr th {\n",
       "        vertical-align: top;\n",
       "    }\n",
       "\n",
       "    .dataframe thead th {\n",
       "        text-align: right;\n",
       "    }\n",
       "</style>\n",
       "<table border=\"1\" class=\"dataframe\">\n",
       "  <thead>\n",
       "    <tr style=\"text-align: right;\">\n",
       "      <th></th>\n",
       "      <th>gds_fast</th>\n",
       "      <th>eva_ing</th>\n",
       "      <th>barthel</th>\n",
       "      <th>ps_ecog</th>\n",
       "    </tr>\n",
       "  </thead>\n",
       "  <tbody>\n",
       "    <tr>\n",
       "      <th>gds_fast</th>\n",
       "      <td>1.000000</td>\n",
       "      <td>-0.101557</td>\n",
       "      <td>-0.299317</td>\n",
       "      <td>0.286045</td>\n",
       "    </tr>\n",
       "    <tr>\n",
       "      <th>eva_ing</th>\n",
       "      <td>-0.101557</td>\n",
       "      <td>1.000000</td>\n",
       "      <td>0.029715</td>\n",
       "      <td>0.047432</td>\n",
       "    </tr>\n",
       "    <tr>\n",
       "      <th>barthel</th>\n",
       "      <td>-0.299317</td>\n",
       "      <td>0.029715</td>\n",
       "      <td>1.000000</td>\n",
       "      <td>-0.830229</td>\n",
       "    </tr>\n",
       "    <tr>\n",
       "      <th>ps_ecog</th>\n",
       "      <td>0.286045</td>\n",
       "      <td>0.047432</td>\n",
       "      <td>-0.830229</td>\n",
       "      <td>1.000000</td>\n",
       "    </tr>\n",
       "  </tbody>\n",
       "</table>\n",
       "</div>"
      ],
      "text/plain": [
       "\n",
       "          gds_fast   eva_ing   barthel   ps_ecog\n",
       "gds_fast  \u001b[1;36m1.000000\u001b[0m \u001b[1;36m-0.101557\u001b[0m \u001b[1;36m-0.299317\u001b[0m  \u001b[1;36m0.286045\u001b[0m\n",
       "eva_ing  \u001b[1;36m-0.101557\u001b[0m  \u001b[1;36m1.000000\u001b[0m  \u001b[1;36m0.029715\u001b[0m  \u001b[1;36m0.047432\u001b[0m\n",
       "barthel  \u001b[1;36m-0.299317\u001b[0m  \u001b[1;36m0.029715\u001b[0m  \u001b[1;36m1.000000\u001b[0m \u001b[1;36m-0.830229\u001b[0m\n",
       "ps_ecog   \u001b[1;36m0.286045\u001b[0m  \u001b[1;36m0.047432\u001b[0m \u001b[1;36m-0.830229\u001b[0m  \u001b[1;36m1.000000\u001b[0m"
      ]
     },
     "execution_count": 34,
     "metadata": {},
     "output_type": "execute_result"
    }
   ],
   "source": [
    "# Convertir 'gds_fast' y otras columnas relevantes a numérico\n",
    "cols_to_convert = ['gds_fast', 'eva_ing', 'barthel', 'ps_ecog']\n",
    "for col in cols_to_convert:\n",
    "    df[col] = pd.to_numeric(df[col], errors='coerce')\n",
    "\n",
    "# Calcular la matriz de correlación para 'gds_fast' y otras columnas\n",
    "correlation_matrix = df[cols_to_convert].corr()\n",
    "\n",
    "correlation_matrix"
   ]
  },
  {
   "cell_type": "code",
   "execution_count": null,
   "metadata": {},
   "outputs": [],
   "source": []
  },
  {
   "cell_type": "code",
   "execution_count": 35,
   "metadata": {},
   "outputs": [
    {
     "data": {
      "text/html": [
       "<pre style=\"white-space:pre;overflow-x:auto;line-height:normal;font-family:Menlo,'DejaVu Sans Mono',consolas,'Courier New',monospace\"></pre>\n"
      ],
      "text/plain": []
     },
     "metadata": {},
     "output_type": "display_data"
    },
    {
     "data": {
      "text/plain": [
       "\u001b[1;35marray\u001b[0m\u001b[1m(\u001b[0m\u001b[1m[\u001b[0m\u001b[1m<\u001b[0m\u001b[1;95mclass\u001b[0m\u001b[39m \u001b[0m\u001b[32m'int'\u001b[0m\u001b[1m>\u001b[0m\u001b[1m]\u001b[0m, \u001b[33mdtype\u001b[0m=\u001b[35mobject\u001b[0m\u001b[1m)\u001b[0m"
      ]
     },
     "execution_count": 35,
     "metadata": {},
     "output_type": "execute_result"
    }
   ],
   "source": [
    "# Verificar los tipos de datos únicos en 'GDS_FAST'\n",
    "df['gds_fast'].apply(type).unique()"
   ]
  },
  {
   "cell_type": "code",
   "execution_count": 36,
   "metadata": {},
   "outputs": [],
   "source": [
    "df.to_csv('hado_ps_ecog.csv',index=False)"
   ]
  },
  {
   "cell_type": "markdown",
   "metadata": {},
   "source": [
    "# Funciones para Kedro\n",
    "\n",
    "1. Barthel"
   ]
  },
  {
   "cell_type": "code",
   "execution_count": 37,
   "metadata": {},
   "outputs": [],
   "source": [
    "# Definición del diccionario basado en la estructura YAML\n",
    "barthel_cleaning = {\n",
    "    \"replacements\": {\n",
    "        \"no\": \"0\",\n",
    "        \"n20\": \"20\",\n",
    "        \"n80\": \"80\",\n",
    "        \"z30\": \"30\",\n",
    "        \"4050\": \"50\",\n",
    "        \"3040\": \"40\",\n",
    "        \"5060\": \"60\",\n",
    "        \"990\": \"90\",\n",
    "        \"650\": \"65\"\n",
    "    },\n",
    "    \"high_values\": [200, 300, 400, 500, 600, 700, 800, 900, 950, 980, 120, 450, 250, 850, 350],\n",
    "    \"classification_rules\": {\n",
    "        \"Dependencia total\": 20,\n",
    "        \"Dependencia severa\": 40,\n",
    "        \"Dependencia moderada\": 60,\n",
    "        \"Dependencia leve o mínima\": 90\n",
    "    }\n",
    "}"
   ]
  },
  {
   "cell_type": "code",
   "execution_count": 38,
   "metadata": {},
   "outputs": [],
   "source": [
    "from typing import Dict, List\n",
    "\n",
    "def clean_and_classify_barthel(df, replacements, high_values, classification_rules):\n",
    "    # Copia del dataframe para no modificar el original\n",
    "    df = df.copy()\n",
    "    \n",
    "    # Reemplazar valores '1000' por '100' en la columna 'barthel'\n",
    "    df['barthel'] = df['barthel'].replace(\"1000\", \"100\")\n",
    "\n",
    "    # Reemplazar valores ambiguos según los parámetros\n",
    "    df['barthel'].replace(replacements, inplace=True)\n",
    "\n",
    "    # Correcciones para valores superiores a 100\n",
    "    def correct_barthel_values(value):\n",
    "        if int(value) in high_values:\n",
    "            return str(int(value) // 10)\n",
    "        return value\n",
    "\n",
    "    df['barthel'] = df['barthel'].apply(correct_barthel_values)\n",
    "\n",
    "    # Clasificación basada en reglas\n",
    "    def classify_barthel(score: int) -> str:\n",
    "        if score <= classification_rules['Dependencia total']:\n",
    "            return \"Dependencia total\"\n",
    "        elif score <= classification_rules['Dependencia severa']:\n",
    "            return \"Dependencia severa\"\n",
    "        elif score <= classification_rules['Dependencia moderada']:\n",
    "            return \"Dependencia moderada\"\n",
    "        elif score <= classification_rules['Dependencia leve o mínima']:\n",
    "            return \"Dependencia leve o mínima\"\n",
    "        else:\n",
    "            return \"Independencia\"\n",
    "\n",
    "    # Convertir la columna 'barthel' a tipo entero\n",
    "    df['barthel'] = df['barthel'].astype(int)\n",
    "\n",
    "    # Aplicar la función classify_barthel\n",
    "    df['barthel_classification'] = df['barthel'].apply(classify_barthel)\n",
    "    \n",
    "    return df\n"
   ]
  },
  {
   "cell_type": "code",
   "execution_count": 39,
   "metadata": {},
   "outputs": [],
   "source": [
    "df_cleaned = clean_and_classify_barthel(df, **barthel_cleaning)"
   ]
  },
  {
   "cell_type": "code",
   "execution_count": 40,
   "metadata": {},
   "outputs": [
    {
     "data": {
      "text/html": [
       "<pre style=\"white-space:pre;overflow-x:auto;line-height:normal;font-family:Menlo,'DejaVu Sans Mono',consolas,'Courier New',monospace\"></pre>\n"
      ],
      "text/plain": []
     },
     "metadata": {},
     "output_type": "display_data"
    },
    {
     "data": {
      "text/plain": [
       "\n",
       "\u001b[1;35mIndex\u001b[0m\u001b[1m(\u001b[0m\u001b[1m[\u001b[0m\u001b[32m'h_procedencia'\u001b[0m, \u001b[32m's_procedencia'\u001b[0m, \u001b[32m'ap'\u001b[0m, \u001b[32m'otros'\u001b[0m, \u001b[32m'diagnostico'\u001b[0m,\n",
       "       \u001b[32m'motivo_ing'\u001b[0m, \u001b[32m'paliativo_onc_noc'\u001b[0m, \u001b[32m'paliativo_no_onc_noc'\u001b[0m, \u001b[32m'fiebre'\u001b[0m,\n",
       "       \u001b[32m'disnea'\u001b[0m, \u001b[32m'dolor'\u001b[0m, \u001b[32m'delirium'\u001b[0m, \u001b[32m'otros_1'\u001b[0m, \u001b[32m'p_terminal'\u001b[0m, \u001b[32m'agonia'\u001b[0m,\n",
       "       \u001b[32m'ps_ecog'\u001b[0m, \u001b[32m'barthel'\u001b[0m, \u001b[32m'gds_fast'\u001b[0m, \u001b[32m'eva_ing'\u001b[0m, \u001b[32m'otros_2'\u001b[0m,\n",
       "       \u001b[32m'otros_complicaciones'\u001b[0m, \u001b[32m'n_estancias'\u001b[0m, \u001b[32m'n_visitas'\u001b[0m, \u001b[32m'sedacion'\u001b[0m,\n",
       "       \u001b[32m'motivo_alta'\u001b[0m, \u001b[32m'medico'\u001b[0m, \u001b[32m'year'\u001b[0m, \u001b[32m'ast_anorx'\u001b[0m, \u001b[32m'agudo_estable'\u001b[0m,\n",
       "       \u001b[32m'cronico_reag'\u001b[0m, \u001b[32m'trato_antibiotico'\u001b[0m, \u001b[32m'transfusion'\u001b[0m, \u001b[32m'paracentesis'\u001b[0m,\n",
       "       \u001b[32m'toracocentesis'\u001b[0m, \u001b[32m'ayuntamiento'\u001b[0m, \u001b[32m'fecha_alta'\u001b[0m, \u001b[32m'fe_iv'\u001b[0m,\n",
       "       \u001b[32m'barthel_classification'\u001b[0m, \u001b[32m'ps_ecog_corrected'\u001b[0m, \u001b[32m'ps_ecog_classification'\u001b[0m,\n",
       "       \u001b[32m'gds_fast_classification'\u001b[0m\u001b[1m]\u001b[0m,\n",
       "      \u001b[33mdtype\u001b[0m=\u001b[32m'object'\u001b[0m\u001b[1m)\u001b[0m"
      ]
     },
     "execution_count": 40,
     "metadata": {},
     "output_type": "execute_result"
    }
   ],
   "source": [
    "df_cleaned.columns"
   ]
  },
  {
   "cell_type": "code",
   "execution_count": 41,
   "metadata": {},
   "outputs": [
    {
     "data": {
      "text/html": [
       "<pre style=\"white-space:pre;overflow-x:auto;line-height:normal;font-family:Menlo,'DejaVu Sans Mono',consolas,'Courier New',monospace\"></pre>\n"
      ],
      "text/plain": []
     },
     "metadata": {},
     "output_type": "display_data"
    },
    {
     "data": {
      "text/html": [
       "<div>\n",
       "<style scoped>\n",
       "    .dataframe tbody tr th:only-of-type {\n",
       "        vertical-align: middle;\n",
       "    }\n",
       "\n",
       "    .dataframe tbody tr th {\n",
       "        vertical-align: top;\n",
       "    }\n",
       "\n",
       "    .dataframe thead th {\n",
       "        text-align: right;\n",
       "    }\n",
       "</style>\n",
       "<table border=\"1\" class=\"dataframe\">\n",
       "  <thead>\n",
       "    <tr style=\"text-align: right;\">\n",
       "      <th>barthel</th>\n",
       "      <th>0</th>\n",
       "      <th>10</th>\n",
       "      <th>12</th>\n",
       "      <th>20</th>\n",
       "      <th>25</th>\n",
       "      <th>30</th>\n",
       "      <th>35</th>\n",
       "      <th>40</th>\n",
       "      <th>45</th>\n",
       "      <th>50</th>\n",
       "      <th>60</th>\n",
       "      <th>65</th>\n",
       "      <th>70</th>\n",
       "      <th>80</th>\n",
       "      <th>85</th>\n",
       "      <th>90</th>\n",
       "      <th>95</th>\n",
       "      <th>98</th>\n",
       "      <th>99</th>\n",
       "      <th>100</th>\n",
       "    </tr>\n",
       "    <tr>\n",
       "      <th>barthel_classification</th>\n",
       "      <th></th>\n",
       "      <th></th>\n",
       "      <th></th>\n",
       "      <th></th>\n",
       "      <th></th>\n",
       "      <th></th>\n",
       "      <th></th>\n",
       "      <th></th>\n",
       "      <th></th>\n",
       "      <th></th>\n",
       "      <th></th>\n",
       "      <th></th>\n",
       "      <th></th>\n",
       "      <th></th>\n",
       "      <th></th>\n",
       "      <th></th>\n",
       "      <th></th>\n",
       "      <th></th>\n",
       "      <th></th>\n",
       "      <th></th>\n",
       "    </tr>\n",
       "  </thead>\n",
       "  <tbody>\n",
       "    <tr>\n",
       "      <th>Dependencia leve o mínima</th>\n",
       "      <td>0.0</td>\n",
       "      <td>0.0</td>\n",
       "      <td>0.0</td>\n",
       "      <td>0.0</td>\n",
       "      <td>0.0</td>\n",
       "      <td>0.0</td>\n",
       "      <td>0.0</td>\n",
       "      <td>0.0</td>\n",
       "      <td>0.0</td>\n",
       "      <td>0.0</td>\n",
       "      <td>0.0</td>\n",
       "      <td>7.0</td>\n",
       "      <td>117.0</td>\n",
       "      <td>229.0</td>\n",
       "      <td>2.0</td>\n",
       "      <td>227.0</td>\n",
       "      <td>0.0</td>\n",
       "      <td>0.0</td>\n",
       "      <td>0.0</td>\n",
       "      <td>0.0</td>\n",
       "    </tr>\n",
       "    <tr>\n",
       "      <th>Dependencia moderada</th>\n",
       "      <td>0.0</td>\n",
       "      <td>0.0</td>\n",
       "      <td>0.0</td>\n",
       "      <td>0.0</td>\n",
       "      <td>0.0</td>\n",
       "      <td>0.0</td>\n",
       "      <td>0.0</td>\n",
       "      <td>0.0</td>\n",
       "      <td>7.0</td>\n",
       "      <td>164.0</td>\n",
       "      <td>329.0</td>\n",
       "      <td>0.0</td>\n",
       "      <td>0.0</td>\n",
       "      <td>0.0</td>\n",
       "      <td>0.0</td>\n",
       "      <td>0.0</td>\n",
       "      <td>0.0</td>\n",
       "      <td>0.0</td>\n",
       "      <td>0.0</td>\n",
       "      <td>0.0</td>\n",
       "    </tr>\n",
       "    <tr>\n",
       "      <th>Dependencia severa</th>\n",
       "      <td>0.0</td>\n",
       "      <td>0.0</td>\n",
       "      <td>0.0</td>\n",
       "      <td>0.0</td>\n",
       "      <td>1.0</td>\n",
       "      <td>305.0</td>\n",
       "      <td>6.0</td>\n",
       "      <td>411.0</td>\n",
       "      <td>0.0</td>\n",
       "      <td>0.0</td>\n",
       "      <td>0.0</td>\n",
       "      <td>0.0</td>\n",
       "      <td>0.0</td>\n",
       "      <td>0.0</td>\n",
       "      <td>0.0</td>\n",
       "      <td>0.0</td>\n",
       "      <td>0.0</td>\n",
       "      <td>0.0</td>\n",
       "      <td>0.0</td>\n",
       "      <td>0.0</td>\n",
       "    </tr>\n",
       "    <tr>\n",
       "      <th>Dependencia total</th>\n",
       "      <td>446.0</td>\n",
       "      <td>339.0</td>\n",
       "      <td>2.0</td>\n",
       "      <td>1068.0</td>\n",
       "      <td>0.0</td>\n",
       "      <td>0.0</td>\n",
       "      <td>0.0</td>\n",
       "      <td>0.0</td>\n",
       "      <td>0.0</td>\n",
       "      <td>0.0</td>\n",
       "      <td>0.0</td>\n",
       "      <td>0.0</td>\n",
       "      <td>0.0</td>\n",
       "      <td>0.0</td>\n",
       "      <td>0.0</td>\n",
       "      <td>0.0</td>\n",
       "      <td>0.0</td>\n",
       "      <td>0.0</td>\n",
       "      <td>0.0</td>\n",
       "      <td>0.0</td>\n",
       "    </tr>\n",
       "    <tr>\n",
       "      <th>Independencia</th>\n",
       "      <td>0.0</td>\n",
       "      <td>0.0</td>\n",
       "      <td>0.0</td>\n",
       "      <td>0.0</td>\n",
       "      <td>0.0</td>\n",
       "      <td>0.0</td>\n",
       "      <td>0.0</td>\n",
       "      <td>0.0</td>\n",
       "      <td>0.0</td>\n",
       "      <td>0.0</td>\n",
       "      <td>0.0</td>\n",
       "      <td>0.0</td>\n",
       "      <td>0.0</td>\n",
       "      <td>0.0</td>\n",
       "      <td>0.0</td>\n",
       "      <td>0.0</td>\n",
       "      <td>3.0</td>\n",
       "      <td>1.0</td>\n",
       "      <td>2.0</td>\n",
       "      <td>347.0</td>\n",
       "    </tr>\n",
       "  </tbody>\n",
       "</table>\n",
       "</div>"
      ],
      "text/plain": [
       "\n",
       "barthel                      \u001b[1;36m0\u001b[0m      \u001b[1;36m10\u001b[0m   \u001b[1;36m12\u001b[0m      \u001b[1;36m20\u001b[0m   \u001b[1;36m25\u001b[0m     \u001b[1;36m30\u001b[0m   \u001b[1;36m35\u001b[0m     \u001b[1;36m40\u001b[0m   \\\n",
       "barthel_classification                                                         \n",
       "Dependencia leve o mínima    \u001b[1;36m0.0\u001b[0m    \u001b[1;36m0.0\u001b[0m  \u001b[1;36m0.0\u001b[0m     \u001b[1;36m0.0\u001b[0m  \u001b[1;36m0.0\u001b[0m    \u001b[1;36m0.0\u001b[0m  \u001b[1;36m0.0\u001b[0m    \u001b[1;36m0.0\u001b[0m   \n",
       "Dependencia moderada         \u001b[1;36m0.0\u001b[0m    \u001b[1;36m0.0\u001b[0m  \u001b[1;36m0.0\u001b[0m     \u001b[1;36m0.0\u001b[0m  \u001b[1;36m0.0\u001b[0m    \u001b[1;36m0.0\u001b[0m  \u001b[1;36m0.0\u001b[0m    \u001b[1;36m0.0\u001b[0m   \n",
       "Dependencia severa           \u001b[1;36m0.0\u001b[0m    \u001b[1;36m0.0\u001b[0m  \u001b[1;36m0.0\u001b[0m     \u001b[1;36m0.0\u001b[0m  \u001b[1;36m1.0\u001b[0m  \u001b[1;36m305.0\u001b[0m  \u001b[1;36m6.0\u001b[0m  \u001b[1;36m411.0\u001b[0m   \n",
       "Dependencia total          \u001b[1;36m446.0\u001b[0m  \u001b[1;36m339.0\u001b[0m  \u001b[1;36m2.0\u001b[0m  \u001b[1;36m1068.0\u001b[0m  \u001b[1;36m0.0\u001b[0m    \u001b[1;36m0.0\u001b[0m  \u001b[1;36m0.0\u001b[0m    \u001b[1;36m0.0\u001b[0m   \n",
       "Independencia                \u001b[1;36m0.0\u001b[0m    \u001b[1;36m0.0\u001b[0m  \u001b[1;36m0.0\u001b[0m     \u001b[1;36m0.0\u001b[0m  \u001b[1;36m0.0\u001b[0m    \u001b[1;36m0.0\u001b[0m  \u001b[1;36m0.0\u001b[0m    \u001b[1;36m0.0\u001b[0m   \n",
       "\n",
       "barthel                    \u001b[1;36m45\u001b[0m     \u001b[1;36m50\u001b[0m     \u001b[1;36m60\u001b[0m   \u001b[1;36m65\u001b[0m     \u001b[1;36m70\u001b[0m     \u001b[1;36m80\u001b[0m   \u001b[1;36m85\u001b[0m     \u001b[1;36m90\u001b[0m   \\\n",
       "barthel_classification                                                        \n",
       "Dependencia leve o mínima  \u001b[1;36m0.0\u001b[0m    \u001b[1;36m0.0\u001b[0m    \u001b[1;36m0.0\u001b[0m  \u001b[1;36m7.0\u001b[0m  \u001b[1;36m117.0\u001b[0m  \u001b[1;36m229.0\u001b[0m  \u001b[1;36m2.0\u001b[0m  \u001b[1;36m227.0\u001b[0m   \n",
       "Dependencia moderada       \u001b[1;36m7.0\u001b[0m  \u001b[1;36m164.0\u001b[0m  \u001b[1;36m329.0\u001b[0m  \u001b[1;36m0.0\u001b[0m    \u001b[1;36m0.0\u001b[0m    \u001b[1;36m0.0\u001b[0m  \u001b[1;36m0.0\u001b[0m    \u001b[1;36m0.0\u001b[0m   \n",
       "Dependencia severa         \u001b[1;36m0.0\u001b[0m    \u001b[1;36m0.0\u001b[0m    \u001b[1;36m0.0\u001b[0m  \u001b[1;36m0.0\u001b[0m    \u001b[1;36m0.0\u001b[0m    \u001b[1;36m0.0\u001b[0m  \u001b[1;36m0.0\u001b[0m    \u001b[1;36m0.0\u001b[0m   \n",
       "Dependencia total          \u001b[1;36m0.0\u001b[0m    \u001b[1;36m0.0\u001b[0m    \u001b[1;36m0.0\u001b[0m  \u001b[1;36m0.0\u001b[0m    \u001b[1;36m0.0\u001b[0m    \u001b[1;36m0.0\u001b[0m  \u001b[1;36m0.0\u001b[0m    \u001b[1;36m0.0\u001b[0m   \n",
       "Independencia              \u001b[1;36m0.0\u001b[0m    \u001b[1;36m0.0\u001b[0m    \u001b[1;36m0.0\u001b[0m  \u001b[1;36m0.0\u001b[0m    \u001b[1;36m0.0\u001b[0m    \u001b[1;36m0.0\u001b[0m  \u001b[1;36m0.0\u001b[0m    \u001b[1;36m0.0\u001b[0m   \n",
       "\n",
       "barthel                    \u001b[1;36m95\u001b[0m   \u001b[1;36m98\u001b[0m   \u001b[1;36m99\u001b[0m     \u001b[1;36m100\u001b[0m  \n",
       "barthel_classification                           \n",
       "Dependencia leve o mínima  \u001b[1;36m0.0\u001b[0m  \u001b[1;36m0.0\u001b[0m  \u001b[1;36m0.0\u001b[0m    \u001b[1;36m0.0\u001b[0m  \n",
       "Dependencia moderada       \u001b[1;36m0.0\u001b[0m  \u001b[1;36m0.0\u001b[0m  \u001b[1;36m0.0\u001b[0m    \u001b[1;36m0.0\u001b[0m  \n",
       "Dependencia severa         \u001b[1;36m0.0\u001b[0m  \u001b[1;36m0.0\u001b[0m  \u001b[1;36m0.0\u001b[0m    \u001b[1;36m0.0\u001b[0m  \n",
       "Dependencia total          \u001b[1;36m0.0\u001b[0m  \u001b[1;36m0.0\u001b[0m  \u001b[1;36m0.0\u001b[0m    \u001b[1;36m0.0\u001b[0m  \n",
       "Independencia              \u001b[1;36m3.0\u001b[0m  \u001b[1;36m1.0\u001b[0m  \u001b[1;36m2.0\u001b[0m  \u001b[1;36m347.0\u001b[0m  "
      ]
     },
     "execution_count": 41,
     "metadata": {},
     "output_type": "execute_result"
    }
   ],
   "source": [
    "# Agrupar por 'barthel_classification' y contar los valores únicos de 'barthel'\n",
    "classification_group = df_cleaned.groupby('barthel_classification')['barthel'].value_counts().unstack().fillna(0)\n",
    "classification_group_sorted = classification_group[sorted(classification_group.columns, key=int)]\n",
    "classification_group_sorted"
   ]
  },
  {
   "cell_type": "code",
   "execution_count": 42,
   "metadata": {},
   "outputs": [
    {
     "data": {
      "text/html": [
       "<pre style=\"white-space:pre;overflow-x:auto;line-height:normal;font-family:Menlo,'DejaVu Sans Mono',consolas,'Courier New',monospace\"></pre>\n"
      ],
      "text/plain": []
     },
     "metadata": {},
     "output_type": "display_data"
    },
    {
     "data": {
      "image/png": "[encoded data removed]",
      "text/plain": [
       "\u001b[1m<\u001b[0m\u001b[1;95mFigure\u001b[0m\u001b[39m size 150\u001b[0m\u001b[1;36m0x1000\u001b[0m\u001b[39m with \u001b[0m\u001b[1;36m2\u001b[0m\u001b[39m Axes\u001b[0m\u001b[1m>\u001b[0m"
      ]
     },
     "metadata": {},
     "output_type": "display_data"
    }
   ],
   "source": [
    "# Visualización de la clasificación de Barthel usando un heatmap\n",
    "plt.figure(figsize=(15, 10))\n",
    "sns.heatmap(classification_group_sorted, annot=True, cmap=\"YlGnBu\", fmt=\".0f\", cbar_kws={'label': 'Count'})\n",
    "\n",
    "plt.title('Classification of Barthel Scores', fontsize=20)\n",
    "plt.xlabel('Barthel Score', fontsize=15)\n",
    "plt.ylabel('Classification', fontsize=15)\n",
    "plt.xticks(fontsize=12)\n",
    "plt.yticks(fontsize=12, rotation=0)\n",
    "plt.show()"
   ]
  },
  {
   "cell_type": "markdown",
   "metadata": {},
   "source": [
    "2. PS_ECOG"
   ]
  },
  {
   "cell_type": "code",
   "execution_count": 43,
   "metadata": {},
   "outputs": [],
   "source": [
    "ps_ecog_cleaning = {\n",
    "    'ambiguous_values': ['no', 'nk', 'si', 'np', 'o', 'nop', '7', 'n23'],\n",
    "    'value_replacements': {'1000': '1', '00': '0'},\n",
    "    'classification_rules': {\n",
    "        'Dependencia total': '4',\n",
    "        'Dependencia severa': '3',\n",
    "        'Dependencia moderada': '2',\n",
    "        'Dependencia leve o mínima': '1',\n",
    "        'Independencia': '1'\n",
    "    },\n",
    "    'ecog_classification': {\n",
    "        '0': 'Totalmente asintomatico',\n",
    "        '1': 'Sintomas leves',\n",
    "        '2': 'Sintomas moderados',\n",
    "        '3': 'Necesita ayuda para la mayoria de actividades',\n",
    "        '4': 'Encamado el 100%',\n",
    "        '5': 'Fallecido'\n",
    "    }\n",
    "}\n"
   ]
  },
  {
   "cell_type": "code",
   "execution_count": 44,
   "metadata": {},
   "outputs": [],
   "source": [
    "def clean_ps_ecog(df: pd.DataFrame, \n",
    "                  ambiguous_values: List[str],\n",
    "                  value_replacements: Dict[str, str],\n",
    "                  classification_rules: Dict[str, str],\n",
    "                  ecog_classification: Dict[str, str],\n",
    "                  barthel_col: str = 'barthel_classification') -> pd.DataFrame:\n",
    "    \n",
    "    # Función auxiliar para corregir valores basados en dígitos\n",
    "    def correct_values(value: str) -> str:\n",
    "        if value.isdigit():\n",
    "            return str(max([int(digit) for digit in value]))\n",
    "        return value\n",
    "\n",
    "    # Función auxiliar para inferir el valor ps_ecog basado en la clasificación de barthel\n",
    "    def infer_values(row) -> str:\n",
    "        if row['ps_ecog'] in ambiguous_values:\n",
    "            return classification_rules.get(row[barthel_col], row['ps_ecog'])\n",
    "        return row['ps_ecog']\n",
    "\n",
    "    # Corregir valores en ps_ecog basados en dígitos y reemplazar valores obvios\n",
    "    df['ps_ecog'] = df['ps_ecog'].apply(correct_values)\n",
    "    df['ps_ecog'].replace(value_replacements, inplace=True)\n",
    "    \n",
    "    # Inferir valores de ps_ecog basados en barthel_classification\n",
    "    df['ps_ecog'] = df.apply(infer_values, axis=1)\n",
    "    \n",
    "    # Clasificación textual basada en el valor ECOG\n",
    "    df['ps_ecog_classification'] = df['ps_ecog'].map(ecog_classification)\n",
    "    \n",
    "    return df\n"
   ]
  },
  {
   "cell_type": "code",
   "execution_count": 45,
   "metadata": {},
   "outputs": [
    {
     "data": {
      "text/html": [
       "<pre style=\"white-space:pre;overflow-x:auto;line-height:normal;font-family:Menlo,'DejaVu Sans Mono',consolas,'Courier New',monospace\"></pre>\n"
      ],
      "text/plain": []
     },
     "metadata": {},
     "output_type": "display_data"
    },
    {
     "data": {
      "text/plain": [
       "\n",
       "Encamado el \u001b[1;36m100\u001b[0m%                                 \u001b[1;36m2220\u001b[0m\n",
       "Necesita ayuda para la mayoria de actividades     \u001b[1;36m620\u001b[0m\n",
       "Sintomas moderados                                \u001b[1;36m452\u001b[0m\n",
       "Sintomas leves                                    \u001b[1;36m417\u001b[0m\n",
       "Totalmente asintomatico                           \u001b[1;36m304\u001b[0m\n",
       "Name: ps_ecog_classification, dtype: int64"
      ]
     },
     "execution_count": 45,
     "metadata": {},
     "output_type": "execute_result"
    }
   ],
   "source": [
    "df_cleaned.ps_ecog_classification.value_counts()"
   ]
  },
  {
   "cell_type": "code",
   "execution_count": 46,
   "metadata": {},
   "outputs": [
    {
     "data": {
      "text/html": [
       "<pre style=\"white-space:pre;overflow-x:auto;line-height:normal;font-family:Menlo,'DejaVu Sans Mono',consolas,'Courier New',monospace\"></pre>\n"
      ],
      "text/plain": []
     },
     "metadata": {},
     "output_type": "display_data"
    },
    {
     "data": {
      "image/png": "[encoded data removed]",
      "text/plain": [
       "\u001b[1m<\u001b[0m\u001b[1;95mFigure\u001b[0m\u001b[39m size 150\u001b[0m\u001b[1;36m0x1000\u001b[0m\u001b[39m with \u001b[0m\u001b[1;36m2\u001b[0m\u001b[39m Axes\u001b[0m\u001b[1m>\u001b[0m"
      ]
     },
     "metadata": {},
     "output_type": "display_data"
    }
   ],
   "source": [
    "classification_group = df_cleaned.groupby('ps_ecog_classification')['ps_ecog'].value_counts().unstack().fillna(0)\n",
    "classification_group_sorted = classification_group[sorted(classification_group.columns, key=int)]\n",
    "classification_group_sorted\n",
    "\n",
    "plt.figure(figsize=(15, 10))\n",
    "sns.heatmap(classification_group_sorted, annot=True, cmap=\"YlGnBu\", fmt=\".0f\", cbar_kws={'label': 'Count'})\n",
    "\n",
    "plt.title('Classification of PS_ECOG Scores', fontsize=20)\n",
    "plt.xlabel('PS_ECOG Score', fontsize=15)\n",
    "plt.ylabel('Classification', fontsize=15)\n",
    "plt.xticks(fontsize=12)\n",
    "plt.yticks(fontsize=12, rotation=0)\n",
    "plt.show()"
   ]
  },
  {
   "cell_type": "code",
   "execution_count": 47,
   "metadata": {},
   "outputs": [
    {
     "data": {
      "text/html": [
       "<pre style=\"white-space:pre;overflow-x:auto;line-height:normal;font-family:Menlo,'DejaVu Sans Mono',consolas,'Courier New',monospace\"></pre>\n"
      ],
      "text/plain": []
     },
     "metadata": {},
     "output_type": "display_data"
    },
    {
     "data": {
      "text/plain": [
       "\n",
       "\u001b[1;35mIndex\u001b[0m\u001b[1m(\u001b[0m\u001b[1m[\u001b[0m\u001b[32m'h_procedencia'\u001b[0m, \u001b[32m's_procedencia'\u001b[0m, \u001b[32m'ap'\u001b[0m, \u001b[32m'otros'\u001b[0m, \u001b[32m'diagnostico'\u001b[0m,\n",
       "       \u001b[32m'motivo_ing'\u001b[0m, \u001b[32m'paliativo_onc_noc'\u001b[0m, \u001b[32m'paliativo_no_onc_noc'\u001b[0m, \u001b[32m'fiebre'\u001b[0m,\n",
       "       \u001b[32m'disnea'\u001b[0m, \u001b[32m'dolor'\u001b[0m, \u001b[32m'delirium'\u001b[0m, \u001b[32m'otros_1'\u001b[0m, \u001b[32m'p_terminal'\u001b[0m, \u001b[32m'agonia'\u001b[0m,\n",
       "       \u001b[32m'ps_ecog'\u001b[0m, \u001b[32m'barthel'\u001b[0m, \u001b[32m'gds_fast'\u001b[0m, \u001b[32m'eva_ing'\u001b[0m, \u001b[32m'otros_2'\u001b[0m,\n",
       "       \u001b[32m'otros_complicaciones'\u001b[0m, \u001b[32m'n_estancias'\u001b[0m, \u001b[32m'n_visitas'\u001b[0m, \u001b[32m'sedacion'\u001b[0m,\n",
       "       \u001b[32m'motivo_alta'\u001b[0m, \u001b[32m'medico'\u001b[0m, \u001b[32m'year'\u001b[0m, \u001b[32m'ast_anorx'\u001b[0m, \u001b[32m'agudo_estable'\u001b[0m,\n",
       "       \u001b[32m'cronico_reag'\u001b[0m, \u001b[32m'trato_antibiotico'\u001b[0m, \u001b[32m'transfusion'\u001b[0m, \u001b[32m'paracentesis'\u001b[0m,\n",
       "       \u001b[32m'toracocentesis'\u001b[0m, \u001b[32m'ayuntamiento'\u001b[0m, \u001b[32m'fecha_alta'\u001b[0m, \u001b[32m'fe_iv'\u001b[0m,\n",
       "       \u001b[32m'barthel_classification'\u001b[0m, \u001b[32m'ps_ecog_corrected'\u001b[0m, \u001b[32m'ps_ecog_classification'\u001b[0m,\n",
       "       \u001b[32m'gds_fast_classification'\u001b[0m\u001b[1m]\u001b[0m,\n",
       "      \u001b[33mdtype\u001b[0m=\u001b[32m'object'\u001b[0m\u001b[1m)\u001b[0m"
      ]
     },
     "execution_count": 47,
     "metadata": {},
     "output_type": "execute_result"
    }
   ],
   "source": [
    "df_cleaned.columns"
   ]
  },
  {
   "cell_type": "code",
   "execution_count": 48,
   "metadata": {},
   "outputs": [
    {
     "data": {
      "text/html": [
       "<pre style=\"white-space:pre;overflow-x:auto;line-height:normal;font-family:Menlo,'DejaVu Sans Mono',consolas,'Courier New',monospace\"></pre>\n"
      ],
      "text/plain": []
     },
     "metadata": {},
     "output_type": "display_data"
    },
    {
     "data": {
      "image/png": "[encoded data removed]",
      "text/plain": [
       "\u001b[1m<\u001b[0m\u001b[1;95mFigure\u001b[0m\u001b[39m size 150\u001b[0m\u001b[1;36m0x1000\u001b[0m\u001b[39m with \u001b[0m\u001b[1;36m2\u001b[0m\u001b[39m Axes\u001b[0m\u001b[1m>\u001b[0m"
      ]
     },
     "metadata": {},
     "output_type": "display_data"
    }
   ],
   "source": [
    "classification_group = df_cleaned.groupby('gds_fast_classification')['gds_fast'].value_counts().unstack().fillna(0)\n",
    "classification_group_sorted = classification_group[sorted(classification_group.columns, key=int)]\n",
    "classification_group_sorted\n",
    "\n",
    "plt.figure(figsize=(15, 10))\n",
    "sns.heatmap(classification_group_sorted, annot=True, cmap=\"YlGnBu\", fmt=\".0f\", cbar_kws={'label': 'Count'})\n",
    "\n",
    "plt.title('Classification of gds_fast Scores', fontsize=20)\n",
    "plt.xlabel('gds_fast Score', fontsize=15)\n",
    "plt.ylabel('Classification', fontsize=15)\n",
    "plt.xticks(fontsize=12)\n",
    "plt.yticks(fontsize=12, rotation=0)\n",
    "plt.show()"
   ]
  },
  {
   "cell_type": "code",
   "execution_count": 49,
   "metadata": {},
   "outputs": [
    {
     "data": {
      "text/html": [
       "<pre style=\"white-space:pre;overflow-x:auto;line-height:normal;font-family:Menlo,'DejaVu Sans Mono',consolas,'Courier New',monospace\"></pre>\n"
      ],
      "text/plain": []
     },
     "metadata": {},
     "output_type": "display_data"
    },
    {
     "data": {
      "image/png": "[encoded data removed]",
      "text/plain": [
       "\u001b[1m<\u001b[0m\u001b[1;95mFigure\u001b[0m\u001b[39m size 150\u001b[0m\u001b[1;36m0x1000\u001b[0m\u001b[39m with \u001b[0m\u001b[1;36m2\u001b[0m\u001b[39m Axes\u001b[0m\u001b[1m>\u001b[0m"
      ]
     },
     "metadata": {},
     "output_type": "display_data"
    },
    {
     "data": {
      "text/html": [
       "<pre style=\"white-space:pre;overflow-x:auto;line-height:normal;font-family:Menlo,'DejaVu Sans Mono',consolas,'Courier New',monospace\"></pre>\n"
      ],
      "text/plain": []
     },
     "metadata": {},
     "output_type": "display_data"
    },
    {
     "data": {
      "image/png": "[encoded data removed]",
      "text/plain": [
       "\u001b[1m<\u001b[0m\u001b[1;95mFigure\u001b[0m\u001b[39m size 150\u001b[0m\u001b[1;36m0x1000\u001b[0m\u001b[39m with \u001b[0m\u001b[1;36m2\u001b[0m\u001b[39m Axes\u001b[0m\u001b[1m>\u001b[0m"
      ]
     },
     "metadata": {},
     "output_type": "display_data"
    },
    {
     "data": {
      "text/html": [
       "<pre style=\"white-space:pre;overflow-x:auto;line-height:normal;font-family:Menlo,'DejaVu Sans Mono',consolas,'Courier New',monospace\"></pre>\n"
      ],
      "text/plain": []
     },
     "metadata": {},
     "output_type": "display_data"
    },
    {
     "data": {
      "image/png": "[encoded data removed]",
      "text/plain": [
       "\u001b[1m<\u001b[0m\u001b[1;95mFigure\u001b[0m\u001b[39m size 150\u001b[0m\u001b[1;36m0x1000\u001b[0m\u001b[39m with \u001b[0m\u001b[1;36m2\u001b[0m\u001b[39m Axes\u001b[0m\u001b[1m>\u001b[0m"
      ]
     },
     "metadata": {},
     "output_type": "display_data"
    }
   ],
   "source": [
    "def plot_classification_heatmap(df, classification_column, score_column):\n",
    "    # Agrupar por la columna de clasificación y contar los valores de la columna de puntuación\n",
    "    classification_group = df.groupby(classification_column)[score_column].value_counts().unstack().fillna(0)\n",
    "    \n",
    "    # Ordenar las columnas\n",
    "    classification_group_sorted = classification_group[sorted(classification_group.columns, key=int)]\n",
    "    \n",
    "    # Configurar el tamaño de la figura\n",
    "    plt.figure(figsize=(15, 10))\n",
    "    \n",
    "    # Crear el heatmap\n",
    "    sns.heatmap(classification_group_sorted, annot=True, cmap=\"YlGnBu\", fmt=\".0f\", cbar_kws={'label': 'Count'})\n",
    "    \n",
    "    # Configurar títulos y etiquetas\n",
    "    plt.title(f'Classification of {score_column} Scores', fontsize=20)\n",
    "    plt.xlabel(f'{score_column} Score', fontsize=15)\n",
    "    plt.ylabel('Classification', fontsize=15)\n",
    "    plt.xticks(fontsize=12)\n",
    "    plt.yticks(fontsize=12, rotation=0)\n",
    "    \n",
    "    # Mostrar el gráfico\n",
    "    plt.show()\n",
    "\n",
    "# Ejemplo de uso de la función con diferentes combinaciones de columnas\n",
    "plot_classification_heatmap(df_cleaned, 'barthel_classification', 'barthel')\n",
    "plot_classification_heatmap(df_cleaned, 'ps_ecog_classification', 'ps_ecog')\n",
    "plot_classification_heatmap(df_cleaned, 'gds_fast_classification', 'gds_fast')"
   ]
  },
  {
   "cell_type": "code",
   "execution_count": 50,
   "metadata": {},
   "outputs": [
    {
     "data": {
      "text/html": [
       "<pre style=\"white-space:pre;overflow-x:auto;line-height:normal;font-family:Menlo,'DejaVu Sans Mono',consolas,'Courier New',monospace\"><span style=\"color: #7fbfbf; text-decoration-color: #7fbfbf\">[10/23/23 23:36:02] </span><span style=\"color: #000080; text-decoration-color: #000080\">INFO    </span> Resolved project path as: c:\\Users\\Pablo                               <span style=\"color: #7f7f7f; text-decoration-color: #7f7f7f\">__init__.py:139</span>\n",
       "<span style=\"color: #7fbfbf; text-decoration-color: #7fbfbf\">                    </span>         Villar\\Desktop\\CURSOS\\KSchool\\Máster en Data                           <span style=\"color: #7f7f7f; text-decoration-color: #7f7f7f\">               </span>\n",
       "<span style=\"color: #7fbfbf; text-decoration-color: #7fbfbf\">                    </span>         Science\\TFM\\nuevo_entorno_kedro\\TFM_HADO_Cares\\hado.                   <span style=\"color: #7f7f7f; text-decoration-color: #7f7f7f\">               </span>\n",
       "<span style=\"color: #7fbfbf; text-decoration-color: #7fbfbf\">                    </span>         To set a different path, run <span style=\"color: #008000; text-decoration-color: #008000\">'%reload_kedro &lt;project_root&gt;'</span>            <span style=\"color: #7f7f7f; text-decoration-color: #7f7f7f\">               </span>\n",
       "</pre>\n"
      ],
      "text/plain": [
       "\u001b[2;36m[10/23/23 23:36:02]\u001b[0m\u001b[2;36m \u001b[0m\u001b[34mINFO    \u001b[0m Resolved project path as: c:\\Users\\Pablo                               \u001b[2m__init__.py\u001b[0m\u001b[2m:\u001b[0m\u001b[2m139\u001b[0m\n",
       "\u001b[2;36m                    \u001b[0m         Villar\\Desktop\\CURSOS\\KSchool\\Máster en Data                           \u001b[2m               \u001b[0m\n",
       "\u001b[2;36m                    \u001b[0m         Science\\TFM\\nuevo_entorno_kedro\\TFM_HADO_Cares\\hado.                   \u001b[2m               \u001b[0m\n",
       "\u001b[2;36m                    \u001b[0m         To set a different path, run \u001b[32m'%reload_kedro \u001b[0m\u001b[32m<\u001b[0m\u001b[32mproject_root\u001b[0m\u001b[32m>\u001b[0m\u001b[32m'\u001b[0m            \u001b[2m               \u001b[0m\n"
      ]
     },
     "metadata": {},
     "output_type": "display_data"
    },
    {
     "data": {
      "text/html": [
       "<pre style=\"white-space:pre;overflow-x:auto;line-height:normal;font-family:Menlo,'DejaVu Sans Mono',consolas,'Courier New',monospace\"><span style=\"color: #7fbfbf; text-decoration-color: #7fbfbf\">[10/23/23 23:36:02] </span><span style=\"color: #800000; text-decoration-color: #800000\">WARNING </span> c:\\Users\\Pablo Villar\\Desktop\\CURSOS\\KSchool\\Máster en Data            <span style=\"color: #7f7f7f; text-decoration-color: #7f7f7f\">warnings.py:109</span>\n",
       "<span style=\"color: #7fbfbf; text-decoration-color: #7fbfbf\">                    </span>         Science\\TFM\\nuevo_entorno_kedro\\TFM_HADO_Cares\\.venv\\lib\\site-packages <span style=\"color: #7f7f7f; text-decoration-color: #7f7f7f\">               </span>\n",
       "<span style=\"color: #7fbfbf; text-decoration-color: #7fbfbf\">                    </span>         \\kedro\\framework\\session\\session.py:<span style=\"color: #008080; text-decoration-color: #008080; font-weight: bold\">266</span>: FutureWarning: ConfigLoader   <span style=\"color: #7f7f7f; text-decoration-color: #7f7f7f\">               </span>\n",
       "<span style=\"color: #7fbfbf; text-decoration-color: #7fbfbf\">                    </span>         will be deprecated in Kedro <span style=\"color: #008080; text-decoration-color: #008080; font-weight: bold\">0.19</span>. Please use the OmegaConfigLoader     <span style=\"color: #7f7f7f; text-decoration-color: #7f7f7f\">               </span>\n",
       "<span style=\"color: #7fbfbf; text-decoration-color: #7fbfbf\">                    </span>         instead. To consult the documentation for OmegaConfigLoader, see here: <span style=\"color: #7f7f7f; text-decoration-color: #7f7f7f\">               </span>\n",
       "<span style=\"color: #7fbfbf; text-decoration-color: #7fbfbf\">                    </span>         <span style=\"color: #0000ff; text-decoration-color: #0000ff; text-decoration: underline\">https://docs.kedro.org/en/stable/configuration/advanced_configuration.</span> <span style=\"color: #7f7f7f; text-decoration-color: #7f7f7f\">               </span>\n",
       "<span style=\"color: #7fbfbf; text-decoration-color: #7fbfbf\">                    </span>         <span style=\"color: #0000ff; text-decoration-color: #0000ff; text-decoration: underline\">html#omegaconfigloader</span>                                                 <span style=\"color: #7f7f7f; text-decoration-color: #7f7f7f\">               </span>\n",
       "<span style=\"color: #7fbfbf; text-decoration-color: #7fbfbf\">                    </span>           <span style=\"color: #800080; text-decoration-color: #800080; font-weight: bold\">warnings.warn</span><span style=\"font-weight: bold\">(</span>                                                       <span style=\"color: #7f7f7f; text-decoration-color: #7f7f7f\">               </span>\n",
       "<span style=\"color: #7fbfbf; text-decoration-color: #7fbfbf\">                    </span>                                                                                <span style=\"color: #7f7f7f; text-decoration-color: #7f7f7f\">               </span>\n",
       "</pre>\n"
      ],
      "text/plain": [
       "\u001b[2;36m[10/23/23 23:36:02]\u001b[0m\u001b[2;36m \u001b[0m\u001b[31mWARNING \u001b[0m c:\\Users\\Pablo Villar\\Desktop\\CURSOS\\KSchool\\Máster en Data            \u001b[2mwarnings.py\u001b[0m\u001b[2m:\u001b[0m\u001b[2m109\u001b[0m\n",
       "\u001b[2;36m                    \u001b[0m         Science\\TFM\\nuevo_entorno_kedro\\TFM_HADO_Cares\\.venv\\lib\\site-packages \u001b[2m               \u001b[0m\n",
       "\u001b[2;36m                    \u001b[0m         \\kedro\\framework\\session\\session.py:\u001b[1;36m266\u001b[0m: FutureWarning: ConfigLoader   \u001b[2m               \u001b[0m\n",
       "\u001b[2;36m                    \u001b[0m         will be deprecated in Kedro \u001b[1;36m0.19\u001b[0m. Please use the OmegaConfigLoader     \u001b[2m               \u001b[0m\n",
       "\u001b[2;36m                    \u001b[0m         instead. To consult the documentation for OmegaConfigLoader, see here: \u001b[2m               \u001b[0m\n",
       "\u001b[2;36m                    \u001b[0m         \u001b[4;94mhttps://docs.kedro.org/en/stable/configuration/advanced_configuration.\u001b[0m \u001b[2m               \u001b[0m\n",
       "\u001b[2;36m                    \u001b[0m         \u001b[4;94mhtml#omegaconfigloader\u001b[0m                                                 \u001b[2m               \u001b[0m\n",
       "\u001b[2;36m                    \u001b[0m           \u001b[1;35mwarnings.warn\u001b[0m\u001b[1m(\u001b[0m                                                       \u001b[2m               \u001b[0m\n",
       "\u001b[2;36m                    \u001b[0m                                                                                \u001b[2m               \u001b[0m\n"
      ]
     },
     "metadata": {},
     "output_type": "display_data"
    },
    {
     "data": {
      "text/html": [
       "<pre style=\"white-space:pre;overflow-x:auto;line-height:normal;font-family:Menlo,'DejaVu Sans Mono',consolas,'Courier New',monospace\"><span style=\"color: #7fbfbf; text-decoration-color: #7fbfbf\">                    </span><span style=\"color: #800000; text-decoration-color: #800000\">WARNING </span> c:\\Users\\Pablo Villar\\Desktop\\CURSOS\\KSchool\\Máster en Data            <span style=\"color: #7f7f7f; text-decoration-color: #7f7f7f\">warnings.py:109</span>\n",
       "<span style=\"color: #7fbfbf; text-decoration-color: #7fbfbf\">                    </span>         Science\\TFM\\nuevo_entorno_kedro\\TFM_HADO_Cares\\.venv\\lib\\site-packages <span style=\"color: #7f7f7f; text-decoration-color: #7f7f7f\">               </span>\n",
       "<span style=\"color: #7fbfbf; text-decoration-color: #7fbfbf\">                    </span>         \\kedro\\io\\data_catalog.py:<span style=\"color: #008080; text-decoration-color: #008080; font-weight: bold\">300</span>: FutureWarning: Defining the <span style=\"color: #008000; text-decoration-color: #008000\">'layer'</span>     <span style=\"color: #7f7f7f; text-decoration-color: #7f7f7f\">               </span>\n",
       "<span style=\"color: #7fbfbf; text-decoration-color: #7fbfbf\">                    </span>         attribute at the top level is deprecated and will be removed in Kedro  <span style=\"color: #7f7f7f; text-decoration-color: #7f7f7f\">               </span>\n",
       "<span style=\"color: #7fbfbf; text-decoration-color: #7fbfbf\">                    </span>         <span style=\"color: #008080; text-decoration-color: #008080; font-weight: bold\">0.19</span>.<span style=\"color: #008080; text-decoration-color: #008080; font-weight: bold\">0</span>. Please move <span style=\"color: #008000; text-decoration-color: #008000\">'layer'</span> inside the <span style=\"color: #008000; text-decoration-color: #008000\">'metadata'</span> -&gt; <span style=\"color: #008000; text-decoration-color: #008000\">'kedro-viz'</span>       <span style=\"color: #7f7f7f; text-decoration-color: #7f7f7f\">               </span>\n",
       "<span style=\"color: #7fbfbf; text-decoration-color: #7fbfbf\">                    </span>         attributes. See                                                        <span style=\"color: #7f7f7f; text-decoration-color: #7f7f7f\">               </span>\n",
       "<span style=\"color: #7fbfbf; text-decoration-color: #7fbfbf\">                    </span>         <span style=\"color: #0000ff; text-decoration-color: #0000ff; text-decoration: underline\">https://docs.kedro.org/en/latest/visualisation/kedro-viz_visualisation</span> <span style=\"color: #7f7f7f; text-decoration-color: #7f7f7f\">               </span>\n",
       "<span style=\"color: #7fbfbf; text-decoration-color: #7fbfbf\">                    </span>         <span style=\"color: #0000ff; text-decoration-color: #0000ff; text-decoration: underline\">.html#visualise-layers</span> for more information.                           <span style=\"color: #7f7f7f; text-decoration-color: #7f7f7f\">               </span>\n",
       "<span style=\"color: #7fbfbf; text-decoration-color: #7fbfbf\">                    </span>           <span style=\"color: #800080; text-decoration-color: #800080; font-weight: bold\">warnings.warn</span><span style=\"font-weight: bold\">(</span>                                                       <span style=\"color: #7f7f7f; text-decoration-color: #7f7f7f\">               </span>\n",
       "<span style=\"color: #7fbfbf; text-decoration-color: #7fbfbf\">                    </span>                                                                                <span style=\"color: #7f7f7f; text-decoration-color: #7f7f7f\">               </span>\n",
       "</pre>\n"
      ],
      "text/plain": [
       "\u001b[2;36m                   \u001b[0m\u001b[2;36m \u001b[0m\u001b[31mWARNING \u001b[0m c:\\Users\\Pablo Villar\\Desktop\\CURSOS\\KSchool\\Máster en Data            \u001b[2mwarnings.py\u001b[0m\u001b[2m:\u001b[0m\u001b[2m109\u001b[0m\n",
       "\u001b[2;36m                    \u001b[0m         Science\\TFM\\nuevo_entorno_kedro\\TFM_HADO_Cares\\.venv\\lib\\site-packages \u001b[2m               \u001b[0m\n",
       "\u001b[2;36m                    \u001b[0m         \\kedro\\io\\data_catalog.py:\u001b[1;36m300\u001b[0m: FutureWarning: Defining the \u001b[32m'layer'\u001b[0m     \u001b[2m               \u001b[0m\n",
       "\u001b[2;36m                    \u001b[0m         attribute at the top level is deprecated and will be removed in Kedro  \u001b[2m               \u001b[0m\n",
       "\u001b[2;36m                    \u001b[0m         \u001b[1;36m0.19\u001b[0m.\u001b[1;36m0\u001b[0m. Please move \u001b[32m'layer'\u001b[0m inside the \u001b[32m'metadata'\u001b[0m -> \u001b[32m'kedro-viz'\u001b[0m       \u001b[2m               \u001b[0m\n",
       "\u001b[2;36m                    \u001b[0m         attributes. See                                                        \u001b[2m               \u001b[0m\n",
       "\u001b[2;36m                    \u001b[0m         \u001b[4;94mhttps://docs.kedro.org/en/latest/visualisation/kedro-viz_visualisation\u001b[0m \u001b[2m               \u001b[0m\n",
       "\u001b[2;36m                    \u001b[0m         \u001b[4;94m.html#visualise-layers\u001b[0m for more information.                           \u001b[2m               \u001b[0m\n",
       "\u001b[2;36m                    \u001b[0m           \u001b[1;35mwarnings.warn\u001b[0m\u001b[1m(\u001b[0m                                                       \u001b[2m               \u001b[0m\n",
       "\u001b[2;36m                    \u001b[0m                                                                                \u001b[2m               \u001b[0m\n"
      ]
     },
     "metadata": {},
     "output_type": "display_data"
    },
    {
     "data": {
      "text/html": [
       "<pre style=\"white-space:pre;overflow-x:auto;line-height:normal;font-family:Menlo,'DejaVu Sans Mono',consolas,'Courier New',monospace\"><span style=\"color: #7fbfbf; text-decoration-color: #7fbfbf\">                    </span><span style=\"color: #000080; text-decoration-color: #000080\">INFO    </span> Kedro project hado                                                     <span style=\"color: #7f7f7f; text-decoration-color: #7f7f7f\">__init__.py:108</span>\n",
       "</pre>\n"
      ],
      "text/plain": [
       "\u001b[2;36m                   \u001b[0m\u001b[2;36m \u001b[0m\u001b[34mINFO    \u001b[0m Kedro project hado                                                     \u001b[2m__init__.py\u001b[0m\u001b[2m:\u001b[0m\u001b[2m108\u001b[0m\n"
      ]
     },
     "metadata": {},
     "output_type": "display_data"
    },
    {
     "data": {
      "text/html": [
       "<pre style=\"white-space:pre;overflow-x:auto;line-height:normal;font-family:Menlo,'DejaVu Sans Mono',consolas,'Courier New',monospace\"><span style=\"color: #7fbfbf; text-decoration-color: #7fbfbf\">                    </span><span style=\"color: #000080; text-decoration-color: #000080\">INFO    </span> Defined global variable <span style=\"color: #008000; text-decoration-color: #008000\">'context'</span>, <span style=\"color: #008000; text-decoration-color: #008000\">'session'</span>, <span style=\"color: #008000; text-decoration-color: #008000\">'catalog'</span> and            <span style=\"color: #7f7f7f; text-decoration-color: #7f7f7f\">__init__.py:109</span>\n",
       "<span style=\"color: #7fbfbf; text-decoration-color: #7fbfbf\">                    </span>         <span style=\"color: #008000; text-decoration-color: #008000\">'pipelines'</span>                                                            <span style=\"color: #7f7f7f; text-decoration-color: #7f7f7f\">               </span>\n",
       "</pre>\n"
      ],
      "text/plain": [
       "\u001b[2;36m                   \u001b[0m\u001b[2;36m \u001b[0m\u001b[34mINFO    \u001b[0m Defined global variable \u001b[32m'context'\u001b[0m, \u001b[32m'session'\u001b[0m, \u001b[32m'catalog'\u001b[0m and            \u001b[2m__init__.py\u001b[0m\u001b[2m:\u001b[0m\u001b[2m109\u001b[0m\n",
       "\u001b[2;36m                    \u001b[0m         \u001b[32m'pipelines'\u001b[0m                                                            \u001b[2m               \u001b[0m\n"
      ]
     },
     "metadata": {},
     "output_type": "display_data"
    },
    {
     "data": {
      "text/html": [
       "<pre style=\"white-space:pre;overflow-x:auto;line-height:normal;font-family:Menlo,'DejaVu Sans Mono',consolas,'Courier New',monospace\"><span style=\"color: #7fbfbf; text-decoration-color: #7fbfbf\">                    </span><span style=\"color: #000080; text-decoration-color: #000080\">INFO    </span> Registered line magic <span style=\"color: #008000; text-decoration-color: #008000\">'run_viz'</span>                                        <span style=\"color: #7f7f7f; text-decoration-color: #7f7f7f\">__init__.py:115</span>\n",
       "</pre>\n"
      ],
      "text/plain": [
       "\u001b[2;36m                   \u001b[0m\u001b[2;36m \u001b[0m\u001b[34mINFO    \u001b[0m Registered line magic \u001b[32m'run_viz'\u001b[0m                                        \u001b[2m__init__.py\u001b[0m\u001b[2m:\u001b[0m\u001b[2m115\u001b[0m\n"
      ]
     },
     "metadata": {},
     "output_type": "display_data"
    }
   ],
   "source": [
    "%reload_ext kedro.ipython"
   ]
  },
  {
   "cell_type": "markdown",
   "metadata": {},
   "source": [
    "Check con el dataset final"
   ]
  },
  {
   "cell_type": "code",
   "execution_count": 51,
   "metadata": {},
   "outputs": [
    {
     "data": {
      "text/html": [
       "<pre style=\"white-space:pre;overflow-x:auto;line-height:normal;font-family:Menlo,'DejaVu Sans Mono',consolas,'Courier New',monospace\"><span style=\"color: #7fbfbf; text-decoration-color: #7fbfbf\">[10/23/23 23:36:03] </span><span style=\"color: #000080; text-decoration-color: #000080\">INFO    </span> Loading data from <span style=\"color: #008000; text-decoration-color: #008000\">'hado_final'</span> <span style=\"font-weight: bold\">(</span>CSVDataSet<span style=\"font-weight: bold\">)</span><span style=\"color: #808000; text-decoration-color: #808000\">...</span>                     <span style=\"color: #7f7f7f; text-decoration-color: #7f7f7f\">data_catalog.py:492</span>\n",
       "</pre>\n"
      ],
      "text/plain": [
       "\u001b[2;36m[10/23/23 23:36:03]\u001b[0m\u001b[2;36m \u001b[0m\u001b[34mINFO    \u001b[0m Loading data from \u001b[32m'hado_final'\u001b[0m \u001b[1m(\u001b[0mCSVDataSet\u001b[1m)\u001b[0m\u001b[33m...\u001b[0m                     \u001b[2mdata_catalog.py\u001b[0m\u001b[2m:\u001b[0m\u001b[2m492\u001b[0m\n"
      ]
     },
     "metadata": {},
     "output_type": "display_data"
    }
   ],
   "source": [
    "df = catalog.load('hado_final')"
   ]
  },
  {
   "cell_type": "code",
   "execution_count": 52,
   "metadata": {},
   "outputs": [
    {
     "data": {
      "text/html": [
       "<pre style=\"white-space:pre;overflow-x:auto;line-height:normal;font-family:Menlo,'DejaVu Sans Mono',consolas,'Courier New',monospace\"></pre>\n"
      ],
      "text/plain": []
     },
     "metadata": {},
     "output_type": "display_data"
    },
    {
     "data": {
      "text/plain": [
       "\n",
       "\u001b[1;35mIndex\u001b[0m\u001b[1m(\u001b[0m\u001b[1m[\u001b[0m\u001b[32m'h_procedencia'\u001b[0m, \u001b[32m'hospital_category'\u001b[0m, \u001b[32m's_procedencia'\u001b[0m,\n",
       "       \u001b[32m'procedencia_category'\u001b[0m, \u001b[32m'diagnostico'\u001b[0m, \u001b[32m'diagnosis_category'\u001b[0m,\n",
       "       \u001b[32m'motivo_ing'\u001b[0m, \u001b[32m'ingreso_category'\u001b[0m, \u001b[32m'motivo_alta'\u001b[0m, \u001b[32m'alta_category'\u001b[0m,\n",
       "       \u001b[32m'fecha_alta'\u001b[0m, \u001b[32m'ap'\u001b[0m, \u001b[32m'n_estancias'\u001b[0m, \u001b[32m'n_visitas'\u001b[0m, \u001b[32m'paliativo_onc_noc'\u001b[0m,\n",
       "       \u001b[32m'paliativo_no_onc_noc'\u001b[0m, \u001b[32m'fiebre'\u001b[0m, \u001b[32m'disnea'\u001b[0m, \u001b[32m'dolor'\u001b[0m, \u001b[32m'delirium'\u001b[0m,\n",
       "       \u001b[32m'sedacion'\u001b[0m, \u001b[32m'p_terminal'\u001b[0m, \u001b[32m'agonia'\u001b[0m, \u001b[32m'ast_anorx'\u001b[0m, \u001b[32m'cronico_reag'\u001b[0m,\n",
       "       \u001b[32m'trato_antibiotico'\u001b[0m, \u001b[32m'transfusion'\u001b[0m, \u001b[32m'paracentesis'\u001b[0m, \u001b[32m'agudo_estable'\u001b[0m,\n",
       "       \u001b[32m'toracocentesis'\u001b[0m, \u001b[32m'fe_iv'\u001b[0m, \u001b[32m'ps_ecog'\u001b[0m, \u001b[32m'ps_ecog_classification'\u001b[0m,\n",
       "       \u001b[32m'barthel'\u001b[0m, \u001b[32m'barthel_classification'\u001b[0m, \u001b[32m'gds_fast'\u001b[0m,\n",
       "       \u001b[32m'gds_fast_classification'\u001b[0m, \u001b[32m'eva_ing'\u001b[0m, \u001b[32m'otros_complicaciones'\u001b[0m, \u001b[32m'otros'\u001b[0m,\n",
       "       \u001b[32m'otros_1'\u001b[0m, \u001b[32m'otros_2'\u001b[0m, \u001b[32m'otros_category'\u001b[0m, \u001b[32m'categorized_combined_otros'\u001b[0m,\n",
       "       \u001b[32m'tiene_sedacion'\u001b[0m, \u001b[32m'morfina'\u001b[0m, \u001b[32m'midazolam'\u001b[0m, \u001b[32m'buscapina'\u001b[0m, \u001b[32m'haloperidol'\u001b[0m,\n",
       "       \u001b[32m'levomepromazina'\u001b[0m, \u001b[32m'medico'\u001b[0m, \u001b[32m'ayuntamiento'\u001b[0m, \u001b[32m'year'\u001b[0m, \u001b[32m'latitude'\u001b[0m,\n",
       "       \u001b[32m'longitude'\u001b[0m\u001b[1m]\u001b[0m,\n",
       "      \u001b[33mdtype\u001b[0m=\u001b[32m'object'\u001b[0m\u001b[1m)\u001b[0m"
      ]
     },
     "execution_count": 52,
     "metadata": {},
     "output_type": "execute_result"
    }
   ],
   "source": [
    "df.columns"
   ]
  },
  {
   "cell_type": "code",
   "execution_count": 53,
   "metadata": {},
   "outputs": [
    {
     "data": {
      "text/html": [
       "<pre style=\"white-space:pre;overflow-x:auto;line-height:normal;font-family:Menlo,'DejaVu Sans Mono',consolas,'Courier New',monospace\"></pre>\n"
      ],
      "text/plain": []
     },
     "metadata": {},
     "output_type": "display_data"
    },
    {
     "data": {
      "text/plain": [
       "\n",
       "Encamado el \u001b[1;36m100\u001b[0m%                                 \u001b[1;36m2220\u001b[0m\n",
       "Necesita ayuda para la mayoria de actividades     \u001b[1;36m620\u001b[0m\n",
       "Sintomas moderados                                \u001b[1;36m452\u001b[0m\n",
       "Sintomas leves                                    \u001b[1;36m417\u001b[0m\n",
       "Totalmente asintomatico                           \u001b[1;36m304\u001b[0m\n",
       "Name: ps_ecog_classification, dtype: int64"
      ]
     },
     "execution_count": 53,
     "metadata": {},
     "output_type": "execute_result"
    }
   ],
   "source": [
    "df.ps_ecog_classification.value_counts()"
   ]
  },
  {
   "cell_type": "code",
   "execution_count": 54,
   "metadata": {},
   "outputs": [
    {
     "data": {
      "text/html": [
       "<pre style=\"white-space:pre;overflow-x:auto;line-height:normal;font-family:Menlo,'DejaVu Sans Mono',consolas,'Courier New',monospace\"></pre>\n"
      ],
      "text/plain": []
     },
     "metadata": {},
     "output_type": "display_data"
    },
    {
     "data": {
      "text/plain": [
       "\n",
       "Dependencia total            \u001b[1;36m1855\u001b[0m\n",
       "Dependencia severa            \u001b[1;36m723\u001b[0m\n",
       "Dependencia leve o minima     \u001b[1;36m582\u001b[0m\n",
       "Dependencia moderada          \u001b[1;36m500\u001b[0m\n",
       "Independencia                 \u001b[1;36m353\u001b[0m\n",
       "Name: barthel_classification, dtype: int64"
      ]
     },
     "execution_count": 54,
     "metadata": {},
     "output_type": "execute_result"
    }
   ],
   "source": [
    "df.barthel_classification.value_counts()"
   ]
  },
  {
   "cell_type": "code",
   "execution_count": 55,
   "metadata": {},
   "outputs": [
    {
     "data": {
      "text/html": [
       "<pre style=\"white-space:pre;overflow-x:auto;line-height:normal;font-family:Menlo,'DejaVu Sans Mono',consolas,'Courier New',monospace\"></pre>\n"
      ],
      "text/plain": []
     },
     "metadata": {},
     "output_type": "display_data"
    },
    {
     "data": {
      "text/plain": [
       "\n",
       "No realizado o desconocido               \u001b[1;36m3171\u001b[0m\n",
       "Deficit cognitivo muy grave               \u001b[1;36m437\u001b[0m\n",
       "Deficit cognitivo moderadamente grave     \u001b[1;36m129\u001b[0m\n",
       "Deficit cognitivo grave                    \u001b[1;36m98\u001b[0m\n",
       "Deficit cognitivo moderado                 \u001b[1;36m70\u001b[0m\n",
       "Deficit cognitivo leve                     \u001b[1;36m63\u001b[0m\n",
       "Deficit cognitivo muy leve                 \u001b[1;36m39\u001b[0m\n",
       "Ausencia de deficit cognitivo               \u001b[1;36m6\u001b[0m\n",
       "Name: gds_fast_classification, dtype: int64"
      ]
     },
     "execution_count": 55,
     "metadata": {},
     "output_type": "execute_result"
    }
   ],
   "source": [
    "df.gds_fast_classification.value_counts()"
   ]
  },
  {
   "cell_type": "code",
   "execution_count": null,
   "metadata": {},
   "outputs": [],
   "source": []
  }
 ],
 "metadata": {
  "kernelspec": {
   "display_name": "nuevo_entorno_kedro",
   "language": "python",
   "name": "python3"
  },
  "language_info": {
   "codemirror_mode": {
    "name": "ipython",
    "version": 3
   },
   "file_extension": ".py",
   "mimetype": "text/x-python",
   "name": "python",
   "nbconvert_exporter": "python",
   "pygments_lexer": "ipython3",
   "version": "3.10.0"
  },
  "orig_nbformat": 4
 },
 "nbformat": 4,
 "nbformat_minor": 2
}
