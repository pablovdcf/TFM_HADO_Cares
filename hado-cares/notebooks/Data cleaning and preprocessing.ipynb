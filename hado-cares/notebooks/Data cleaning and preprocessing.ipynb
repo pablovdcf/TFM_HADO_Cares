{
 "cells": [
  {
   "cell_type": "code",
   "execution_count": 2,
   "metadata": {},
   "outputs": [
    {
     "data": {
      "text/plain": [
       "['hado_22',\n",
       " 'hado_21',\n",
       " 'hado_20',\n",
       " 'hado_19',\n",
       " 'hado_18',\n",
       " 'hado_17',\n",
       " 'parameters']"
      ]
     },
     "execution_count": 2,
     "metadata": {},
     "output_type": "execute_result"
    }
   ],
   "source": [
    "catalog.list()"
   ]
  },
  {
   "cell_type": "code",
   "execution_count": 3,
   "metadata": {},
   "outputs": [
    {
     "data": {
      "text/html": [
       "<pre style=\"white-space:pre;overflow-x:auto;line-height:normal;font-family:Menlo,'DejaVu Sans Mono',consolas,'Courier New',monospace\"><span style=\"color: #7fbfbf; text-decoration-color: #7fbfbf\">[04/03/23 18:02:56] </span><span style=\"color: #000080; text-decoration-color: #000080\">INFO    </span> Loading data from <span style=\"color: #008000; text-decoration-color: #008000\">'hado_22'</span> <span style=\"font-weight: bold\">(</span>ODSDataSet<span style=\"font-weight: bold\">)</span><span style=\"color: #808000; text-decoration-color: #808000\">...</span>                        <span style=\"color: #7f7f7f; text-decoration-color: #7f7f7f\">data_catalog.py:343</span>\n",
       "</pre>\n"
      ],
      "text/plain": [
       "\u001b[2;36m[04/03/23 18:02:56]\u001b[0m\u001b[2;36m \u001b[0m\u001b[34mINFO    \u001b[0m Loading data from \u001b[32m'hado_22'\u001b[0m \u001b[1m(\u001b[0mODSDataSet\u001b[1m)\u001b[0m\u001b[33m...\u001b[0m                        \u001b[2mdata_catalog.py\u001b[0m\u001b[2m:\u001b[0m\u001b[2m343\u001b[0m\n"
      ]
     },
     "metadata": {},
     "output_type": "display_data"
    },
    {
     "data": {
      "text/html": [
       "<pre style=\"white-space:pre;overflow-x:auto;line-height:normal;font-family:Menlo,'DejaVu Sans Mono',consolas,'Courier New',monospace\"><span style=\"color: #7fbfbf; text-decoration-color: #7fbfbf\">                    </span><span style=\"color: #000080; text-decoration-color: #000080\">INFO    </span> Loading data from <span style=\"color: #008000; text-decoration-color: #008000\">'hado_21'</span> <span style=\"font-weight: bold\">(</span>ODSDataSet<span style=\"font-weight: bold\">)</span><span style=\"color: #808000; text-decoration-color: #808000\">...</span>                        <span style=\"color: #7f7f7f; text-decoration-color: #7f7f7f\">data_catalog.py:343</span>\n",
       "</pre>\n"
      ],
      "text/plain": [
       "\u001b[2;36m                   \u001b[0m\u001b[2;36m \u001b[0m\u001b[34mINFO    \u001b[0m Loading data from \u001b[32m'hado_21'\u001b[0m \u001b[1m(\u001b[0mODSDataSet\u001b[1m)\u001b[0m\u001b[33m...\u001b[0m                        \u001b[2mdata_catalog.py\u001b[0m\u001b[2m:\u001b[0m\u001b[2m343\u001b[0m\n"
      ]
     },
     "metadata": {},
     "output_type": "display_data"
    },
    {
     "data": {
      "text/html": [
       "<pre style=\"white-space:pre;overflow-x:auto;line-height:normal;font-family:Menlo,'DejaVu Sans Mono',consolas,'Courier New',monospace\"><span style=\"color: #7fbfbf; text-decoration-color: #7fbfbf\">[04/03/23 18:02:57] </span><span style=\"color: #000080; text-decoration-color: #000080\">INFO    </span> Loading data from <span style=\"color: #008000; text-decoration-color: #008000\">'hado_20'</span> <span style=\"font-weight: bold\">(</span>ODSDataSet<span style=\"font-weight: bold\">)</span><span style=\"color: #808000; text-decoration-color: #808000\">...</span>                        <span style=\"color: #7f7f7f; text-decoration-color: #7f7f7f\">data_catalog.py:343</span>\n",
       "</pre>\n"
      ],
      "text/plain": [
       "\u001b[2;36m[04/03/23 18:02:57]\u001b[0m\u001b[2;36m \u001b[0m\u001b[34mINFO    \u001b[0m Loading data from \u001b[32m'hado_20'\u001b[0m \u001b[1m(\u001b[0mODSDataSet\u001b[1m)\u001b[0m\u001b[33m...\u001b[0m                        \u001b[2mdata_catalog.py\u001b[0m\u001b[2m:\u001b[0m\u001b[2m343\u001b[0m\n"
      ]
     },
     "metadata": {},
     "output_type": "display_data"
    },
    {
     "data": {
      "text/html": [
       "<pre style=\"white-space:pre;overflow-x:auto;line-height:normal;font-family:Menlo,'DejaVu Sans Mono',consolas,'Courier New',monospace\"><span style=\"color: #7fbfbf; text-decoration-color: #7fbfbf\">                    </span><span style=\"color: #000080; text-decoration-color: #000080\">INFO    </span> Loading data from <span style=\"color: #008000; text-decoration-color: #008000\">'hado_19'</span> <span style=\"font-weight: bold\">(</span>ODSDataSet<span style=\"font-weight: bold\">)</span><span style=\"color: #808000; text-decoration-color: #808000\">...</span>                        <span style=\"color: #7f7f7f; text-decoration-color: #7f7f7f\">data_catalog.py:343</span>\n",
       "</pre>\n"
      ],
      "text/plain": [
       "\u001b[2;36m                   \u001b[0m\u001b[2;36m \u001b[0m\u001b[34mINFO    \u001b[0m Loading data from \u001b[32m'hado_19'\u001b[0m \u001b[1m(\u001b[0mODSDataSet\u001b[1m)\u001b[0m\u001b[33m...\u001b[0m                        \u001b[2mdata_catalog.py\u001b[0m\u001b[2m:\u001b[0m\u001b[2m343\u001b[0m\n"
      ]
     },
     "metadata": {},
     "output_type": "display_data"
    },
    {
     "data": {
      "text/html": [
       "<pre style=\"white-space:pre;overflow-x:auto;line-height:normal;font-family:Menlo,'DejaVu Sans Mono',consolas,'Courier New',monospace\"><span style=\"color: #7fbfbf; text-decoration-color: #7fbfbf\">[04/03/23 18:02:58] </span><span style=\"color: #000080; text-decoration-color: #000080\">INFO    </span> Loading data from <span style=\"color: #008000; text-decoration-color: #008000\">'hado_18'</span> <span style=\"font-weight: bold\">(</span>ODSDataSet<span style=\"font-weight: bold\">)</span><span style=\"color: #808000; text-decoration-color: #808000\">...</span>                        <span style=\"color: #7f7f7f; text-decoration-color: #7f7f7f\">data_catalog.py:343</span>\n",
       "</pre>\n"
      ],
      "text/plain": [
       "\u001b[2;36m[04/03/23 18:02:58]\u001b[0m\u001b[2;36m \u001b[0m\u001b[34mINFO    \u001b[0m Loading data from \u001b[32m'hado_18'\u001b[0m \u001b[1m(\u001b[0mODSDataSet\u001b[1m)\u001b[0m\u001b[33m...\u001b[0m                        \u001b[2mdata_catalog.py\u001b[0m\u001b[2m:\u001b[0m\u001b[2m343\u001b[0m\n"
      ]
     },
     "metadata": {},
     "output_type": "display_data"
    },
    {
     "data": {
      "text/html": [
       "<pre style=\"white-space:pre;overflow-x:auto;line-height:normal;font-family:Menlo,'DejaVu Sans Mono',consolas,'Courier New',monospace\"><span style=\"color: #7fbfbf; text-decoration-color: #7fbfbf\">                    </span><span style=\"color: #000080; text-decoration-color: #000080\">INFO    </span> Loading data from <span style=\"color: #008000; text-decoration-color: #008000\">'hado_17'</span> <span style=\"font-weight: bold\">(</span>ODSDataSet<span style=\"font-weight: bold\">)</span><span style=\"color: #808000; text-decoration-color: #808000\">...</span>                        <span style=\"color: #7f7f7f; text-decoration-color: #7f7f7f\">data_catalog.py:343</span>\n",
       "</pre>\n"
      ],
      "text/plain": [
       "\u001b[2;36m                   \u001b[0m\u001b[2;36m \u001b[0m\u001b[34mINFO    \u001b[0m Loading data from \u001b[32m'hado_17'\u001b[0m \u001b[1m(\u001b[0mODSDataSet\u001b[1m)\u001b[0m\u001b[33m...\u001b[0m                        \u001b[2mdata_catalog.py\u001b[0m\u001b[2m:\u001b[0m\u001b[2m343\u001b[0m\n"
      ]
     },
     "metadata": {},
     "output_type": "display_data"
    }
   ],
   "source": [
    "df_22 = catalog.load('hado_22')\n",
    "df_21 = catalog.load('hado_21')\n",
    "df_20 = catalog.load('hado_20')\n",
    "df_19 = catalog.load('hado_19')\n",
    "df_18 = catalog.load('hado_18')\n",
    "df_17 = catalog.load('hado_17')"
   ]
  },
  {
   "cell_type": "code",
   "execution_count": 4,
   "metadata": {},
   "outputs": [
    {
     "data": {
      "text/html": [
       "<div>\n",
       "<style scoped>\n",
       "    .dataframe tbody tr th:only-of-type {\n",
       "        vertical-align: middle;\n",
       "    }\n",
       "\n",
       "    .dataframe tbody tr th {\n",
       "        vertical-align: top;\n",
       "    }\n",
       "\n",
       "    .dataframe thead th {\n",
       "        text-align: right;\n",
       "    }\n",
       "</style>\n",
       "<table border=\"1\" class=\"dataframe\">\n",
       "  <thead>\n",
       "    <tr style=\"text-align: right;\">\n",
       "      <th></th>\n",
       "      <th>Hospital</th>\n",
       "      <th>Servicio</th>\n",
       "      <th>AP</th>\n",
       "      <th>Otros</th>\n",
       "      <th>Diagnostico</th>\n",
       "      <th>Motivo Ing</th>\n",
       "      <th>paliativo Onc</th>\n",
       "      <th>Paliativo No Onc</th>\n",
       "      <th>Fiebre</th>\n",
       "      <th>Disnea</th>\n",
       "      <th>...</th>\n",
       "      <th>GDS-FAST</th>\n",
       "      <th>EVA ing</th>\n",
       "      <th>Otros.2</th>\n",
       "      <th>Complicaciones</th>\n",
       "      <th>Nº estancias</th>\n",
       "      <th>Nº visitas</th>\n",
       "      <th>SEDACIÓN</th>\n",
       "      <th>Mot. ALTA</th>\n",
       "      <th>Médico</th>\n",
       "      <th>unnamed.1</th>\n",
       "    </tr>\n",
       "  </thead>\n",
       "  <tbody>\n",
       "    <tr>\n",
       "      <th>0</th>\n",
       "      <td>gil casares</td>\n",
       "      <td>upal</td>\n",
       "      <td>no</td>\n",
       "      <td>no</td>\n",
       "      <td>ca orl</td>\n",
       "      <td>contro d sintomas</td>\n",
       "      <td>si</td>\n",
       "      <td>si</td>\n",
       "      <td>no</td>\n",
       "      <td>no</td>\n",
       "      <td>...</td>\n",
       "      <td>no</td>\n",
       "      <td>no</td>\n",
       "      <td>no</td>\n",
       "      <td>reingreso en urgencias</td>\n",
       "      <td>21.0</td>\n",
       "      <td>10.0</td>\n",
       "      <td>no</td>\n",
       "      <td>reingreso</td>\n",
       "      <td>valdes</td>\n",
       "      <td>NaN</td>\n",
       "    </tr>\n",
       "    <tr>\n",
       "      <th>1</th>\n",
       "      <td>clinico</td>\n",
       "      <td>ONC</td>\n",
       "      <td>no</td>\n",
       "      <td>no</td>\n",
       "      <td>Melanoma vulvar</td>\n",
       "      <td>mal control dolor</td>\n",
       "      <td>si</td>\n",
       "      <td>no</td>\n",
       "      <td>no</td>\n",
       "      <td>no</td>\n",
       "      <td>...</td>\n",
       "      <td>no</td>\n",
       "      <td>no</td>\n",
       "      <td>no</td>\n",
       "      <td>met. pulmonares y digest</td>\n",
       "      <td>24.0</td>\n",
       "      <td>8.0</td>\n",
       "      <td>no</td>\n",
       "      <td>exitus</td>\n",
       "      <td>galego feal</td>\n",
       "      <td>NaN</td>\n",
       "    </tr>\n",
       "    <tr>\n",
       "      <th>2</th>\n",
       "      <td>clinico</td>\n",
       "      <td>MIR</td>\n",
       "      <td>no</td>\n",
       "      <td>no</td>\n",
       "      <td>ca broncogenico</td>\n",
       "      <td>control evolutivo</td>\n",
       "      <td>si</td>\n",
       "      <td>si</td>\n",
       "      <td>no</td>\n",
       "      <td>si</td>\n",
       "      <td>...</td>\n",
       "      <td>no</td>\n",
       "      <td>no</td>\n",
       "      <td>no</td>\n",
       "      <td>no</td>\n",
       "      <td>14.0</td>\n",
       "      <td>6.0</td>\n",
       "      <td>no</td>\n",
       "      <td>fin de cuidados</td>\n",
       "      <td>lopez renedo.</td>\n",
       "      <td>NaN</td>\n",
       "    </tr>\n",
       "    <tr>\n",
       "      <th>3</th>\n",
       "      <td>clinico</td>\n",
       "      <td>DIG</td>\n",
       "      <td>no</td>\n",
       "      <td>no</td>\n",
       "      <td>cirrosis hepatica</td>\n",
       "      <td>admininistacion octreotido</td>\n",
       "      <td>no</td>\n",
       "      <td>no</td>\n",
       "      <td>no</td>\n",
       "      <td>no</td>\n",
       "      <td>...</td>\n",
       "      <td>no</td>\n",
       "      <td>no</td>\n",
       "      <td>no</td>\n",
       "      <td>no</td>\n",
       "      <td>1.0</td>\n",
       "      <td>1.0</td>\n",
       "      <td>no</td>\n",
       "      <td>fin de cuidados</td>\n",
       "      <td>lopez renedo.</td>\n",
       "      <td>NaN</td>\n",
       "    </tr>\n",
       "    <tr>\n",
       "      <th>4</th>\n",
       "      <td>clinico</td>\n",
       "      <td>URG</td>\n",
       "      <td>no</td>\n",
       "      <td>no</td>\n",
       "      <td>neplasia de mama estadio IV</td>\n",
       "      <td>control de sintomas</td>\n",
       "      <td>si</td>\n",
       "      <td>no</td>\n",
       "      <td>no</td>\n",
       "      <td>si</td>\n",
       "      <td>...</td>\n",
       "      <td>no</td>\n",
       "      <td>7.0</td>\n",
       "      <td>no</td>\n",
       "      <td>no</td>\n",
       "      <td>2.0</td>\n",
       "      <td>1.0</td>\n",
       "      <td>no</td>\n",
       "      <td>exitus</td>\n",
       "      <td>lopez renedo.</td>\n",
       "      <td>NaN</td>\n",
       "    </tr>\n",
       "  </tbody>\n",
       "</table>\n",
       "<p>5 rows × 29 columns</p>\n",
       "</div>"
      ],
      "text/plain": [
       "      Hospital Servicio  AP Otros                  Diagnostico  \\\n",
       "0  gil casares     upal  no    no                       ca orl   \n",
       "1      clinico      ONC  no    no              Melanoma vulvar   \n",
       "2      clinico      MIR  no    no              ca broncogenico   \n",
       "3      clinico      DIG  no    no            cirrosis hepatica   \n",
       "4      clinico      URG  no    no  neplasia de mama estadio IV   \n",
       "\n",
       "                   Motivo Ing  paliativo Onc Paliativo No Onc Fiebre Disnea  \\\n",
       "0           contro d sintomas             si               si     no     no   \n",
       "1           mal control dolor             si               no     no     no   \n",
       "2           control evolutivo             si               si     no     si   \n",
       "3  admininistacion octreotido             no               no     no     no   \n",
       "4         control de sintomas             si               no     no     si   \n",
       "\n",
       "   ... GDS-FAST EVA ing Otros.2            Complicaciones Nº estancias  \\\n",
       "0  ...       no      no      no    reingreso en urgencias         21.0   \n",
       "1  ...       no      no      no  met. pulmonares y digest         24.0   \n",
       "2  ...       no      no      no                        no         14.0   \n",
       "3  ...       no      no      no                        no          1.0   \n",
       "4  ...       no     7.0      no                        no          2.0   \n",
       "\n",
       "  Nº visitas SEDACIÓN        Mot. ALTA         Médico unnamed.1  \n",
       "0       10.0       no       reingreso          valdes       NaN  \n",
       "1        8.0       no           exitus    galego feal       NaN  \n",
       "2        6.0       no  fin de cuidados  lopez renedo.       NaN  \n",
       "3        1.0       no  fin de cuidados  lopez renedo.       NaN  \n",
       "4        1.0       no           exitus  lopez renedo.       NaN  \n",
       "\n",
       "[5 rows x 29 columns]"
      ]
     },
     "execution_count": 4,
     "metadata": {},
     "output_type": "execute_result"
    }
   ],
   "source": [
    "df_17.head()"
   ]
  },
  {
   "cell_type": "code",
   "execution_count": null,
   "metadata": {},
   "outputs": [],
   "source": []
  }
 ],
 "metadata": {
  "kernelspec": {
   "display_name": "Kedro (hado_cares)",
   "language": "python",
   "name": "kedro_hado_cares"
  },
  "language_info": {
   "codemirror_mode": {
    "name": "ipython",
    "version": 3
   },
   "file_extension": ".py",
   "mimetype": "text/x-python",
   "name": "python",
   "nbconvert_exporter": "python",
   "pygments_lexer": "ipython3",
   "version": "3.10.0"
  }
 },
 "nbformat": 4,
 "nbformat_minor": 2
}
